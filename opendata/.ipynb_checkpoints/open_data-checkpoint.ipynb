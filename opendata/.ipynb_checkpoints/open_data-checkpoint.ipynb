{
 "cells": [
  {
   "cell_type": "markdown",
   "metadata": {},
   "source": [
    "# First version load data + registration script\n",
    "13-02-2022"
   ]
  },
  {
   "cell_type": "markdown",
   "metadata": {},
   "source": [
    "## Importing and displaying the data"
   ]
  },
  {
   "cell_type": "markdown",
   "metadata": {},
   "source": [
    "The idea is to use 10 patients as atlases (p102 to p125), 3 patients for validation (p127 to p129) and 2 for final independent test set (p133 & p135).\n",
    "\n",
    "The atlases are the moving images that we have to transform to align with the fixed image (validation images).\n",
    "\n",
    "Hence below I will do a first attempt at registering p102 as moving image to p127 as fixed image with a rigid transformation using Elastix.\n",
    "\n",
    "If I have acquired the transformation for p102 I will also apply the same transformation to the mask / segmentation of p102 and compare it to the actual mask of p127 to see how well the registration method performs."
   ]
  },
  {
   "cell_type": "code",
   "execution_count": 8,
   "metadata": {},
   "outputs": [],
   "source": [
    "# Import packages\n",
    "%matplotlib qt \n",
    "import SimpleITK as sitk\n",
    "from scrollview import ScrollView\n",
    "import numpy as np\n",
    "import matplotlib.pyplot as plt\n",
    "from IndexTracker import IndexTracker\n",
    "import imageio\n",
    "import elastix\n",
    "import os\n",
    "import itk"
   ]
  },
  {
   "cell_type": "code",
   "execution_count": 9,
   "metadata": {},
   "outputs": [],
   "source": [
    "# Create paths to elastix packages\n",
    "\n",
    "ELASTIX_PATH = 'C:\\\\Users\\\\20192024\\\\OneDrive - TU Eindhoven\\\\Documents\\\\Y4\\\\Q3\\\\Capita Selecta in Medical Image Analysis\\\\myfolder\\\\elastix.exe'\n",
    "TRANSFORMIX_PATH = 'C:\\\\Users\\\\20192024\\\\OneDrive - TU Eindhoven\\\\Documents\\\\Y4\\\\Q3\\\\Capita Selecta in Medical Image Analysis\\\\myfolder\\\\transformix.exe'\n",
    "\n",
    "\n",
    "if not os.path.exists(ELASTIX_PATH):\n",
    "    raise IOError('Elastix cannot be found, please set the correct ELASTIX_PATH.')\n",
    "\n",
    "if not os.path.exists(TRANSFORMIX_PATH):\n",
    "    raise IOError('Transformix cannot be found, please set the correct TRANSFORMIX_PATH.')\n",
    "    \n",
    "# Make a results directory if non exists\n",
    "if os.path.exists('results') is False:\n",
    "    os.mkdir('results')\n",
    "    \n",
    "\n"
   ]
  },
  {
   "cell_type": "markdown",
   "metadata": {},
   "source": [
    "### Atlas patient p102\n"
   ]
  },
  {
   "cell_type": "code",
   "execution_count": 10,
   "metadata": {},
   "outputs": [
    {
     "name": "stdout",
     "output_type": "stream",
     "text": [
      "(86, 333, 271)\n",
      "(86, 333, 271)\n"
     ]
    }
   ],
   "source": [
    "# Import the image and its segmentation for the atlas patient\n",
    "atlas_path = r\"C:\\\\Users\\\\20192024\\\\OneDrive - TU Eindhoven\\\\Documents\\\\Y4\\\\Q3\\\\Capita Selecta in Medical Image Analysis\\\\Project\\\\TrainingData\\\\p102\\\\mr_bffe.mhd\"\n",
    "itk_image102 = sitk.ReadImage(atlas_path)\n",
    "image_array102 = sitk.GetArrayViewFromImage(itk_image102)\n",
    "\n",
    "# Print the image dimensions\n",
    "print(image_array102.shape)\n",
    "\n",
    "atlas_seg_path = r\"C:\\\\Users\\\\20192024\\\\OneDrive - TU Eindhoven\\\\Documents\\\\Y4\\\\Q3\\\\Capita Selecta in Medical Image Analysis\\\\Project\\\\TrainingData\\\\p102\\\\prostaat.mhd\"\n",
    "itk_image_seg = sitk.ReadImage(atlas_seg_path)\n",
    "segmentation102 = sitk.GetArrayViewFromImage(itk_image_seg)\n",
    "\n",
    "# Print the image dimensions\n",
    "print(segmentation102.shape)"
   ]
  },
  {
   "cell_type": "code",
   "execution_count": null,
   "metadata": {},
   "outputs": [],
   "source": [
    "# Show the image\n",
    "fig, ax = plt.subplots(1, 2)\n",
    "tracker1 = IndexTracker(ax[0], image_array102);\n",
    "tracker2 = IndexTracker(ax[1], segmentation102);\n",
    "fig.canvas.mpl_connect('scroll_event', tracker1.onscroll);\n",
    "fig.canvas.mpl_connect('scroll_event', tracker2.onscroll);\n",
    "\n",
    "plt.show()"
   ]
  },
  {
   "cell_type": "markdown",
   "metadata": {},
   "source": [
    "### Validation patient p127"
   ]
  },
  {
   "cell_type": "code",
   "execution_count": 11,
   "metadata": {},
   "outputs": [
    {
     "name": "stdout",
     "output_type": "stream",
     "text": [
      "(86, 333, 271)\n",
      "(86, 333, 271)\n"
     ]
    }
   ],
   "source": [
    "# Import the image and its segmentation for the atlas patient\n",
    "validation_path = r\"C:\\\\Users\\\\20192024\\\\OneDrive - TU Eindhoven\\\\Documents\\\\Y4\\\\Q3\\\\Capita Selecta in Medical Image Analysis\\\\Project\\\\TrainingData\\\\p127\\\\mr_bffe.mhd\"\n",
    "itk_image = sitk.ReadImage(validation_path)\n",
    "image_array127 = sitk.GetArrayViewFromImage(itk_image)\n",
    "\n",
    "# Print the image dimensions\n",
    "print(image_array127.shape)\n",
    "\n",
    "validation_seg_path = r\"C:\\\\Users\\\\20192024\\\\OneDrive - TU Eindhoven\\\\Documents\\\\Y4\\\\Q3\\\\Capita Selecta in Medical Image Analysis\\\\Project\\\\TrainingData\\\\p127\\\\prostaat.mhd\"\n",
    "itk_image_seg = sitk.ReadImage(validation_seg_path)\n",
    "segmentation127 = sitk.GetArrayViewFromImage(itk_image_seg)\n",
    "\n",
    "# Print the image dimensions\n",
    "print(segmentation127.shape)"
   ]
  },
  {
   "cell_type": "code",
   "execution_count": null,
   "metadata": {},
   "outputs": [],
   "source": [
    "# Show the image\n",
    "fig, ax = plt.subplots(1, 2)\n",
    "tracker1 = IndexTracker(ax[0], image_array127);\n",
    "tracker2 = IndexTracker(ax[1], segmentation127);\n",
    "fig.canvas.mpl_connect('scroll_event', tracker1.onscroll);\n",
    "fig.canvas.mpl_connect('scroll_event', tracker2.onscroll);\n",
    "\n",
    "\n",
    "plt.show()"
   ]
  },
  {
   "cell_type": "markdown",
   "metadata": {},
   "source": [
    "## Perform the registration"
   ]
  },
  {
   "cell_type": "markdown",
   "metadata": {},
   "source": [
    "### Rigid registration"
   ]
  },
  {
   "cell_type": "code",
   "execution_count": null,
   "metadata": {},
   "outputs": [],
   "source": [
    "fixed_image = image_array127\n",
    "moving_image = image_array102\n",
    "\n",
    "# Import Default Parameter Map\n",
    "parameter_object = itk.ParameterObject.New()\n",
    "default_rigid_parameter_map = parameter_object.GetDefaultParameterMap('rigid')\n",
    "parameter_object.AddParameterMap(default_rigid_parameter_map)"
   ]
  },
  {
   "cell_type": "code",
   "execution_count": null,
   "metadata": {},
   "outputs": [],
   "source": [
    "# Call registration function\n",
    "result_image, result_transform_parameters = itk.elastix_registration_method(\n",
    "    fixed_image, moving_image,\n",
    "    parameter_object=parameter_object,\n",
    "    log_to_console=True)"
   ]
  },
  {
   "cell_type": "code",
   "execution_count": null,
   "metadata": {},
   "outputs": [],
   "source": [
    "%matplotlib inline\n",
    "\n",
    "# Plot images\n",
    "fig, axs = plt.subplots(1,3, sharey=True, figsize=[30,30])\n",
    "plt.figsize=[100,100]\n",
    "axs[0].imshow(result_image)\n",
    "axs[0].set_title('Result', fontsize=30)\n",
    "axs[1].imshow(fixed_image)\n",
    "axs[1].set_title('Fixed', fontsize=30)\n",
    "axs[2].imshow(moving_image)\n",
    "axs[2].set_title('Moving', fontsize=30)\n",
    "plt.show()"
   ]
  },
  {
   "cell_type": "markdown",
   "metadata": {},
   "source": [
    "### B-spline registration"
   ]
  },
  {
   "cell_type": "code",
   "execution_count": 12,
   "metadata": {},
   "outputs": [
    {
     "name": "stdout",
     "output_type": "stream",
     "text": [
      "C:\\Users\\20192024\\OneDrive - TU Eindhoven\\Documents\\Y4\\Q3\\Capita Selecta in Medical Image Analysis\\myfolder\\elastix.exe -f ../../TrainingData/p127/mr_bffe.mhd -m ../../TrainingData/p102/mr_bffe.mhd -p C:\\\\Users\\\\20192024\\\\OneDrive - TU Eindhoven\\\\Documents\\\\Y4\\\\Q3\\\\Capita Selecta in Medical Image Analysis\\\\Project\\\\CapitaSelectaCode\\\\opendata\\\\parameter_files\\\\parameters_bspline.txt -out results\n"
     ]
    },
    {
     "ename": "ElastixError",
     "evalue": "Elastix crashed with code 1 for command 'C:\\Users\\20192024\\OneDrive - TU Eindhoven\\Documents\\Y4\\Q3\\Capita Selecta in Medical Image Analysis\\myfolder\\elastix.exe -f ../../TrainingData/p127/mr_bffe.mhd -m ../../TrainingData/p102/mr_bffe.mhd -p C:\\\\Users\\\\20192024\\\\OneDrive - TU Eindhoven\\\\Documents\\\\Y4\\\\Q3\\\\Capita Selecta in Medical Image Analysis\\\\Project\\\\CapitaSelectaCode\\\\opendata\\\\parameter_files\\\\parameters_bspline.txt -out results'.",
     "output_type": "error",
     "traceback": [
      "\u001b[1;31m---------------------------------------------------------------------------\u001b[0m",
      "\u001b[1;31mElastixError\u001b[0m                              Traceback (most recent call last)",
      "\u001b[1;32m<ipython-input-12-ea0fcb509007>\u001b[0m in \u001b[0;36m<module>\u001b[1;34m()\u001b[0m\n\u001b[0;32m      8\u001b[0m     \u001b[0mmoving_image\u001b[0m\u001b[1;33m=\u001b[0m\u001b[1;34m'../../TrainingData/p102/mr_bffe.mhd'\u001b[0m\u001b[1;33m,\u001b[0m\u001b[1;33m\u001b[0m\u001b[0m\n\u001b[0;32m      9\u001b[0m     \u001b[0mparameters\u001b[0m \u001b[1;33m=\u001b[0m \u001b[1;33m[\u001b[0m\u001b[1;34mr\"C:\\\\Users\\\\20192024\\\\OneDrive - TU Eindhoven\\\\Documents\\\\Y4\\\\Q3\\\\Capita Selecta in Medical Image Analysis\\\\Project\\\\CapitaSelectaCode\\\\opendata\\\\parameter_files\\\\parameters_bspline.txt\"\u001b[0m\u001b[1;33m]\u001b[0m\u001b[1;33m,\u001b[0m\u001b[1;33m\u001b[0m\u001b[0m\n\u001b[1;32m---> 10\u001b[1;33m     output_dir=\"results\");\n\u001b[0m\u001b[0;32m     11\u001b[0m \u001b[1;33m\u001b[0m\u001b[0m\n\u001b[0;32m     12\u001b[0m \u001b[1;31m# Find the results\u001b[0m\u001b[1;33m\u001b[0m\u001b[1;33m\u001b[0m\u001b[0m\n",
      "\u001b[1;32m~\\Anaconda3\\envs\\my_env\\lib\\site-packages\\elastix\\elastix_interface.py\u001b[0m in \u001b[0;36mregister\u001b[1;34m(self, parameters, fixed_image, moving_image, fixed_mask, moving_mask, fixed_points, moving_points, initial_transform, output_dir, verbose)\u001b[0m\n\u001b[0;32m    129\u001b[0m                             \u001b[0mfixed_mask\u001b[0m\u001b[1;33m,\u001b[0m \u001b[0mmoving_mask\u001b[0m\u001b[1;33m,\u001b[0m\u001b[1;33m\u001b[0m\u001b[0m\n\u001b[0;32m    130\u001b[0m                             initial_transform)\n\u001b[1;32m--> 131\u001b[1;33m         \u001b[0mself\u001b[0m\u001b[1;33m.\u001b[0m\u001b[0m_execute\u001b[0m\u001b[1;33m(\u001b[0m\u001b[0mcmd\u001b[0m\u001b[1;33m,\u001b[0m \u001b[0mverbose\u001b[0m\u001b[1;33m)\u001b[0m\u001b[1;33m\u001b[0m\u001b[0m\n\u001b[0m\u001b[0;32m    132\u001b[0m \u001b[1;33m\u001b[0m\u001b[0m\n\u001b[0;32m    133\u001b[0m \u001b[1;33m\u001b[0m\u001b[0m\n",
      "\u001b[1;32m~\\Anaconda3\\envs\\my_env\\lib\\site-packages\\elastix\\elastix_interface.py\u001b[0m in \u001b[0;36m_execute\u001b[1;34m(self, command, verbose)\u001b[0m\n\u001b[0;32m    100\u001b[0m         \u001b[1;31m# Check if succesful\u001b[0m\u001b[1;33m\u001b[0m\u001b[1;33m\u001b[0m\u001b[0m\n\u001b[0;32m    101\u001b[0m         \u001b[1;32mif\u001b[0m \u001b[0mproc\u001b[0m\u001b[1;33m.\u001b[0m\u001b[0mreturncode\u001b[0m \u001b[1;33m!=\u001b[0m \u001b[1;36m0\u001b[0m\u001b[1;33m:\u001b[0m\u001b[1;33m\u001b[0m\u001b[0m\n\u001b[1;32m--> 102\u001b[1;33m             \u001b[1;32mraise\u001b[0m \u001b[0mElastixError\u001b[0m\u001b[1;33m(\u001b[0m\u001b[0mproc\u001b[0m\u001b[1;33m.\u001b[0m\u001b[0mreturncode\u001b[0m\u001b[1;33m,\u001b[0m \u001b[1;34m' '\u001b[0m\u001b[1;33m.\u001b[0m\u001b[0mjoin\u001b[0m\u001b[1;33m(\u001b[0m\u001b[0mcommand\u001b[0m\u001b[1;33m)\u001b[0m\u001b[1;33m)\u001b[0m\u001b[1;33m\u001b[0m\u001b[0m\n\u001b[0m\u001b[0;32m    103\u001b[0m         \u001b[0mlogger\u001b[0m\u001b[1;33m.\u001b[0m\u001b[0minfo\u001b[0m\u001b[1;33m(\u001b[0m\u001b[1;34m'Finished command '\u001b[0m \u001b[1;33m+\u001b[0m \u001b[1;34m' '\u001b[0m\u001b[1;33m.\u001b[0m\u001b[0mjoin\u001b[0m\u001b[1;33m(\u001b[0m\u001b[0mcommand\u001b[0m\u001b[1;33m)\u001b[0m\u001b[1;33m)\u001b[0m\u001b[1;33m\u001b[0m\u001b[0m\n\u001b[0;32m    104\u001b[0m \u001b[1;33m\u001b[0m\u001b[0m\n",
      "\u001b[1;31mElastixError\u001b[0m: Elastix crashed with code 1 for command 'C:\\Users\\20192024\\OneDrive - TU Eindhoven\\Documents\\Y4\\Q3\\Capita Selecta in Medical Image Analysis\\myfolder\\elastix.exe -f ../../TrainingData/p127/mr_bffe.mhd -m ../../TrainingData/p102/mr_bffe.mhd -p C:\\\\Users\\\\20192024\\\\OneDrive - TU Eindhoven\\\\Documents\\\\Y4\\\\Q3\\\\Capita Selecta in Medical Image Analysis\\\\Project\\\\CapitaSelectaCode\\\\opendata\\\\parameter_files\\\\parameters_bspline.txt -out results'."
     ]
    }
   ],
   "source": [
    "# Define a new elastix object 'el' with the correct path to elastix\n",
    "\n",
    "el = elastix.ElastixInterface(elastix_path=ELASTIX_PATH)\n",
    "\n",
    "# Register the two images\n",
    "el.register(\n",
    "    fixed_image='../../TrainingData/p127/mr_bffe.mhd',\n",
    "    moving_image='../../TrainingData/p102/mr_bffe.mhd',\n",
    "    parameters = [r\"C:\\\\Users\\\\20192024\\\\OneDrive - TU Eindhoven\\\\Documents\\\\Y4\\\\Q3\\\\Capita Selecta in Medical Image Analysis\\\\Project\\\\CapitaSelectaCode\\\\opendata\\\\parameter_files\\\\parameters_bspline.txt\"],\n",
    "    output_dir=\"results\");\n",
    "\n",
    "# Find the results\n",
    "transform_path = os.path.join('results', 'TransformParameters.0.txt');\n",
    "result_path = os.path.join('results', 'result.0.mhd');\n",
    "\n",
    "# Visualize results\n",
    "itk_image = sitk.ReadImage(result_path)\n",
    "image_array =sitk.GetArrayFromImage(itk_image)\n",
    "plt.imshow(image_array,cmap='gray'); \n",
    "\n",
    "plt.title(\"B-spline registration, no penalty term\")"
   ]
  },
  {
   "cell_type": "code",
   "execution_count": null,
   "metadata": {},
   "outputs": [],
   "source": []
  }
 ],
 "metadata": {
  "kernelspec": {
   "display_name": "Python 3",
   "language": "python",
   "name": "python3"
  },
  "language_info": {
   "codemirror_mode": {
    "name": "ipython",
    "version": 3
   },
   "file_extension": ".py",
   "mimetype": "text/x-python",
   "name": "python",
   "nbconvert_exporter": "python",
   "pygments_lexer": "ipython3",
   "version": "3.6.5"
  },
  "vscode": {
   "interpreter": {
    "hash": "1b2d04736fb75a40522735d249c0e7ba218649b9575c64ba1feaa5f2dbf534fc"
   }
  }
 },
 "nbformat": 4,
 "nbformat_minor": 5
}
