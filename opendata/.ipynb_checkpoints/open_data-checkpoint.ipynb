{
 "cells": [
  {
   "cell_type": "markdown",
   "metadata": {},
   "source": [
    "# Registration\n",
    "\n",
    "Updated 22-02-2023\n",
    "\n",
    "Experimenting with transforming the mask and performing multiple transformations subsequently\n",
    "\n",
    "For now I only experimented with transforming one moving / atlas image (p102) towards one fixed / validation image (p135)"
   ]
  },
  {
   "cell_type": "markdown",
   "metadata": {},
   "source": [
    "## Importing and displaying the data"
   ]
  },
  {
   "cell_type": "markdown",
   "metadata": {},
   "source": [
    "The idea is to use 12 patients as atlases (p102 to p128), 3 patients for validation 129, 133, 135.\n",
    "The atlases are the moving images that we have to transform to align with the fixed image (validation images).\n",
    "\n",
    "Hence below I will do a first attempt at registering p102 as moving image to p135 as fixed image with a rigid transformation using Elastix.\n",
    "\n",
    "If I have acquired the transformation for p102 I will also apply the same transformation to the mask / segmentation of p102 and compare it to the actual mask of p135 to see how well the registration method performs."
   ]
  },
  {
   "cell_type": "code",
   "execution_count": 2,
   "metadata": {},
   "outputs": [],
   "source": [
    "# Import packages\n",
    "%matplotlib qt \n",
    "import SimpleITK as sitk\n",
    "from scrollview import ScrollView\n",
    "import numpy as np\n",
    "import matplotlib.pyplot as plt\n",
    "from IndexTracker import IndexTracker\n",
    "import imageio\n",
    "import elastix\n",
    "import os"
   ]
  },
  {
   "cell_type": "code",
   "execution_count": 3,
   "metadata": {},
   "outputs": [],
   "source": [
    "# Create paths to elastix packages\n",
    "\n",
    "ELASTIX_PATH = 'C:\\\\Users\\\\20192024\\\\OneDrive - TU Eindhoven\\\\Documents\\\\Y4\\\\Q3\\\\Capita Selecta in Medical Image Analysis\\\\myfolder\\\\elastix.exe'\n",
    "TRANSFORMIX_PATH = 'C:\\\\Users\\\\20192024\\\\OneDrive - TU Eindhoven\\\\Documents\\\\Y4\\\\Q3\\\\Capita Selecta in Medical Image Analysis\\\\myfolder\\\\transformix.exe'\n",
    "project_dir = '..\\..'\n",
    "\n",
    "parameter_files = '..\\Registration'\n",
    "\n",
    "if not os.path.exists(ELASTIX_PATH):\n",
    "    raise IOError('Elastix cannot be found, please set the correct ELASTIX_PATH.')\n",
    "\n",
    "if not os.path.exists(TRANSFORMIX_PATH):\n",
    "    raise IOError('Transformix cannot be found, please set the correct TRANSFORMIX_PATH.')\n",
    "    \n",
    "\n",
    "# Make a results directory if non exists\n",
    "if os.path.exists(os.path.join(project_dir, 'results')) is False:\n",
    "    os.mkdir(os.path.join(project_dir, 'results'))"
   ]
  },
  {
   "cell_type": "markdown",
   "metadata": {},
   "source": [
    "### Atlas patient p102\n"
   ]
  },
  {
   "cell_type": "code",
   "execution_count": 4,
   "metadata": {},
   "outputs": [],
   "source": [
    "# Define paths and load data\n",
    "data = '..\\..\\TrainingData'\n",
    "patients = os.listdir(data)\n",
    "\n",
    "# Import the image and its segmentation for the atlas patient 102\n",
    "# The following path will change if we loop through different patients (loop needs to be inserted here)\n",
    "at_patient = 'p102'\n",
    "atlas_path = os.path.join(data, at_patient)"
   ]
  },
  {
   "cell_type": "code",
   "execution_count": 5,
   "metadata": {},
   "outputs": [
    {
     "data": {
      "text/plain": [
       "'..\\\\..\\\\TrainingData\\\\p102'"
      ]
     },
     "execution_count": 5,
     "metadata": {},
     "output_type": "execute_result"
    }
   ],
   "source": [
    "atlas_path"
   ]
  },
  {
   "cell_type": "code",
   "execution_count": 4,
   "metadata": {},
   "outputs": [
    {
     "name": "stdout",
     "output_type": "stream",
     "text": [
      "(86, 333, 271)\n",
      "(86, 333, 271)\n"
     ]
    }
   ],
   "source": [
    "# Load image and segmentation of atlas patient / patients\n",
    "atlas_im_path = os.path.join(atlas_path, 'mr_bffe.mhd')\n",
    "itk_image102 = sitk.ReadImage(atlas_im_path)\n",
    "image_array102 = sitk.GetArrayViewFromImage(itk_image102)\n",
    "\n",
    "# Print the image dimensions\n",
    "print(image_array102.shape)\n",
    "\n",
    "atlas_seg_path = os.path.join(atlas_path, 'prostaat.mhd')\n",
    "itk_image_seg = sitk.ReadImage(atlas_seg_path)\n",
    "segmentation102 = sitk.GetArrayViewFromImage(itk_image_seg)\n",
    "\n",
    "# Print the image dimensions\n",
    "print(segmentation102.shape)"
   ]
  },
  {
   "cell_type": "code",
   "execution_count": null,
   "metadata": {},
   "outputs": [],
   "source": [
    "# Show the image\n",
    "fig, ax = plt.subplots(1, 2)\n",
    "tracker1 = IndexTracker(ax[0], image_array102);\n",
    "tracker2 = IndexTracker(ax[1], segmentation102);\n",
    "fig.canvas.mpl_connect('scroll_event', tracker1.onscroll);\n",
    "fig.canvas.mpl_connect('scroll_event', tracker2.onscroll);\n",
    "\n",
    "plt.show()"
   ]
  },
  {
   "cell_type": "markdown",
   "metadata": {},
   "source": [
    "### Validation patient p135"
   ]
  },
  {
   "cell_type": "code",
   "execution_count": 5,
   "metadata": {},
   "outputs": [],
   "source": [
    "# Import the image and its segmentation for the atlas patient\n",
    "val_patient = 'p135'\n",
    "validation_path = os.path.join(data, val_patient)\n",
    "\n",
    "validation_im_path = os.path.join(validation_path, 'mr_bffe.mhd')\n",
    "itk_image135 = sitk.ReadImage(validation_im_path)\n",
    "image_array135 = sitk.GetArrayViewFromImage(itk_image135)\n",
    "\n",
    "\n",
    "validation_seg_path = os.path.join(validation_path, 'prostaat.mhd')\n",
    "itk_image_seg = sitk.ReadImage(validation_seg_path)\n",
    "segmentation135 = sitk.GetArrayViewFromImage(itk_image_seg)"
   ]
  },
  {
   "cell_type": "code",
   "execution_count": null,
   "metadata": {},
   "outputs": [],
   "source": [
    "# Show the image\n",
    "fig, ax = plt.subplots(1, 2)\n",
    "tracker1 = IndexTracker(ax[0], image_array135);\n",
    "tracker2 = IndexTracker(ax[1], segmentation135);\n",
    "fig.canvas.mpl_connect('scroll_event', tracker1.onscroll);\n",
    "fig.canvas.mpl_connect('scroll_event', tracker2.onscroll);\n",
    "\n",
    "\n",
    "plt.show()"
   ]
  },
  {
   "cell_type": "markdown",
   "metadata": {},
   "source": [
    "## Perform the registration"
   ]
  },
  {
   "cell_type": "markdown",
   "metadata": {},
   "source": [
    "In the manual (p. 27) they say: Always start with a rigid or affine transformation before doing a nonrigid one, to get a good initial alignment."
   ]
  },
  {
   "cell_type": "markdown",
   "metadata": {},
   "source": [
    "### Translation & B-spline 64 registration with Par0001 parameter file (from ElastixZoo)"
   ]
  },
  {
   "cell_type": "code",
   "execution_count": 6,
   "metadata": {},
   "outputs": [
    {
     "name": "stdout",
     "output_type": "stream",
     "text": [
      "C:\\Users\\20192024\\OneDrive - TU Eindhoven\\Documents\\Y4\\Q3\\Capita Selecta in Medical Image Analysis\\myfolder\\elastix.exe -f ..\\..\\TrainingData\\p135\\mr_bffe.mhd -m ..\\..\\TrainingData\\p102\\mr_bffe.mhd -p ..\\Registration\\Par0001translation.txt -p ..\\Registration\\Par0001bspline64.txt -out ..\\..\\results\\p102\n"
     ]
    }
   ],
   "source": [
    "# Make atlas specific result directory\n",
    "if os.path.exists(os.path.join(project_dir, \"results\", at_patient)) is False:\n",
    "    os.mkdir(os.path.join(project_dir, \"results\", at_patient))\n",
    "res_path = os.path.join(project_dir, \"results\", at_patient)\n",
    "\n",
    "# Define a new elastix object 'el' with the correct path to elastix\n",
    "el = elastix.ElastixInterface(elastix_path=ELASTIX_PATH)\n",
    "\n",
    "moving = os.path.join(atlas_path, 'mr_bffe.mhd')\n",
    "fixed = os.path.join(validation_path, 'mr_bffe.mhd')\n",
    "\n",
    "moving_seg = os.path.join(atlas_path, 'prostaat.mhd')\n",
    "fixed_seg = os.path.join(validation_path, 'prostaat.mhd')\n",
    "\n",
    "parameter0 = os.path.join(parameter_files, 'Par0001translation.txt')\n",
    "parameter1 = os.path.join(parameter_files, 'Par0001bspline64.txt')\n",
    "# Register the two images\n",
    "\n",
    "el.register(\n",
    "    fixed_image=fixed,\n",
    "    moving_image=moving,\n",
    "    parameters = [parameter0, parameter1],\n",
    "    output_dir=res_path);\n",
    "\n",
    "if os.path.exists(os.path.join(res_path, \"mr_bffe\")) is False:\n",
    "    os.mkdir(os.path.join(res_path, \"mr_bffe\"))\n",
    "\n",
    "if os.path.exists(os.path.join(res_path, \"prostaat\")) is False:\n",
    "    os.mkdir(os.path.join(res_path, \"prostaat\"))\n"
   ]
  },
  {
   "cell_type": "markdown",
   "metadata": {},
   "source": [
    "### Solution to ripple problem"
   ]
  },
  {
   "cell_type": "markdown",
   "metadata": {},
   "source": [
    "[Here](https://github.com/SuperElastix/SimpleElastix/issues/251) they mention that in order to transform a binary mask, the parameter \"FinalBSplineInterpolationOrder\" must be set to 0 in transform parameter files (I think in the transform parameter files, because in the normal parameter files this is not necessary as we only use those for the images and not for the binary masks). Hence I have created two copies of the transform parameter files for translation and b spline (\"TransformParameters.1.binary.txt\") where I changed that parameter FinalBSplineInterpolationOrder from 3 to 0 and will thus do a separate transformation on the masks with those specific parameter files.\n",
    "\n",
    "Also, regarding combining transformations, I think the last transformparameters.txt (TransformParameters.1.txt) file has already incorporated the first transformation because when only using TransformParameters.1.txt the binary is mask is translated as well as deformed + in the Transform parameter files there is an option on how to combine transformations. The options are 'Add' (combine transformations by adding them) or 'Compose' (default, by composition)."
   ]
  },
  {
   "cell_type": "code",
   "execution_count": 7,
   "metadata": {},
   "outputs": [],
   "source": [
    "# Load transformation\n",
    "\n",
    "trans_parameters1 = os.path.join(res_path, \"TransformParameters.1.txt\")\n",
    "trans_parameters1_seg = os.path.join(res_path, \"TransformParameters.1.binary.txt\")\n",
    "\n",
    "# First transformation (= translation)\n",
    "\n",
    "tr = elastix.TransformixInterface(parameters=trans_parameters1, transformix_path=TRANSFORMIX_PATH)\n",
    "tr_seg = elastix.TransformixInterface(parameters=trans_parameters1_seg, transformix_path=TRANSFORMIX_PATH)\n",
    "\n",
    "tr.transform_image(moving, output_dir=os.path.join(res_path, \"mr_bffe\"))\n",
    "tr_seg.transform_image(moving_seg, output_dir=os.path.join(res_path, \"prostaat\"))\n",
    "\n",
    "# Intermediary result\n",
    "transformed_moving_image_0 = sitk.GetArrayFromImage(sitk.ReadImage(os.path.join(res_path, \"mr_bffe\", \"result.mhd\")))\n",
    "transformed_moving_label_0 = sitk.GetArrayFromImage(sitk.ReadImage(os.path.join(res_path, \"prostaat\", \"result.mhd\")))\n"
   ]
  },
  {
   "cell_type": "code",
   "execution_count": 13,
   "metadata": {},
   "outputs": [
    {
     "data": {
      "text/plain": [
       "(86, 333, 271)"
      ]
     },
     "execution_count": 13,
     "metadata": {},
     "output_type": "execute_result"
    }
   ],
   "source": [
    "transformed_moving_label_0.shape"
   ]
  },
  {
   "cell_type": "code",
   "execution_count": 14,
   "metadata": {},
   "outputs": [
    {
     "data": {
      "text/plain": [
       "2.6457513110645907"
      ]
     },
     "execution_count": 14,
     "metadata": {},
     "output_type": "execute_result"
    }
   ],
   "source": [
    "from scipy.spatial.distance import directed_hausdorff\n",
    "\n",
    "slices = transformed_moving_label_0.shape[0]\n",
    "\n",
    "\n",
    "directed_hausdorff(segmentation135[40], transformed_moving_label_0[40])[0]"
   ]
  },
  {
   "cell_type": "code",
   "execution_count": null,
   "metadata": {},
   "outputs": [],
   "source": [
    "# Show transformed images\n",
    "fig, ax = plt.subplots(1, 4)\n",
    "tracker1 = IndexTracker(ax[0], image_array135);\n",
    "tracker2 = IndexTracker(ax[1], segmentation135);\n",
    "tracker3 = IndexTracker(ax[2], transformed_moving_image_0);\n",
    "tracker4 = IndexTracker(ax[3], transformed_moving_label_0);\n",
    "fig.canvas.mpl_connect('scroll_event', tracker1.onscroll);\n",
    "fig.canvas.mpl_connect('scroll_event', tracker2.onscroll);\n",
    "fig.canvas.mpl_connect('scroll_event', tracker3.onscroll);\n",
    "fig.canvas.mpl_connect('scroll_event', tracker4.onscroll);\n",
    "\n",
    "ax[0].set_title(\"Fixed image\")\n",
    "ax[1].set_title(\"Fixed image segmentation\")\n",
    "ax[2].set_title(\"Transformed moving image\")\n",
    "ax[3].set_title(\"Transformed moving seg\")\n",
    "\n",
    "plt.show()"
   ]
  },
  {
   "cell_type": "code",
   "execution_count": null,
   "metadata": {},
   "outputs": [],
   "source": []
  },
  {
   "cell_type": "code",
   "execution_count": null,
   "metadata": {},
   "outputs": [],
   "source": []
  },
  {
   "cell_type": "code",
   "execution_count": null,
   "metadata": {},
   "outputs": [],
   "source": []
  },
  {
   "cell_type": "code",
   "execution_count": null,
   "metadata": {},
   "outputs": [],
   "source": []
  },
  {
   "cell_type": "markdown",
   "metadata": {},
   "source": [
    "### Previous stuff I tried (13-2-2023)"
   ]
  },
  {
   "cell_type": "code",
   "execution_count": null,
   "metadata": {},
   "outputs": [],
   "source": [
    "\n",
    "\n",
    "# Jacobian\n",
    "tr = elastix.TransformixInterface(parameters='results/TransformParameters.0.txt', transformix_path=TRANSFORMIX_PATH) \n",
    "jacobian_matrix_path = tr.jacobian_matrix(output_dir=r'results')\n",
    "jacobian_determinant_path = tr.jacobian_determinant(output_dir=r'results')\n",
    "\n",
    "jacobian_path = 'results/spatialJacobian.mhd'\n",
    "\n",
    "itk_image_jac = sitk.ReadImage(jacobian_path)\n",
    "image_array_jac =sitk.GetArrayFromImage(itk_image_jac)\n",
    "out = image_array_jac>0\n",
    "\n",
    "# Visualize results\n",
    "fig, ax = plt.subplots(1, 2)\n",
    "tracker1 = IndexTracker(ax[0], image_array);\n",
    "tracker2 = IndexTracker(ax[1], out);\n",
    "fig.canvas.mpl_connect('scroll_event', tracker1.onscroll);\n",
    "fig.canvas.mpl_connect('scroll_event', tracker2.onscroll);\n",
    "\n",
    "ax[0].set_title(\"B-spline registration, no penalty term\")\n",
    "ax[1].set_title(\"Corresponding Jacobian\")"
   ]
  },
  {
   "cell_type": "markdown",
   "metadata": {},
   "source": [
    "We see in the plot of the Jacobian that we have a lot of yellow, hence where the jacobian is negative / negative values and thus where we have folding. So this transformation on itself is not successful. "
   ]
  },
  {
   "cell_type": "markdown",
   "metadata": {},
   "source": [
    "### B-spline registration no multi-grid and with penalty"
   ]
  },
  {
   "cell_type": "code",
   "execution_count": null,
   "metadata": {},
   "outputs": [],
   "source": [
    "# Define a new elastix object 'el' with the correct path to elastix\n",
    "\n",
    "el = elastix.ElastixInterface(elastix_path=ELASTIX_PATH)\n",
    "\n",
    "\n",
    "# Register the two images\n",
    "el.register(\n",
    "    fixed_image='../../TrainingData/p127/mr_bffe.mhd',\n",
    "    moving_image='../../TrainingData/p102/mr_bffe.mhd',\n",
    "    parameters = [r\"C:\\\\Users\\\\20192024\\\\OneDrive - TU Eindhoven\\\\Documents\\\\Y4\\\\Q3\\\\Capita Selecta in Medical Image Analysis\\\\Project\\\\CapitaSelectaCode\\\\opendata\\\\parameter_files\\\\parameters_bspline_penalty.txt\"],\n",
    "    output_dir=\"results\");\n",
    "\n",
    "# Find the results\n",
    "transform_path = os.path.join('results', 'TransformParameters.0.txt');\n",
    "result_path = os.path.join('results', 'result.0.mhd');\n",
    "\n"
   ]
  },
  {
   "cell_type": "code",
   "execution_count": null,
   "metadata": {},
   "outputs": [],
   "source": [
    "# Load results\n",
    "# Resulting transformed image\n",
    "itk_image = sitk.ReadImage(result_path)\n",
    "image_array =sitk.GetArrayFromImage(itk_image)\n",
    "\n",
    "# Jacobian\n",
    "tr = elastix.TransformixInterface(parameters='results/TransformParameters.0.txt', transformix_path=TRANSFORMIX_PATH) \n",
    "jacobian_matrix_path = tr.jacobian_matrix(output_dir=r'results')\n",
    "jacobian_determinant_path = tr.jacobian_determinant(output_dir=r'results')\n",
    "\n",
    "jacobian_path = 'results/spatialJacobian.mhd'\n",
    "\n",
    "itk_image_jac = sitk.ReadImage(jacobian_path)\n",
    "image_array_jac =sitk.GetArrayFromImage(itk_image_jac)\n",
    "out = image_array_jac>0\n",
    "\n",
    "# Visualize results\n",
    "fig, ax = plt.subplots(1, 2)\n",
    "tracker1 = IndexTracker(ax[0], image_array);\n",
    "tracker2 = IndexTracker(ax[1], out);\n",
    "fig.canvas.mpl_connect('scroll_event', tracker1.onscroll);\n",
    "fig.canvas.mpl_connect('scroll_event', tracker2.onscroll);\n",
    "\n",
    "ax[0].set_title(\"B-spline registration, with penalty term\")\n",
    "ax[1].set_title(\"Corresponding Jacobian\")"
   ]
  },
  {
   "cell_type": "markdown",
   "metadata": {},
   "source": [
    "Plat transformed moving image next to fixed image"
   ]
  },
  {
   "cell_type": "code",
   "execution_count": null,
   "metadata": {},
   "outputs": [],
   "source": [
    "# Visualize results\n",
    "fig, ax = plt.subplots(1, 2)\n",
    "tracker1 = IndexTracker(ax[0], image_array);\n",
    "tracker2 = IndexTracker(ax[1], image_array127);\n",
    "fig.canvas.mpl_connect('scroll_event', tracker1.onscroll);\n",
    "fig.canvas.mpl_connect('scroll_event', tracker2.onscroll);\n",
    "\n",
    "ax[0].set_title(\"Transformed moving image with Bspline and penalty (p102)\")\n",
    "ax[1].set_title(\"Fixed image (p127)\")\n",
    "\n",
    "\n"
   ]
  },
  {
   "cell_type": "markdown",
   "metadata": {},
   "source": [
    "## Affine registration followed by B-spline (with penalty, multi-resolution, no multi-grid)\n",
    "\n",
    "They mention in the manual that using multi-grid might improve our results but I still have to experiment with that"
   ]
  },
  {
   "cell_type": "code",
   "execution_count": null,
   "metadata": {},
   "outputs": [],
   "source": []
  },
  {
   "cell_type": "code",
   "execution_count": null,
   "metadata": {},
   "outputs": [],
   "source": []
  },
  {
   "cell_type": "code",
   "execution_count": null,
   "metadata": {},
   "outputs": [],
   "source": []
  },
  {
   "cell_type": "code",
   "execution_count": null,
   "metadata": {},
   "outputs": [],
   "source": []
  },
  {
   "cell_type": "markdown",
   "metadata": {},
   "source": [
    "### Rigid registration (aborted for now)"
   ]
  },
  {
   "cell_type": "code",
   "execution_count": null,
   "metadata": {},
   "outputs": [],
   "source": [
    "fixed_image = image_array127\n",
    "moving_image = image_array102\n",
    "\n",
    "# Import Default Parameter Map\n",
    "parameter_object = itk.ParameterObject.New()\n",
    "default_rigid_parameter_map = parameter_object.GetDefaultParameterMap('rigid')\n",
    "parameter_object.AddParameterMap(default_rigid_parameter_map)"
   ]
  },
  {
   "cell_type": "code",
   "execution_count": null,
   "metadata": {},
   "outputs": [],
   "source": [
    "# Call registration function\n",
    "result_image, result_transform_parameters = itk.elastix_registration_method(\n",
    "    fixed_image, moving_image,\n",
    "    parameter_object=parameter_object,\n",
    "    log_to_console=True)"
   ]
  },
  {
   "cell_type": "code",
   "execution_count": null,
   "metadata": {},
   "outputs": [],
   "source": [
    "%matplotlib inline\n",
    "\n",
    "# Plot images\n",
    "fig, axs = plt.subplots(1,3, sharey=True, figsize=[30,30])\n",
    "plt.figsize=[100,100]\n",
    "axs[0].imshow(result_image)\n",
    "axs[0].set_title('Result', fontsize=30)\n",
    "axs[1].imshow(fixed_image)\n",
    "axs[1].set_title('Fixed', fontsize=30)\n",
    "axs[2].imshow(moving_image)\n",
    "axs[2].set_title('Moving', fontsize=30)\n",
    "plt.show()"
   ]
  }
 ],
 "metadata": {
  "kernelspec": {
   "display_name": "Python 3",
   "language": "python",
   "name": "python3"
  },
  "language_info": {
   "codemirror_mode": {
    "name": "ipython",
    "version": 3
   },
   "file_extension": ".py",
   "mimetype": "text/x-python",
   "name": "python",
   "nbconvert_exporter": "python",
   "pygments_lexer": "ipython3",
   "version": "3.6.5"
  },
  "vscode": {
   "interpreter": {
    "hash": "1b2d04736fb75a40522735d249c0e7ba218649b9575c64ba1feaa5f2dbf534fc"
   }
  }
 },
 "nbformat": 4,
 "nbformat_minor": 5
}
