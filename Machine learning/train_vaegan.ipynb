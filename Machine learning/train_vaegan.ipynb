{
 "cells": [
  {
   "cell_type": "code",
   "execution_count": 1,
   "metadata": {},
   "outputs": [
    {
     "name": "stdout",
     "output_type": "stream",
     "text": [
      "cuda\n"
     ]
    }
   ],
   "source": [
    "import torch\n",
    "import torch.nn as nn\n",
    "import torch.nn.functional as F\n",
    "from torch.utils.data import DataLoader, Dataset, Subset\n",
    "\n",
    "import matplotlib.pyplot as plt\n",
    "from tqdm.notebook import tqdm, trange\n",
    "import os\n",
    "from pathlib import Path\n",
    "import SimpleITK as sitk\n",
    "import numpy as np\n",
    "import matplotlib.pyplot as plt\n",
    "from torchvision.utils import make_grid\n",
    "import imageio\n",
    "\n",
    "from sklearn.model_selection import train_test_split\n",
    "from pathlib import Path\n",
    "import random\n",
    "\n",
    "device = \"cuda\" if torch.cuda.is_available() else \"cpu\"\n",
    "print(device)"
   ]
  },
  {
   "cell_type": "code",
   "execution_count": 2,
   "metadata": {},
   "outputs": [
    {
     "name": "stdout",
     "output_type": "stream",
     "text": [
      "libs imported\n"
     ]
    }
   ],
   "source": [
    "import importlib\n",
    "try: \n",
    "    importlib.reload(utils)\n",
    "    importlib.reload(generators)\n",
    "    importlib.reload(trainers)\n",
    "    print(\"libs reloaded\")\n",
    "except:\n",
    "    import utils  \n",
    "    import generators \n",
    "    import trainers\n",
    "    print(\"libs imported\")\n",
    "  \n",
    "#Prostate2D = utils.Prostate2D\n",
    "VAE = generators.VAE\n",
    "VAEGAN = generators.VAEGAN\n",
    "TrainerVAE = trainers.TrainerVAE\n",
    "TrainerVAEGAN = trainers.TrainerVAEGAN"
   ]
  },
  {
   "cell_type": "code",
   "execution_count": 13,
   "metadata": {},
   "outputs": [],
   "source": [
    "WORKING_DIR = Path(r\"C:\\Users\\20182371\\Documents\\TUe\\8DM20_CS_Medical_Imaging\\DeepLearning_Project\")\n",
    "DATA_DIR = WORKING_DIR / \"TrainingData\"\n",
    "PROGRESS_DIR_VAE = WORKING_DIR / \"progress_vae\"\n",
    "PROGRESS_DIR_VAE.mkdir(parents=True, exist_ok=True)\n",
    "\n",
    "PROGRESS_DIR_VAEGAN = WORKING_DIR / \"progress_vaegan\"\n",
    "PROGRESS_DIR_VAEGAN.mkdir(parents=True, exist_ok=True)\n",
    "\n",
    "Z_DIM = 256\n",
    "BATCH_SIZE = 32\n",
    "N_EPOCHS = 200\n",
    "DECAY_LR_AFTER = 150 #50\n",
    "LEARNING_RATE = 1e-3\n",
    "OPTIMIZER = lambda parameters, lr : torch.optim.Adam(parameters, lr=lr, betas=(0.,0.9))\n",
    "KLD_ANNEALING_EPOCHS = 50\n",
    "GAMMA = 1.0\n",
    "ADA_TARGET = 0.6\n",
    "ADA_LENGTH = 10_000\n",
    "ACCUM = 0.5 ** (32 / (10 * 1000))\n",
    "NO_VALIDATION_PATIENTS = 2\n",
    "IMAGE_SIZE = (64,64)\n",
    "TOLERANCE = -1e-8\n",
    "MINIMUM_VALID_LOSS = 10 \n",
    "\n",
    "exp = str(N_EPOCHS) + '_epochs_' + str(Z_DIM) + \"_zdim\" + \"_ema\"\n",
    "EXPERIMENT_DIR_VAE = PROGRESS_DIR_VAE / exp\n",
    "EXPERIMENT_DIR_VAE.mkdir(parents=True, exist_ok=True)\n",
    "EXPERIMENT_DIR_VAEGAN = PROGRESS_DIR_VAEGAN / exp\n",
    "EXPERIMENT_DIR_VAEGAN.mkdir(parents=True, exist_ok=True)\n",
    "\n",
    "def lambda_lr(the_epoch):\n",
    "    return (\n",
    "        1.0\n",
    "        if the_epoch < DECAY_LR_AFTER\n",
    "        else 1 - float(the_epoch - DECAY_LR_AFTER) / (N_EPOCHS - DECAY_LR_AFTER)\n",
    "    )\n",
    "\n",
    "patients = [\n",
    "    path\n",
    "    for path in DATA_DIR.glob(\"*\")\n",
    "    if not any(part.startswith(\".\") for part in path.parts)\n",
    "]\n",
    "\n",
    "train_indx, valid_indx = train_test_split(patients, random_state=seed, train_size=train_size)\n",
    "\n",
    "# load training data and create DataLoader with batching and shuffling\n",
    "train_set = utils.ProstateMRDataset(partition[\"train\"], IMAGE_SIZE)\n",
    "train_loader = DataLoader(\n",
    "    train_set,\n",
    "    batch_size=BATCH_SIZE,\n",
    "    shuffle=True,\n",
    "    drop_last=True,\n",
    "    pin_memory=True,\n",
    ")\n",
    "\n",
    "# load validation data\n",
    "valid_set = utils.ProstateMRDataset(partition[\"validation\"], IMAGE_SIZE)\n",
    "valid_loader = DataLoader(\n",
    "    valid_set,\n",
    "    batch_size=BATCH_SIZE,\n",
    "    shuffle=True,\n",
    "    drop_last=True,\n",
    "    pin_memory=True,\n",
    ")"
   ]
  },
  {
   "cell_type": "code",
   "execution_count": 16,
   "metadata": {},
   "outputs": [
    {
     "data": {
      "text/plain": [
       "<utils.ProstateMRDataset at 0x29063d2fd90>"
      ]
     },
     "execution_count": 16,
     "metadata": {},
     "output_type": "execute_result"
    }
   ],
   "source": []
  },
  {
   "cell_type": "code",
   "execution_count": 12,
   "metadata": {},
   "outputs": [],
   "source": [
    "vae_model = VAE(z_dim=Z_DIM, spade=True).to(device)\n",
    "optimizer = OPTIMIZER(vae_model.parameters(), lr=LEARNING_RATE)\n",
    "vae_trainer = TrainerVAE(\n",
    "    vae_model,\n",
    "    optimizer,\n",
    "    KLD_ANNEALING_EPOCHS,\n",
    "    EXPERIMENT_DIR_VAE,\n",
    "    train_loader,\n",
    "    valid_loader,\n",
    "    EXPERIMENT_DIR_VAE,\n",
    "    TOLERANCE,\n",
    "    MINIMUM_VALID_LOSS,\n",
    "    device,\n",
    "    seed = 0,\n",
    ")\n",
    "     "
   ]
  },
  {
   "cell_type": "code",
   "execution_count": 7,
   "metadata": {},
   "outputs": [
    {
     "data": {
      "application/vnd.jupyter.widget-view+json": {
       "model_id": "a5218be473da4034b60fe24cdd374492",
       "version_major": 2,
       "version_minor": 0
      },
      "text/plain": [
       "  0%|          | 0/34 [00:00<?, ?it/s]"
      ]
     },
     "metadata": {},
     "output_type": "display_data"
    },
    {
     "ename": "KeyboardInterrupt",
     "evalue": "",
     "output_type": "error",
     "traceback": [
      "\u001b[1;31m---------------------------------------------------------------------------\u001b[0m",
      "\u001b[1;31mKeyboardInterrupt\u001b[0m                         Traceback (most recent call last)",
      "\u001b[1;32m~\\AppData\\Local\\Temp\\ipykernel_8704\\3650337165.py\u001b[0m in \u001b[0;36m<module>\u001b[1;34m\u001b[0m\n\u001b[1;32m----> 1\u001b[1;33m \u001b[0mvae_trainer\u001b[0m\u001b[1;33m.\u001b[0m\u001b[0mtrain\u001b[0m\u001b[1;33m(\u001b[0m\u001b[0mN_EPOCHS\u001b[0m\u001b[1;33m,\u001b[0m \u001b[0mlambda_lr\u001b[0m\u001b[1;33m=\u001b[0m\u001b[0mlambda_lr\u001b[0m\u001b[1;33m)\u001b[0m\u001b[1;33m\u001b[0m\u001b[1;33m\u001b[0m\u001b[0m\n\u001b[0m",
      "\u001b[1;32m~\\Documents\\TUe\\CapitaSelectaCode\\Machine learning\\trainers.py\u001b[0m in \u001b[0;36mtrain\u001b[1;34m(self, num_epochs, display_freq, lambda_lr)\u001b[0m\n\u001b[0;32m     90\u001b[0m         \u001b[0mno_increase\u001b[0m \u001b[1;33m=\u001b[0m \u001b[1;36m0\u001b[0m\u001b[1;33m\u001b[0m\u001b[1;33m\u001b[0m\u001b[0m\n\u001b[0;32m     91\u001b[0m         \u001b[1;32mfor\u001b[0m \u001b[0mepoch\u001b[0m \u001b[1;32min\u001b[0m \u001b[0mrange\u001b[0m\u001b[1;33m(\u001b[0m\u001b[0mnum_epochs\u001b[0m\u001b[1;33m)\u001b[0m\u001b[1;33m:\u001b[0m\u001b[1;33m\u001b[0m\u001b[1;33m\u001b[0m\u001b[0m\n\u001b[1;32m---> 92\u001b[1;33m             \u001b[0mtrain_losses\u001b[0m \u001b[1;33m=\u001b[0m \u001b[0mself\u001b[0m\u001b[1;33m.\u001b[0m\u001b[0mtrain_epoch\u001b[0m\u001b[1;33m(\u001b[0m\u001b[1;33m)\u001b[0m\u001b[1;33m\u001b[0m\u001b[1;33m\u001b[0m\u001b[0m\n\u001b[0m\u001b[0;32m     93\u001b[0m             \u001b[0mvalid_losses\u001b[0m \u001b[1;33m=\u001b[0m \u001b[0mself\u001b[0m\u001b[1;33m.\u001b[0m\u001b[0mvalid_epoch\u001b[0m\u001b[1;33m(\u001b[0m\u001b[1;33m)\u001b[0m\u001b[1;33m\u001b[0m\u001b[1;33m\u001b[0m\u001b[0m\n\u001b[0;32m     94\u001b[0m             \u001b[1;32mfor\u001b[0m \u001b[0mscheduler\u001b[0m \u001b[1;32min\u001b[0m \u001b[0mself\u001b[0m\u001b[1;33m.\u001b[0m\u001b[0mschedulers\u001b[0m\u001b[1;33m:\u001b[0m\u001b[1;33m\u001b[0m\u001b[1;33m\u001b[0m\u001b[0m\n",
      "\u001b[1;32m~\\Documents\\TUe\\CapitaSelectaCode\\Machine learning\\trainers.py\u001b[0m in \u001b[0;36mtrain_epoch\u001b[1;34m(self)\u001b[0m\n\u001b[0;32m     53\u001b[0m             \u001b[0mimages\u001b[0m \u001b[1;33m=\u001b[0m \u001b[0mimages\u001b[0m\u001b[1;33m.\u001b[0m\u001b[0mto\u001b[0m\u001b[1;33m(\u001b[0m\u001b[0mself\u001b[0m\u001b[1;33m.\u001b[0m\u001b[0mdevice\u001b[0m\u001b[1;33m)\u001b[0m\u001b[1;33m\u001b[0m\u001b[1;33m\u001b[0m\u001b[0m\n\u001b[0;32m     54\u001b[0m             \u001b[0mmasks\u001b[0m \u001b[1;33m=\u001b[0m \u001b[0mmasks\u001b[0m\u001b[1;33m.\u001b[0m\u001b[0mto\u001b[0m\u001b[1;33m(\u001b[0m\u001b[0mself\u001b[0m\u001b[1;33m.\u001b[0m\u001b[0mdevice\u001b[0m\u001b[1;33m)\u001b[0m\u001b[1;33m\u001b[0m\u001b[1;33m\u001b[0m\u001b[0m\n\u001b[1;32m---> 55\u001b[1;33m             \u001b[0mlosses\u001b[0m \u001b[1;33m=\u001b[0m \u001b[0mself\u001b[0m\u001b[1;33m.\u001b[0m\u001b[0mtrain_step\u001b[0m\u001b[1;33m(\u001b[0m\u001b[0mimages\u001b[0m\u001b[1;33m,\u001b[0m \u001b[0mmasks\u001b[0m\u001b[1;33m)\u001b[0m\u001b[1;33m\u001b[0m\u001b[1;33m\u001b[0m\u001b[0m\n\u001b[0m\u001b[0;32m     56\u001b[0m             \u001b[0mself\u001b[0m\u001b[1;33m.\u001b[0m\u001b[0mnstep\u001b[0m \u001b[1;33m+=\u001b[0m \u001b[1;36m1\u001b[0m\u001b[1;33m\u001b[0m\u001b[1;33m\u001b[0m\u001b[0m\n\u001b[0;32m     57\u001b[0m             \u001b[0mn\u001b[0m \u001b[1;33m+=\u001b[0m \u001b[0mimages\u001b[0m\u001b[1;33m.\u001b[0m\u001b[0mshape\u001b[0m\u001b[1;33m[\u001b[0m\u001b[1;36m0\u001b[0m\u001b[1;33m]\u001b[0m\u001b[1;33m\u001b[0m\u001b[1;33m\u001b[0m\u001b[0m\n",
      "\u001b[1;32m~\\Documents\\TUe\\CapitaSelectaCode\\Machine learning\\trainers.py\u001b[0m in \u001b[0;36mtrain_step\u001b[1;34m(self, images, masks)\u001b[0m\n\u001b[0;32m    174\u001b[0m         \u001b[1;33m(\u001b[0m\u001b[0mself\u001b[0m\u001b[1;33m.\u001b[0m\u001b[0mget_kld_weight\u001b[0m\u001b[1;33m(\u001b[0m\u001b[1;33m)\u001b[0m \u001b[1;33m*\u001b[0m \u001b[0mkld_loss\u001b[0m \u001b[1;33m+\u001b[0m \u001b[0mrec_loss\u001b[0m\u001b[1;33m)\u001b[0m\u001b[1;33m.\u001b[0m\u001b[0mbackward\u001b[0m\u001b[1;33m(\u001b[0m\u001b[1;33m)\u001b[0m\u001b[1;33m\u001b[0m\u001b[1;33m\u001b[0m\u001b[0m\n\u001b[0;32m    175\u001b[0m         \u001b[0mself\u001b[0m\u001b[1;33m.\u001b[0m\u001b[0moptimizer\u001b[0m\u001b[1;33m.\u001b[0m\u001b[0mstep\u001b[0m\u001b[1;33m(\u001b[0m\u001b[1;33m)\u001b[0m\u001b[1;33m\u001b[0m\u001b[1;33m\u001b[0m\u001b[0m\n\u001b[1;32m--> 176\u001b[1;33m         \u001b[1;32mreturn\u001b[0m \u001b[0mrec_loss\u001b[0m\u001b[1;33m.\u001b[0m\u001b[0mitem\u001b[0m\u001b[1;33m(\u001b[0m\u001b[1;33m)\u001b[0m\u001b[1;33m,\u001b[0m \u001b[0mkld_loss\u001b[0m\u001b[1;33m.\u001b[0m\u001b[0mitem\u001b[0m\u001b[1;33m(\u001b[0m\u001b[1;33m)\u001b[0m\u001b[1;33m\u001b[0m\u001b[1;33m\u001b[0m\u001b[0m\n\u001b[0m\u001b[0;32m    177\u001b[0m \u001b[1;33m\u001b[0m\u001b[0m\n\u001b[0;32m    178\u001b[0m     \u001b[1;32mdef\u001b[0m \u001b[0mvalid_step\u001b[0m\u001b[1;33m(\u001b[0m\u001b[0mself\u001b[0m\u001b[1;33m,\u001b[0m \u001b[0mimages\u001b[0m\u001b[1;33m:\u001b[0m \u001b[0mtorch\u001b[0m\u001b[1;33m.\u001b[0m\u001b[0mTensor\u001b[0m\u001b[1;33m,\u001b[0m \u001b[0mmasks\u001b[0m\u001b[1;33m:\u001b[0m \u001b[0mtorch\u001b[0m\u001b[1;33m.\u001b[0m\u001b[0mTensor\u001b[0m\u001b[1;33m)\u001b[0m \u001b[1;33m->\u001b[0m \u001b[0mTuple\u001b[0m\u001b[1;33m[\u001b[0m\u001b[0mfloat\u001b[0m\u001b[1;33m]\u001b[0m\u001b[1;33m:\u001b[0m\u001b[1;33m\u001b[0m\u001b[1;33m\u001b[0m\u001b[0m\n",
      "\u001b[1;31mKeyboardInterrupt\u001b[0m: "
     ]
    }
   ],
   "source": [
    "vae_trainer.train(N_EPOCHS, lambda_lr=lambda_lr)"
   ]
  },
  {
   "cell_type": "code",
   "execution_count": null,
   "metadata": {},
   "outputs": [],
   "source": [
    "plt.plot(range(1,N_EPOCHS+1), vae_trainer.train_losses)\n",
    "plt.plot(range(1,N_EPOCHS+1), vae_trainer.valid_losses)\n",
    "plt.xlabel('Number of epochs')\n",
    "plt.ylabel('Reconstruction loss')\n",
    "plt.title('Reconstruction loss mask vae')\n",
    "plt.legend(['Training set', 'Validation set'])\n",
    "plot_name = 'RECON_LOSS_'+str(N_EPOCHS) + '_epochs_' + str(Z_DIM) + '_zdim.png'\n",
    "path = EXPERIMENT_DIR_VAEGAN / plot_name\n",
    "\n",
    "plt.savefig(path, dpi=200)"
   ]
  },
  {
   "cell_type": "code",
   "execution_count": 4,
   "metadata": {},
   "outputs": [],
   "source": [
    "OPTIMIZER = lambda parameters, lr : torch.optim.RMSprop(\n",
    "    parameters,\n",
    "    lr=lr,\n",
    "    alpha=0.9,\n",
    "    eps=1e-8,\n",
    "    weight_decay=0,\n",
    "    momentum=0,\n",
    "    centered=False\n",
    ")\n",
    "\n",
    "vaegan_model = VAEGAN(z_dim=Z_DIM, l=2, spade=True).to(device)\n",
    "net_ema = VAEGAN(z_dim=Z_DIM, l=2, spade=True).to(device)\n",
    "net_ema.eval()\n",
    "\n",
    "optimizer_enc = OPTIMIZER(vaegan_model.encoder.parameters(), lr=LEARNING_RATE)\n",
    "optimizer_gen = OPTIMIZER(vaegan_model.generator.parameters(), lr=LEARNING_RATE)\n",
    "optimizer_disc = OPTIMIZER(vaegan_model.discriminator.parameters(), lr=LEARNING_RATE)\n",
    "\n",
    "vaegan_trainer = TrainerVAEGAN(\n",
    "    vaegan_model,\n",
    "    optimizer_enc,\n",
    "    optimizer_gen,\n",
    "    optimizer_disc,\n",
    "    KLD_ANNEALING_EPOCHS,\n",
    "    EXPERIMENT_DIR_VAEGAN,\n",
    "    train_loader,\n",
    "    valid_loader,\n",
    "    EXPERIMENT_DIR_VAEGAN,\n",
    "    TOLERANCE, \n",
    "    MINIMUM_VALID_LOSS,\n",
    "    net_ema = net_ema,\n",
    "    accum = ACCUM,\n",
    "    ada_target = ADA_TARGET,\n",
    "    ada_length = ADA_LENGTH,\n",
    "    gamma = GAMMA,\n",
    "    device = device,\n",
    "    seed = 0,\n",
    ")"
   ]
  },
  {
   "cell_type": "code",
   "execution_count": 5,
   "metadata": {},
   "outputs": [
    {
     "data": {
      "application/vnd.jupyter.widget-view+json": {
       "model_id": "",
       "version_major": 2,
       "version_minor": 0
      },
      "text/plain": [
       "  0%|          | 0/34 [00:00<?, ?it/s]"
      ]
     },
     "metadata": {},
     "output_type": "display_data"
    },
    {
     "data": {
      "application/vnd.jupyter.widget-view+json": {
       "model_id": "",
       "version_major": 2,
       "version_minor": 0
      },
      "text/plain": [
       "  0%|          | 0/5 [00:00<?, ?it/s]"
      ]
     },
     "metadata": {},
     "output_type": "display_data"
    },
    {
     "name": "stdout",
     "output_type": "stream",
     "text": [
      "Epoch #000: Rec_Loss/train = 0.675, KLD/train = 10.416, Discl_Loss/train = 1.695, Adv_Loss/train = 1.052 | Rec_Loss/valid = 0.753, KLD/valid = 8.903, Discl_Loss/valid = 1.594, Adv_Loss/valid = 0.061\n"
     ]
    },
    {
     "data": {
      "application/vnd.jupyter.widget-view+json": {
       "model_id": "",
       "version_major": 2,
       "version_minor": 0
      },
      "text/plain": [
       "  0%|          | 0/34 [00:00<?, ?it/s]"
      ]
     },
     "metadata": {},
     "output_type": "display_data"
    },
    {
     "data": {
      "application/vnd.jupyter.widget-view+json": {
       "model_id": "",
       "version_major": 2,
       "version_minor": 0
      },
      "text/plain": [
       "  0%|          | 0/5 [00:00<?, ?it/s]"
      ]
     },
     "metadata": {},
     "output_type": "display_data"
    },
    {
     "name": "stdout",
     "output_type": "stream",
     "text": [
      "Epoch #001: Rec_Loss/train = 0.654, KLD/train = 6.821, Discl_Loss/train = 1.464, Adv_Loss/train = 0.288 | Rec_Loss/valid = 0.533, KLD/valid = 4.486, Discl_Loss/valid = 1.590, Adv_Loss/valid = 0.077\n"
     ]
    },
    {
     "data": {
      "application/vnd.jupyter.widget-view+json": {
       "model_id": "",
       "version_major": 2,
       "version_minor": 0
      },
      "text/plain": [
       "  0%|          | 0/34 [00:00<?, ?it/s]"
      ]
     },
     "metadata": {},
     "output_type": "display_data"
    },
    {
     "data": {
      "application/vnd.jupyter.widget-view+json": {
       "model_id": "",
       "version_major": 2,
       "version_minor": 0
      },
      "text/plain": [
       "  0%|          | 0/5 [00:00<?, ?it/s]"
      ]
     },
     "metadata": {},
     "output_type": "display_data"
    },
    {
     "name": "stdout",
     "output_type": "stream",
     "text": [
      "Epoch #002: Rec_Loss/train = 0.534, KLD/train = 5.065, Discl_Loss/train = 1.402, Adv_Loss/train = 0.343 | Rec_Loss/valid = 0.448, KLD/valid = 3.214, Discl_Loss/valid = 1.522, Adv_Loss/valid = 0.268\n"
     ]
    },
    {
     "data": {
      "application/vnd.jupyter.widget-view+json": {
       "model_id": "",
       "version_major": 2,
       "version_minor": 0
      },
      "text/plain": [
       "  0%|          | 0/34 [00:00<?, ?it/s]"
      ]
     },
     "metadata": {},
     "output_type": "display_data"
    },
    {
     "data": {
      "application/vnd.jupyter.widget-view+json": {
       "model_id": "",
       "version_major": 2,
       "version_minor": 0
      },
      "text/plain": [
       "  0%|          | 0/5 [00:00<?, ?it/s]"
      ]
     },
     "metadata": {},
     "output_type": "display_data"
    },
    {
     "name": "stdout",
     "output_type": "stream",
     "text": [
      "Epoch #003: Rec_Loss/train = 0.506, KLD/train = 4.282, Discl_Loss/train = 1.522, Adv_Loss/train = 0.449 | Rec_Loss/valid = 0.442, KLD/valid = 3.644, Discl_Loss/valid = 1.670, Adv_Loss/valid = 0.572\n"
     ]
    },
    {
     "data": {
      "application/vnd.jupyter.widget-view+json": {
       "model_id": "",
       "version_major": 2,
       "version_minor": 0
      },
      "text/plain": [
       "  0%|          | 0/34 [00:00<?, ?it/s]"
      ]
     },
     "metadata": {},
     "output_type": "display_data"
    },
    {
     "data": {
      "application/vnd.jupyter.widget-view+json": {
       "model_id": "",
       "version_major": 2,
       "version_minor": 0
      },
      "text/plain": [
       "  0%|          | 0/5 [00:00<?, ?it/s]"
      ]
     },
     "metadata": {},
     "output_type": "display_data"
    },
    {
     "name": "stdout",
     "output_type": "stream",
     "text": [
      "Epoch #004: Rec_Loss/train = 0.435, KLD/train = 3.692, Discl_Loss/train = 1.477, Adv_Loss/train = 0.525 | Rec_Loss/valid = 0.430, KLD/valid = 2.797, Discl_Loss/valid = 1.563, Adv_Loss/valid = 0.145\n"
     ]
    },
    {
     "data": {
      "application/vnd.jupyter.widget-view+json": {
       "model_id": "",
       "version_major": 2,
       "version_minor": 0
      },
      "text/plain": [
       "  0%|          | 0/34 [00:00<?, ?it/s]"
      ]
     },
     "metadata": {},
     "output_type": "display_data"
    },
    {
     "data": {
      "application/vnd.jupyter.widget-view+json": {
       "model_id": "",
       "version_major": 2,
       "version_minor": 0
      },
      "text/plain": [
       "  0%|          | 0/5 [00:00<?, ?it/s]"
      ]
     },
     "metadata": {},
     "output_type": "display_data"
    },
    {
     "name": "stdout",
     "output_type": "stream",
     "text": [
      "Epoch #005: Rec_Loss/train = 0.395, KLD/train = 3.506, Discl_Loss/train = 1.410, Adv_Loss/train = 0.558 | Rec_Loss/valid = 0.378, KLD/valid = 2.319, Discl_Loss/valid = 1.517, Adv_Loss/valid = 0.580\n"
     ]
    },
    {
     "data": {
      "application/vnd.jupyter.widget-view+json": {
       "model_id": "",
       "version_major": 2,
       "version_minor": 0
      },
      "text/plain": [
       "  0%|          | 0/34 [00:00<?, ?it/s]"
      ]
     },
     "metadata": {},
     "output_type": "display_data"
    },
    {
     "data": {
      "application/vnd.jupyter.widget-view+json": {
       "model_id": "",
       "version_major": 2,
       "version_minor": 0
      },
      "text/plain": [
       "  0%|          | 0/5 [00:00<?, ?it/s]"
      ]
     },
     "metadata": {},
     "output_type": "display_data"
    },
    {
     "name": "stdout",
     "output_type": "stream",
     "text": [
      "Epoch #006: Rec_Loss/train = 0.361, KLD/train = 2.691, Discl_Loss/train = 1.330, Adv_Loss/train = 0.558 | Rec_Loss/valid = 0.580, KLD/valid = 2.231, Discl_Loss/valid = 1.709, Adv_Loss/valid = 0.281\n"
     ]
    },
    {
     "data": {
      "application/vnd.jupyter.widget-view+json": {
       "model_id": "",
       "version_major": 2,
       "version_minor": 0
      },
      "text/plain": [
       "  0%|          | 0/34 [00:00<?, ?it/s]"
      ]
     },
     "metadata": {},
     "output_type": "display_data"
    },
    {
     "data": {
      "application/vnd.jupyter.widget-view+json": {
       "model_id": "",
       "version_major": 2,
       "version_minor": 0
      },
      "text/plain": [
       "  0%|          | 0/5 [00:00<?, ?it/s]"
      ]
     },
     "metadata": {},
     "output_type": "display_data"
    },
    {
     "name": "stdout",
     "output_type": "stream",
     "text": [
      "Epoch #007: Rec_Loss/train = 0.340, KLD/train = 2.242, Discl_Loss/train = 1.308, Adv_Loss/train = 0.454 | Rec_Loss/valid = 0.336, KLD/valid = 1.706, Discl_Loss/valid = 1.416, Adv_Loss/valid = 0.216\n"
     ]
    },
    {
     "data": {
      "application/vnd.jupyter.widget-view+json": {
       "model_id": "",
       "version_major": 2,
       "version_minor": 0
      },
      "text/plain": [
       "  0%|          | 0/34 [00:00<?, ?it/s]"
      ]
     },
     "metadata": {},
     "output_type": "display_data"
    },
    {
     "data": {
      "application/vnd.jupyter.widget-view+json": {
       "model_id": "",
       "version_major": 2,
       "version_minor": 0
      },
      "text/plain": [
       "  0%|          | 0/5 [00:00<?, ?it/s]"
      ]
     },
     "metadata": {},
     "output_type": "display_data"
    },
    {
     "name": "stdout",
     "output_type": "stream",
     "text": [
      "Epoch #008: Rec_Loss/train = 0.340, KLD/train = 1.880, Discl_Loss/train = 1.305, Adv_Loss/train = 0.473 | Rec_Loss/valid = 0.365, KLD/valid = 1.522, Discl_Loss/valid = 1.530, Adv_Loss/valid = 0.280\n"
     ]
    },
    {
     "data": {
      "application/vnd.jupyter.widget-view+json": {
       "model_id": "",
       "version_major": 2,
       "version_minor": 0
      },
      "text/plain": [
       "  0%|          | 0/34 [00:00<?, ?it/s]"
      ]
     },
     "metadata": {},
     "output_type": "display_data"
    },
    {
     "data": {
      "application/vnd.jupyter.widget-view+json": {
       "model_id": "",
       "version_major": 2,
       "version_minor": 0
      },
      "text/plain": [
       "  0%|          | 0/5 [00:00<?, ?it/s]"
      ]
     },
     "metadata": {},
     "output_type": "display_data"
    },
    {
     "name": "stdout",
     "output_type": "stream",
     "text": [
      "Epoch #009: Rec_Loss/train = 0.314, KLD/train = 1.704, Discl_Loss/train = 1.268, Adv_Loss/train = 0.433 | Rec_Loss/valid = 0.467, KLD/valid = 1.180, Discl_Loss/valid = 1.492, Adv_Loss/valid = 0.256\n"
     ]
    },
    {
     "data": {
      "application/vnd.jupyter.widget-view+json": {
       "model_id": "",
       "version_major": 2,
       "version_minor": 0
      },
      "text/plain": [
       "  0%|          | 0/34 [00:00<?, ?it/s]"
      ]
     },
     "metadata": {},
     "output_type": "display_data"
    },
    {
     "data": {
      "application/vnd.jupyter.widget-view+json": {
       "model_id": "",
       "version_major": 2,
       "version_minor": 0
      },
      "text/plain": [
       "  0%|          | 0/5 [00:00<?, ?it/s]"
      ]
     },
     "metadata": {},
     "output_type": "display_data"
    },
    {
     "name": "stdout",
     "output_type": "stream",
     "text": [
      "Epoch #010: Rec_Loss/train = 0.346, KLD/train = 1.413, Discl_Loss/train = 1.233, Adv_Loss/train = 0.391 | Rec_Loss/valid = 0.333, KLD/valid = 0.938, Discl_Loss/valid = 1.426, Adv_Loss/valid = 0.415\n"
     ]
    },
    {
     "data": {
      "application/vnd.jupyter.widget-view+json": {
       "model_id": "",
       "version_major": 2,
       "version_minor": 0
      },
      "text/plain": [
       "  0%|          | 0/34 [00:00<?, ?it/s]"
      ]
     },
     "metadata": {},
     "output_type": "display_data"
    },
    {
     "data": {
      "application/vnd.jupyter.widget-view+json": {
       "model_id": "",
       "version_major": 2,
       "version_minor": 0
      },
      "text/plain": [
       "  0%|          | 0/5 [00:00<?, ?it/s]"
      ]
     },
     "metadata": {},
     "output_type": "display_data"
    },
    {
     "name": "stdout",
     "output_type": "stream",
     "text": [
      "Epoch #011: Rec_Loss/train = 0.319, KLD/train = 1.191, Discl_Loss/train = 1.165, Adv_Loss/train = 0.390 | Rec_Loss/valid = 0.369, KLD/valid = 0.940, Discl_Loss/valid = 1.386, Adv_Loss/valid = 0.509\n"
     ]
    },
    {
     "data": {
      "application/vnd.jupyter.widget-view+json": {
       "model_id": "",
       "version_major": 2,
       "version_minor": 0
      },
      "text/plain": [
       "  0%|          | 0/34 [00:00<?, ?it/s]"
      ]
     },
     "metadata": {},
     "output_type": "display_data"
    },
    {
     "data": {
      "application/vnd.jupyter.widget-view+json": {
       "model_id": "",
       "version_major": 2,
       "version_minor": 0
      },
      "text/plain": [
       "  0%|          | 0/5 [00:00<?, ?it/s]"
      ]
     },
     "metadata": {},
     "output_type": "display_data"
    },
    {
     "name": "stdout",
     "output_type": "stream",
     "text": [
      "Epoch #012: Rec_Loss/train = 0.324, KLD/train = 0.993, Discl_Loss/train = 1.212, Adv_Loss/train = 0.447 | Rec_Loss/valid = 0.357, KLD/valid = 0.755, Discl_Loss/valid = 1.481, Adv_Loss/valid = 0.286\n"
     ]
    },
    {
     "data": {
      "application/vnd.jupyter.widget-view+json": {
       "model_id": "",
       "version_major": 2,
       "version_minor": 0
      },
      "text/plain": [
       "  0%|          | 0/34 [00:00<?, ?it/s]"
      ]
     },
     "metadata": {},
     "output_type": "display_data"
    },
    {
     "data": {
      "application/vnd.jupyter.widget-view+json": {
       "model_id": "",
       "version_major": 2,
       "version_minor": 0
      },
      "text/plain": [
       "  0%|          | 0/5 [00:00<?, ?it/s]"
      ]
     },
     "metadata": {},
     "output_type": "display_data"
    },
    {
     "name": "stdout",
     "output_type": "stream",
     "text": [
      "Epoch #013: Rec_Loss/train = 0.320, KLD/train = 0.781, Discl_Loss/train = 1.170, Adv_Loss/train = 0.409 | Rec_Loss/valid = 0.327, KLD/valid = 0.602, Discl_Loss/valid = 1.574, Adv_Loss/valid = 0.263\n"
     ]
    },
    {
     "data": {
      "application/vnd.jupyter.widget-view+json": {
       "model_id": "",
       "version_major": 2,
       "version_minor": 0
      },
      "text/plain": [
       "  0%|          | 0/34 [00:00<?, ?it/s]"
      ]
     },
     "metadata": {},
     "output_type": "display_data"
    },
    {
     "data": {
      "application/vnd.jupyter.widget-view+json": {
       "model_id": "",
       "version_major": 2,
       "version_minor": 0
      },
      "text/plain": [
       "  0%|          | 0/5 [00:00<?, ?it/s]"
      ]
     },
     "metadata": {},
     "output_type": "display_data"
    },
    {
     "name": "stdout",
     "output_type": "stream",
     "text": [
      "Epoch #014: Rec_Loss/train = 0.325, KLD/train = 0.670, Discl_Loss/train = 1.171, Adv_Loss/train = 0.388 | Rec_Loss/valid = 0.380, KLD/valid = 0.506, Discl_Loss/valid = 1.484, Adv_Loss/valid = 0.472\n"
     ]
    },
    {
     "data": {
      "application/vnd.jupyter.widget-view+json": {
       "model_id": "",
       "version_major": 2,
       "version_minor": 0
      },
      "text/plain": [
       "  0%|          | 0/34 [00:00<?, ?it/s]"
      ]
     },
     "metadata": {},
     "output_type": "display_data"
    },
    {
     "data": {
      "application/vnd.jupyter.widget-view+json": {
       "model_id": "",
       "version_major": 2,
       "version_minor": 0
      },
      "text/plain": [
       "  0%|          | 0/5 [00:00<?, ?it/s]"
      ]
     },
     "metadata": {},
     "output_type": "display_data"
    },
    {
     "name": "stdout",
     "output_type": "stream",
     "text": [
      "Epoch #015: Rec_Loss/train = 0.312, KLD/train = 0.570, Discl_Loss/train = 1.117, Adv_Loss/train = 0.401 | Rec_Loss/valid = 0.308, KLD/valid = 0.424, Discl_Loss/valid = 1.465, Adv_Loss/valid = 0.301\n"
     ]
    },
    {
     "data": {
      "application/vnd.jupyter.widget-view+json": {
       "model_id": "",
       "version_major": 2,
       "version_minor": 0
      },
      "text/plain": [
       "  0%|          | 0/34 [00:00<?, ?it/s]"
      ]
     },
     "metadata": {},
     "output_type": "display_data"
    },
    {
     "data": {
      "application/vnd.jupyter.widget-view+json": {
       "model_id": "",
       "version_major": 2,
       "version_minor": 0
      },
      "text/plain": [
       "  0%|          | 0/5 [00:00<?, ?it/s]"
      ]
     },
     "metadata": {},
     "output_type": "display_data"
    },
    {
     "name": "stdout",
     "output_type": "stream",
     "text": [
      "Epoch #016: Rec_Loss/train = 0.315, KLD/train = 0.488, Discl_Loss/train = 1.099, Adv_Loss/train = 0.405 | Rec_Loss/valid = 0.328, KLD/valid = 0.368, Discl_Loss/valid = 1.429, Adv_Loss/valid = 0.328\n"
     ]
    },
    {
     "data": {
      "application/vnd.jupyter.widget-view+json": {
       "model_id": "",
       "version_major": 2,
       "version_minor": 0
      },
      "text/plain": [
       "  0%|          | 0/34 [00:00<?, ?it/s]"
      ]
     },
     "metadata": {},
     "output_type": "display_data"
    },
    {
     "data": {
      "application/vnd.jupyter.widget-view+json": {
       "model_id": "",
       "version_major": 2,
       "version_minor": 0
      },
      "text/plain": [
       "  0%|          | 0/5 [00:00<?, ?it/s]"
      ]
     },
     "metadata": {},
     "output_type": "display_data"
    },
    {
     "name": "stdout",
     "output_type": "stream",
     "text": [
      "Epoch #017: Rec_Loss/train = 0.319, KLD/train = 0.431, Discl_Loss/train = 1.125, Adv_Loss/train = 0.381 | Rec_Loss/valid = 0.317, KLD/valid = 0.267, Discl_Loss/valid = 1.341, Adv_Loss/valid = 0.295\n"
     ]
    },
    {
     "data": {
      "application/vnd.jupyter.widget-view+json": {
       "model_id": "",
       "version_major": 2,
       "version_minor": 0
      },
      "text/plain": [
       "  0%|          | 0/34 [00:00<?, ?it/s]"
      ]
     },
     "metadata": {},
     "output_type": "display_data"
    },
    {
     "data": {
      "application/vnd.jupyter.widget-view+json": {
       "model_id": "",
       "version_major": 2,
       "version_minor": 0
      },
      "text/plain": [
       "  0%|          | 0/5 [00:00<?, ?it/s]"
      ]
     },
     "metadata": {},
     "output_type": "display_data"
    },
    {
     "name": "stdout",
     "output_type": "stream",
     "text": [
      "Epoch #018: Rec_Loss/train = 0.329, KLD/train = 0.351, Discl_Loss/train = 1.100, Adv_Loss/train = 0.390 | Rec_Loss/valid = 0.320, KLD/valid = 0.275, Discl_Loss/valid = 1.403, Adv_Loss/valid = 0.217\n"
     ]
    },
    {
     "data": {
      "application/vnd.jupyter.widget-view+json": {
       "model_id": "",
       "version_major": 2,
       "version_minor": 0
      },
      "text/plain": [
       "  0%|          | 0/34 [00:00<?, ?it/s]"
      ]
     },
     "metadata": {},
     "output_type": "display_data"
    },
    {
     "data": {
      "application/vnd.jupyter.widget-view+json": {
       "model_id": "",
       "version_major": 2,
       "version_minor": 0
      },
      "text/plain": [
       "  0%|          | 0/5 [00:00<?, ?it/s]"
      ]
     },
     "metadata": {},
     "output_type": "display_data"
    },
    {
     "name": "stdout",
     "output_type": "stream",
     "text": [
      "Epoch #019: Rec_Loss/train = 0.312, KLD/train = 0.327, Discl_Loss/train = 1.107, Adv_Loss/train = 0.411 | Rec_Loss/valid = 0.393, KLD/valid = 0.254, Discl_Loss/valid = 1.460, Adv_Loss/valid = 0.469\n"
     ]
    },
    {
     "data": {
      "application/vnd.jupyter.widget-view+json": {
       "model_id": "",
       "version_major": 2,
       "version_minor": 0
      },
      "text/plain": [
       "  0%|          | 0/34 [00:00<?, ?it/s]"
      ]
     },
     "metadata": {},
     "output_type": "display_data"
    },
    {
     "data": {
      "application/vnd.jupyter.widget-view+json": {
       "model_id": "",
       "version_major": 2,
       "version_minor": 0
      },
      "text/plain": [
       "  0%|          | 0/5 [00:00<?, ?it/s]"
      ]
     },
     "metadata": {},
     "output_type": "display_data"
    },
    {
     "name": "stdout",
     "output_type": "stream",
     "text": [
      "Epoch #020: Rec_Loss/train = 0.314, KLD/train = 0.271, Discl_Loss/train = 1.108, Adv_Loss/train = 0.409 | Rec_Loss/valid = 0.361, KLD/valid = 0.196, Discl_Loss/valid = 1.397, Adv_Loss/valid = 0.836\n"
     ]
    },
    {
     "data": {
      "application/vnd.jupyter.widget-view+json": {
       "model_id": "",
       "version_major": 2,
       "version_minor": 0
      },
      "text/plain": [
       "  0%|          | 0/34 [00:00<?, ?it/s]"
      ]
     },
     "metadata": {},
     "output_type": "display_data"
    },
    {
     "data": {
      "application/vnd.jupyter.widget-view+json": {
       "model_id": "",
       "version_major": 2,
       "version_minor": 0
      },
      "text/plain": [
       "  0%|          | 0/5 [00:00<?, ?it/s]"
      ]
     },
     "metadata": {},
     "output_type": "display_data"
    },
    {
     "name": "stdout",
     "output_type": "stream",
     "text": [
      "Epoch #021: Rec_Loss/train = 0.322, KLD/train = 0.242, Discl_Loss/train = 1.104, Adv_Loss/train = 0.437 | Rec_Loss/valid = 0.312, KLD/valid = 0.191, Discl_Loss/valid = 1.351, Adv_Loss/valid = 0.289\n"
     ]
    },
    {
     "data": {
      "application/vnd.jupyter.widget-view+json": {
       "model_id": "",
       "version_major": 2,
       "version_minor": 0
      },
      "text/plain": [
       "  0%|          | 0/34 [00:00<?, ?it/s]"
      ]
     },
     "metadata": {},
     "output_type": "display_data"
    },
    {
     "data": {
      "application/vnd.jupyter.widget-view+json": {
       "model_id": "",
       "version_major": 2,
       "version_minor": 0
      },
      "text/plain": [
       "  0%|          | 0/5 [00:00<?, ?it/s]"
      ]
     },
     "metadata": {},
     "output_type": "display_data"
    },
    {
     "name": "stdout",
     "output_type": "stream",
     "text": [
      "Epoch #022: Rec_Loss/train = 0.321, KLD/train = 0.212, Discl_Loss/train = 1.086, Adv_Loss/train = 0.391 | Rec_Loss/valid = 0.296, KLD/valid = 0.148, Discl_Loss/valid = 1.342, Adv_Loss/valid = 0.229\n"
     ]
    },
    {
     "data": {
      "application/vnd.jupyter.widget-view+json": {
       "model_id": "",
       "version_major": 2,
       "version_minor": 0
      },
      "text/plain": [
       "  0%|          | 0/34 [00:00<?, ?it/s]"
      ]
     },
     "metadata": {},
     "output_type": "display_data"
    },
    {
     "data": {
      "application/vnd.jupyter.widget-view+json": {
       "model_id": "",
       "version_major": 2,
       "version_minor": 0
      },
      "text/plain": [
       "  0%|          | 0/5 [00:00<?, ?it/s]"
      ]
     },
     "metadata": {},
     "output_type": "display_data"
    },
    {
     "name": "stdout",
     "output_type": "stream",
     "text": [
      "Epoch #023: Rec_Loss/train = 0.329, KLD/train = 0.174, Discl_Loss/train = 1.091, Adv_Loss/train = 0.423 | Rec_Loss/valid = 0.308, KLD/valid = 0.132, Discl_Loss/valid = 1.339, Adv_Loss/valid = 0.240\n"
     ]
    },
    {
     "data": {
      "application/vnd.jupyter.widget-view+json": {
       "model_id": "",
       "version_major": 2,
       "version_minor": 0
      },
      "text/plain": [
       "  0%|          | 0/34 [00:00<?, ?it/s]"
      ]
     },
     "metadata": {},
     "output_type": "display_data"
    },
    {
     "data": {
      "application/vnd.jupyter.widget-view+json": {
       "model_id": "",
       "version_major": 2,
       "version_minor": 0
      },
      "text/plain": [
       "  0%|          | 0/5 [00:00<?, ?it/s]"
      ]
     },
     "metadata": {},
     "output_type": "display_data"
    },
    {
     "name": "stdout",
     "output_type": "stream",
     "text": [
      "Epoch #024: Rec_Loss/train = 0.323, KLD/train = 0.165, Discl_Loss/train = 1.094, Adv_Loss/train = 0.436 | Rec_Loss/valid = 0.298, KLD/valid = 0.098, Discl_Loss/valid = 1.434, Adv_Loss/valid = 0.394\n"
     ]
    },
    {
     "data": {
      "application/vnd.jupyter.widget-view+json": {
       "model_id": "",
       "version_major": 2,
       "version_minor": 0
      },
      "text/plain": [
       "  0%|          | 0/34 [00:00<?, ?it/s]"
      ]
     },
     "metadata": {},
     "output_type": "display_data"
    },
    {
     "data": {
      "application/vnd.jupyter.widget-view+json": {
       "model_id": "",
       "version_major": 2,
       "version_minor": 0
      },
      "text/plain": [
       "  0%|          | 0/5 [00:00<?, ?it/s]"
      ]
     },
     "metadata": {},
     "output_type": "display_data"
    },
    {
     "name": "stdout",
     "output_type": "stream",
     "text": [
      "Epoch #025: Rec_Loss/train = 0.308, KLD/train = 0.151, Discl_Loss/train = 1.092, Adv_Loss/train = 0.364 | Rec_Loss/valid = 0.292, KLD/valid = 0.114, Discl_Loss/valid = 1.355, Adv_Loss/valid = 0.196\n"
     ]
    },
    {
     "data": {
      "application/vnd.jupyter.widget-view+json": {
       "model_id": "",
       "version_major": 2,
       "version_minor": 0
      },
      "text/plain": [
       "  0%|          | 0/34 [00:00<?, ?it/s]"
      ]
     },
     "metadata": {},
     "output_type": "display_data"
    },
    {
     "data": {
      "application/vnd.jupyter.widget-view+json": {
       "model_id": "",
       "version_major": 2,
       "version_minor": 0
      },
      "text/plain": [
       "  0%|          | 0/5 [00:00<?, ?it/s]"
      ]
     },
     "metadata": {},
     "output_type": "display_data"
    },
    {
     "name": "stdout",
     "output_type": "stream",
     "text": [
      "Epoch #026: Rec_Loss/train = 0.317, KLD/train = 0.136, Discl_Loss/train = 1.077, Adv_Loss/train = 0.412 | Rec_Loss/valid = 0.455, KLD/valid = 0.096, Discl_Loss/valid = 1.473, Adv_Loss/valid = 0.816\n"
     ]
    },
    {
     "data": {
      "application/vnd.jupyter.widget-view+json": {
       "model_id": "",
       "version_major": 2,
       "version_minor": 0
      },
      "text/plain": [
       "  0%|          | 0/34 [00:00<?, ?it/s]"
      ]
     },
     "metadata": {},
     "output_type": "display_data"
    },
    {
     "data": {
      "application/vnd.jupyter.widget-view+json": {
       "model_id": "",
       "version_major": 2,
       "version_minor": 0
      },
      "text/plain": [
       "  0%|          | 0/5 [00:00<?, ?it/s]"
      ]
     },
     "metadata": {},
     "output_type": "display_data"
    },
    {
     "name": "stdout",
     "output_type": "stream",
     "text": [
      "Epoch #027: Rec_Loss/train = 0.320, KLD/train = 0.128, Discl_Loss/train = 1.080, Adv_Loss/train = 0.377 | Rec_Loss/valid = 0.295, KLD/valid = 0.096, Discl_Loss/valid = 1.333, Adv_Loss/valid = 0.401\n"
     ]
    },
    {
     "data": {
      "application/vnd.jupyter.widget-view+json": {
       "model_id": "",
       "version_major": 2,
       "version_minor": 0
      },
      "text/plain": [
       "  0%|          | 0/34 [00:00<?, ?it/s]"
      ]
     },
     "metadata": {},
     "output_type": "display_data"
    },
    {
     "data": {
      "application/vnd.jupyter.widget-view+json": {
       "model_id": "",
       "version_major": 2,
       "version_minor": 0
      },
      "text/plain": [
       "  0%|          | 0/5 [00:00<?, ?it/s]"
      ]
     },
     "metadata": {},
     "output_type": "display_data"
    },
    {
     "name": "stdout",
     "output_type": "stream",
     "text": [
      "Epoch #028: Rec_Loss/train = 0.309, KLD/train = 0.120, Discl_Loss/train = 1.061, Adv_Loss/train = 0.399 | Rec_Loss/valid = 0.327, KLD/valid = 0.100, Discl_Loss/valid = 1.354, Adv_Loss/valid = 0.588\n"
     ]
    },
    {
     "data": {
      "application/vnd.jupyter.widget-view+json": {
       "model_id": "",
       "version_major": 2,
       "version_minor": 0
      },
      "text/plain": [
       "  0%|          | 0/34 [00:00<?, ?it/s]"
      ]
     },
     "metadata": {},
     "output_type": "display_data"
    },
    {
     "data": {
      "application/vnd.jupyter.widget-view+json": {
       "model_id": "",
       "version_major": 2,
       "version_minor": 0
      },
      "text/plain": [
       "  0%|          | 0/5 [00:00<?, ?it/s]"
      ]
     },
     "metadata": {},
     "output_type": "display_data"
    },
    {
     "name": "stdout",
     "output_type": "stream",
     "text": [
      "Epoch #029: Rec_Loss/train = 0.321, KLD/train = 0.107, Discl_Loss/train = 1.050, Adv_Loss/train = 0.376 | Rec_Loss/valid = 0.334, KLD/valid = 0.082, Discl_Loss/valid = 1.336, Adv_Loss/valid = 0.326\n"
     ]
    },
    {
     "data": {
      "application/vnd.jupyter.widget-view+json": {
       "model_id": "",
       "version_major": 2,
       "version_minor": 0
      },
      "text/plain": [
       "  0%|          | 0/34 [00:00<?, ?it/s]"
      ]
     },
     "metadata": {},
     "output_type": "display_data"
    },
    {
     "data": {
      "application/vnd.jupyter.widget-view+json": {
       "model_id": "",
       "version_major": 2,
       "version_minor": 0
      },
      "text/plain": [
       "  0%|          | 0/5 [00:00<?, ?it/s]"
      ]
     },
     "metadata": {},
     "output_type": "display_data"
    },
    {
     "name": "stdout",
     "output_type": "stream",
     "text": [
      "Epoch #030: Rec_Loss/train = 0.329, KLD/train = 0.102, Discl_Loss/train = 1.077, Adv_Loss/train = 0.413 | Rec_Loss/valid = 0.325, KLD/valid = 0.062, Discl_Loss/valid = 1.410, Adv_Loss/valid = 0.468\n"
     ]
    },
    {
     "data": {
      "application/vnd.jupyter.widget-view+json": {
       "model_id": "",
       "version_major": 2,
       "version_minor": 0
      },
      "text/plain": [
       "  0%|          | 0/34 [00:00<?, ?it/s]"
      ]
     },
     "metadata": {},
     "output_type": "display_data"
    },
    {
     "data": {
      "application/vnd.jupyter.widget-view+json": {
       "model_id": "",
       "version_major": 2,
       "version_minor": 0
      },
      "text/plain": [
       "  0%|          | 0/5 [00:00<?, ?it/s]"
      ]
     },
     "metadata": {},
     "output_type": "display_data"
    },
    {
     "name": "stdout",
     "output_type": "stream",
     "text": [
      "Epoch #031: Rec_Loss/train = 0.331, KLD/train = 0.101, Discl_Loss/train = 1.073, Adv_Loss/train = 0.437 | Rec_Loss/valid = 0.335, KLD/valid = 0.074, Discl_Loss/valid = 1.319, Adv_Loss/valid = 0.289\n"
     ]
    },
    {
     "data": {
      "application/vnd.jupyter.widget-view+json": {
       "model_id": "",
       "version_major": 2,
       "version_minor": 0
      },
      "text/plain": [
       "  0%|          | 0/34 [00:00<?, ?it/s]"
      ]
     },
     "metadata": {},
     "output_type": "display_data"
    },
    {
     "data": {
      "application/vnd.jupyter.widget-view+json": {
       "model_id": "",
       "version_major": 2,
       "version_minor": 0
      },
      "text/plain": [
       "  0%|          | 0/5 [00:00<?, ?it/s]"
      ]
     },
     "metadata": {},
     "output_type": "display_data"
    },
    {
     "name": "stdout",
     "output_type": "stream",
     "text": [
      "Epoch #032: Rec_Loss/train = 0.322, KLD/train = 0.098, Discl_Loss/train = 1.052, Adv_Loss/train = 0.395 | Rec_Loss/valid = 0.301, KLD/valid = 0.071, Discl_Loss/valid = 1.368, Adv_Loss/valid = 0.252\n"
     ]
    },
    {
     "data": {
      "application/vnd.jupyter.widget-view+json": {
       "model_id": "",
       "version_major": 2,
       "version_minor": 0
      },
      "text/plain": [
       "  0%|          | 0/34 [00:00<?, ?it/s]"
      ]
     },
     "metadata": {},
     "output_type": "display_data"
    },
    {
     "data": {
      "application/vnd.jupyter.widget-view+json": {
       "model_id": "",
       "version_major": 2,
       "version_minor": 0
      },
      "text/plain": [
       "  0%|          | 0/5 [00:00<?, ?it/s]"
      ]
     },
     "metadata": {},
     "output_type": "display_data"
    },
    {
     "name": "stdout",
     "output_type": "stream",
     "text": [
      "Epoch #033: Rec_Loss/train = 0.328, KLD/train = 0.100, Discl_Loss/train = 1.065, Adv_Loss/train = 0.415 | Rec_Loss/valid = 0.302, KLD/valid = 0.066, Discl_Loss/valid = 1.347, Adv_Loss/valid = 0.508\n"
     ]
    },
    {
     "data": {
      "application/vnd.jupyter.widget-view+json": {
       "model_id": "",
       "version_major": 2,
       "version_minor": 0
      },
      "text/plain": [
       "  0%|          | 0/34 [00:00<?, ?it/s]"
      ]
     },
     "metadata": {},
     "output_type": "display_data"
    },
    {
     "data": {
      "application/vnd.jupyter.widget-view+json": {
       "model_id": "",
       "version_major": 2,
       "version_minor": 0
      },
      "text/plain": [
       "  0%|          | 0/5 [00:00<?, ?it/s]"
      ]
     },
     "metadata": {},
     "output_type": "display_data"
    },
    {
     "name": "stdout",
     "output_type": "stream",
     "text": [
      "Epoch #034: Rec_Loss/train = 0.314, KLD/train = 0.095, Discl_Loss/train = 1.048, Adv_Loss/train = 0.411 | Rec_Loss/valid = 0.313, KLD/valid = 0.066, Discl_Loss/valid = 1.367, Adv_Loss/valid = 0.301\n"
     ]
    },
    {
     "data": {
      "application/vnd.jupyter.widget-view+json": {
       "model_id": "",
       "version_major": 2,
       "version_minor": 0
      },
      "text/plain": [
       "  0%|          | 0/34 [00:00<?, ?it/s]"
      ]
     },
     "metadata": {},
     "output_type": "display_data"
    },
    {
     "data": {
      "application/vnd.jupyter.widget-view+json": {
       "model_id": "",
       "version_major": 2,
       "version_minor": 0
      },
      "text/plain": [
       "  0%|          | 0/5 [00:00<?, ?it/s]"
      ]
     },
     "metadata": {},
     "output_type": "display_data"
    },
    {
     "name": "stdout",
     "output_type": "stream",
     "text": [
      "Epoch #035: Rec_Loss/train = 0.304, KLD/train = 0.095, Discl_Loss/train = 1.037, Adv_Loss/train = 0.367 | Rec_Loss/valid = 0.392, KLD/valid = 0.056, Discl_Loss/valid = 1.412, Adv_Loss/valid = 0.689\n"
     ]
    },
    {
     "data": {
      "application/vnd.jupyter.widget-view+json": {
       "model_id": "",
       "version_major": 2,
       "version_minor": 0
      },
      "text/plain": [
       "  0%|          | 0/34 [00:00<?, ?it/s]"
      ]
     },
     "metadata": {},
     "output_type": "display_data"
    },
    {
     "data": {
      "application/vnd.jupyter.widget-view+json": {
       "model_id": "",
       "version_major": 2,
       "version_minor": 0
      },
      "text/plain": [
       "  0%|          | 0/5 [00:00<?, ?it/s]"
      ]
     },
     "metadata": {},
     "output_type": "display_data"
    },
    {
     "name": "stdout",
     "output_type": "stream",
     "text": [
      "Epoch #036: Rec_Loss/train = 0.316, KLD/train = 0.090, Discl_Loss/train = 1.039, Adv_Loss/train = 0.404 | Rec_Loss/valid = 0.309, KLD/valid = 0.081, Discl_Loss/valid = 1.292, Adv_Loss/valid = 0.266\n"
     ]
    },
    {
     "data": {
      "application/vnd.jupyter.widget-view+json": {
       "model_id": "",
       "version_major": 2,
       "version_minor": 0
      },
      "text/plain": [
       "  0%|          | 0/34 [00:00<?, ?it/s]"
      ]
     },
     "metadata": {},
     "output_type": "display_data"
    },
    {
     "data": {
      "application/vnd.jupyter.widget-view+json": {
       "model_id": "",
       "version_major": 2,
       "version_minor": 0
      },
      "text/plain": [
       "  0%|          | 0/5 [00:00<?, ?it/s]"
      ]
     },
     "metadata": {},
     "output_type": "display_data"
    },
    {
     "name": "stdout",
     "output_type": "stream",
     "text": [
      "Epoch #037: Rec_Loss/train = 0.327, KLD/train = 0.091, Discl_Loss/train = 1.038, Adv_Loss/train = 0.419 | Rec_Loss/valid = 0.330, KLD/valid = 0.058, Discl_Loss/valid = 1.354, Adv_Loss/valid = 0.875\n"
     ]
    },
    {
     "data": {
      "application/vnd.jupyter.widget-view+json": {
       "model_id": "",
       "version_major": 2,
       "version_minor": 0
      },
      "text/plain": [
       "  0%|          | 0/34 [00:00<?, ?it/s]"
      ]
     },
     "metadata": {},
     "output_type": "display_data"
    },
    {
     "data": {
      "application/vnd.jupyter.widget-view+json": {
       "model_id": "",
       "version_major": 2,
       "version_minor": 0
      },
      "text/plain": [
       "  0%|          | 0/5 [00:00<?, ?it/s]"
      ]
     },
     "metadata": {},
     "output_type": "display_data"
    },
    {
     "name": "stdout",
     "output_type": "stream",
     "text": [
      "Epoch #038: Rec_Loss/train = 0.318, KLD/train = 0.086, Discl_Loss/train = 1.027, Adv_Loss/train = 0.382 | Rec_Loss/valid = 0.327, KLD/valid = 0.073, Discl_Loss/valid = 1.330, Adv_Loss/valid = 0.667\n"
     ]
    },
    {
     "data": {
      "application/vnd.jupyter.widget-view+json": {
       "model_id": "",
       "version_major": 2,
       "version_minor": 0
      },
      "text/plain": [
       "  0%|          | 0/34 [00:00<?, ?it/s]"
      ]
     },
     "metadata": {},
     "output_type": "display_data"
    },
    {
     "data": {
      "application/vnd.jupyter.widget-view+json": {
       "model_id": "",
       "version_major": 2,
       "version_minor": 0
      },
      "text/plain": [
       "  0%|          | 0/5 [00:00<?, ?it/s]"
      ]
     },
     "metadata": {},
     "output_type": "display_data"
    },
    {
     "name": "stdout",
     "output_type": "stream",
     "text": [
      "Epoch #039: Rec_Loss/train = 0.320, KLD/train = 0.089, Discl_Loss/train = 1.045, Adv_Loss/train = 0.404 | Rec_Loss/valid = 0.309, KLD/valid = 0.064, Discl_Loss/valid = 1.302, Adv_Loss/valid = 0.652\n"
     ]
    },
    {
     "data": {
      "application/vnd.jupyter.widget-view+json": {
       "model_id": "",
       "version_major": 2,
       "version_minor": 0
      },
      "text/plain": [
       "  0%|          | 0/34 [00:00<?, ?it/s]"
      ]
     },
     "metadata": {},
     "output_type": "display_data"
    },
    {
     "data": {
      "application/vnd.jupyter.widget-view+json": {
       "model_id": "",
       "version_major": 2,
       "version_minor": 0
      },
      "text/plain": [
       "  0%|          | 0/5 [00:00<?, ?it/s]"
      ]
     },
     "metadata": {},
     "output_type": "display_data"
    },
    {
     "name": "stdout",
     "output_type": "stream",
     "text": [
      "Epoch #040: Rec_Loss/train = 0.320, KLD/train = 0.087, Discl_Loss/train = 1.043, Adv_Loss/train = 0.449 | Rec_Loss/valid = 0.317, KLD/valid = 0.067, Discl_Loss/valid = 1.368, Adv_Loss/valid = 0.475\n"
     ]
    },
    {
     "data": {
      "application/vnd.jupyter.widget-view+json": {
       "model_id": "",
       "version_major": 2,
       "version_minor": 0
      },
      "text/plain": [
       "  0%|          | 0/34 [00:00<?, ?it/s]"
      ]
     },
     "metadata": {},
     "output_type": "display_data"
    },
    {
     "data": {
      "application/vnd.jupyter.widget-view+json": {
       "model_id": "",
       "version_major": 2,
       "version_minor": 0
      },
      "text/plain": [
       "  0%|          | 0/5 [00:00<?, ?it/s]"
      ]
     },
     "metadata": {},
     "output_type": "display_data"
    },
    {
     "name": "stdout",
     "output_type": "stream",
     "text": [
      "Epoch #041: Rec_Loss/train = 0.321, KLD/train = 0.086, Discl_Loss/train = 1.003, Adv_Loss/train = 0.396 | Rec_Loss/valid = 0.300, KLD/valid = 0.062, Discl_Loss/valid = 1.256, Adv_Loss/valid = 0.224\n"
     ]
    },
    {
     "data": {
      "application/vnd.jupyter.widget-view+json": {
       "model_id": "",
       "version_major": 2,
       "version_minor": 0
      },
      "text/plain": [
       "  0%|          | 0/34 [00:00<?, ?it/s]"
      ]
     },
     "metadata": {},
     "output_type": "display_data"
    },
    {
     "data": {
      "application/vnd.jupyter.widget-view+json": {
       "model_id": "",
       "version_major": 2,
       "version_minor": 0
      },
      "text/plain": [
       "  0%|          | 0/5 [00:00<?, ?it/s]"
      ]
     },
     "metadata": {},
     "output_type": "display_data"
    },
    {
     "name": "stdout",
     "output_type": "stream",
     "text": [
      "Epoch #042: Rec_Loss/train = 0.318, KLD/train = 0.084, Discl_Loss/train = 1.001, Adv_Loss/train = 0.411 | Rec_Loss/valid = 0.315, KLD/valid = 0.059, Discl_Loss/valid = 1.251, Adv_Loss/valid = 0.256\n"
     ]
    },
    {
     "data": {
      "application/vnd.jupyter.widget-view+json": {
       "model_id": "",
       "version_major": 2,
       "version_minor": 0
      },
      "text/plain": [
       "  0%|          | 0/34 [00:00<?, ?it/s]"
      ]
     },
     "metadata": {},
     "output_type": "display_data"
    },
    {
     "data": {
      "application/vnd.jupyter.widget-view+json": {
       "model_id": "",
       "version_major": 2,
       "version_minor": 0
      },
      "text/plain": [
       "  0%|          | 0/5 [00:00<?, ?it/s]"
      ]
     },
     "metadata": {},
     "output_type": "display_data"
    },
    {
     "name": "stdout",
     "output_type": "stream",
     "text": [
      "Epoch #043: Rec_Loss/train = 0.314, KLD/train = 0.083, Discl_Loss/train = 0.993, Adv_Loss/train = 0.404 | Rec_Loss/valid = 0.297, KLD/valid = 0.056, Discl_Loss/valid = 1.258, Adv_Loss/valid = 0.154\n"
     ]
    },
    {
     "data": {
      "application/vnd.jupyter.widget-view+json": {
       "model_id": "",
       "version_major": 2,
       "version_minor": 0
      },
      "text/plain": [
       "  0%|          | 0/34 [00:00<?, ?it/s]"
      ]
     },
     "metadata": {},
     "output_type": "display_data"
    },
    {
     "data": {
      "application/vnd.jupyter.widget-view+json": {
       "model_id": "",
       "version_major": 2,
       "version_minor": 0
      },
      "text/plain": [
       "  0%|          | 0/5 [00:00<?, ?it/s]"
      ]
     },
     "metadata": {},
     "output_type": "display_data"
    },
    {
     "name": "stdout",
     "output_type": "stream",
     "text": [
      "Epoch #044: Rec_Loss/train = 0.306, KLD/train = 0.084, Discl_Loss/train = 0.992, Adv_Loss/train = 0.355 | Rec_Loss/valid = 0.314, KLD/valid = 0.072, Discl_Loss/valid = 1.331, Adv_Loss/valid = 0.610\n"
     ]
    },
    {
     "data": {
      "application/vnd.jupyter.widget-view+json": {
       "model_id": "",
       "version_major": 2,
       "version_minor": 0
      },
      "text/plain": [
       "  0%|          | 0/34 [00:00<?, ?it/s]"
      ]
     },
     "metadata": {},
     "output_type": "display_data"
    },
    {
     "data": {
      "application/vnd.jupyter.widget-view+json": {
       "model_id": "",
       "version_major": 2,
       "version_minor": 0
      },
      "text/plain": [
       "  0%|          | 0/5 [00:00<?, ?it/s]"
      ]
     },
     "metadata": {},
     "output_type": "display_data"
    },
    {
     "name": "stdout",
     "output_type": "stream",
     "text": [
      "Epoch #045: Rec_Loss/train = 0.316, KLD/train = 0.085, Discl_Loss/train = 1.010, Adv_Loss/train = 0.345 | Rec_Loss/valid = 0.326, KLD/valid = 0.048, Discl_Loss/valid = 1.296, Adv_Loss/valid = 0.643\n"
     ]
    },
    {
     "data": {
      "application/vnd.jupyter.widget-view+json": {
       "model_id": "",
       "version_major": 2,
       "version_minor": 0
      },
      "text/plain": [
       "  0%|          | 0/34 [00:00<?, ?it/s]"
      ]
     },
     "metadata": {},
     "output_type": "display_data"
    },
    {
     "data": {
      "application/vnd.jupyter.widget-view+json": {
       "model_id": "",
       "version_major": 2,
       "version_minor": 0
      },
      "text/plain": [
       "  0%|          | 0/5 [00:00<?, ?it/s]"
      ]
     },
     "metadata": {},
     "output_type": "display_data"
    },
    {
     "name": "stdout",
     "output_type": "stream",
     "text": [
      "Epoch #046: Rec_Loss/train = 0.317, KLD/train = 0.084, Discl_Loss/train = 1.021, Adv_Loss/train = 0.383 | Rec_Loss/valid = 0.307, KLD/valid = 0.052, Discl_Loss/valid = 1.298, Adv_Loss/valid = 0.524\n"
     ]
    },
    {
     "data": {
      "application/vnd.jupyter.widget-view+json": {
       "model_id": "",
       "version_major": 2,
       "version_minor": 0
      },
      "text/plain": [
       "  0%|          | 0/34 [00:00<?, ?it/s]"
      ]
     },
     "metadata": {},
     "output_type": "display_data"
    },
    {
     "data": {
      "application/vnd.jupyter.widget-view+json": {
       "model_id": "",
       "version_major": 2,
       "version_minor": 0
      },
      "text/plain": [
       "  0%|          | 0/5 [00:00<?, ?it/s]"
      ]
     },
     "metadata": {},
     "output_type": "display_data"
    },
    {
     "name": "stdout",
     "output_type": "stream",
     "text": [
      "Epoch #047: Rec_Loss/train = 0.311, KLD/train = 0.082, Discl_Loss/train = 0.984, Adv_Loss/train = 0.384 | Rec_Loss/valid = 0.308, KLD/valid = 0.056, Discl_Loss/valid = 1.351, Adv_Loss/valid = 0.551\n"
     ]
    },
    {
     "data": {
      "application/vnd.jupyter.widget-view+json": {
       "model_id": "",
       "version_major": 2,
       "version_minor": 0
      },
      "text/plain": [
       "  0%|          | 0/34 [00:00<?, ?it/s]"
      ]
     },
     "metadata": {},
     "output_type": "display_data"
    },
    {
     "data": {
      "application/vnd.jupyter.widget-view+json": {
       "model_id": "",
       "version_major": 2,
       "version_minor": 0
      },
      "text/plain": [
       "  0%|          | 0/5 [00:00<?, ?it/s]"
      ]
     },
     "metadata": {},
     "output_type": "display_data"
    },
    {
     "name": "stdout",
     "output_type": "stream",
     "text": [
      "Epoch #048: Rec_Loss/train = 0.320, KLD/train = 0.083, Discl_Loss/train = 0.996, Adv_Loss/train = 0.366 | Rec_Loss/valid = 0.324, KLD/valid = 0.056, Discl_Loss/valid = 1.278, Adv_Loss/valid = 1.093\n"
     ]
    },
    {
     "data": {
      "application/vnd.jupyter.widget-view+json": {
       "model_id": "",
       "version_major": 2,
       "version_minor": 0
      },
      "text/plain": [
       "  0%|          | 0/34 [00:00<?, ?it/s]"
      ]
     },
     "metadata": {},
     "output_type": "display_data"
    },
    {
     "data": {
      "application/vnd.jupyter.widget-view+json": {
       "model_id": "",
       "version_major": 2,
       "version_minor": 0
      },
      "text/plain": [
       "  0%|          | 0/5 [00:00<?, ?it/s]"
      ]
     },
     "metadata": {},
     "output_type": "display_data"
    },
    {
     "name": "stdout",
     "output_type": "stream",
     "text": [
      "Epoch #049: Rec_Loss/train = 0.310, KLD/train = 0.081, Discl_Loss/train = 0.999, Adv_Loss/train = 0.379 | Rec_Loss/valid = 0.338, KLD/valid = 0.048, Discl_Loss/valid = 1.305, Adv_Loss/valid = 0.655\n"
     ]
    },
    {
     "data": {
      "application/vnd.jupyter.widget-view+json": {
       "model_id": "",
       "version_major": 2,
       "version_minor": 0
      },
      "text/plain": [
       "  0%|          | 0/34 [00:00<?, ?it/s]"
      ]
     },
     "metadata": {},
     "output_type": "display_data"
    },
    {
     "data": {
      "application/vnd.jupyter.widget-view+json": {
       "model_id": "",
       "version_major": 2,
       "version_minor": 0
      },
      "text/plain": [
       "  0%|          | 0/5 [00:00<?, ?it/s]"
      ]
     },
     "metadata": {},
     "output_type": "display_data"
    },
    {
     "name": "stdout",
     "output_type": "stream",
     "text": [
      "Epoch #050: Rec_Loss/train = 0.309, KLD/train = 0.081, Discl_Loss/train = 0.967, Adv_Loss/train = 0.362 | Rec_Loss/valid = 0.309, KLD/valid = 0.051, Discl_Loss/valid = 1.267, Adv_Loss/valid = 0.415\n"
     ]
    },
    {
     "data": {
      "application/vnd.jupyter.widget-view+json": {
       "model_id": "",
       "version_major": 2,
       "version_minor": 0
      },
      "text/plain": [
       "  0%|          | 0/34 [00:00<?, ?it/s]"
      ]
     },
     "metadata": {},
     "output_type": "display_data"
    },
    {
     "data": {
      "application/vnd.jupyter.widget-view+json": {
       "model_id": "",
       "version_major": 2,
       "version_minor": 0
      },
      "text/plain": [
       "  0%|          | 0/5 [00:00<?, ?it/s]"
      ]
     },
     "metadata": {},
     "output_type": "display_data"
    },
    {
     "name": "stdout",
     "output_type": "stream",
     "text": [
      "Epoch #051: Rec_Loss/train = 0.316, KLD/train = 0.080, Discl_Loss/train = 0.968, Adv_Loss/train = 0.378 | Rec_Loss/valid = 0.312, KLD/valid = 0.067, Discl_Loss/valid = 1.282, Adv_Loss/valid = 0.619\n"
     ]
    },
    {
     "data": {
      "application/vnd.jupyter.widget-view+json": {
       "model_id": "",
       "version_major": 2,
       "version_minor": 0
      },
      "text/plain": [
       "  0%|          | 0/34 [00:00<?, ?it/s]"
      ]
     },
     "metadata": {},
     "output_type": "display_data"
    },
    {
     "data": {
      "application/vnd.jupyter.widget-view+json": {
       "model_id": "",
       "version_major": 2,
       "version_minor": 0
      },
      "text/plain": [
       "  0%|          | 0/5 [00:00<?, ?it/s]"
      ]
     },
     "metadata": {},
     "output_type": "display_data"
    },
    {
     "name": "stdout",
     "output_type": "stream",
     "text": [
      "Epoch #052: Rec_Loss/train = 0.326, KLD/train = 0.084, Discl_Loss/train = 0.963, Adv_Loss/train = 0.361 | Rec_Loss/valid = 0.300, KLD/valid = 0.065, Discl_Loss/valid = 1.320, Adv_Loss/valid = 0.350\n"
     ]
    },
    {
     "data": {
      "application/vnd.jupyter.widget-view+json": {
       "model_id": "",
       "version_major": 2,
       "version_minor": 0
      },
      "text/plain": [
       "  0%|          | 0/34 [00:00<?, ?it/s]"
      ]
     },
     "metadata": {},
     "output_type": "display_data"
    },
    {
     "data": {
      "application/vnd.jupyter.widget-view+json": {
       "model_id": "",
       "version_major": 2,
       "version_minor": 0
      },
      "text/plain": [
       "  0%|          | 0/5 [00:00<?, ?it/s]"
      ]
     },
     "metadata": {},
     "output_type": "display_data"
    },
    {
     "name": "stdout",
     "output_type": "stream",
     "text": [
      "Epoch #053: Rec_Loss/train = 0.307, KLD/train = 0.085, Discl_Loss/train = 0.964, Adv_Loss/train = 0.402 | Rec_Loss/valid = 0.312, KLD/valid = 0.050, Discl_Loss/valid = 1.281, Adv_Loss/valid = 0.429\n"
     ]
    },
    {
     "data": {
      "application/vnd.jupyter.widget-view+json": {
       "model_id": "",
       "version_major": 2,
       "version_minor": 0
      },
      "text/plain": [
       "  0%|          | 0/34 [00:00<?, ?it/s]"
      ]
     },
     "metadata": {},
     "output_type": "display_data"
    },
    {
     "data": {
      "application/vnd.jupyter.widget-view+json": {
       "model_id": "",
       "version_major": 2,
       "version_minor": 0
      },
      "text/plain": [
       "  0%|          | 0/5 [00:00<?, ?it/s]"
      ]
     },
     "metadata": {},
     "output_type": "display_data"
    },
    {
     "name": "stdout",
     "output_type": "stream",
     "text": [
      "Epoch #054: Rec_Loss/train = 0.314, KLD/train = 0.082, Discl_Loss/train = 0.958, Adv_Loss/train = 0.405 | Rec_Loss/valid = 0.310, KLD/valid = 0.056, Discl_Loss/valid = 1.291, Adv_Loss/valid = 0.506\n"
     ]
    },
    {
     "data": {
      "application/vnd.jupyter.widget-view+json": {
       "model_id": "",
       "version_major": 2,
       "version_minor": 0
      },
      "text/plain": [
       "  0%|          | 0/34 [00:00<?, ?it/s]"
      ]
     },
     "metadata": {},
     "output_type": "display_data"
    },
    {
     "data": {
      "application/vnd.jupyter.widget-view+json": {
       "model_id": "",
       "version_major": 2,
       "version_minor": 0
      },
      "text/plain": [
       "  0%|          | 0/5 [00:00<?, ?it/s]"
      ]
     },
     "metadata": {},
     "output_type": "display_data"
    },
    {
     "name": "stdout",
     "output_type": "stream",
     "text": [
      "Epoch #055: Rec_Loss/train = 0.314, KLD/train = 0.082, Discl_Loss/train = 0.972, Adv_Loss/train = 0.408 | Rec_Loss/valid = 0.310, KLD/valid = 0.052, Discl_Loss/valid = 1.283, Adv_Loss/valid = 0.512\n"
     ]
    },
    {
     "data": {
      "application/vnd.jupyter.widget-view+json": {
       "model_id": "",
       "version_major": 2,
       "version_minor": 0
      },
      "text/plain": [
       "  0%|          | 0/34 [00:00<?, ?it/s]"
      ]
     },
     "metadata": {},
     "output_type": "display_data"
    },
    {
     "data": {
      "application/vnd.jupyter.widget-view+json": {
       "model_id": "",
       "version_major": 2,
       "version_minor": 0
      },
      "text/plain": [
       "  0%|          | 0/5 [00:00<?, ?it/s]"
      ]
     },
     "metadata": {},
     "output_type": "display_data"
    },
    {
     "name": "stdout",
     "output_type": "stream",
     "text": [
      "Epoch #056: Rec_Loss/train = 0.307, KLD/train = 0.082, Discl_Loss/train = 0.953, Adv_Loss/train = 0.385 | Rec_Loss/valid = 0.316, KLD/valid = 0.059, Discl_Loss/valid = 1.303, Adv_Loss/valid = 0.296\n"
     ]
    },
    {
     "data": {
      "application/vnd.jupyter.widget-view+json": {
       "model_id": "",
       "version_major": 2,
       "version_minor": 0
      },
      "text/plain": [
       "  0%|          | 0/34 [00:00<?, ?it/s]"
      ]
     },
     "metadata": {},
     "output_type": "display_data"
    },
    {
     "data": {
      "application/vnd.jupyter.widget-view+json": {
       "model_id": "",
       "version_major": 2,
       "version_minor": 0
      },
      "text/plain": [
       "  0%|          | 0/5 [00:00<?, ?it/s]"
      ]
     },
     "metadata": {},
     "output_type": "display_data"
    },
    {
     "name": "stdout",
     "output_type": "stream",
     "text": [
      "Epoch #057: Rec_Loss/train = 0.320, KLD/train = 0.086, Discl_Loss/train = 0.964, Adv_Loss/train = 0.413 | Rec_Loss/valid = 0.313, KLD/valid = 0.071, Discl_Loss/valid = 1.296, Adv_Loss/valid = 0.447\n"
     ]
    },
    {
     "data": {
      "application/vnd.jupyter.widget-view+json": {
       "model_id": "",
       "version_major": 2,
       "version_minor": 0
      },
      "text/plain": [
       "  0%|          | 0/34 [00:00<?, ?it/s]"
      ]
     },
     "metadata": {},
     "output_type": "display_data"
    },
    {
     "data": {
      "application/vnd.jupyter.widget-view+json": {
       "model_id": "",
       "version_major": 2,
       "version_minor": 0
      },
      "text/plain": [
       "  0%|          | 0/5 [00:00<?, ?it/s]"
      ]
     },
     "metadata": {},
     "output_type": "display_data"
    },
    {
     "name": "stdout",
     "output_type": "stream",
     "text": [
      "Epoch #058: Rec_Loss/train = 0.314, KLD/train = 0.083, Discl_Loss/train = 0.934, Adv_Loss/train = 0.372 | Rec_Loss/valid = 0.346, KLD/valid = 0.048, Discl_Loss/valid = 1.308, Adv_Loss/valid = 0.258\n"
     ]
    },
    {
     "data": {
      "application/vnd.jupyter.widget-view+json": {
       "model_id": "",
       "version_major": 2,
       "version_minor": 0
      },
      "text/plain": [
       "  0%|          | 0/34 [00:00<?, ?it/s]"
      ]
     },
     "metadata": {},
     "output_type": "display_data"
    },
    {
     "data": {
      "application/vnd.jupyter.widget-view+json": {
       "model_id": "",
       "version_major": 2,
       "version_minor": 0
      },
      "text/plain": [
       "  0%|          | 0/5 [00:00<?, ?it/s]"
      ]
     },
     "metadata": {},
     "output_type": "display_data"
    },
    {
     "name": "stdout",
     "output_type": "stream",
     "text": [
      "Epoch #059: Rec_Loss/train = 0.322, KLD/train = 0.084, Discl_Loss/train = 0.965, Adv_Loss/train = 0.398 | Rec_Loss/valid = 0.310, KLD/valid = 0.056, Discl_Loss/valid = 1.298, Adv_Loss/valid = 0.411\n"
     ]
    },
    {
     "data": {
      "application/vnd.jupyter.widget-view+json": {
       "model_id": "",
       "version_major": 2,
       "version_minor": 0
      },
      "text/plain": [
       "  0%|          | 0/34 [00:00<?, ?it/s]"
      ]
     },
     "metadata": {},
     "output_type": "display_data"
    },
    {
     "data": {
      "application/vnd.jupyter.widget-view+json": {
       "model_id": "",
       "version_major": 2,
       "version_minor": 0
      },
      "text/plain": [
       "  0%|          | 0/5 [00:00<?, ?it/s]"
      ]
     },
     "metadata": {},
     "output_type": "display_data"
    },
    {
     "name": "stdout",
     "output_type": "stream",
     "text": [
      "Epoch #060: Rec_Loss/train = 0.307, KLD/train = 0.084, Discl_Loss/train = 0.965, Adv_Loss/train = 0.358 | Rec_Loss/valid = 0.321, KLD/valid = 0.055, Discl_Loss/valid = 1.296, Adv_Loss/valid = 0.319\n"
     ]
    },
    {
     "data": {
      "application/vnd.jupyter.widget-view+json": {
       "model_id": "",
       "version_major": 2,
       "version_minor": 0
      },
      "text/plain": [
       "  0%|          | 0/34 [00:00<?, ?it/s]"
      ]
     },
     "metadata": {},
     "output_type": "display_data"
    },
    {
     "data": {
      "application/vnd.jupyter.widget-view+json": {
       "model_id": "",
       "version_major": 2,
       "version_minor": 0
      },
      "text/plain": [
       "  0%|          | 0/5 [00:00<?, ?it/s]"
      ]
     },
     "metadata": {},
     "output_type": "display_data"
    },
    {
     "name": "stdout",
     "output_type": "stream",
     "text": [
      "Epoch #061: Rec_Loss/train = 0.309, KLD/train = 0.085, Discl_Loss/train = 0.969, Adv_Loss/train = 0.376 | Rec_Loss/valid = 0.313, KLD/valid = 0.054, Discl_Loss/valid = 1.327, Adv_Loss/valid = 0.261\n"
     ]
    },
    {
     "data": {
      "application/vnd.jupyter.widget-view+json": {
       "model_id": "",
       "version_major": 2,
       "version_minor": 0
      },
      "text/plain": [
       "  0%|          | 0/34 [00:00<?, ?it/s]"
      ]
     },
     "metadata": {},
     "output_type": "display_data"
    },
    {
     "data": {
      "application/vnd.jupyter.widget-view+json": {
       "model_id": "",
       "version_major": 2,
       "version_minor": 0
      },
      "text/plain": [
       "  0%|          | 0/5 [00:00<?, ?it/s]"
      ]
     },
     "metadata": {},
     "output_type": "display_data"
    },
    {
     "name": "stdout",
     "output_type": "stream",
     "text": [
      "Epoch #062: Rec_Loss/train = 0.309, KLD/train = 0.087, Discl_Loss/train = 0.957, Adv_Loss/train = 0.354 | Rec_Loss/valid = 0.340, KLD/valid = 0.054, Discl_Loss/valid = 1.302, Adv_Loss/valid = 0.550\n"
     ]
    },
    {
     "data": {
      "application/vnd.jupyter.widget-view+json": {
       "model_id": "",
       "version_major": 2,
       "version_minor": 0
      },
      "text/plain": [
       "  0%|          | 0/34 [00:00<?, ?it/s]"
      ]
     },
     "metadata": {},
     "output_type": "display_data"
    },
    {
     "data": {
      "application/vnd.jupyter.widget-view+json": {
       "model_id": "",
       "version_major": 2,
       "version_minor": 0
      },
      "text/plain": [
       "  0%|          | 0/5 [00:00<?, ?it/s]"
      ]
     },
     "metadata": {},
     "output_type": "display_data"
    },
    {
     "name": "stdout",
     "output_type": "stream",
     "text": [
      "Epoch #063: Rec_Loss/train = 0.318, KLD/train = 0.084, Discl_Loss/train = 0.949, Adv_Loss/train = 0.409 | Rec_Loss/valid = 0.324, KLD/valid = 0.062, Discl_Loss/valid = 1.292, Adv_Loss/valid = 0.526\n"
     ]
    },
    {
     "data": {
      "application/vnd.jupyter.widget-view+json": {
       "model_id": "",
       "version_major": 2,
       "version_minor": 0
      },
      "text/plain": [
       "  0%|          | 0/34 [00:00<?, ?it/s]"
      ]
     },
     "metadata": {},
     "output_type": "display_data"
    },
    {
     "data": {
      "application/vnd.jupyter.widget-view+json": {
       "model_id": "",
       "version_major": 2,
       "version_minor": 0
      },
      "text/plain": [
       "  0%|          | 0/5 [00:00<?, ?it/s]"
      ]
     },
     "metadata": {},
     "output_type": "display_data"
    },
    {
     "name": "stdout",
     "output_type": "stream",
     "text": [
      "Epoch #064: Rec_Loss/train = 0.307, KLD/train = 0.083, Discl_Loss/train = 0.952, Adv_Loss/train = 0.353 | Rec_Loss/valid = 0.313, KLD/valid = 0.054, Discl_Loss/valid = 1.307, Adv_Loss/valid = 0.991\n"
     ]
    },
    {
     "data": {
      "application/vnd.jupyter.widget-view+json": {
       "model_id": "",
       "version_major": 2,
       "version_minor": 0
      },
      "text/plain": [
       "  0%|          | 0/34 [00:00<?, ?it/s]"
      ]
     },
     "metadata": {},
     "output_type": "display_data"
    },
    {
     "data": {
      "application/vnd.jupyter.widget-view+json": {
       "model_id": "",
       "version_major": 2,
       "version_minor": 0
      },
      "text/plain": [
       "  0%|          | 0/5 [00:00<?, ?it/s]"
      ]
     },
     "metadata": {},
     "output_type": "display_data"
    },
    {
     "name": "stdout",
     "output_type": "stream",
     "text": [
      "Epoch #065: Rec_Loss/train = 0.309, KLD/train = 0.084, Discl_Loss/train = 0.958, Adv_Loss/train = 0.398 | Rec_Loss/valid = 0.357, KLD/valid = 0.066, Discl_Loss/valid = 1.346, Adv_Loss/valid = 0.805\n"
     ]
    },
    {
     "data": {
      "application/vnd.jupyter.widget-view+json": {
       "model_id": "",
       "version_major": 2,
       "version_minor": 0
      },
      "text/plain": [
       "  0%|          | 0/34 [00:00<?, ?it/s]"
      ]
     },
     "metadata": {},
     "output_type": "display_data"
    },
    {
     "data": {
      "application/vnd.jupyter.widget-view+json": {
       "model_id": "",
       "version_major": 2,
       "version_minor": 0
      },
      "text/plain": [
       "  0%|          | 0/5 [00:00<?, ?it/s]"
      ]
     },
     "metadata": {},
     "output_type": "display_data"
    },
    {
     "name": "stdout",
     "output_type": "stream",
     "text": [
      "Epoch #066: Rec_Loss/train = 0.318, KLD/train = 0.086, Discl_Loss/train = 0.945, Adv_Loss/train = 0.388 | Rec_Loss/valid = 0.332, KLD/valid = 0.060, Discl_Loss/valid = 1.286, Adv_Loss/valid = 0.413\n"
     ]
    },
    {
     "data": {
      "application/vnd.jupyter.widget-view+json": {
       "model_id": "",
       "version_major": 2,
       "version_minor": 0
      },
      "text/plain": [
       "  0%|          | 0/34 [00:00<?, ?it/s]"
      ]
     },
     "metadata": {},
     "output_type": "display_data"
    },
    {
     "data": {
      "application/vnd.jupyter.widget-view+json": {
       "model_id": "",
       "version_major": 2,
       "version_minor": 0
      },
      "text/plain": [
       "  0%|          | 0/5 [00:00<?, ?it/s]"
      ]
     },
     "metadata": {},
     "output_type": "display_data"
    },
    {
     "name": "stdout",
     "output_type": "stream",
     "text": [
      "Epoch #067: Rec_Loss/train = 0.315, KLD/train = 0.083, Discl_Loss/train = 0.952, Adv_Loss/train = 0.371 | Rec_Loss/valid = 0.345, KLD/valid = 0.051, Discl_Loss/valid = 1.351, Adv_Loss/valid = 1.234\n"
     ]
    },
    {
     "data": {
      "application/vnd.jupyter.widget-view+json": {
       "model_id": "",
       "version_major": 2,
       "version_minor": 0
      },
      "text/plain": [
       "  0%|          | 0/34 [00:00<?, ?it/s]"
      ]
     },
     "metadata": {},
     "output_type": "display_data"
    },
    {
     "data": {
      "application/vnd.jupyter.widget-view+json": {
       "model_id": "",
       "version_major": 2,
       "version_minor": 0
      },
      "text/plain": [
       "  0%|          | 0/5 [00:00<?, ?it/s]"
      ]
     },
     "metadata": {},
     "output_type": "display_data"
    },
    {
     "name": "stdout",
     "output_type": "stream",
     "text": [
      "Epoch #068: Rec_Loss/train = 0.313, KLD/train = 0.083, Discl_Loss/train = 0.960, Adv_Loss/train = 0.393 | Rec_Loss/valid = 0.320, KLD/valid = 0.052, Discl_Loss/valid = 1.312, Adv_Loss/valid = 0.591\n"
     ]
    },
    {
     "data": {
      "application/vnd.jupyter.widget-view+json": {
       "model_id": "",
       "version_major": 2,
       "version_minor": 0
      },
      "text/plain": [
       "  0%|          | 0/34 [00:00<?, ?it/s]"
      ]
     },
     "metadata": {},
     "output_type": "display_data"
    },
    {
     "data": {
      "application/vnd.jupyter.widget-view+json": {
       "model_id": "",
       "version_major": 2,
       "version_minor": 0
      },
      "text/plain": [
       "  0%|          | 0/5 [00:00<?, ?it/s]"
      ]
     },
     "metadata": {},
     "output_type": "display_data"
    },
    {
     "name": "stdout",
     "output_type": "stream",
     "text": [
      "Epoch #069: Rec_Loss/train = 0.309, KLD/train = 0.084, Discl_Loss/train = 0.960, Adv_Loss/train = 0.370 | Rec_Loss/valid = 0.317, KLD/valid = 0.052, Discl_Loss/valid = 1.322, Adv_Loss/valid = 1.081\n"
     ]
    },
    {
     "data": {
      "application/vnd.jupyter.widget-view+json": {
       "model_id": "",
       "version_major": 2,
       "version_minor": 0
      },
      "text/plain": [
       "  0%|          | 0/34 [00:00<?, ?it/s]"
      ]
     },
     "metadata": {},
     "output_type": "display_data"
    },
    {
     "data": {
      "application/vnd.jupyter.widget-view+json": {
       "model_id": "",
       "version_major": 2,
       "version_minor": 0
      },
      "text/plain": [
       "  0%|          | 0/5 [00:00<?, ?it/s]"
      ]
     },
     "metadata": {},
     "output_type": "display_data"
    },
    {
     "name": "stdout",
     "output_type": "stream",
     "text": [
      "Epoch #070: Rec_Loss/train = 0.319, KLD/train = 0.083, Discl_Loss/train = 0.956, Adv_Loss/train = 0.382 | Rec_Loss/valid = 0.329, KLD/valid = 0.055, Discl_Loss/valid = 1.267, Adv_Loss/valid = 0.869\n"
     ]
    },
    {
     "data": {
      "application/vnd.jupyter.widget-view+json": {
       "model_id": "",
       "version_major": 2,
       "version_minor": 0
      },
      "text/plain": [
       "  0%|          | 0/34 [00:00<?, ?it/s]"
      ]
     },
     "metadata": {},
     "output_type": "display_data"
    },
    {
     "data": {
      "application/vnd.jupyter.widget-view+json": {
       "model_id": "",
       "version_major": 2,
       "version_minor": 0
      },
      "text/plain": [
       "  0%|          | 0/5 [00:00<?, ?it/s]"
      ]
     },
     "metadata": {},
     "output_type": "display_data"
    },
    {
     "name": "stdout",
     "output_type": "stream",
     "text": [
      "Epoch #071: Rec_Loss/train = 0.308, KLD/train = 0.083, Discl_Loss/train = 0.927, Adv_Loss/train = 0.349 | Rec_Loss/valid = 0.316, KLD/valid = 0.066, Discl_Loss/valid = 1.287, Adv_Loss/valid = 0.490\n"
     ]
    },
    {
     "data": {
      "application/vnd.jupyter.widget-view+json": {
       "model_id": "",
       "version_major": 2,
       "version_minor": 0
      },
      "text/plain": [
       "  0%|          | 0/34 [00:00<?, ?it/s]"
      ]
     },
     "metadata": {},
     "output_type": "display_data"
    },
    {
     "data": {
      "application/vnd.jupyter.widget-view+json": {
       "model_id": "",
       "version_major": 2,
       "version_minor": 0
      },
      "text/plain": [
       "  0%|          | 0/5 [00:00<?, ?it/s]"
      ]
     },
     "metadata": {},
     "output_type": "display_data"
    },
    {
     "name": "stdout",
     "output_type": "stream",
     "text": [
      "Epoch #072: Rec_Loss/train = 0.314, KLD/train = 0.085, Discl_Loss/train = 0.952, Adv_Loss/train = 0.400 | Rec_Loss/valid = 0.323, KLD/valid = 0.062, Discl_Loss/valid = 1.287, Adv_Loss/valid = 0.553\n"
     ]
    },
    {
     "data": {
      "application/vnd.jupyter.widget-view+json": {
       "model_id": "",
       "version_major": 2,
       "version_minor": 0
      },
      "text/plain": [
       "  0%|          | 0/34 [00:00<?, ?it/s]"
      ]
     },
     "metadata": {},
     "output_type": "display_data"
    },
    {
     "data": {
      "application/vnd.jupyter.widget-view+json": {
       "model_id": "",
       "version_major": 2,
       "version_minor": 0
      },
      "text/plain": [
       "  0%|          | 0/5 [00:00<?, ?it/s]"
      ]
     },
     "metadata": {},
     "output_type": "display_data"
    },
    {
     "name": "stdout",
     "output_type": "stream",
     "text": [
      "Epoch #073: Rec_Loss/train = 0.311, KLD/train = 0.087, Discl_Loss/train = 0.946, Adv_Loss/train = 0.367 | Rec_Loss/valid = 0.317, KLD/valid = 0.050, Discl_Loss/valid = 1.284, Adv_Loss/valid = 0.543\n"
     ]
    },
    {
     "data": {
      "application/vnd.jupyter.widget-view+json": {
       "model_id": "",
       "version_major": 2,
       "version_minor": 0
      },
      "text/plain": [
       "  0%|          | 0/34 [00:00<?, ?it/s]"
      ]
     },
     "metadata": {},
     "output_type": "display_data"
    },
    {
     "data": {
      "application/vnd.jupyter.widget-view+json": {
       "model_id": "",
       "version_major": 2,
       "version_minor": 0
      },
      "text/plain": [
       "  0%|          | 0/5 [00:00<?, ?it/s]"
      ]
     },
     "metadata": {},
     "output_type": "display_data"
    },
    {
     "name": "stdout",
     "output_type": "stream",
     "text": [
      "Epoch #074: Rec_Loss/train = 0.323, KLD/train = 0.083, Discl_Loss/train = 0.928, Adv_Loss/train = 0.389 | Rec_Loss/valid = 0.328, KLD/valid = 0.057, Discl_Loss/valid = 1.282, Adv_Loss/valid = 0.403\n"
     ]
    },
    {
     "data": {
      "application/vnd.jupyter.widget-view+json": {
       "model_id": "",
       "version_major": 2,
       "version_minor": 0
      },
      "text/plain": [
       "  0%|          | 0/34 [00:00<?, ?it/s]"
      ]
     },
     "metadata": {},
     "output_type": "display_data"
    },
    {
     "data": {
      "application/vnd.jupyter.widget-view+json": {
       "model_id": "",
       "version_major": 2,
       "version_minor": 0
      },
      "text/plain": [
       "  0%|          | 0/5 [00:00<?, ?it/s]"
      ]
     },
     "metadata": {},
     "output_type": "display_data"
    },
    {
     "name": "stdout",
     "output_type": "stream",
     "text": [
      "Epoch #075: Rec_Loss/train = 0.312, KLD/train = 0.081, Discl_Loss/train = 0.922, Adv_Loss/train = 0.405 | Rec_Loss/valid = 0.325, KLD/valid = 0.050, Discl_Loss/valid = 1.289, Adv_Loss/valid = 0.417\n"
     ]
    },
    {
     "data": {
      "application/vnd.jupyter.widget-view+json": {
       "model_id": "",
       "version_major": 2,
       "version_minor": 0
      },
      "text/plain": [
       "  0%|          | 0/34 [00:00<?, ?it/s]"
      ]
     },
     "metadata": {},
     "output_type": "display_data"
    },
    {
     "data": {
      "application/vnd.jupyter.widget-view+json": {
       "model_id": "",
       "version_major": 2,
       "version_minor": 0
      },
      "text/plain": [
       "  0%|          | 0/5 [00:00<?, ?it/s]"
      ]
     },
     "metadata": {},
     "output_type": "display_data"
    },
    {
     "name": "stdout",
     "output_type": "stream",
     "text": [
      "Epoch #076: Rec_Loss/train = 0.323, KLD/train = 0.084, Discl_Loss/train = 0.918, Adv_Loss/train = 0.396 | Rec_Loss/valid = 0.336, KLD/valid = 0.056, Discl_Loss/valid = 1.249, Adv_Loss/valid = 0.381\n"
     ]
    },
    {
     "data": {
      "application/vnd.jupyter.widget-view+json": {
       "model_id": "",
       "version_major": 2,
       "version_minor": 0
      },
      "text/plain": [
       "  0%|          | 0/34 [00:00<?, ?it/s]"
      ]
     },
     "metadata": {},
     "output_type": "display_data"
    },
    {
     "data": {
      "application/vnd.jupyter.widget-view+json": {
       "model_id": "",
       "version_major": 2,
       "version_minor": 0
      },
      "text/plain": [
       "  0%|          | 0/5 [00:00<?, ?it/s]"
      ]
     },
     "metadata": {},
     "output_type": "display_data"
    },
    {
     "name": "stdout",
     "output_type": "stream",
     "text": [
      "Epoch #077: Rec_Loss/train = 0.308, KLD/train = 0.085, Discl_Loss/train = 0.911, Adv_Loss/train = 0.361 | Rec_Loss/valid = 0.306, KLD/valid = 0.060, Discl_Loss/valid = 1.311, Adv_Loss/valid = 0.810\n"
     ]
    },
    {
     "data": {
      "application/vnd.jupyter.widget-view+json": {
       "model_id": "",
       "version_major": 2,
       "version_minor": 0
      },
      "text/plain": [
       "  0%|          | 0/34 [00:00<?, ?it/s]"
      ]
     },
     "metadata": {},
     "output_type": "display_data"
    },
    {
     "data": {
      "application/vnd.jupyter.widget-view+json": {
       "model_id": "",
       "version_major": 2,
       "version_minor": 0
      },
      "text/plain": [
       "  0%|          | 0/5 [00:00<?, ?it/s]"
      ]
     },
     "metadata": {},
     "output_type": "display_data"
    },
    {
     "name": "stdout",
     "output_type": "stream",
     "text": [
      "Epoch #078: Rec_Loss/train = 0.314, KLD/train = 0.083, Discl_Loss/train = 0.920, Adv_Loss/train = 0.391 | Rec_Loss/valid = 0.324, KLD/valid = 0.064, Discl_Loss/valid = 1.311, Adv_Loss/valid = 0.671\n"
     ]
    },
    {
     "data": {
      "application/vnd.jupyter.widget-view+json": {
       "model_id": "",
       "version_major": 2,
       "version_minor": 0
      },
      "text/plain": [
       "  0%|          | 0/34 [00:00<?, ?it/s]"
      ]
     },
     "metadata": {},
     "output_type": "display_data"
    },
    {
     "data": {
      "application/vnd.jupyter.widget-view+json": {
       "model_id": "",
       "version_major": 2,
       "version_minor": 0
      },
      "text/plain": [
       "  0%|          | 0/5 [00:00<?, ?it/s]"
      ]
     },
     "metadata": {},
     "output_type": "display_data"
    },
    {
     "name": "stdout",
     "output_type": "stream",
     "text": [
      "Epoch #079: Rec_Loss/train = 0.311, KLD/train = 0.085, Discl_Loss/train = 0.908, Adv_Loss/train = 0.376 | Rec_Loss/valid = 0.328, KLD/valid = 0.061, Discl_Loss/valid = 1.278, Adv_Loss/valid = 0.830\n"
     ]
    },
    {
     "data": {
      "application/vnd.jupyter.widget-view+json": {
       "model_id": "",
       "version_major": 2,
       "version_minor": 0
      },
      "text/plain": [
       "  0%|          | 0/34 [00:00<?, ?it/s]"
      ]
     },
     "metadata": {},
     "output_type": "display_data"
    },
    {
     "data": {
      "application/vnd.jupyter.widget-view+json": {
       "model_id": "",
       "version_major": 2,
       "version_minor": 0
      },
      "text/plain": [
       "  0%|          | 0/5 [00:00<?, ?it/s]"
      ]
     },
     "metadata": {},
     "output_type": "display_data"
    },
    {
     "name": "stdout",
     "output_type": "stream",
     "text": [
      "Epoch #080: Rec_Loss/train = 0.311, KLD/train = 0.086, Discl_Loss/train = 0.910, Adv_Loss/train = 0.385 | Rec_Loss/valid = 0.327, KLD/valid = 0.050, Discl_Loss/valid = 1.296, Adv_Loss/valid = 0.295\n"
     ]
    },
    {
     "data": {
      "application/vnd.jupyter.widget-view+json": {
       "model_id": "",
       "version_major": 2,
       "version_minor": 0
      },
      "text/plain": [
       "  0%|          | 0/34 [00:00<?, ?it/s]"
      ]
     },
     "metadata": {},
     "output_type": "display_data"
    },
    {
     "data": {
      "application/vnd.jupyter.widget-view+json": {
       "model_id": "",
       "version_major": 2,
       "version_minor": 0
      },
      "text/plain": [
       "  0%|          | 0/5 [00:00<?, ?it/s]"
      ]
     },
     "metadata": {},
     "output_type": "display_data"
    },
    {
     "name": "stdout",
     "output_type": "stream",
     "text": [
      "Epoch #081: Rec_Loss/train = 0.320, KLD/train = 0.085, Discl_Loss/train = 0.911, Adv_Loss/train = 0.399 | Rec_Loss/valid = 0.332, KLD/valid = 0.056, Discl_Loss/valid = 1.292, Adv_Loss/valid = 0.540\n"
     ]
    },
    {
     "data": {
      "application/vnd.jupyter.widget-view+json": {
       "model_id": "",
       "version_major": 2,
       "version_minor": 0
      },
      "text/plain": [
       "  0%|          | 0/34 [00:00<?, ?it/s]"
      ]
     },
     "metadata": {},
     "output_type": "display_data"
    },
    {
     "data": {
      "application/vnd.jupyter.widget-view+json": {
       "model_id": "",
       "version_major": 2,
       "version_minor": 0
      },
      "text/plain": [
       "  0%|          | 0/5 [00:00<?, ?it/s]"
      ]
     },
     "metadata": {},
     "output_type": "display_data"
    },
    {
     "name": "stdout",
     "output_type": "stream",
     "text": [
      "Epoch #082: Rec_Loss/train = 0.317, KLD/train = 0.088, Discl_Loss/train = 0.910, Adv_Loss/train = 0.404 | Rec_Loss/valid = 0.307, KLD/valid = 0.054, Discl_Loss/valid = 1.306, Adv_Loss/valid = 0.450\n"
     ]
    },
    {
     "data": {
      "application/vnd.jupyter.widget-view+json": {
       "model_id": "",
       "version_major": 2,
       "version_minor": 0
      },
      "text/plain": [
       "  0%|          | 0/34 [00:00<?, ?it/s]"
      ]
     },
     "metadata": {},
     "output_type": "display_data"
    },
    {
     "data": {
      "application/vnd.jupyter.widget-view+json": {
       "model_id": "",
       "version_major": 2,
       "version_minor": 0
      },
      "text/plain": [
       "  0%|          | 0/5 [00:00<?, ?it/s]"
      ]
     },
     "metadata": {},
     "output_type": "display_data"
    },
    {
     "name": "stdout",
     "output_type": "stream",
     "text": [
      "Epoch #083: Rec_Loss/train = 0.316, KLD/train = 0.087, Discl_Loss/train = 0.913, Adv_Loss/train = 0.418 | Rec_Loss/valid = 0.307, KLD/valid = 0.051, Discl_Loss/valid = 1.306, Adv_Loss/valid = 0.663\n"
     ]
    },
    {
     "data": {
      "application/vnd.jupyter.widget-view+json": {
       "model_id": "",
       "version_major": 2,
       "version_minor": 0
      },
      "text/plain": [
       "  0%|          | 0/34 [00:00<?, ?it/s]"
      ]
     },
     "metadata": {},
     "output_type": "display_data"
    },
    {
     "data": {
      "application/vnd.jupyter.widget-view+json": {
       "model_id": "",
       "version_major": 2,
       "version_minor": 0
      },
      "text/plain": [
       "  0%|          | 0/5 [00:00<?, ?it/s]"
      ]
     },
     "metadata": {},
     "output_type": "display_data"
    },
    {
     "name": "stdout",
     "output_type": "stream",
     "text": [
      "Epoch #084: Rec_Loss/train = 0.305, KLD/train = 0.086, Discl_Loss/train = 0.889, Adv_Loss/train = 0.393 | Rec_Loss/valid = 0.326, KLD/valid = 0.053, Discl_Loss/valid = 1.280, Adv_Loss/valid = 0.454\n"
     ]
    },
    {
     "data": {
      "application/vnd.jupyter.widget-view+json": {
       "model_id": "",
       "version_major": 2,
       "version_minor": 0
      },
      "text/plain": [
       "  0%|          | 0/34 [00:00<?, ?it/s]"
      ]
     },
     "metadata": {},
     "output_type": "display_data"
    },
    {
     "data": {
      "application/vnd.jupyter.widget-view+json": {
       "model_id": "",
       "version_major": 2,
       "version_minor": 0
      },
      "text/plain": [
       "  0%|          | 0/5 [00:00<?, ?it/s]"
      ]
     },
     "metadata": {},
     "output_type": "display_data"
    },
    {
     "name": "stdout",
     "output_type": "stream",
     "text": [
      "Epoch #085: Rec_Loss/train = 0.321, KLD/train = 0.085, Discl_Loss/train = 0.896, Adv_Loss/train = 0.429 | Rec_Loss/valid = 0.312, KLD/valid = 0.055, Discl_Loss/valid = 1.275, Adv_Loss/valid = 1.331\n"
     ]
    },
    {
     "data": {
      "application/vnd.jupyter.widget-view+json": {
       "model_id": "",
       "version_major": 2,
       "version_minor": 0
      },
      "text/plain": [
       "  0%|          | 0/34 [00:00<?, ?it/s]"
      ]
     },
     "metadata": {},
     "output_type": "display_data"
    },
    {
     "data": {
      "application/vnd.jupyter.widget-view+json": {
       "model_id": "",
       "version_major": 2,
       "version_minor": 0
      },
      "text/plain": [
       "  0%|          | 0/5 [00:00<?, ?it/s]"
      ]
     },
     "metadata": {},
     "output_type": "display_data"
    },
    {
     "name": "stdout",
     "output_type": "stream",
     "text": [
      "Epoch #086: Rec_Loss/train = 0.304, KLD/train = 0.084, Discl_Loss/train = 0.896, Adv_Loss/train = 0.397 | Rec_Loss/valid = 0.313, KLD/valid = 0.063, Discl_Loss/valid = 1.334, Adv_Loss/valid = 0.398\n"
     ]
    },
    {
     "data": {
      "application/vnd.jupyter.widget-view+json": {
       "model_id": "",
       "version_major": 2,
       "version_minor": 0
      },
      "text/plain": [
       "  0%|          | 0/34 [00:00<?, ?it/s]"
      ]
     },
     "metadata": {},
     "output_type": "display_data"
    },
    {
     "data": {
      "application/vnd.jupyter.widget-view+json": {
       "model_id": "",
       "version_major": 2,
       "version_minor": 0
      },
      "text/plain": [
       "  0%|          | 0/5 [00:00<?, ?it/s]"
      ]
     },
     "metadata": {},
     "output_type": "display_data"
    },
    {
     "name": "stdout",
     "output_type": "stream",
     "text": [
      "Epoch #087: Rec_Loss/train = 0.305, KLD/train = 0.085, Discl_Loss/train = 0.903, Adv_Loss/train = 0.404 | Rec_Loss/valid = 0.314, KLD/valid = 0.063, Discl_Loss/valid = 1.259, Adv_Loss/valid = 0.472\n"
     ]
    },
    {
     "data": {
      "application/vnd.jupyter.widget-view+json": {
       "model_id": "",
       "version_major": 2,
       "version_minor": 0
      },
      "text/plain": [
       "  0%|          | 0/34 [00:00<?, ?it/s]"
      ]
     },
     "metadata": {},
     "output_type": "display_data"
    },
    {
     "data": {
      "application/vnd.jupyter.widget-view+json": {
       "model_id": "",
       "version_major": 2,
       "version_minor": 0
      },
      "text/plain": [
       "  0%|          | 0/5 [00:00<?, ?it/s]"
      ]
     },
     "metadata": {},
     "output_type": "display_data"
    },
    {
     "name": "stdout",
     "output_type": "stream",
     "text": [
      "Epoch #088: Rec_Loss/train = 0.312, KLD/train = 0.087, Discl_Loss/train = 0.892, Adv_Loss/train = 0.428 | Rec_Loss/valid = 0.318, KLD/valid = 0.060, Discl_Loss/valid = 1.276, Adv_Loss/valid = 0.835\n"
     ]
    },
    {
     "data": {
      "application/vnd.jupyter.widget-view+json": {
       "model_id": "",
       "version_major": 2,
       "version_minor": 0
      },
      "text/plain": [
       "  0%|          | 0/34 [00:00<?, ?it/s]"
      ]
     },
     "metadata": {},
     "output_type": "display_data"
    },
    {
     "data": {
      "application/vnd.jupyter.widget-view+json": {
       "model_id": "",
       "version_major": 2,
       "version_minor": 0
      },
      "text/plain": [
       "  0%|          | 0/5 [00:00<?, ?it/s]"
      ]
     },
     "metadata": {},
     "output_type": "display_data"
    },
    {
     "name": "stdout",
     "output_type": "stream",
     "text": [
      "Epoch #089: Rec_Loss/train = 0.311, KLD/train = 0.083, Discl_Loss/train = 0.890, Adv_Loss/train = 0.373 | Rec_Loss/valid = 0.327, KLD/valid = 0.054, Discl_Loss/valid = 1.325, Adv_Loss/valid = 0.426\n"
     ]
    },
    {
     "data": {
      "application/vnd.jupyter.widget-view+json": {
       "model_id": "",
       "version_major": 2,
       "version_minor": 0
      },
      "text/plain": [
       "  0%|          | 0/34 [00:00<?, ?it/s]"
      ]
     },
     "metadata": {},
     "output_type": "display_data"
    },
    {
     "data": {
      "application/vnd.jupyter.widget-view+json": {
       "model_id": "",
       "version_major": 2,
       "version_minor": 0
      },
      "text/plain": [
       "  0%|          | 0/5 [00:00<?, ?it/s]"
      ]
     },
     "metadata": {},
     "output_type": "display_data"
    },
    {
     "name": "stdout",
     "output_type": "stream",
     "text": [
      "Epoch #090: Rec_Loss/train = 0.311, KLD/train = 0.084, Discl_Loss/train = 0.891, Adv_Loss/train = 0.369 | Rec_Loss/valid = 0.331, KLD/valid = 0.051, Discl_Loss/valid = 1.273, Adv_Loss/valid = 0.626\n"
     ]
    },
    {
     "data": {
      "application/vnd.jupyter.widget-view+json": {
       "model_id": "",
       "version_major": 2,
       "version_minor": 0
      },
      "text/plain": [
       "  0%|          | 0/34 [00:00<?, ?it/s]"
      ]
     },
     "metadata": {},
     "output_type": "display_data"
    },
    {
     "data": {
      "application/vnd.jupyter.widget-view+json": {
       "model_id": "",
       "version_major": 2,
       "version_minor": 0
      },
      "text/plain": [
       "  0%|          | 0/5 [00:00<?, ?it/s]"
      ]
     },
     "metadata": {},
     "output_type": "display_data"
    },
    {
     "name": "stdout",
     "output_type": "stream",
     "text": [
      "Epoch #091: Rec_Loss/train = 0.305, KLD/train = 0.083, Discl_Loss/train = 0.894, Adv_Loss/train = 0.384 | Rec_Loss/valid = 0.330, KLD/valid = 0.054, Discl_Loss/valid = 1.276, Adv_Loss/valid = 0.831\n"
     ]
    },
    {
     "data": {
      "application/vnd.jupyter.widget-view+json": {
       "model_id": "",
       "version_major": 2,
       "version_minor": 0
      },
      "text/plain": [
       "  0%|          | 0/34 [00:00<?, ?it/s]"
      ]
     },
     "metadata": {},
     "output_type": "display_data"
    },
    {
     "data": {
      "application/vnd.jupyter.widget-view+json": {
       "model_id": "",
       "version_major": 2,
       "version_minor": 0
      },
      "text/plain": [
       "  0%|          | 0/5 [00:00<?, ?it/s]"
      ]
     },
     "metadata": {},
     "output_type": "display_data"
    },
    {
     "name": "stdout",
     "output_type": "stream",
     "text": [
      "Epoch #092: Rec_Loss/train = 0.311, KLD/train = 0.086, Discl_Loss/train = 0.870, Adv_Loss/train = 0.401 | Rec_Loss/valid = 0.337, KLD/valid = 0.064, Discl_Loss/valid = 1.273, Adv_Loss/valid = 1.207\n"
     ]
    },
    {
     "data": {
      "application/vnd.jupyter.widget-view+json": {
       "model_id": "",
       "version_major": 2,
       "version_minor": 0
      },
      "text/plain": [
       "  0%|          | 0/34 [00:00<?, ?it/s]"
      ]
     },
     "metadata": {},
     "output_type": "display_data"
    },
    {
     "data": {
      "application/vnd.jupyter.widget-view+json": {
       "model_id": "",
       "version_major": 2,
       "version_minor": 0
      },
      "text/plain": [
       "  0%|          | 0/5 [00:00<?, ?it/s]"
      ]
     },
     "metadata": {},
     "output_type": "display_data"
    },
    {
     "name": "stdout",
     "output_type": "stream",
     "text": [
      "Epoch #093: Rec_Loss/train = 0.300, KLD/train = 0.085, Discl_Loss/train = 0.911, Adv_Loss/train = 0.405 | Rec_Loss/valid = 0.318, KLD/valid = 0.061, Discl_Loss/valid = 1.287, Adv_Loss/valid = 0.533\n"
     ]
    },
    {
     "data": {
      "application/vnd.jupyter.widget-view+json": {
       "model_id": "",
       "version_major": 2,
       "version_minor": 0
      },
      "text/plain": [
       "  0%|          | 0/34 [00:00<?, ?it/s]"
      ]
     },
     "metadata": {},
     "output_type": "display_data"
    },
    {
     "data": {
      "application/vnd.jupyter.widget-view+json": {
       "model_id": "",
       "version_major": 2,
       "version_minor": 0
      },
      "text/plain": [
       "  0%|          | 0/5 [00:00<?, ?it/s]"
      ]
     },
     "metadata": {},
     "output_type": "display_data"
    },
    {
     "name": "stdout",
     "output_type": "stream",
     "text": [
      "Epoch #094: Rec_Loss/train = 0.303, KLD/train = 0.087, Discl_Loss/train = 0.904, Adv_Loss/train = 0.409 | Rec_Loss/valid = 0.327, KLD/valid = 0.054, Discl_Loss/valid = 1.265, Adv_Loss/valid = 1.020\n"
     ]
    },
    {
     "data": {
      "application/vnd.jupyter.widget-view+json": {
       "model_id": "",
       "version_major": 2,
       "version_minor": 0
      },
      "text/plain": [
       "  0%|          | 0/34 [00:00<?, ?it/s]"
      ]
     },
     "metadata": {},
     "output_type": "display_data"
    },
    {
     "data": {
      "application/vnd.jupyter.widget-view+json": {
       "model_id": "",
       "version_major": 2,
       "version_minor": 0
      },
      "text/plain": [
       "  0%|          | 0/5 [00:00<?, ?it/s]"
      ]
     },
     "metadata": {},
     "output_type": "display_data"
    },
    {
     "name": "stdout",
     "output_type": "stream",
     "text": [
      "Epoch #095: Rec_Loss/train = 0.301, KLD/train = 0.088, Discl_Loss/train = 0.869, Adv_Loss/train = 0.410 | Rec_Loss/valid = 0.316, KLD/valid = 0.052, Discl_Loss/valid = 1.246, Adv_Loss/valid = 1.292\n"
     ]
    },
    {
     "data": {
      "application/vnd.jupyter.widget-view+json": {
       "model_id": "",
       "version_major": 2,
       "version_minor": 0
      },
      "text/plain": [
       "  0%|          | 0/34 [00:00<?, ?it/s]"
      ]
     },
     "metadata": {},
     "output_type": "display_data"
    },
    {
     "data": {
      "application/vnd.jupyter.widget-view+json": {
       "model_id": "",
       "version_major": 2,
       "version_minor": 0
      },
      "text/plain": [
       "  0%|          | 0/5 [00:00<?, ?it/s]"
      ]
     },
     "metadata": {},
     "output_type": "display_data"
    },
    {
     "name": "stdout",
     "output_type": "stream",
     "text": [
      "Epoch #096: Rec_Loss/train = 0.294, KLD/train = 0.084, Discl_Loss/train = 0.854, Adv_Loss/train = 0.331 | Rec_Loss/valid = 0.324, KLD/valid = 0.055, Discl_Loss/valid = 1.226, Adv_Loss/valid = 0.498\n"
     ]
    },
    {
     "data": {
      "application/vnd.jupyter.widget-view+json": {
       "model_id": "",
       "version_major": 2,
       "version_minor": 0
      },
      "text/plain": [
       "  0%|          | 0/34 [00:00<?, ?it/s]"
      ]
     },
     "metadata": {},
     "output_type": "display_data"
    },
    {
     "data": {
      "application/vnd.jupyter.widget-view+json": {
       "model_id": "",
       "version_major": 2,
       "version_minor": 0
      },
      "text/plain": [
       "  0%|          | 0/5 [00:00<?, ?it/s]"
      ]
     },
     "metadata": {},
     "output_type": "display_data"
    },
    {
     "name": "stdout",
     "output_type": "stream",
     "text": [
      "Epoch #097: Rec_Loss/train = 0.312, KLD/train = 0.084, Discl_Loss/train = 0.861, Adv_Loss/train = 0.398 | Rec_Loss/valid = 0.315, KLD/valid = 0.053, Discl_Loss/valid = 1.243, Adv_Loss/valid = 0.641\n"
     ]
    },
    {
     "data": {
      "application/vnd.jupyter.widget-view+json": {
       "model_id": "",
       "version_major": 2,
       "version_minor": 0
      },
      "text/plain": [
       "  0%|          | 0/34 [00:00<?, ?it/s]"
      ]
     },
     "metadata": {},
     "output_type": "display_data"
    },
    {
     "data": {
      "application/vnd.jupyter.widget-view+json": {
       "model_id": "",
       "version_major": 2,
       "version_minor": 0
      },
      "text/plain": [
       "  0%|          | 0/5 [00:00<?, ?it/s]"
      ]
     },
     "metadata": {},
     "output_type": "display_data"
    },
    {
     "name": "stdout",
     "output_type": "stream",
     "text": [
      "Epoch #098: Rec_Loss/train = 0.308, KLD/train = 0.085, Discl_Loss/train = 0.860, Adv_Loss/train = 0.392 | Rec_Loss/valid = 0.311, KLD/valid = 0.052, Discl_Loss/valid = 1.249, Adv_Loss/valid = 0.936\n"
     ]
    },
    {
     "data": {
      "application/vnd.jupyter.widget-view+json": {
       "model_id": "",
       "version_major": 2,
       "version_minor": 0
      },
      "text/plain": [
       "  0%|          | 0/34 [00:00<?, ?it/s]"
      ]
     },
     "metadata": {},
     "output_type": "display_data"
    },
    {
     "data": {
      "application/vnd.jupyter.widget-view+json": {
       "model_id": "",
       "version_major": 2,
       "version_minor": 0
      },
      "text/plain": [
       "  0%|          | 0/5 [00:00<?, ?it/s]"
      ]
     },
     "metadata": {},
     "output_type": "display_data"
    },
    {
     "name": "stdout",
     "output_type": "stream",
     "text": [
      "Epoch #099: Rec_Loss/train = 0.300, KLD/train = 0.083, Discl_Loss/train = 0.849, Adv_Loss/train = 0.402 | Rec_Loss/valid = 0.323, KLD/valid = 0.058, Discl_Loss/valid = 1.261, Adv_Loss/valid = 1.322\n"
     ]
    },
    {
     "data": {
      "application/vnd.jupyter.widget-view+json": {
       "model_id": "",
       "version_major": 2,
       "version_minor": 0
      },
      "text/plain": [
       "  0%|          | 0/34 [00:00<?, ?it/s]"
      ]
     },
     "metadata": {},
     "output_type": "display_data"
    },
    {
     "data": {
      "application/vnd.jupyter.widget-view+json": {
       "model_id": "",
       "version_major": 2,
       "version_minor": 0
      },
      "text/plain": [
       "  0%|          | 0/5 [00:00<?, ?it/s]"
      ]
     },
     "metadata": {},
     "output_type": "display_data"
    },
    {
     "name": "stdout",
     "output_type": "stream",
     "text": [
      "Epoch #100: Rec_Loss/train = 0.302, KLD/train = 0.082, Discl_Loss/train = 0.848, Adv_Loss/train = 0.374 | Rec_Loss/valid = 0.372, KLD/valid = 0.058, Discl_Loss/valid = 1.280, Adv_Loss/valid = 0.319\n"
     ]
    },
    {
     "data": {
      "application/vnd.jupyter.widget-view+json": {
       "model_id": "",
       "version_major": 2,
       "version_minor": 0
      },
      "text/plain": [
       "  0%|          | 0/34 [00:00<?, ?it/s]"
      ]
     },
     "metadata": {},
     "output_type": "display_data"
    },
    {
     "data": {
      "application/vnd.jupyter.widget-view+json": {
       "model_id": "",
       "version_major": 2,
       "version_minor": 0
      },
      "text/plain": [
       "  0%|          | 0/5 [00:00<?, ?it/s]"
      ]
     },
     "metadata": {},
     "output_type": "display_data"
    },
    {
     "name": "stdout",
     "output_type": "stream",
     "text": [
      "Epoch #101: Rec_Loss/train = 0.310, KLD/train = 0.084, Discl_Loss/train = 0.859, Adv_Loss/train = 0.403 | Rec_Loss/valid = 0.304, KLD/valid = 0.055, Discl_Loss/valid = 1.228, Adv_Loss/valid = 0.378\n"
     ]
    },
    {
     "data": {
      "application/vnd.jupyter.widget-view+json": {
       "model_id": "",
       "version_major": 2,
       "version_minor": 0
      },
      "text/plain": [
       "  0%|          | 0/34 [00:00<?, ?it/s]"
      ]
     },
     "metadata": {},
     "output_type": "display_data"
    },
    {
     "data": {
      "application/vnd.jupyter.widget-view+json": {
       "model_id": "",
       "version_major": 2,
       "version_minor": 0
      },
      "text/plain": [
       "  0%|          | 0/5 [00:00<?, ?it/s]"
      ]
     },
     "metadata": {},
     "output_type": "display_data"
    },
    {
     "name": "stdout",
     "output_type": "stream",
     "text": [
      "Epoch #102: Rec_Loss/train = 0.313, KLD/train = 0.085, Discl_Loss/train = 0.848, Adv_Loss/train = 0.422 | Rec_Loss/valid = 0.310, KLD/valid = 0.060, Discl_Loss/valid = 1.200, Adv_Loss/valid = 0.372\n"
     ]
    },
    {
     "data": {
      "application/vnd.jupyter.widget-view+json": {
       "model_id": "",
       "version_major": 2,
       "version_minor": 0
      },
      "text/plain": [
       "  0%|          | 0/34 [00:00<?, ?it/s]"
      ]
     },
     "metadata": {},
     "output_type": "display_data"
    },
    {
     "data": {
      "application/vnd.jupyter.widget-view+json": {
       "model_id": "",
       "version_major": 2,
       "version_minor": 0
      },
      "text/plain": [
       "  0%|          | 0/5 [00:00<?, ?it/s]"
      ]
     },
     "metadata": {},
     "output_type": "display_data"
    },
    {
     "name": "stdout",
     "output_type": "stream",
     "text": [
      "Epoch #103: Rec_Loss/train = 0.305, KLD/train = 0.086, Discl_Loss/train = 0.860, Adv_Loss/train = 0.418 | Rec_Loss/valid = 0.318, KLD/valid = 0.060, Discl_Loss/valid = 1.261, Adv_Loss/valid = 0.809\n"
     ]
    },
    {
     "data": {
      "application/vnd.jupyter.widget-view+json": {
       "model_id": "",
       "version_major": 2,
       "version_minor": 0
      },
      "text/plain": [
       "  0%|          | 0/34 [00:00<?, ?it/s]"
      ]
     },
     "metadata": {},
     "output_type": "display_data"
    },
    {
     "data": {
      "application/vnd.jupyter.widget-view+json": {
       "model_id": "",
       "version_major": 2,
       "version_minor": 0
      },
      "text/plain": [
       "  0%|          | 0/5 [00:00<?, ?it/s]"
      ]
     },
     "metadata": {},
     "output_type": "display_data"
    },
    {
     "name": "stdout",
     "output_type": "stream",
     "text": [
      "Epoch #104: Rec_Loss/train = 0.301, KLD/train = 0.086, Discl_Loss/train = 0.864, Adv_Loss/train = 0.397 | Rec_Loss/valid = 0.325, KLD/valid = 0.055, Discl_Loss/valid = 1.276, Adv_Loss/valid = 0.434\n"
     ]
    },
    {
     "data": {
      "application/vnd.jupyter.widget-view+json": {
       "model_id": "",
       "version_major": 2,
       "version_minor": 0
      },
      "text/plain": [
       "  0%|          | 0/34 [00:00<?, ?it/s]"
      ]
     },
     "metadata": {},
     "output_type": "display_data"
    },
    {
     "data": {
      "application/vnd.jupyter.widget-view+json": {
       "model_id": "",
       "version_major": 2,
       "version_minor": 0
      },
      "text/plain": [
       "  0%|          | 0/5 [00:00<?, ?it/s]"
      ]
     },
     "metadata": {},
     "output_type": "display_data"
    },
    {
     "name": "stdout",
     "output_type": "stream",
     "text": [
      "Epoch #105: Rec_Loss/train = 0.296, KLD/train = 0.085, Discl_Loss/train = 0.848, Adv_Loss/train = 0.332 | Rec_Loss/valid = 0.335, KLD/valid = 0.058, Discl_Loss/valid = 1.268, Adv_Loss/valid = 0.247\n"
     ]
    },
    {
     "data": {
      "application/vnd.jupyter.widget-view+json": {
       "model_id": "",
       "version_major": 2,
       "version_minor": 0
      },
      "text/plain": [
       "  0%|          | 0/34 [00:00<?, ?it/s]"
      ]
     },
     "metadata": {},
     "output_type": "display_data"
    },
    {
     "data": {
      "application/vnd.jupyter.widget-view+json": {
       "model_id": "",
       "version_major": 2,
       "version_minor": 0
      },
      "text/plain": [
       "  0%|          | 0/5 [00:00<?, ?it/s]"
      ]
     },
     "metadata": {},
     "output_type": "display_data"
    },
    {
     "name": "stdout",
     "output_type": "stream",
     "text": [
      "Epoch #106: Rec_Loss/train = 0.307, KLD/train = 0.087, Discl_Loss/train = 0.874, Adv_Loss/train = 0.369 | Rec_Loss/valid = 0.310, KLD/valid = 0.055, Discl_Loss/valid = 1.201, Adv_Loss/valid = 1.165\n"
     ]
    },
    {
     "data": {
      "application/vnd.jupyter.widget-view+json": {
       "model_id": "",
       "version_major": 2,
       "version_minor": 0
      },
      "text/plain": [
       "  0%|          | 0/34 [00:00<?, ?it/s]"
      ]
     },
     "metadata": {},
     "output_type": "display_data"
    },
    {
     "data": {
      "application/vnd.jupyter.widget-view+json": {
       "model_id": "",
       "version_major": 2,
       "version_minor": 0
      },
      "text/plain": [
       "  0%|          | 0/5 [00:00<?, ?it/s]"
      ]
     },
     "metadata": {},
     "output_type": "display_data"
    },
    {
     "name": "stdout",
     "output_type": "stream",
     "text": [
      "Epoch #107: Rec_Loss/train = 0.307, KLD/train = 0.084, Discl_Loss/train = 0.851, Adv_Loss/train = 0.403 | Rec_Loss/valid = 0.312, KLD/valid = 0.050, Discl_Loss/valid = 1.246, Adv_Loss/valid = 0.265\n"
     ]
    },
    {
     "data": {
      "application/vnd.jupyter.widget-view+json": {
       "model_id": "",
       "version_major": 2,
       "version_minor": 0
      },
      "text/plain": [
       "  0%|          | 0/34 [00:00<?, ?it/s]"
      ]
     },
     "metadata": {},
     "output_type": "display_data"
    },
    {
     "data": {
      "application/vnd.jupyter.widget-view+json": {
       "model_id": "",
       "version_major": 2,
       "version_minor": 0
      },
      "text/plain": [
       "  0%|          | 0/5 [00:00<?, ?it/s]"
      ]
     },
     "metadata": {},
     "output_type": "display_data"
    },
    {
     "name": "stdout",
     "output_type": "stream",
     "text": [
      "Epoch #108: Rec_Loss/train = 0.307, KLD/train = 0.082, Discl_Loss/train = 0.841, Adv_Loss/train = 0.400 | Rec_Loss/valid = 0.324, KLD/valid = 0.063, Discl_Loss/valid = 1.216, Adv_Loss/valid = 1.009\n"
     ]
    },
    {
     "data": {
      "application/vnd.jupyter.widget-view+json": {
       "model_id": "",
       "version_major": 2,
       "version_minor": 0
      },
      "text/plain": [
       "  0%|          | 0/34 [00:00<?, ?it/s]"
      ]
     },
     "metadata": {},
     "output_type": "display_data"
    },
    {
     "data": {
      "application/vnd.jupyter.widget-view+json": {
       "model_id": "",
       "version_major": 2,
       "version_minor": 0
      },
      "text/plain": [
       "  0%|          | 0/5 [00:00<?, ?it/s]"
      ]
     },
     "metadata": {},
     "output_type": "display_data"
    },
    {
     "name": "stdout",
     "output_type": "stream",
     "text": [
      "Epoch #109: Rec_Loss/train = 0.298, KLD/train = 0.080, Discl_Loss/train = 0.831, Adv_Loss/train = 0.354 | Rec_Loss/valid = 0.314, KLD/valid = 0.059, Discl_Loss/valid = 1.191, Adv_Loss/valid = 0.602\n"
     ]
    },
    {
     "data": {
      "application/vnd.jupyter.widget-view+json": {
       "model_id": "",
       "version_major": 2,
       "version_minor": 0
      },
      "text/plain": [
       "  0%|          | 0/34 [00:00<?, ?it/s]"
      ]
     },
     "metadata": {},
     "output_type": "display_data"
    },
    {
     "data": {
      "application/vnd.jupyter.widget-view+json": {
       "model_id": "",
       "version_major": 2,
       "version_minor": 0
      },
      "text/plain": [
       "  0%|          | 0/5 [00:00<?, ?it/s]"
      ]
     },
     "metadata": {},
     "output_type": "display_data"
    },
    {
     "name": "stdout",
     "output_type": "stream",
     "text": [
      "Epoch #110: Rec_Loss/train = 0.304, KLD/train = 0.086, Discl_Loss/train = 0.833, Adv_Loss/train = 0.412 | Rec_Loss/valid = 0.318, KLD/valid = 0.052, Discl_Loss/valid = 1.231, Adv_Loss/valid = 0.382\n"
     ]
    },
    {
     "data": {
      "application/vnd.jupyter.widget-view+json": {
       "model_id": "",
       "version_major": 2,
       "version_minor": 0
      },
      "text/plain": [
       "  0%|          | 0/34 [00:00<?, ?it/s]"
      ]
     },
     "metadata": {},
     "output_type": "display_data"
    },
    {
     "data": {
      "application/vnd.jupyter.widget-view+json": {
       "model_id": "",
       "version_major": 2,
       "version_minor": 0
      },
      "text/plain": [
       "  0%|          | 0/5 [00:00<?, ?it/s]"
      ]
     },
     "metadata": {},
     "output_type": "display_data"
    },
    {
     "name": "stdout",
     "output_type": "stream",
     "text": [
      "Epoch #111: Rec_Loss/train = 0.304, KLD/train = 0.086, Discl_Loss/train = 0.830, Adv_Loss/train = 0.372 | Rec_Loss/valid = 0.304, KLD/valid = 0.060, Discl_Loss/valid = 1.238, Adv_Loss/valid = 0.657\n"
     ]
    },
    {
     "data": {
      "application/vnd.jupyter.widget-view+json": {
       "model_id": "",
       "version_major": 2,
       "version_minor": 0
      },
      "text/plain": [
       "  0%|          | 0/34 [00:00<?, ?it/s]"
      ]
     },
     "metadata": {},
     "output_type": "display_data"
    },
    {
     "data": {
      "application/vnd.jupyter.widget-view+json": {
       "model_id": "",
       "version_major": 2,
       "version_minor": 0
      },
      "text/plain": [
       "  0%|          | 0/5 [00:00<?, ?it/s]"
      ]
     },
     "metadata": {},
     "output_type": "display_data"
    },
    {
     "name": "stdout",
     "output_type": "stream",
     "text": [
      "Epoch #112: Rec_Loss/train = 0.301, KLD/train = 0.084, Discl_Loss/train = 0.830, Adv_Loss/train = 0.387 | Rec_Loss/valid = 0.314, KLD/valid = 0.053, Discl_Loss/valid = 1.269, Adv_Loss/valid = 1.306\n"
     ]
    },
    {
     "data": {
      "application/vnd.jupyter.widget-view+json": {
       "model_id": "",
       "version_major": 2,
       "version_minor": 0
      },
      "text/plain": [
       "  0%|          | 0/34 [00:00<?, ?it/s]"
      ]
     },
     "metadata": {},
     "output_type": "display_data"
    },
    {
     "data": {
      "application/vnd.jupyter.widget-view+json": {
       "model_id": "",
       "version_major": 2,
       "version_minor": 0
      },
      "text/plain": [
       "  0%|          | 0/5 [00:00<?, ?it/s]"
      ]
     },
     "metadata": {},
     "output_type": "display_data"
    },
    {
     "name": "stdout",
     "output_type": "stream",
     "text": [
      "Epoch #113: Rec_Loss/train = 0.302, KLD/train = 0.085, Discl_Loss/train = 0.826, Adv_Loss/train = 0.382 | Rec_Loss/valid = 0.343, KLD/valid = 0.055, Discl_Loss/valid = 1.279, Adv_Loss/valid = 0.811\n"
     ]
    },
    {
     "data": {
      "application/vnd.jupyter.widget-view+json": {
       "model_id": "",
       "version_major": 2,
       "version_minor": 0
      },
      "text/plain": [
       "  0%|          | 0/34 [00:00<?, ?it/s]"
      ]
     },
     "metadata": {},
     "output_type": "display_data"
    },
    {
     "data": {
      "application/vnd.jupyter.widget-view+json": {
       "model_id": "",
       "version_major": 2,
       "version_minor": 0
      },
      "text/plain": [
       "  0%|          | 0/5 [00:00<?, ?it/s]"
      ]
     },
     "metadata": {},
     "output_type": "display_data"
    },
    {
     "name": "stdout",
     "output_type": "stream",
     "text": [
      "Epoch #114: Rec_Loss/train = 0.296, KLD/train = 0.087, Discl_Loss/train = 0.820, Adv_Loss/train = 0.362 | Rec_Loss/valid = 0.328, KLD/valid = 0.052, Discl_Loss/valid = 1.215, Adv_Loss/valid = 0.936\n"
     ]
    },
    {
     "data": {
      "application/vnd.jupyter.widget-view+json": {
       "model_id": "",
       "version_major": 2,
       "version_minor": 0
      },
      "text/plain": [
       "  0%|          | 0/34 [00:00<?, ?it/s]"
      ]
     },
     "metadata": {},
     "output_type": "display_data"
    },
    {
     "data": {
      "application/vnd.jupyter.widget-view+json": {
       "model_id": "",
       "version_major": 2,
       "version_minor": 0
      },
      "text/plain": [
       "  0%|          | 0/5 [00:00<?, ?it/s]"
      ]
     },
     "metadata": {},
     "output_type": "display_data"
    },
    {
     "name": "stdout",
     "output_type": "stream",
     "text": [
      "Epoch #115: Rec_Loss/train = 0.300, KLD/train = 0.087, Discl_Loss/train = 0.835, Adv_Loss/train = 0.395 | Rec_Loss/valid = 0.306, KLD/valid = 0.058, Discl_Loss/valid = 1.257, Adv_Loss/valid = 0.504\n"
     ]
    },
    {
     "data": {
      "application/vnd.jupyter.widget-view+json": {
       "model_id": "",
       "version_major": 2,
       "version_minor": 0
      },
      "text/plain": [
       "  0%|          | 0/34 [00:00<?, ?it/s]"
      ]
     },
     "metadata": {},
     "output_type": "display_data"
    },
    {
     "data": {
      "application/vnd.jupyter.widget-view+json": {
       "model_id": "",
       "version_major": 2,
       "version_minor": 0
      },
      "text/plain": [
       "  0%|          | 0/5 [00:00<?, ?it/s]"
      ]
     },
     "metadata": {},
     "output_type": "display_data"
    },
    {
     "name": "stdout",
     "output_type": "stream",
     "text": [
      "Epoch #116: Rec_Loss/train = 0.296, KLD/train = 0.084, Discl_Loss/train = 0.836, Adv_Loss/train = 0.367 | Rec_Loss/valid = 0.317, KLD/valid = 0.055, Discl_Loss/valid = 1.234, Adv_Loss/valid = 0.162\n"
     ]
    },
    {
     "data": {
      "application/vnd.jupyter.widget-view+json": {
       "model_id": "",
       "version_major": 2,
       "version_minor": 0
      },
      "text/plain": [
       "  0%|          | 0/34 [00:00<?, ?it/s]"
      ]
     },
     "metadata": {},
     "output_type": "display_data"
    },
    {
     "data": {
      "application/vnd.jupyter.widget-view+json": {
       "model_id": "",
       "version_major": 2,
       "version_minor": 0
      },
      "text/plain": [
       "  0%|          | 0/5 [00:00<?, ?it/s]"
      ]
     },
     "metadata": {},
     "output_type": "display_data"
    },
    {
     "name": "stdout",
     "output_type": "stream",
     "text": [
      "Epoch #117: Rec_Loss/train = 0.304, KLD/train = 0.083, Discl_Loss/train = 0.828, Adv_Loss/train = 0.421 | Rec_Loss/valid = 0.317, KLD/valid = 0.060, Discl_Loss/valid = 1.288, Adv_Loss/valid = 0.785\n"
     ]
    },
    {
     "data": {
      "application/vnd.jupyter.widget-view+json": {
       "model_id": "",
       "version_major": 2,
       "version_minor": 0
      },
      "text/plain": [
       "  0%|          | 0/34 [00:00<?, ?it/s]"
      ]
     },
     "metadata": {},
     "output_type": "display_data"
    },
    {
     "data": {
      "application/vnd.jupyter.widget-view+json": {
       "model_id": "",
       "version_major": 2,
       "version_minor": 0
      },
      "text/plain": [
       "  0%|          | 0/5 [00:00<?, ?it/s]"
      ]
     },
     "metadata": {},
     "output_type": "display_data"
    },
    {
     "name": "stdout",
     "output_type": "stream",
     "text": [
      "Epoch #118: Rec_Loss/train = 0.296, KLD/train = 0.085, Discl_Loss/train = 0.838, Adv_Loss/train = 0.374 | Rec_Loss/valid = 0.331, KLD/valid = 0.052, Discl_Loss/valid = 1.279, Adv_Loss/valid = 0.631\n"
     ]
    },
    {
     "data": {
      "application/vnd.jupyter.widget-view+json": {
       "model_id": "",
       "version_major": 2,
       "version_minor": 0
      },
      "text/plain": [
       "  0%|          | 0/34 [00:00<?, ?it/s]"
      ]
     },
     "metadata": {},
     "output_type": "display_data"
    },
    {
     "data": {
      "application/vnd.jupyter.widget-view+json": {
       "model_id": "",
       "version_major": 2,
       "version_minor": 0
      },
      "text/plain": [
       "  0%|          | 0/5 [00:00<?, ?it/s]"
      ]
     },
     "metadata": {},
     "output_type": "display_data"
    },
    {
     "name": "stdout",
     "output_type": "stream",
     "text": [
      "Epoch #119: Rec_Loss/train = 0.295, KLD/train = 0.083, Discl_Loss/train = 0.813, Adv_Loss/train = 0.333 | Rec_Loss/valid = 0.320, KLD/valid = 0.053, Discl_Loss/valid = 1.270, Adv_Loss/valid = 0.614\n"
     ]
    },
    {
     "data": {
      "application/vnd.jupyter.widget-view+json": {
       "model_id": "",
       "version_major": 2,
       "version_minor": 0
      },
      "text/plain": [
       "  0%|          | 0/34 [00:00<?, ?it/s]"
      ]
     },
     "metadata": {},
     "output_type": "display_data"
    },
    {
     "data": {
      "application/vnd.jupyter.widget-view+json": {
       "model_id": "",
       "version_major": 2,
       "version_minor": 0
      },
      "text/plain": [
       "  0%|          | 0/5 [00:00<?, ?it/s]"
      ]
     },
     "metadata": {},
     "output_type": "display_data"
    },
    {
     "name": "stdout",
     "output_type": "stream",
     "text": [
      "Epoch #120: Rec_Loss/train = 0.306, KLD/train = 0.082, Discl_Loss/train = 0.833, Adv_Loss/train = 0.400 | Rec_Loss/valid = 0.311, KLD/valid = 0.052, Discl_Loss/valid = 1.277, Adv_Loss/valid = 0.339\n"
     ]
    },
    {
     "data": {
      "application/vnd.jupyter.widget-view+json": {
       "model_id": "",
       "version_major": 2,
       "version_minor": 0
      },
      "text/plain": [
       "  0%|          | 0/34 [00:00<?, ?it/s]"
      ]
     },
     "metadata": {},
     "output_type": "display_data"
    },
    {
     "data": {
      "application/vnd.jupyter.widget-view+json": {
       "model_id": "",
       "version_major": 2,
       "version_minor": 0
      },
      "text/plain": [
       "  0%|          | 0/5 [00:00<?, ?it/s]"
      ]
     },
     "metadata": {},
     "output_type": "display_data"
    },
    {
     "name": "stdout",
     "output_type": "stream",
     "text": [
      "Epoch #121: Rec_Loss/train = 0.309, KLD/train = 0.083, Discl_Loss/train = 0.840, Adv_Loss/train = 0.402 | Rec_Loss/valid = 0.333, KLD/valid = 0.058, Discl_Loss/valid = 1.275, Adv_Loss/valid = 0.590\n"
     ]
    },
    {
     "data": {
      "application/vnd.jupyter.widget-view+json": {
       "model_id": "",
       "version_major": 2,
       "version_minor": 0
      },
      "text/plain": [
       "  0%|          | 0/34 [00:00<?, ?it/s]"
      ]
     },
     "metadata": {},
     "output_type": "display_data"
    },
    {
     "data": {
      "application/vnd.jupyter.widget-view+json": {
       "model_id": "",
       "version_major": 2,
       "version_minor": 0
      },
      "text/plain": [
       "  0%|          | 0/5 [00:00<?, ?it/s]"
      ]
     },
     "metadata": {},
     "output_type": "display_data"
    },
    {
     "name": "stdout",
     "output_type": "stream",
     "text": [
      "Epoch #122: Rec_Loss/train = 0.301, KLD/train = 0.084, Discl_Loss/train = 0.831, Adv_Loss/train = 0.393 | Rec_Loss/valid = 0.306, KLD/valid = 0.057, Discl_Loss/valid = 1.222, Adv_Loss/valid = 0.606\n"
     ]
    },
    {
     "data": {
      "application/vnd.jupyter.widget-view+json": {
       "model_id": "",
       "version_major": 2,
       "version_minor": 0
      },
      "text/plain": [
       "  0%|          | 0/34 [00:00<?, ?it/s]"
      ]
     },
     "metadata": {},
     "output_type": "display_data"
    },
    {
     "data": {
      "application/vnd.jupyter.widget-view+json": {
       "model_id": "",
       "version_major": 2,
       "version_minor": 0
      },
      "text/plain": [
       "  0%|          | 0/5 [00:00<?, ?it/s]"
      ]
     },
     "metadata": {},
     "output_type": "display_data"
    },
    {
     "name": "stdout",
     "output_type": "stream",
     "text": [
      "Epoch #123: Rec_Loss/train = 0.306, KLD/train = 0.084, Discl_Loss/train = 0.829, Adv_Loss/train = 0.398 | Rec_Loss/valid = 0.332, KLD/valid = 0.059, Discl_Loss/valid = 1.289, Adv_Loss/valid = 0.528\n"
     ]
    },
    {
     "data": {
      "application/vnd.jupyter.widget-view+json": {
       "model_id": "",
       "version_major": 2,
       "version_minor": 0
      },
      "text/plain": [
       "  0%|          | 0/34 [00:00<?, ?it/s]"
      ]
     },
     "metadata": {},
     "output_type": "display_data"
    },
    {
     "data": {
      "application/vnd.jupyter.widget-view+json": {
       "model_id": "",
       "version_major": 2,
       "version_minor": 0
      },
      "text/plain": [
       "  0%|          | 0/5 [00:00<?, ?it/s]"
      ]
     },
     "metadata": {},
     "output_type": "display_data"
    },
    {
     "name": "stdout",
     "output_type": "stream",
     "text": [
      "Epoch #124: Rec_Loss/train = 0.298, KLD/train = 0.083, Discl_Loss/train = 0.815, Adv_Loss/train = 0.335 | Rec_Loss/valid = 0.302, KLD/valid = 0.056, Discl_Loss/valid = 1.255, Adv_Loss/valid = 0.990\n"
     ]
    },
    {
     "data": {
      "application/vnd.jupyter.widget-view+json": {
       "model_id": "",
       "version_major": 2,
       "version_minor": 0
      },
      "text/plain": [
       "  0%|          | 0/34 [00:00<?, ?it/s]"
      ]
     },
     "metadata": {},
     "output_type": "display_data"
    },
    {
     "data": {
      "application/vnd.jupyter.widget-view+json": {
       "model_id": "",
       "version_major": 2,
       "version_minor": 0
      },
      "text/plain": [
       "  0%|          | 0/5 [00:00<?, ?it/s]"
      ]
     },
     "metadata": {},
     "output_type": "display_data"
    },
    {
     "name": "stdout",
     "output_type": "stream",
     "text": [
      "Epoch #125: Rec_Loss/train = 0.301, KLD/train = 0.083, Discl_Loss/train = 0.810, Adv_Loss/train = 0.381 | Rec_Loss/valid = 0.326, KLD/valid = 0.054, Discl_Loss/valid = 1.254, Adv_Loss/valid = 0.691\n"
     ]
    },
    {
     "data": {
      "application/vnd.jupyter.widget-view+json": {
       "model_id": "",
       "version_major": 2,
       "version_minor": 0
      },
      "text/plain": [
       "  0%|          | 0/34 [00:00<?, ?it/s]"
      ]
     },
     "metadata": {},
     "output_type": "display_data"
    },
    {
     "data": {
      "application/vnd.jupyter.widget-view+json": {
       "model_id": "",
       "version_major": 2,
       "version_minor": 0
      },
      "text/plain": [
       "  0%|          | 0/5 [00:00<?, ?it/s]"
      ]
     },
     "metadata": {},
     "output_type": "display_data"
    },
    {
     "name": "stdout",
     "output_type": "stream",
     "text": [
      "Epoch #126: Rec_Loss/train = 0.302, KLD/train = 0.083, Discl_Loss/train = 0.815, Adv_Loss/train = 0.368 | Rec_Loss/valid = 0.309, KLD/valid = 0.055, Discl_Loss/valid = 1.223, Adv_Loss/valid = 0.565\n"
     ]
    },
    {
     "data": {
      "application/vnd.jupyter.widget-view+json": {
       "model_id": "",
       "version_major": 2,
       "version_minor": 0
      },
      "text/plain": [
       "  0%|          | 0/34 [00:00<?, ?it/s]"
      ]
     },
     "metadata": {},
     "output_type": "display_data"
    },
    {
     "data": {
      "application/vnd.jupyter.widget-view+json": {
       "model_id": "",
       "version_major": 2,
       "version_minor": 0
      },
      "text/plain": [
       "  0%|          | 0/5 [00:00<?, ?it/s]"
      ]
     },
     "metadata": {},
     "output_type": "display_data"
    },
    {
     "name": "stdout",
     "output_type": "stream",
     "text": [
      "Epoch #127: Rec_Loss/train = 0.308, KLD/train = 0.083, Discl_Loss/train = 0.814, Adv_Loss/train = 0.399 | Rec_Loss/valid = 0.311, KLD/valid = 0.059, Discl_Loss/valid = 1.225, Adv_Loss/valid = 0.286\n"
     ]
    },
    {
     "data": {
      "application/vnd.jupyter.widget-view+json": {
       "model_id": "",
       "version_major": 2,
       "version_minor": 0
      },
      "text/plain": [
       "  0%|          | 0/34 [00:00<?, ?it/s]"
      ]
     },
     "metadata": {},
     "output_type": "display_data"
    },
    {
     "data": {
      "application/vnd.jupyter.widget-view+json": {
       "model_id": "",
       "version_major": 2,
       "version_minor": 0
      },
      "text/plain": [
       "  0%|          | 0/5 [00:00<?, ?it/s]"
      ]
     },
     "metadata": {},
     "output_type": "display_data"
    },
    {
     "name": "stdout",
     "output_type": "stream",
     "text": [
      "Epoch #128: Rec_Loss/train = 0.299, KLD/train = 0.084, Discl_Loss/train = 0.804, Adv_Loss/train = 0.370 | Rec_Loss/valid = 0.328, KLD/valid = 0.054, Discl_Loss/valid = 1.229, Adv_Loss/valid = 0.488\n"
     ]
    },
    {
     "data": {
      "application/vnd.jupyter.widget-view+json": {
       "model_id": "",
       "version_major": 2,
       "version_minor": 0
      },
      "text/plain": [
       "  0%|          | 0/34 [00:00<?, ?it/s]"
      ]
     },
     "metadata": {},
     "output_type": "display_data"
    },
    {
     "data": {
      "application/vnd.jupyter.widget-view+json": {
       "model_id": "",
       "version_major": 2,
       "version_minor": 0
      },
      "text/plain": [
       "  0%|          | 0/5 [00:00<?, ?it/s]"
      ]
     },
     "metadata": {},
     "output_type": "display_data"
    },
    {
     "name": "stdout",
     "output_type": "stream",
     "text": [
      "Epoch #129: Rec_Loss/train = 0.298, KLD/train = 0.083, Discl_Loss/train = 0.793, Adv_Loss/train = 0.363 | Rec_Loss/valid = 0.316, KLD/valid = 0.056, Discl_Loss/valid = 1.213, Adv_Loss/valid = 0.954\n"
     ]
    },
    {
     "data": {
      "application/vnd.jupyter.widget-view+json": {
       "model_id": "",
       "version_major": 2,
       "version_minor": 0
      },
      "text/plain": [
       "  0%|          | 0/34 [00:00<?, ?it/s]"
      ]
     },
     "metadata": {},
     "output_type": "display_data"
    },
    {
     "data": {
      "application/vnd.jupyter.widget-view+json": {
       "model_id": "",
       "version_major": 2,
       "version_minor": 0
      },
      "text/plain": [
       "  0%|          | 0/5 [00:00<?, ?it/s]"
      ]
     },
     "metadata": {},
     "output_type": "display_data"
    },
    {
     "name": "stdout",
     "output_type": "stream",
     "text": [
      "Epoch #130: Rec_Loss/train = 0.303, KLD/train = 0.083, Discl_Loss/train = 0.806, Adv_Loss/train = 0.396 | Rec_Loss/valid = 0.333, KLD/valid = 0.056, Discl_Loss/valid = 1.260, Adv_Loss/valid = 1.002\n"
     ]
    },
    {
     "data": {
      "application/vnd.jupyter.widget-view+json": {
       "model_id": "",
       "version_major": 2,
       "version_minor": 0
      },
      "text/plain": [
       "  0%|          | 0/34 [00:00<?, ?it/s]"
      ]
     },
     "metadata": {},
     "output_type": "display_data"
    },
    {
     "data": {
      "application/vnd.jupyter.widget-view+json": {
       "model_id": "",
       "version_major": 2,
       "version_minor": 0
      },
      "text/plain": [
       "  0%|          | 0/5 [00:00<?, ?it/s]"
      ]
     },
     "metadata": {},
     "output_type": "display_data"
    },
    {
     "name": "stdout",
     "output_type": "stream",
     "text": [
      "Epoch #131: Rec_Loss/train = 0.298, KLD/train = 0.084, Discl_Loss/train = 0.809, Adv_Loss/train = 0.397 | Rec_Loss/valid = 0.300, KLD/valid = 0.053, Discl_Loss/valid = 1.243, Adv_Loss/valid = 0.412\n"
     ]
    },
    {
     "data": {
      "application/vnd.jupyter.widget-view+json": {
       "model_id": "",
       "version_major": 2,
       "version_minor": 0
      },
      "text/plain": [
       "  0%|          | 0/34 [00:00<?, ?it/s]"
      ]
     },
     "metadata": {},
     "output_type": "display_data"
    },
    {
     "data": {
      "application/vnd.jupyter.widget-view+json": {
       "model_id": "",
       "version_major": 2,
       "version_minor": 0
      },
      "text/plain": [
       "  0%|          | 0/5 [00:00<?, ?it/s]"
      ]
     },
     "metadata": {},
     "output_type": "display_data"
    },
    {
     "name": "stdout",
     "output_type": "stream",
     "text": [
      "Epoch #132: Rec_Loss/train = 0.299, KLD/train = 0.082, Discl_Loss/train = 0.805, Adv_Loss/train = 0.385 | Rec_Loss/valid = 0.312, KLD/valid = 0.056, Discl_Loss/valid = 1.274, Adv_Loss/valid = 0.286\n"
     ]
    },
    {
     "data": {
      "application/vnd.jupyter.widget-view+json": {
       "model_id": "",
       "version_major": 2,
       "version_minor": 0
      },
      "text/plain": [
       "  0%|          | 0/34 [00:00<?, ?it/s]"
      ]
     },
     "metadata": {},
     "output_type": "display_data"
    },
    {
     "data": {
      "application/vnd.jupyter.widget-view+json": {
       "model_id": "",
       "version_major": 2,
       "version_minor": 0
      },
      "text/plain": [
       "  0%|          | 0/5 [00:00<?, ?it/s]"
      ]
     },
     "metadata": {},
     "output_type": "display_data"
    },
    {
     "name": "stdout",
     "output_type": "stream",
     "text": [
      "Epoch #133: Rec_Loss/train = 0.298, KLD/train = 0.083, Discl_Loss/train = 0.803, Adv_Loss/train = 0.371 | Rec_Loss/valid = 0.303, KLD/valid = 0.059, Discl_Loss/valid = 1.268, Adv_Loss/valid = 0.586\n"
     ]
    },
    {
     "data": {
      "application/vnd.jupyter.widget-view+json": {
       "model_id": "",
       "version_major": 2,
       "version_minor": 0
      },
      "text/plain": [
       "  0%|          | 0/34 [00:00<?, ?it/s]"
      ]
     },
     "metadata": {},
     "output_type": "display_data"
    },
    {
     "data": {
      "application/vnd.jupyter.widget-view+json": {
       "model_id": "",
       "version_major": 2,
       "version_minor": 0
      },
      "text/plain": [
       "  0%|          | 0/5 [00:00<?, ?it/s]"
      ]
     },
     "metadata": {},
     "output_type": "display_data"
    },
    {
     "name": "stdout",
     "output_type": "stream",
     "text": [
      "Epoch #134: Rec_Loss/train = 0.301, KLD/train = 0.083, Discl_Loss/train = 0.813, Adv_Loss/train = 0.392 | Rec_Loss/valid = 0.309, KLD/valid = 0.059, Discl_Loss/valid = 1.274, Adv_Loss/valid = 0.460\n"
     ]
    },
    {
     "data": {
      "application/vnd.jupyter.widget-view+json": {
       "model_id": "",
       "version_major": 2,
       "version_minor": 0
      },
      "text/plain": [
       "  0%|          | 0/34 [00:00<?, ?it/s]"
      ]
     },
     "metadata": {},
     "output_type": "display_data"
    },
    {
     "data": {
      "application/vnd.jupyter.widget-view+json": {
       "model_id": "",
       "version_major": 2,
       "version_minor": 0
      },
      "text/plain": [
       "  0%|          | 0/5 [00:00<?, ?it/s]"
      ]
     },
     "metadata": {},
     "output_type": "display_data"
    },
    {
     "name": "stdout",
     "output_type": "stream",
     "text": [
      "Epoch #135: Rec_Loss/train = 0.305, KLD/train = 0.083, Discl_Loss/train = 0.815, Adv_Loss/train = 0.366 | Rec_Loss/valid = 0.301, KLD/valid = 0.055, Discl_Loss/valid = 1.256, Adv_Loss/valid = 1.602\n"
     ]
    },
    {
     "data": {
      "application/vnd.jupyter.widget-view+json": {
       "model_id": "",
       "version_major": 2,
       "version_minor": 0
      },
      "text/plain": [
       "  0%|          | 0/34 [00:00<?, ?it/s]"
      ]
     },
     "metadata": {},
     "output_type": "display_data"
    },
    {
     "data": {
      "application/vnd.jupyter.widget-view+json": {
       "model_id": "",
       "version_major": 2,
       "version_minor": 0
      },
      "text/plain": [
       "  0%|          | 0/5 [00:00<?, ?it/s]"
      ]
     },
     "metadata": {},
     "output_type": "display_data"
    },
    {
     "name": "stdout",
     "output_type": "stream",
     "text": [
      "Epoch #136: Rec_Loss/train = 0.300, KLD/train = 0.082, Discl_Loss/train = 0.786, Adv_Loss/train = 0.399 | Rec_Loss/valid = 0.320, KLD/valid = 0.055, Discl_Loss/valid = 1.253, Adv_Loss/valid = 0.207\n"
     ]
    },
    {
     "data": {
      "application/vnd.jupyter.widget-view+json": {
       "model_id": "",
       "version_major": 2,
       "version_minor": 0
      },
      "text/plain": [
       "  0%|          | 0/34 [00:00<?, ?it/s]"
      ]
     },
     "metadata": {},
     "output_type": "display_data"
    },
    {
     "data": {
      "application/vnd.jupyter.widget-view+json": {
       "model_id": "",
       "version_major": 2,
       "version_minor": 0
      },
      "text/plain": [
       "  0%|          | 0/5 [00:00<?, ?it/s]"
      ]
     },
     "metadata": {},
     "output_type": "display_data"
    },
    {
     "name": "stdout",
     "output_type": "stream",
     "text": [
      "Epoch #137: Rec_Loss/train = 0.298, KLD/train = 0.083, Discl_Loss/train = 0.804, Adv_Loss/train = 0.379 | Rec_Loss/valid = 0.316, KLD/valid = 0.055, Discl_Loss/valid = 1.264, Adv_Loss/valid = 0.895\n"
     ]
    },
    {
     "data": {
      "application/vnd.jupyter.widget-view+json": {
       "model_id": "",
       "version_major": 2,
       "version_minor": 0
      },
      "text/plain": [
       "  0%|          | 0/34 [00:00<?, ?it/s]"
      ]
     },
     "metadata": {},
     "output_type": "display_data"
    },
    {
     "data": {
      "application/vnd.jupyter.widget-view+json": {
       "model_id": "",
       "version_major": 2,
       "version_minor": 0
      },
      "text/plain": [
       "  0%|          | 0/5 [00:00<?, ?it/s]"
      ]
     },
     "metadata": {},
     "output_type": "display_data"
    },
    {
     "name": "stdout",
     "output_type": "stream",
     "text": [
      "Epoch #138: Rec_Loss/train = 0.298, KLD/train = 0.082, Discl_Loss/train = 0.813, Adv_Loss/train = 0.368 | Rec_Loss/valid = 0.316, KLD/valid = 0.055, Discl_Loss/valid = 1.278, Adv_Loss/valid = 1.252\n"
     ]
    },
    {
     "data": {
      "application/vnd.jupyter.widget-view+json": {
       "model_id": "",
       "version_major": 2,
       "version_minor": 0
      },
      "text/plain": [
       "  0%|          | 0/34 [00:00<?, ?it/s]"
      ]
     },
     "metadata": {},
     "output_type": "display_data"
    },
    {
     "data": {
      "application/vnd.jupyter.widget-view+json": {
       "model_id": "",
       "version_major": 2,
       "version_minor": 0
      },
      "text/plain": [
       "  0%|          | 0/5 [00:00<?, ?it/s]"
      ]
     },
     "metadata": {},
     "output_type": "display_data"
    },
    {
     "name": "stdout",
     "output_type": "stream",
     "text": [
      "Epoch #139: Rec_Loss/train = 0.297, KLD/train = 0.084, Discl_Loss/train = 0.793, Adv_Loss/train = 0.364 | Rec_Loss/valid = 0.314, KLD/valid = 0.052, Discl_Loss/valid = 1.250, Adv_Loss/valid = 0.542\n"
     ]
    },
    {
     "data": {
      "application/vnd.jupyter.widget-view+json": {
       "model_id": "",
       "version_major": 2,
       "version_minor": 0
      },
      "text/plain": [
       "  0%|          | 0/34 [00:00<?, ?it/s]"
      ]
     },
     "metadata": {},
     "output_type": "display_data"
    },
    {
     "data": {
      "application/vnd.jupyter.widget-view+json": {
       "model_id": "",
       "version_major": 2,
       "version_minor": 0
      },
      "text/plain": [
       "  0%|          | 0/5 [00:00<?, ?it/s]"
      ]
     },
     "metadata": {},
     "output_type": "display_data"
    },
    {
     "name": "stdout",
     "output_type": "stream",
     "text": [
      "Epoch #140: Rec_Loss/train = 0.304, KLD/train = 0.084, Discl_Loss/train = 0.792, Adv_Loss/train = 0.399 | Rec_Loss/valid = 0.312, KLD/valid = 0.057, Discl_Loss/valid = 1.251, Adv_Loss/valid = 0.698\n"
     ]
    },
    {
     "data": {
      "application/vnd.jupyter.widget-view+json": {
       "model_id": "",
       "version_major": 2,
       "version_minor": 0
      },
      "text/plain": [
       "  0%|          | 0/34 [00:00<?, ?it/s]"
      ]
     },
     "metadata": {},
     "output_type": "display_data"
    },
    {
     "data": {
      "application/vnd.jupyter.widget-view+json": {
       "model_id": "",
       "version_major": 2,
       "version_minor": 0
      },
      "text/plain": [
       "  0%|          | 0/5 [00:00<?, ?it/s]"
      ]
     },
     "metadata": {},
     "output_type": "display_data"
    },
    {
     "name": "stdout",
     "output_type": "stream",
     "text": [
      "Epoch #141: Rec_Loss/train = 0.298, KLD/train = 0.083, Discl_Loss/train = 0.799, Adv_Loss/train = 0.374 | Rec_Loss/valid = 0.327, KLD/valid = 0.050, Discl_Loss/valid = 1.271, Adv_Loss/valid = 0.482\n"
     ]
    },
    {
     "data": {
      "application/vnd.jupyter.widget-view+json": {
       "model_id": "",
       "version_major": 2,
       "version_minor": 0
      },
      "text/plain": [
       "  0%|          | 0/34 [00:00<?, ?it/s]"
      ]
     },
     "metadata": {},
     "output_type": "display_data"
    },
    {
     "data": {
      "application/vnd.jupyter.widget-view+json": {
       "model_id": "",
       "version_major": 2,
       "version_minor": 0
      },
      "text/plain": [
       "  0%|          | 0/5 [00:00<?, ?it/s]"
      ]
     },
     "metadata": {},
     "output_type": "display_data"
    },
    {
     "name": "stdout",
     "output_type": "stream",
     "text": [
      "Epoch #142: Rec_Loss/train = 0.300, KLD/train = 0.083, Discl_Loss/train = 0.779, Adv_Loss/train = 0.368 | Rec_Loss/valid = 0.331, KLD/valid = 0.056, Discl_Loss/valid = 1.257, Adv_Loss/valid = 0.365\n"
     ]
    },
    {
     "data": {
      "application/vnd.jupyter.widget-view+json": {
       "model_id": "",
       "version_major": 2,
       "version_minor": 0
      },
      "text/plain": [
       "  0%|          | 0/34 [00:00<?, ?it/s]"
      ]
     },
     "metadata": {},
     "output_type": "display_data"
    },
    {
     "data": {
      "application/vnd.jupyter.widget-view+json": {
       "model_id": "",
       "version_major": 2,
       "version_minor": 0
      },
      "text/plain": [
       "  0%|          | 0/5 [00:00<?, ?it/s]"
      ]
     },
     "metadata": {},
     "output_type": "display_data"
    },
    {
     "name": "stdout",
     "output_type": "stream",
     "text": [
      "Epoch #143: Rec_Loss/train = 0.301, KLD/train = 0.085, Discl_Loss/train = 0.777, Adv_Loss/train = 0.401 | Rec_Loss/valid = 0.319, KLD/valid = 0.052, Discl_Loss/valid = 1.253, Adv_Loss/valid = 0.305\n"
     ]
    },
    {
     "data": {
      "application/vnd.jupyter.widget-view+json": {
       "model_id": "",
       "version_major": 2,
       "version_minor": 0
      },
      "text/plain": [
       "  0%|          | 0/34 [00:00<?, ?it/s]"
      ]
     },
     "metadata": {},
     "output_type": "display_data"
    },
    {
     "data": {
      "application/vnd.jupyter.widget-view+json": {
       "model_id": "",
       "version_major": 2,
       "version_minor": 0
      },
      "text/plain": [
       "  0%|          | 0/5 [00:00<?, ?it/s]"
      ]
     },
     "metadata": {},
     "output_type": "display_data"
    },
    {
     "name": "stdout",
     "output_type": "stream",
     "text": [
      "Epoch #144: Rec_Loss/train = 0.301, KLD/train = 0.081, Discl_Loss/train = 0.789, Adv_Loss/train = 0.367 | Rec_Loss/valid = 0.322, KLD/valid = 0.052, Discl_Loss/valid = 1.254, Adv_Loss/valid = 0.258\n"
     ]
    },
    {
     "data": {
      "application/vnd.jupyter.widget-view+json": {
       "model_id": "",
       "version_major": 2,
       "version_minor": 0
      },
      "text/plain": [
       "  0%|          | 0/34 [00:00<?, ?it/s]"
      ]
     },
     "metadata": {},
     "output_type": "display_data"
    },
    {
     "data": {
      "application/vnd.jupyter.widget-view+json": {
       "model_id": "",
       "version_major": 2,
       "version_minor": 0
      },
      "text/plain": [
       "  0%|          | 0/5 [00:00<?, ?it/s]"
      ]
     },
     "metadata": {},
     "output_type": "display_data"
    },
    {
     "name": "stdout",
     "output_type": "stream",
     "text": [
      "Epoch #145: Rec_Loss/train = 0.289, KLD/train = 0.083, Discl_Loss/train = 0.787, Adv_Loss/train = 0.350 | Rec_Loss/valid = 0.327, KLD/valid = 0.053, Discl_Loss/valid = 1.247, Adv_Loss/valid = 0.412\n"
     ]
    },
    {
     "data": {
      "application/vnd.jupyter.widget-view+json": {
       "model_id": "",
       "version_major": 2,
       "version_minor": 0
      },
      "text/plain": [
       "  0%|          | 0/34 [00:00<?, ?it/s]"
      ]
     },
     "metadata": {},
     "output_type": "display_data"
    },
    {
     "data": {
      "application/vnd.jupyter.widget-view+json": {
       "model_id": "",
       "version_major": 2,
       "version_minor": 0
      },
      "text/plain": [
       "  0%|          | 0/5 [00:00<?, ?it/s]"
      ]
     },
     "metadata": {},
     "output_type": "display_data"
    },
    {
     "name": "stdout",
     "output_type": "stream",
     "text": [
      "Epoch #146: Rec_Loss/train = 0.297, KLD/train = 0.082, Discl_Loss/train = 0.785, Adv_Loss/train = 0.373 | Rec_Loss/valid = 0.314, KLD/valid = 0.055, Discl_Loss/valid = 1.217, Adv_Loss/valid = 0.574\n"
     ]
    },
    {
     "data": {
      "application/vnd.jupyter.widget-view+json": {
       "model_id": "",
       "version_major": 2,
       "version_minor": 0
      },
      "text/plain": [
       "  0%|          | 0/34 [00:00<?, ?it/s]"
      ]
     },
     "metadata": {},
     "output_type": "display_data"
    },
    {
     "data": {
      "application/vnd.jupyter.widget-view+json": {
       "model_id": "",
       "version_major": 2,
       "version_minor": 0
      },
      "text/plain": [
       "  0%|          | 0/5 [00:00<?, ?it/s]"
      ]
     },
     "metadata": {},
     "output_type": "display_data"
    },
    {
     "name": "stdout",
     "output_type": "stream",
     "text": [
      "Epoch #147: Rec_Loss/train = 0.286, KLD/train = 0.084, Discl_Loss/train = 0.785, Adv_Loss/train = 0.346 | Rec_Loss/valid = 0.314, KLD/valid = 0.055, Discl_Loss/valid = 1.232, Adv_Loss/valid = 0.388\n"
     ]
    },
    {
     "data": {
      "application/vnd.jupyter.widget-view+json": {
       "model_id": "",
       "version_major": 2,
       "version_minor": 0
      },
      "text/plain": [
       "  0%|          | 0/34 [00:00<?, ?it/s]"
      ]
     },
     "metadata": {},
     "output_type": "display_data"
    },
    {
     "data": {
      "application/vnd.jupyter.widget-view+json": {
       "model_id": "",
       "version_major": 2,
       "version_minor": 0
      },
      "text/plain": [
       "  0%|          | 0/5 [00:00<?, ?it/s]"
      ]
     },
     "metadata": {},
     "output_type": "display_data"
    },
    {
     "name": "stdout",
     "output_type": "stream",
     "text": [
      "Epoch #148: Rec_Loss/train = 0.294, KLD/train = 0.083, Discl_Loss/train = 0.787, Adv_Loss/train = 0.362 | Rec_Loss/valid = 0.324, KLD/valid = 0.056, Discl_Loss/valid = 1.222, Adv_Loss/valid = 1.229\n"
     ]
    },
    {
     "data": {
      "application/vnd.jupyter.widget-view+json": {
       "model_id": "",
       "version_major": 2,
       "version_minor": 0
      },
      "text/plain": [
       "  0%|          | 0/34 [00:00<?, ?it/s]"
      ]
     },
     "metadata": {},
     "output_type": "display_data"
    },
    {
     "data": {
      "application/vnd.jupyter.widget-view+json": {
       "model_id": "",
       "version_major": 2,
       "version_minor": 0
      },
      "text/plain": [
       "  0%|          | 0/5 [00:00<?, ?it/s]"
      ]
     },
     "metadata": {},
     "output_type": "display_data"
    },
    {
     "name": "stdout",
     "output_type": "stream",
     "text": [
      "Epoch #149: Rec_Loss/train = 0.299, KLD/train = 0.081, Discl_Loss/train = 0.785, Adv_Loss/train = 0.384 | Rec_Loss/valid = 0.333, KLD/valid = 0.053, Discl_Loss/valid = 1.266, Adv_Loss/valid = 0.908\n"
     ]
    },
    {
     "data": {
      "application/vnd.jupyter.widget-view+json": {
       "model_id": "",
       "version_major": 2,
       "version_minor": 0
      },
      "text/plain": [
       "  0%|          | 0/34 [00:00<?, ?it/s]"
      ]
     },
     "metadata": {},
     "output_type": "display_data"
    },
    {
     "data": {
      "application/vnd.jupyter.widget-view+json": {
       "model_id": "",
       "version_major": 2,
       "version_minor": 0
      },
      "text/plain": [
       "  0%|          | 0/5 [00:00<?, ?it/s]"
      ]
     },
     "metadata": {},
     "output_type": "display_data"
    },
    {
     "name": "stdout",
     "output_type": "stream",
     "text": [
      "Epoch #150: Rec_Loss/train = 0.293, KLD/train = 0.083, Discl_Loss/train = 0.787, Adv_Loss/train = 0.367 | Rec_Loss/valid = 0.319, KLD/valid = 0.056, Discl_Loss/valid = 1.279, Adv_Loss/valid = 0.545\n"
     ]
    },
    {
     "data": {
      "application/vnd.jupyter.widget-view+json": {
       "model_id": "",
       "version_major": 2,
       "version_minor": 0
      },
      "text/plain": [
       "  0%|          | 0/34 [00:00<?, ?it/s]"
      ]
     },
     "metadata": {},
     "output_type": "display_data"
    },
    {
     "data": {
      "application/vnd.jupyter.widget-view+json": {
       "model_id": "",
       "version_major": 2,
       "version_minor": 0
      },
      "text/plain": [
       "  0%|          | 0/5 [00:00<?, ?it/s]"
      ]
     },
     "metadata": {},
     "output_type": "display_data"
    },
    {
     "name": "stdout",
     "output_type": "stream",
     "text": [
      "Epoch #151: Rec_Loss/train = 0.305, KLD/train = 0.084, Discl_Loss/train = 0.786, Adv_Loss/train = 0.403 | Rec_Loss/valid = 0.333, KLD/valid = 0.060, Discl_Loss/valid = 1.224, Adv_Loss/valid = 0.623\n"
     ]
    },
    {
     "data": {
      "application/vnd.jupyter.widget-view+json": {
       "model_id": "",
       "version_major": 2,
       "version_minor": 0
      },
      "text/plain": [
       "  0%|          | 0/34 [00:00<?, ?it/s]"
      ]
     },
     "metadata": {},
     "output_type": "display_data"
    },
    {
     "data": {
      "application/vnd.jupyter.widget-view+json": {
       "model_id": "",
       "version_major": 2,
       "version_minor": 0
      },
      "text/plain": [
       "  0%|          | 0/5 [00:00<?, ?it/s]"
      ]
     },
     "metadata": {},
     "output_type": "display_data"
    },
    {
     "name": "stdout",
     "output_type": "stream",
     "text": [
      "Epoch #152: Rec_Loss/train = 0.300, KLD/train = 0.082, Discl_Loss/train = 0.785, Adv_Loss/train = 0.383 | Rec_Loss/valid = 0.337, KLD/valid = 0.054, Discl_Loss/valid = 1.258, Adv_Loss/valid = 0.420\n"
     ]
    },
    {
     "data": {
      "application/vnd.jupyter.widget-view+json": {
       "model_id": "",
       "version_major": 2,
       "version_minor": 0
      },
      "text/plain": [
       "  0%|          | 0/34 [00:00<?, ?it/s]"
      ]
     },
     "metadata": {},
     "output_type": "display_data"
    },
    {
     "data": {
      "application/vnd.jupyter.widget-view+json": {
       "model_id": "",
       "version_major": 2,
       "version_minor": 0
      },
      "text/plain": [
       "  0%|          | 0/5 [00:00<?, ?it/s]"
      ]
     },
     "metadata": {},
     "output_type": "display_data"
    },
    {
     "name": "stdout",
     "output_type": "stream",
     "text": [
      "Epoch #153: Rec_Loss/train = 0.296, KLD/train = 0.083, Discl_Loss/train = 0.788, Adv_Loss/train = 0.392 | Rec_Loss/valid = 0.321, KLD/valid = 0.059, Discl_Loss/valid = 1.270, Adv_Loss/valid = 0.429\n"
     ]
    },
    {
     "data": {
      "application/vnd.jupyter.widget-view+json": {
       "model_id": "",
       "version_major": 2,
       "version_minor": 0
      },
      "text/plain": [
       "  0%|          | 0/34 [00:00<?, ?it/s]"
      ]
     },
     "metadata": {},
     "output_type": "display_data"
    },
    {
     "data": {
      "application/vnd.jupyter.widget-view+json": {
       "model_id": "",
       "version_major": 2,
       "version_minor": 0
      },
      "text/plain": [
       "  0%|          | 0/5 [00:00<?, ?it/s]"
      ]
     },
     "metadata": {},
     "output_type": "display_data"
    },
    {
     "name": "stdout",
     "output_type": "stream",
     "text": [
      "Epoch #154: Rec_Loss/train = 0.300, KLD/train = 0.083, Discl_Loss/train = 0.793, Adv_Loss/train = 0.408 | Rec_Loss/valid = 0.326, KLD/valid = 0.050, Discl_Loss/valid = 1.251, Adv_Loss/valid = 1.109\n"
     ]
    },
    {
     "data": {
      "application/vnd.jupyter.widget-view+json": {
       "model_id": "",
       "version_major": 2,
       "version_minor": 0
      },
      "text/plain": [
       "  0%|          | 0/34 [00:00<?, ?it/s]"
      ]
     },
     "metadata": {},
     "output_type": "display_data"
    },
    {
     "data": {
      "application/vnd.jupyter.widget-view+json": {
       "model_id": "",
       "version_major": 2,
       "version_minor": 0
      },
      "text/plain": [
       "  0%|          | 0/5 [00:00<?, ?it/s]"
      ]
     },
     "metadata": {},
     "output_type": "display_data"
    },
    {
     "name": "stdout",
     "output_type": "stream",
     "text": [
      "Epoch #155: Rec_Loss/train = 0.302, KLD/train = 0.084, Discl_Loss/train = 0.791, Adv_Loss/train = 0.389 | Rec_Loss/valid = 0.320, KLD/valid = 0.049, Discl_Loss/valid = 1.229, Adv_Loss/valid = 1.371\n"
     ]
    },
    {
     "data": {
      "application/vnd.jupyter.widget-view+json": {
       "model_id": "",
       "version_major": 2,
       "version_minor": 0
      },
      "text/plain": [
       "  0%|          | 0/34 [00:00<?, ?it/s]"
      ]
     },
     "metadata": {},
     "output_type": "display_data"
    },
    {
     "data": {
      "application/vnd.jupyter.widget-view+json": {
       "model_id": "",
       "version_major": 2,
       "version_minor": 0
      },
      "text/plain": [
       "  0%|          | 0/5 [00:00<?, ?it/s]"
      ]
     },
     "metadata": {},
     "output_type": "display_data"
    },
    {
     "name": "stdout",
     "output_type": "stream",
     "text": [
      "Epoch #156: Rec_Loss/train = 0.298, KLD/train = 0.082, Discl_Loss/train = 0.791, Adv_Loss/train = 0.379 | Rec_Loss/valid = 0.314, KLD/valid = 0.052, Discl_Loss/valid = 1.260, Adv_Loss/valid = 0.672\n"
     ]
    },
    {
     "data": {
      "application/vnd.jupyter.widget-view+json": {
       "model_id": "",
       "version_major": 2,
       "version_minor": 0
      },
      "text/plain": [
       "  0%|          | 0/34 [00:00<?, ?it/s]"
      ]
     },
     "metadata": {},
     "output_type": "display_data"
    },
    {
     "data": {
      "application/vnd.jupyter.widget-view+json": {
       "model_id": "",
       "version_major": 2,
       "version_minor": 0
      },
      "text/plain": [
       "  0%|          | 0/5 [00:00<?, ?it/s]"
      ]
     },
     "metadata": {},
     "output_type": "display_data"
    },
    {
     "name": "stdout",
     "output_type": "stream",
     "text": [
      "Epoch #157: Rec_Loss/train = 0.303, KLD/train = 0.083, Discl_Loss/train = 0.779, Adv_Loss/train = 0.380 | Rec_Loss/valid = 0.330, KLD/valid = 0.052, Discl_Loss/valid = 1.279, Adv_Loss/valid = 0.899\n"
     ]
    },
    {
     "data": {
      "application/vnd.jupyter.widget-view+json": {
       "model_id": "",
       "version_major": 2,
       "version_minor": 0
      },
      "text/plain": [
       "  0%|          | 0/34 [00:00<?, ?it/s]"
      ]
     },
     "metadata": {},
     "output_type": "display_data"
    },
    {
     "data": {
      "application/vnd.jupyter.widget-view+json": {
       "model_id": "",
       "version_major": 2,
       "version_minor": 0
      },
      "text/plain": [
       "  0%|          | 0/5 [00:00<?, ?it/s]"
      ]
     },
     "metadata": {},
     "output_type": "display_data"
    },
    {
     "name": "stdout",
     "output_type": "stream",
     "text": [
      "Epoch #158: Rec_Loss/train = 0.289, KLD/train = 0.084, Discl_Loss/train = 0.768, Adv_Loss/train = 0.360 | Rec_Loss/valid = 0.310, KLD/valid = 0.049, Discl_Loss/valid = 1.259, Adv_Loss/valid = 0.539\n"
     ]
    },
    {
     "data": {
      "application/vnd.jupyter.widget-view+json": {
       "model_id": "",
       "version_major": 2,
       "version_minor": 0
      },
      "text/plain": [
       "  0%|          | 0/34 [00:00<?, ?it/s]"
      ]
     },
     "metadata": {},
     "output_type": "display_data"
    },
    {
     "data": {
      "application/vnd.jupyter.widget-view+json": {
       "model_id": "",
       "version_major": 2,
       "version_minor": 0
      },
      "text/plain": [
       "  0%|          | 0/5 [00:00<?, ?it/s]"
      ]
     },
     "metadata": {},
     "output_type": "display_data"
    },
    {
     "name": "stdout",
     "output_type": "stream",
     "text": [
      "Epoch #159: Rec_Loss/train = 0.290, KLD/train = 0.083, Discl_Loss/train = 0.767, Adv_Loss/train = 0.376 | Rec_Loss/valid = 0.306, KLD/valid = 0.051, Discl_Loss/valid = 1.253, Adv_Loss/valid = 0.736\n"
     ]
    },
    {
     "data": {
      "application/vnd.jupyter.widget-view+json": {
       "model_id": "",
       "version_major": 2,
       "version_minor": 0
      },
      "text/plain": [
       "  0%|          | 0/34 [00:00<?, ?it/s]"
      ]
     },
     "metadata": {},
     "output_type": "display_data"
    },
    {
     "data": {
      "application/vnd.jupyter.widget-view+json": {
       "model_id": "",
       "version_major": 2,
       "version_minor": 0
      },
      "text/plain": [
       "  0%|          | 0/5 [00:00<?, ?it/s]"
      ]
     },
     "metadata": {},
     "output_type": "display_data"
    },
    {
     "name": "stdout",
     "output_type": "stream",
     "text": [
      "Epoch #160: Rec_Loss/train = 0.295, KLD/train = 0.083, Discl_Loss/train = 0.785, Adv_Loss/train = 0.405 | Rec_Loss/valid = 0.298, KLD/valid = 0.055, Discl_Loss/valid = 1.265, Adv_Loss/valid = 0.501\n"
     ]
    },
    {
     "data": {
      "application/vnd.jupyter.widget-view+json": {
       "model_id": "",
       "version_major": 2,
       "version_minor": 0
      },
      "text/plain": [
       "  0%|          | 0/34 [00:00<?, ?it/s]"
      ]
     },
     "metadata": {},
     "output_type": "display_data"
    },
    {
     "data": {
      "application/vnd.jupyter.widget-view+json": {
       "model_id": "",
       "version_major": 2,
       "version_minor": 0
      },
      "text/plain": [
       "  0%|          | 0/5 [00:00<?, ?it/s]"
      ]
     },
     "metadata": {},
     "output_type": "display_data"
    },
    {
     "name": "stdout",
     "output_type": "stream",
     "text": [
      "Epoch #161: Rec_Loss/train = 0.292, KLD/train = 0.083, Discl_Loss/train = 0.783, Adv_Loss/train = 0.357 | Rec_Loss/valid = 0.326, KLD/valid = 0.053, Discl_Loss/valid = 1.270, Adv_Loss/valid = 0.992\n"
     ]
    },
    {
     "data": {
      "application/vnd.jupyter.widget-view+json": {
       "model_id": "",
       "version_major": 2,
       "version_minor": 0
      },
      "text/plain": [
       "  0%|          | 0/34 [00:00<?, ?it/s]"
      ]
     },
     "metadata": {},
     "output_type": "display_data"
    },
    {
     "data": {
      "application/vnd.jupyter.widget-view+json": {
       "model_id": "",
       "version_major": 2,
       "version_minor": 0
      },
      "text/plain": [
       "  0%|          | 0/5 [00:00<?, ?it/s]"
      ]
     },
     "metadata": {},
     "output_type": "display_data"
    },
    {
     "name": "stdout",
     "output_type": "stream",
     "text": [
      "Epoch #162: Rec_Loss/train = 0.304, KLD/train = 0.084, Discl_Loss/train = 0.791, Adv_Loss/train = 0.407 | Rec_Loss/valid = 0.306, KLD/valid = 0.054, Discl_Loss/valid = 1.265, Adv_Loss/valid = 0.630\n"
     ]
    },
    {
     "data": {
      "application/vnd.jupyter.widget-view+json": {
       "model_id": "",
       "version_major": 2,
       "version_minor": 0
      },
      "text/plain": [
       "  0%|          | 0/34 [00:00<?, ?it/s]"
      ]
     },
     "metadata": {},
     "output_type": "display_data"
    },
    {
     "data": {
      "application/vnd.jupyter.widget-view+json": {
       "model_id": "",
       "version_major": 2,
       "version_minor": 0
      },
      "text/plain": [
       "  0%|          | 0/5 [00:00<?, ?it/s]"
      ]
     },
     "metadata": {},
     "output_type": "display_data"
    },
    {
     "name": "stdout",
     "output_type": "stream",
     "text": [
      "Epoch #163: Rec_Loss/train = 0.305, KLD/train = 0.082, Discl_Loss/train = 0.791, Adv_Loss/train = 0.396 | Rec_Loss/valid = 0.319, KLD/valid = 0.054, Discl_Loss/valid = 1.258, Adv_Loss/valid = 1.112\n"
     ]
    },
    {
     "data": {
      "application/vnd.jupyter.widget-view+json": {
       "model_id": "",
       "version_major": 2,
       "version_minor": 0
      },
      "text/plain": [
       "  0%|          | 0/34 [00:00<?, ?it/s]"
      ]
     },
     "metadata": {},
     "output_type": "display_data"
    },
    {
     "data": {
      "application/vnd.jupyter.widget-view+json": {
       "model_id": "",
       "version_major": 2,
       "version_minor": 0
      },
      "text/plain": [
       "  0%|          | 0/5 [00:00<?, ?it/s]"
      ]
     },
     "metadata": {},
     "output_type": "display_data"
    },
    {
     "name": "stdout",
     "output_type": "stream",
     "text": [
      "Epoch #164: Rec_Loss/train = 0.297, KLD/train = 0.082, Discl_Loss/train = 0.796, Adv_Loss/train = 0.381 | Rec_Loss/valid = 0.315, KLD/valid = 0.054, Discl_Loss/valid = 1.254, Adv_Loss/valid = 0.904\n"
     ]
    },
    {
     "data": {
      "application/vnd.jupyter.widget-view+json": {
       "model_id": "",
       "version_major": 2,
       "version_minor": 0
      },
      "text/plain": [
       "  0%|          | 0/34 [00:00<?, ?it/s]"
      ]
     },
     "metadata": {},
     "output_type": "display_data"
    },
    {
     "data": {
      "application/vnd.jupyter.widget-view+json": {
       "model_id": "",
       "version_major": 2,
       "version_minor": 0
      },
      "text/plain": [
       "  0%|          | 0/5 [00:00<?, ?it/s]"
      ]
     },
     "metadata": {},
     "output_type": "display_data"
    },
    {
     "name": "stdout",
     "output_type": "stream",
     "text": [
      "Epoch #165: Rec_Loss/train = 0.296, KLD/train = 0.084, Discl_Loss/train = 0.787, Adv_Loss/train = 0.395 | Rec_Loss/valid = 0.306, KLD/valid = 0.052, Discl_Loss/valid = 1.266, Adv_Loss/valid = 0.757\n"
     ]
    },
    {
     "data": {
      "application/vnd.jupyter.widget-view+json": {
       "model_id": "",
       "version_major": 2,
       "version_minor": 0
      },
      "text/plain": [
       "  0%|          | 0/34 [00:00<?, ?it/s]"
      ]
     },
     "metadata": {},
     "output_type": "display_data"
    },
    {
     "data": {
      "application/vnd.jupyter.widget-view+json": {
       "model_id": "",
       "version_major": 2,
       "version_minor": 0
      },
      "text/plain": [
       "  0%|          | 0/5 [00:00<?, ?it/s]"
      ]
     },
     "metadata": {},
     "output_type": "display_data"
    },
    {
     "name": "stdout",
     "output_type": "stream",
     "text": [
      "Epoch #166: Rec_Loss/train = 0.301, KLD/train = 0.083, Discl_Loss/train = 0.787, Adv_Loss/train = 0.388 | Rec_Loss/valid = 0.321, KLD/valid = 0.055, Discl_Loss/valid = 1.270, Adv_Loss/valid = 1.143\n"
     ]
    },
    {
     "data": {
      "application/vnd.jupyter.widget-view+json": {
       "model_id": "",
       "version_major": 2,
       "version_minor": 0
      },
      "text/plain": [
       "  0%|          | 0/34 [00:00<?, ?it/s]"
      ]
     },
     "metadata": {},
     "output_type": "display_data"
    },
    {
     "data": {
      "application/vnd.jupyter.widget-view+json": {
       "model_id": "",
       "version_major": 2,
       "version_minor": 0
      },
      "text/plain": [
       "  0%|          | 0/5 [00:00<?, ?it/s]"
      ]
     },
     "metadata": {},
     "output_type": "display_data"
    },
    {
     "name": "stdout",
     "output_type": "stream",
     "text": [
      "Epoch #167: Rec_Loss/train = 0.307, KLD/train = 0.083, Discl_Loss/train = 0.791, Adv_Loss/train = 0.453 | Rec_Loss/valid = 0.309, KLD/valid = 0.052, Discl_Loss/valid = 1.255, Adv_Loss/valid = 0.754\n"
     ]
    },
    {
     "data": {
      "application/vnd.jupyter.widget-view+json": {
       "model_id": "",
       "version_major": 2,
       "version_minor": 0
      },
      "text/plain": [
       "  0%|          | 0/34 [00:00<?, ?it/s]"
      ]
     },
     "metadata": {},
     "output_type": "display_data"
    },
    {
     "data": {
      "application/vnd.jupyter.widget-view+json": {
       "model_id": "",
       "version_major": 2,
       "version_minor": 0
      },
      "text/plain": [
       "  0%|          | 0/5 [00:00<?, ?it/s]"
      ]
     },
     "metadata": {},
     "output_type": "display_data"
    },
    {
     "name": "stdout",
     "output_type": "stream",
     "text": [
      "Epoch #168: Rec_Loss/train = 0.296, KLD/train = 0.081, Discl_Loss/train = 0.763, Adv_Loss/train = 0.367 | Rec_Loss/valid = 0.322, KLD/valid = 0.053, Discl_Loss/valid = 1.254, Adv_Loss/valid = 0.466\n"
     ]
    },
    {
     "data": {
      "application/vnd.jupyter.widget-view+json": {
       "model_id": "",
       "version_major": 2,
       "version_minor": 0
      },
      "text/plain": [
       "  0%|          | 0/34 [00:00<?, ?it/s]"
      ]
     },
     "metadata": {},
     "output_type": "display_data"
    },
    {
     "data": {
      "application/vnd.jupyter.widget-view+json": {
       "model_id": "",
       "version_major": 2,
       "version_minor": 0
      },
      "text/plain": [
       "  0%|          | 0/5 [00:00<?, ?it/s]"
      ]
     },
     "metadata": {},
     "output_type": "display_data"
    },
    {
     "name": "stdout",
     "output_type": "stream",
     "text": [
      "Epoch #169: Rec_Loss/train = 0.302, KLD/train = 0.084, Discl_Loss/train = 0.768, Adv_Loss/train = 0.408 | Rec_Loss/valid = 0.311, KLD/valid = 0.049, Discl_Loss/valid = 1.246, Adv_Loss/valid = 1.305\n"
     ]
    },
    {
     "data": {
      "application/vnd.jupyter.widget-view+json": {
       "model_id": "",
       "version_major": 2,
       "version_minor": 0
      },
      "text/plain": [
       "  0%|          | 0/34 [00:00<?, ?it/s]"
      ]
     },
     "metadata": {},
     "output_type": "display_data"
    },
    {
     "data": {
      "application/vnd.jupyter.widget-view+json": {
       "model_id": "",
       "version_major": 2,
       "version_minor": 0
      },
      "text/plain": [
       "  0%|          | 0/5 [00:00<?, ?it/s]"
      ]
     },
     "metadata": {},
     "output_type": "display_data"
    },
    {
     "name": "stdout",
     "output_type": "stream",
     "text": [
      "Epoch #170: Rec_Loss/train = 0.302, KLD/train = 0.080, Discl_Loss/train = 0.755, Adv_Loss/train = 0.392 | Rec_Loss/valid = 0.320, KLD/valid = 0.053, Discl_Loss/valid = 1.298, Adv_Loss/valid = 0.508\n"
     ]
    },
    {
     "data": {
      "application/vnd.jupyter.widget-view+json": {
       "model_id": "",
       "version_major": 2,
       "version_minor": 0
      },
      "text/plain": [
       "  0%|          | 0/34 [00:00<?, ?it/s]"
      ]
     },
     "metadata": {},
     "output_type": "display_data"
    },
    {
     "data": {
      "application/vnd.jupyter.widget-view+json": {
       "model_id": "",
       "version_major": 2,
       "version_minor": 0
      },
      "text/plain": [
       "  0%|          | 0/5 [00:00<?, ?it/s]"
      ]
     },
     "metadata": {},
     "output_type": "display_data"
    },
    {
     "name": "stdout",
     "output_type": "stream",
     "text": [
      "Epoch #171: Rec_Loss/train = 0.297, KLD/train = 0.083, Discl_Loss/train = 0.759, Adv_Loss/train = 0.402 | Rec_Loss/valid = 0.320, KLD/valid = 0.056, Discl_Loss/valid = 1.246, Adv_Loss/valid = 0.756\n"
     ]
    },
    {
     "data": {
      "application/vnd.jupyter.widget-view+json": {
       "model_id": "",
       "version_major": 2,
       "version_minor": 0
      },
      "text/plain": [
       "  0%|          | 0/34 [00:00<?, ?it/s]"
      ]
     },
     "metadata": {},
     "output_type": "display_data"
    },
    {
     "data": {
      "application/vnd.jupyter.widget-view+json": {
       "model_id": "",
       "version_major": 2,
       "version_minor": 0
      },
      "text/plain": [
       "  0%|          | 0/5 [00:00<?, ?it/s]"
      ]
     },
     "metadata": {},
     "output_type": "display_data"
    },
    {
     "name": "stdout",
     "output_type": "stream",
     "text": [
      "Epoch #172: Rec_Loss/train = 0.297, KLD/train = 0.082, Discl_Loss/train = 0.758, Adv_Loss/train = 0.382 | Rec_Loss/valid = 0.349, KLD/valid = 0.057, Discl_Loss/valid = 1.230, Adv_Loss/valid = 1.534\n"
     ]
    },
    {
     "data": {
      "application/vnd.jupyter.widget-view+json": {
       "model_id": "",
       "version_major": 2,
       "version_minor": 0
      },
      "text/plain": [
       "  0%|          | 0/34 [00:00<?, ?it/s]"
      ]
     },
     "metadata": {},
     "output_type": "display_data"
    },
    {
     "data": {
      "application/vnd.jupyter.widget-view+json": {
       "model_id": "",
       "version_major": 2,
       "version_minor": 0
      },
      "text/plain": [
       "  0%|          | 0/5 [00:00<?, ?it/s]"
      ]
     },
     "metadata": {},
     "output_type": "display_data"
    },
    {
     "name": "stdout",
     "output_type": "stream",
     "text": [
      "Epoch #173: Rec_Loss/train = 0.304, KLD/train = 0.082, Discl_Loss/train = 0.765, Adv_Loss/train = 0.386 | Rec_Loss/valid = 0.309, KLD/valid = 0.054, Discl_Loss/valid = 1.270, Adv_Loss/valid = 0.905\n"
     ]
    },
    {
     "data": {
      "application/vnd.jupyter.widget-view+json": {
       "model_id": "",
       "version_major": 2,
       "version_minor": 0
      },
      "text/plain": [
       "  0%|          | 0/34 [00:00<?, ?it/s]"
      ]
     },
     "metadata": {},
     "output_type": "display_data"
    },
    {
     "data": {
      "application/vnd.jupyter.widget-view+json": {
       "model_id": "",
       "version_major": 2,
       "version_minor": 0
      },
      "text/plain": [
       "  0%|          | 0/5 [00:00<?, ?it/s]"
      ]
     },
     "metadata": {},
     "output_type": "display_data"
    },
    {
     "name": "stdout",
     "output_type": "stream",
     "text": [
      "Epoch #174: Rec_Loss/train = 0.295, KLD/train = 0.083, Discl_Loss/train = 0.764, Adv_Loss/train = 0.367 | Rec_Loss/valid = 0.302, KLD/valid = 0.047, Discl_Loss/valid = 1.238, Adv_Loss/valid = 0.908\n"
     ]
    },
    {
     "data": {
      "application/vnd.jupyter.widget-view+json": {
       "model_id": "",
       "version_major": 2,
       "version_minor": 0
      },
      "text/plain": [
       "  0%|          | 0/34 [00:00<?, ?it/s]"
      ]
     },
     "metadata": {},
     "output_type": "display_data"
    },
    {
     "data": {
      "application/vnd.jupyter.widget-view+json": {
       "model_id": "",
       "version_major": 2,
       "version_minor": 0
      },
      "text/plain": [
       "  0%|          | 0/5 [00:00<?, ?it/s]"
      ]
     },
     "metadata": {},
     "output_type": "display_data"
    },
    {
     "name": "stdout",
     "output_type": "stream",
     "text": [
      "Epoch #175: Rec_Loss/train = 0.302, KLD/train = 0.081, Discl_Loss/train = 0.765, Adv_Loss/train = 0.415 | Rec_Loss/valid = 0.313, KLD/valid = 0.047, Discl_Loss/valid = 1.258, Adv_Loss/valid = 0.862\n"
     ]
    },
    {
     "data": {
      "application/vnd.jupyter.widget-view+json": {
       "model_id": "",
       "version_major": 2,
       "version_minor": 0
      },
      "text/plain": [
       "  0%|          | 0/34 [00:00<?, ?it/s]"
      ]
     },
     "metadata": {},
     "output_type": "display_data"
    },
    {
     "data": {
      "application/vnd.jupyter.widget-view+json": {
       "model_id": "",
       "version_major": 2,
       "version_minor": 0
      },
      "text/plain": [
       "  0%|          | 0/5 [00:00<?, ?it/s]"
      ]
     },
     "metadata": {},
     "output_type": "display_data"
    },
    {
     "name": "stdout",
     "output_type": "stream",
     "text": [
      "Epoch #176: Rec_Loss/train = 0.293, KLD/train = 0.081, Discl_Loss/train = 0.768, Adv_Loss/train = 0.370 | Rec_Loss/valid = 0.306, KLD/valid = 0.051, Discl_Loss/valid = 1.220, Adv_Loss/valid = 0.511\n"
     ]
    },
    {
     "data": {
      "application/vnd.jupyter.widget-view+json": {
       "model_id": "",
       "version_major": 2,
       "version_minor": 0
      },
      "text/plain": [
       "  0%|          | 0/34 [00:00<?, ?it/s]"
      ]
     },
     "metadata": {},
     "output_type": "display_data"
    },
    {
     "data": {
      "application/vnd.jupyter.widget-view+json": {
       "model_id": "",
       "version_major": 2,
       "version_minor": 0
      },
      "text/plain": [
       "  0%|          | 0/5 [00:00<?, ?it/s]"
      ]
     },
     "metadata": {},
     "output_type": "display_data"
    },
    {
     "name": "stdout",
     "output_type": "stream",
     "text": [
      "Epoch #177: Rec_Loss/train = 0.293, KLD/train = 0.080, Discl_Loss/train = 0.758, Adv_Loss/train = 0.383 | Rec_Loss/valid = 0.319, KLD/valid = 0.046, Discl_Loss/valid = 1.221, Adv_Loss/valid = 1.085\n"
     ]
    },
    {
     "data": {
      "application/vnd.jupyter.widget-view+json": {
       "model_id": "",
       "version_major": 2,
       "version_minor": 0
      },
      "text/plain": [
       "  0%|          | 0/34 [00:00<?, ?it/s]"
      ]
     },
     "metadata": {},
     "output_type": "display_data"
    },
    {
     "data": {
      "application/vnd.jupyter.widget-view+json": {
       "model_id": "",
       "version_major": 2,
       "version_minor": 0
      },
      "text/plain": [
       "  0%|          | 0/5 [00:00<?, ?it/s]"
      ]
     },
     "metadata": {},
     "output_type": "display_data"
    },
    {
     "name": "stdout",
     "output_type": "stream",
     "text": [
      "Epoch #178: Rec_Loss/train = 0.302, KLD/train = 0.081, Discl_Loss/train = 0.758, Adv_Loss/train = 0.401 | Rec_Loss/valid = 0.326, KLD/valid = 0.046, Discl_Loss/valid = 1.229, Adv_Loss/valid = 0.960\n"
     ]
    },
    {
     "data": {
      "application/vnd.jupyter.widget-view+json": {
       "model_id": "",
       "version_major": 2,
       "version_minor": 0
      },
      "text/plain": [
       "  0%|          | 0/34 [00:00<?, ?it/s]"
      ]
     },
     "metadata": {},
     "output_type": "display_data"
    },
    {
     "data": {
      "application/vnd.jupyter.widget-view+json": {
       "model_id": "",
       "version_major": 2,
       "version_minor": 0
      },
      "text/plain": [
       "  0%|          | 0/5 [00:00<?, ?it/s]"
      ]
     },
     "metadata": {},
     "output_type": "display_data"
    },
    {
     "name": "stdout",
     "output_type": "stream",
     "text": [
      "Epoch #179: Rec_Loss/train = 0.298, KLD/train = 0.079, Discl_Loss/train = 0.759, Adv_Loss/train = 0.396 | Rec_Loss/valid = 0.325, KLD/valid = 0.047, Discl_Loss/valid = 1.255, Adv_Loss/valid = 0.575\n"
     ]
    },
    {
     "data": {
      "application/vnd.jupyter.widget-view+json": {
       "model_id": "",
       "version_major": 2,
       "version_minor": 0
      },
      "text/plain": [
       "  0%|          | 0/34 [00:00<?, ?it/s]"
      ]
     },
     "metadata": {},
     "output_type": "display_data"
    },
    {
     "data": {
      "application/vnd.jupyter.widget-view+json": {
       "model_id": "",
       "version_major": 2,
       "version_minor": 0
      },
      "text/plain": [
       "  0%|          | 0/5 [00:00<?, ?it/s]"
      ]
     },
     "metadata": {},
     "output_type": "display_data"
    },
    {
     "name": "stdout",
     "output_type": "stream",
     "text": [
      "Epoch #180: Rec_Loss/train = 0.292, KLD/train = 0.079, Discl_Loss/train = 0.769, Adv_Loss/train = 0.376 | Rec_Loss/valid = 0.320, KLD/valid = 0.048, Discl_Loss/valid = 1.272, Adv_Loss/valid = 0.908\n"
     ]
    },
    {
     "data": {
      "application/vnd.jupyter.widget-view+json": {
       "model_id": "",
       "version_major": 2,
       "version_minor": 0
      },
      "text/plain": [
       "  0%|          | 0/34 [00:00<?, ?it/s]"
      ]
     },
     "metadata": {},
     "output_type": "display_data"
    },
    {
     "data": {
      "application/vnd.jupyter.widget-view+json": {
       "model_id": "",
       "version_major": 2,
       "version_minor": 0
      },
      "text/plain": [
       "  0%|          | 0/5 [00:00<?, ?it/s]"
      ]
     },
     "metadata": {},
     "output_type": "display_data"
    },
    {
     "name": "stdout",
     "output_type": "stream",
     "text": [
      "Epoch #181: Rec_Loss/train = 0.298, KLD/train = 0.081, Discl_Loss/train = 0.762, Adv_Loss/train = 0.377 | Rec_Loss/valid = 0.312, KLD/valid = 0.052, Discl_Loss/valid = 1.249, Adv_Loss/valid = 0.882\n"
     ]
    },
    {
     "data": {
      "application/vnd.jupyter.widget-view+json": {
       "model_id": "",
       "version_major": 2,
       "version_minor": 0
      },
      "text/plain": [
       "  0%|          | 0/34 [00:00<?, ?it/s]"
      ]
     },
     "metadata": {},
     "output_type": "display_data"
    },
    {
     "data": {
      "application/vnd.jupyter.widget-view+json": {
       "model_id": "",
       "version_major": 2,
       "version_minor": 0
      },
      "text/plain": [
       "  0%|          | 0/5 [00:00<?, ?it/s]"
      ]
     },
     "metadata": {},
     "output_type": "display_data"
    },
    {
     "name": "stdout",
     "output_type": "stream",
     "text": [
      "Epoch #182: Rec_Loss/train = 0.300, KLD/train = 0.083, Discl_Loss/train = 0.759, Adv_Loss/train = 0.406 | Rec_Loss/valid = 0.314, KLD/valid = 0.044, Discl_Loss/valid = 1.249, Adv_Loss/valid = 1.258\n"
     ]
    },
    {
     "data": {
      "application/vnd.jupyter.widget-view+json": {
       "model_id": "",
       "version_major": 2,
       "version_minor": 0
      },
      "text/plain": [
       "  0%|          | 0/34 [00:00<?, ?it/s]"
      ]
     },
     "metadata": {},
     "output_type": "display_data"
    },
    {
     "data": {
      "application/vnd.jupyter.widget-view+json": {
       "model_id": "",
       "version_major": 2,
       "version_minor": 0
      },
      "text/plain": [
       "  0%|          | 0/5 [00:00<?, ?it/s]"
      ]
     },
     "metadata": {},
     "output_type": "display_data"
    },
    {
     "name": "stdout",
     "output_type": "stream",
     "text": [
      "Epoch #183: Rec_Loss/train = 0.295, KLD/train = 0.081, Discl_Loss/train = 0.747, Adv_Loss/train = 0.380 | Rec_Loss/valid = 0.305, KLD/valid = 0.054, Discl_Loss/valid = 1.233, Adv_Loss/valid = 1.201\n"
     ]
    },
    {
     "data": {
      "application/vnd.jupyter.widget-view+json": {
       "model_id": "",
       "version_major": 2,
       "version_minor": 0
      },
      "text/plain": [
       "  0%|          | 0/34 [00:00<?, ?it/s]"
      ]
     },
     "metadata": {},
     "output_type": "display_data"
    },
    {
     "data": {
      "application/vnd.jupyter.widget-view+json": {
       "model_id": "",
       "version_major": 2,
       "version_minor": 0
      },
      "text/plain": [
       "  0%|          | 0/5 [00:00<?, ?it/s]"
      ]
     },
     "metadata": {},
     "output_type": "display_data"
    },
    {
     "name": "stdout",
     "output_type": "stream",
     "text": [
      "Epoch #184: Rec_Loss/train = 0.298, KLD/train = 0.081, Discl_Loss/train = 0.754, Adv_Loss/train = 0.398 | Rec_Loss/valid = 0.312, KLD/valid = 0.049, Discl_Loss/valid = 1.240, Adv_Loss/valid = 0.769\n"
     ]
    },
    {
     "data": {
      "application/vnd.jupyter.widget-view+json": {
       "model_id": "",
       "version_major": 2,
       "version_minor": 0
      },
      "text/plain": [
       "  0%|          | 0/34 [00:00<?, ?it/s]"
      ]
     },
     "metadata": {},
     "output_type": "display_data"
    },
    {
     "data": {
      "application/vnd.jupyter.widget-view+json": {
       "model_id": "",
       "version_major": 2,
       "version_minor": 0
      },
      "text/plain": [
       "  0%|          | 0/5 [00:00<?, ?it/s]"
      ]
     },
     "metadata": {},
     "output_type": "display_data"
    },
    {
     "name": "stdout",
     "output_type": "stream",
     "text": [
      "Epoch #185: Rec_Loss/train = 0.301, KLD/train = 0.082, Discl_Loss/train = 0.753, Adv_Loss/train = 0.375 | Rec_Loss/valid = 0.303, KLD/valid = 0.059, Discl_Loss/valid = 1.210, Adv_Loss/valid = 1.003\n"
     ]
    },
    {
     "data": {
      "application/vnd.jupyter.widget-view+json": {
       "model_id": "",
       "version_major": 2,
       "version_minor": 0
      },
      "text/plain": [
       "  0%|          | 0/34 [00:00<?, ?it/s]"
      ]
     },
     "metadata": {},
     "output_type": "display_data"
    },
    {
     "data": {
      "application/vnd.jupyter.widget-view+json": {
       "model_id": "",
       "version_major": 2,
       "version_minor": 0
      },
      "text/plain": [
       "  0%|          | 0/5 [00:00<?, ?it/s]"
      ]
     },
     "metadata": {},
     "output_type": "display_data"
    },
    {
     "name": "stdout",
     "output_type": "stream",
     "text": [
      "Epoch #186: Rec_Loss/train = 0.299, KLD/train = 0.081, Discl_Loss/train = 0.770, Adv_Loss/train = 0.398 | Rec_Loss/valid = 0.317, KLD/valid = 0.052, Discl_Loss/valid = 1.271, Adv_Loss/valid = 0.810\n"
     ]
    },
    {
     "data": {
      "application/vnd.jupyter.widget-view+json": {
       "model_id": "",
       "version_major": 2,
       "version_minor": 0
      },
      "text/plain": [
       "  0%|          | 0/34 [00:00<?, ?it/s]"
      ]
     },
     "metadata": {},
     "output_type": "display_data"
    },
    {
     "data": {
      "application/vnd.jupyter.widget-view+json": {
       "model_id": "",
       "version_major": 2,
       "version_minor": 0
      },
      "text/plain": [
       "  0%|          | 0/5 [00:00<?, ?it/s]"
      ]
     },
     "metadata": {},
     "output_type": "display_data"
    },
    {
     "name": "stdout",
     "output_type": "stream",
     "text": [
      "Epoch #187: Rec_Loss/train = 0.296, KLD/train = 0.083, Discl_Loss/train = 0.773, Adv_Loss/train = 0.406 | Rec_Loss/valid = 0.340, KLD/valid = 0.052, Discl_Loss/valid = 1.267, Adv_Loss/valid = 0.451\n"
     ]
    },
    {
     "data": {
      "application/vnd.jupyter.widget-view+json": {
       "model_id": "",
       "version_major": 2,
       "version_minor": 0
      },
      "text/plain": [
       "  0%|          | 0/34 [00:00<?, ?it/s]"
      ]
     },
     "metadata": {},
     "output_type": "display_data"
    },
    {
     "data": {
      "application/vnd.jupyter.widget-view+json": {
       "model_id": "",
       "version_major": 2,
       "version_minor": 0
      },
      "text/plain": [
       "  0%|          | 0/5 [00:00<?, ?it/s]"
      ]
     },
     "metadata": {},
     "output_type": "display_data"
    },
    {
     "name": "stdout",
     "output_type": "stream",
     "text": [
      "Epoch #188: Rec_Loss/train = 0.301, KLD/train = 0.083, Discl_Loss/train = 0.766, Adv_Loss/train = 0.377 | Rec_Loss/valid = 0.306, KLD/valid = 0.048, Discl_Loss/valid = 1.267, Adv_Loss/valid = 0.856\n"
     ]
    },
    {
     "data": {
      "application/vnd.jupyter.widget-view+json": {
       "model_id": "",
       "version_major": 2,
       "version_minor": 0
      },
      "text/plain": [
       "  0%|          | 0/34 [00:00<?, ?it/s]"
      ]
     },
     "metadata": {},
     "output_type": "display_data"
    },
    {
     "data": {
      "application/vnd.jupyter.widget-view+json": {
       "model_id": "",
       "version_major": 2,
       "version_minor": 0
      },
      "text/plain": [
       "  0%|          | 0/5 [00:00<?, ?it/s]"
      ]
     },
     "metadata": {},
     "output_type": "display_data"
    },
    {
     "name": "stdout",
     "output_type": "stream",
     "text": [
      "Epoch #189: Rec_Loss/train = 0.304, KLD/train = 0.082, Discl_Loss/train = 0.770, Adv_Loss/train = 0.431 | Rec_Loss/valid = 0.305, KLD/valid = 0.049, Discl_Loss/valid = 1.273, Adv_Loss/valid = 1.143\n"
     ]
    },
    {
     "data": {
      "application/vnd.jupyter.widget-view+json": {
       "model_id": "",
       "version_major": 2,
       "version_minor": 0
      },
      "text/plain": [
       "  0%|          | 0/34 [00:00<?, ?it/s]"
      ]
     },
     "metadata": {},
     "output_type": "display_data"
    },
    {
     "data": {
      "application/vnd.jupyter.widget-view+json": {
       "model_id": "",
       "version_major": 2,
       "version_minor": 0
      },
      "text/plain": [
       "  0%|          | 0/5 [00:00<?, ?it/s]"
      ]
     },
     "metadata": {},
     "output_type": "display_data"
    },
    {
     "name": "stdout",
     "output_type": "stream",
     "text": [
      "Epoch #190: Rec_Loss/train = 0.297, KLD/train = 0.082, Discl_Loss/train = 0.760, Adv_Loss/train = 0.391 | Rec_Loss/valid = 0.295, KLD/valid = 0.048, Discl_Loss/valid = 1.273, Adv_Loss/valid = 1.613\n"
     ]
    },
    {
     "data": {
      "application/vnd.jupyter.widget-view+json": {
       "model_id": "",
       "version_major": 2,
       "version_minor": 0
      },
      "text/plain": [
       "  0%|          | 0/34 [00:00<?, ?it/s]"
      ]
     },
     "metadata": {},
     "output_type": "display_data"
    },
    {
     "data": {
      "application/vnd.jupyter.widget-view+json": {
       "model_id": "",
       "version_major": 2,
       "version_minor": 0
      },
      "text/plain": [
       "  0%|          | 0/5 [00:00<?, ?it/s]"
      ]
     },
     "metadata": {},
     "output_type": "display_data"
    },
    {
     "name": "stdout",
     "output_type": "stream",
     "text": [
      "Epoch #191: Rec_Loss/train = 0.293, KLD/train = 0.081, Discl_Loss/train = 0.757, Adv_Loss/train = 0.386 | Rec_Loss/valid = 0.298, KLD/valid = 0.048, Discl_Loss/valid = 1.265, Adv_Loss/valid = 1.444\n"
     ]
    },
    {
     "data": {
      "application/vnd.jupyter.widget-view+json": {
       "model_id": "",
       "version_major": 2,
       "version_minor": 0
      },
      "text/plain": [
       "  0%|          | 0/34 [00:00<?, ?it/s]"
      ]
     },
     "metadata": {},
     "output_type": "display_data"
    },
    {
     "data": {
      "application/vnd.jupyter.widget-view+json": {
       "model_id": "",
       "version_major": 2,
       "version_minor": 0
      },
      "text/plain": [
       "  0%|          | 0/5 [00:00<?, ?it/s]"
      ]
     },
     "metadata": {},
     "output_type": "display_data"
    },
    {
     "name": "stdout",
     "output_type": "stream",
     "text": [
      "Epoch #192: Rec_Loss/train = 0.295, KLD/train = 0.079, Discl_Loss/train = 0.755, Adv_Loss/train = 0.413 | Rec_Loss/valid = 0.306, KLD/valid = 0.048, Discl_Loss/valid = 1.263, Adv_Loss/valid = 1.090\n"
     ]
    },
    {
     "data": {
      "application/vnd.jupyter.widget-view+json": {
       "model_id": "",
       "version_major": 2,
       "version_minor": 0
      },
      "text/plain": [
       "  0%|          | 0/34 [00:00<?, ?it/s]"
      ]
     },
     "metadata": {},
     "output_type": "display_data"
    },
    {
     "data": {
      "application/vnd.jupyter.widget-view+json": {
       "model_id": "",
       "version_major": 2,
       "version_minor": 0
      },
      "text/plain": [
       "  0%|          | 0/5 [00:00<?, ?it/s]"
      ]
     },
     "metadata": {},
     "output_type": "display_data"
    },
    {
     "name": "stdout",
     "output_type": "stream",
     "text": [
      "Epoch #193: Rec_Loss/train = 0.285, KLD/train = 0.082, Discl_Loss/train = 0.750, Adv_Loss/train = 0.376 | Rec_Loss/valid = 0.309, KLD/valid = 0.046, Discl_Loss/valid = 1.252, Adv_Loss/valid = 0.649\n"
     ]
    },
    {
     "data": {
      "application/vnd.jupyter.widget-view+json": {
       "model_id": "",
       "version_major": 2,
       "version_minor": 0
      },
      "text/plain": [
       "  0%|          | 0/34 [00:00<?, ?it/s]"
      ]
     },
     "metadata": {},
     "output_type": "display_data"
    },
    {
     "data": {
      "application/vnd.jupyter.widget-view+json": {
       "model_id": "",
       "version_major": 2,
       "version_minor": 0
      },
      "text/plain": [
       "  0%|          | 0/5 [00:00<?, ?it/s]"
      ]
     },
     "metadata": {},
     "output_type": "display_data"
    },
    {
     "name": "stdout",
     "output_type": "stream",
     "text": [
      "Epoch #194: Rec_Loss/train = 0.293, KLD/train = 0.080, Discl_Loss/train = 0.747, Adv_Loss/train = 0.380 | Rec_Loss/valid = 0.311, KLD/valid = 0.048, Discl_Loss/valid = 1.233, Adv_Loss/valid = 1.337\n"
     ]
    },
    {
     "data": {
      "application/vnd.jupyter.widget-view+json": {
       "model_id": "",
       "version_major": 2,
       "version_minor": 0
      },
      "text/plain": [
       "  0%|          | 0/34 [00:00<?, ?it/s]"
      ]
     },
     "metadata": {},
     "output_type": "display_data"
    },
    {
     "data": {
      "application/vnd.jupyter.widget-view+json": {
       "model_id": "",
       "version_major": 2,
       "version_minor": 0
      },
      "text/plain": [
       "  0%|          | 0/5 [00:00<?, ?it/s]"
      ]
     },
     "metadata": {},
     "output_type": "display_data"
    },
    {
     "name": "stdout",
     "output_type": "stream",
     "text": [
      "Epoch #195: Rec_Loss/train = 0.294, KLD/train = 0.080, Discl_Loss/train = 0.750, Adv_Loss/train = 0.386 | Rec_Loss/valid = 0.314, KLD/valid = 0.045, Discl_Loss/valid = 1.234, Adv_Loss/valid = 1.493\n"
     ]
    },
    {
     "data": {
      "application/vnd.jupyter.widget-view+json": {
       "model_id": "",
       "version_major": 2,
       "version_minor": 0
      },
      "text/plain": [
       "  0%|          | 0/34 [00:00<?, ?it/s]"
      ]
     },
     "metadata": {},
     "output_type": "display_data"
    },
    {
     "data": {
      "application/vnd.jupyter.widget-view+json": {
       "model_id": "",
       "version_major": 2,
       "version_minor": 0
      },
      "text/plain": [
       "  0%|          | 0/5 [00:00<?, ?it/s]"
      ]
     },
     "metadata": {},
     "output_type": "display_data"
    },
    {
     "name": "stdout",
     "output_type": "stream",
     "text": [
      "Epoch #196: Rec_Loss/train = 0.295, KLD/train = 0.081, Discl_Loss/train = 0.753, Adv_Loss/train = 0.410 | Rec_Loss/valid = 0.305, KLD/valid = 0.054, Discl_Loss/valid = 1.239, Adv_Loss/valid = 0.862\n"
     ]
    },
    {
     "data": {
      "application/vnd.jupyter.widget-view+json": {
       "model_id": "",
       "version_major": 2,
       "version_minor": 0
      },
      "text/plain": [
       "  0%|          | 0/34 [00:00<?, ?it/s]"
      ]
     },
     "metadata": {},
     "output_type": "display_data"
    },
    {
     "data": {
      "application/vnd.jupyter.widget-view+json": {
       "model_id": "",
       "version_major": 2,
       "version_minor": 0
      },
      "text/plain": [
       "  0%|          | 0/5 [00:00<?, ?it/s]"
      ]
     },
     "metadata": {},
     "output_type": "display_data"
    },
    {
     "name": "stdout",
     "output_type": "stream",
     "text": [
      "Epoch #197: Rec_Loss/train = 0.299, KLD/train = 0.080, Discl_Loss/train = 0.751, Adv_Loss/train = 0.380 | Rec_Loss/valid = 0.304, KLD/valid = 0.046, Discl_Loss/valid = 1.251, Adv_Loss/valid = 0.866\n"
     ]
    },
    {
     "data": {
      "application/vnd.jupyter.widget-view+json": {
       "model_id": "",
       "version_major": 2,
       "version_minor": 0
      },
      "text/plain": [
       "  0%|          | 0/34 [00:00<?, ?it/s]"
      ]
     },
     "metadata": {},
     "output_type": "display_data"
    },
    {
     "data": {
      "application/vnd.jupyter.widget-view+json": {
       "model_id": "",
       "version_major": 2,
       "version_minor": 0
      },
      "text/plain": [
       "  0%|          | 0/5 [00:00<?, ?it/s]"
      ]
     },
     "metadata": {},
     "output_type": "display_data"
    },
    {
     "name": "stdout",
     "output_type": "stream",
     "text": [
      "Epoch #198: Rec_Loss/train = 0.292, KLD/train = 0.079, Discl_Loss/train = 0.746, Adv_Loss/train = 0.396 | Rec_Loss/valid = 0.307, KLD/valid = 0.046, Discl_Loss/valid = 1.263, Adv_Loss/valid = 1.782\n"
     ]
    },
    {
     "data": {
      "application/vnd.jupyter.widget-view+json": {
       "model_id": "",
       "version_major": 2,
       "version_minor": 0
      },
      "text/plain": [
       "  0%|          | 0/34 [00:00<?, ?it/s]"
      ]
     },
     "metadata": {},
     "output_type": "display_data"
    },
    {
     "data": {
      "application/vnd.jupyter.widget-view+json": {
       "model_id": "",
       "version_major": 2,
       "version_minor": 0
      },
      "text/plain": [
       "  0%|          | 0/5 [00:00<?, ?it/s]"
      ]
     },
     "metadata": {},
     "output_type": "display_data"
    },
    {
     "name": "stdout",
     "output_type": "stream",
     "text": [
      "Epoch #199: Rec_Loss/train = 0.296, KLD/train = 0.079, Discl_Loss/train = 0.751, Adv_Loss/train = 0.387 | Rec_Loss/valid = 0.305, KLD/valid = 0.042, Discl_Loss/valid = 1.247, Adv_Loss/valid = 1.388\n"
     ]
    }
   ],
   "source": [
    "vaegan_trainer.train(N_EPOCHS, lambda_lr=None)"
   ]
  },
  {
   "cell_type": "code",
   "execution_count": 6,
   "metadata": {},
   "outputs": [
    {
     "ename": "ValueError",
     "evalue": "x and y must have same first dimension, but have shapes (200,) and (6800,)",
     "output_type": "error",
     "traceback": [
      "\u001b[1;31m---------------------------------------------------------------------------\u001b[0m",
      "\u001b[1;31mValueError\u001b[0m                                Traceback (most recent call last)",
      "\u001b[1;32m~\\AppData\\Local\\Temp\\ipykernel_15476\\1389235786.py\u001b[0m in \u001b[0;36m<module>\u001b[1;34m\u001b[0m\n\u001b[1;32m----> 1\u001b[1;33m \u001b[0mplt\u001b[0m\u001b[1;33m.\u001b[0m\u001b[0mplot\u001b[0m\u001b[1;33m(\u001b[0m\u001b[0mrange\u001b[0m\u001b[1;33m(\u001b[0m\u001b[1;36m1\u001b[0m\u001b[1;33m,\u001b[0m\u001b[0mN_EPOCHS\u001b[0m\u001b[1;33m+\u001b[0m\u001b[1;36m1\u001b[0m\u001b[1;33m)\u001b[0m\u001b[1;33m,\u001b[0m \u001b[0mvaegan_trainer\u001b[0m\u001b[1;33m.\u001b[0m\u001b[0mada_p_log\u001b[0m\u001b[1;33m)\u001b[0m\u001b[1;33m\u001b[0m\u001b[1;33m\u001b[0m\u001b[0m\n\u001b[0m\u001b[0;32m      2\u001b[0m \u001b[0mplt\u001b[0m\u001b[1;33m.\u001b[0m\u001b[0mplot\u001b[0m\u001b[1;33m(\u001b[0m\u001b[0mrange\u001b[0m\u001b[1;33m(\u001b[0m\u001b[1;36m1\u001b[0m\u001b[1;33m,\u001b[0m\u001b[0mN_EPOCHS\u001b[0m\u001b[1;33m+\u001b[0m\u001b[1;36m1\u001b[0m\u001b[1;33m)\u001b[0m\u001b[1;33m,\u001b[0m \u001b[0mvaegan_trainer\u001b[0m\u001b[1;33m.\u001b[0m\u001b[0mvalid_losses\u001b[0m\u001b[1;33m)\u001b[0m\u001b[1;33m\u001b[0m\u001b[1;33m\u001b[0m\u001b[0m\n\u001b[0;32m      3\u001b[0m \u001b[0mplt\u001b[0m\u001b[1;33m.\u001b[0m\u001b[0mxlabel\u001b[0m\u001b[1;33m(\u001b[0m\u001b[1;34m'Number of epochs'\u001b[0m\u001b[1;33m)\u001b[0m\u001b[1;33m\u001b[0m\u001b[1;33m\u001b[0m\u001b[0m\n\u001b[0;32m      4\u001b[0m \u001b[0mplt\u001b[0m\u001b[1;33m.\u001b[0m\u001b[0mylabel\u001b[0m\u001b[1;33m(\u001b[0m\u001b[1;34m'Reconstruction loss'\u001b[0m\u001b[1;33m)\u001b[0m\u001b[1;33m\u001b[0m\u001b[1;33m\u001b[0m\u001b[0m\n\u001b[0;32m      5\u001b[0m \u001b[0mplt\u001b[0m\u001b[1;33m.\u001b[0m\u001b[0mtitle\u001b[0m\u001b[1;33m(\u001b[0m\u001b[1;34m'Reconstruction loss mask vae'\u001b[0m\u001b[1;33m)\u001b[0m\u001b[1;33m\u001b[0m\u001b[1;33m\u001b[0m\u001b[0m\n",
      "\u001b[1;32m~\\AppData\\Local\\conda\\conda\\envs\\Deeplearning_Pytorch\\lib\\site-packages\\matplotlib\\pyplot.py\u001b[0m in \u001b[0;36mplot\u001b[1;34m(scalex, scaley, data, *args, **kwargs)\u001b[0m\n\u001b[0;32m   2755\u001b[0m \u001b[1;33m@\u001b[0m\u001b[0m_copy_docstring_and_deprecators\u001b[0m\u001b[1;33m(\u001b[0m\u001b[0mAxes\u001b[0m\u001b[1;33m.\u001b[0m\u001b[0mplot\u001b[0m\u001b[1;33m)\u001b[0m\u001b[1;33m\u001b[0m\u001b[1;33m\u001b[0m\u001b[0m\n\u001b[0;32m   2756\u001b[0m \u001b[1;32mdef\u001b[0m \u001b[0mplot\u001b[0m\u001b[1;33m(\u001b[0m\u001b[1;33m*\u001b[0m\u001b[0margs\u001b[0m\u001b[1;33m,\u001b[0m \u001b[0mscalex\u001b[0m\u001b[1;33m=\u001b[0m\u001b[1;32mTrue\u001b[0m\u001b[1;33m,\u001b[0m \u001b[0mscaley\u001b[0m\u001b[1;33m=\u001b[0m\u001b[1;32mTrue\u001b[0m\u001b[1;33m,\u001b[0m \u001b[0mdata\u001b[0m\u001b[1;33m=\u001b[0m\u001b[1;32mNone\u001b[0m\u001b[1;33m,\u001b[0m \u001b[1;33m**\u001b[0m\u001b[0mkwargs\u001b[0m\u001b[1;33m)\u001b[0m\u001b[1;33m:\u001b[0m\u001b[1;33m\u001b[0m\u001b[1;33m\u001b[0m\u001b[0m\n\u001b[1;32m-> 2757\u001b[1;33m     return gca().plot(\n\u001b[0m\u001b[0;32m   2758\u001b[0m         \u001b[1;33m*\u001b[0m\u001b[0margs\u001b[0m\u001b[1;33m,\u001b[0m \u001b[0mscalex\u001b[0m\u001b[1;33m=\u001b[0m\u001b[0mscalex\u001b[0m\u001b[1;33m,\u001b[0m \u001b[0mscaley\u001b[0m\u001b[1;33m=\u001b[0m\u001b[0mscaley\u001b[0m\u001b[1;33m,\u001b[0m\u001b[1;33m\u001b[0m\u001b[1;33m\u001b[0m\u001b[0m\n\u001b[0;32m   2759\u001b[0m         **({\"data\": data} if data is not None else {}), **kwargs)\n",
      "\u001b[1;32m~\\AppData\\Local\\conda\\conda\\envs\\Deeplearning_Pytorch\\lib\\site-packages\\matplotlib\\axes\\_axes.py\u001b[0m in \u001b[0;36mplot\u001b[1;34m(self, scalex, scaley, data, *args, **kwargs)\u001b[0m\n\u001b[0;32m   1630\u001b[0m         \"\"\"\n\u001b[0;32m   1631\u001b[0m         \u001b[0mkwargs\u001b[0m \u001b[1;33m=\u001b[0m \u001b[0mcbook\u001b[0m\u001b[1;33m.\u001b[0m\u001b[0mnormalize_kwargs\u001b[0m\u001b[1;33m(\u001b[0m\u001b[0mkwargs\u001b[0m\u001b[1;33m,\u001b[0m \u001b[0mmlines\u001b[0m\u001b[1;33m.\u001b[0m\u001b[0mLine2D\u001b[0m\u001b[1;33m)\u001b[0m\u001b[1;33m\u001b[0m\u001b[1;33m\u001b[0m\u001b[0m\n\u001b[1;32m-> 1632\u001b[1;33m         \u001b[0mlines\u001b[0m \u001b[1;33m=\u001b[0m \u001b[1;33m[\u001b[0m\u001b[1;33m*\u001b[0m\u001b[0mself\u001b[0m\u001b[1;33m.\u001b[0m\u001b[0m_get_lines\u001b[0m\u001b[1;33m(\u001b[0m\u001b[1;33m*\u001b[0m\u001b[0margs\u001b[0m\u001b[1;33m,\u001b[0m \u001b[0mdata\u001b[0m\u001b[1;33m=\u001b[0m\u001b[0mdata\u001b[0m\u001b[1;33m,\u001b[0m \u001b[1;33m**\u001b[0m\u001b[0mkwargs\u001b[0m\u001b[1;33m)\u001b[0m\u001b[1;33m]\u001b[0m\u001b[1;33m\u001b[0m\u001b[1;33m\u001b[0m\u001b[0m\n\u001b[0m\u001b[0;32m   1633\u001b[0m         \u001b[1;32mfor\u001b[0m \u001b[0mline\u001b[0m \u001b[1;32min\u001b[0m \u001b[0mlines\u001b[0m\u001b[1;33m:\u001b[0m\u001b[1;33m\u001b[0m\u001b[1;33m\u001b[0m\u001b[0m\n\u001b[0;32m   1634\u001b[0m             \u001b[0mself\u001b[0m\u001b[1;33m.\u001b[0m\u001b[0madd_line\u001b[0m\u001b[1;33m(\u001b[0m\u001b[0mline\u001b[0m\u001b[1;33m)\u001b[0m\u001b[1;33m\u001b[0m\u001b[1;33m\u001b[0m\u001b[0m\n",
      "\u001b[1;32m~\\AppData\\Local\\conda\\conda\\envs\\Deeplearning_Pytorch\\lib\\site-packages\\matplotlib\\axes\\_base.py\u001b[0m in \u001b[0;36m__call__\u001b[1;34m(self, data, *args, **kwargs)\u001b[0m\n\u001b[0;32m    310\u001b[0m                 \u001b[0mthis\u001b[0m \u001b[1;33m+=\u001b[0m \u001b[0margs\u001b[0m\u001b[1;33m[\u001b[0m\u001b[1;36m0\u001b[0m\u001b[1;33m]\u001b[0m\u001b[1;33m,\u001b[0m\u001b[1;33m\u001b[0m\u001b[1;33m\u001b[0m\u001b[0m\n\u001b[0;32m    311\u001b[0m                 \u001b[0margs\u001b[0m \u001b[1;33m=\u001b[0m \u001b[0margs\u001b[0m\u001b[1;33m[\u001b[0m\u001b[1;36m1\u001b[0m\u001b[1;33m:\u001b[0m\u001b[1;33m]\u001b[0m\u001b[1;33m\u001b[0m\u001b[1;33m\u001b[0m\u001b[0m\n\u001b[1;32m--> 312\u001b[1;33m             \u001b[1;32myield\u001b[0m \u001b[1;32mfrom\u001b[0m \u001b[0mself\u001b[0m\u001b[1;33m.\u001b[0m\u001b[0m_plot_args\u001b[0m\u001b[1;33m(\u001b[0m\u001b[0mthis\u001b[0m\u001b[1;33m,\u001b[0m \u001b[0mkwargs\u001b[0m\u001b[1;33m)\u001b[0m\u001b[1;33m\u001b[0m\u001b[1;33m\u001b[0m\u001b[0m\n\u001b[0m\u001b[0;32m    313\u001b[0m \u001b[1;33m\u001b[0m\u001b[0m\n\u001b[0;32m    314\u001b[0m     \u001b[1;32mdef\u001b[0m \u001b[0mget_next_color\u001b[0m\u001b[1;33m(\u001b[0m\u001b[0mself\u001b[0m\u001b[1;33m)\u001b[0m\u001b[1;33m:\u001b[0m\u001b[1;33m\u001b[0m\u001b[1;33m\u001b[0m\u001b[0m\n",
      "\u001b[1;32m~\\AppData\\Local\\conda\\conda\\envs\\Deeplearning_Pytorch\\lib\\site-packages\\matplotlib\\axes\\_base.py\u001b[0m in \u001b[0;36m_plot_args\u001b[1;34m(self, tup, kwargs, return_kwargs)\u001b[0m\n\u001b[0;32m    496\u001b[0m \u001b[1;33m\u001b[0m\u001b[0m\n\u001b[0;32m    497\u001b[0m         \u001b[1;32mif\u001b[0m \u001b[0mx\u001b[0m\u001b[1;33m.\u001b[0m\u001b[0mshape\u001b[0m\u001b[1;33m[\u001b[0m\u001b[1;36m0\u001b[0m\u001b[1;33m]\u001b[0m \u001b[1;33m!=\u001b[0m \u001b[0my\u001b[0m\u001b[1;33m.\u001b[0m\u001b[0mshape\u001b[0m\u001b[1;33m[\u001b[0m\u001b[1;36m0\u001b[0m\u001b[1;33m]\u001b[0m\u001b[1;33m:\u001b[0m\u001b[1;33m\u001b[0m\u001b[1;33m\u001b[0m\u001b[0m\n\u001b[1;32m--> 498\u001b[1;33m             raise ValueError(f\"x and y must have same first dimension, but \"\n\u001b[0m\u001b[0;32m    499\u001b[0m                              f\"have shapes {x.shape} and {y.shape}\")\n\u001b[0;32m    500\u001b[0m         \u001b[1;32mif\u001b[0m \u001b[0mx\u001b[0m\u001b[1;33m.\u001b[0m\u001b[0mndim\u001b[0m \u001b[1;33m>\u001b[0m \u001b[1;36m2\u001b[0m \u001b[1;32mor\u001b[0m \u001b[0my\u001b[0m\u001b[1;33m.\u001b[0m\u001b[0mndim\u001b[0m \u001b[1;33m>\u001b[0m \u001b[1;36m2\u001b[0m\u001b[1;33m:\u001b[0m\u001b[1;33m\u001b[0m\u001b[1;33m\u001b[0m\u001b[0m\n",
      "\u001b[1;31mValueError\u001b[0m: x and y must have same first dimension, but have shapes (200,) and (6800,)"
     ]
    },
    {
     "data": {
      "image/png": "[encoded data removed]",
      "text/plain": [
       "<Figure size 640x480 with 1 Axes>"
      ]
     },
     "metadata": {},
     "output_type": "display_data"
    }
   ],
   "source": [
    "plt.plot(range(1,N_EPOCHS+1), vaegan_trainer.ada_p_log)\n",
    "plt.plot(range(1,N_EPOCHS+1), vaegan_trainer.valid_losses)\n",
    "plt.xlabel('Number of epochs')\n",
    "plt.ylabel('Reconstruction loss')\n",
    "plt.title('Reconstruction loss mask vae')\n",
    "plt.legend(['Training set', 'Validation set'])\n",
    "plot_name = 'RECON_LOSS_'+str(N_EPOCHS) + '_epochs_' + str(Z_DIM) + '_zdim.png'\n",
    "path = EXPERIMENT_DIR_VAEGAN / plot_name\n",
    "\n",
    "plt.savefig(path, dpi=200)"
   ]
  },
  {
   "cell_type": "code",
   "execution_count": 6,
   "metadata": {},
   "outputs": [],
   "source": [
    "BEST_MODEL = Path(r\"C:\\Users\\20182371\\Documents\\TUe\\8DM20_CS_Medical_Imaging\\DeepLearning_Project\\progress_vaegan\\200_epochs_256_zdim_lrlambda\")\n",
    "seed = 0\n",
    "\n",
    "vaegan_model = VAEGAN(z_dim=Z_DIM, l=2, spade=True).to(device)\n",
    "\n",
    "model_dir = BEST_MODEL / \"model.pth\"\n",
    "vaegan_model.load_state_dict(torch.load(model_dir))\n",
    "vaegan_model.eval()\n",
    "\n",
    "patients = [\n",
    "    path\n",
    "    for path in DATA_DIR.glob(\"*\")\n",
    "    if not any(part.startswith(\".\") for part in path.parts)\n",
    "]\n",
    "\n",
    "train_size = 13 \n",
    "\n",
    "train_indx, valid_indx = train_test_split(patients, random_state=seed, train_size=train_size)\n",
    "\n",
    "partition = {\n",
    "    \"train\": train_indx,\n",
    "    \"validation\": valid_indx,\n",
    "}\n",
    "\n",
    "training_set = utils.ProstateMRDataset(partition[\"train\"], IMAGE_SIZE, empty_masks = False)\n",
    "train_loader = DataLoader(\n",
    "    train_set,\n",
    "    batch_size=BATCH_SIZE,\n",
    "    shuffle=True,\n",
    "    drop_last=True,\n",
    "    pin_memory=True,\n",
    ")\n",
    "\n",
    "first_indx = np.random.choice(np.arange(len(train_loader.dataset)), size=5, replace=False)\n",
    "second_indx = first_indx+10\n",
    "for i in range(len(second_indx)):\n",
    "    if second_indx[i] > len(train_loader.dataset): \n",
    "        second_indx[i] = len(train_loader.dataset)-1\n",
    "\n",
    "first_image_t , first_mask_t = train_loader.dataset[first_indx]\n",
    "second_image_t, second_mask_t = train_loader.dataset[second_indx]\n",
    "first_image_t = first_image_t.to(device)\n",
    "first_mask_t = first_mask_t.to(device)\n",
    "second_image_t = second_image_t.to(device)\n",
    "second_mask_t = second_mask_t.to(device)\n",
    "\n",
    "\n",
    "mu_first, logvar_first = vaegan_model.encoder(first_image_t)\n",
    "latent_z_first = utils.sample_z(mu_first, logvar_first)\n",
    "            \n",
    "mu_second, logvar_second = vaegan_model.encoder(second_image_t)\n",
    "latent_z_second = utils.sample_z(mu_second, logvar_second)\n"
   ]
  },
  {
   "cell_type": "code",
   "execution_count": 16,
   "metadata": {},
   "outputs": [
    {
     "data": {
      "image/png": "[encoded data removed]",
      "text/plain": [
       "<Figure size 640x480 with 1 Axes>"
      ]
     },
     "metadata": {},
     "output_type": "display_data"
    }
   ],
   "source": [
    "weight = 0.9\n",
    "gen_latent_z = latent_z_first + weight*(latent_z_second - latent_z_first)\n",
    "generations  = vaegan_model.generator(gen_latent_z, first_mask_t)\n",
    "\n",
    "img_grid = make_grid(\n",
    "                torch.cat([\n",
    "                    first_image_t.cpu(),\n",
    "                    generations.cpu(),\n",
    "                    second_image_t.cpu()\n",
    "                ]), \n",
    "                nrow=5, \n",
    "                padding=12, \n",
    "                pad_value=-1, )\n",
    "    \n",
    "plt.imshow(img_grid.numpy()[0] / 2.0 + 0.5)\n",
    "plt.imsave(BEST_MODEL / f\"interpolated_generations_{weight}.png\", img_grid.numpy()[0] / 2.0 + 0.5)"
   ]
  },
  {
   "cell_type": "code",
   "execution_count": 12,
   "metadata": {},
   "outputs": [
    {
     "name": "stderr",
     "output_type": "stream",
     "text": [
      "Lossy conversion from float32 to uint8. Range [-0.9769183397293091, 0.9957206845283508]. Convert image to uint8 prior to saving to suppress this warning.\n",
      "Lossy conversion from float32 to uint8. Range [-0.9751102924346924, 0.9961746335029602]. Convert image to uint8 prior to saving to suppress this warning.\n",
      "Lossy conversion from float32 to uint8. Range [-0.9743328094482422, 0.9961889982223511]. Convert image to uint8 prior to saving to suppress this warning.\n",
      "Lossy conversion from float32 to uint8. Range [-0.9715684652328491, 0.9961835741996765]. Convert image to uint8 prior to saving to suppress this warning.\n",
      "Lossy conversion from float32 to uint8. Range [-0.966933012008667, 0.9964615106582642]. Convert image to uint8 prior to saving to suppress this warning.\n",
      "Lossy conversion from float32 to uint8. Range [-0.9669229984283447, 0.9966106414794922]. Convert image to uint8 prior to saving to suppress this warning.\n",
      "Lossy conversion from float32 to uint8. Range [-0.972517192363739, 0.997005045413971]. Convert image to uint8 prior to saving to suppress this warning.\n",
      "Lossy conversion from float32 to uint8. Range [-0.9711007475852966, 0.9969049096107483]. Convert image to uint8 prior to saving to suppress this warning.\n",
      "Lossy conversion from float32 to uint8. Range [-0.9694262742996216, 0.9968288540840149]. Convert image to uint8 prior to saving to suppress this warning.\n",
      "Lossy conversion from float32 to uint8. Range [-0.9681053161621094, 0.9972332715988159]. Convert image to uint8 prior to saving to suppress this warning.\n",
      "Lossy conversion from float32 to uint8. Range [-0.9596226811408997, 0.9973035454750061]. Convert image to uint8 prior to saving to suppress this warning.\n",
      "Lossy conversion from float32 to uint8. Range [-0.9583739638328552, 0.9970516562461853]. Convert image to uint8 prior to saving to suppress this warning.\n",
      "Lossy conversion from float32 to uint8. Range [-0.9578973054885864, 0.9971871972084045]. Convert image to uint8 prior to saving to suppress this warning.\n",
      "Lossy conversion from float32 to uint8. Range [-0.9571247696876526, 0.9970006942749023]. Convert image to uint8 prior to saving to suppress this warning.\n",
      "Lossy conversion from float32 to uint8. Range [-0.9548166394233704, 0.9965760707855225]. Convert image to uint8 prior to saving to suppress this warning.\n",
      "Lossy conversion from float32 to uint8. Range [-0.9501373767852783, 0.9959222078323364]. Convert image to uint8 prior to saving to suppress this warning.\n",
      "Lossy conversion from float32 to uint8. Range [-0.9564104676246643, 0.9956265091896057]. Convert image to uint8 prior to saving to suppress this warning.\n",
      "Lossy conversion from float32 to uint8. Range [-0.9614711403846741, 0.9958812594413757]. Convert image to uint8 prior to saving to suppress this warning.\n",
      "Lossy conversion from float32 to uint8. Range [-0.9646854400634766, 0.9954654574394226]. Convert image to uint8 prior to saving to suppress this warning.\n",
      "Lossy conversion from float32 to uint8. Range [-0.9664121866226196, 0.994836151599884]. Convert image to uint8 prior to saving to suppress this warning.\n",
      "Lossy conversion from float32 to uint8. Range [-0.9677654504776001, 0.9946750402450562]. Convert image to uint8 prior to saving to suppress this warning.\n"
     ]
    },
    {
     "data": {
      "text/html": [
       "<img src='data:image/gif;base64,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' style='width:600px;height:450px;'/>"
      ],
      "text/plain": [
       "<IPython.core.display.HTML object>"
      ]
     },
     "execution_count": 12,
     "metadata": {},
     "output_type": "execute_result"
    }
   ],
   "source": [
    "first_indx = np.random.choice(np.arange(len(train_loader.dataset)), size=1, replace=False)\n",
    "second_indx = first_indx+10\n",
    "\n",
    "first_image_t , first_mask_t = train_loader.dataset[first_indx]\n",
    "second_image_t, second_mask_t = train_loader.dataset[second_indx]\n",
    "first_image_t = first_image_t.to(device)\n",
    "first_mask_t = first_mask_t.to(device)\n",
    "second_image_t = second_image_t.to(device)\n",
    "second_mask_t = second_mask_t.to(device)\n",
    "\n",
    "\n",
    "mu_first, logvar_first = vaegan_model.encoder(first_image_t)\n",
    "latent_z_first = utils.sample_z(mu_first, logvar_first)\n",
    "            \n",
    "mu_second, logvar_second = vaegan_model.encoder(second_image_t)\n",
    "latent_z_second = utils.sample_z(mu_second, logvar_second)\n",
    "\n",
    "images = []\n",
    "for i in range(0,21,1):\n",
    "    gen_latent_z = latent_z_first + (i/20)*(latent_z_second - latent_z_first)\n",
    "    generations  = vaegan_model.generator(gen_latent_z, first_mask_t) \n",
    "    \n",
    "    images.append(np.array(generations.squeeze().detach().cpu()))\n",
    "\n",
    "    \n",
    "imageio.mimsave(BEST_MODEL / 'generations.gif', images, fps=10)\n",
    "\n",
    "#did not know how to display a gif in jupyter notebook so the code below is from ChatGTP \n",
    "from IPython.display import HTML\n",
    "from base64 import b64encode\n",
    "\n",
    "gif = open(BEST_MODEL / 'generations.gif','rb').read()\n",
    "#HTML(f\"<img src='data:image/gif;base64,{b64encode(gif).decode('utf-8')}' />\")\n",
    "HTML(f\"<img src='data:image/gif;base64,{b64encode(gif).decode('utf-8')}' style='width:600px;height:450px;'/>\")"
   ]
  }
 ],
 "metadata": {
  "kernelspec": {
   "display_name": "Python 3 (ipykernel)",
   "language": "python",
   "name": "python3"
  },
  "language_info": {
   "codemirror_mode": {
    "name": "ipython",
    "version": 3
   },
   "file_extension": ".py",
   "mimetype": "text/x-python",
   "name": "python",
   "nbconvert_exporter": "python",
   "pygments_lexer": "ipython3",
   "version": "3.10.6"
  }
 },
 "nbformat": 4,
 "nbformat_minor": 2
}
