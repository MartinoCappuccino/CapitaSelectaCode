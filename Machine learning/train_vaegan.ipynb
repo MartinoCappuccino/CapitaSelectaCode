{
 "cells": [
  {
   "cell_type": "code",
   "execution_count": 2,
   "metadata": {},
   "outputs": [
    {
     "name": "stdout",
     "output_type": "stream",
     "text": [
      "cuda\n"
     ]
    }
   ],
   "source": [
    "import torch\n",
    "from torch.utils.data import DataLoader\n",
    "from torchvision import transforms\n",
    "import os\n",
    "import matplotlib.pyplot as plt\n",
    "from pathlib import Path\n",
    "from sklearn.model_selection import train_test_split\n",
    "import numpy as np \n",
    "from torchvision.utils import make_grid\n",
    "import imageio\n",
    "\n",
    "device = \"cuda\" if torch.cuda.is_available() else \"cpu\"\n",
    "print(device)"
   ]
  },
  {
   "cell_type": "code",
   "execution_count": 3,
   "metadata": {},
   "outputs": [
    {
     "name": "stdout",
     "output_type": "stream",
     "text": [
      "libs imported\n"
     ]
    }
   ],
   "source": [
    "import importlib\n",
    "try: \n",
    "    importlib.reload(utils)\n",
    "    importlib.reload(generators)\n",
    "    importlib.reload(trainers)\n",
    "    print(\"libs reloaded\")\n",
    "except:\n",
    "    import utils  \n",
    "    import generators \n",
    "    import trainers\n",
    "    print(\"libs imported\")\n",
    "  \n",
    "#Prostate2D = utils.Prostate2D\n",
    "VAE = generators.VAE\n",
    "VAEGAN = generators.VAEGAN\n",
    "TrainerVAEGAN = trainers.TrainerVAEGAN"
   ]
  },
  {
   "cell_type": "code",
   "execution_count": 4,
   "metadata": {},
   "outputs": [],
   "source": [
    "WORKING_DIR = Path(r\"C:\\Users\\20182371\\Documents\\TUe\\8DM20_CS_Medical_Imaging\\DeepLearning_Project\")\n",
    "DATA_DIR = WORKING_DIR / \"TrainingData\"\n",
    "\n",
    "PROGRESS_DIR_VAEGAN = WORKING_DIR / \"progress_vaegan\"\n",
    "PROGRESS_DIR_VAEGAN.mkdir(parents=True, exist_ok=True)\n",
    "\n",
    "N = 15\n",
    "N_train = 15-3\n",
    "Z_DIM = 256\n",
    "BATCH_SIZE = 32\n",
    "N_EPOCHS = 200\n",
    "DECAY_LR_AFTER = 50\n",
    "LEARNING_RATE = 1e-3\n",
    "KLD_ANNEALING_EPOCHS = 50\n",
    "GAMMA = 1.0\n",
    "ADA_TARGET = 0.6\n",
    "ADA_LENGTH = 10_000\n",
    "ACCUM = 0.5 ** (32 / (10 * 1000))\n",
    "NO_VALIDATION_PATIENTS = 2\n",
    "IMAGE_SIZE = (64,64)\n",
    "TOLERANCE = -1e-8\n",
    "MINIMUM_VALID_LOSS = 10 \n",
    "seed=0\n",
    "\n",
    "exp = str(N_EPOCHS) + '_epochs_' + str(Z_DIM) + \"_zdim\" + \"_ema\"\n",
    "EXPERIMENT_DIR_VAEGAN = PROGRESS_DIR_VAEGAN / exp\n",
    "EXPERIMENT_DIR_VAEGAN.mkdir(parents=True, exist_ok=True)\n",
    "\n",
    "def lambda_lr(the_epoch):\n",
    "    return (\n",
    "        1.0\n",
    "        if the_epoch < DECAY_LR_AFTER\n",
    "        else 1 - float(the_epoch - DECAY_LR_AFTER) / (N_EPOCHS - DECAY_LR_AFTER)\n",
    "    )\n",
    "\n",
    "patients = [\n",
    "    path\n",
    "    for path in DATA_DIR.glob(\"*\")\n",
    "    if not any(part.startswith(\".\") for part in path.parts)\n",
    "]\n",
    "\n",
    "train_indx, valid_indx = train_test_split(patients, random_state=seed, train_size=N_train)\n",
    "\n",
    "partition = {\n",
    "    \"train\": train_indx,\n",
    "    \"validation\": valid_indx,\n",
    "}\n",
    "\n",
    "# load training data and create DataLoader with batching and shuffling\n",
    "train_set = utils.ProstateMRDataset(partition[\"train\"], IMAGE_SIZE)\n",
    "train_loader = DataLoader(\n",
    "    train_set,\n",
    "    batch_size=BATCH_SIZE,\n",
    "    shuffle=True,\n",
    "    drop_last=True,\n",
    "    pin_memory=True,\n",
    ")\n",
    "\n",
    "# load validation data\n",
    "valid_set = utils.ProstateMRDataset(partition[\"validation\"], IMAGE_SIZE)\n",
    "valid_loader = DataLoader(\n",
    "    valid_set,\n",
    "    batch_size=BATCH_SIZE,\n",
    "    shuffle=True,\n",
    "    drop_last=True,\n",
    "    pin_memory=True,\n",
    ")"
   ]
  },
  {
   "cell_type": "code",
   "execution_count": 5,
   "metadata": {},
   "outputs": [],
   "source": [
    "OPTIMIZER = lambda parameters, lr : torch.optim.RMSprop(\n",
    "    parameters,\n",
    "    lr=lr,\n",
    "    alpha=0.9,\n",
    "    eps=1e-8,\n",
    "    weight_decay=0,\n",
    "    momentum=0,\n",
    "    centered=False\n",
    ")\n",
    "\n",
    "vaegan_model = VAEGAN(z_dim=Z_DIM, l=2, spade=True).to(device)\n",
    "net_ema = VAEGAN(z_dim=Z_DIM, l=2, spade=True).to(device)\n",
    "net_ema.eval()\n",
    "\n",
    "optimizer_enc = OPTIMIZER(vaegan_model.encoder.parameters(), lr=LEARNING_RATE)\n",
    "optimizer_gen = OPTIMIZER(vaegan_model.generator.parameters(), lr=LEARNING_RATE)\n",
    "optimizer_disc = OPTIMIZER(vaegan_model.discriminator.parameters(), lr=LEARNING_RATE)\n",
    "\n",
    "vaegan_trainer = TrainerVAEGAN(\n",
    "    net=vaegan_model,\n",
    "    optimizer_enc=optimizer_enc,\n",
    "    optimizer_gen=optimizer_gen,\n",
    "    optimizer_disc=optimizer_disc,\n",
    "    kld_annealing_epochs=KLD_ANNEALING_EPOCHS,\n",
    "    progress_dir=EXPERIMENT_DIR_VAEGAN,\n",
    "    train_loader=train_loader,\n",
    "    valid_loader=valid_loader,\n",
    "    CHECKPOINTS_DIR=EXPERIMENT_DIR_VAEGAN,\n",
    "    TOLERANCE=TOLERANCE, \n",
    "    minimum_valid_loss=MINIMUM_VALID_LOSS,\n",
    "    net_ema = None,\n",
    "    accum = ACCUM,\n",
    "    ada_target = ADA_TARGET,\n",
    "    ada_length = ADA_LENGTH,\n",
    "    gamma = GAMMA,\n",
    "    device = device,\n",
    "    seed = 0,\n",
    "    early_stopping=False\n",
    ")"
   ]
  },
  {
   "cell_type": "code",
   "execution_count": 7,
   "metadata": {},
   "outputs": [
    {
     "data": {
      "application/vnd.jupyter.widget-view+json": {
       "model_id": "b90c64ed84d3456685f7f0e283498700",
       "version_major": 2,
       "version_minor": 0
      },
      "text/plain": [
       "  0%|          | 0/32 [00:00<?, ?it/s]"
      ]
     },
     "metadata": {},
     "output_type": "display_data"
    },
    {
     "data": {
      "application/vnd.jupyter.widget-view+json": {
       "model_id": "b0b240bc0a8b41049bfba2daf35f831c",
       "version_major": 2,
       "version_minor": 0
      },
      "text/plain": [
       "  0%|          | 0/8 [00:00<?, ?it/s]"
      ]
     },
     "metadata": {},
     "output_type": "display_data"
    },
    {
     "name": "stdout",
     "output_type": "stream",
     "text": [
      "Epoch #000: Rec_Loss/train = 0.643, KLD/train = 133.827, Discl_Loss/train = 1.634, Adv_Loss/train = 0.972 | Rec_Loss/valid = 0.469, KLD/valid = 10.536, Discl_Loss/valid = 1.470, Adv_Loss/valid = 0.042\n"
     ]
    },
    {
     "data": {
      "application/vnd.jupyter.widget-view+json": {
       "model_id": "097bebd1dd854db5acf4a641c41ab255",
       "version_major": 2,
       "version_minor": 0
      },
      "text/plain": [
       "  0%|          | 0/32 [00:00<?, ?it/s]"
      ]
     },
     "metadata": {},
     "output_type": "display_data"
    },
    {
     "data": {
      "application/vnd.jupyter.widget-view+json": {
       "model_id": "52a45e97dcd5479cb31e603424a5fa33",
       "version_major": 2,
       "version_minor": 0
      },
      "text/plain": [
       "  0%|          | 0/8 [00:00<?, ?it/s]"
      ]
     },
     "metadata": {},
     "output_type": "display_data"
    },
    {
     "name": "stdout",
     "output_type": "stream",
     "text": [
      "Epoch #001: Rec_Loss/train = 0.490, KLD/train = 10.979, Discl_Loss/train = 1.533, Adv_Loss/train = 0.430 | Rec_Loss/valid = 0.454, KLD/valid = 5.438, Discl_Loss/valid = 1.604, Adv_Loss/valid = 0.169\n"
     ]
    },
    {
     "data": {
      "application/vnd.jupyter.widget-view+json": {
       "model_id": "32a6d3bbf520476897a5111cb09e114d",
       "version_major": 2,
       "version_minor": 0
      },
      "text/plain": [
       "  0%|          | 0/32 [00:00<?, ?it/s]"
      ]
     },
     "metadata": {},
     "output_type": "display_data"
    },
    {
     "data": {
      "application/vnd.jupyter.widget-view+json": {
       "model_id": "ad34e62fca264c14b9cb03ebe7dcdce2",
       "version_major": 2,
       "version_minor": 0
      },
      "text/plain": [
       "  0%|          | 0/8 [00:00<?, ?it/s]"
      ]
     },
     "metadata": {},
     "output_type": "display_data"
    },
    {
     "name": "stdout",
     "output_type": "stream",
     "text": [
      "Epoch #002: Rec_Loss/train = 0.497, KLD/train = 5.404, Discl_Loss/train = 1.525, Adv_Loss/train = 0.363 | Rec_Loss/valid = 0.478, KLD/valid = 2.869, Discl_Loss/valid = 1.487, Adv_Loss/valid = 0.742\n"
     ]
    },
    {
     "data": {
      "application/vnd.jupyter.widget-view+json": {
       "model_id": "cab524e18a7445ba9db322da0e8e6671",
       "version_major": 2,
       "version_minor": 0
      },
      "text/plain": [
       "  0%|          | 0/32 [00:00<?, ?it/s]"
      ]
     },
     "metadata": {},
     "output_type": "display_data"
    },
    {
     "data": {
      "application/vnd.jupyter.widget-view+json": {
       "model_id": "f4ef076ad2af41b191ff554921e14f2e",
       "version_major": 2,
       "version_minor": 0
      },
      "text/plain": [
       "  0%|          | 0/8 [00:00<?, ?it/s]"
      ]
     },
     "metadata": {},
     "output_type": "display_data"
    },
    {
     "name": "stdout",
     "output_type": "stream",
     "text": [
      "Epoch #003: Rec_Loss/train = 0.488, KLD/train = 2.842, Discl_Loss/train = 1.549, Adv_Loss/train = 0.588 | Rec_Loss/valid = 0.440, KLD/valid = 1.694, Discl_Loss/valid = 1.616, Adv_Loss/valid = 0.587\n"
     ]
    },
    {
     "data": {
      "application/vnd.jupyter.widget-view+json": {
       "model_id": "b60b30966df2437ea1ee5cccd9bb38b9",
       "version_major": 2,
       "version_minor": 0
      },
      "text/plain": [
       "  0%|          | 0/32 [00:00<?, ?it/s]"
      ]
     },
     "metadata": {},
     "output_type": "display_data"
    },
    {
     "data": {
      "application/vnd.jupyter.widget-view+json": {
       "model_id": "e7bea4a548a544e9bbd52530b20f2557",
       "version_major": 2,
       "version_minor": 0
      },
      "text/plain": [
       "  0%|          | 0/8 [00:00<?, ?it/s]"
      ]
     },
     "metadata": {},
     "output_type": "display_data"
    },
    {
     "name": "stdout",
     "output_type": "stream",
     "text": [
      "Epoch #004: Rec_Loss/train = 0.397, KLD/train = 1.792, Discl_Loss/train = 1.520, Adv_Loss/train = 0.606 | Rec_Loss/valid = 0.362, KLD/valid = 1.438, Discl_Loss/valid = 1.632, Adv_Loss/valid = 0.628\n"
     ]
    },
    {
     "data": {
      "application/vnd.jupyter.widget-view+json": {
       "model_id": "10c9e333ecd545c58d3cbb4c7d4252d4",
       "version_major": 2,
       "version_minor": 0
      },
      "text/plain": [
       "  0%|          | 0/32 [00:00<?, ?it/s]"
      ]
     },
     "metadata": {},
     "output_type": "display_data"
    },
    {
     "data": {
      "application/vnd.jupyter.widget-view+json": {
       "model_id": "67bb71acc8204b809e280a6233c4f8b0",
       "version_major": 2,
       "version_minor": 0
      },
      "text/plain": [
       "  0%|          | 0/8 [00:00<?, ?it/s]"
      ]
     },
     "metadata": {},
     "output_type": "display_data"
    },
    {
     "name": "stdout",
     "output_type": "stream",
     "text": [
      "Epoch #005: Rec_Loss/train = 0.342, KLD/train = 1.446, Discl_Loss/train = 1.439, Adv_Loss/train = 0.528 | Rec_Loss/valid = 0.337, KLD/valid = 1.005, Discl_Loss/valid = 1.484, Adv_Loss/valid = 0.582\n"
     ]
    },
    {
     "data": {
      "application/vnd.jupyter.widget-view+json": {
       "model_id": "15528f763e024465b0f267d92c2dd349",
       "version_major": 2,
       "version_minor": 0
      },
      "text/plain": [
       "  0%|          | 0/32 [00:00<?, ?it/s]"
      ]
     },
     "metadata": {},
     "output_type": "display_data"
    },
    {
     "data": {
      "application/vnd.jupyter.widget-view+json": {
       "model_id": "6ec20477e61944e9a1462e8e2b397d2c",
       "version_major": 2,
       "version_minor": 0
      },
      "text/plain": [
       "  0%|          | 0/8 [00:00<?, ?it/s]"
      ]
     },
     "metadata": {},
     "output_type": "display_data"
    },
    {
     "name": "stdout",
     "output_type": "stream",
     "text": [
      "Epoch #006: Rec_Loss/train = 0.336, KLD/train = 1.117, Discl_Loss/train = 1.326, Adv_Loss/train = 0.527 | Rec_Loss/valid = 0.456, KLD/valid = 0.807, Discl_Loss/valid = 1.561, Adv_Loss/valid = 1.189\n"
     ]
    },
    {
     "data": {
      "application/vnd.jupyter.widget-view+json": {
       "model_id": "7aa7bb8b52044d4e816695a5b1658ba0",
       "version_major": 2,
       "version_minor": 0
      },
      "text/plain": [
       "  0%|          | 0/32 [00:00<?, ?it/s]"
      ]
     },
     "metadata": {},
     "output_type": "display_data"
    },
    {
     "data": {
      "application/vnd.jupyter.widget-view+json": {
       "model_id": "60ce73f3e3d84152b1df58d1fb5ac2ce",
       "version_major": 2,
       "version_minor": 0
      },
      "text/plain": [
       "  0%|          | 0/8 [00:00<?, ?it/s]"
      ]
     },
     "metadata": {},
     "output_type": "display_data"
    },
    {
     "name": "stdout",
     "output_type": "stream",
     "text": [
      "Epoch #007: Rec_Loss/train = 0.328, KLD/train = 0.835, Discl_Loss/train = 1.282, Adv_Loss/train = 0.382 | Rec_Loss/valid = 0.342, KLD/valid = 0.575, Discl_Loss/valid = 1.331, Adv_Loss/valid = 0.638\n"
     ]
    },
    {
     "data": {
      "application/vnd.jupyter.widget-view+json": {
       "model_id": "c2a95e93ea154a0abb7e87cc6258bb00",
       "version_major": 2,
       "version_minor": 0
      },
      "text/plain": [
       "  0%|          | 0/32 [00:00<?, ?it/s]"
      ]
     },
     "metadata": {},
     "output_type": "display_data"
    },
    {
     "data": {
      "application/vnd.jupyter.widget-view+json": {
       "model_id": "7590f5741e0f48288b4d68fff545a249",
       "version_major": 2,
       "version_minor": 0
      },
      "text/plain": [
       "  0%|          | 0/8 [00:00<?, ?it/s]"
      ]
     },
     "metadata": {},
     "output_type": "display_data"
    },
    {
     "name": "stdout",
     "output_type": "stream",
     "text": [
      "Epoch #008: Rec_Loss/train = 0.328, KLD/train = 0.645, Discl_Loss/train = 1.258, Adv_Loss/train = 0.422 | Rec_Loss/valid = 0.322, KLD/valid = 0.556, Discl_Loss/valid = 1.261, Adv_Loss/valid = 0.621\n"
     ]
    },
    {
     "data": {
      "application/vnd.jupyter.widget-view+json": {
       "model_id": "2fd4b1be79dd464fb4d5629a8d685203",
       "version_major": 2,
       "version_minor": 0
      },
      "text/plain": [
       "  0%|          | 0/32 [00:00<?, ?it/s]"
      ]
     },
     "metadata": {},
     "output_type": "display_data"
    },
    {
     "data": {
      "application/vnd.jupyter.widget-view+json": {
       "model_id": "f416c4325c644e45ae78bd46ddda3d3d",
       "version_major": 2,
       "version_minor": 0
      },
      "text/plain": [
       "  0%|          | 0/8 [00:00<?, ?it/s]"
      ]
     },
     "metadata": {},
     "output_type": "display_data"
    },
    {
     "name": "stdout",
     "output_type": "stream",
     "text": [
      "Epoch #009: Rec_Loss/train = 0.328, KLD/train = 0.581, Discl_Loss/train = 1.262, Adv_Loss/train = 0.408 | Rec_Loss/valid = 0.325, KLD/valid = 0.457, Discl_Loss/valid = 1.302, Adv_Loss/valid = 0.343\n"
     ]
    },
    {
     "data": {
      "application/vnd.jupyter.widget-view+json": {
       "model_id": "b50c2a2aa5e64b08b8c5c8b25ae167bd",
       "version_major": 2,
       "version_minor": 0
      },
      "text/plain": [
       "  0%|          | 0/32 [00:00<?, ?it/s]"
      ]
     },
     "metadata": {},
     "output_type": "display_data"
    },
    {
     "data": {
      "application/vnd.jupyter.widget-view+json": {
       "model_id": "2c83ecf948204bafbd8d4a07d55eec08",
       "version_major": 2,
       "version_minor": 0
      },
      "text/plain": [
       "  0%|          | 0/8 [00:00<?, ?it/s]"
      ]
     },
     "metadata": {},
     "output_type": "display_data"
    },
    {
     "name": "stdout",
     "output_type": "stream",
     "text": [
      "Epoch #010: Rec_Loss/train = 0.328, KLD/train = 0.466, Discl_Loss/train = 1.204, Adv_Loss/train = 0.490 | Rec_Loss/valid = 0.416, KLD/valid = 0.340, Discl_Loss/valid = 1.362, Adv_Loss/valid = 0.794\n"
     ]
    },
    {
     "data": {
      "application/vnd.jupyter.widget-view+json": {
       "model_id": "b3bdc790557746f58ddd15223100d1b3",
       "version_major": 2,
       "version_minor": 0
      },
      "text/plain": [
       "  0%|          | 0/32 [00:00<?, ?it/s]"
      ]
     },
     "metadata": {},
     "output_type": "display_data"
    },
    {
     "data": {
      "application/vnd.jupyter.widget-view+json": {
       "model_id": "bd7815f2ba3f4cc6a18506f2c3a83c70",
       "version_major": 2,
       "version_minor": 0
      },
      "text/plain": [
       "  0%|          | 0/8 [00:00<?, ?it/s]"
      ]
     },
     "metadata": {},
     "output_type": "display_data"
    },
    {
     "name": "stdout",
     "output_type": "stream",
     "text": [
      "Epoch #011: Rec_Loss/train = 0.333, KLD/train = 0.386, Discl_Loss/train = 1.163, Adv_Loss/train = 0.448 | Rec_Loss/valid = 0.490, KLD/valid = 0.409, Discl_Loss/valid = 1.469, Adv_Loss/valid = 0.694\n"
     ]
    },
    {
     "data": {
      "application/vnd.jupyter.widget-view+json": {
       "model_id": "8a8b685602f346439b2f7b9363246f14",
       "version_major": 2,
       "version_minor": 0
      },
      "text/plain": [
       "  0%|          | 0/32 [00:00<?, ?it/s]"
      ]
     },
     "metadata": {},
     "output_type": "display_data"
    },
    {
     "data": {
      "application/vnd.jupyter.widget-view+json": {
       "model_id": "161e505b6e5b4d70a02297575f8b1bcc",
       "version_major": 2,
       "version_minor": 0
      },
      "text/plain": [
       "  0%|          | 0/8 [00:00<?, ?it/s]"
      ]
     },
     "metadata": {},
     "output_type": "display_data"
    },
    {
     "name": "stdout",
     "output_type": "stream",
     "text": [
      "Epoch #012: Rec_Loss/train = 0.334, KLD/train = 0.370, Discl_Loss/train = 1.138, Adv_Loss/train = 0.389 | Rec_Loss/valid = 0.347, KLD/valid = 0.254, Discl_Loss/valid = 1.201, Adv_Loss/valid = 0.469\n"
     ]
    },
    {
     "data": {
      "application/vnd.jupyter.widget-view+json": {
       "model_id": "fac97fe78f844343832259945639558e",
       "version_major": 2,
       "version_minor": 0
      },
      "text/plain": [
       "  0%|          | 0/32 [00:00<?, ?it/s]"
      ]
     },
     "metadata": {},
     "output_type": "display_data"
    },
    {
     "data": {
      "application/vnd.jupyter.widget-view+json": {
       "model_id": "08b8da35904a4ab3b53ee56bb81f23c5",
       "version_major": 2,
       "version_minor": 0
      },
      "text/plain": [
       "  0%|          | 0/8 [00:00<?, ?it/s]"
      ]
     },
     "metadata": {},
     "output_type": "display_data"
    },
    {
     "name": "stdout",
     "output_type": "stream",
     "text": [
      "Epoch #013: Rec_Loss/train = 0.326, KLD/train = 0.323, Discl_Loss/train = 1.145, Adv_Loss/train = 0.438 | Rec_Loss/valid = 0.341, KLD/valid = 0.273, Discl_Loss/valid = 1.217, Adv_Loss/valid = 0.454\n"
     ]
    },
    {
     "data": {
      "application/vnd.jupyter.widget-view+json": {
       "model_id": "8c51e63653ba4e889177ad4f16fa6266",
       "version_major": 2,
       "version_minor": 0
      },
      "text/plain": [
       "  0%|          | 0/32 [00:00<?, ?it/s]"
      ]
     },
     "metadata": {},
     "output_type": "display_data"
    },
    {
     "data": {
      "application/vnd.jupyter.widget-view+json": {
       "model_id": "811f2e58b14847aa961c817c74de46c3",
       "version_major": 2,
       "version_minor": 0
      },
      "text/plain": [
       "  0%|          | 0/8 [00:00<?, ?it/s]"
      ]
     },
     "metadata": {},
     "output_type": "display_data"
    },
    {
     "name": "stdout",
     "output_type": "stream",
     "text": [
      "Epoch #014: Rec_Loss/train = 0.328, KLD/train = 0.288, Discl_Loss/train = 1.144, Adv_Loss/train = 0.414 | Rec_Loss/valid = 0.331, KLD/valid = 0.190, Discl_Loss/valid = 1.317, Adv_Loss/valid = 0.567\n"
     ]
    },
    {
     "data": {
      "application/vnd.jupyter.widget-view+json": {
       "model_id": "bdbb935980c240ccae193602f8eee316",
       "version_major": 2,
       "version_minor": 0
      },
      "text/plain": [
       "  0%|          | 0/32 [00:00<?, ?it/s]"
      ]
     },
     "metadata": {},
     "output_type": "display_data"
    },
    {
     "data": {
      "application/vnd.jupyter.widget-view+json": {
       "model_id": "1cc4eb9a624347d0a5c8311b6ce30415",
       "version_major": 2,
       "version_minor": 0
      },
      "text/plain": [
       "  0%|          | 0/8 [00:00<?, ?it/s]"
      ]
     },
     "metadata": {},
     "output_type": "display_data"
    },
    {
     "name": "stdout",
     "output_type": "stream",
     "text": [
      "Epoch #015: Rec_Loss/train = 0.323, KLD/train = 0.275, Discl_Loss/train = 1.114, Adv_Loss/train = 0.425 | Rec_Loss/valid = 0.379, KLD/valid = 0.231, Discl_Loss/valid = 1.267, Adv_Loss/valid = 0.430\n"
     ]
    },
    {
     "data": {
      "application/vnd.jupyter.widget-view+json": {
       "model_id": "cfb32c6f9e26406a80954561874a55a6",
       "version_major": 2,
       "version_minor": 0
      },
      "text/plain": [
       "  0%|          | 0/32 [00:00<?, ?it/s]"
      ]
     },
     "metadata": {},
     "output_type": "display_data"
    },
    {
     "data": {
      "application/vnd.jupyter.widget-view+json": {
       "model_id": "c6364df81a064e1ea638d510ec18199d",
       "version_major": 2,
       "version_minor": 0
      },
      "text/plain": [
       "  0%|          | 0/8 [00:00<?, ?it/s]"
      ]
     },
     "metadata": {},
     "output_type": "display_data"
    },
    {
     "name": "stdout",
     "output_type": "stream",
     "text": [
      "Epoch #016: Rec_Loss/train = 0.313, KLD/train = 0.253, Discl_Loss/train = 1.104, Adv_Loss/train = 0.341 | Rec_Loss/valid = 0.336, KLD/valid = 0.269, Discl_Loss/valid = 1.331, Adv_Loss/valid = 0.829\n"
     ]
    },
    {
     "data": {
      "application/vnd.jupyter.widget-view+json": {
       "model_id": "e4b0ed5fd3d2480e9eb568dd995290fb",
       "version_major": 2,
       "version_minor": 0
      },
      "text/plain": [
       "  0%|          | 0/32 [00:00<?, ?it/s]"
      ]
     },
     "metadata": {},
     "output_type": "display_data"
    },
    {
     "data": {
      "application/vnd.jupyter.widget-view+json": {
       "model_id": "30d2fcac39a846d297f468c8cda89ad4",
       "version_major": 2,
       "version_minor": 0
      },
      "text/plain": [
       "  0%|          | 0/8 [00:00<?, ?it/s]"
      ]
     },
     "metadata": {},
     "output_type": "display_data"
    },
    {
     "name": "stdout",
     "output_type": "stream",
     "text": [
      "Epoch #017: Rec_Loss/train = 0.330, KLD/train = 0.229, Discl_Loss/train = 1.129, Adv_Loss/train = 0.388 | Rec_Loss/valid = 0.307, KLD/valid = 0.163, Discl_Loss/valid = 1.246, Adv_Loss/valid = 0.437\n"
     ]
    },
    {
     "data": {
      "application/vnd.jupyter.widget-view+json": {
       "model_id": "aad35aa792e644c8b85c967530dc9f74",
       "version_major": 2,
       "version_minor": 0
      },
      "text/plain": [
       "  0%|          | 0/32 [00:00<?, ?it/s]"
      ]
     },
     "metadata": {},
     "output_type": "display_data"
    },
    {
     "data": {
      "application/vnd.jupyter.widget-view+json": {
       "model_id": "dec67a805fc44c66b906ed8962af093d",
       "version_major": 2,
       "version_minor": 0
      },
      "text/plain": [
       "  0%|          | 0/8 [00:00<?, ?it/s]"
      ]
     },
     "metadata": {},
     "output_type": "display_data"
    },
    {
     "name": "stdout",
     "output_type": "stream",
     "text": [
      "Epoch #018: Rec_Loss/train = 0.311, KLD/train = 0.221, Discl_Loss/train = 1.057, Adv_Loss/train = 0.421 | Rec_Loss/valid = 0.335, KLD/valid = 0.163, Discl_Loss/valid = 1.260, Adv_Loss/valid = 0.382\n"
     ]
    },
    {
     "data": {
      "application/vnd.jupyter.widget-view+json": {
       "model_id": "a6e0356469f1480db87675f0405afae6",
       "version_major": 2,
       "version_minor": 0
      },
      "text/plain": [
       "  0%|          | 0/32 [00:00<?, ?it/s]"
      ]
     },
     "metadata": {},
     "output_type": "display_data"
    },
    {
     "data": {
      "application/vnd.jupyter.widget-view+json": {
       "model_id": "eec19390c8914d8ab835ac97552a4a4e",
       "version_major": 2,
       "version_minor": 0
      },
      "text/plain": [
       "  0%|          | 0/8 [00:00<?, ?it/s]"
      ]
     },
     "metadata": {},
     "output_type": "display_data"
    },
    {
     "name": "stdout",
     "output_type": "stream",
     "text": [
      "Epoch #019: Rec_Loss/train = 0.322, KLD/train = 0.201, Discl_Loss/train = 1.087, Adv_Loss/train = 0.389 | Rec_Loss/valid = 0.336, KLD/valid = 0.134, Discl_Loss/valid = 1.253, Adv_Loss/valid = 0.745\n"
     ]
    },
    {
     "data": {
      "application/vnd.jupyter.widget-view+json": {
       "model_id": "3c28e3b29c5746f0b9e401713c971b03",
       "version_major": 2,
       "version_minor": 0
      },
      "text/plain": [
       "  0%|          | 0/32 [00:00<?, ?it/s]"
      ]
     },
     "metadata": {},
     "output_type": "display_data"
    },
    {
     "data": {
      "application/vnd.jupyter.widget-view+json": {
       "model_id": "745b9ab17a5e4d1bb8e14d36c7461217",
       "version_major": 2,
       "version_minor": 0
      },
      "text/plain": [
       "  0%|          | 0/8 [00:00<?, ?it/s]"
      ]
     },
     "metadata": {},
     "output_type": "display_data"
    },
    {
     "name": "stdout",
     "output_type": "stream",
     "text": [
      "Epoch #020: Rec_Loss/train = 0.325, KLD/train = 0.189, Discl_Loss/train = 1.068, Adv_Loss/train = 0.385 | Rec_Loss/valid = 0.311, KLD/valid = 0.139, Discl_Loss/valid = 1.227, Adv_Loss/valid = 0.282\n"
     ]
    },
    {
     "data": {
      "application/vnd.jupyter.widget-view+json": {
       "model_id": "2c9dd303aab34817a66835c3723b40c2",
       "version_major": 2,
       "version_minor": 0
      },
      "text/plain": [
       "  0%|          | 0/32 [00:00<?, ?it/s]"
      ]
     },
     "metadata": {},
     "output_type": "display_data"
    },
    {
     "data": {
      "application/vnd.jupyter.widget-view+json": {
       "model_id": "d2f7162f4c234dc7a41e997d1bd46296",
       "version_major": 2,
       "version_minor": 0
      },
      "text/plain": [
       "  0%|          | 0/8 [00:00<?, ?it/s]"
      ]
     },
     "metadata": {},
     "output_type": "display_data"
    },
    {
     "name": "stdout",
     "output_type": "stream",
     "text": [
      "Epoch #021: Rec_Loss/train = 0.330, KLD/train = 0.184, Discl_Loss/train = 1.067, Adv_Loss/train = 0.488 | Rec_Loss/valid = 0.300, KLD/valid = 0.146, Discl_Loss/valid = 1.228, Adv_Loss/valid = 0.401\n"
     ]
    },
    {
     "data": {
      "application/vnd.jupyter.widget-view+json": {
       "model_id": "a82da2e3b0424ea8bde3acad8665df16",
       "version_major": 2,
       "version_minor": 0
      },
      "text/plain": [
       "  0%|          | 0/32 [00:00<?, ?it/s]"
      ]
     },
     "metadata": {},
     "output_type": "display_data"
    },
    {
     "data": {
      "application/vnd.jupyter.widget-view+json": {
       "model_id": "8182e22194bc460ab16bcd2f137ff05e",
       "version_major": 2,
       "version_minor": 0
      },
      "text/plain": [
       "  0%|          | 0/8 [00:00<?, ?it/s]"
      ]
     },
     "metadata": {},
     "output_type": "display_data"
    },
    {
     "name": "stdout",
     "output_type": "stream",
     "text": [
      "Epoch #022: Rec_Loss/train = 0.309, KLD/train = 0.167, Discl_Loss/train = 1.042, Adv_Loss/train = 0.350 | Rec_Loss/valid = 0.346, KLD/valid = 0.112, Discl_Loss/valid = 1.212, Adv_Loss/valid = 0.256\n"
     ]
    },
    {
     "data": {
      "application/vnd.jupyter.widget-view+json": {
       "model_id": "7871f97a2e0548feab6f21a1b6531231",
       "version_major": 2,
       "version_minor": 0
      },
      "text/plain": [
       "  0%|          | 0/32 [00:00<?, ?it/s]"
      ]
     },
     "metadata": {},
     "output_type": "display_data"
    },
    {
     "data": {
      "application/vnd.jupyter.widget-view+json": {
       "model_id": "276a0e463cf24534ada6e19ea1e892a2",
       "version_major": 2,
       "version_minor": 0
      },
      "text/plain": [
       "  0%|          | 0/8 [00:00<?, ?it/s]"
      ]
     },
     "metadata": {},
     "output_type": "display_data"
    },
    {
     "name": "stdout",
     "output_type": "stream",
     "text": [
      "Epoch #023: Rec_Loss/train = 0.308, KLD/train = 0.157, Discl_Loss/train = 1.039, Adv_Loss/train = 0.377 | Rec_Loss/valid = 0.303, KLD/valid = 0.112, Discl_Loss/valid = 1.174, Adv_Loss/valid = 0.236\n"
     ]
    },
    {
     "data": {
      "application/vnd.jupyter.widget-view+json": {
       "model_id": "a324db8123ca45e69d1ec5b1dca8aaa4",
       "version_major": 2,
       "version_minor": 0
      },
      "text/plain": [
       "  0%|          | 0/32 [00:00<?, ?it/s]"
      ]
     },
     "metadata": {},
     "output_type": "display_data"
    },
    {
     "data": {
      "application/vnd.jupyter.widget-view+json": {
       "model_id": "df9b6b2be2a748b4aaec1f8811993b00",
       "version_major": 2,
       "version_minor": 0
      },
      "text/plain": [
       "  0%|          | 0/8 [00:00<?, ?it/s]"
      ]
     },
     "metadata": {},
     "output_type": "display_data"
    },
    {
     "name": "stdout",
     "output_type": "stream",
     "text": [
      "Epoch #024: Rec_Loss/train = 0.323, KLD/train = 0.149, Discl_Loss/train = 1.023, Adv_Loss/train = 0.442 | Rec_Loss/valid = 0.303, KLD/valid = 0.116, Discl_Loss/valid = 1.220, Adv_Loss/valid = 0.529\n"
     ]
    },
    {
     "data": {
      "application/vnd.jupyter.widget-view+json": {
       "model_id": "13e6e2cbe7424abf8fbb32ccc3c0f2c9",
       "version_major": 2,
       "version_minor": 0
      },
      "text/plain": [
       "  0%|          | 0/32 [00:00<?, ?it/s]"
      ]
     },
     "metadata": {},
     "output_type": "display_data"
    },
    {
     "data": {
      "application/vnd.jupyter.widget-view+json": {
       "model_id": "d547c6cad59a47909cba75885c83efdc",
       "version_major": 2,
       "version_minor": 0
      },
      "text/plain": [
       "  0%|          | 0/8 [00:00<?, ?it/s]"
      ]
     },
     "metadata": {},
     "output_type": "display_data"
    },
    {
     "name": "stdout",
     "output_type": "stream",
     "text": [
      "Epoch #025: Rec_Loss/train = 0.325, KLD/train = 0.148, Discl_Loss/train = 1.028, Adv_Loss/train = 0.413 | Rec_Loss/valid = 0.334, KLD/valid = 0.102, Discl_Loss/valid = 1.188, Adv_Loss/valid = 0.649\n"
     ]
    },
    {
     "data": {
      "application/vnd.jupyter.widget-view+json": {
       "model_id": "decd0e20b3dc4fe8be8a7866a2134a46",
       "version_major": 2,
       "version_minor": 0
      },
      "text/plain": [
       "  0%|          | 0/32 [00:00<?, ?it/s]"
      ]
     },
     "metadata": {},
     "output_type": "display_data"
    },
    {
     "data": {
      "application/vnd.jupyter.widget-view+json": {
       "model_id": "276ac7dec44748088f8fa40e481540ca",
       "version_major": 2,
       "version_minor": 0
      },
      "text/plain": [
       "  0%|          | 0/8 [00:00<?, ?it/s]"
      ]
     },
     "metadata": {},
     "output_type": "display_data"
    },
    {
     "name": "stdout",
     "output_type": "stream",
     "text": [
      "Epoch #026: Rec_Loss/train = 0.315, KLD/train = 0.143, Discl_Loss/train = 1.000, Adv_Loss/train = 0.381 | Rec_Loss/valid = 0.338, KLD/valid = 0.104, Discl_Loss/valid = 1.240, Adv_Loss/valid = 0.259\n"
     ]
    },
    {
     "data": {
      "application/vnd.jupyter.widget-view+json": {
       "model_id": "a8821fa4889941788c8b02068b807716",
       "version_major": 2,
       "version_minor": 0
      },
      "text/plain": [
       "  0%|          | 0/32 [00:00<?, ?it/s]"
      ]
     },
     "metadata": {},
     "output_type": "display_data"
    },
    {
     "data": {
      "application/vnd.jupyter.widget-view+json": {
       "model_id": "f1203844fb6145008143feecc9081d4f",
       "version_major": 2,
       "version_minor": 0
      },
      "text/plain": [
       "  0%|          | 0/8 [00:00<?, ?it/s]"
      ]
     },
     "metadata": {},
     "output_type": "display_data"
    },
    {
     "name": "stdout",
     "output_type": "stream",
     "text": [
      "Epoch #027: Rec_Loss/train = 0.322, KLD/train = 0.133, Discl_Loss/train = 1.014, Adv_Loss/train = 0.427 | Rec_Loss/valid = 0.341, KLD/valid = 0.100, Discl_Loss/valid = 1.302, Adv_Loss/valid = 0.491\n"
     ]
    },
    {
     "data": {
      "application/vnd.jupyter.widget-view+json": {
       "model_id": "da33c23c32ae453fbdae4c6a5dffd084",
       "version_major": 2,
       "version_minor": 0
      },
      "text/plain": [
       "  0%|          | 0/32 [00:00<?, ?it/s]"
      ]
     },
     "metadata": {},
     "output_type": "display_data"
    },
    {
     "data": {
      "application/vnd.jupyter.widget-view+json": {
       "model_id": "adc9984dd5eb460881f1c81ebdeb1d35",
       "version_major": 2,
       "version_minor": 0
      },
      "text/plain": [
       "  0%|          | 0/8 [00:00<?, ?it/s]"
      ]
     },
     "metadata": {},
     "output_type": "display_data"
    },
    {
     "name": "stdout",
     "output_type": "stream",
     "text": [
      "Epoch #028: Rec_Loss/train = 0.313, KLD/train = 0.131, Discl_Loss/train = 1.013, Adv_Loss/train = 0.412 | Rec_Loss/valid = 0.372, KLD/valid = 0.090, Discl_Loss/valid = 1.272, Adv_Loss/valid = 0.868\n"
     ]
    },
    {
     "data": {
      "application/vnd.jupyter.widget-view+json": {
       "model_id": "99bf88bb65d2409ea175dfd1fdcb5954",
       "version_major": 2,
       "version_minor": 0
      },
      "text/plain": [
       "  0%|          | 0/32 [00:00<?, ?it/s]"
      ]
     },
     "metadata": {},
     "output_type": "display_data"
    },
    {
     "data": {
      "application/vnd.jupyter.widget-view+json": {
       "model_id": "6b996ed87ed64d22afd88830f86c4b00",
       "version_major": 2,
       "version_minor": 0
      },
      "text/plain": [
       "  0%|          | 0/8 [00:00<?, ?it/s]"
      ]
     },
     "metadata": {},
     "output_type": "display_data"
    },
    {
     "name": "stdout",
     "output_type": "stream",
     "text": [
      "Epoch #029: Rec_Loss/train = 0.326, KLD/train = 0.127, Discl_Loss/train = 1.014, Adv_Loss/train = 0.385 | Rec_Loss/valid = 0.303, KLD/valid = 0.082, Discl_Loss/valid = 1.229, Adv_Loss/valid = 0.415\n"
     ]
    },
    {
     "data": {
      "application/vnd.jupyter.widget-view+json": {
       "model_id": "21201cd59a234ceba9848d632f0e5396",
       "version_major": 2,
       "version_minor": 0
      },
      "text/plain": [
       "  0%|          | 0/32 [00:00<?, ?it/s]"
      ]
     },
     "metadata": {},
     "output_type": "display_data"
    },
    {
     "data": {
      "application/vnd.jupyter.widget-view+json": {
       "model_id": "55355e2226674c9393d7a0fc4b0d92e1",
       "version_major": 2,
       "version_minor": 0
      },
      "text/plain": [
       "  0%|          | 0/8 [00:00<?, ?it/s]"
      ]
     },
     "metadata": {},
     "output_type": "display_data"
    },
    {
     "name": "stdout",
     "output_type": "stream",
     "text": [
      "Epoch #030: Rec_Loss/train = 0.307, KLD/train = 0.120, Discl_Loss/train = 0.988, Adv_Loss/train = 0.353 | Rec_Loss/valid = 0.317, KLD/valid = 0.096, Discl_Loss/valid = 1.214, Adv_Loss/valid = 0.290\n"
     ]
    },
    {
     "data": {
      "application/vnd.jupyter.widget-view+json": {
       "model_id": "e70b6f62e7a04ed782491514ce26ec89",
       "version_major": 2,
       "version_minor": 0
      },
      "text/plain": [
       "  0%|          | 0/32 [00:00<?, ?it/s]"
      ]
     },
     "metadata": {},
     "output_type": "display_data"
    },
    {
     "data": {
      "application/vnd.jupyter.widget-view+json": {
       "model_id": "a9a1701d624c49af9572370bd46d2e13",
       "version_major": 2,
       "version_minor": 0
      },
      "text/plain": [
       "  0%|          | 0/8 [00:00<?, ?it/s]"
      ]
     },
     "metadata": {},
     "output_type": "display_data"
    },
    {
     "name": "stdout",
     "output_type": "stream",
     "text": [
      "Epoch #031: Rec_Loss/train = 0.322, KLD/train = 0.118, Discl_Loss/train = 0.992, Adv_Loss/train = 0.439 | Rec_Loss/valid = 0.326, KLD/valid = 0.075, Discl_Loss/valid = 1.159, Adv_Loss/valid = 0.669\n"
     ]
    },
    {
     "data": {
      "application/vnd.jupyter.widget-view+json": {
       "model_id": "8a26a30cce5e4b3280ad83bb11c7c8d9",
       "version_major": 2,
       "version_minor": 0
      },
      "text/plain": [
       "  0%|          | 0/32 [00:00<?, ?it/s]"
      ]
     },
     "metadata": {},
     "output_type": "display_data"
    },
    {
     "data": {
      "application/vnd.jupyter.widget-view+json": {
       "model_id": "56bfbfd39c174feea5692180f0127a14",
       "version_major": 2,
       "version_minor": 0
      },
      "text/plain": [
       "  0%|          | 0/8 [00:00<?, ?it/s]"
      ]
     },
     "metadata": {},
     "output_type": "display_data"
    },
    {
     "name": "stdout",
     "output_type": "stream",
     "text": [
      "Epoch #032: Rec_Loss/train = 0.322, KLD/train = 0.111, Discl_Loss/train = 0.973, Adv_Loss/train = 0.411 | Rec_Loss/valid = 0.319, KLD/valid = 0.073, Discl_Loss/valid = 1.212, Adv_Loss/valid = 0.886\n"
     ]
    },
    {
     "data": {
      "application/vnd.jupyter.widget-view+json": {
       "model_id": "d05d53b1445842e0bffb9192e68c8a6e",
       "version_major": 2,
       "version_minor": 0
      },
      "text/plain": [
       "  0%|          | 0/32 [00:00<?, ?it/s]"
      ]
     },
     "metadata": {},
     "output_type": "display_data"
    },
    {
     "data": {
      "application/vnd.jupyter.widget-view+json": {
       "model_id": "f07dc82692c04748ac39a0d29079cba7",
       "version_major": 2,
       "version_minor": 0
      },
      "text/plain": [
       "  0%|          | 0/8 [00:00<?, ?it/s]"
      ]
     },
     "metadata": {},
     "output_type": "display_data"
    },
    {
     "name": "stdout",
     "output_type": "stream",
     "text": [
      "Epoch #033: Rec_Loss/train = 0.323, KLD/train = 0.109, Discl_Loss/train = 0.977, Adv_Loss/train = 0.410 | Rec_Loss/valid = 0.303, KLD/valid = 0.075, Discl_Loss/valid = 1.178, Adv_Loss/valid = 0.532\n"
     ]
    },
    {
     "data": {
      "application/vnd.jupyter.widget-view+json": {
       "model_id": "7428f9f47087483d91e71e68261962f7",
       "version_major": 2,
       "version_minor": 0
      },
      "text/plain": [
       "  0%|          | 0/32 [00:00<?, ?it/s]"
      ]
     },
     "metadata": {},
     "output_type": "display_data"
    },
    {
     "data": {
      "application/vnd.jupyter.widget-view+json": {
       "model_id": "68215df4d4c64ac2ba7f7aa8858b54ed",
       "version_major": 2,
       "version_minor": 0
      },
      "text/plain": [
       "  0%|          | 0/8 [00:00<?, ?it/s]"
      ]
     },
     "metadata": {},
     "output_type": "display_data"
    },
    {
     "name": "stdout",
     "output_type": "stream",
     "text": [
      "Epoch #034: Rec_Loss/train = 0.319, KLD/train = 0.108, Discl_Loss/train = 0.981, Adv_Loss/train = 0.385 | Rec_Loss/valid = 0.311, KLD/valid = 0.093, Discl_Loss/valid = 1.188, Adv_Loss/valid = 0.425\n"
     ]
    },
    {
     "data": {
      "application/vnd.jupyter.widget-view+json": {
       "model_id": "4e269bce950447f6b82a5ac9c6ca3426",
       "version_major": 2,
       "version_minor": 0
      },
      "text/plain": [
       "  0%|          | 0/32 [00:00<?, ?it/s]"
      ]
     },
     "metadata": {},
     "output_type": "display_data"
    },
    {
     "data": {
      "application/vnd.jupyter.widget-view+json": {
       "model_id": "ea37f9e603764da5adf34e99e19ae734",
       "version_major": 2,
       "version_minor": 0
      },
      "text/plain": [
       "  0%|          | 0/8 [00:00<?, ?it/s]"
      ]
     },
     "metadata": {},
     "output_type": "display_data"
    },
    {
     "name": "stdout",
     "output_type": "stream",
     "text": [
      "Epoch #035: Rec_Loss/train = 0.332, KLD/train = 0.106, Discl_Loss/train = 1.001, Adv_Loss/train = 0.449 | Rec_Loss/valid = 0.331, KLD/valid = 0.096, Discl_Loss/valid = 1.193, Adv_Loss/valid = 0.809\n"
     ]
    },
    {
     "data": {
      "application/vnd.jupyter.widget-view+json": {
       "model_id": "df003903ed164216b9b5756d0748844b",
       "version_major": 2,
       "version_minor": 0
      },
      "text/plain": [
       "  0%|          | 0/32 [00:00<?, ?it/s]"
      ]
     },
     "metadata": {},
     "output_type": "display_data"
    },
    {
     "data": {
      "application/vnd.jupyter.widget-view+json": {
       "model_id": "aa31a7d0e0684aba9852e5ab96dbd1d6",
       "version_major": 2,
       "version_minor": 0
      },
      "text/plain": [
       "  0%|          | 0/8 [00:00<?, ?it/s]"
      ]
     },
     "metadata": {},
     "output_type": "display_data"
    },
    {
     "name": "stdout",
     "output_type": "stream",
     "text": [
      "Epoch #036: Rec_Loss/train = 0.300, KLD/train = 0.101, Discl_Loss/train = 0.964, Adv_Loss/train = 0.335 | Rec_Loss/valid = 0.338, KLD/valid = 0.071, Discl_Loss/valid = 1.248, Adv_Loss/valid = 0.528\n"
     ]
    },
    {
     "data": {
      "application/vnd.jupyter.widget-view+json": {
       "model_id": "e17a079b0fee43398a5021ec32841b28",
       "version_major": 2,
       "version_minor": 0
      },
      "text/plain": [
       "  0%|          | 0/32 [00:00<?, ?it/s]"
      ]
     },
     "metadata": {},
     "output_type": "display_data"
    },
    {
     "data": {
      "application/vnd.jupyter.widget-view+json": {
       "model_id": "985ba2baffc24167a116a11099152762",
       "version_major": 2,
       "version_minor": 0
      },
      "text/plain": [
       "  0%|          | 0/8 [00:00<?, ?it/s]"
      ]
     },
     "metadata": {},
     "output_type": "display_data"
    },
    {
     "name": "stdout",
     "output_type": "stream",
     "text": [
      "Epoch #037: Rec_Loss/train = 0.320, KLD/train = 0.100, Discl_Loss/train = 0.977, Adv_Loss/train = 0.404 | Rec_Loss/valid = 0.320, KLD/valid = 0.078, Discl_Loss/valid = 1.207, Adv_Loss/valid = 0.757\n"
     ]
    },
    {
     "data": {
      "application/vnd.jupyter.widget-view+json": {
       "model_id": "67062e9da81c4ccf97f6071bb2bede84",
       "version_major": 2,
       "version_minor": 0
      },
      "text/plain": [
       "  0%|          | 0/32 [00:00<?, ?it/s]"
      ]
     },
     "metadata": {},
     "output_type": "display_data"
    },
    {
     "data": {
      "application/vnd.jupyter.widget-view+json": {
       "model_id": "291da53ba3f34d69bb514b24e893c643",
       "version_major": 2,
       "version_minor": 0
      },
      "text/plain": [
       "  0%|          | 0/8 [00:00<?, ?it/s]"
      ]
     },
     "metadata": {},
     "output_type": "display_data"
    },
    {
     "name": "stdout",
     "output_type": "stream",
     "text": [
      "Epoch #038: Rec_Loss/train = 0.314, KLD/train = 0.098, Discl_Loss/train = 1.008, Adv_Loss/train = 0.428 | Rec_Loss/valid = 0.326, KLD/valid = 0.061, Discl_Loss/valid = 1.238, Adv_Loss/valid = 0.266\n"
     ]
    },
    {
     "data": {
      "application/vnd.jupyter.widget-view+json": {
       "model_id": "543969ce8f764b0e8d1d28c49e4ab3d8",
       "version_major": 2,
       "version_minor": 0
      },
      "text/plain": [
       "  0%|          | 0/32 [00:00<?, ?it/s]"
      ]
     },
     "metadata": {},
     "output_type": "display_data"
    },
    {
     "data": {
      "application/vnd.jupyter.widget-view+json": {
       "model_id": "ff5767dd46e548b6b97365314eebc962",
       "version_major": 2,
       "version_minor": 0
      },
      "text/plain": [
       "  0%|          | 0/8 [00:00<?, ?it/s]"
      ]
     },
     "metadata": {},
     "output_type": "display_data"
    },
    {
     "name": "stdout",
     "output_type": "stream",
     "text": [
      "Epoch #039: Rec_Loss/train = 0.303, KLD/train = 0.100, Discl_Loss/train = 0.981, Adv_Loss/train = 0.412 | Rec_Loss/valid = 0.315, KLD/valid = 0.070, Discl_Loss/valid = 1.206, Adv_Loss/valid = 0.371\n"
     ]
    },
    {
     "data": {
      "application/vnd.jupyter.widget-view+json": {
       "model_id": "ff7fad598cb54527ab9a2e253b2c3db9",
       "version_major": 2,
       "version_minor": 0
      },
      "text/plain": [
       "  0%|          | 0/32 [00:00<?, ?it/s]"
      ]
     },
     "metadata": {},
     "output_type": "display_data"
    },
    {
     "data": {
      "application/vnd.jupyter.widget-view+json": {
       "model_id": "d36fe7c5ec724962b788b459c7ca25bf",
       "version_major": 2,
       "version_minor": 0
      },
      "text/plain": [
       "  0%|          | 0/8 [00:00<?, ?it/s]"
      ]
     },
     "metadata": {},
     "output_type": "display_data"
    },
    {
     "name": "stdout",
     "output_type": "stream",
     "text": [
      "Epoch #040: Rec_Loss/train = 0.323, KLD/train = 0.095, Discl_Loss/train = 0.961, Adv_Loss/train = 0.418 | Rec_Loss/valid = 0.321, KLD/valid = 0.083, Discl_Loss/valid = 1.151, Adv_Loss/valid = 0.304\n"
     ]
    },
    {
     "data": {
      "application/vnd.jupyter.widget-view+json": {
       "model_id": "8c4f21997ec14e5ca5bdfa5de90bcd1a",
       "version_major": 2,
       "version_minor": 0
      },
      "text/plain": [
       "  0%|          | 0/32 [00:00<?, ?it/s]"
      ]
     },
     "metadata": {},
     "output_type": "display_data"
    },
    {
     "data": {
      "application/vnd.jupyter.widget-view+json": {
       "model_id": "68c0c2c208b24b8c80e0d5689d82ef14",
       "version_major": 2,
       "version_minor": 0
      },
      "text/plain": [
       "  0%|          | 0/8 [00:00<?, ?it/s]"
      ]
     },
     "metadata": {},
     "output_type": "display_data"
    },
    {
     "name": "stdout",
     "output_type": "stream",
     "text": [
      "Epoch #041: Rec_Loss/train = 0.318, KLD/train = 0.091, Discl_Loss/train = 0.967, Adv_Loss/train = 0.411 | Rec_Loss/valid = 0.314, KLD/valid = 0.067, Discl_Loss/valid = 1.212, Adv_Loss/valid = 0.815\n"
     ]
    },
    {
     "data": {
      "application/vnd.jupyter.widget-view+json": {
       "model_id": "522788a60d5f45dc816f604d7003158a",
       "version_major": 2,
       "version_minor": 0
      },
      "text/plain": [
       "  0%|          | 0/32 [00:00<?, ?it/s]"
      ]
     },
     "metadata": {},
     "output_type": "display_data"
    },
    {
     "data": {
      "application/vnd.jupyter.widget-view+json": {
       "model_id": "52c290635a084bc187a66198a78534b0",
       "version_major": 2,
       "version_minor": 0
      },
      "text/plain": [
       "  0%|          | 0/8 [00:00<?, ?it/s]"
      ]
     },
     "metadata": {},
     "output_type": "display_data"
    },
    {
     "name": "stdout",
     "output_type": "stream",
     "text": [
      "Epoch #042: Rec_Loss/train = 0.315, KLD/train = 0.092, Discl_Loss/train = 0.971, Adv_Loss/train = 0.411 | Rec_Loss/valid = 0.360, KLD/valid = 0.056, Discl_Loss/valid = 1.222, Adv_Loss/valid = 0.809\n"
     ]
    },
    {
     "data": {
      "application/vnd.jupyter.widget-view+json": {
       "model_id": "f0bc91c977114a69a95dfbc2cf7ac351",
       "version_major": 2,
       "version_minor": 0
      },
      "text/plain": [
       "  0%|          | 0/32 [00:00<?, ?it/s]"
      ]
     },
     "metadata": {},
     "output_type": "display_data"
    },
    {
     "data": {
      "application/vnd.jupyter.widget-view+json": {
       "model_id": "c6aa904cf52e4c02879eae126c69d2b7",
       "version_major": 2,
       "version_minor": 0
      },
      "text/plain": [
       "  0%|          | 0/8 [00:00<?, ?it/s]"
      ]
     },
     "metadata": {},
     "output_type": "display_data"
    },
    {
     "name": "stdout",
     "output_type": "stream",
     "text": [
      "Epoch #043: Rec_Loss/train = 0.314, KLD/train = 0.088, Discl_Loss/train = 0.966, Adv_Loss/train = 0.443 | Rec_Loss/valid = 0.310, KLD/valid = 0.067, Discl_Loss/valid = 1.161, Adv_Loss/valid = 0.651\n"
     ]
    },
    {
     "data": {
      "application/vnd.jupyter.widget-view+json": {
       "model_id": "9c84afb9338b4668b3273d62c8766634",
       "version_major": 2,
       "version_minor": 0
      },
      "text/plain": [
       "  0%|          | 0/32 [00:00<?, ?it/s]"
      ]
     },
     "metadata": {},
     "output_type": "display_data"
    },
    {
     "data": {
      "application/vnd.jupyter.widget-view+json": {
       "model_id": "4555104abe754d17b45781a79daa7371",
       "version_major": 2,
       "version_minor": 0
      },
      "text/plain": [
       "  0%|          | 0/8 [00:00<?, ?it/s]"
      ]
     },
     "metadata": {},
     "output_type": "display_data"
    },
    {
     "name": "stdout",
     "output_type": "stream",
     "text": [
      "Epoch #044: Rec_Loss/train = 0.301, KLD/train = 0.088, Discl_Loss/train = 0.928, Adv_Loss/train = 0.352 | Rec_Loss/valid = 0.334, KLD/valid = 0.062, Discl_Loss/valid = 1.183, Adv_Loss/valid = 0.245\n"
     ]
    },
    {
     "data": {
      "application/vnd.jupyter.widget-view+json": {
       "model_id": "9bbe8d1de9cc4e4e8e46e64e0b1181fa",
       "version_major": 2,
       "version_minor": 0
      },
      "text/plain": [
       "  0%|          | 0/32 [00:00<?, ?it/s]"
      ]
     },
     "metadata": {},
     "output_type": "display_data"
    },
    {
     "data": {
      "application/vnd.jupyter.widget-view+json": {
       "model_id": "9fd4510d8a074834a98ef2914697e5b2",
       "version_major": 2,
       "version_minor": 0
      },
      "text/plain": [
       "  0%|          | 0/8 [00:00<?, ?it/s]"
      ]
     },
     "metadata": {},
     "output_type": "display_data"
    },
    {
     "name": "stdout",
     "output_type": "stream",
     "text": [
      "Epoch #045: Rec_Loss/train = 0.316, KLD/train = 0.089, Discl_Loss/train = 0.957, Adv_Loss/train = 0.427 | Rec_Loss/valid = 0.355, KLD/valid = 0.066, Discl_Loss/valid = 1.196, Adv_Loss/valid = 0.481\n"
     ]
    },
    {
     "data": {
      "application/vnd.jupyter.widget-view+json": {
       "model_id": "3dfd152b854a465b9c0e45053fa37369",
       "version_major": 2,
       "version_minor": 0
      },
      "text/plain": [
       "  0%|          | 0/32 [00:00<?, ?it/s]"
      ]
     },
     "metadata": {},
     "output_type": "display_data"
    },
    {
     "data": {
      "application/vnd.jupyter.widget-view+json": {
       "model_id": "b9400ff4525b47f4ac677c22f27657de",
       "version_major": 2,
       "version_minor": 0
      },
      "text/plain": [
       "  0%|          | 0/8 [00:00<?, ?it/s]"
      ]
     },
     "metadata": {},
     "output_type": "display_data"
    },
    {
     "name": "stdout",
     "output_type": "stream",
     "text": [
      "Epoch #046: Rec_Loss/train = 0.315, KLD/train = 0.088, Discl_Loss/train = 0.941, Adv_Loss/train = 0.389 | Rec_Loss/valid = 0.387, KLD/valid = 0.058, Discl_Loss/valid = 1.257, Adv_Loss/valid = 0.642\n"
     ]
    },
    {
     "data": {
      "application/vnd.jupyter.widget-view+json": {
       "model_id": "3fc13835e670476bb82d63025daeb2eb",
       "version_major": 2,
       "version_minor": 0
      },
      "text/plain": [
       "  0%|          | 0/32 [00:00<?, ?it/s]"
      ]
     },
     "metadata": {},
     "output_type": "display_data"
    },
    {
     "data": {
      "application/vnd.jupyter.widget-view+json": {
       "model_id": "150a91a5dfe44a8ca0830850372dd103",
       "version_major": 2,
       "version_minor": 0
      },
      "text/plain": [
       "  0%|          | 0/8 [00:00<?, ?it/s]"
      ]
     },
     "metadata": {},
     "output_type": "display_data"
    },
    {
     "name": "stdout",
     "output_type": "stream",
     "text": [
      "Epoch #047: Rec_Loss/train = 0.307, KLD/train = 0.086, Discl_Loss/train = 0.944, Adv_Loss/train = 0.398 | Rec_Loss/valid = 0.301, KLD/valid = 0.059, Discl_Loss/valid = 1.166, Adv_Loss/valid = 0.975\n"
     ]
    },
    {
     "data": {
      "application/vnd.jupyter.widget-view+json": {
       "model_id": "cfac944116214006a0dab9c956d2f9d2",
       "version_major": 2,
       "version_minor": 0
      },
      "text/plain": [
       "  0%|          | 0/32 [00:00<?, ?it/s]"
      ]
     },
     "metadata": {},
     "output_type": "display_data"
    },
    {
     "data": {
      "application/vnd.jupyter.widget-view+json": {
       "model_id": "8e10bfa8024a47528eab4c0186c062df",
       "version_major": 2,
       "version_minor": 0
      },
      "text/plain": [
       "  0%|          | 0/8 [00:00<?, ?it/s]"
      ]
     },
     "metadata": {},
     "output_type": "display_data"
    },
    {
     "name": "stdout",
     "output_type": "stream",
     "text": [
      "Epoch #048: Rec_Loss/train = 0.315, KLD/train = 0.087, Discl_Loss/train = 0.930, Adv_Loss/train = 0.344 | Rec_Loss/valid = 0.313, KLD/valid = 0.062, Discl_Loss/valid = 1.187, Adv_Loss/valid = 0.472\n"
     ]
    },
    {
     "data": {
      "application/vnd.jupyter.widget-view+json": {
       "model_id": "f232325ceb554481965933861366c70d",
       "version_major": 2,
       "version_minor": 0
      },
      "text/plain": [
       "  0%|          | 0/32 [00:00<?, ?it/s]"
      ]
     },
     "metadata": {},
     "output_type": "display_data"
    },
    {
     "data": {
      "application/vnd.jupyter.widget-view+json": {
       "model_id": "581a88baeb5447a580e774a4a4f82002",
       "version_major": 2,
       "version_minor": 0
      },
      "text/plain": [
       "  0%|          | 0/8 [00:00<?, ?it/s]"
      ]
     },
     "metadata": {},
     "output_type": "display_data"
    },
    {
     "name": "stdout",
     "output_type": "stream",
     "text": [
      "Epoch #049: Rec_Loss/train = 0.323, KLD/train = 0.087, Discl_Loss/train = 0.936, Adv_Loss/train = 0.413 | Rec_Loss/valid = 0.309, KLD/valid = 0.073, Discl_Loss/valid = 1.151, Adv_Loss/valid = 0.832\n"
     ]
    },
    {
     "data": {
      "application/vnd.jupyter.widget-view+json": {
       "model_id": "3ceac07789f3458c820457066e3de8ef",
       "version_major": 2,
       "version_minor": 0
      },
      "text/plain": [
       "  0%|          | 0/32 [00:00<?, ?it/s]"
      ]
     },
     "metadata": {},
     "output_type": "display_data"
    },
    {
     "data": {
      "application/vnd.jupyter.widget-view+json": {
       "model_id": "9858e7d37e5b48968eddfe2caf5657c4",
       "version_major": 2,
       "version_minor": 0
      },
      "text/plain": [
       "  0%|          | 0/8 [00:00<?, ?it/s]"
      ]
     },
     "metadata": {},
     "output_type": "display_data"
    },
    {
     "name": "stdout",
     "output_type": "stream",
     "text": [
      "Epoch #050: Rec_Loss/train = 0.308, KLD/train = 0.086, Discl_Loss/train = 0.939, Adv_Loss/train = 0.370 | Rec_Loss/valid = 0.330, KLD/valid = 0.061, Discl_Loss/valid = 1.157, Adv_Loss/valid = 0.356\n"
     ]
    },
    {
     "data": {
      "application/vnd.jupyter.widget-view+json": {
       "model_id": "1fa1b6230495418aa4dd134abbe4b673",
       "version_major": 2,
       "version_minor": 0
      },
      "text/plain": [
       "  0%|          | 0/32 [00:00<?, ?it/s]"
      ]
     },
     "metadata": {},
     "output_type": "display_data"
    },
    {
     "data": {
      "application/vnd.jupyter.widget-view+json": {
       "model_id": "b9febae4d2534ca4be06cab078325707",
       "version_major": 2,
       "version_minor": 0
      },
      "text/plain": [
       "  0%|          | 0/8 [00:00<?, ?it/s]"
      ]
     },
     "metadata": {},
     "output_type": "display_data"
    },
    {
     "name": "stdout",
     "output_type": "stream",
     "text": [
      "Epoch #051: Rec_Loss/train = 0.310, KLD/train = 0.086, Discl_Loss/train = 0.935, Adv_Loss/train = 0.409 | Rec_Loss/valid = 0.334, KLD/valid = 0.072, Discl_Loss/valid = 1.258, Adv_Loss/valid = 0.630\n"
     ]
    },
    {
     "data": {
      "application/vnd.jupyter.widget-view+json": {
       "model_id": "dbc071603d1b4dd3ad00d43a6a7d8272",
       "version_major": 2,
       "version_minor": 0
      },
      "text/plain": [
       "  0%|          | 0/32 [00:00<?, ?it/s]"
      ]
     },
     "metadata": {},
     "output_type": "display_data"
    },
    {
     "data": {
      "application/vnd.jupyter.widget-view+json": {
       "model_id": "bb829f33b6d74bc48b01bf5307702f84",
       "version_major": 2,
       "version_minor": 0
      },
      "text/plain": [
       "  0%|          | 0/8 [00:00<?, ?it/s]"
      ]
     },
     "metadata": {},
     "output_type": "display_data"
    },
    {
     "name": "stdout",
     "output_type": "stream",
     "text": [
      "Epoch #052: Rec_Loss/train = 0.313, KLD/train = 0.088, Discl_Loss/train = 0.928, Adv_Loss/train = 0.379 | Rec_Loss/valid = 0.311, KLD/valid = 0.057, Discl_Loss/valid = 1.174, Adv_Loss/valid = 1.268\n"
     ]
    },
    {
     "data": {
      "application/vnd.jupyter.widget-view+json": {
       "model_id": "086bebb813714f9ab931ce087687c407",
       "version_major": 2,
       "version_minor": 0
      },
      "text/plain": [
       "  0%|          | 0/32 [00:00<?, ?it/s]"
      ]
     },
     "metadata": {},
     "output_type": "display_data"
    },
    {
     "data": {
      "application/vnd.jupyter.widget-view+json": {
       "model_id": "28a710795fd2473ca1e1a3dbcb278f98",
       "version_major": 2,
       "version_minor": 0
      },
      "text/plain": [
       "  0%|          | 0/8 [00:00<?, ?it/s]"
      ]
     },
     "metadata": {},
     "output_type": "display_data"
    },
    {
     "name": "stdout",
     "output_type": "stream",
     "text": [
      "Epoch #053: Rec_Loss/train = 0.308, KLD/train = 0.088, Discl_Loss/train = 0.922, Adv_Loss/train = 0.398 | Rec_Loss/valid = 0.326, KLD/valid = 0.057, Discl_Loss/valid = 1.202, Adv_Loss/valid = 0.501\n"
     ]
    },
    {
     "data": {
      "application/vnd.jupyter.widget-view+json": {
       "model_id": "ca5e2cf34096468a81df36b7ab01f7a9",
       "version_major": 2,
       "version_minor": 0
      },
      "text/plain": [
       "  0%|          | 0/32 [00:00<?, ?it/s]"
      ]
     },
     "metadata": {},
     "output_type": "display_data"
    },
    {
     "data": {
      "application/vnd.jupyter.widget-view+json": {
       "model_id": "3b8e662b07a24a4cbd37af87372a5674",
       "version_major": 2,
       "version_minor": 0
      },
      "text/plain": [
       "  0%|          | 0/8 [00:00<?, ?it/s]"
      ]
     },
     "metadata": {},
     "output_type": "display_data"
    },
    {
     "name": "stdout",
     "output_type": "stream",
     "text": [
      "Epoch #054: Rec_Loss/train = 0.320, KLD/train = 0.087, Discl_Loss/train = 0.922, Adv_Loss/train = 0.413 | Rec_Loss/valid = 0.342, KLD/valid = 0.058, Discl_Loss/valid = 1.235, Adv_Loss/valid = 0.630\n"
     ]
    },
    {
     "data": {
      "application/vnd.jupyter.widget-view+json": {
       "model_id": "a7ac72c73a7a493082c0f1c63827cbce",
       "version_major": 2,
       "version_minor": 0
      },
      "text/plain": [
       "  0%|          | 0/32 [00:00<?, ?it/s]"
      ]
     },
     "metadata": {},
     "output_type": "display_data"
    },
    {
     "data": {
      "application/vnd.jupyter.widget-view+json": {
       "model_id": "50a91ac55f4341cfa7500797b36eec69",
       "version_major": 2,
       "version_minor": 0
      },
      "text/plain": [
       "  0%|          | 0/8 [00:00<?, ?it/s]"
      ]
     },
     "metadata": {},
     "output_type": "display_data"
    },
    {
     "name": "stdout",
     "output_type": "stream",
     "text": [
      "Epoch #055: Rec_Loss/train = 0.304, KLD/train = 0.085, Discl_Loss/train = 0.912, Adv_Loss/train = 0.356 | Rec_Loss/valid = 0.328, KLD/valid = 0.057, Discl_Loss/valid = 1.190, Adv_Loss/valid = 0.294\n"
     ]
    },
    {
     "data": {
      "application/vnd.jupyter.widget-view+json": {
       "model_id": "523605484c9f48a6a37b69c0d50d7390",
       "version_major": 2,
       "version_minor": 0
      },
      "text/plain": [
       "  0%|          | 0/32 [00:00<?, ?it/s]"
      ]
     },
     "metadata": {},
     "output_type": "display_data"
    },
    {
     "data": {
      "application/vnd.jupyter.widget-view+json": {
       "model_id": "b9141a660cde42ffa1332287f03b67f6",
       "version_major": 2,
       "version_minor": 0
      },
      "text/plain": [
       "  0%|          | 0/8 [00:00<?, ?it/s]"
      ]
     },
     "metadata": {},
     "output_type": "display_data"
    },
    {
     "name": "stdout",
     "output_type": "stream",
     "text": [
      "Epoch #056: Rec_Loss/train = 0.320, KLD/train = 0.085, Discl_Loss/train = 0.934, Adv_Loss/train = 0.416 | Rec_Loss/valid = 0.307, KLD/valid = 0.061, Discl_Loss/valid = 1.184, Adv_Loss/valid = 0.359\n"
     ]
    },
    {
     "data": {
      "application/vnd.jupyter.widget-view+json": {
       "model_id": "b74d97af50024582a29922924b7fe4ed",
       "version_major": 2,
       "version_minor": 0
      },
      "text/plain": [
       "  0%|          | 0/32 [00:00<?, ?it/s]"
      ]
     },
     "metadata": {},
     "output_type": "display_data"
    },
    {
     "data": {
      "application/vnd.jupyter.widget-view+json": {
       "model_id": "868bda2488cb4b51aa325d92dcb50fe5",
       "version_major": 2,
       "version_minor": 0
      },
      "text/plain": [
       "  0%|          | 0/8 [00:00<?, ?it/s]"
      ]
     },
     "metadata": {},
     "output_type": "display_data"
    },
    {
     "name": "stdout",
     "output_type": "stream",
     "text": [
      "Epoch #057: Rec_Loss/train = 0.309, KLD/train = 0.087, Discl_Loss/train = 0.932, Adv_Loss/train = 0.415 | Rec_Loss/valid = 0.298, KLD/valid = 0.053, Discl_Loss/valid = 1.161, Adv_Loss/valid = 0.390\n"
     ]
    },
    {
     "data": {
      "application/vnd.jupyter.widget-view+json": {
       "model_id": "b0b258ec45d44068be229e08aa347798",
       "version_major": 2,
       "version_minor": 0
      },
      "text/plain": [
       "  0%|          | 0/32 [00:00<?, ?it/s]"
      ]
     },
     "metadata": {},
     "output_type": "display_data"
    },
    {
     "data": {
      "application/vnd.jupyter.widget-view+json": {
       "model_id": "99d781be6c8249a1b17f5b85fe34b1cf",
       "version_major": 2,
       "version_minor": 0
      },
      "text/plain": [
       "  0%|          | 0/8 [00:00<?, ?it/s]"
      ]
     },
     "metadata": {},
     "output_type": "display_data"
    },
    {
     "name": "stdout",
     "output_type": "stream",
     "text": [
      "Epoch #058: Rec_Loss/train = 0.317, KLD/train = 0.084, Discl_Loss/train = 0.912, Adv_Loss/train = 0.411 | Rec_Loss/valid = 0.334, KLD/valid = 0.055, Discl_Loss/valid = 1.201, Adv_Loss/valid = 0.638\n"
     ]
    },
    {
     "data": {
      "application/vnd.jupyter.widget-view+json": {
       "model_id": "2f9c6523ab814bd3a28a3678b0018f40",
       "version_major": 2,
       "version_minor": 0
      },
      "text/plain": [
       "  0%|          | 0/32 [00:00<?, ?it/s]"
      ]
     },
     "metadata": {},
     "output_type": "display_data"
    },
    {
     "data": {
      "application/vnd.jupyter.widget-view+json": {
       "model_id": "7dc13e7d403e425297f8dca410a838e0",
       "version_major": 2,
       "version_minor": 0
      },
      "text/plain": [
       "  0%|          | 0/8 [00:00<?, ?it/s]"
      ]
     },
     "metadata": {},
     "output_type": "display_data"
    },
    {
     "name": "stdout",
     "output_type": "stream",
     "text": [
      "Epoch #059: Rec_Loss/train = 0.316, KLD/train = 0.085, Discl_Loss/train = 0.923, Adv_Loss/train = 0.393 | Rec_Loss/valid = 0.314, KLD/valid = 0.057, Discl_Loss/valid = 1.191, Adv_Loss/valid = 0.579\n"
     ]
    },
    {
     "data": {
      "application/vnd.jupyter.widget-view+json": {
       "model_id": "2cd29f3d49ac44a08ed3228f4143b802",
       "version_major": 2,
       "version_minor": 0
      },
      "text/plain": [
       "  0%|          | 0/32 [00:00<?, ?it/s]"
      ]
     },
     "metadata": {},
     "output_type": "display_data"
    },
    {
     "data": {
      "application/vnd.jupyter.widget-view+json": {
       "model_id": "30470467752140169d1041297011dcb8",
       "version_major": 2,
       "version_minor": 0
      },
      "text/plain": [
       "  0%|          | 0/8 [00:00<?, ?it/s]"
      ]
     },
     "metadata": {},
     "output_type": "display_data"
    },
    {
     "name": "stdout",
     "output_type": "stream",
     "text": [
      "Epoch #060: Rec_Loss/train = 0.304, KLD/train = 0.086, Discl_Loss/train = 0.911, Adv_Loss/train = 0.372 | Rec_Loss/valid = 0.322, KLD/valid = 0.058, Discl_Loss/valid = 1.180, Adv_Loss/valid = 0.602\n"
     ]
    },
    {
     "data": {
      "application/vnd.jupyter.widget-view+json": {
       "model_id": "baa0db3bbeca4bedbc6fba6e946c056a",
       "version_major": 2,
       "version_minor": 0
      },
      "text/plain": [
       "  0%|          | 0/32 [00:00<?, ?it/s]"
      ]
     },
     "metadata": {},
     "output_type": "display_data"
    },
    {
     "data": {
      "application/vnd.jupyter.widget-view+json": {
       "model_id": "c2aaa5d411b247c4aa1963a4d26a8bb7",
       "version_major": 2,
       "version_minor": 0
      },
      "text/plain": [
       "  0%|          | 0/8 [00:00<?, ?it/s]"
      ]
     },
     "metadata": {},
     "output_type": "display_data"
    },
    {
     "name": "stdout",
     "output_type": "stream",
     "text": [
      "Epoch #061: Rec_Loss/train = 0.310, KLD/train = 0.086, Discl_Loss/train = 0.908, Adv_Loss/train = 0.342 | Rec_Loss/valid = 0.381, KLD/valid = 0.063, Discl_Loss/valid = 1.243, Adv_Loss/valid = 0.321\n"
     ]
    },
    {
     "data": {
      "application/vnd.jupyter.widget-view+json": {
       "model_id": "b5cb750be9c443baa73dd61a35cd4228",
       "version_major": 2,
       "version_minor": 0
      },
      "text/plain": [
       "  0%|          | 0/32 [00:00<?, ?it/s]"
      ]
     },
     "metadata": {},
     "output_type": "display_data"
    },
    {
     "data": {
      "application/vnd.jupyter.widget-view+json": {
       "model_id": "f720061eec8445a9929b494e67e681de",
       "version_major": 2,
       "version_minor": 0
      },
      "text/plain": [
       "  0%|          | 0/8 [00:00<?, ?it/s]"
      ]
     },
     "metadata": {},
     "output_type": "display_data"
    },
    {
     "name": "stdout",
     "output_type": "stream",
     "text": [
      "Epoch #062: Rec_Loss/train = 0.309, KLD/train = 0.084, Discl_Loss/train = 0.901, Adv_Loss/train = 0.362 | Rec_Loss/valid = 0.310, KLD/valid = 0.058, Discl_Loss/valid = 1.177, Adv_Loss/valid = 0.880\n"
     ]
    },
    {
     "data": {
      "application/vnd.jupyter.widget-view+json": {
       "model_id": "971443878ae44f68ba50fc1c92724c4e",
       "version_major": 2,
       "version_minor": 0
      },
      "text/plain": [
       "  0%|          | 0/32 [00:00<?, ?it/s]"
      ]
     },
     "metadata": {},
     "output_type": "display_data"
    },
    {
     "data": {
      "application/vnd.jupyter.widget-view+json": {
       "model_id": "91f0536e4f45486291b830354b032c90",
       "version_major": 2,
       "version_minor": 0
      },
      "text/plain": [
       "  0%|          | 0/8 [00:00<?, ?it/s]"
      ]
     },
     "metadata": {},
     "output_type": "display_data"
    },
    {
     "name": "stdout",
     "output_type": "stream",
     "text": [
      "Epoch #063: Rec_Loss/train = 0.311, KLD/train = 0.085, Discl_Loss/train = 0.901, Adv_Loss/train = 0.376 | Rec_Loss/valid = 0.388, KLD/valid = 0.060, Discl_Loss/valid = 1.201, Adv_Loss/valid = 0.517\n"
     ]
    },
    {
     "data": {
      "application/vnd.jupyter.widget-view+json": {
       "model_id": "7ef2b8e0cf8a4fa98642576eb74015f1",
       "version_major": 2,
       "version_minor": 0
      },
      "text/plain": [
       "  0%|          | 0/32 [00:00<?, ?it/s]"
      ]
     },
     "metadata": {},
     "output_type": "display_data"
    },
    {
     "data": {
      "application/vnd.jupyter.widget-view+json": {
       "model_id": "ecdfefb005c247969ffbf4fff0787be4",
       "version_major": 2,
       "version_minor": 0
      },
      "text/plain": [
       "  0%|          | 0/8 [00:00<?, ?it/s]"
      ]
     },
     "metadata": {},
     "output_type": "display_data"
    },
    {
     "name": "stdout",
     "output_type": "stream",
     "text": [
      "Epoch #064: Rec_Loss/train = 0.306, KLD/train = 0.085, Discl_Loss/train = 0.893, Adv_Loss/train = 0.376 | Rec_Loss/valid = 0.326, KLD/valid = 0.055, Discl_Loss/valid = 1.209, Adv_Loss/valid = 0.751\n"
     ]
    },
    {
     "data": {
      "application/vnd.jupyter.widget-view+json": {
       "model_id": "457ab23ac8dc4b528712f9079f8c7546",
       "version_major": 2,
       "version_minor": 0
      },
      "text/plain": [
       "  0%|          | 0/32 [00:00<?, ?it/s]"
      ]
     },
     "metadata": {},
     "output_type": "display_data"
    },
    {
     "data": {
      "application/vnd.jupyter.widget-view+json": {
       "model_id": "a594e4fa0e2f46fdb760f8fb0bcee990",
       "version_major": 2,
       "version_minor": 0
      },
      "text/plain": [
       "  0%|          | 0/8 [00:00<?, ?it/s]"
      ]
     },
     "metadata": {},
     "output_type": "display_data"
    },
    {
     "name": "stdout",
     "output_type": "stream",
     "text": [
      "Epoch #065: Rec_Loss/train = 0.312, KLD/train = 0.084, Discl_Loss/train = 0.891, Adv_Loss/train = 0.375 | Rec_Loss/valid = 0.297, KLD/valid = 0.055, Discl_Loss/valid = 1.169, Adv_Loss/valid = 0.569\n"
     ]
    },
    {
     "data": {
      "application/vnd.jupyter.widget-view+json": {
       "model_id": "377bea8312f842eead9835f78a795ebc",
       "version_major": 2,
       "version_minor": 0
      },
      "text/plain": [
       "  0%|          | 0/32 [00:00<?, ?it/s]"
      ]
     },
     "metadata": {},
     "output_type": "display_data"
    },
    {
     "data": {
      "application/vnd.jupyter.widget-view+json": {
       "model_id": "e9b3dbdfccd8457697e56c834822ccab",
       "version_major": 2,
       "version_minor": 0
      },
      "text/plain": [
       "  0%|          | 0/8 [00:00<?, ?it/s]"
      ]
     },
     "metadata": {},
     "output_type": "display_data"
    },
    {
     "name": "stdout",
     "output_type": "stream",
     "text": [
      "Epoch #066: Rec_Loss/train = 0.305, KLD/train = 0.081, Discl_Loss/train = 0.887, Adv_Loss/train = 0.383 | Rec_Loss/valid = 0.313, KLD/valid = 0.057, Discl_Loss/valid = 1.177, Adv_Loss/valid = 0.572\n"
     ]
    },
    {
     "data": {
      "application/vnd.jupyter.widget-view+json": {
       "model_id": "113b1778243b4dfa8ca647b393ea97ca",
       "version_major": 2,
       "version_minor": 0
      },
      "text/plain": [
       "  0%|          | 0/32 [00:00<?, ?it/s]"
      ]
     },
     "metadata": {},
     "output_type": "display_data"
    },
    {
     "data": {
      "application/vnd.jupyter.widget-view+json": {
       "model_id": "44d2dd6406ef430da90fd3a10614bb72",
       "version_major": 2,
       "version_minor": 0
      },
      "text/plain": [
       "  0%|          | 0/8 [00:00<?, ?it/s]"
      ]
     },
     "metadata": {},
     "output_type": "display_data"
    },
    {
     "name": "stdout",
     "output_type": "stream",
     "text": [
      "Epoch #067: Rec_Loss/train = 0.309, KLD/train = 0.084, Discl_Loss/train = 0.888, Adv_Loss/train = 0.391 | Rec_Loss/valid = 0.303, KLD/valid = 0.060, Discl_Loss/valid = 1.168, Adv_Loss/valid = 0.390\n"
     ]
    },
    {
     "data": {
      "application/vnd.jupyter.widget-view+json": {
       "model_id": "4ab5085422fa4f42bbfb7a9b9dd4384d",
       "version_major": 2,
       "version_minor": 0
      },
      "text/plain": [
       "  0%|          | 0/32 [00:00<?, ?it/s]"
      ]
     },
     "metadata": {},
     "output_type": "display_data"
    },
    {
     "data": {
      "application/vnd.jupyter.widget-view+json": {
       "model_id": "aa68a5dbe2414ae2ac9011ae4eef3a85",
       "version_major": 2,
       "version_minor": 0
      },
      "text/plain": [
       "  0%|          | 0/8 [00:00<?, ?it/s]"
      ]
     },
     "metadata": {},
     "output_type": "display_data"
    },
    {
     "name": "stdout",
     "output_type": "stream",
     "text": [
      "Epoch #068: Rec_Loss/train = 0.310, KLD/train = 0.084, Discl_Loss/train = 0.887, Adv_Loss/train = 0.378 | Rec_Loss/valid = 0.347, KLD/valid = 0.061, Discl_Loss/valid = 1.217, Adv_Loss/valid = 1.261\n"
     ]
    },
    {
     "data": {
      "application/vnd.jupyter.widget-view+json": {
       "model_id": "4893696083c141ec8c646d6bf95a6627",
       "version_major": 2,
       "version_minor": 0
      },
      "text/plain": [
       "  0%|          | 0/32 [00:00<?, ?it/s]"
      ]
     },
     "metadata": {},
     "output_type": "display_data"
    },
    {
     "data": {
      "application/vnd.jupyter.widget-view+json": {
       "model_id": "63f9b1c70fbf469eb8a339358868b061",
       "version_major": 2,
       "version_minor": 0
      },
      "text/plain": [
       "  0%|          | 0/8 [00:00<?, ?it/s]"
      ]
     },
     "metadata": {},
     "output_type": "display_data"
    },
    {
     "name": "stdout",
     "output_type": "stream",
     "text": [
      "Epoch #069: Rec_Loss/train = 0.318, KLD/train = 0.084, Discl_Loss/train = 0.882, Adv_Loss/train = 0.416 | Rec_Loss/valid = 0.296, KLD/valid = 0.059, Discl_Loss/valid = 1.189, Adv_Loss/valid = 0.716\n"
     ]
    },
    {
     "data": {
      "application/vnd.jupyter.widget-view+json": {
       "model_id": "4d43cd0d79134ec4b1ca20b9b2fafbce",
       "version_major": 2,
       "version_minor": 0
      },
      "text/plain": [
       "  0%|          | 0/32 [00:00<?, ?it/s]"
      ]
     },
     "metadata": {},
     "output_type": "display_data"
    },
    {
     "data": {
      "application/vnd.jupyter.widget-view+json": {
       "model_id": "1f58cc408ae6446ab8532ffc769720d4",
       "version_major": 2,
       "version_minor": 0
      },
      "text/plain": [
       "  0%|          | 0/8 [00:00<?, ?it/s]"
      ]
     },
     "metadata": {},
     "output_type": "display_data"
    },
    {
     "name": "stdout",
     "output_type": "stream",
     "text": [
      "Epoch #070: Rec_Loss/train = 0.308, KLD/train = 0.083, Discl_Loss/train = 0.870, Adv_Loss/train = 0.389 | Rec_Loss/valid = 0.295, KLD/valid = 0.055, Discl_Loss/valid = 1.176, Adv_Loss/valid = 0.875\n"
     ]
    },
    {
     "data": {
      "application/vnd.jupyter.widget-view+json": {
       "model_id": "2931b586bf9742f8866a268720fcfde5",
       "version_major": 2,
       "version_minor": 0
      },
      "text/plain": [
       "  0%|          | 0/32 [00:00<?, ?it/s]"
      ]
     },
     "metadata": {},
     "output_type": "display_data"
    },
    {
     "data": {
      "application/vnd.jupyter.widget-view+json": {
       "model_id": "a67de2bf42c64548b4ca38ca78a04536",
       "version_major": 2,
       "version_minor": 0
      },
      "text/plain": [
       "  0%|          | 0/8 [00:00<?, ?it/s]"
      ]
     },
     "metadata": {},
     "output_type": "display_data"
    },
    {
     "name": "stdout",
     "output_type": "stream",
     "text": [
      "Epoch #071: Rec_Loss/train = 0.306, KLD/train = 0.084, Discl_Loss/train = 0.879, Adv_Loss/train = 0.373 | Rec_Loss/valid = 0.297, KLD/valid = 0.066, Discl_Loss/valid = 1.129, Adv_Loss/valid = 0.594\n"
     ]
    },
    {
     "data": {
      "application/vnd.jupyter.widget-view+json": {
       "model_id": "d763687897d946cdb29f3865f44da9a9",
       "version_major": 2,
       "version_minor": 0
      },
      "text/plain": [
       "  0%|          | 0/32 [00:00<?, ?it/s]"
      ]
     },
     "metadata": {},
     "output_type": "display_data"
    },
    {
     "data": {
      "application/vnd.jupyter.widget-view+json": {
       "model_id": "f84b7736dad848eca34e0b9d922058b4",
       "version_major": 2,
       "version_minor": 0
      },
      "text/plain": [
       "  0%|          | 0/8 [00:00<?, ?it/s]"
      ]
     },
     "metadata": {},
     "output_type": "display_data"
    },
    {
     "name": "stdout",
     "output_type": "stream",
     "text": [
      "Epoch #072: Rec_Loss/train = 0.306, KLD/train = 0.086, Discl_Loss/train = 0.869, Adv_Loss/train = 0.416 | Rec_Loss/valid = 0.300, KLD/valid = 0.054, Discl_Loss/valid = 1.169, Adv_Loss/valid = 0.463\n"
     ]
    },
    {
     "data": {
      "application/vnd.jupyter.widget-view+json": {
       "model_id": "4b3e34220c1b49a2baae009aaa4d8b5e",
       "version_major": 2,
       "version_minor": 0
      },
      "text/plain": [
       "  0%|          | 0/32 [00:00<?, ?it/s]"
      ]
     },
     "metadata": {},
     "output_type": "display_data"
    },
    {
     "data": {
      "application/vnd.jupyter.widget-view+json": {
       "model_id": "803d103be1c347b48a888a8e2ddae03a",
       "version_major": 2,
       "version_minor": 0
      },
      "text/plain": [
       "  0%|          | 0/8 [00:00<?, ?it/s]"
      ]
     },
     "metadata": {},
     "output_type": "display_data"
    },
    {
     "name": "stdout",
     "output_type": "stream",
     "text": [
      "Epoch #073: Rec_Loss/train = 0.306, KLD/train = 0.084, Discl_Loss/train = 0.861, Adv_Loss/train = 0.402 | Rec_Loss/valid = 0.354, KLD/valid = 0.058, Discl_Loss/valid = 1.186, Adv_Loss/valid = 0.568\n"
     ]
    },
    {
     "data": {
      "application/vnd.jupyter.widget-view+json": {
       "model_id": "f1397bc50553442a900047cef479d553",
       "version_major": 2,
       "version_minor": 0
      },
      "text/plain": [
       "  0%|          | 0/32 [00:00<?, ?it/s]"
      ]
     },
     "metadata": {},
     "output_type": "display_data"
    },
    {
     "data": {
      "application/vnd.jupyter.widget-view+json": {
       "model_id": "0548dfda921b40268529eb78a51ed280",
       "version_major": 2,
       "version_minor": 0
      },
      "text/plain": [
       "  0%|          | 0/8 [00:00<?, ?it/s]"
      ]
     },
     "metadata": {},
     "output_type": "display_data"
    },
    {
     "name": "stdout",
     "output_type": "stream",
     "text": [
      "Epoch #074: Rec_Loss/train = 0.304, KLD/train = 0.083, Discl_Loss/train = 0.863, Adv_Loss/train = 0.372 | Rec_Loss/valid = 0.311, KLD/valid = 0.058, Discl_Loss/valid = 1.164, Adv_Loss/valid = 0.992\n"
     ]
    },
    {
     "data": {
      "application/vnd.jupyter.widget-view+json": {
       "model_id": "25ed47fd2ac84038b62ae248f6e61fb4",
       "version_major": 2,
       "version_minor": 0
      },
      "text/plain": [
       "  0%|          | 0/32 [00:00<?, ?it/s]"
      ]
     },
     "metadata": {},
     "output_type": "display_data"
    },
    {
     "data": {
      "application/vnd.jupyter.widget-view+json": {
       "model_id": "f52fb26af07842eeb275afbeef6d98de",
       "version_major": 2,
       "version_minor": 0
      },
      "text/plain": [
       "  0%|          | 0/8 [00:00<?, ?it/s]"
      ]
     },
     "metadata": {},
     "output_type": "display_data"
    },
    {
     "name": "stdout",
     "output_type": "stream",
     "text": [
      "Epoch #075: Rec_Loss/train = 0.308, KLD/train = 0.083, Discl_Loss/train = 0.856, Adv_Loss/train = 0.409 | Rec_Loss/valid = 0.308, KLD/valid = 0.051, Discl_Loss/valid = 1.161, Adv_Loss/valid = 0.979\n"
     ]
    },
    {
     "data": {
      "application/vnd.jupyter.widget-view+json": {
       "model_id": "5fd43fcb04b34557b1e6281544d145ae",
       "version_major": 2,
       "version_minor": 0
      },
      "text/plain": [
       "  0%|          | 0/32 [00:00<?, ?it/s]"
      ]
     },
     "metadata": {},
     "output_type": "display_data"
    },
    {
     "data": {
      "application/vnd.jupyter.widget-view+json": {
       "model_id": "f6af4d956f09427dbbce05f0287d06bd",
       "version_major": 2,
       "version_minor": 0
      },
      "text/plain": [
       "  0%|          | 0/8 [00:00<?, ?it/s]"
      ]
     },
     "metadata": {},
     "output_type": "display_data"
    },
    {
     "name": "stdout",
     "output_type": "stream",
     "text": [
      "Epoch #076: Rec_Loss/train = 0.310, KLD/train = 0.083, Discl_Loss/train = 0.858, Adv_Loss/train = 0.389 | Rec_Loss/valid = 0.364, KLD/valid = 0.050, Discl_Loss/valid = 1.223, Adv_Loss/valid = 0.598\n"
     ]
    },
    {
     "data": {
      "application/vnd.jupyter.widget-view+json": {
       "model_id": "261c6b475e874555920da3bfaac3cc38",
       "version_major": 2,
       "version_minor": 0
      },
      "text/plain": [
       "  0%|          | 0/32 [00:00<?, ?it/s]"
      ]
     },
     "metadata": {},
     "output_type": "display_data"
    },
    {
     "data": {
      "application/vnd.jupyter.widget-view+json": {
       "model_id": "d03eeba7e635432b99b042f92461f468",
       "version_major": 2,
       "version_minor": 0
      },
      "text/plain": [
       "  0%|          | 0/8 [00:00<?, ?it/s]"
      ]
     },
     "metadata": {},
     "output_type": "display_data"
    },
    {
     "name": "stdout",
     "output_type": "stream",
     "text": [
      "Epoch #077: Rec_Loss/train = 0.312, KLD/train = 0.083, Discl_Loss/train = 0.853, Adv_Loss/train = 0.431 | Rec_Loss/valid = 0.315, KLD/valid = 0.056, Discl_Loss/valid = 1.179, Adv_Loss/valid = 0.985\n"
     ]
    },
    {
     "data": {
      "application/vnd.jupyter.widget-view+json": {
       "model_id": "8ee230422c8140548504d98e139d00b4",
       "version_major": 2,
       "version_minor": 0
      },
      "text/plain": [
       "  0%|          | 0/32 [00:00<?, ?it/s]"
      ]
     },
     "metadata": {},
     "output_type": "display_data"
    },
    {
     "data": {
      "application/vnd.jupyter.widget-view+json": {
       "model_id": "2ade8c417d80494bb632b467b5a6f0a7",
       "version_major": 2,
       "version_minor": 0
      },
      "text/plain": [
       "  0%|          | 0/8 [00:00<?, ?it/s]"
      ]
     },
     "metadata": {},
     "output_type": "display_data"
    },
    {
     "name": "stdout",
     "output_type": "stream",
     "text": [
      "Epoch #078: Rec_Loss/train = 0.311, KLD/train = 0.084, Discl_Loss/train = 0.846, Adv_Loss/train = 0.417 | Rec_Loss/valid = 0.328, KLD/valid = 0.062, Discl_Loss/valid = 1.189, Adv_Loss/valid = 1.332\n"
     ]
    },
    {
     "data": {
      "application/vnd.jupyter.widget-view+json": {
       "model_id": "84c768f669f94f97bb27c06ae4153f1b",
       "version_major": 2,
       "version_minor": 0
      },
      "text/plain": [
       "  0%|          | 0/32 [00:00<?, ?it/s]"
      ]
     },
     "metadata": {},
     "output_type": "display_data"
    },
    {
     "data": {
      "application/vnd.jupyter.widget-view+json": {
       "model_id": "8302896cb0ab46f18fa2c6fb7d30bb7d",
       "version_major": 2,
       "version_minor": 0
      },
      "text/plain": [
       "  0%|          | 0/8 [00:00<?, ?it/s]"
      ]
     },
     "metadata": {},
     "output_type": "display_data"
    },
    {
     "name": "stdout",
     "output_type": "stream",
     "text": [
      "Epoch #079: Rec_Loss/train = 0.308, KLD/train = 0.084, Discl_Loss/train = 0.851, Adv_Loss/train = 0.420 | Rec_Loss/valid = 0.327, KLD/valid = 0.059, Discl_Loss/valid = 1.207, Adv_Loss/valid = 0.562\n"
     ]
    },
    {
     "data": {
      "application/vnd.jupyter.widget-view+json": {
       "model_id": "eb619a72d4644411837625fd8e94a7c2",
       "version_major": 2,
       "version_minor": 0
      },
      "text/plain": [
       "  0%|          | 0/32 [00:00<?, ?it/s]"
      ]
     },
     "metadata": {},
     "output_type": "display_data"
    },
    {
     "data": {
      "application/vnd.jupyter.widget-view+json": {
       "model_id": "61b315ac557d44f2beaedb88210089fb",
       "version_major": 2,
       "version_minor": 0
      },
      "text/plain": [
       "  0%|          | 0/8 [00:00<?, ?it/s]"
      ]
     },
     "metadata": {},
     "output_type": "display_data"
    },
    {
     "name": "stdout",
     "output_type": "stream",
     "text": [
      "Epoch #080: Rec_Loss/train = 0.311, KLD/train = 0.083, Discl_Loss/train = 0.854, Adv_Loss/train = 0.421 | Rec_Loss/valid = 0.326, KLD/valid = 0.056, Discl_Loss/valid = 1.188, Adv_Loss/valid = 0.977\n"
     ]
    },
    {
     "data": {
      "application/vnd.jupyter.widget-view+json": {
       "model_id": "ad289d413df944d9bf0d6d6c9772b76a",
       "version_major": 2,
       "version_minor": 0
      },
      "text/plain": [
       "  0%|          | 0/32 [00:00<?, ?it/s]"
      ]
     },
     "metadata": {},
     "output_type": "display_data"
    },
    {
     "data": {
      "application/vnd.jupyter.widget-view+json": {
       "model_id": "4d872226a914467fb3208037cc799d9c",
       "version_major": 2,
       "version_minor": 0
      },
      "text/plain": [
       "  0%|          | 0/8 [00:00<?, ?it/s]"
      ]
     },
     "metadata": {},
     "output_type": "display_data"
    },
    {
     "name": "stdout",
     "output_type": "stream",
     "text": [
      "Epoch #081: Rec_Loss/train = 0.306, KLD/train = 0.085, Discl_Loss/train = 0.841, Adv_Loss/train = 0.416 | Rec_Loss/valid = 0.290, KLD/valid = 0.055, Discl_Loss/valid = 1.158, Adv_Loss/valid = 1.066\n"
     ]
    },
    {
     "data": {
      "application/vnd.jupyter.widget-view+json": {
       "model_id": "e9d211675f9e4656a537a3c1f0bd4962",
       "version_major": 2,
       "version_minor": 0
      },
      "text/plain": [
       "  0%|          | 0/32 [00:00<?, ?it/s]"
      ]
     },
     "metadata": {},
     "output_type": "display_data"
    },
    {
     "data": {
      "application/vnd.jupyter.widget-view+json": {
       "model_id": "02c9532198b8486f8930d2e2f1ae6cb4",
       "version_major": 2,
       "version_minor": 0
      },
      "text/plain": [
       "  0%|          | 0/8 [00:00<?, ?it/s]"
      ]
     },
     "metadata": {},
     "output_type": "display_data"
    },
    {
     "name": "stdout",
     "output_type": "stream",
     "text": [
      "Epoch #082: Rec_Loss/train = 0.309, KLD/train = 0.085, Discl_Loss/train = 0.843, Adv_Loss/train = 0.415 | Rec_Loss/valid = 0.313, KLD/valid = 0.059, Discl_Loss/valid = 1.145, Adv_Loss/valid = 0.985\n"
     ]
    },
    {
     "data": {
      "application/vnd.jupyter.widget-view+json": {
       "model_id": "36005a576e2541b7a46c2f7bc094375b",
       "version_major": 2,
       "version_minor": 0
      },
      "text/plain": [
       "  0%|          | 0/32 [00:00<?, ?it/s]"
      ]
     },
     "metadata": {},
     "output_type": "display_data"
    },
    {
     "data": {
      "application/vnd.jupyter.widget-view+json": {
       "model_id": "01811cad7914401d930befca0b5a7916",
       "version_major": 2,
       "version_minor": 0
      },
      "text/plain": [
       "  0%|          | 0/8 [00:00<?, ?it/s]"
      ]
     },
     "metadata": {},
     "output_type": "display_data"
    },
    {
     "name": "stdout",
     "output_type": "stream",
     "text": [
      "Epoch #083: Rec_Loss/train = 0.297, KLD/train = 0.085, Discl_Loss/train = 0.835, Adv_Loss/train = 0.365 | Rec_Loss/valid = 0.298, KLD/valid = 0.058, Discl_Loss/valid = 1.143, Adv_Loss/valid = 0.755\n"
     ]
    },
    {
     "data": {
      "application/vnd.jupyter.widget-view+json": {
       "model_id": "b4bd7d779e8a4f7483d8e8dcc28e248f",
       "version_major": 2,
       "version_minor": 0
      },
      "text/plain": [
       "  0%|          | 0/32 [00:00<?, ?it/s]"
      ]
     },
     "metadata": {},
     "output_type": "display_data"
    },
    {
     "data": {
      "application/vnd.jupyter.widget-view+json": {
       "model_id": "6419d6287d64447097bbe054f09058a6",
       "version_major": 2,
       "version_minor": 0
      },
      "text/plain": [
       "  0%|          | 0/8 [00:00<?, ?it/s]"
      ]
     },
     "metadata": {},
     "output_type": "display_data"
    },
    {
     "name": "stdout",
     "output_type": "stream",
     "text": [
      "Epoch #084: Rec_Loss/train = 0.302, KLD/train = 0.084, Discl_Loss/train = 0.831, Adv_Loss/train = 0.386 | Rec_Loss/valid = 0.293, KLD/valid = 0.052, Discl_Loss/valid = 1.192, Adv_Loss/valid = 0.587\n"
     ]
    },
    {
     "data": {
      "application/vnd.jupyter.widget-view+json": {
       "model_id": "4c29a72309d64b0aa47c1ec52dbc9eb1",
       "version_major": 2,
       "version_minor": 0
      },
      "text/plain": [
       "  0%|          | 0/32 [00:00<?, ?it/s]"
      ]
     },
     "metadata": {},
     "output_type": "display_data"
    },
    {
     "data": {
      "application/vnd.jupyter.widget-view+json": {
       "model_id": "d973fd8fe7794afe92817b75317e7fe4",
       "version_major": 2,
       "version_minor": 0
      },
      "text/plain": [
       "  0%|          | 0/8 [00:00<?, ?it/s]"
      ]
     },
     "metadata": {},
     "output_type": "display_data"
    },
    {
     "name": "stdout",
     "output_type": "stream",
     "text": [
      "Epoch #085: Rec_Loss/train = 0.298, KLD/train = 0.083, Discl_Loss/train = 0.833, Adv_Loss/train = 0.360 | Rec_Loss/valid = 0.304, KLD/valid = 0.052, Discl_Loss/valid = 1.195, Adv_Loss/valid = 0.348\n"
     ]
    },
    {
     "data": {
      "application/vnd.jupyter.widget-view+json": {
       "model_id": "69e453cc50aa477287e137c86bfb3130",
       "version_major": 2,
       "version_minor": 0
      },
      "text/plain": [
       "  0%|          | 0/32 [00:00<?, ?it/s]"
      ]
     },
     "metadata": {},
     "output_type": "display_data"
    },
    {
     "data": {
      "application/vnd.jupyter.widget-view+json": {
       "model_id": "5d66d83bc2894f549f769171f4a0864e",
       "version_major": 2,
       "version_minor": 0
      },
      "text/plain": [
       "  0%|          | 0/8 [00:00<?, ?it/s]"
      ]
     },
     "metadata": {},
     "output_type": "display_data"
    },
    {
     "name": "stdout",
     "output_type": "stream",
     "text": [
      "Epoch #086: Rec_Loss/train = 0.308, KLD/train = 0.083, Discl_Loss/train = 0.832, Adv_Loss/train = 0.393 | Rec_Loss/valid = 0.300, KLD/valid = 0.049, Discl_Loss/valid = 1.173, Adv_Loss/valid = 0.910\n"
     ]
    },
    {
     "data": {
      "application/vnd.jupyter.widget-view+json": {
       "model_id": "e250a5a024084140a0c2c9ded64ab2d6",
       "version_major": 2,
       "version_minor": 0
      },
      "text/plain": [
       "  0%|          | 0/32 [00:00<?, ?it/s]"
      ]
     },
     "metadata": {},
     "output_type": "display_data"
    },
    {
     "data": {
      "application/vnd.jupyter.widget-view+json": {
       "model_id": "c18e2bc358f94636bf85c38584a981b1",
       "version_major": 2,
       "version_minor": 0
      },
      "text/plain": [
       "  0%|          | 0/8 [00:00<?, ?it/s]"
      ]
     },
     "metadata": {},
     "output_type": "display_data"
    },
    {
     "name": "stdout",
     "output_type": "stream",
     "text": [
      "Epoch #087: Rec_Loss/train = 0.315, KLD/train = 0.081, Discl_Loss/train = 0.812, Adv_Loss/train = 0.434 | Rec_Loss/valid = 0.299, KLD/valid = 0.050, Discl_Loss/valid = 1.168, Adv_Loss/valid = 1.233\n"
     ]
    },
    {
     "data": {
      "application/vnd.jupyter.widget-view+json": {
       "model_id": "2a49c0582cef4dc4acfda2aebad236c8",
       "version_major": 2,
       "version_minor": 0
      },
      "text/plain": [
       "  0%|          | 0/32 [00:00<?, ?it/s]"
      ]
     },
     "metadata": {},
     "output_type": "display_data"
    },
    {
     "data": {
      "application/vnd.jupyter.widget-view+json": {
       "model_id": "5302cdef04f846e8856af2af4ff3337d",
       "version_major": 2,
       "version_minor": 0
      },
      "text/plain": [
       "  0%|          | 0/8 [00:00<?, ?it/s]"
      ]
     },
     "metadata": {},
     "output_type": "display_data"
    },
    {
     "name": "stdout",
     "output_type": "stream",
     "text": [
      "Epoch #088: Rec_Loss/train = 0.304, KLD/train = 0.084, Discl_Loss/train = 0.808, Adv_Loss/train = 0.410 | Rec_Loss/valid = 0.316, KLD/valid = 0.051, Discl_Loss/valid = 1.148, Adv_Loss/valid = 0.935\n"
     ]
    },
    {
     "data": {
      "application/vnd.jupyter.widget-view+json": {
       "model_id": "28d81e8f6e124f4198bf8c72b3a1b989",
       "version_major": 2,
       "version_minor": 0
      },
      "text/plain": [
       "  0%|          | 0/32 [00:00<?, ?it/s]"
      ]
     },
     "metadata": {},
     "output_type": "display_data"
    },
    {
     "data": {
      "application/vnd.jupyter.widget-view+json": {
       "model_id": "09ea0b1b2e564c9687ec0ba1c3e3ee9a",
       "version_major": 2,
       "version_minor": 0
      },
      "text/plain": [
       "  0%|          | 0/8 [00:00<?, ?it/s]"
      ]
     },
     "metadata": {},
     "output_type": "display_data"
    },
    {
     "name": "stdout",
     "output_type": "stream",
     "text": [
      "Epoch #089: Rec_Loss/train = 0.303, KLD/train = 0.083, Discl_Loss/train = 0.808, Adv_Loss/train = 0.370 | Rec_Loss/valid = 0.305, KLD/valid = 0.054, Discl_Loss/valid = 1.177, Adv_Loss/valid = 1.038\n"
     ]
    },
    {
     "data": {
      "application/vnd.jupyter.widget-view+json": {
       "model_id": "ce613ce70a164674b1fb282e7b64fdfc",
       "version_major": 2,
       "version_minor": 0
      },
      "text/plain": [
       "  0%|          | 0/32 [00:00<?, ?it/s]"
      ]
     },
     "metadata": {},
     "output_type": "display_data"
    },
    {
     "data": {
      "application/vnd.jupyter.widget-view+json": {
       "model_id": "2c74a612c90c4aee8091b29a32575a24",
       "version_major": 2,
       "version_minor": 0
      },
      "text/plain": [
       "  0%|          | 0/8 [00:00<?, ?it/s]"
      ]
     },
     "metadata": {},
     "output_type": "display_data"
    },
    {
     "name": "stdout",
     "output_type": "stream",
     "text": [
      "Epoch #090: Rec_Loss/train = 0.298, KLD/train = 0.082, Discl_Loss/train = 0.818, Adv_Loss/train = 0.366 | Rec_Loss/valid = 0.314, KLD/valid = 0.059, Discl_Loss/valid = 1.179, Adv_Loss/valid = 1.057\n"
     ]
    },
    {
     "data": {
      "application/vnd.jupyter.widget-view+json": {
       "model_id": "de22064d4495478596e8a79acdacfd6c",
       "version_major": 2,
       "version_minor": 0
      },
      "text/plain": [
       "  0%|          | 0/32 [00:00<?, ?it/s]"
      ]
     },
     "metadata": {},
     "output_type": "display_data"
    },
    {
     "data": {
      "application/vnd.jupyter.widget-view+json": {
       "model_id": "8f78d470a2fe411189dfd9fa4047f2cd",
       "version_major": 2,
       "version_minor": 0
      },
      "text/plain": [
       "  0%|          | 0/8 [00:00<?, ?it/s]"
      ]
     },
     "metadata": {},
     "output_type": "display_data"
    },
    {
     "name": "stdout",
     "output_type": "stream",
     "text": [
      "Epoch #091: Rec_Loss/train = 0.300, KLD/train = 0.083, Discl_Loss/train = 0.792, Adv_Loss/train = 0.385 | Rec_Loss/valid = 0.328, KLD/valid = 0.048, Discl_Loss/valid = 1.170, Adv_Loss/valid = 1.048\n"
     ]
    },
    {
     "data": {
      "application/vnd.jupyter.widget-view+json": {
       "model_id": "ab3dae4b3add49238158651efad4a5d7",
       "version_major": 2,
       "version_minor": 0
      },
      "text/plain": [
       "  0%|          | 0/32 [00:00<?, ?it/s]"
      ]
     },
     "metadata": {},
     "output_type": "display_data"
    },
    {
     "data": {
      "application/vnd.jupyter.widget-view+json": {
       "model_id": "7947d16c5c3f4494b1a18d6001dcaf1b",
       "version_major": 2,
       "version_minor": 0
      },
      "text/plain": [
       "  0%|          | 0/8 [00:00<?, ?it/s]"
      ]
     },
     "metadata": {},
     "output_type": "display_data"
    },
    {
     "name": "stdout",
     "output_type": "stream",
     "text": [
      "Epoch #092: Rec_Loss/train = 0.306, KLD/train = 0.083, Discl_Loss/train = 0.784, Adv_Loss/train = 0.384 | Rec_Loss/valid = 0.291, KLD/valid = 0.052, Discl_Loss/valid = 1.117, Adv_Loss/valid = 1.467\n"
     ]
    },
    {
     "data": {
      "application/vnd.jupyter.widget-view+json": {
       "model_id": "75ce9515c7cb4be592800173375752c2",
       "version_major": 2,
       "version_minor": 0
      },
      "text/plain": [
       "  0%|          | 0/32 [00:00<?, ?it/s]"
      ]
     },
     "metadata": {},
     "output_type": "display_data"
    },
    {
     "data": {
      "application/vnd.jupyter.widget-view+json": {
       "model_id": "4ad6e3f826a64ed285faf5bab1211e43",
       "version_major": 2,
       "version_minor": 0
      },
      "text/plain": [
       "  0%|          | 0/8 [00:00<?, ?it/s]"
      ]
     },
     "metadata": {},
     "output_type": "display_data"
    },
    {
     "name": "stdout",
     "output_type": "stream",
     "text": [
      "Epoch #093: Rec_Loss/train = 0.302, KLD/train = 0.084, Discl_Loss/train = 0.788, Adv_Loss/train = 0.408 | Rec_Loss/valid = 0.293, KLD/valid = 0.055, Discl_Loss/valid = 1.133, Adv_Loss/valid = 1.201\n"
     ]
    },
    {
     "data": {
      "application/vnd.jupyter.widget-view+json": {
       "model_id": "204afb733c694f32a26d052ed6121086",
       "version_major": 2,
       "version_minor": 0
      },
      "text/plain": [
       "  0%|          | 0/32 [00:00<?, ?it/s]"
      ]
     },
     "metadata": {},
     "output_type": "display_data"
    },
    {
     "data": {
      "application/vnd.jupyter.widget-view+json": {
       "model_id": "2ae23b479d6c41079da82932fca66b20",
       "version_major": 2,
       "version_minor": 0
      },
      "text/plain": [
       "  0%|          | 0/8 [00:00<?, ?it/s]"
      ]
     },
     "metadata": {},
     "output_type": "display_data"
    },
    {
     "name": "stdout",
     "output_type": "stream",
     "text": [
      "Epoch #094: Rec_Loss/train = 0.302, KLD/train = 0.082, Discl_Loss/train = 0.789, Adv_Loss/train = 0.389 | Rec_Loss/valid = 0.291, KLD/valid = 0.051, Discl_Loss/valid = 1.155, Adv_Loss/valid = 0.722\n"
     ]
    },
    {
     "data": {
      "application/vnd.jupyter.widget-view+json": {
       "model_id": "cd39e85c54cf4504b6e8121d6039c9b1",
       "version_major": 2,
       "version_minor": 0
      },
      "text/plain": [
       "  0%|          | 0/32 [00:00<?, ?it/s]"
      ]
     },
     "metadata": {},
     "output_type": "display_data"
    },
    {
     "data": {
      "application/vnd.jupyter.widget-view+json": {
       "model_id": "2bee73406c3e4caaa03380c8be5911b8",
       "version_major": 2,
       "version_minor": 0
      },
      "text/plain": [
       "  0%|          | 0/8 [00:00<?, ?it/s]"
      ]
     },
     "metadata": {},
     "output_type": "display_data"
    },
    {
     "name": "stdout",
     "output_type": "stream",
     "text": [
      "Epoch #095: Rec_Loss/train = 0.305, KLD/train = 0.085, Discl_Loss/train = 0.803, Adv_Loss/train = 0.374 | Rec_Loss/valid = 0.297, KLD/valid = 0.049, Discl_Loss/valid = 1.161, Adv_Loss/valid = 0.723\n"
     ]
    },
    {
     "data": {
      "application/vnd.jupyter.widget-view+json": {
       "model_id": "1d06ec0bcfb148c390520cd84543c931",
       "version_major": 2,
       "version_minor": 0
      },
      "text/plain": [
       "  0%|          | 0/32 [00:00<?, ?it/s]"
      ]
     },
     "metadata": {},
     "output_type": "display_data"
    },
    {
     "data": {
      "application/vnd.jupyter.widget-view+json": {
       "model_id": "4f7e8c9485e24162a0bfbcfea2f9545e",
       "version_major": 2,
       "version_minor": 0
      },
      "text/plain": [
       "  0%|          | 0/8 [00:00<?, ?it/s]"
      ]
     },
     "metadata": {},
     "output_type": "display_data"
    },
    {
     "name": "stdout",
     "output_type": "stream",
     "text": [
      "Epoch #096: Rec_Loss/train = 0.304, KLD/train = 0.082, Discl_Loss/train = 0.800, Adv_Loss/train = 0.408 | Rec_Loss/valid = 0.290, KLD/valid = 0.047, Discl_Loss/valid = 1.165, Adv_Loss/valid = 1.121\n"
     ]
    },
    {
     "data": {
      "application/vnd.jupyter.widget-view+json": {
       "model_id": "72fed95bb3274da9a312e7fdb621c63f",
       "version_major": 2,
       "version_minor": 0
      },
      "text/plain": [
       "  0%|          | 0/32 [00:00<?, ?it/s]"
      ]
     },
     "metadata": {},
     "output_type": "display_data"
    },
    {
     "data": {
      "application/vnd.jupyter.widget-view+json": {
       "model_id": "eb34f722132e4e62a377bfd6f10fe04b",
       "version_major": 2,
       "version_minor": 0
      },
      "text/plain": [
       "  0%|          | 0/8 [00:00<?, ?it/s]"
      ]
     },
     "metadata": {},
     "output_type": "display_data"
    },
    {
     "name": "stdout",
     "output_type": "stream",
     "text": [
      "Epoch #097: Rec_Loss/train = 0.305, KLD/train = 0.082, Discl_Loss/train = 0.799, Adv_Loss/train = 0.404 | Rec_Loss/valid = 0.315, KLD/valid = 0.049, Discl_Loss/valid = 1.192, Adv_Loss/valid = 1.097\n"
     ]
    },
    {
     "data": {
      "application/vnd.jupyter.widget-view+json": {
       "model_id": "ca5b4bb7ecde46b484e2578f997d1551",
       "version_major": 2,
       "version_minor": 0
      },
      "text/plain": [
       "  0%|          | 0/32 [00:00<?, ?it/s]"
      ]
     },
     "metadata": {},
     "output_type": "display_data"
    },
    {
     "data": {
      "application/vnd.jupyter.widget-view+json": {
       "model_id": "8a7df6b8eb9a49248a562e71d6d538d3",
       "version_major": 2,
       "version_minor": 0
      },
      "text/plain": [
       "  0%|          | 0/8 [00:00<?, ?it/s]"
      ]
     },
     "metadata": {},
     "output_type": "display_data"
    },
    {
     "name": "stdout",
     "output_type": "stream",
     "text": [
      "Epoch #098: Rec_Loss/train = 0.309, KLD/train = 0.082, Discl_Loss/train = 0.801, Adv_Loss/train = 0.419 | Rec_Loss/valid = 0.291, KLD/valid = 0.051, Discl_Loss/valid = 1.153, Adv_Loss/valid = 0.674\n"
     ]
    },
    {
     "data": {
      "application/vnd.jupyter.widget-view+json": {
       "model_id": "51352a65e708492784c0da2b31685faf",
       "version_major": 2,
       "version_minor": 0
      },
      "text/plain": [
       "  0%|          | 0/32 [00:00<?, ?it/s]"
      ]
     },
     "metadata": {},
     "output_type": "display_data"
    },
    {
     "data": {
      "application/vnd.jupyter.widget-view+json": {
       "model_id": "16a94cc41041477390da9c575158864a",
       "version_major": 2,
       "version_minor": 0
      },
      "text/plain": [
       "  0%|          | 0/8 [00:00<?, ?it/s]"
      ]
     },
     "metadata": {},
     "output_type": "display_data"
    },
    {
     "name": "stdout",
     "output_type": "stream",
     "text": [
      "Epoch #099: Rec_Loss/train = 0.300, KLD/train = 0.085, Discl_Loss/train = 0.797, Adv_Loss/train = 0.379 | Rec_Loss/valid = 0.321, KLD/valid = 0.049, Discl_Loss/valid = 1.195, Adv_Loss/valid = 1.217\n"
     ]
    },
    {
     "data": {
      "application/vnd.jupyter.widget-view+json": {
       "model_id": "f76f5f0ee7af4394816b178706b71152",
       "version_major": 2,
       "version_minor": 0
      },
      "text/plain": [
       "  0%|          | 0/32 [00:00<?, ?it/s]"
      ]
     },
     "metadata": {},
     "output_type": "display_data"
    },
    {
     "data": {
      "application/vnd.jupyter.widget-view+json": {
       "model_id": "50690786fda243df8b30a9e01dbeaf96",
       "version_major": 2,
       "version_minor": 0
      },
      "text/plain": [
       "  0%|          | 0/8 [00:00<?, ?it/s]"
      ]
     },
     "metadata": {},
     "output_type": "display_data"
    },
    {
     "name": "stdout",
     "output_type": "stream",
     "text": [
      "Epoch #100: Rec_Loss/train = 0.296, KLD/train = 0.298, Discl_Loss/train = 0.740, Adv_Loss/train = 0.363 | Rec_Loss/valid = 0.272, KLD/valid = 0.503, Discl_Loss/valid = 1.067, Adv_Loss/valid = 0.731\n"
     ]
    },
    {
     "data": {
      "application/vnd.jupyter.widget-view+json": {
       "model_id": "33d2c76f67c34618ae8aa0932fcc47ce",
       "version_major": 2,
       "version_minor": 0
      },
      "text/plain": [
       "  0%|          | 0/32 [00:00<?, ?it/s]"
      ]
     },
     "metadata": {},
     "output_type": "display_data"
    },
    {
     "data": {
      "application/vnd.jupyter.widget-view+json": {
       "model_id": "a4c7592285e643bb96062e24bf2a6932",
       "version_major": 2,
       "version_minor": 0
      },
      "text/plain": [
       "  0%|          | 0/8 [00:00<?, ?it/s]"
      ]
     },
     "metadata": {},
     "output_type": "display_data"
    },
    {
     "name": "stdout",
     "output_type": "stream",
     "text": [
      "Epoch #101: Rec_Loss/train = 0.291, KLD/train = 0.990, Discl_Loss/train = 0.707, Adv_Loss/train = 0.436 | Rec_Loss/valid = 0.276, KLD/valid = 1.153, Discl_Loss/valid = 1.072, Adv_Loss/valid = 1.767\n"
     ]
    },
    {
     "data": {
      "application/vnd.jupyter.widget-view+json": {
       "model_id": "1b1f3b57c70147ce9eb3429b6cede98e",
       "version_major": 2,
       "version_minor": 0
      },
      "text/plain": [
       "  0%|          | 0/32 [00:00<?, ?it/s]"
      ]
     },
     "metadata": {},
     "output_type": "display_data"
    },
    {
     "data": {
      "application/vnd.jupyter.widget-view+json": {
       "model_id": "7ed8aec5a6f94672ad723f7ea8a8e4ba",
       "version_major": 2,
       "version_minor": 0
      },
      "text/plain": [
       "  0%|          | 0/8 [00:00<?, ?it/s]"
      ]
     },
     "metadata": {},
     "output_type": "display_data"
    },
    {
     "name": "stdout",
     "output_type": "stream",
     "text": [
      "Epoch #102: Rec_Loss/train = 0.283, KLD/train = 1.508, Discl_Loss/train = 0.708, Adv_Loss/train = 0.401 | Rec_Loss/valid = 0.289, KLD/valid = 1.338, Discl_Loss/valid = 1.099, Adv_Loss/valid = 0.861\n"
     ]
    },
    {
     "data": {
      "application/vnd.jupyter.widget-view+json": {
       "model_id": "747097cb0d244b4fa8c3c6aa3059fa05",
       "version_major": 2,
       "version_minor": 0
      },
      "text/plain": [
       "  0%|          | 0/32 [00:00<?, ?it/s]"
      ]
     },
     "metadata": {},
     "output_type": "display_data"
    },
    {
     "data": {
      "application/vnd.jupyter.widget-view+json": {
       "model_id": "a2e9900bf1624b0b8bff85522a09e59d",
       "version_major": 2,
       "version_minor": 0
      },
      "text/plain": [
       "  0%|          | 0/8 [00:00<?, ?it/s]"
      ]
     },
     "metadata": {},
     "output_type": "display_data"
    },
    {
     "name": "stdout",
     "output_type": "stream",
     "text": [
      "Epoch #103: Rec_Loss/train = 0.281, KLD/train = 1.429, Discl_Loss/train = 0.691, Adv_Loss/train = 0.405 | Rec_Loss/valid = 0.289, KLD/valid = 1.028, Discl_Loss/valid = 1.073, Adv_Loss/valid = 1.159\n"
     ]
    },
    {
     "data": {
      "application/vnd.jupyter.widget-view+json": {
       "model_id": "7daf00bb59de4db998dcc1ddd9e5bf95",
       "version_major": 2,
       "version_minor": 0
      },
      "text/plain": [
       "  0%|          | 0/32 [00:00<?, ?it/s]"
      ]
     },
     "metadata": {},
     "output_type": "display_data"
    },
    {
     "data": {
      "application/vnd.jupyter.widget-view+json": {
       "model_id": "7c7870a24c25458ca76fd120d4bf1976",
       "version_major": 2,
       "version_minor": 0
      },
      "text/plain": [
       "  0%|          | 0/8 [00:00<?, ?it/s]"
      ]
     },
     "metadata": {},
     "output_type": "display_data"
    },
    {
     "name": "stdout",
     "output_type": "stream",
     "text": [
      "Epoch #104: Rec_Loss/train = 0.281, KLD/train = 1.171, Discl_Loss/train = 0.710, Adv_Loss/train = 0.400 | Rec_Loss/valid = 0.307, KLD/valid = 0.838, Discl_Loss/valid = 1.124, Adv_Loss/valid = 1.126\n"
     ]
    },
    {
     "data": {
      "application/vnd.jupyter.widget-view+json": {
       "model_id": "5fa2dd6f3d54466fa814a26db3b164db",
       "version_major": 2,
       "version_minor": 0
      },
      "text/plain": [
       "  0%|          | 0/32 [00:00<?, ?it/s]"
      ]
     },
     "metadata": {},
     "output_type": "display_data"
    },
    {
     "data": {
      "application/vnd.jupyter.widget-view+json": {
       "model_id": "e909ee7e510a4207a7291e0451e5c3ba",
       "version_major": 2,
       "version_minor": 0
      },
      "text/plain": [
       "  0%|          | 0/8 [00:00<?, ?it/s]"
      ]
     },
     "metadata": {},
     "output_type": "display_data"
    },
    {
     "name": "stdout",
     "output_type": "stream",
     "text": [
      "Epoch #105: Rec_Loss/train = 0.275, KLD/train = 1.010, Discl_Loss/train = 0.735, Adv_Loss/train = 0.392 | Rec_Loss/valid = 0.287, KLD/valid = 0.705, Discl_Loss/valid = 1.127, Adv_Loss/valid = 0.944\n"
     ]
    },
    {
     "data": {
      "application/vnd.jupyter.widget-view+json": {
       "model_id": "f62ff44e3dfd48d3b3e604f5a03f465d",
       "version_major": 2,
       "version_minor": 0
      },
      "text/plain": [
       "  0%|          | 0/32 [00:00<?, ?it/s]"
      ]
     },
     "metadata": {},
     "output_type": "display_data"
    },
    {
     "data": {
      "application/vnd.jupyter.widget-view+json": {
       "model_id": "f1c96214b03441148af57fc2aa6626e8",
       "version_major": 2,
       "version_minor": 0
      },
      "text/plain": [
       "  0%|          | 0/8 [00:00<?, ?it/s]"
      ]
     },
     "metadata": {},
     "output_type": "display_data"
    },
    {
     "name": "stdout",
     "output_type": "stream",
     "text": [
      "Epoch #106: Rec_Loss/train = 0.272, KLD/train = 0.879, Discl_Loss/train = 0.734, Adv_Loss/train = 0.360 | Rec_Loss/valid = 0.278, KLD/valid = 0.581, Discl_Loss/valid = 1.126, Adv_Loss/valid = 0.619\n"
     ]
    },
    {
     "data": {
      "application/vnd.jupyter.widget-view+json": {
       "model_id": "3054a205f05140c692fdbe0652d5b478",
       "version_major": 2,
       "version_minor": 0
      },
      "text/plain": [
       "  0%|          | 0/32 [00:00<?, ?it/s]"
      ]
     },
     "metadata": {},
     "output_type": "display_data"
    },
    {
     "data": {
      "application/vnd.jupyter.widget-view+json": {
       "model_id": "05fe154a242f46a2b4d317416e0c7ddf",
       "version_major": 2,
       "version_minor": 0
      },
      "text/plain": [
       "  0%|          | 0/8 [00:00<?, ?it/s]"
      ]
     },
     "metadata": {},
     "output_type": "display_data"
    },
    {
     "name": "stdout",
     "output_type": "stream",
     "text": [
      "Epoch #107: Rec_Loss/train = 0.287, KLD/train = 0.726, Discl_Loss/train = 0.736, Adv_Loss/train = 0.446 | Rec_Loss/valid = 0.282, KLD/valid = 0.424, Discl_Loss/valid = 1.110, Adv_Loss/valid = 1.134\n"
     ]
    },
    {
     "data": {
      "application/vnd.jupyter.widget-view+json": {
       "model_id": "e110836a0bfe4fc7a440602e8dd70fef",
       "version_major": 2,
       "version_minor": 0
      },
      "text/plain": [
       "  0%|          | 0/32 [00:00<?, ?it/s]"
      ]
     },
     "metadata": {},
     "output_type": "display_data"
    },
    {
     "data": {
      "application/vnd.jupyter.widget-view+json": {
       "model_id": "9029c65b7fe34aab81d0e92127c45701",
       "version_major": 2,
       "version_minor": 0
      },
      "text/plain": [
       "  0%|          | 0/8 [00:00<?, ?it/s]"
      ]
     },
     "metadata": {},
     "output_type": "display_data"
    },
    {
     "name": "stdout",
     "output_type": "stream",
     "text": [
      "Epoch #108: Rec_Loss/train = 0.285, KLD/train = 0.602, Discl_Loss/train = 0.714, Adv_Loss/train = 0.404 | Rec_Loss/valid = 0.281, KLD/valid = 0.390, Discl_Loss/valid = 1.105, Adv_Loss/valid = 1.245\n"
     ]
    },
    {
     "data": {
      "application/vnd.jupyter.widget-view+json": {
       "model_id": "8c3e5d403c994702bb97121163c22739",
       "version_major": 2,
       "version_minor": 0
      },
      "text/plain": [
       "  0%|          | 0/32 [00:00<?, ?it/s]"
      ]
     },
     "metadata": {},
     "output_type": "display_data"
    },
    {
     "data": {
      "application/vnd.jupyter.widget-view+json": {
       "model_id": "36b0043a03974bfa9f5d6f5bfddf7840",
       "version_major": 2,
       "version_minor": 0
      },
      "text/plain": [
       "  0%|          | 0/8 [00:00<?, ?it/s]"
      ]
     },
     "metadata": {},
     "output_type": "display_data"
    },
    {
     "name": "stdout",
     "output_type": "stream",
     "text": [
      "Epoch #109: Rec_Loss/train = 0.270, KLD/train = 0.530, Discl_Loss/train = 0.707, Adv_Loss/train = 0.341 | Rec_Loss/valid = 0.277, KLD/valid = 0.313, Discl_Loss/valid = 1.063, Adv_Loss/valid = 1.629\n"
     ]
    },
    {
     "data": {
      "application/vnd.jupyter.widget-view+json": {
       "model_id": "0fcfea63733b40429af51009e0f25523",
       "version_major": 2,
       "version_minor": 0
      },
      "text/plain": [
       "  0%|          | 0/32 [00:00<?, ?it/s]"
      ]
     },
     "metadata": {},
     "output_type": "display_data"
    },
    {
     "data": {
      "application/vnd.jupyter.widget-view+json": {
       "model_id": "12f3bb18f2c44389ae632dd67fa5e393",
       "version_major": 2,
       "version_minor": 0
      },
      "text/plain": [
       "  0%|          | 0/8 [00:00<?, ?it/s]"
      ]
     },
     "metadata": {},
     "output_type": "display_data"
    },
    {
     "name": "stdout",
     "output_type": "stream",
     "text": [
      "Epoch #110: Rec_Loss/train = 0.273, KLD/train = 0.439, Discl_Loss/train = 0.705, Adv_Loss/train = 0.349 | Rec_Loss/valid = 0.278, KLD/valid = 0.279, Discl_Loss/valid = 1.099, Adv_Loss/valid = 1.543\n"
     ]
    },
    {
     "data": {
      "application/vnd.jupyter.widget-view+json": {
       "model_id": "418d2d72ddfb4a05814b34aad308af00",
       "version_major": 2,
       "version_minor": 0
      },
      "text/plain": [
       "  0%|          | 0/32 [00:00<?, ?it/s]"
      ]
     },
     "metadata": {},
     "output_type": "display_data"
    },
    {
     "data": {
      "application/vnd.jupyter.widget-view+json": {
       "model_id": "a8c71176784f4cd2af191aca66953aed",
       "version_major": 2,
       "version_minor": 0
      },
      "text/plain": [
       "  0%|          | 0/8 [00:00<?, ?it/s]"
      ]
     },
     "metadata": {},
     "output_type": "display_data"
    },
    {
     "name": "stdout",
     "output_type": "stream",
     "text": [
      "Epoch #111: Rec_Loss/train = 0.274, KLD/train = 0.387, Discl_Loss/train = 0.705, Adv_Loss/train = 0.345 | Rec_Loss/valid = 0.290, KLD/valid = 0.247, Discl_Loss/valid = 1.116, Adv_Loss/valid = 1.927\n"
     ]
    },
    {
     "data": {
      "application/vnd.jupyter.widget-view+json": {
       "model_id": "4f067c7b092f47c59ba0427f0d0d83cd",
       "version_major": 2,
       "version_minor": 0
      },
      "text/plain": [
       "  0%|          | 0/32 [00:00<?, ?it/s]"
      ]
     },
     "metadata": {},
     "output_type": "display_data"
    },
    {
     "data": {
      "application/vnd.jupyter.widget-view+json": {
       "model_id": "a4292701411440839e22a34539b382b7",
       "version_major": 2,
       "version_minor": 0
      },
      "text/plain": [
       "  0%|          | 0/8 [00:00<?, ?it/s]"
      ]
     },
     "metadata": {},
     "output_type": "display_data"
    },
    {
     "name": "stdout",
     "output_type": "stream",
     "text": [
      "Epoch #112: Rec_Loss/train = 0.286, KLD/train = 0.356, Discl_Loss/train = 0.713, Adv_Loss/train = 0.384 | Rec_Loss/valid = 0.288, KLD/valid = 0.245, Discl_Loss/valid = 1.109, Adv_Loss/valid = 1.465\n"
     ]
    },
    {
     "data": {
      "application/vnd.jupyter.widget-view+json": {
       "model_id": "60d017a82c844aec97eeb1c76b645395",
       "version_major": 2,
       "version_minor": 0
      },
      "text/plain": [
       "  0%|          | 0/32 [00:00<?, ?it/s]"
      ]
     },
     "metadata": {},
     "output_type": "display_data"
    },
    {
     "data": {
      "application/vnd.jupyter.widget-view+json": {
       "model_id": "bfe413cb41f045bdae950a8a7c33711b",
       "version_major": 2,
       "version_minor": 0
      },
      "text/plain": [
       "  0%|          | 0/8 [00:00<?, ?it/s]"
      ]
     },
     "metadata": {},
     "output_type": "display_data"
    },
    {
     "name": "stdout",
     "output_type": "stream",
     "text": [
      "Epoch #113: Rec_Loss/train = 0.290, KLD/train = 0.320, Discl_Loss/train = 0.703, Adv_Loss/train = 0.378 | Rec_Loss/valid = 0.292, KLD/valid = 0.204, Discl_Loss/valid = 1.147, Adv_Loss/valid = 1.989\n"
     ]
    },
    {
     "data": {
      "application/vnd.jupyter.widget-view+json": {
       "model_id": "209e470685c84711872d8668605cc243",
       "version_major": 2,
       "version_minor": 0
      },
      "text/plain": [
       "  0%|          | 0/32 [00:00<?, ?it/s]"
      ]
     },
     "metadata": {},
     "output_type": "display_data"
    },
    {
     "data": {
      "application/vnd.jupyter.widget-view+json": {
       "model_id": "003a71d6e2a7480aadef35971a21894d",
       "version_major": 2,
       "version_minor": 0
      },
      "text/plain": [
       "  0%|          | 0/8 [00:00<?, ?it/s]"
      ]
     },
     "metadata": {},
     "output_type": "display_data"
    },
    {
     "name": "stdout",
     "output_type": "stream",
     "text": [
      "Epoch #114: Rec_Loss/train = 0.298, KLD/train = 0.292, Discl_Loss/train = 0.704, Adv_Loss/train = 0.426 | Rec_Loss/valid = 0.287, KLD/valid = 0.187, Discl_Loss/valid = 1.098, Adv_Loss/valid = 0.746\n"
     ]
    },
    {
     "data": {
      "application/vnd.jupyter.widget-view+json": {
       "model_id": "54d5eab6dd6d4221b93a55a540163553",
       "version_major": 2,
       "version_minor": 0
      },
      "text/plain": [
       "  0%|          | 0/32 [00:00<?, ?it/s]"
      ]
     },
     "metadata": {},
     "output_type": "display_data"
    },
    {
     "data": {
      "application/vnd.jupyter.widget-view+json": {
       "model_id": "301824e16e4d46fa84fd0fed2fb7b04a",
       "version_major": 2,
       "version_minor": 0
      },
      "text/plain": [
       "  0%|          | 0/8 [00:00<?, ?it/s]"
      ]
     },
     "metadata": {},
     "output_type": "display_data"
    },
    {
     "name": "stdout",
     "output_type": "stream",
     "text": [
      "Epoch #115: Rec_Loss/train = 0.287, KLD/train = 0.268, Discl_Loss/train = 0.692, Adv_Loss/train = 0.372 | Rec_Loss/valid = 0.280, KLD/valid = 0.182, Discl_Loss/valid = 1.091, Adv_Loss/valid = 1.581\n"
     ]
    },
    {
     "data": {
      "application/vnd.jupyter.widget-view+json": {
       "model_id": "04cb6dcd865f47febef954640b442788",
       "version_major": 2,
       "version_minor": 0
      },
      "text/plain": [
       "  0%|          | 0/32 [00:00<?, ?it/s]"
      ]
     },
     "metadata": {},
     "output_type": "display_data"
    },
    {
     "data": {
      "application/vnd.jupyter.widget-view+json": {
       "model_id": "54fcf9bb50994913bc97a92af5c0f86a",
       "version_major": 2,
       "version_minor": 0
      },
      "text/plain": [
       "  0%|          | 0/8 [00:00<?, ?it/s]"
      ]
     },
     "metadata": {},
     "output_type": "display_data"
    },
    {
     "name": "stdout",
     "output_type": "stream",
     "text": [
      "Epoch #116: Rec_Loss/train = 0.286, KLD/train = 0.245, Discl_Loss/train = 0.689, Adv_Loss/train = 0.381 | Rec_Loss/valid = 0.287, KLD/valid = 0.167, Discl_Loss/valid = 1.103, Adv_Loss/valid = 1.036\n"
     ]
    },
    {
     "data": {
      "application/vnd.jupyter.widget-view+json": {
       "model_id": "dc442a02a2094974b479045148766470",
       "version_major": 2,
       "version_minor": 0
      },
      "text/plain": [
       "  0%|          | 0/32 [00:00<?, ?it/s]"
      ]
     },
     "metadata": {},
     "output_type": "display_data"
    },
    {
     "data": {
      "application/vnd.jupyter.widget-view+json": {
       "model_id": "c5580b11a91544b890a07b2450c0484d",
       "version_major": 2,
       "version_minor": 0
      },
      "text/plain": [
       "  0%|          | 0/8 [00:00<?, ?it/s]"
      ]
     },
     "metadata": {},
     "output_type": "display_data"
    },
    {
     "name": "stdout",
     "output_type": "stream",
     "text": [
      "Epoch #117: Rec_Loss/train = 0.293, KLD/train = 0.225, Discl_Loss/train = 0.685, Adv_Loss/train = 0.400 | Rec_Loss/valid = 0.276, KLD/valid = 0.138, Discl_Loss/valid = 1.086, Adv_Loss/valid = 1.400\n"
     ]
    },
    {
     "data": {
      "application/vnd.jupyter.widget-view+json": {
       "model_id": "fe6d1888f38a44408d0e8e2ba1a76bb3",
       "version_major": 2,
       "version_minor": 0
      },
      "text/plain": [
       "  0%|          | 0/32 [00:00<?, ?it/s]"
      ]
     },
     "metadata": {},
     "output_type": "display_data"
    },
    {
     "data": {
      "application/vnd.jupyter.widget-view+json": {
       "model_id": "3edc707d00404ddcb8a9797293b29184",
       "version_major": 2,
       "version_minor": 0
      },
      "text/plain": [
       "  0%|          | 0/8 [00:00<?, ?it/s]"
      ]
     },
     "metadata": {},
     "output_type": "display_data"
    },
    {
     "name": "stdout",
     "output_type": "stream",
     "text": [
      "Epoch #118: Rec_Loss/train = 0.296, KLD/train = 0.210, Discl_Loss/train = 0.697, Adv_Loss/train = 0.408 | Rec_Loss/valid = 0.284, KLD/valid = 0.133, Discl_Loss/valid = 1.103, Adv_Loss/valid = 1.112\n"
     ]
    },
    {
     "data": {
      "application/vnd.jupyter.widget-view+json": {
       "model_id": "12e3a6fb340d4352a09a454e723dc79c",
       "version_major": 2,
       "version_minor": 0
      },
      "text/plain": [
       "  0%|          | 0/32 [00:00<?, ?it/s]"
      ]
     },
     "metadata": {},
     "output_type": "display_data"
    },
    {
     "data": {
      "application/vnd.jupyter.widget-view+json": {
       "model_id": "853a871cf1d34522b6c75a90ae490ce3",
       "version_major": 2,
       "version_minor": 0
      },
      "text/plain": [
       "  0%|          | 0/8 [00:00<?, ?it/s]"
      ]
     },
     "metadata": {},
     "output_type": "display_data"
    },
    {
     "name": "stdout",
     "output_type": "stream",
     "text": [
      "Epoch #119: Rec_Loss/train = 0.288, KLD/train = 0.199, Discl_Loss/train = 0.707, Adv_Loss/train = 0.381 | Rec_Loss/valid = 0.291, KLD/valid = 0.124, Discl_Loss/valid = 1.145, Adv_Loss/valid = 0.652\n"
     ]
    },
    {
     "data": {
      "application/vnd.jupyter.widget-view+json": {
       "model_id": "43b3fffe5b694b738f06efce53fea5d5",
       "version_major": 2,
       "version_minor": 0
      },
      "text/plain": [
       "  0%|          | 0/32 [00:00<?, ?it/s]"
      ]
     },
     "metadata": {},
     "output_type": "display_data"
    },
    {
     "data": {
      "application/vnd.jupyter.widget-view+json": {
       "model_id": "ccb149e536e04b6aaaea150c968f4fc1",
       "version_major": 2,
       "version_minor": 0
      },
      "text/plain": [
       "  0%|          | 0/8 [00:00<?, ?it/s]"
      ]
     },
     "metadata": {},
     "output_type": "display_data"
    },
    {
     "name": "stdout",
     "output_type": "stream",
     "text": [
      "Epoch #120: Rec_Loss/train = 0.289, KLD/train = 0.188, Discl_Loss/train = 0.698, Adv_Loss/train = 0.358 | Rec_Loss/valid = 0.283, KLD/valid = 0.112, Discl_Loss/valid = 1.114, Adv_Loss/valid = 1.504\n"
     ]
    },
    {
     "data": {
      "application/vnd.jupyter.widget-view+json": {
       "model_id": "7cf972dacee24278b7dc6338c9fcb69b",
       "version_major": 2,
       "version_minor": 0
      },
      "text/plain": [
       "  0%|          | 0/32 [00:00<?, ?it/s]"
      ]
     },
     "metadata": {},
     "output_type": "display_data"
    },
    {
     "data": {
      "application/vnd.jupyter.widget-view+json": {
       "model_id": "18791429dd6a4e729a74cb21aab03791",
       "version_major": 2,
       "version_minor": 0
      },
      "text/plain": [
       "  0%|          | 0/8 [00:00<?, ?it/s]"
      ]
     },
     "metadata": {},
     "output_type": "display_data"
    },
    {
     "name": "stdout",
     "output_type": "stream",
     "text": [
      "Epoch #121: Rec_Loss/train = 0.295, KLD/train = 0.175, Discl_Loss/train = 0.697, Adv_Loss/train = 0.375 | Rec_Loss/valid = 0.282, KLD/valid = 0.112, Discl_Loss/valid = 1.112, Adv_Loss/valid = 1.462\n"
     ]
    },
    {
     "data": {
      "application/vnd.jupyter.widget-view+json": {
       "model_id": "012c2a66c92541eaa0ddd7d60aac6a53",
       "version_major": 2,
       "version_minor": 0
      },
      "text/plain": [
       "  0%|          | 0/32 [00:00<?, ?it/s]"
      ]
     },
     "metadata": {},
     "output_type": "display_data"
    },
    {
     "data": {
      "application/vnd.jupyter.widget-view+json": {
       "model_id": "c172e8519941442295cb426b301ebf48",
       "version_major": 2,
       "version_minor": 0
      },
      "text/plain": [
       "  0%|          | 0/8 [00:00<?, ?it/s]"
      ]
     },
     "metadata": {},
     "output_type": "display_data"
    },
    {
     "name": "stdout",
     "output_type": "stream",
     "text": [
      "Epoch #122: Rec_Loss/train = 0.301, KLD/train = 0.163, Discl_Loss/train = 0.698, Adv_Loss/train = 0.410 | Rec_Loss/valid = 0.309, KLD/valid = 0.097, Discl_Loss/valid = 1.129, Adv_Loss/valid = 1.522\n"
     ]
    },
    {
     "data": {
      "application/vnd.jupyter.widget-view+json": {
       "model_id": "1621099aa90a49e69e3bd564f147df5f",
       "version_major": 2,
       "version_minor": 0
      },
      "text/plain": [
       "  0%|          | 0/32 [00:00<?, ?it/s]"
      ]
     },
     "metadata": {},
     "output_type": "display_data"
    },
    {
     "data": {
      "application/vnd.jupyter.widget-view+json": {
       "model_id": "06fb1875ec884de3b7b5e9bb8cf87546",
       "version_major": 2,
       "version_minor": 0
      },
      "text/plain": [
       "  0%|          | 0/8 [00:00<?, ?it/s]"
      ]
     },
     "metadata": {},
     "output_type": "display_data"
    },
    {
     "name": "stdout",
     "output_type": "stream",
     "text": [
      "Epoch #123: Rec_Loss/train = 0.289, KLD/train = 0.161, Discl_Loss/train = 0.700, Adv_Loss/train = 0.395 | Rec_Loss/valid = 0.287, KLD/valid = 0.102, Discl_Loss/valid = 1.106, Adv_Loss/valid = 0.591\n"
     ]
    },
    {
     "data": {
      "application/vnd.jupyter.widget-view+json": {
       "model_id": "12bd264dd7a24c8f83c3c39446a60855",
       "version_major": 2,
       "version_minor": 0
      },
      "text/plain": [
       "  0%|          | 0/32 [00:00<?, ?it/s]"
      ]
     },
     "metadata": {},
     "output_type": "display_data"
    },
    {
     "data": {
      "application/vnd.jupyter.widget-view+json": {
       "model_id": "6bb4931ad2b64ee189a0d9a9394d9f15",
       "version_major": 2,
       "version_minor": 0
      },
      "text/plain": [
       "  0%|          | 0/8 [00:00<?, ?it/s]"
      ]
     },
     "metadata": {},
     "output_type": "display_data"
    },
    {
     "name": "stdout",
     "output_type": "stream",
     "text": [
      "Epoch #124: Rec_Loss/train = 0.304, KLD/train = 0.152, Discl_Loss/train = 0.693, Adv_Loss/train = 0.425 | Rec_Loss/valid = 0.282, KLD/valid = 0.094, Discl_Loss/valid = 1.114, Adv_Loss/valid = 1.526\n"
     ]
    },
    {
     "data": {
      "application/vnd.jupyter.widget-view+json": {
       "model_id": "5ee2596e681a49b9927b960b19763a58",
       "version_major": 2,
       "version_minor": 0
      },
      "text/plain": [
       "  0%|          | 0/32 [00:00<?, ?it/s]"
      ]
     },
     "metadata": {},
     "output_type": "display_data"
    },
    {
     "data": {
      "application/vnd.jupyter.widget-view+json": {
       "model_id": "632894bcbf384aeca50edcccae411154",
       "version_major": 2,
       "version_minor": 0
      },
      "text/plain": [
       "  0%|          | 0/8 [00:00<?, ?it/s]"
      ]
     },
     "metadata": {},
     "output_type": "display_data"
    },
    {
     "name": "stdout",
     "output_type": "stream",
     "text": [
      "Epoch #125: Rec_Loss/train = 0.289, KLD/train = 0.144, Discl_Loss/train = 0.686, Adv_Loss/train = 0.373 | Rec_Loss/valid = 0.285, KLD/valid = 0.093, Discl_Loss/valid = 1.120, Adv_Loss/valid = 1.211\n"
     ]
    },
    {
     "data": {
      "application/vnd.jupyter.widget-view+json": {
       "model_id": "7bbb79ff88c04f57b0628415dd495fe7",
       "version_major": 2,
       "version_minor": 0
      },
      "text/plain": [
       "  0%|          | 0/32 [00:00<?, ?it/s]"
      ]
     },
     "metadata": {},
     "output_type": "display_data"
    },
    {
     "data": {
      "application/vnd.jupyter.widget-view+json": {
       "model_id": "e0480cab3ca74bbfaf7e8a05e415220e",
       "version_major": 2,
       "version_minor": 0
      },
      "text/plain": [
       "  0%|          | 0/8 [00:00<?, ?it/s]"
      ]
     },
     "metadata": {},
     "output_type": "display_data"
    },
    {
     "name": "stdout",
     "output_type": "stream",
     "text": [
      "Epoch #126: Rec_Loss/train = 0.293, KLD/train = 0.139, Discl_Loss/train = 0.697, Adv_Loss/train = 0.385 | Rec_Loss/valid = 0.291, KLD/valid = 0.085, Discl_Loss/valid = 1.133, Adv_Loss/valid = 0.674\n"
     ]
    },
    {
     "data": {
      "application/vnd.jupyter.widget-view+json": {
       "model_id": "a02050866760464d8d59410503e530b4",
       "version_major": 2,
       "version_minor": 0
      },
      "text/plain": [
       "  0%|          | 0/32 [00:00<?, ?it/s]"
      ]
     },
     "metadata": {},
     "output_type": "display_data"
    },
    {
     "data": {
      "application/vnd.jupyter.widget-view+json": {
       "model_id": "bc25d56d8ffc42d499ed64bdd3c05799",
       "version_major": 2,
       "version_minor": 0
      },
      "text/plain": [
       "  0%|          | 0/8 [00:00<?, ?it/s]"
      ]
     },
     "metadata": {},
     "output_type": "display_data"
    },
    {
     "name": "stdout",
     "output_type": "stream",
     "text": [
      "Epoch #127: Rec_Loss/train = 0.286, KLD/train = 0.134, Discl_Loss/train = 0.699, Adv_Loss/train = 0.368 | Rec_Loss/valid = 0.281, KLD/valid = 0.092, Discl_Loss/valid = 1.102, Adv_Loss/valid = 0.853\n"
     ]
    },
    {
     "data": {
      "application/vnd.jupyter.widget-view+json": {
       "model_id": "7e5da1ab89c2483bac698a9d41dd1836",
       "version_major": 2,
       "version_minor": 0
      },
      "text/plain": [
       "  0%|          | 0/32 [00:00<?, ?it/s]"
      ]
     },
     "metadata": {},
     "output_type": "display_data"
    },
    {
     "data": {
      "application/vnd.jupyter.widget-view+json": {
       "model_id": "815b080680864b3d88321b7b73488773",
       "version_major": 2,
       "version_minor": 0
      },
      "text/plain": [
       "  0%|          | 0/8 [00:00<?, ?it/s]"
      ]
     },
     "metadata": {},
     "output_type": "display_data"
    },
    {
     "name": "stdout",
     "output_type": "stream",
     "text": [
      "Epoch #128: Rec_Loss/train = 0.295, KLD/train = 0.132, Discl_Loss/train = 0.692, Adv_Loss/train = 0.367 | Rec_Loss/valid = 0.290, KLD/valid = 0.088, Discl_Loss/valid = 1.108, Adv_Loss/valid = 1.094\n"
     ]
    },
    {
     "data": {
      "application/vnd.jupyter.widget-view+json": {
       "model_id": "d14c6aa7a4204d0c86d10613c9c3fdc5",
       "version_major": 2,
       "version_minor": 0
      },
      "text/plain": [
       "  0%|          | 0/32 [00:00<?, ?it/s]"
      ]
     },
     "metadata": {},
     "output_type": "display_data"
    },
    {
     "data": {
      "application/vnd.jupyter.widget-view+json": {
       "model_id": "34d28e97423643c2885f5c06828e79a3",
       "version_major": 2,
       "version_minor": 0
      },
      "text/plain": [
       "  0%|          | 0/8 [00:00<?, ?it/s]"
      ]
     },
     "metadata": {},
     "output_type": "display_data"
    },
    {
     "name": "stdout",
     "output_type": "stream",
     "text": [
      "Epoch #129: Rec_Loss/train = 0.288, KLD/train = 0.123, Discl_Loss/train = 0.694, Adv_Loss/train = 0.340 | Rec_Loss/valid = 0.290, KLD/valid = 0.080, Discl_Loss/valid = 1.111, Adv_Loss/valid = 0.913\n"
     ]
    },
    {
     "data": {
      "application/vnd.jupyter.widget-view+json": {
       "model_id": "1bdfd292d4454cbd8877b8eee42a3264",
       "version_major": 2,
       "version_minor": 0
      },
      "text/plain": [
       "  0%|          | 0/32 [00:00<?, ?it/s]"
      ]
     },
     "metadata": {},
     "output_type": "display_data"
    },
    {
     "data": {
      "application/vnd.jupyter.widget-view+json": {
       "model_id": "1235848cf80040a6bd6f1c8681b9a4a8",
       "version_major": 2,
       "version_minor": 0
      },
      "text/plain": [
       "  0%|          | 0/8 [00:00<?, ?it/s]"
      ]
     },
     "metadata": {},
     "output_type": "display_data"
    },
    {
     "name": "stdout",
     "output_type": "stream",
     "text": [
      "Epoch #130: Rec_Loss/train = 0.295, KLD/train = 0.119, Discl_Loss/train = 0.689, Adv_Loss/train = 0.384 | Rec_Loss/valid = 0.295, KLD/valid = 0.081, Discl_Loss/valid = 1.117, Adv_Loss/valid = 0.848\n"
     ]
    },
    {
     "data": {
      "application/vnd.jupyter.widget-view+json": {
       "model_id": "5e4587c81c4e4326b18d81c092fbb2cc",
       "version_major": 2,
       "version_minor": 0
      },
      "text/plain": [
       "  0%|          | 0/32 [00:00<?, ?it/s]"
      ]
     },
     "metadata": {},
     "output_type": "display_data"
    },
    {
     "data": {
      "application/vnd.jupyter.widget-view+json": {
       "model_id": "ddce3dcaa5fe4cddb435c4fc673e7123",
       "version_major": 2,
       "version_minor": 0
      },
      "text/plain": [
       "  0%|          | 0/8 [00:00<?, ?it/s]"
      ]
     },
     "metadata": {},
     "output_type": "display_data"
    },
    {
     "name": "stdout",
     "output_type": "stream",
     "text": [
      "Epoch #131: Rec_Loss/train = 0.301, KLD/train = 0.117, Discl_Loss/train = 0.697, Adv_Loss/train = 0.408 | Rec_Loss/valid = 0.292, KLD/valid = 0.071, Discl_Loss/valid = 1.138, Adv_Loss/valid = 0.996\n"
     ]
    },
    {
     "data": {
      "application/vnd.jupyter.widget-view+json": {
       "model_id": "17824bbf47514cee8a5057fbd1f7af97",
       "version_major": 2,
       "version_minor": 0
      },
      "text/plain": [
       "  0%|          | 0/32 [00:00<?, ?it/s]"
      ]
     },
     "metadata": {},
     "output_type": "display_data"
    },
    {
     "data": {
      "application/vnd.jupyter.widget-view+json": {
       "model_id": "0444732225014a26a3334bc142e43b8e",
       "version_major": 2,
       "version_minor": 0
      },
      "text/plain": [
       "  0%|          | 0/8 [00:00<?, ?it/s]"
      ]
     },
     "metadata": {},
     "output_type": "display_data"
    },
    {
     "name": "stdout",
     "output_type": "stream",
     "text": [
      "Epoch #132: Rec_Loss/train = 0.296, KLD/train = 0.114, Discl_Loss/train = 0.700, Adv_Loss/train = 0.366 | Rec_Loss/valid = 0.290, KLD/valid = 0.070, Discl_Loss/valid = 1.127, Adv_Loss/valid = 0.474\n"
     ]
    },
    {
     "data": {
      "application/vnd.jupyter.widget-view+json": {
       "model_id": "a047a34e62a447e5a71fbd5237ef03b7",
       "version_major": 2,
       "version_minor": 0
      },
      "text/plain": [
       "  0%|          | 0/32 [00:00<?, ?it/s]"
      ]
     },
     "metadata": {},
     "output_type": "display_data"
    },
    {
     "data": {
      "application/vnd.jupyter.widget-view+json": {
       "model_id": "51a9b9ab597a490ba3ea8a7b9e46b869",
       "version_major": 2,
       "version_minor": 0
      },
      "text/plain": [
       "  0%|          | 0/8 [00:00<?, ?it/s]"
      ]
     },
     "metadata": {},
     "output_type": "display_data"
    },
    {
     "name": "stdout",
     "output_type": "stream",
     "text": [
      "Epoch #133: Rec_Loss/train = 0.305, KLD/train = 0.109, Discl_Loss/train = 0.690, Adv_Loss/train = 0.426 | Rec_Loss/valid = 0.288, KLD/valid = 0.068, Discl_Loss/valid = 1.097, Adv_Loss/valid = 0.891\n"
     ]
    },
    {
     "data": {
      "application/vnd.jupyter.widget-view+json": {
       "model_id": "d4d427379cb649aa8fdcc502ca8e941f",
       "version_major": 2,
       "version_minor": 0
      },
      "text/plain": [
       "  0%|          | 0/32 [00:00<?, ?it/s]"
      ]
     },
     "metadata": {},
     "output_type": "display_data"
    },
    {
     "data": {
      "application/vnd.jupyter.widget-view+json": {
       "model_id": "306d96937ddf4016b2792d2082caee17",
       "version_major": 2,
       "version_minor": 0
      },
      "text/plain": [
       "  0%|          | 0/8 [00:00<?, ?it/s]"
      ]
     },
     "metadata": {},
     "output_type": "display_data"
    },
    {
     "name": "stdout",
     "output_type": "stream",
     "text": [
      "Epoch #134: Rec_Loss/train = 0.302, KLD/train = 0.107, Discl_Loss/train = 0.695, Adv_Loss/train = 0.412 | Rec_Loss/valid = 0.290, KLD/valid = 0.074, Discl_Loss/valid = 1.097, Adv_Loss/valid = 0.760\n"
     ]
    },
    {
     "data": {
      "application/vnd.jupyter.widget-view+json": {
       "model_id": "7b5feb820c5e4fefa8d22e8a5875d060",
       "version_major": 2,
       "version_minor": 0
      },
      "text/plain": [
       "  0%|          | 0/32 [00:00<?, ?it/s]"
      ]
     },
     "metadata": {},
     "output_type": "display_data"
    },
    {
     "data": {
      "application/vnd.jupyter.widget-view+json": {
       "model_id": "ac41c7c7c8a3418a90c837d905c442ee",
       "version_major": 2,
       "version_minor": 0
      },
      "text/plain": [
       "  0%|          | 0/8 [00:00<?, ?it/s]"
      ]
     },
     "metadata": {},
     "output_type": "display_data"
    },
    {
     "name": "stdout",
     "output_type": "stream",
     "text": [
      "Epoch #135: Rec_Loss/train = 0.294, KLD/train = 0.103, Discl_Loss/train = 0.695, Adv_Loss/train = 0.366 | Rec_Loss/valid = 0.296, KLD/valid = 0.064, Discl_Loss/valid = 1.122, Adv_Loss/valid = 0.839\n"
     ]
    },
    {
     "data": {
      "application/vnd.jupyter.widget-view+json": {
       "model_id": "5476ca60eb274bdbb857dcb79c133b9d",
       "version_major": 2,
       "version_minor": 0
      },
      "text/plain": [
       "  0%|          | 0/32 [00:00<?, ?it/s]"
      ]
     },
     "metadata": {},
     "output_type": "display_data"
    },
    {
     "data": {
      "application/vnd.jupyter.widget-view+json": {
       "model_id": "fc51115c96df4463a36a5aeff77dd5fa",
       "version_major": 2,
       "version_minor": 0
      },
      "text/plain": [
       "  0%|          | 0/8 [00:00<?, ?it/s]"
      ]
     },
     "metadata": {},
     "output_type": "display_data"
    },
    {
     "name": "stdout",
     "output_type": "stream",
     "text": [
      "Epoch #136: Rec_Loss/train = 0.293, KLD/train = 0.104, Discl_Loss/train = 0.694, Adv_Loss/train = 0.367 | Rec_Loss/valid = 0.287, KLD/valid = 0.062, Discl_Loss/valid = 1.133, Adv_Loss/valid = 1.029\n"
     ]
    },
    {
     "data": {
      "application/vnd.jupyter.widget-view+json": {
       "model_id": "72cc4070167141d8913f2807387040a2",
       "version_major": 2,
       "version_minor": 0
      },
      "text/plain": [
       "  0%|          | 0/32 [00:00<?, ?it/s]"
      ]
     },
     "metadata": {},
     "output_type": "display_data"
    },
    {
     "data": {
      "application/vnd.jupyter.widget-view+json": {
       "model_id": "54c209c5198748e78e51c252fe2d8e60",
       "version_major": 2,
       "version_minor": 0
      },
      "text/plain": [
       "  0%|          | 0/8 [00:00<?, ?it/s]"
      ]
     },
     "metadata": {},
     "output_type": "display_data"
    },
    {
     "name": "stdout",
     "output_type": "stream",
     "text": [
      "Epoch #137: Rec_Loss/train = 0.299, KLD/train = 0.101, Discl_Loss/train = 0.699, Adv_Loss/train = 0.381 | Rec_Loss/valid = 0.292, KLD/valid = 0.064, Discl_Loss/valid = 1.127, Adv_Loss/valid = 0.941\n"
     ]
    },
    {
     "data": {
      "application/vnd.jupyter.widget-view+json": {
       "model_id": "ded3e2d2d03d4496b298b1af2726e9c8",
       "version_major": 2,
       "version_minor": 0
      },
      "text/plain": [
       "  0%|          | 0/32 [00:00<?, ?it/s]"
      ]
     },
     "metadata": {},
     "output_type": "display_data"
    },
    {
     "data": {
      "application/vnd.jupyter.widget-view+json": {
       "model_id": "9e1013636538482fb569e430bb0e57f6",
       "version_major": 2,
       "version_minor": 0
      },
      "text/plain": [
       "  0%|          | 0/8 [00:00<?, ?it/s]"
      ]
     },
     "metadata": {},
     "output_type": "display_data"
    },
    {
     "name": "stdout",
     "output_type": "stream",
     "text": [
      "Epoch #138: Rec_Loss/train = 0.299, KLD/train = 0.099, Discl_Loss/train = 0.689, Adv_Loss/train = 0.372 | Rec_Loss/valid = 0.302, KLD/valid = 0.062, Discl_Loss/valid = 1.148, Adv_Loss/valid = 1.524\n"
     ]
    },
    {
     "data": {
      "application/vnd.jupyter.widget-view+json": {
       "model_id": "b255686f29d947488b496b0457e6743e",
       "version_major": 2,
       "version_minor": 0
      },
      "text/plain": [
       "  0%|          | 0/32 [00:00<?, ?it/s]"
      ]
     },
     "metadata": {},
     "output_type": "display_data"
    },
    {
     "data": {
      "application/vnd.jupyter.widget-view+json": {
       "model_id": "e6bd524752094c948daab7621ecef239",
       "version_major": 2,
       "version_minor": 0
      },
      "text/plain": [
       "  0%|          | 0/8 [00:00<?, ?it/s]"
      ]
     },
     "metadata": {},
     "output_type": "display_data"
    },
    {
     "name": "stdout",
     "output_type": "stream",
     "text": [
      "Epoch #139: Rec_Loss/train = 0.291, KLD/train = 0.097, Discl_Loss/train = 0.696, Adv_Loss/train = 0.373 | Rec_Loss/valid = 0.288, KLD/valid = 0.061, Discl_Loss/valid = 1.110, Adv_Loss/valid = 1.077\n"
     ]
    },
    {
     "data": {
      "application/vnd.jupyter.widget-view+json": {
       "model_id": "a4e6e1064fcd48a488d8edcb18e66fb3",
       "version_major": 2,
       "version_minor": 0
      },
      "text/plain": [
       "  0%|          | 0/32 [00:00<?, ?it/s]"
      ]
     },
     "metadata": {},
     "output_type": "display_data"
    },
    {
     "data": {
      "application/vnd.jupyter.widget-view+json": {
       "model_id": "2552be3427f54082ba969091a61907be",
       "version_major": 2,
       "version_minor": 0
      },
      "text/plain": [
       "  0%|          | 0/8 [00:00<?, ?it/s]"
      ]
     },
     "metadata": {},
     "output_type": "display_data"
    },
    {
     "name": "stdout",
     "output_type": "stream",
     "text": [
      "Epoch #140: Rec_Loss/train = 0.295, KLD/train = 0.096, Discl_Loss/train = 0.698, Adv_Loss/train = 0.392 | Rec_Loss/valid = 0.286, KLD/valid = 0.057, Discl_Loss/valid = 1.110, Adv_Loss/valid = 1.012\n"
     ]
    },
    {
     "data": {
      "application/vnd.jupyter.widget-view+json": {
       "model_id": "bbda82603039425bba90941ec4fed01e",
       "version_major": 2,
       "version_minor": 0
      },
      "text/plain": [
       "  0%|          | 0/32 [00:00<?, ?it/s]"
      ]
     },
     "metadata": {},
     "output_type": "display_data"
    },
    {
     "data": {
      "application/vnd.jupyter.widget-view+json": {
       "model_id": "0e2b4ad34b9e4ba0abc214087b5ade09",
       "version_major": 2,
       "version_minor": 0
      },
      "text/plain": [
       "  0%|          | 0/8 [00:00<?, ?it/s]"
      ]
     },
     "metadata": {},
     "output_type": "display_data"
    },
    {
     "name": "stdout",
     "output_type": "stream",
     "text": [
      "Epoch #141: Rec_Loss/train = 0.292, KLD/train = 0.093, Discl_Loss/train = 0.690, Adv_Loss/train = 0.375 | Rec_Loss/valid = 0.294, KLD/valid = 0.059, Discl_Loss/valid = 1.138, Adv_Loss/valid = 1.143\n"
     ]
    },
    {
     "data": {
      "application/vnd.jupyter.widget-view+json": {
       "model_id": "0cead9eabeb54d5fa8904d005462006e",
       "version_major": 2,
       "version_minor": 0
      },
      "text/plain": [
       "  0%|          | 0/32 [00:00<?, ?it/s]"
      ]
     },
     "metadata": {},
     "output_type": "display_data"
    },
    {
     "data": {
      "application/vnd.jupyter.widget-view+json": {
       "model_id": "917fb724f9a34716a18f3f94bd39fbb0",
       "version_major": 2,
       "version_minor": 0
      },
      "text/plain": [
       "  0%|          | 0/8 [00:00<?, ?it/s]"
      ]
     },
     "metadata": {},
     "output_type": "display_data"
    },
    {
     "name": "stdout",
     "output_type": "stream",
     "text": [
      "Epoch #142: Rec_Loss/train = 0.301, KLD/train = 0.092, Discl_Loss/train = 0.694, Adv_Loss/train = 0.392 | Rec_Loss/valid = 0.283, KLD/valid = 0.056, Discl_Loss/valid = 1.128, Adv_Loss/valid = 1.585\n"
     ]
    },
    {
     "data": {
      "application/vnd.jupyter.widget-view+json": {
       "model_id": "fcdd4554ef684307b2cd9dd9db2b932e",
       "version_major": 2,
       "version_minor": 0
      },
      "text/plain": [
       "  0%|          | 0/32 [00:00<?, ?it/s]"
      ]
     },
     "metadata": {},
     "output_type": "display_data"
    },
    {
     "data": {
      "application/vnd.jupyter.widget-view+json": {
       "model_id": "71b60040b0084a7e8364adfb851f26cc",
       "version_major": 2,
       "version_minor": 0
      },
      "text/plain": [
       "  0%|          | 0/8 [00:00<?, ?it/s]"
      ]
     },
     "metadata": {},
     "output_type": "display_data"
    },
    {
     "name": "stdout",
     "output_type": "stream",
     "text": [
      "Epoch #143: Rec_Loss/train = 0.301, KLD/train = 0.093, Discl_Loss/train = 0.691, Adv_Loss/train = 0.370 | Rec_Loss/valid = 0.290, KLD/valid = 0.057, Discl_Loss/valid = 1.132, Adv_Loss/valid = 1.335\n"
     ]
    },
    {
     "data": {
      "application/vnd.jupyter.widget-view+json": {
       "model_id": "121389bd67b94ba99d519dad659646b1",
       "version_major": 2,
       "version_minor": 0
      },
      "text/plain": [
       "  0%|          | 0/32 [00:00<?, ?it/s]"
      ]
     },
     "metadata": {},
     "output_type": "display_data"
    },
    {
     "data": {
      "application/vnd.jupyter.widget-view+json": {
       "model_id": "920ce3dbd606469c8a382235d54a6112",
       "version_major": 2,
       "version_minor": 0
      },
      "text/plain": [
       "  0%|          | 0/8 [00:00<?, ?it/s]"
      ]
     },
     "metadata": {},
     "output_type": "display_data"
    },
    {
     "name": "stdout",
     "output_type": "stream",
     "text": [
      "Epoch #144: Rec_Loss/train = 0.304, KLD/train = 0.090, Discl_Loss/train = 0.695, Adv_Loss/train = 0.389 | Rec_Loss/valid = 0.286, KLD/valid = 0.054, Discl_Loss/valid = 1.119, Adv_Loss/valid = 1.062\n"
     ]
    },
    {
     "data": {
      "application/vnd.jupyter.widget-view+json": {
       "model_id": "659a777899b746238dcb495a3d8d6a42",
       "version_major": 2,
       "version_minor": 0
      },
      "text/plain": [
       "  0%|          | 0/32 [00:00<?, ?it/s]"
      ]
     },
     "metadata": {},
     "output_type": "display_data"
    },
    {
     "data": {
      "application/vnd.jupyter.widget-view+json": {
       "model_id": "ea959d02d0134ef0856f094dca2cfa00",
       "version_major": 2,
       "version_minor": 0
      },
      "text/plain": [
       "  0%|          | 0/8 [00:00<?, ?it/s]"
      ]
     },
     "metadata": {},
     "output_type": "display_data"
    },
    {
     "name": "stdout",
     "output_type": "stream",
     "text": [
      "Epoch #145: Rec_Loss/train = 0.299, KLD/train = 0.090, Discl_Loss/train = 0.687, Adv_Loss/train = 0.361 | Rec_Loss/valid = 0.285, KLD/valid = 0.052, Discl_Loss/valid = 1.104, Adv_Loss/valid = 1.398\n"
     ]
    },
    {
     "data": {
      "application/vnd.jupyter.widget-view+json": {
       "model_id": "d28130a5c939453d8576671a887ba4e0",
       "version_major": 2,
       "version_minor": 0
      },
      "text/plain": [
       "  0%|          | 0/32 [00:00<?, ?it/s]"
      ]
     },
     "metadata": {},
     "output_type": "display_data"
    },
    {
     "data": {
      "application/vnd.jupyter.widget-view+json": {
       "model_id": "dc3ac69a7492466ba6a7da11a7b82ffc",
       "version_major": 2,
       "version_minor": 0
      },
      "text/plain": [
       "  0%|          | 0/8 [00:00<?, ?it/s]"
      ]
     },
     "metadata": {},
     "output_type": "display_data"
    },
    {
     "name": "stdout",
     "output_type": "stream",
     "text": [
      "Epoch #146: Rec_Loss/train = 0.298, KLD/train = 0.089, Discl_Loss/train = 0.682, Adv_Loss/train = 0.379 | Rec_Loss/valid = 0.293, KLD/valid = 0.052, Discl_Loss/valid = 1.122, Adv_Loss/valid = 1.070\n"
     ]
    },
    {
     "data": {
      "application/vnd.jupyter.widget-view+json": {
       "model_id": "53aa792b1f2746159815f04b53ac1f16",
       "version_major": 2,
       "version_minor": 0
      },
      "text/plain": [
       "  0%|          | 0/32 [00:00<?, ?it/s]"
      ]
     },
     "metadata": {},
     "output_type": "display_data"
    },
    {
     "data": {
      "application/vnd.jupyter.widget-view+json": {
       "model_id": "4cab472b2a484838831b410b6214b6b7",
       "version_major": 2,
       "version_minor": 0
      },
      "text/plain": [
       "  0%|          | 0/8 [00:00<?, ?it/s]"
      ]
     },
     "metadata": {},
     "output_type": "display_data"
    },
    {
     "name": "stdout",
     "output_type": "stream",
     "text": [
      "Epoch #147: Rec_Loss/train = 0.296, KLD/train = 0.088, Discl_Loss/train = 0.681, Adv_Loss/train = 0.381 | Rec_Loss/valid = 0.289, KLD/valid = 0.052, Discl_Loss/valid = 1.120, Adv_Loss/valid = 1.281\n"
     ]
    },
    {
     "data": {
      "application/vnd.jupyter.widget-view+json": {
       "model_id": "9a613811ddb04a38a0166f1883ad25d7",
       "version_major": 2,
       "version_minor": 0
      },
      "text/plain": [
       "  0%|          | 0/32 [00:00<?, ?it/s]"
      ]
     },
     "metadata": {},
     "output_type": "display_data"
    },
    {
     "data": {
      "application/vnd.jupyter.widget-view+json": {
       "model_id": "b32431a40ab842a085d3e33b52c7b062",
       "version_major": 2,
       "version_minor": 0
      },
      "text/plain": [
       "  0%|          | 0/8 [00:00<?, ?it/s]"
      ]
     },
     "metadata": {},
     "output_type": "display_data"
    },
    {
     "name": "stdout",
     "output_type": "stream",
     "text": [
      "Epoch #148: Rec_Loss/train = 0.301, KLD/train = 0.087, Discl_Loss/train = 0.677, Adv_Loss/train = 0.398 | Rec_Loss/valid = 0.286, KLD/valid = 0.049, Discl_Loss/valid = 1.120, Adv_Loss/valid = 1.158\n"
     ]
    },
    {
     "data": {
      "application/vnd.jupyter.widget-view+json": {
       "model_id": "e329171abfea427a85d1df5db2f35407",
       "version_major": 2,
       "version_minor": 0
      },
      "text/plain": [
       "  0%|          | 0/32 [00:00<?, ?it/s]"
      ]
     },
     "metadata": {},
     "output_type": "display_data"
    },
    {
     "data": {
      "application/vnd.jupyter.widget-view+json": {
       "model_id": "87ebc4371baa47e38782e58518194cec",
       "version_major": 2,
       "version_minor": 0
      },
      "text/plain": [
       "  0%|          | 0/8 [00:00<?, ?it/s]"
      ]
     },
     "metadata": {},
     "output_type": "display_data"
    },
    {
     "name": "stdout",
     "output_type": "stream",
     "text": [
      "Epoch #149: Rec_Loss/train = 0.297, KLD/train = 0.088, Discl_Loss/train = 0.681, Adv_Loss/train = 0.400 | Rec_Loss/valid = 0.286, KLD/valid = 0.056, Discl_Loss/valid = 1.108, Adv_Loss/valid = 1.099\n"
     ]
    },
    {
     "data": {
      "application/vnd.jupyter.widget-view+json": {
       "model_id": "48226e500568414b8f92523b6bcb6f3d",
       "version_major": 2,
       "version_minor": 0
      },
      "text/plain": [
       "  0%|          | 0/32 [00:00<?, ?it/s]"
      ]
     },
     "metadata": {},
     "output_type": "display_data"
    },
    {
     "data": {
      "application/vnd.jupyter.widget-view+json": {
       "model_id": "e907f6fadb23494ba2fff819c392bee6",
       "version_major": 2,
       "version_minor": 0
      },
      "text/plain": [
       "  0%|          | 0/8 [00:00<?, ?it/s]"
      ]
     },
     "metadata": {},
     "output_type": "display_data"
    },
    {
     "name": "stdout",
     "output_type": "stream",
     "text": [
      "Epoch #150: Rec_Loss/train = 0.305, KLD/train = 0.089, Discl_Loss/train = 0.678, Adv_Loss/train = 0.396 | Rec_Loss/valid = 0.282, KLD/valid = 0.054, Discl_Loss/valid = 1.122, Adv_Loss/valid = 1.297\n"
     ]
    },
    {
     "data": {
      "application/vnd.jupyter.widget-view+json": {
       "model_id": "8f2828eaa8784f229dae9d303c32f75f",
       "version_major": 2,
       "version_minor": 0
      },
      "text/plain": [
       "  0%|          | 0/32 [00:00<?, ?it/s]"
      ]
     },
     "metadata": {},
     "output_type": "display_data"
    },
    {
     "data": {
      "application/vnd.jupyter.widget-view+json": {
       "model_id": "fdb5d0c5b77b4bb795634bf7fc89c481",
       "version_major": 2,
       "version_minor": 0
      },
      "text/plain": [
       "  0%|          | 0/8 [00:00<?, ?it/s]"
      ]
     },
     "metadata": {},
     "output_type": "display_data"
    },
    {
     "name": "stdout",
     "output_type": "stream",
     "text": [
      "Epoch #151: Rec_Loss/train = 0.297, KLD/train = 0.088, Discl_Loss/train = 0.675, Adv_Loss/train = 0.371 | Rec_Loss/valid = 0.289, KLD/valid = 0.054, Discl_Loss/valid = 1.125, Adv_Loss/valid = 1.014\n"
     ]
    },
    {
     "data": {
      "application/vnd.jupyter.widget-view+json": {
       "model_id": "00ed659797264d30a7b3d40903364269",
       "version_major": 2,
       "version_minor": 0
      },
      "text/plain": [
       "  0%|          | 0/32 [00:00<?, ?it/s]"
      ]
     },
     "metadata": {},
     "output_type": "display_data"
    },
    {
     "data": {
      "application/vnd.jupyter.widget-view+json": {
       "model_id": "ac3c666dfd9744418daa3480f4a4a86d",
       "version_major": 2,
       "version_minor": 0
      },
      "text/plain": [
       "  0%|          | 0/8 [00:00<?, ?it/s]"
      ]
     },
     "metadata": {},
     "output_type": "display_data"
    },
    {
     "name": "stdout",
     "output_type": "stream",
     "text": [
      "Epoch #152: Rec_Loss/train = 0.302, KLD/train = 0.088, Discl_Loss/train = 0.672, Adv_Loss/train = 0.400 | Rec_Loss/valid = 0.292, KLD/valid = 0.053, Discl_Loss/valid = 1.130, Adv_Loss/valid = 0.940\n"
     ]
    },
    {
     "data": {
      "application/vnd.jupyter.widget-view+json": {
       "model_id": "eedddab874014c4296c75c92b91ef600",
       "version_major": 2,
       "version_minor": 0
      },
      "text/plain": [
       "  0%|          | 0/32 [00:00<?, ?it/s]"
      ]
     },
     "metadata": {},
     "output_type": "display_data"
    },
    {
     "data": {
      "application/vnd.jupyter.widget-view+json": {
       "model_id": "d97e52c9da224a06b3786f2366c330e6",
       "version_major": 2,
       "version_minor": 0
      },
      "text/plain": [
       "  0%|          | 0/8 [00:00<?, ?it/s]"
      ]
     },
     "metadata": {},
     "output_type": "display_data"
    },
    {
     "name": "stdout",
     "output_type": "stream",
     "text": [
      "Epoch #153: Rec_Loss/train = 0.295, KLD/train = 0.087, Discl_Loss/train = 0.671, Adv_Loss/train = 0.373 | Rec_Loss/valid = 0.293, KLD/valid = 0.053, Discl_Loss/valid = 1.127, Adv_Loss/valid = 1.318\n"
     ]
    },
    {
     "data": {
      "application/vnd.jupyter.widget-view+json": {
       "model_id": "16bb8c7899b844b086990e63dd314e61",
       "version_major": 2,
       "version_minor": 0
      },
      "text/plain": [
       "  0%|          | 0/32 [00:00<?, ?it/s]"
      ]
     },
     "metadata": {},
     "output_type": "display_data"
    },
    {
     "data": {
      "application/vnd.jupyter.widget-view+json": {
       "model_id": "d4978cacf22541cca86ca7380d735914",
       "version_major": 2,
       "version_minor": 0
      },
      "text/plain": [
       "  0%|          | 0/8 [00:00<?, ?it/s]"
      ]
     },
     "metadata": {},
     "output_type": "display_data"
    },
    {
     "name": "stdout",
     "output_type": "stream",
     "text": [
      "Epoch #154: Rec_Loss/train = 0.295, KLD/train = 0.088, Discl_Loss/train = 0.670, Adv_Loss/train = 0.379 | Rec_Loss/valid = 0.282, KLD/valid = 0.057, Discl_Loss/valid = 1.101, Adv_Loss/valid = 1.105\n"
     ]
    },
    {
     "data": {
      "application/vnd.jupyter.widget-view+json": {
       "model_id": "73324cc5d6354edf810c9aaa0e1e9c55",
       "version_major": 2,
       "version_minor": 0
      },
      "text/plain": [
       "  0%|          | 0/32 [00:00<?, ?it/s]"
      ]
     },
     "metadata": {},
     "output_type": "display_data"
    },
    {
     "data": {
      "application/vnd.jupyter.widget-view+json": {
       "model_id": "6f74242e23a54c12a197975a34ebe62d",
       "version_major": 2,
       "version_minor": 0
      },
      "text/plain": [
       "  0%|          | 0/8 [00:00<?, ?it/s]"
      ]
     },
     "metadata": {},
     "output_type": "display_data"
    },
    {
     "name": "stdout",
     "output_type": "stream",
     "text": [
      "Epoch #155: Rec_Loss/train = 0.304, KLD/train = 0.087, Discl_Loss/train = 0.666, Adv_Loss/train = 0.400 | Rec_Loss/valid = 0.287, KLD/valid = 0.052, Discl_Loss/valid = 1.130, Adv_Loss/valid = 0.868\n"
     ]
    },
    {
     "data": {
      "application/vnd.jupyter.widget-view+json": {
       "model_id": "efd2793c085c4175ba962d93958663b0",
       "version_major": 2,
       "version_minor": 0
      },
      "text/plain": [
       "  0%|          | 0/32 [00:00<?, ?it/s]"
      ]
     },
     "metadata": {},
     "output_type": "display_data"
    },
    {
     "data": {
      "application/vnd.jupyter.widget-view+json": {
       "model_id": "b970eccbf5f14f69889c91011dbb8efe",
       "version_major": 2,
       "version_minor": 0
      },
      "text/plain": [
       "  0%|          | 0/8 [00:00<?, ?it/s]"
      ]
     },
     "metadata": {},
     "output_type": "display_data"
    },
    {
     "name": "stdout",
     "output_type": "stream",
     "text": [
      "Epoch #156: Rec_Loss/train = 0.286, KLD/train = 0.086, Discl_Loss/train = 0.661, Adv_Loss/train = 0.354 | Rec_Loss/valid = 0.292, KLD/valid = 0.050, Discl_Loss/valid = 1.111, Adv_Loss/valid = 1.478\n"
     ]
    },
    {
     "data": {
      "application/vnd.jupyter.widget-view+json": {
       "model_id": "de144e18a2bf46fbb490d25b39bbaa22",
       "version_major": 2,
       "version_minor": 0
      },
      "text/plain": [
       "  0%|          | 0/32 [00:00<?, ?it/s]"
      ]
     },
     "metadata": {},
     "output_type": "display_data"
    },
    {
     "data": {
      "application/vnd.jupyter.widget-view+json": {
       "model_id": "ebf1da8e3d804a9d8122e26c07c2c10d",
       "version_major": 2,
       "version_minor": 0
      },
      "text/plain": [
       "  0%|          | 0/8 [00:00<?, ?it/s]"
      ]
     },
     "metadata": {},
     "output_type": "display_data"
    },
    {
     "name": "stdout",
     "output_type": "stream",
     "text": [
      "Epoch #157: Rec_Loss/train = 0.299, KLD/train = 0.086, Discl_Loss/train = 0.654, Adv_Loss/train = 0.366 | Rec_Loss/valid = 0.296, KLD/valid = 0.048, Discl_Loss/valid = 1.110, Adv_Loss/valid = 1.447\n"
     ]
    },
    {
     "data": {
      "application/vnd.jupyter.widget-view+json": {
       "model_id": "97ffe2a9c6c44c7ea40982bf09725dbb",
       "version_major": 2,
       "version_minor": 0
      },
      "text/plain": [
       "  0%|          | 0/32 [00:00<?, ?it/s]"
      ]
     },
     "metadata": {},
     "output_type": "display_data"
    },
    {
     "data": {
      "application/vnd.jupyter.widget-view+json": {
       "model_id": "3187910835ae4165ba5b94a25d0a6d1f",
       "version_major": 2,
       "version_minor": 0
      },
      "text/plain": [
       "  0%|          | 0/8 [00:00<?, ?it/s]"
      ]
     },
     "metadata": {},
     "output_type": "display_data"
    },
    {
     "name": "stdout",
     "output_type": "stream",
     "text": [
      "Epoch #158: Rec_Loss/train = 0.295, KLD/train = 0.084, Discl_Loss/train = 0.654, Adv_Loss/train = 0.374 | Rec_Loss/valid = 0.291, KLD/valid = 0.050, Discl_Loss/valid = 1.103, Adv_Loss/valid = 1.035\n"
     ]
    },
    {
     "data": {
      "application/vnd.jupyter.widget-view+json": {
       "model_id": "def70c06869b43bfb9c76500c2b718e8",
       "version_major": 2,
       "version_minor": 0
      },
      "text/plain": [
       "  0%|          | 0/32 [00:00<?, ?it/s]"
      ]
     },
     "metadata": {},
     "output_type": "display_data"
    },
    {
     "data": {
      "application/vnd.jupyter.widget-view+json": {
       "model_id": "e9db96f6761d4a8d8eef488670384ccc",
       "version_major": 2,
       "version_minor": 0
      },
      "text/plain": [
       "  0%|          | 0/8 [00:00<?, ?it/s]"
      ]
     },
     "metadata": {},
     "output_type": "display_data"
    },
    {
     "name": "stdout",
     "output_type": "stream",
     "text": [
      "Epoch #159: Rec_Loss/train = 0.294, KLD/train = 0.085, Discl_Loss/train = 0.661, Adv_Loss/train = 0.368 | Rec_Loss/valid = 0.289, KLD/valid = 0.054, Discl_Loss/valid = 1.114, Adv_Loss/valid = 1.156\n"
     ]
    },
    {
     "data": {
      "application/vnd.jupyter.widget-view+json": {
       "model_id": "3bef9ac731d340689faf482ddce34d60",
       "version_major": 2,
       "version_minor": 0
      },
      "text/plain": [
       "  0%|          | 0/32 [00:00<?, ?it/s]"
      ]
     },
     "metadata": {},
     "output_type": "display_data"
    },
    {
     "data": {
      "application/vnd.jupyter.widget-view+json": {
       "model_id": "9c8465f46a904671b58e490edf366d89",
       "version_major": 2,
       "version_minor": 0
      },
      "text/plain": [
       "  0%|          | 0/8 [00:00<?, ?it/s]"
      ]
     },
     "metadata": {},
     "output_type": "display_data"
    },
    {
     "name": "stdout",
     "output_type": "stream",
     "text": [
      "Epoch #160: Rec_Loss/train = 0.301, KLD/train = 0.085, Discl_Loss/train = 0.655, Adv_Loss/train = 0.397 | Rec_Loss/valid = 0.290, KLD/valid = 0.054, Discl_Loss/valid = 1.102, Adv_Loss/valid = 1.367\n"
     ]
    },
    {
     "data": {
      "application/vnd.jupyter.widget-view+json": {
       "model_id": "eaf147edc2cc4b7893197a0af25c29f0",
       "version_major": 2,
       "version_minor": 0
      },
      "text/plain": [
       "  0%|          | 0/32 [00:00<?, ?it/s]"
      ]
     },
     "metadata": {},
     "output_type": "display_data"
    },
    {
     "data": {
      "application/vnd.jupyter.widget-view+json": {
       "model_id": "7f5526108a3148b6a51b8bb27a1177d3",
       "version_major": 2,
       "version_minor": 0
      },
      "text/plain": [
       "  0%|          | 0/8 [00:00<?, ?it/s]"
      ]
     },
     "metadata": {},
     "output_type": "display_data"
    },
    {
     "name": "stdout",
     "output_type": "stream",
     "text": [
      "Epoch #161: Rec_Loss/train = 0.291, KLD/train = 0.086, Discl_Loss/train = 0.648, Adv_Loss/train = 0.344 | Rec_Loss/valid = 0.289, KLD/valid = 0.051, Discl_Loss/valid = 1.101, Adv_Loss/valid = 1.496\n"
     ]
    },
    {
     "data": {
      "application/vnd.jupyter.widget-view+json": {
       "model_id": "acfa491749eb47bb8113a61eed2b2424",
       "version_major": 2,
       "version_minor": 0
      },
      "text/plain": [
       "  0%|          | 0/32 [00:00<?, ?it/s]"
      ]
     },
     "metadata": {},
     "output_type": "display_data"
    },
    {
     "data": {
      "application/vnd.jupyter.widget-view+json": {
       "model_id": "3a2f79b343794ee7b15655554a9645e1",
       "version_major": 2,
       "version_minor": 0
      },
      "text/plain": [
       "  0%|          | 0/8 [00:00<?, ?it/s]"
      ]
     },
     "metadata": {},
     "output_type": "display_data"
    },
    {
     "name": "stdout",
     "output_type": "stream",
     "text": [
      "Epoch #162: Rec_Loss/train = 0.295, KLD/train = 0.085, Discl_Loss/train = 0.650, Adv_Loss/train = 0.373 | Rec_Loss/valid = 0.297, KLD/valid = 0.052, Discl_Loss/valid = 1.123, Adv_Loss/valid = 1.053\n"
     ]
    },
    {
     "data": {
      "application/vnd.jupyter.widget-view+json": {
       "model_id": "375db45f51b54b8eb4fab4322697f7e7",
       "version_major": 2,
       "version_minor": 0
      },
      "text/plain": [
       "  0%|          | 0/32 [00:00<?, ?it/s]"
      ]
     },
     "metadata": {},
     "output_type": "display_data"
    },
    {
     "data": {
      "application/vnd.jupyter.widget-view+json": {
       "model_id": "34b239a4d0644d668dfbe7d2b0817b6f",
       "version_major": 2,
       "version_minor": 0
      },
      "text/plain": [
       "  0%|          | 0/8 [00:00<?, ?it/s]"
      ]
     },
     "metadata": {},
     "output_type": "display_data"
    },
    {
     "name": "stdout",
     "output_type": "stream",
     "text": [
      "Epoch #163: Rec_Loss/train = 0.300, KLD/train = 0.085, Discl_Loss/train = 0.650, Adv_Loss/train = 0.386 | Rec_Loss/valid = 0.290, KLD/valid = 0.050, Discl_Loss/valid = 1.123, Adv_Loss/valid = 1.192\n"
     ]
    },
    {
     "data": {
      "application/vnd.jupyter.widget-view+json": {
       "model_id": "b5e927940f2d495ba5c8f1ef5bf25ba4",
       "version_major": 2,
       "version_minor": 0
      },
      "text/plain": [
       "  0%|          | 0/32 [00:00<?, ?it/s]"
      ]
     },
     "metadata": {},
     "output_type": "display_data"
    },
    {
     "data": {
      "application/vnd.jupyter.widget-view+json": {
       "model_id": "4a7251ada13d46798b665c6e92f51ea5",
       "version_major": 2,
       "version_minor": 0
      },
      "text/plain": [
       "  0%|          | 0/8 [00:00<?, ?it/s]"
      ]
     },
     "metadata": {},
     "output_type": "display_data"
    },
    {
     "name": "stdout",
     "output_type": "stream",
     "text": [
      "Epoch #164: Rec_Loss/train = 0.298, KLD/train = 0.086, Discl_Loss/train = 0.654, Adv_Loss/train = 0.381 | Rec_Loss/valid = 0.294, KLD/valid = 0.054, Discl_Loss/valid = 1.128, Adv_Loss/valid = 1.251\n"
     ]
    },
    {
     "data": {
      "application/vnd.jupyter.widget-view+json": {
       "model_id": "f642590c35a84c1cb25f428aa3f52d4a",
       "version_major": 2,
       "version_minor": 0
      },
      "text/plain": [
       "  0%|          | 0/32 [00:00<?, ?it/s]"
      ]
     },
     "metadata": {},
     "output_type": "display_data"
    },
    {
     "data": {
      "application/vnd.jupyter.widget-view+json": {
       "model_id": "bd665f77364e4190baa222e50fbcdc2c",
       "version_major": 2,
       "version_minor": 0
      },
      "text/plain": [
       "  0%|          | 0/8 [00:00<?, ?it/s]"
      ]
     },
     "metadata": {},
     "output_type": "display_data"
    },
    {
     "name": "stdout",
     "output_type": "stream",
     "text": [
      "Epoch #165: Rec_Loss/train = 0.298, KLD/train = 0.087, Discl_Loss/train = 0.652, Adv_Loss/train = 0.378 | Rec_Loss/valid = 0.289, KLD/valid = 0.054, Discl_Loss/valid = 1.123, Adv_Loss/valid = 1.856\n"
     ]
    },
    {
     "data": {
      "application/vnd.jupyter.widget-view+json": {
       "model_id": "60473e51a0f14f6ca2cb1401ed73a734",
       "version_major": 2,
       "version_minor": 0
      },
      "text/plain": [
       "  0%|          | 0/32 [00:00<?, ?it/s]"
      ]
     },
     "metadata": {},
     "output_type": "display_data"
    },
    {
     "data": {
      "application/vnd.jupyter.widget-view+json": {
       "model_id": "aa4f668f7f214912a310e793cf27febc",
       "version_major": 2,
       "version_minor": 0
      },
      "text/plain": [
       "  0%|          | 0/8 [00:00<?, ?it/s]"
      ]
     },
     "metadata": {},
     "output_type": "display_data"
    },
    {
     "name": "stdout",
     "output_type": "stream",
     "text": [
      "Epoch #166: Rec_Loss/train = 0.301, KLD/train = 0.088, Discl_Loss/train = 0.652, Adv_Loss/train = 0.381 | Rec_Loss/valid = 0.291, KLD/valid = 0.056, Discl_Loss/valid = 1.123, Adv_Loss/valid = 1.676\n"
     ]
    },
    {
     "data": {
      "application/vnd.jupyter.widget-view+json": {
       "model_id": "a05d853b6d2340faae359549031f0984",
       "version_major": 2,
       "version_minor": 0
      },
      "text/plain": [
       "  0%|          | 0/32 [00:00<?, ?it/s]"
      ]
     },
     "metadata": {},
     "output_type": "display_data"
    },
    {
     "data": {
      "application/vnd.jupyter.widget-view+json": {
       "model_id": "0ecc31db36db40c4a36b1dfa4cddbab9",
       "version_major": 2,
       "version_minor": 0
      },
      "text/plain": [
       "  0%|          | 0/8 [00:00<?, ?it/s]"
      ]
     },
     "metadata": {},
     "output_type": "display_data"
    },
    {
     "name": "stdout",
     "output_type": "stream",
     "text": [
      "Epoch #167: Rec_Loss/train = 0.287, KLD/train = 0.086, Discl_Loss/train = 0.642, Adv_Loss/train = 0.349 | Rec_Loss/valid = 0.286, KLD/valid = 0.054, Discl_Loss/valid = 1.113, Adv_Loss/valid = 1.339\n"
     ]
    },
    {
     "data": {
      "application/vnd.jupyter.widget-view+json": {
       "model_id": "5b818798aff9427db5a6df6920758e15",
       "version_major": 2,
       "version_minor": 0
      },
      "text/plain": [
       "  0%|          | 0/32 [00:00<?, ?it/s]"
      ]
     },
     "metadata": {},
     "output_type": "display_data"
    },
    {
     "data": {
      "application/vnd.jupyter.widget-view+json": {
       "model_id": "0d449ce92da249e4b89c05a9f440e2cd",
       "version_major": 2,
       "version_minor": 0
      },
      "text/plain": [
       "  0%|          | 0/8 [00:00<?, ?it/s]"
      ]
     },
     "metadata": {},
     "output_type": "display_data"
    },
    {
     "name": "stdout",
     "output_type": "stream",
     "text": [
      "Epoch #168: Rec_Loss/train = 0.297, KLD/train = 0.085, Discl_Loss/train = 0.644, Adv_Loss/train = 0.387 | Rec_Loss/valid = 0.288, KLD/valid = 0.052, Discl_Loss/valid = 1.113, Adv_Loss/valid = 1.593\n"
     ]
    },
    {
     "data": {
      "application/vnd.jupyter.widget-view+json": {
       "model_id": "a6ab492ceada490d9eedb8f2901b4ae3",
       "version_major": 2,
       "version_minor": 0
      },
      "text/plain": [
       "  0%|          | 0/32 [00:00<?, ?it/s]"
      ]
     },
     "metadata": {},
     "output_type": "display_data"
    },
    {
     "data": {
      "application/vnd.jupyter.widget-view+json": {
       "model_id": "45263aa89a184028a900daa88012a83a",
       "version_major": 2,
       "version_minor": 0
      },
      "text/plain": [
       "  0%|          | 0/8 [00:00<?, ?it/s]"
      ]
     },
     "metadata": {},
     "output_type": "display_data"
    },
    {
     "name": "stdout",
     "output_type": "stream",
     "text": [
      "Epoch #169: Rec_Loss/train = 0.298, KLD/train = 0.086, Discl_Loss/train = 0.639, Adv_Loss/train = 0.384 | Rec_Loss/valid = 0.290, KLD/valid = 0.052, Discl_Loss/valid = 1.118, Adv_Loss/valid = 1.657\n"
     ]
    },
    {
     "data": {
      "application/vnd.jupyter.widget-view+json": {
       "model_id": "2331b3be23f64fc5a87fac4cc8ce5b07",
       "version_major": 2,
       "version_minor": 0
      },
      "text/plain": [
       "  0%|          | 0/32 [00:00<?, ?it/s]"
      ]
     },
     "metadata": {},
     "output_type": "display_data"
    },
    {
     "data": {
      "application/vnd.jupyter.widget-view+json": {
       "model_id": "745edb7b214646e48ad53e91b187a7c2",
       "version_major": 2,
       "version_minor": 0
      },
      "text/plain": [
       "  0%|          | 0/8 [00:00<?, ?it/s]"
      ]
     },
     "metadata": {},
     "output_type": "display_data"
    },
    {
     "name": "stdout",
     "output_type": "stream",
     "text": [
      "Epoch #170: Rec_Loss/train = 0.301, KLD/train = 0.086, Discl_Loss/train = 0.643, Adv_Loss/train = 0.399 | Rec_Loss/valid = 0.286, KLD/valid = 0.053, Discl_Loss/valid = 1.122, Adv_Loss/valid = 1.192\n"
     ]
    },
    {
     "data": {
      "application/vnd.jupyter.widget-view+json": {
       "model_id": "25628f99249848eba635aa8b77e6c36e",
       "version_major": 2,
       "version_minor": 0
      },
      "text/plain": [
       "  0%|          | 0/32 [00:00<?, ?it/s]"
      ]
     },
     "metadata": {},
     "output_type": "display_data"
    },
    {
     "data": {
      "application/vnd.jupyter.widget-view+json": {
       "model_id": "1e238a3e59164d8eb6e1fb72287a16d0",
       "version_major": 2,
       "version_minor": 0
      },
      "text/plain": [
       "  0%|          | 0/8 [00:00<?, ?it/s]"
      ]
     },
     "metadata": {},
     "output_type": "display_data"
    },
    {
     "name": "stdout",
     "output_type": "stream",
     "text": [
      "Epoch #171: Rec_Loss/train = 0.292, KLD/train = 0.086, Discl_Loss/train = 0.644, Adv_Loss/train = 0.349 | Rec_Loss/valid = 0.293, KLD/valid = 0.051, Discl_Loss/valid = 1.118, Adv_Loss/valid = 1.419\n"
     ]
    },
    {
     "data": {
      "application/vnd.jupyter.widget-view+json": {
       "model_id": "63bceb5c7a674c06924d658183a5363b",
       "version_major": 2,
       "version_minor": 0
      },
      "text/plain": [
       "  0%|          | 0/32 [00:00<?, ?it/s]"
      ]
     },
     "metadata": {},
     "output_type": "display_data"
    },
    {
     "data": {
      "application/vnd.jupyter.widget-view+json": {
       "model_id": "0477b5e62efe45f1a8629fc6c3d635e6",
       "version_major": 2,
       "version_minor": 0
      },
      "text/plain": [
       "  0%|          | 0/8 [00:00<?, ?it/s]"
      ]
     },
     "metadata": {},
     "output_type": "display_data"
    },
    {
     "name": "stdout",
     "output_type": "stream",
     "text": [
      "Epoch #172: Rec_Loss/train = 0.292, KLD/train = 0.087, Discl_Loss/train = 0.640, Adv_Loss/train = 0.365 | Rec_Loss/valid = 0.287, KLD/valid = 0.054, Discl_Loss/valid = 1.109, Adv_Loss/valid = 1.396\n"
     ]
    },
    {
     "data": {
      "application/vnd.jupyter.widget-view+json": {
       "model_id": "c599ece4faa04549aa0576919ad44ddc",
       "version_major": 2,
       "version_minor": 0
      },
      "text/plain": [
       "  0%|          | 0/32 [00:00<?, ?it/s]"
      ]
     },
     "metadata": {},
     "output_type": "display_data"
    },
    {
     "data": {
      "application/vnd.jupyter.widget-view+json": {
       "model_id": "365e1fa2c3f3444b98940c8c35732d52",
       "version_major": 2,
       "version_minor": 0
      },
      "text/plain": [
       "  0%|          | 0/8 [00:00<?, ?it/s]"
      ]
     },
     "metadata": {},
     "output_type": "display_data"
    },
    {
     "name": "stdout",
     "output_type": "stream",
     "text": [
      "Epoch #173: Rec_Loss/train = 0.297, KLD/train = 0.085, Discl_Loss/train = 0.639, Adv_Loss/train = 0.378 | Rec_Loss/valid = 0.288, KLD/valid = 0.050, Discl_Loss/valid = 1.113, Adv_Loss/valid = 1.687\n"
     ]
    },
    {
     "data": {
      "application/vnd.jupyter.widget-view+json": {
       "model_id": "ae804b17bd7b4552aa60728c189a07ca",
       "version_major": 2,
       "version_minor": 0
      },
      "text/plain": [
       "  0%|          | 0/32 [00:00<?, ?it/s]"
      ]
     },
     "metadata": {},
     "output_type": "display_data"
    },
    {
     "data": {
      "application/vnd.jupyter.widget-view+json": {
       "model_id": "cffbbb156ce64fe1acb3d2af8963c8d2",
       "version_major": 2,
       "version_minor": 0
      },
      "text/plain": [
       "  0%|          | 0/8 [00:00<?, ?it/s]"
      ]
     },
     "metadata": {},
     "output_type": "display_data"
    },
    {
     "name": "stdout",
     "output_type": "stream",
     "text": [
      "Epoch #174: Rec_Loss/train = 0.299, KLD/train = 0.084, Discl_Loss/train = 0.635, Adv_Loss/train = 0.377 | Rec_Loss/valid = 0.291, KLD/valid = 0.050, Discl_Loss/valid = 1.116, Adv_Loss/valid = 1.395\n"
     ]
    },
    {
     "data": {
      "application/vnd.jupyter.widget-view+json": {
       "model_id": "ccd6661405cd404cb869a3454e632bb7",
       "version_major": 2,
       "version_minor": 0
      },
      "text/plain": [
       "  0%|          | 0/32 [00:00<?, ?it/s]"
      ]
     },
     "metadata": {},
     "output_type": "display_data"
    },
    {
     "data": {
      "application/vnd.jupyter.widget-view+json": {
       "model_id": "0362e41807ce42f3829dff3de02fcdfd",
       "version_major": 2,
       "version_minor": 0
      },
      "text/plain": [
       "  0%|          | 0/8 [00:00<?, ?it/s]"
      ]
     },
     "metadata": {},
     "output_type": "display_data"
    },
    {
     "name": "stdout",
     "output_type": "stream",
     "text": [
      "Epoch #175: Rec_Loss/train = 0.290, KLD/train = 0.085, Discl_Loss/train = 0.641, Adv_Loss/train = 0.364 | Rec_Loss/valid = 0.285, KLD/valid = 0.050, Discl_Loss/valid = 1.110, Adv_Loss/valid = 1.407\n"
     ]
    },
    {
     "data": {
      "application/vnd.jupyter.widget-view+json": {
       "model_id": "746cd10ff11d4251b4497113b3f96719",
       "version_major": 2,
       "version_minor": 0
      },
      "text/plain": [
       "  0%|          | 0/32 [00:00<?, ?it/s]"
      ]
     },
     "metadata": {},
     "output_type": "display_data"
    },
    {
     "data": {
      "application/vnd.jupyter.widget-view+json": {
       "model_id": "c66e6551d0454feabed718b2318ecdc0",
       "version_major": 2,
       "version_minor": 0
      },
      "text/plain": [
       "  0%|          | 0/8 [00:00<?, ?it/s]"
      ]
     },
     "metadata": {},
     "output_type": "display_data"
    },
    {
     "name": "stdout",
     "output_type": "stream",
     "text": [
      "Epoch #176: Rec_Loss/train = 0.290, KLD/train = 0.086, Discl_Loss/train = 0.635, Adv_Loss/train = 0.338 | Rec_Loss/valid = 0.288, KLD/valid = 0.054, Discl_Loss/valid = 1.120, Adv_Loss/valid = 1.273\n"
     ]
    },
    {
     "data": {
      "application/vnd.jupyter.widget-view+json": {
       "model_id": "9fbf9e97748f4729958b4decc1a6a420",
       "version_major": 2,
       "version_minor": 0
      },
      "text/plain": [
       "  0%|          | 0/32 [00:00<?, ?it/s]"
      ]
     },
     "metadata": {},
     "output_type": "display_data"
    },
    {
     "data": {
      "application/vnd.jupyter.widget-view+json": {
       "model_id": "33087265c95f435f8bbc7f06a2b646dd",
       "version_major": 2,
       "version_minor": 0
      },
      "text/plain": [
       "  0%|          | 0/8 [00:00<?, ?it/s]"
      ]
     },
     "metadata": {},
     "output_type": "display_data"
    },
    {
     "name": "stdout",
     "output_type": "stream",
     "text": [
      "Epoch #177: Rec_Loss/train = 0.293, KLD/train = 0.087, Discl_Loss/train = 0.633, Adv_Loss/train = 0.377 | Rec_Loss/valid = 0.289, KLD/valid = 0.050, Discl_Loss/valid = 1.114, Adv_Loss/valid = 1.471\n"
     ]
    },
    {
     "data": {
      "application/vnd.jupyter.widget-view+json": {
       "model_id": "8a91d357c323449a95e8059065601d95",
       "version_major": 2,
       "version_minor": 0
      },
      "text/plain": [
       "  0%|          | 0/32 [00:00<?, ?it/s]"
      ]
     },
     "metadata": {},
     "output_type": "display_data"
    },
    {
     "data": {
      "application/vnd.jupyter.widget-view+json": {
       "model_id": "07862be969f641a49dde55b50a432d88",
       "version_major": 2,
       "version_minor": 0
      },
      "text/plain": [
       "  0%|          | 0/8 [00:00<?, ?it/s]"
      ]
     },
     "metadata": {},
     "output_type": "display_data"
    },
    {
     "name": "stdout",
     "output_type": "stream",
     "text": [
      "Epoch #178: Rec_Loss/train = 0.298, KLD/train = 0.086, Discl_Loss/train = 0.633, Adv_Loss/train = 0.352 | Rec_Loss/valid = 0.288, KLD/valid = 0.051, Discl_Loss/valid = 1.123, Adv_Loss/valid = 1.419\n"
     ]
    },
    {
     "data": {
      "application/vnd.jupyter.widget-view+json": {
       "model_id": "4ad512827a2f4e05bbf04d7c11b47d48",
       "version_major": 2,
       "version_minor": 0
      },
      "text/plain": [
       "  0%|          | 0/32 [00:00<?, ?it/s]"
      ]
     },
     "metadata": {},
     "output_type": "display_data"
    },
    {
     "data": {
      "application/vnd.jupyter.widget-view+json": {
       "model_id": "7b2ceb0a5a624e30b968a06ee2625074",
       "version_major": 2,
       "version_minor": 0
      },
      "text/plain": [
       "  0%|          | 0/8 [00:00<?, ?it/s]"
      ]
     },
     "metadata": {},
     "output_type": "display_data"
    },
    {
     "name": "stdout",
     "output_type": "stream",
     "text": [
      "Epoch #179: Rec_Loss/train = 0.296, KLD/train = 0.086, Discl_Loss/train = 0.630, Adv_Loss/train = 0.379 | Rec_Loss/valid = 0.286, KLD/valid = 0.051, Discl_Loss/valid = 1.106, Adv_Loss/valid = 1.584\n"
     ]
    },
    {
     "data": {
      "application/vnd.jupyter.widget-view+json": {
       "model_id": "18b1617223af4ba5a39ef76713a57065",
       "version_major": 2,
       "version_minor": 0
      },
      "text/plain": [
       "  0%|          | 0/32 [00:00<?, ?it/s]"
      ]
     },
     "metadata": {},
     "output_type": "display_data"
    },
    {
     "data": {
      "application/vnd.jupyter.widget-view+json": {
       "model_id": "23a77bf6c83f4618a5a42f0564dd6ec9",
       "version_major": 2,
       "version_minor": 0
      },
      "text/plain": [
       "  0%|          | 0/8 [00:00<?, ?it/s]"
      ]
     },
     "metadata": {},
     "output_type": "display_data"
    },
    {
     "name": "stdout",
     "output_type": "stream",
     "text": [
      "Epoch #180: Rec_Loss/train = 0.297, KLD/train = 0.086, Discl_Loss/train = 0.630, Adv_Loss/train = 0.381 | Rec_Loss/valid = 0.290, KLD/valid = 0.054, Discl_Loss/valid = 1.099, Adv_Loss/valid = 1.361\n"
     ]
    },
    {
     "data": {
      "application/vnd.jupyter.widget-view+json": {
       "model_id": "ead62016dad64d6ab22aa958aa5cefa3",
       "version_major": 2,
       "version_minor": 0
      },
      "text/plain": [
       "  0%|          | 0/32 [00:00<?, ?it/s]"
      ]
     },
     "metadata": {},
     "output_type": "display_data"
    },
    {
     "data": {
      "application/vnd.jupyter.widget-view+json": {
       "model_id": "e2515dcf01a840b3afd93c709867479e",
       "version_major": 2,
       "version_minor": 0
      },
      "text/plain": [
       "  0%|          | 0/8 [00:00<?, ?it/s]"
      ]
     },
     "metadata": {},
     "output_type": "display_data"
    },
    {
     "name": "stdout",
     "output_type": "stream",
     "text": [
      "Epoch #181: Rec_Loss/train = 0.297, KLD/train = 0.086, Discl_Loss/train = 0.621, Adv_Loss/train = 0.383 | Rec_Loss/valid = 0.289, KLD/valid = 0.053, Discl_Loss/valid = 1.112, Adv_Loss/valid = 1.534\n"
     ]
    },
    {
     "data": {
      "application/vnd.jupyter.widget-view+json": {
       "model_id": "f8bb91288d424109871d987c97cac838",
       "version_major": 2,
       "version_minor": 0
      },
      "text/plain": [
       "  0%|          | 0/32 [00:00<?, ?it/s]"
      ]
     },
     "metadata": {},
     "output_type": "display_data"
    },
    {
     "data": {
      "application/vnd.jupyter.widget-view+json": {
       "model_id": "1362403a0c5c4b25a0e97fc468122671",
       "version_major": 2,
       "version_minor": 0
      },
      "text/plain": [
       "  0%|          | 0/8 [00:00<?, ?it/s]"
      ]
     },
     "metadata": {},
     "output_type": "display_data"
    },
    {
     "name": "stdout",
     "output_type": "stream",
     "text": [
      "Epoch #182: Rec_Loss/train = 0.294, KLD/train = 0.085, Discl_Loss/train = 0.624, Adv_Loss/train = 0.375 | Rec_Loss/valid = 0.288, KLD/valid = 0.051, Discl_Loss/valid = 1.110, Adv_Loss/valid = 1.444\n"
     ]
    },
    {
     "data": {
      "application/vnd.jupyter.widget-view+json": {
       "model_id": "630869e0b7924d66a551135ef03e689c",
       "version_major": 2,
       "version_minor": 0
      },
      "text/plain": [
       "  0%|          | 0/32 [00:00<?, ?it/s]"
      ]
     },
     "metadata": {},
     "output_type": "display_data"
    },
    {
     "data": {
      "application/vnd.jupyter.widget-view+json": {
       "model_id": "3282f97a6c9b400eaf2ac42011eb5a73",
       "version_major": 2,
       "version_minor": 0
      },
      "text/plain": [
       "  0%|          | 0/8 [00:00<?, ?it/s]"
      ]
     },
     "metadata": {},
     "output_type": "display_data"
    },
    {
     "name": "stdout",
     "output_type": "stream",
     "text": [
      "Epoch #183: Rec_Loss/train = 0.287, KLD/train = 0.085, Discl_Loss/train = 0.624, Adv_Loss/train = 0.369 | Rec_Loss/valid = 0.289, KLD/valid = 0.053, Discl_Loss/valid = 1.108, Adv_Loss/valid = 1.713\n"
     ]
    },
    {
     "data": {
      "application/vnd.jupyter.widget-view+json": {
       "model_id": "32460f17d02f4b8ba128832d753616c5",
       "version_major": 2,
       "version_minor": 0
      },
      "text/plain": [
       "  0%|          | 0/32 [00:00<?, ?it/s]"
      ]
     },
     "metadata": {},
     "output_type": "display_data"
    },
    {
     "data": {
      "application/vnd.jupyter.widget-view+json": {
       "model_id": "be65fcbd2d9e4e32a16b3f8c035089ae",
       "version_major": 2,
       "version_minor": 0
      },
      "text/plain": [
       "  0%|          | 0/8 [00:00<?, ?it/s]"
      ]
     },
     "metadata": {},
     "output_type": "display_data"
    },
    {
     "name": "stdout",
     "output_type": "stream",
     "text": [
      "Epoch #184: Rec_Loss/train = 0.293, KLD/train = 0.084, Discl_Loss/train = 0.621, Adv_Loss/train = 0.371 | Rec_Loss/valid = 0.288, KLD/valid = 0.051, Discl_Loss/valid = 1.109, Adv_Loss/valid = 1.624\n"
     ]
    },
    {
     "data": {
      "application/vnd.jupyter.widget-view+json": {
       "model_id": "23d442d5a7ba48b58ecf07151250cf74",
       "version_major": 2,
       "version_minor": 0
      },
      "text/plain": [
       "  0%|          | 0/32 [00:00<?, ?it/s]"
      ]
     },
     "metadata": {},
     "output_type": "display_data"
    },
    {
     "data": {
      "application/vnd.jupyter.widget-view+json": {
       "model_id": "d108b48dac9d40659f6c95549bfe439c",
       "version_major": 2,
       "version_minor": 0
      },
      "text/plain": [
       "  0%|          | 0/8 [00:00<?, ?it/s]"
      ]
     },
     "metadata": {},
     "output_type": "display_data"
    },
    {
     "name": "stdout",
     "output_type": "stream",
     "text": [
      "Epoch #185: Rec_Loss/train = 0.293, KLD/train = 0.085, Discl_Loss/train = 0.618, Adv_Loss/train = 0.361 | Rec_Loss/valid = 0.289, KLD/valid = 0.052, Discl_Loss/valid = 1.110, Adv_Loss/valid = 1.513\n"
     ]
    },
    {
     "data": {
      "application/vnd.jupyter.widget-view+json": {
       "model_id": "2c45a55372cf4f4db4c08578adddc0da",
       "version_major": 2,
       "version_minor": 0
      },
      "text/plain": [
       "  0%|          | 0/32 [00:00<?, ?it/s]"
      ]
     },
     "metadata": {},
     "output_type": "display_data"
    },
    {
     "data": {
      "application/vnd.jupyter.widget-view+json": {
       "model_id": "dac5923862884bbaa1c9185181fe92c4",
       "version_major": 2,
       "version_minor": 0
      },
      "text/plain": [
       "  0%|          | 0/8 [00:00<?, ?it/s]"
      ]
     },
     "metadata": {},
     "output_type": "display_data"
    },
    {
     "name": "stdout",
     "output_type": "stream",
     "text": [
      "Epoch #186: Rec_Loss/train = 0.298, KLD/train = 0.086, Discl_Loss/train = 0.617, Adv_Loss/train = 0.361 | Rec_Loss/valid = 0.287, KLD/valid = 0.051, Discl_Loss/valid = 1.103, Adv_Loss/valid = 1.511\n"
     ]
    },
    {
     "data": {
      "application/vnd.jupyter.widget-view+json": {
       "model_id": "cfdbcee41db94019914746a401376b1b",
       "version_major": 2,
       "version_minor": 0
      },
      "text/plain": [
       "  0%|          | 0/32 [00:00<?, ?it/s]"
      ]
     },
     "metadata": {},
     "output_type": "display_data"
    },
    {
     "data": {
      "application/vnd.jupyter.widget-view+json": {
       "model_id": "343e512a29ae4a22bfdaa7480deccce9",
       "version_major": 2,
       "version_minor": 0
      },
      "text/plain": [
       "  0%|          | 0/8 [00:00<?, ?it/s]"
      ]
     },
     "metadata": {},
     "output_type": "display_data"
    },
    {
     "name": "stdout",
     "output_type": "stream",
     "text": [
      "Epoch #187: Rec_Loss/train = 0.298, KLD/train = 0.085, Discl_Loss/train = 0.613, Adv_Loss/train = 0.373 | Rec_Loss/valid = 0.286, KLD/valid = 0.052, Discl_Loss/valid = 1.101, Adv_Loss/valid = 1.673\n"
     ]
    },
    {
     "data": {
      "application/vnd.jupyter.widget-view+json": {
       "model_id": "e636a4dbfd4f4c8991cb443bd98a830e",
       "version_major": 2,
       "version_minor": 0
      },
      "text/plain": [
       "  0%|          | 0/32 [00:00<?, ?it/s]"
      ]
     },
     "metadata": {},
     "output_type": "display_data"
    },
    {
     "data": {
      "application/vnd.jupyter.widget-view+json": {
       "model_id": "2fcbcc0312e444ec805737045cc66857",
       "version_major": 2,
       "version_minor": 0
      },
      "text/plain": [
       "  0%|          | 0/8 [00:00<?, ?it/s]"
      ]
     },
     "metadata": {},
     "output_type": "display_data"
    },
    {
     "name": "stdout",
     "output_type": "stream",
     "text": [
      "Epoch #188: Rec_Loss/train = 0.299, KLD/train = 0.085, Discl_Loss/train = 0.613, Adv_Loss/train = 0.374 | Rec_Loss/valid = 0.290, KLD/valid = 0.052, Discl_Loss/valid = 1.108, Adv_Loss/valid = 1.548\n"
     ]
    },
    {
     "data": {
      "application/vnd.jupyter.widget-view+json": {
       "model_id": "c018e0f09bc3444ca93e31c8629b2694",
       "version_major": 2,
       "version_minor": 0
      },
      "text/plain": [
       "  0%|          | 0/32 [00:00<?, ?it/s]"
      ]
     },
     "metadata": {},
     "output_type": "display_data"
    },
    {
     "data": {
      "application/vnd.jupyter.widget-view+json": {
       "model_id": "39eb09eeac20470d90991ea319d08fe6",
       "version_major": 2,
       "version_minor": 0
      },
      "text/plain": [
       "  0%|          | 0/8 [00:00<?, ?it/s]"
      ]
     },
     "metadata": {},
     "output_type": "display_data"
    },
    {
     "name": "stdout",
     "output_type": "stream",
     "text": [
      "Epoch #189: Rec_Loss/train = 0.297, KLD/train = 0.085, Discl_Loss/train = 0.612, Adv_Loss/train = 0.395 | Rec_Loss/valid = 0.290, KLD/valid = 0.052, Discl_Loss/valid = 1.118, Adv_Loss/valid = 1.566\n"
     ]
    },
    {
     "data": {
      "application/vnd.jupyter.widget-view+json": {
       "model_id": "17a5a7d822904442b4741edd8eea34d5",
       "version_major": 2,
       "version_minor": 0
      },
      "text/plain": [
       "  0%|          | 0/32 [00:00<?, ?it/s]"
      ]
     },
     "metadata": {},
     "output_type": "display_data"
    },
    {
     "data": {
      "application/vnd.jupyter.widget-view+json": {
       "model_id": "ad396254c47c466d94bc0ac3d609029d",
       "version_major": 2,
       "version_minor": 0
      },
      "text/plain": [
       "  0%|          | 0/8 [00:00<?, ?it/s]"
      ]
     },
     "metadata": {},
     "output_type": "display_data"
    },
    {
     "name": "stdout",
     "output_type": "stream",
     "text": [
      "Epoch #190: Rec_Loss/train = 0.300, KLD/train = 0.084, Discl_Loss/train = 0.614, Adv_Loss/train = 0.392 | Rec_Loss/valid = 0.287, KLD/valid = 0.051, Discl_Loss/valid = 1.110, Adv_Loss/valid = 1.557\n"
     ]
    },
    {
     "data": {
      "application/vnd.jupyter.widget-view+json": {
       "model_id": "f12051567579426b98a96535c3e11904",
       "version_major": 2,
       "version_minor": 0
      },
      "text/plain": [
       "  0%|          | 0/32 [00:00<?, ?it/s]"
      ]
     },
     "metadata": {},
     "output_type": "display_data"
    },
    {
     "data": {
      "application/vnd.jupyter.widget-view+json": {
       "model_id": "e7dd40feb07e47b88bbdd467467b7978",
       "version_major": 2,
       "version_minor": 0
      },
      "text/plain": [
       "  0%|          | 0/8 [00:00<?, ?it/s]"
      ]
     },
     "metadata": {},
     "output_type": "display_data"
    },
    {
     "name": "stdout",
     "output_type": "stream",
     "text": [
      "Epoch #191: Rec_Loss/train = 0.301, KLD/train = 0.084, Discl_Loss/train = 0.610, Adv_Loss/train = 0.386 | Rec_Loss/valid = 0.286, KLD/valid = 0.052, Discl_Loss/valid = 1.100, Adv_Loss/valid = 1.488\n"
     ]
    },
    {
     "data": {
      "application/vnd.jupyter.widget-view+json": {
       "model_id": "ac48ecb7d9f74c21b12eb5556e13faa4",
       "version_major": 2,
       "version_minor": 0
      },
      "text/plain": [
       "  0%|          | 0/32 [00:00<?, ?it/s]"
      ]
     },
     "metadata": {},
     "output_type": "display_data"
    },
    {
     "data": {
      "application/vnd.jupyter.widget-view+json": {
       "model_id": "198a126418254c3c9c1eef638dd4db81",
       "version_major": 2,
       "version_minor": 0
      },
      "text/plain": [
       "  0%|          | 0/8 [00:00<?, ?it/s]"
      ]
     },
     "metadata": {},
     "output_type": "display_data"
    },
    {
     "name": "stdout",
     "output_type": "stream",
     "text": [
      "Epoch #192: Rec_Loss/train = 0.297, KLD/train = 0.085, Discl_Loss/train = 0.608, Adv_Loss/train = 0.380 | Rec_Loss/valid = 0.290, KLD/valid = 0.051, Discl_Loss/valid = 1.103, Adv_Loss/valid = 1.555\n"
     ]
    },
    {
     "data": {
      "application/vnd.jupyter.widget-view+json": {
       "model_id": "dc7810b5b090400182b8bc2432c40d5a",
       "version_major": 2,
       "version_minor": 0
      },
      "text/plain": [
       "  0%|          | 0/32 [00:00<?, ?it/s]"
      ]
     },
     "metadata": {},
     "output_type": "display_data"
    },
    {
     "data": {
      "application/vnd.jupyter.widget-view+json": {
       "model_id": "ce462461e5524397b8ea30560d7af1f0",
       "version_major": 2,
       "version_minor": 0
      },
      "text/plain": [
       "  0%|          | 0/8 [00:00<?, ?it/s]"
      ]
     },
     "metadata": {},
     "output_type": "display_data"
    },
    {
     "name": "stdout",
     "output_type": "stream",
     "text": [
      "Epoch #193: Rec_Loss/train = 0.287, KLD/train = 0.085, Discl_Loss/train = 0.606, Adv_Loss/train = 0.354 | Rec_Loss/valid = 0.289, KLD/valid = 0.052, Discl_Loss/valid = 1.107, Adv_Loss/valid = 1.466\n"
     ]
    },
    {
     "data": {
      "application/vnd.jupyter.widget-view+json": {
       "model_id": "8accc97a410345c58454be7c01ed65a1",
       "version_major": 2,
       "version_minor": 0
      },
      "text/plain": [
       "  0%|          | 0/32 [00:00<?, ?it/s]"
      ]
     },
     "metadata": {},
     "output_type": "display_data"
    },
    {
     "data": {
      "application/vnd.jupyter.widget-view+json": {
       "model_id": "e0ae73cf3c234f879f9637def4d3edc8",
       "version_major": 2,
       "version_minor": 0
      },
      "text/plain": [
       "  0%|          | 0/8 [00:00<?, ?it/s]"
      ]
     },
     "metadata": {},
     "output_type": "display_data"
    },
    {
     "name": "stdout",
     "output_type": "stream",
     "text": [
      "Epoch #194: Rec_Loss/train = 0.293, KLD/train = 0.085, Discl_Loss/train = 0.607, Adv_Loss/train = 0.366 | Rec_Loss/valid = 0.286, KLD/valid = 0.052, Discl_Loss/valid = 1.101, Adv_Loss/valid = 1.496\n"
     ]
    },
    {
     "data": {
      "application/vnd.jupyter.widget-view+json": {
       "model_id": "13c5241ae1e0475aa3e8461acc4c9dbd",
       "version_major": 2,
       "version_minor": 0
      },
      "text/plain": [
       "  0%|          | 0/32 [00:00<?, ?it/s]"
      ]
     },
     "metadata": {},
     "output_type": "display_data"
    },
    {
     "data": {
      "application/vnd.jupyter.widget-view+json": {
       "model_id": "5f9de36443b341d1921da7aadfadb1ea",
       "version_major": 2,
       "version_minor": 0
      },
      "text/plain": [
       "  0%|          | 0/8 [00:00<?, ?it/s]"
      ]
     },
     "metadata": {},
     "output_type": "display_data"
    },
    {
     "name": "stdout",
     "output_type": "stream",
     "text": [
      "Epoch #195: Rec_Loss/train = 0.299, KLD/train = 0.085, Discl_Loss/train = 0.603, Adv_Loss/train = 0.390 | Rec_Loss/valid = 0.286, KLD/valid = 0.051, Discl_Loss/valid = 1.102, Adv_Loss/valid = 1.569\n"
     ]
    },
    {
     "data": {
      "application/vnd.jupyter.widget-view+json": {
       "model_id": "6f2dfe1344564651af8ddb47a7726a43",
       "version_major": 2,
       "version_minor": 0
      },
      "text/plain": [
       "  0%|          | 0/32 [00:00<?, ?it/s]"
      ]
     },
     "metadata": {},
     "output_type": "display_data"
    },
    {
     "data": {
      "application/vnd.jupyter.widget-view+json": {
       "model_id": "f429c255f1d04e5583ff9f1d4ea937ad",
       "version_major": 2,
       "version_minor": 0
      },
      "text/plain": [
       "  0%|          | 0/8 [00:00<?, ?it/s]"
      ]
     },
     "metadata": {},
     "output_type": "display_data"
    },
    {
     "name": "stdout",
     "output_type": "stream",
     "text": [
      "Epoch #196: Rec_Loss/train = 0.296, KLD/train = 0.085, Discl_Loss/train = 0.602, Adv_Loss/train = 0.392 | Rec_Loss/valid = 0.289, KLD/valid = 0.051, Discl_Loss/valid = 1.115, Adv_Loss/valid = 1.561\n"
     ]
    },
    {
     "data": {
      "application/vnd.jupyter.widget-view+json": {
       "model_id": "f7b3cb547a5b4d4f9159c6a58e87f00e",
       "version_major": 2,
       "version_minor": 0
      },
      "text/plain": [
       "  0%|          | 0/32 [00:00<?, ?it/s]"
      ]
     },
     "metadata": {},
     "output_type": "display_data"
    },
    {
     "data": {
      "application/vnd.jupyter.widget-view+json": {
       "model_id": "675ef0f003594abc969d0cfdad8f3ee7",
       "version_major": 2,
       "version_minor": 0
      },
      "text/plain": [
       "  0%|          | 0/8 [00:00<?, ?it/s]"
      ]
     },
     "metadata": {},
     "output_type": "display_data"
    },
    {
     "name": "stdout",
     "output_type": "stream",
     "text": [
      "Epoch #197: Rec_Loss/train = 0.290, KLD/train = 0.084, Discl_Loss/train = 0.606, Adv_Loss/train = 0.349 | Rec_Loss/valid = 0.289, KLD/valid = 0.051, Discl_Loss/valid = 1.109, Adv_Loss/valid = 1.491\n"
     ]
    },
    {
     "data": {
      "application/vnd.jupyter.widget-view+json": {
       "model_id": "4d5085f07a174e71a03a1cbcde73ca81",
       "version_major": 2,
       "version_minor": 0
      },
      "text/plain": [
       "  0%|          | 0/32 [00:00<?, ?it/s]"
      ]
     },
     "metadata": {},
     "output_type": "display_data"
    },
    {
     "data": {
      "application/vnd.jupyter.widget-view+json": {
       "model_id": "f08b6388eae94e8bb1bc657dbc36da72",
       "version_major": 2,
       "version_minor": 0
      },
      "text/plain": [
       "  0%|          | 0/8 [00:00<?, ?it/s]"
      ]
     },
     "metadata": {},
     "output_type": "display_data"
    },
    {
     "name": "stdout",
     "output_type": "stream",
     "text": [
      "Epoch #198: Rec_Loss/train = 0.297, KLD/train = 0.084, Discl_Loss/train = 0.602, Adv_Loss/train = 0.355 | Rec_Loss/valid = 0.288, KLD/valid = 0.051, Discl_Loss/valid = 1.106, Adv_Loss/valid = 1.528\n"
     ]
    },
    {
     "data": {
      "application/vnd.jupyter.widget-view+json": {
       "model_id": "86814d7871e447fbacdcc69b0c8795b7",
       "version_major": 2,
       "version_minor": 0
      },
      "text/plain": [
       "  0%|          | 0/32 [00:00<?, ?it/s]"
      ]
     },
     "metadata": {},
     "output_type": "display_data"
    },
    {
     "data": {
      "application/vnd.jupyter.widget-view+json": {
       "model_id": "156f99d12bf74ab7ac65e0dfeffbc3d4",
       "version_major": 2,
       "version_minor": 0
      },
      "text/plain": [
       "  0%|          | 0/8 [00:00<?, ?it/s]"
      ]
     },
     "metadata": {},
     "output_type": "display_data"
    },
    {
     "name": "stdout",
     "output_type": "stream",
     "text": [
      "Epoch #199: Rec_Loss/train = 0.292, KLD/train = 0.085, Discl_Loss/train = 0.604, Adv_Loss/train = 0.365 | Rec_Loss/valid = 0.290, KLD/valid = 0.051, Discl_Loss/valid = 1.107, Adv_Loss/valid = 1.534\n"
     ]
    }
   ],
   "source": [
    "vaegan_trainer.train(N_EPOCHS, lambda_lr=lambda_lr)"
   ]
  },
  {
   "cell_type": "code",
   "execution_count": 8,
   "metadata": {},
   "outputs": [
    {
     "data": {
      "image/png": "[encoded data removed]",
      "text/plain": [
       "<Figure size 640x480 with 1 Axes>"
      ]
     },
     "metadata": {},
     "output_type": "display_data"
    }
   ],
   "source": [
    "plt.plot(range(1,len(vaegan_trainer.train_losses[0])+1), vaegan_trainer.train_losses[0])\n",
    "plt.plot(range(1,len(vaegan_trainer.train_losses[0])+1), vaegan_trainer.valid_losses[0])\n",
    "plt.xlabel('Number of epochs')\n",
    "plt.ylabel('Reconstruction loss')\n",
    "plt.title('Reconstruction loss vaegan')\n",
    "plt.legend(['Training set', 'Validation set'])\n",
    "plot_name = 'RECON_LOSS_'+str(N_EPOCHS) + '_epochs_' + str(Z_DIM) + '_zdim.png'\n",
    "path = EXPERIMENT_DIR_VAEGAN / plot_name\n",
    "\n",
    "plt.savefig(path, dpi=200)"
   ]
  },
  {
   "cell_type": "code",
   "execution_count": 9,
   "metadata": {},
   "outputs": [
    {
     "data": {
      "image/png": "[encoded data removed]",
      "text/plain": [
       "<Figure size 640x480 with 1 Axes>"
      ]
     },
     "metadata": {},
     "output_type": "display_data"
    }
   ],
   "source": [
    "plt.plot(range(1,len(vaegan_trainer.train_losses[1])+1), vaegan_trainer.train_losses[1])\n",
    "plt.plot(range(1,len(vaegan_trainer.train_losses[1])+1), vaegan_trainer.valid_losses[1])\n",
    "plt.xlabel('Number of epochs')\n",
    "plt.ylabel('KLD loss')\n",
    "plt.title('KLD loss vaegan')\n",
    "plt.legend(['Training set', 'Validation set'])\n",
    "plot_name = 'KLD_LOSS_'+str(N_EPOCHS) + '_epochs_' + str(Z_DIM) + '_zdim.png'\n",
    "path = EXPERIMENT_DIR_VAEGAN / plot_name\n",
    "\n",
    "plt.savefig(path, dpi=200)"
   ]
  },
  {
   "cell_type": "code",
   "execution_count": 10,
   "metadata": {},
   "outputs": [
    {
     "data": {
      "image/png": "[encoded data removed]",
      "text/plain": [
       "<Figure size 640x480 with 1 Axes>"
      ]
     },
     "metadata": {},
     "output_type": "display_data"
    }
   ],
   "source": [
    "plt.plot(range(1,len(vaegan_trainer.train_losses[2])+1), vaegan_trainer.train_losses[2])\n",
    "plt.plot(range(1,len(vaegan_trainer.train_losses[2])+1), vaegan_trainer.valid_losses[2])\n",
    "plt.xlabel('Number of epochs')\n",
    "plt.ylabel('Discl_Loss')\n",
    "plt.title('Discl_Loss vaegan')\n",
    "plt.legend(['Training set', 'Validation set'])\n",
    "plot_name = 'Discl_Loss_'+str(N_EPOCHS) + '_epochs_' + str(Z_DIM) + '_zdim.png'\n",
    "path = EXPERIMENT_DIR_VAEGAN / plot_name\n",
    "\n",
    "plt.savefig(path, dpi=200)"
   ]
  },
  {
   "cell_type": "code",
   "execution_count": 11,
   "metadata": {},
   "outputs": [
    {
     "data": {
      "image/png": "[encoded data removed]",
      "text/plain": [
       "<Figure size 640x480 with 1 Axes>"
      ]
     },
     "metadata": {},
     "output_type": "display_data"
    }
   ],
   "source": [
    "plt.plot(range(1,len(vaegan_trainer.train_losses[3])+1), vaegan_trainer.train_losses[3])\n",
    "plt.plot(range(1,len(vaegan_trainer.train_losses[3])+1), vaegan_trainer.valid_losses[3])\n",
    "plt.xlabel('Number of epochs')\n",
    "plt.ylabel('Adv_Loss')\n",
    "plt.title('Adv_Loss vaegan')\n",
    "plt.legend(['Training set', 'Validation set'])\n",
    "plot_name = 'Adv_Loss_'+str(N_EPOCHS) + '_epochs_' + str(Z_DIM) + '_zdim.png'\n",
    "path = EXPERIMENT_DIR_VAEGAN / plot_name\n",
    "\n",
    "plt.savefig(path, dpi=200)"
   ]
  },
  {
   "cell_type": "code",
   "execution_count": 21,
   "metadata": {},
   "outputs": [],
   "source": [
    "seed = 0\n",
    "\n",
    "vaegan_model = VAEGAN(z_dim=Z_DIM, l=2, spade=True).to(device)\n",
    "\n",
    "EXPERIMENT_DIR_VAEGAN = Path(r\"C:\\Users\\20182371\\Documents\\TUe\\8DM20_CS_Medical_Imaging\\DeepLearning_Project\\progress_vaegan\\200_epochs_256_zdim_final\")\n",
    "model_dir = EXPERIMENT_DIR_VAEGAN / \"model.pth\"\n",
    "vaegan_model.load_state_dict(torch.load(model_dir))\n",
    "vaegan_model.eval()\n",
    "\n",
    "patients = [\n",
    "    path\n",
    "    for path in DATA_DIR.glob(\"*\")\n",
    "    if not any(part.startswith(\".\") for part in path.parts)\n",
    "]\n",
    "\n",
    "train_size = 13 \n",
    "\n",
    "train_indx, valid_indx = train_test_split(patients, random_state=seed, train_size=train_size)\n",
    "\n",
    "partition = {\n",
    "    \"train\": train_indx,\n",
    "    \"validation\": valid_indx,\n",
    "}\n",
    "\n",
    "training_set = utils.ProstateMRDataset(partition[\"train\"], IMAGE_SIZE, empty_masks = False)\n",
    "train_loader = DataLoader(\n",
    "    train_set,\n",
    "    batch_size=BATCH_SIZE,\n",
    "    shuffle=True,\n",
    "    drop_last=True,\n",
    "    pin_memory=True,\n",
    ")\n",
    "\n",
    "\n"
   ]
  },
  {
   "cell_type": "code",
   "execution_count": 31,
   "metadata": {},
   "outputs": [
    {
     "data": {
      "image/png": "[encoded data removed]",
      "text/plain": [
       "<Figure size 640x480 with 1 Axes>"
      ]
     },
     "metadata": {},
     "output_type": "display_data"
    }
   ],
   "source": [
    "first_indx = np.random.choice(np.arange(len(train_loader.dataset)), size=5, replace=False)\n",
    "second_indx = np.random.choice(np.arange(len(train_loader.dataset)), size=5, replace=False)\n",
    "for i in range(len(second_indx)):\n",
    "    if second_indx[i] > len(train_loader.dataset): \n",
    "        second_indx[i] = len(train_loader.dataset)-1\n",
    "\n",
    "first_image_t , first_mask_t = train_loader.dataset[first_indx]\n",
    "second_image_t, second_mask_t = train_loader.dataset[second_indx]\n",
    "first_image_t = first_image_t.to(device)\n",
    "first_mask_t = first_mask_t.to(device)\n",
    "second_image_t = second_image_t.to(device)\n",
    "second_mask_t = second_mask_t.to(device)\n",
    "\n",
    "\n",
    "mu_first, logvar_first = vaegan_model.encoder(first_image_t)\n",
    "latent_z_first = utils.sample_z(mu_first, logvar_first)\n",
    "            \n",
    "mu_second, logvar_second = vaegan_model.encoder(second_image_t)\n",
    "latent_z_second = utils.sample_z(mu_second, logvar_second)\n",
    "weight = 0.5\n",
    "gen_latent_z = latent_z_first + weight*(latent_z_second - latent_z_first)\n",
    "generations  = vaegan_model.generator(gen_latent_z, first_mask_t)\n",
    "\n",
    "img_grid = make_grid(\n",
    "                torch.cat([\n",
    "                    first_image_t.cpu(),\n",
    "                    generations.cpu(),\n",
    "                    second_image_t.cpu()\n",
    "                ]), \n",
    "                nrow=5, \n",
    "                padding=5, \n",
    "                pad_value=-1, )\n",
    "    \n",
    "plt.imshow(img_grid.numpy()[0], cmap = \"gray\") #[0] / 2.0 + 0.5\n",
    "plt.axis(\"off\")\n",
    "plt.imsave(EXPERIMENT_DIR_VAEGAN / f\"interpolated_generations_{weight}.png\", img_grid.numpy()[0], cmap = \"gray\")"
   ]
  },
  {
   "cell_type": "code",
   "execution_count": null,
   "metadata": {},
   "outputs": [],
   "source": [
    "first_indx = np.random.choice(np.arange(len(train_loader.dataset)), size=1, replace=False)\n",
    "second_indx = first_indx+10\n",
    "\n",
    "first_image_t , first_mask_t = train_loader.dataset[first_indx]\n",
    "second_image_t, second_mask_t = train_loader.dataset[second_indx]\n",
    "first_image_t = first_image_t.to(device)\n",
    "first_mask_t = first_mask_t.to(device)\n",
    "second_image_t = second_image_t.to(device)\n",
    "second_mask_t = second_mask_t.to(device)\n",
    "\n",
    "\n",
    "mu_first, logvar_first = vaegan_model.encoder(first_image_t)\n",
    "latent_z_first = utils.sample_z(mu_first, logvar_first)\n",
    "            \n",
    "mu_second, logvar_second = vaegan_model.encoder(second_image_t)\n",
    "latent_z_second = utils.sample_z(mu_second, logvar_second)\n",
    "\n",
    "images = []\n",
    "for i in range(0,21,1):\n",
    "    gen_latent_z = latent_z_first + (i/20)*(latent_z_second - latent_z_first)\n",
    "    generations  = vaegan_model.generator(gen_latent_z, first_mask_t) \n",
    "    \n",
    "    images.append(np.array(generations.squeeze().detach().cpu()))\n",
    "\n",
    "    \n",
    "imageio.mimsave(EXPERIMENT_DIR_VAEGAN / 'generations.gif', images, fps=10)\n",
    "\n",
    "#did not know how to display a gif in jupyter notebook so the code below is from ChatGTP \n",
    "from IPython.display import HTML\n",
    "from base64 import b64encode\n",
    "\n",
    "gif = open(EXPERIMENT_DIR_VAEGAN / 'generations.gif','rb').read()\n",
    "#HTML(f\"<img src='data:image/gif;base64,{b64encode(gif).decode('utf-8')}' />\")\n",
    "HTML(f\"<img src='data:image/gif;base64,{b64encode(gif).decode('utf-8')}' style='width:600px;height:450px;'/>\")"
   ]
  }
 ],
 "metadata": {
  "kernelspec": {
   "display_name": "Python 3 (ipykernel)",
   "language": "python",
   "name": "python3"
  },
  "language_info": {
   "codemirror_mode": {
    "name": "ipython",
    "version": 3
   },
   "file_extension": ".py",
   "mimetype": "text/x-python",
   "name": "python",
   "nbconvert_exporter": "python",
   "pygments_lexer": "ipython3",
   "version": "3.10.6"
  }
 },
 "nbformat": 4,
 "nbformat_minor": 2
}
