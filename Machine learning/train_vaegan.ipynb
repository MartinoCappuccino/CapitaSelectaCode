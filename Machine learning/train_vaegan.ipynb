{
 "cells": [
  {
   "cell_type": "code",
   "execution_count": 1,
   "metadata": {},
   "outputs": [
    {
     "name": "stdout",
     "output_type": "stream",
     "text": [
      "cuda\n"
     ]
    }
   ],
   "source": [
    "import torch\n",
    "from torch.utils.data import DataLoader\n",
    "from torchvision import transforms\n",
    "import os\n",
    "import matplotlib.pyplot as plt\n",
    "from pathlib import Path\n",
    "from sklearn.model_selection import train_test_split\n",
    "import numpy as np \n",
    "from torchvision.utils import make_grid\n",
    "import imageio\n",
    "\n",
    "device = \"cuda\" if torch.cuda.is_available() else \"cpu\"\n",
    "print(device)"
   ]
  },
  {
   "cell_type": "code",
   "execution_count": 3,
   "metadata": {},
   "outputs": [
    {
     "name": "stdout",
     "output_type": "stream",
     "text": [
      "libs imported\n"
     ]
    }
   ],
   "source": [
    "import importlib\n",
    "try: \n",
    "    importlib.reload(utils)\n",
    "    importlib.reload(generators)\n",
    "    importlib.reload(trainers)\n",
    "    print(\"libs reloaded\")\n",
    "except:\n",
    "    import utils  \n",
    "    import generators \n",
    "    import trainers\n",
    "    print(\"libs imported\")\n",
    "  \n",
    "#Prostate2D = utils.Prostate2D\n",
    "VAE = generators.VAE\n",
    "VAEGAN = generators.VAEGAN\n",
    "TrainerVAEGAN = trainers.TrainerVAEGAN"
   ]
  },
  {
   "cell_type": "code",
   "execution_count": 5,
   "metadata": {},
   "outputs": [],
   "source": [
    "WORKING_DIR = Path(r\"C:\\Users\\marti\\OneDrive - TU Eindhoven\\Documenten\\Master\\Q3\\Capita Selecta\\Project\")\n",
    "DATA_DIR = WORKING_DIR / \"Data\"\n",
    "\n",
    "PROGRESS_DIR_VAEGAN = WORKING_DIR / \"progress_vaegan\"\n",
    "PROGRESS_DIR_VAEGAN.mkdir(parents=True, exist_ok=True)\n",
    "\n",
    "N = 15\n",
    "N_train = 15-3\n",
    "Z_DIM = 256\n",
    "BATCH_SIZE = 32\n",
    "N_EPOCHS = 200\n",
    "DECAY_LR_AFTER = 50\n",
    "LEARNING_RATE = 1e-3\n",
    "KLD_ANNEALING_EPOCHS = 50\n",
    "GAMMA = 1.0\n",
    "ADA_TARGET = 0.6\n",
    "ADA_LENGTH = 10_000\n",
    "ACCUM = 0.5 ** (32 / (10 * 1000))\n",
    "NO_VALIDATION_PATIENTS = 2\n",
    "IMAGE_SIZE = (64,64)\n",
    "TOLERANCE = -1e-8\n",
    "MINIMUM_VALID_LOSS = 10 \n",
    "seed=0\n",
    "\n",
    "exp = str(N_EPOCHS) + '_epochs_' + str(Z_DIM) + \"_zdim\" + \"_ema\"\n",
    "EXPERIMENT_DIR_VAEGAN = PROGRESS_DIR_VAEGAN / exp\n",
    "EXPERIMENT_DIR_VAEGAN.mkdir(parents=True, exist_ok=True)\n",
    "\n",
    "def lambda_lr(the_epoch):\n",
    "    return (\n",
    "        1.0\n",
    "        if the_epoch < DECAY_LR_AFTER\n",
    "        else 1 - float(the_epoch - DECAY_LR_AFTER) / (N_EPOCHS - DECAY_LR_AFTER)\n",
    "    )\n",
    "\n",
    "patients = [\n",
    "    path\n",
    "    for path in DATA_DIR.glob(\"*\")\n",
    "    if not any(part.startswith(\".\") for part in path.parts)\n",
    "]\n",
    "\n",
    "train_indx, valid_indx = train_test_split(patients, random_state=seed, train_size=N_train)\n",
    "\n",
    "partition = {\n",
    "    \"train\": train_indx,\n",
    "    \"validation\": valid_indx,\n",
    "}\n",
    "\n",
    "# load training data and create DataLoader with batching and shuffling\n",
    "train_set = utils.ProstateMRDataset(partition[\"train\"], IMAGE_SIZE)\n",
    "train_loader = DataLoader(\n",
    "    train_set,\n",
    "    batch_size=BATCH_SIZE,\n",
    "    shuffle=True,\n",
    "    drop_last=True,\n",
    "    pin_memory=True,\n",
    ")\n",
    "\n",
    "# load validation data\n",
    "valid_set = utils.ProstateMRDataset(partition[\"validation\"], IMAGE_SIZE)\n",
    "valid_loader = DataLoader(\n",
    "    valid_set,\n",
    "    batch_size=BATCH_SIZE,\n",
    "    shuffle=True,\n",
    "    drop_last=True,\n",
    "    pin_memory=True,\n",
    ")"
   ]
  },
  {
   "cell_type": "code",
   "execution_count": 6,
   "metadata": {},
   "outputs": [],
   "source": [
    "OPTIMIZER = lambda parameters, lr : torch.optim.RMSprop(\n",
    "    parameters,\n",
    "    lr=lr,\n",
    "    alpha=0.9,\n",
    "    eps=1e-8,\n",
    "    weight_decay=0,\n",
    "    momentum=0,\n",
    "    centered=False\n",
    ")\n",
    "\n",
    "vaegan_model = VAEGAN(z_dim=Z_DIM, l=2, spade=True).to(device)\n",
    "net_ema = VAEGAN(z_dim=Z_DIM, l=2, spade=True).to(device)\n",
    "net_ema.eval()\n",
    "\n",
    "optimizer_enc = OPTIMIZER(vaegan_model.encoder.parameters(), lr=LEARNING_RATE)\n",
    "optimizer_gen = OPTIMIZER(vaegan_model.generator.parameters(), lr=LEARNING_RATE)\n",
    "optimizer_disc = OPTIMIZER(vaegan_model.discriminator.parameters(), lr=LEARNING_RATE)\n",
    "\n",
    "vaegan_trainer = TrainerVAEGAN(\n",
    "    net=vaegan_model,\n",
    "    optimizer_enc=optimizer_enc,\n",
    "    optimizer_gen=optimizer_gen,\n",
    "    optimizer_disc=optimizer_disc,\n",
    "    kld_annealing_epochs=KLD_ANNEALING_EPOCHS,\n",
    "    progress_dir=EXPERIMENT_DIR_VAEGAN,\n",
    "    train_loader=train_loader,\n",
    "    valid_loader=valid_loader,\n",
    "    CHECKPOINTS_DIR=EXPERIMENT_DIR_VAEGAN,\n",
    "    TOLERANCE=TOLERANCE, \n",
    "    minimum_valid_loss=MINIMUM_VALID_LOSS,\n",
    "    net_ema = None,\n",
    "    accum = ACCUM,\n",
    "    ada_target = ADA_TARGET,\n",
    "    ada_length = ADA_LENGTH,\n",
    "    gamma = GAMMA,\n",
    "    device = device,\n",
    "    seed = 0,\n",
    "    early_stopping=False\n",
    ")"
   ]
  },
  {
   "cell_type": "code",
   "execution_count": 7,
   "metadata": {},
   "outputs": [
    {
     "data": {
      "application/vnd.jupyter.widget-view+json": {
       "model_id": "b90c64ed84d3456685f7f0e283498700",
       "version_major": 2,
       "version_minor": 0
      },
      "text/plain": [
       "  0%|          | 0/32 [00:00<?, ?it/s]"
      ]
     },
     "metadata": {},
     "output_type": "display_data"
    },
    {
     "data": {
      "application/vnd.jupyter.widget-view+json": {
       "model_id": "b0b240bc0a8b41049bfba2daf35f831c",
       "version_major": 2,
       "version_minor": 0
      },
      "text/plain": [
       "  0%|          | 0/8 [00:00<?, ?it/s]"
      ]
     },
     "metadata": {},
     "output_type": "display_data"
    },
    {
     "name": "stdout",
     "output_type": "stream",
     "text": [
      "Epoch #000: Rec_Loss/train = 0.643, KLD/train = 133.827, Discl_Loss/train = 1.634, Adv_Loss/train = 0.972 | Rec_Loss/valid = 0.469, KLD/valid = 10.536, Discl_Loss/valid = 1.470, Adv_Loss/valid = 0.042\n"
     ]
    },
    {
     "data": {
      "application/vnd.jupyter.widget-view+json": {
       "model_id": "097bebd1dd854db5acf4a641c41ab255",
       "version_major": 2,
       "version_minor": 0
      },
      "text/plain": [
       "  0%|          | 0/32 [00:00<?, ?it/s]"
      ]
     },
     "metadata": {},
     "output_type": "display_data"
    },
    {
     "data": {
      "application/vnd.jupyter.widget-view+json": {
       "model_id": "52a45e97dcd5479cb31e603424a5fa33",
       "version_major": 2,
       "version_minor": 0
      },
      "text/plain": [
       "  0%|          | 0/8 [00:00<?, ?it/s]"
      ]
     },
     "metadata": {},
     "output_type": "display_data"
    },
    {
     "name": "stdout",
     "output_type": "stream",
     "text": [
      "Epoch #001: Rec_Loss/train = 0.490, KLD/train = 10.979, Discl_Loss/train = 1.533, Adv_Loss/train = 0.430 | Rec_Loss/valid = 0.454, KLD/valid = 5.438, Discl_Loss/valid = 1.604, Adv_Loss/valid = 0.169\n"
     ]
    },
    {
     "data": {
      "application/vnd.jupyter.widget-view+json": {
       "model_id": "32a6d3bbf520476897a5111cb09e114d",
       "version_major": 2,
       "version_minor": 0
      },
      "text/plain": [
       "  0%|          | 0/32 [00:00<?, ?it/s]"
      ]
     },
     "metadata": {},
     "output_type": "display_data"
    },
    {
     "data": {
      "application/vnd.jupyter.widget-view+json": {
       "model_id": "ad34e62fca264c14b9cb03ebe7dcdce2",
       "version_major": 2,
       "version_minor": 0
      },
      "text/plain": [
       "  0%|          | 0/8 [00:00<?, ?it/s]"
      ]
     },
     "metadata": {},
     "output_type": "display_data"
    },
    {
     "name": "stdout",
     "output_type": "stream",
     "text": [
      "Epoch #002: Rec_Loss/train = 0.497, KLD/train = 5.404, Discl_Loss/train = 1.525, Adv_Loss/train = 0.363 | Rec_Loss/valid = 0.478, KLD/valid = 2.869, Discl_Loss/valid = 1.487, Adv_Loss/valid = 0.742\n"
     ]
    },
    {
     "data": {
      "application/vnd.jupyter.widget-view+json": {
       "model_id": "cab524e18a7445ba9db322da0e8e6671",
       "version_major": 2,
       "version_minor": 0
      },
      "text/plain": [
       "  0%|          | 0/32 [00:00<?, ?it/s]"
      ]
     },
     "metadata": {},
     "output_type": "display_data"
    }
   ],
   "source": [
    "vaegan_trainer.train(N_EPOCHS, lambda_lr=lambda_lr)"
   ]
  },
  {
   "cell_type": "code",
   "execution_count": null,
   "metadata": {},
   "outputs": [],
   "source": [
    "plt.plot(range(1,len(vaegan_trainer.train_losses[0])+1), vaegan_trainer.train_losses[0])\n",
    "plt.plot(range(1,len(vaegan_trainer.train_losses[0])+1), vaegan_trainer.valid_losses[0])\n",
    "plt.xlabel('Number of epochs')\n",
    "plt.ylabel('Reconstruction loss')\n",
    "plt.title('Reconstruction loss vaegan')\n",
    "plt.legend(['Training set', 'Validation set'])\n",
    "plot_name = 'RECON_LOSS_'+str(N_EPOCHS) + '_epochs_' + str(Z_DIM) + '_zdim.png'\n",
    "path = EXPERIMENT_DIR_VAEGAN / plot_name\n",
    "\n",
    "plt.savefig(path, dpi=200)"
   ]
  },
  {
   "cell_type": "code",
   "execution_count": null,
   "metadata": {},
   "outputs": [],
   "source": [
    "plt.plot(range(1,len(vaegan_trainer.train_losses[1])+1), vaegan_trainer.train_losses[1])\n",
    "plt.plot(range(1,len(vaegan_trainer.train_losses[1])+1), vaegan_trainer.valid_losses[1])\n",
    "plt.xlabel('Number of epochs')\n",
    "plt.ylabel('KLD loss')\n",
    "plt.title('KLD loss vaegan')\n",
    "plt.legend(['Training set', 'Validation set'])\n",
    "plot_name = 'KLD_LOSS_'+str(N_EPOCHS) + '_epochs_' + str(Z_DIM) + '_zdim.png'\n",
    "path = EXPERIMENT_DIR_VAEGAN / plot_name\n",
    "\n",
    "plt.savefig(path, dpi=200)"
   ]
  },
  {
   "cell_type": "code",
   "execution_count": null,
   "metadata": {},
   "outputs": [],
   "source": [
    "plt.plot(range(1,len(vaegan_trainer.train_losses[2])+1), vaegan_trainer.train_losses[2])\n",
    "plt.plot(range(1,len(vaegan_trainer.train_losses[2])+1), vaegan_trainer.valid_losses[2])\n",
    "plt.xlabel('Number of epochs')\n",
    "plt.ylabel('Discl_Loss')\n",
    "plt.title('Discl_Loss vaegan')\n",
    "plt.legend(['Training set', 'Validation set'])\n",
    "plot_name = 'Discl_Loss_'+str(N_EPOCHS) + '_epochs_' + str(Z_DIM) + '_zdim.png'\n",
    "path = EXPERIMENT_DIR_VAEGAN / plot_name\n",
    "\n",
    "plt.savefig(path, dpi=200)"
   ]
  },
  {
   "cell_type": "code",
   "execution_count": null,
   "metadata": {},
   "outputs": [],
   "source": [
    "plt.plot(range(1,len(vaegan_trainer.train_losses[3])+1), vaegan_trainer.train_losses[3])\n",
    "plt.plot(range(1,len(vaegan_trainer.train_losses[3])+1), vaegan_trainer.valid_losses[3])\n",
    "plt.xlabel('Number of epochs')\n",
    "plt.ylabel('Adv_Loss')\n",
    "plt.title('Adv_Loss vaegan')\n",
    "plt.legend(['Training set', 'Validation set'])\n",
    "plot_name = 'Adv_Loss_'+str(N_EPOCHS) + '_epochs_' + str(Z_DIM) + '_zdim.png'\n",
    "path = EXPERIMENT_DIR_VAEGAN / plot_name\n",
    "\n",
    "plt.savefig(path, dpi=200)"
   ]
  },
  {
   "cell_type": "code",
   "execution_count": null,
   "metadata": {},
   "outputs": [],
   "source": [
    "seed = 0\n",
    "\n",
    "vaegan_model = VAEGAN(z_dim=Z_DIM, l=2, spade=True).to(device)\n",
    "\n",
    "model_dir = EXPERIMENT_DIR_VAEGAN / \"model.pth\"\n",
    "vaegan_model.load_state_dict(torch.load(model_dir))\n",
    "vaegan_model.eval()\n",
    "\n",
    "patients = [\n",
    "    path\n",
    "    for path in DATA_DIR.glob(\"*\")\n",
    "    if not any(part.startswith(\".\") for part in path.parts)\n",
    "]\n",
    "\n",
    "train_size = 13 \n",
    "\n",
    "train_indx, valid_indx = train_test_split(patients, random_state=seed, train_size=train_size)\n",
    "\n",
    "partition = {\n",
    "    \"train\": train_indx,\n",
    "    \"validation\": valid_indx,\n",
    "}\n",
    "\n",
    "training_set = utils.ProstateMRDataset(partition[\"train\"], IMAGE_SIZE, empty_masks = False)\n",
    "train_loader = DataLoader(\n",
    "    train_set,\n",
    "    batch_size=BATCH_SIZE,\n",
    "    shuffle=True,\n",
    "    drop_last=True,\n",
    "    pin_memory=True,\n",
    ")\n",
    "\n",
    "first_indx = np.random.choice(np.arange(len(train_loader.dataset)), size=5, replace=False)\n",
    "second_indx = first_indx+10\n",
    "for i in range(len(second_indx)):\n",
    "    if second_indx[i] > len(train_loader.dataset): \n",
    "        second_indx[i] = len(train_loader.dataset)-1\n",
    "\n",
    "first_image_t , first_mask_t = train_loader.dataset[first_indx]\n",
    "second_image_t, second_mask_t = train_loader.dataset[second_indx]\n",
    "first_image_t = first_image_t.to(device)\n",
    "first_mask_t = first_mask_t.to(device)\n",
    "second_image_t = second_image_t.to(device)\n",
    "second_mask_t = second_mask_t.to(device)\n",
    "\n",
    "\n",
    "mu_first, logvar_first = vaegan_model.encoder(first_image_t)\n",
    "latent_z_first = utils.sample_z(mu_first, logvar_first)\n",
    "            \n",
    "mu_second, logvar_second = vaegan_model.encoder(second_image_t)\n",
    "latent_z_second = utils.sample_z(mu_second, logvar_second)\n"
   ]
  },
  {
   "cell_type": "code",
   "execution_count": null,
   "metadata": {},
   "outputs": [],
   "source": [
    "weight = 0.9\n",
    "gen_latent_z = latent_z_first + weight*(latent_z_second - latent_z_first)\n",
    "generations  = vaegan_model.generator(gen_latent_z, first_mask_t)\n",
    "\n",
    "img_grid = make_grid(\n",
    "                torch.cat([\n",
    "                    first_image_t.cpu(),\n",
    "                    generations.cpu(),\n",
    "                    second_image_t.cpu()\n",
    "                ]), \n",
    "                nrow=5, \n",
    "                padding=12, \n",
    "                pad_value=-1, )\n",
    "    \n",
    "plt.imshow(img_grid.numpy()[0] / 2.0 + 0.5)\n",
    "plt.imsave(EXPERIMENT_DIR_VAEGAN / f\"interpolated_generations_{weight}.png\", img_grid.numpy()[0] / 2.0 + 0.5)"
   ]
  },
  {
   "cell_type": "code",
   "execution_count": null,
   "metadata": {},
   "outputs": [],
   "source": [
    "first_indx = np.random.choice(np.arange(len(train_loader.dataset)), size=1, replace=False)\n",
    "second_indx = first_indx+10\n",
    "\n",
    "first_image_t , first_mask_t = train_loader.dataset[first_indx]\n",
    "second_image_t, second_mask_t = train_loader.dataset[second_indx]\n",
    "first_image_t = first_image_t.to(device)\n",
    "first_mask_t = first_mask_t.to(device)\n",
    "second_image_t = second_image_t.to(device)\n",
    "second_mask_t = second_mask_t.to(device)\n",
    "\n",
    "\n",
    "mu_first, logvar_first = vaegan_model.encoder(first_image_t)\n",
    "latent_z_first = utils.sample_z(mu_first, logvar_first)\n",
    "            \n",
    "mu_second, logvar_second = vaegan_model.encoder(second_image_t)\n",
    "latent_z_second = utils.sample_z(mu_second, logvar_second)\n",
    "\n",
    "images = []\n",
    "for i in range(0,21,1):\n",
    "    gen_latent_z = latent_z_first + (i/20)*(latent_z_second - latent_z_first)\n",
    "    generations  = vaegan_model.generator(gen_latent_z, first_mask_t) \n",
    "    \n",
    "    images.append(np.array(generations.squeeze().detach().cpu()))\n",
    "\n",
    "    \n",
    "imageio.mimsave(EXPERIMENT_DIR_VAEGAN / 'generations.gif', images, fps=10)\n",
    "\n",
    "#did not know how to display a gif in jupyter notebook so the code below is from ChatGTP \n",
    "from IPython.display import HTML\n",
    "from base64 import b64encode\n",
    "\n",
    "gif = open(EXPERIMENT_DIR_VAEGAN / 'generations.gif','rb').read()\n",
    "#HTML(f\"<img src='data:image/gif;base64,{b64encode(gif).decode('utf-8')}' />\")\n",
    "HTML(f\"<img src='data:image/gif;base64,{b64encode(gif).decode('utf-8')}' style='width:600px;height:450px;'/>\")"
   ]
  }
 ],
 "metadata": {
  "kernelspec": {
   "display_name": "Python 3 (ipykernel)",
   "language": "python",
   "name": "python3"
  },
  "language_info": {
   "codemirror_mode": {
    "name": "ipython",
    "version": 3
   },
   "file_extension": ".py",
   "mimetype": "text/x-python",
   "name": "python",
   "nbconvert_exporter": "python",
   "pygments_lexer": "ipython3",
   "version": "3.10.8"
  }
 },
 "nbformat": 4,
 "nbformat_minor": 2
}
