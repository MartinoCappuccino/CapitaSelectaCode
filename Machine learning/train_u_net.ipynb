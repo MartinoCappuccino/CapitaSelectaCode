{
 "cells": [
  {
   "cell_type": "code",
   "execution_count": 1,
   "metadata": {},
   "outputs": [
    {
     "name": "stdout",
     "output_type": "stream",
     "text": [
      "Using device: cpu\n"
     ]
    }
   ],
   "source": [
    "import torch\n",
    "import matplotlib.pyplot as plt\n",
    "from sklearn.model_selection import train_test_split\n",
    "from pathlib import Path\n",
    "from torch.utils.data import DataLoader\n",
    "import numpy as np\n",
    "\n",
    "# Set the device      \n",
    "device = \"mps\" if torch.backends.mps.is_available() else \"cpu\"\n",
    "print(f\"Using device: {device}\")"
   ]
  },
  {
   "cell_type": "code",
   "execution_count": 2,
   "metadata": {},
   "outputs": [
    {
     "name": "stdout",
     "output_type": "stream",
     "text": [
      "libs imported\n"
     ]
    }
   ],
   "source": [
    "import importlib\n",
    "try: \n",
    "    importlib.reload(generators)\n",
    "    importlib.reload(utils)\n",
    "    importlib.reload(trainers)\n",
    "    importlib.reload(u_net)\n",
    "    print(\"libs reloaded\")\n",
    "except:\n",
    "    import generators\n",
    "    import trainers\n",
    "    import utils\n",
    "    import u_net\n",
    "    print(\"libs imported\")\n",
    "\n",
    "TrainerUNET = trainers.TrainerUNET"
   ]
  },
  {
   "cell_type": "markdown",
   "metadata": {},
   "source": [
    "# UNET"
   ]
  },
  {
   "cell_type": "code",
   "execution_count": 8,
   "metadata": {},
   "outputs": [],
   "source": [
    "# directorys with data and to store training checkpoints and logs\n",
    "WORKING_DIR = Path(r\"C:\\Users\\marti\\OneDrive - TU Eindhoven\\Documenten\\Master\\Q3\\Capita Selecta\\Project\")\n",
    "DATA_DIR = WORKING_DIR / \"TrainingData\"\n",
    "PROGRESS_DIR = WORKING_DIR / \"progress_unet\"\n",
    "PROGRESS_DIR.mkdir(parents=True, exist_ok=True)\n",
    "VAEMASK_WEIGHTS = WORKING_DIR / \"CapitaSelectaCode\" / \"Machine learning\" / \"weights\" / \"vaemask_200_epochs_16_zdim.pth\" \n",
    "VAEGAN_WEIGHTS = WORKING_DIR / \"CapitaSelectaCode\" / \"Machine learning\" / \"weights\" / \"vaegan_200_epochs_256_zdim_ema.pth\" \n",
    "\n",
    "# training settings and hyperparameters\n",
    "NO_VALIDATION_PATIENTS = 3\n",
    "IMAGE_SIZE = [64, 64]  # images are made smaller to save training time\n",
    "N = 15\n",
    "train_size = N-NO_VALIDATION_PATIENTS\n",
    "seed = 0\n",
    "N_EPOCHS = 100\n",
    "DECAY_LR_AFTER = 50\n",
    "LEARNING_RATE = 1e-4\n",
    "TOLERANCE = 0.001  # for early stopping\n",
    "DISPLAY_FREQ = 5\n",
    "Number_of_fake = 32\n",
    "if Number_of_fake == 32:\n",
    "    BATCH_SIZE = 32\n",
    "else:\n",
    "    BATCH_SIZE = 32 - Number_of_fake\n",
    "BATCH_SIZE_VALID = 32\n",
    "EARLY_STOPPING = False\n",
    "MINIMUM_VALID_LOSS = 10\n",
    "exp = str(N_EPOCHS) + '_epochs_' + str(Number_of_fake) + \"_number_of_fake\"\n",
    "EXPERIMENT_DIR = PROGRESS_DIR / exp\n",
    "EXPERIMENT_DIR.mkdir(parents=True, exist_ok=True)\n",
    "\n",
    "utils.remove_empty_masks(DATA_DIR)\n",
    "\n",
    "patients = [\n",
    "    path\n",
    "    for path in DATA_DIR.glob(\"*\")\n",
    "    if not any(part.startswith(\".\") for part in path.parts)\n",
    "]\n",
    "\n",
    "train_indx, valid_indx = train_test_split(sorted(patients), random_state=seed, train_size=train_size)\n",
    "\n",
    "# split in training/validation after shuffling\n",
    "partition = {\n",
    "    \"train\": train_indx,\n",
    "    \"validation\": valid_indx,\n",
    "}\n",
    "\n",
    "mask_generator = generators.VAE(spade=False).to(device)\n",
    "mask_generator.load_state_dict(torch.load(VAEMASK_WEIGHTS, map_location=device))\n",
    "mask_generator.eval()\n",
    "\n",
    "image_generator = generators.VAEGAN(spade=True).to(device)\n",
    "image_generator.load_state_dict(torch.load(VAEGAN_WEIGHTS, map_location=device))\n",
    "image_generator.eval()\n",
    "\n",
    "# load training data and create DataLoader with batching and shuffling\n",
    "train_set = utils.ProstateMRDataset(partition[\"train\"], IMAGE_SIZE)\n",
    "train_loader = DataLoader(\n",
    "    train_set,\n",
    "    batch_size=BATCH_SIZE,\n",
    "    shuffle=True,\n",
    "    drop_last=True,\n",
    "    pin_memory=True,\n",
    ")\n",
    "\n",
    "# load validation data\n",
    "valid_set = utils.ProstateMRDataset(partition[\"validation\"], IMAGE_SIZE)\n",
    "valid_loader = DataLoader(\n",
    "    valid_set,\n",
    "    batch_size=BATCH_SIZE_VALID,\n",
    "    shuffle=True,\n",
    "    drop_last=True,\n",
    "    pin_memory=True,\n",
    ")\n",
    "\n",
    "mask_set = utils.ProstateMRDataset(partition[\"train\"], IMAGE_SIZE, empty_masks=True)\n",
    "mask_loader = DataLoader(\n",
    "    valid_set,\n",
    "    batch_size=BATCH_SIZE_VALID,\n",
    "    shuffle=True,\n",
    "    drop_last=True,\n",
    "    pin_memory=True,\n",
    ")\n",
    "\n",
    "def lambda_lr(the_epoch):\n",
    "    return (\n",
    "        1.0\n",
    "        if the_epoch < DECAY_LR_AFTER\n",
    "        else 1 - float(the_epoch - DECAY_LR_AFTER) / (N_EPOCHS - DECAY_LR_AFTER)\n",
    "    )\n"
   ]
  },
  {
   "cell_type": "code",
   "execution_count": null,
   "metadata": {},
   "outputs": [],
   "source": [
    "unet_model = u_net.UNet(num_classes=1).to(device)\n",
    "# optimizer = torch.optim.SGD(unet_model.parameters(), lr=LEARNING_RATE, momentum=0.95, nesterov=True, weight_decay=1e-3)\n",
    "optimizer = torch.optim.AdamW(unet_model.parameters(), lr=LEARNING_RATE, betas=(0.95, 0.999), weight_decay=1e-3)"
   ]
  },
  {
   "cell_type": "code",
   "execution_count": null,
   "metadata": {},
   "outputs": [],
   "source": [
    "u_net_trainer = TrainerUNET(net=unet_model, \n",
    "                            optimizer=optimizer, \n",
    "                            progress_dir=EXPERIMENT_DIR, \n",
    "                            train_loader=train_loader, \n",
    "                            valid_loader=valid_loader, \n",
    "                            mask_loader=mask_loader,\n",
    "                            mask_generator=mask_generator,\n",
    "                            image_generator=image_generator,\n",
    "                            TOLERANCE = TOLERANCE,\n",
    "                            minimum_valid_loss = MINIMUM_VALID_LOSS,\n",
    "                            Number_of_fake = Number_of_fake,\n",
    "                            CHECKPOINTS_DIR=EXPERIMENT_DIR, \n",
    "                            device=device,\n",
    "                            early_stopping=False) "
   ]
  },
  {
   "cell_type": "code",
   "execution_count": null,
   "metadata": {
    "scrolled": false
   },
   "outputs": [
    {
     "data": {
      "application/vnd.jupyter.widget-view+json": {
       "model_id": "215d57fab301405c8a7f0205f6c93ebe",
       "version_major": 2,
       "version_minor": 0
      },
      "text/plain": [
       "  0%|          | 0/51 [00:00<?, ?it/s]"
      ]
     },
     "metadata": {},
     "output_type": "display_data"
    },
    {
     "name": "stderr",
     "output_type": "stream",
     "text": [
      "/Users/ivannovikov/Documents/Study/CSMIA/CapitaSelectaCode-main/Machine learning/upsample.py:16: UserWarning: MPS: The constant padding of more than 3 dimensions is not currently supported natively. It uses View Ops default implementation to run. This may have performance implications. (Triggered internally at /Users/runner/work/pytorch/pytorch/pytorch/aten/src/ATen/native/mps/operations/Pad.mm:393.)\n",
      "  out = F.pad(out, [0, 0, 0, up_x - 1, 0, 0, 0, up_y - 1])\n",
      "/opt/homebrew/anaconda3/envs/medim/lib/python3.8/site-packages/torch/nn/functional.py:3958: UserWarning: The operator 'aten::_upsample_bilinear2d_aa.out' is not currently supported on the MPS backend and will fall back to run on the CPU. This may have performance implications. (Triggered internally at /Users/runner/work/pytorch/pytorch/pytorch/aten/src/ATen/mps/MPSFallback.mm:11.)\n",
      "  return torch._C._nn._upsample_bilinear2d_aa(input, output_size, align_corners, scale_factors)\n"
     ]
    }
   ],
   "source": [
    "u_net_trainer.train(N_EPOCHS, 1, lambda_lr=lambda_lr)"
   ]
  },
  {
   "cell_type": "code",
   "execution_count": null,
   "metadata": {},
   "outputs": [
    {
     "name": "stdout",
     "output_type": "stream",
     "text": [
      "best valid loss = 0.36021143198013306\n"
     ]
    },
    {
     "data": {
      "image/png": "[encoded data removed]",
      "text/plain": [
       "<Figure size 640x480 with 1 Axes>"
      ]
     },
     "metadata": {},
     "output_type": "display_data"
    }
   ],
   "source": [
    "plt.plot(range(1, len(u_net_trainer.train_losses[0])+1), u_net_trainer.train_losses[0])\n",
    "plt.plot(range(1, len(u_net_trainer.train_losses[0])+1), u_net_trainer.valid_losses[0])\n",
    "plt.xlabel('Number of epochs')\n",
    "plt.ylabel('DICE BCE loss u_net')\n",
    "plt.ylim([0, 1])\n",
    "plt.legend(['Training set', 'Validation set'])\n",
    "plot_name = 'DICE_BCE_LOSS_'+ str(N_EPOCHS) + '_epochs_' + str(Number_of_fake) + \"_number_of_fake.png\"\n",
    "path = EXPERIMENT_DIR / plot_name\n",
    "\n",
    "print(f\"best valid loss = {min(u_net_trainer.valid_losses[0])}\")\n",
    "np.savetxt(EXPERIMENT_DIR / \"results_train.csv\", u_net_trainer.train_losses[0], delimiter=\",\")\n",
    "np.savetxt(EXPERIMENT_DIR / \"results_valid.csv\", u_net_trainer.valid_losses[0], delimiter=\",\")\n",
    "plt.savefig(path, dpi=200)"
   ]
  },
  {
   "cell_type": "code",
   "execution_count": null,
   "metadata": {},
   "outputs": [],
   "source": []
  }
 ],
 "metadata": {
  "kernelspec": {
   "display_name": "Python 3 (ipykernel)",
   "language": "python",
   "name": "python3"
  },
  "language_info": {
   "codemirror_mode": {
    "name": "ipython",
    "version": 3
   },
   "file_extension": ".py",
   "mimetype": "text/x-python",
   "name": "python",
   "nbconvert_exporter": "python",
   "pygments_lexer": "ipython3",
   "version": "3.10.8"
  }
 },
 "nbformat": 4,
 "nbformat_minor": 2
}
