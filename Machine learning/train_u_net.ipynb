{
 "cells": [
  {
   "cell_type": "code",
   "execution_count": 1,
   "metadata": {},
   "outputs": [
    {
     "name": "stdout",
     "output_type": "stream",
     "text": [
      "cuda\n"
     ]
    }
   ],
   "source": [
    "import torch\n",
    "import matplotlib.pyplot as plt\n",
    "from sklearn.model_selection import train_test_split\n",
    "from pathlib import Path\n",
    "from torch.utils.data import DataLoader\n",
    "\n",
    "device = \"cuda\" if torch.cuda.is_available() else \"cpu\"\n",
    "print(device)"
   ]
  },
  {
   "cell_type": "code",
   "execution_count": 2,
   "metadata": {},
   "outputs": [
    {
     "name": "stdout",
     "output_type": "stream",
     "text": [
      "libs imported\n"
     ]
    }
   ],
   "source": [
    "import importlib\n",
    "try: \n",
    "    importlib.reload(generators)\n",
    "    importlib.reload(utils)\n",
    "    importlib.reload(trainers)\n",
    "    importlib.reload(u_net)\n",
    "    print(\"libs reloaded\")\n",
    "except:\n",
    "    import generators\n",
    "    import trainers\n",
    "    import utils\n",
    "    import u_net\n",
    "    print(\"libs imported\")\n",
    "\n",
    "TrainerUNET = trainers.TrainerUNET"
   ]
  },
  {
   "attachments": {},
   "cell_type": "markdown",
   "metadata": {},
   "source": [
    "# UNET"
   ]
  },
  {
   "cell_type": "code",
   "execution_count": 5,
   "metadata": {},
   "outputs": [
    {
     "ename": "AttributeError",
     "evalue": "'str' object has no attribute '_apply'",
     "output_type": "error",
     "traceback": [
      "\u001b[1;31m---------------------------------------------------------------------------\u001b[0m",
      "\u001b[1;31mAttributeError\u001b[0m                            Traceback (most recent call last)",
      "\u001b[1;32mc:\\Users\\marti\\OneDrive - TU Eindhoven\\Documenten\\Master\\Q3\\Capita Selecta\\Project\\CapitaSelectaCode\\Machine learning\\train_u_net.ipynb Cell 4\u001b[0m in \u001b[0;36m4\n\u001b[0;32m     <a href='vscode-notebook-cell:/c%3A/Users/marti/OneDrive%20-%20TU%20Eindhoven/Documenten/Master/Q3/Capita%20Selecta/Project/CapitaSelectaCode/Machine%20learning/train_u_net.ipynb#W3sZmlsZQ%3D%3D?line=45'>46</a>\u001b[0m mask_generator\u001b[39m.\u001b[39mload_state_dict(torch\u001b[39m.\u001b[39mload(VAEMASK_WEIGHTS))\n\u001b[0;32m     <a href='vscode-notebook-cell:/c%3A/Users/marti/OneDrive%20-%20TU%20Eindhoven/Documenten/Master/Q3/Capita%20Selecta/Project/CapitaSelectaCode/Machine%20learning/train_u_net.ipynb#W3sZmlsZQ%3D%3D?line=46'>47</a>\u001b[0m mask_generator\u001b[39m.\u001b[39meval()\n\u001b[1;32m---> <a href='vscode-notebook-cell:/c%3A/Users/marti/OneDrive%20-%20TU%20Eindhoven/Documenten/Master/Q3/Capita%20Selecta/Project/CapitaSelectaCode/Machine%20learning/train_u_net.ipynb#W3sZmlsZQ%3D%3D?line=48'>49</a>\u001b[0m image_generator \u001b[39m=\u001b[39m generators\u001b[39m.\u001b[39;49mVAEGAN\u001b[39m.\u001b[39;49mto(device)\n\u001b[0;32m     <a href='vscode-notebook-cell:/c%3A/Users/marti/OneDrive%20-%20TU%20Eindhoven/Documenten/Master/Q3/Capita%20Selecta/Project/CapitaSelectaCode/Machine%20learning/train_u_net.ipynb#W3sZmlsZQ%3D%3D?line=49'>50</a>\u001b[0m image_generator\u001b[39m.\u001b[39mload_state_dict(torch\u001b[39m.\u001b[39mload(VAEGAN_WEIGHTS))\n\u001b[0;32m     <a href='vscode-notebook-cell:/c%3A/Users/marti/OneDrive%20-%20TU%20Eindhoven/Documenten/Master/Q3/Capita%20Selecta/Project/CapitaSelectaCode/Machine%20learning/train_u_net.ipynb#W3sZmlsZQ%3D%3D?line=50'>51</a>\u001b[0m image_generator\u001b[39m.\u001b[39meval()\n",
      "File \u001b[1;32mc:\\Users\\marti\\AppData\\Local\\Programs\\Python\\Python310\\lib\\site-packages\\torch\\nn\\modules\\module.py:987\u001b[0m, in \u001b[0;36mModule.to\u001b[1;34m(self, *args, **kwargs)\u001b[0m\n\u001b[0;32m    983\u001b[0m         \u001b[39mreturn\u001b[39;00m t\u001b[39m.\u001b[39mto(device, dtype \u001b[39mif\u001b[39;00m t\u001b[39m.\u001b[39mis_floating_point() \u001b[39mor\u001b[39;00m t\u001b[39m.\u001b[39mis_complex() \u001b[39melse\u001b[39;00m \u001b[39mNone\u001b[39;00m,\n\u001b[0;32m    984\u001b[0m                     non_blocking, memory_format\u001b[39m=\u001b[39mconvert_to_format)\n\u001b[0;32m    985\u001b[0m     \u001b[39mreturn\u001b[39;00m t\u001b[39m.\u001b[39mto(device, dtype \u001b[39mif\u001b[39;00m t\u001b[39m.\u001b[39mis_floating_point() \u001b[39mor\u001b[39;00m t\u001b[39m.\u001b[39mis_complex() \u001b[39melse\u001b[39;00m \u001b[39mNone\u001b[39;00m, non_blocking)\n\u001b[1;32m--> 987\u001b[0m \u001b[39mreturn\u001b[39;00m \u001b[39mself\u001b[39;49m\u001b[39m.\u001b[39;49m_apply(convert)\n",
      "\u001b[1;31mAttributeError\u001b[0m: 'str' object has no attribute '_apply'"
     ]
    }
   ],
   "source": [
    "# directorys with data and to store training checkpoints and logs\n",
    "WORKING_DIR = Path(r\"C:\\Users\\marti\\OneDrive - TU Eindhoven\\Documenten\\Master\\Q3\\Capita Selecta\\Project\")\n",
    "DATA_DIR = WORKING_DIR / \"Data\"\n",
    "PROGRESS_DIR = WORKING_DIR / \"progress_unet\"\n",
    "PROGRESS_DIR.mkdir(parents=True, exist_ok=True)\n",
    "VAEMASK_WEIGHTS = WORKING_DIR / \"progress_vaemask\" / \"200_epochs_16_zdim_final\" / \"model.pth\"\n",
    "VAEGAN_WEIGHTS = WORKING_DIR / \"progress_vaegan\" / \"200_epochs_256_zdim_final\" / \"model.pth\"\n",
    "\n",
    "# training settings and hyperparameters\n",
    "NO_VALIDATION_PATIENTS = 3\n",
    "IMAGE_SIZE = [64, 64]  # images are made smaller to save training time\n",
    "N = 15\n",
    "train_size = N-NO_VALIDATION_PATIENTS\n",
    "seed = 0\n",
    "N_EPOCHS = 100\n",
    "DECAY_LR_AFTER = 50\n",
    "LEARNING_RATE = 1e-4\n",
    "TOLERANCE = 0.01  # for early stopping\n",
    "DISPLAY_FREQ = 5\n",
    "Number_of_fake  = 24\n",
    "BATCH_SIZE = 32 - Number_of_fake\n",
    "BATCH_SIZE_VALID = 32\n",
    "EARLY_STOPPING = True\n",
    "MINIMUM_VALID_LOSS = 10\n",
    "exp = str(N_EPOCHS) + '_epochs_' + str(Number_of_fake) + \"_number_of_fake\"\n",
    "EXPERIMENT_DIR = PROGRESS_DIR / exp\n",
    "EXPERIMENT_DIR.mkdir(parents=True, exist_ok=True)\n",
    "\n",
    "utils.remove_empty_masks(DATA_DIR)\n",
    "\n",
    "patients = [\n",
    "    path\n",
    "    for path in DATA_DIR.glob(\"*\")\n",
    "    if not any(part.startswith(\".\") for part in path.parts)\n",
    "]\n",
    "\n",
    "train_indx, valid_indx = train_test_split(patients, random_state=seed, train_size=train_size)\n",
    "\n",
    "# split in training/validation after shuffling\n",
    "partition = {\n",
    "    \"train\": train_indx,\n",
    "    \"validation\": valid_indx,\n",
    "}\n",
    "\n",
    "mask_generator = generators.VAE(spade=False).to(device)\n",
    "mask_generator.load_state_dict(torch.load(VAEMASK_WEIGHTS))\n",
    "mask_generator.eval()\n",
    "\n",
    "image_generator = generators.VAEGAN(spade=True).to(device)\n",
    "image_generator.load_state_dict(torch.load(VAEGAN_WEIGHTS))\n",
    "image_generator.eval()\n",
    "\n",
    "# load training data and create DataLoader with batching and shuffling\n",
    "train_set = utils.ProstateMRDataset(partition[\"train\"], IMAGE_SIZE)\n",
    "train_loader = DataLoader(\n",
    "    train_set,\n",
    "    batch_size=BATCH_SIZE,\n",
    "    shuffle=True,\n",
    "    drop_last=True,\n",
    "    pin_memory=True,\n",
    ")\n",
    "\n",
    "# load validation data\n",
    "valid_set = utils.ProstateMRDataset(partition[\"validation\"], IMAGE_SIZE)\n",
    "valid_loader = DataLoader(\n",
    "    valid_set,\n",
    "    batch_size=BATCH_SIZE_VALID,\n",
    "    shuffle=True,\n",
    "    drop_last=True,\n",
    "    pin_memory=True,\n",
    ")\n",
    "\n",
    "mask_set = utils.ProstateMRDataset(partition[\"train\"], IMAGE_SIZE, empty_masks=True)\n",
    "mask_loader = DataLoader(\n",
    "    valid_set,\n",
    "    batch_size=BATCH_SIZE_VALID,\n",
    "    shuffle=True,\n",
    "    drop_last=True,\n",
    "    pin_memory=True,\n",
    ")\n",
    "\n",
    "def lambda_lr(the_epoch):\n",
    "    return (\n",
    "        1.0\n",
    "        if the_epoch < DECAY_LR_AFTER\n",
    "        else 1 - float(the_epoch - DECAY_LR_AFTER) / (N_EPOCHS - DECAY_LR_AFTER)\n",
    "    )\n",
    "\n",
    "# initialise model, optimiser, and loss function\n",
    "unet_model = u_net.UNet(num_classes=1).to(device)\n",
    "optimizer = torch.optim.Adam(unet_model.parameters(), lr=LEARNING_RATE)\n",
    "\n",
    "u_net_trainer = TrainerUNET(net=unet_model, \n",
    "                            optimizer=optimizer, \n",
    "                            progress_dir=EXPERIMENT_DIR, \n",
    "                            train_loader=train_loader, \n",
    "                            valid_loader=valid_loader, \n",
    "                            mask_loader=mask_loader,\n",
    "                            mask_generator=mask_generator,\n",
    "                            image_generator=image_generator,\n",
    "                            TOLERANCE = TOLERANCE,\n",
    "                            minimum_valid_loss = MINIMUM_VALID_LOSS,\n",
    "                            Number_of_fake = Number_of_fake,\n",
    "                            CHECKPOINTS_DIR=EXPERIMENT_DIR, \n",
    "                            device=device,\n",
    "                            early_stopping=EARLY_STOPPING) "
   ]
  },
  {
   "cell_type": "code",
   "execution_count": null,
   "metadata": {},
   "outputs": [],
   "source": [
    "u_net_trainer.train(N_EPOCHS, 1, lambda_lr=lambda_lr)"
   ]
  },
  {
   "cell_type": "code",
   "execution_count": null,
   "metadata": {},
   "outputs": [],
   "source": [
    "plt.plot(range(1, len(u_net_trainer.train_losses[0])+1), u_net_trainer.train_losses[0])\n",
    "plt.plot(range(1, len(u_net_trainer.train_losses[0])+1), u_net_trainer.valid_losses[0])\n",
    "plt.xlabel('Number of epochs')\n",
    "plt.ylabel('DICE BCE loss u_net')\n",
    "plt.legend(['Training set', 'Validation set'])\n",
    "plot_name = 'DICE_BCE_LOSS_'+ str(N_EPOCHS) + '_epochs_' + str(Number_of_fake) + \"_number_of_fake.png\"\n",
    "path = EXPERIMENT_DIR / plot_name\n",
    "\n",
    "plt.savefig(path, dpi=200)"
   ]
  }
 ],
 "metadata": {
  "kernelspec": {
   "display_name": "Python 3 (ipykernel)",
   "language": "python",
   "name": "python3"
  },
  "language_info": {
   "codemirror_mode": {
    "name": "ipython",
    "version": 3
   },
   "file_extension": ".py",
   "mimetype": "text/x-python",
   "name": "python",
   "nbconvert_exporter": "python",
   "pygments_lexer": "ipython3",
   "version": "3.10.8"
  }
 },
 "nbformat": 4,
 "nbformat_minor": 2
}
