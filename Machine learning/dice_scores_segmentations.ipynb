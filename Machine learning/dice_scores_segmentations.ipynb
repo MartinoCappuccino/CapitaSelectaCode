{
 "cells": [
  {
   "cell_type": "code",
   "execution_count": 6,
   "id": "bc760fc6",
   "metadata": {},
   "outputs": [
    {
     "data": {
      "text/plain": [
       "'cuda'"
      ]
     },
     "execution_count": 6,
     "metadata": {},
     "output_type": "execute_result"
    }
   ],
   "source": [
    "# -*- coding: utf-8 -*-\n",
    "\"\"\"\n",
    "Created on Wed Mar 29 11:04:41 2023\n",
    "@author: 20192757\n",
    "\"\"\"\n",
    "import random\n",
    "from pathlib import Path\n",
    "\n",
    "import numpy as np\n",
    "import torch\n",
    "import matplotlib.pyplot as plt\n",
    "from torch.utils.data import DataLoader\n",
    "from scipy.spatial.distance import directed_hausdorff\n",
    "from tqdm.auto import tqdm\n",
    "import torch.nn.functional\n",
    "\n",
    "device = \"cuda\" if torch.cuda.is_available() else \"cpu\"\n",
    "device"
   ]
  },
  {
   "cell_type": "code",
   "execution_count": 3,
   "id": "2e99e0b4",
   "metadata": {},
   "outputs": [
    {
     "name": "stdout",
     "output_type": "stream",
     "text": [
      "libs imported\n"
     ]
    }
   ],
   "source": [
    "import importlib\n",
    "try: \n",
    "    importlib.reload(generators)\n",
    "    importlib.reload(utils)\n",
    "    importlib.reload(trainers)\n",
    "    importlib.reload(u_net)\n",
    "    print(\"libs reloaded\")\n",
    "except:\n",
    "    import generators\n",
    "    import trainers\n",
    "    import utils\n",
    "    import u_net\n",
    "    print(\"libs imported\")"
   ]
  },
  {
   "cell_type": "code",
   "execution_count": 4,
   "id": "b5adf01b",
   "metadata": {},
   "outputs": [],
   "source": [
    "def dice_score(x, y, eps=1e-5):\n",
    "    return (2*(x*y).sum()+eps) / ((x+y).sum()+eps)\n",
    "\n",
    "\n",
    "device = \"cuda\" if torch.cuda.is_available() else \"cpu\"\n",
    "\n",
    "# to ensure reproducible training/validation split\n",
    "random.seed(42) \n",
    "\n",
    "# directorys with data and to stored training checkpoints\n",
    "WORKING_DIR = Path(r\"C:\\Users\\20182371\\Documents\\TUe\\8DM20_CS_Medical_Imaging\\DeepLearning_Project\")\n",
    "\n",
    "DATA_DIR = WORKING_DIR / \"TrainingData\" \n",
    "CHECKPOINTS_DIR = Path.cwd() / \"segmentation_model_weights\" \n",
    "\n",
    " # hyperparameters\n",
    "NO_VALIDATION_PATIENTS = 3\n",
    "IMAGE_SIZE = [64, 64]\n",
    "\n",
    "# find patient folders in training directory\n",
    "# excluding hidden folders (start with .)\n",
    "patients = [\n",
    "    path\n",
    "    for path in DATA_DIR.glob(\"*\")\n",
    "    if not any(part.startswith(\".\") for part in path.parts)\n",
    "    ]\n",
    "\n",
    "train_split = []\n",
    "validation_split = []\n",
    "\n",
    "for i in patients:\n",
    "    if 'p107' in str(i):\n",
    "        validation_split.append(i)\n",
    "    elif 'p117' in str(i): \n",
    "        validation_split.append(i)\n",
    "    elif 'p120' in str(i):\n",
    "        validation_split.append(i)\n",
    "    else:\n",
    "        train_split.append(i)\n",
    "\n",
    "# print(train_split)\n",
    "# print(validation_split)\n",
    "\n",
    "# split in training/validation after shuffling\n",
    "partition = {\n",
    "    \"train\": train_split,\n",
    "    \"validation\": validation_split,\n",
    "    }\n",
    "\n",
    "# load validation data\n",
    "valid_dataset = utils.ProstateMRDataset(partition[\"validation\"], IMAGE_SIZE)\n",
    "valid_dataloader = DataLoader(valid_dataset, batch_size=1)"
   ]
  },
  {
   "cell_type": "markdown",
   "id": "c95d878a",
   "metadata": {},
   "source": [
    "# DICE and HD scores"
   ]
  },
  {
   "cell_type": "code",
   "execution_count": 9,
   "id": "ea3fd839",
   "metadata": {},
   "outputs": [
    {
     "data": {
      "application/vnd.jupyter.widget-view+json": {
       "model_id": "1f9f86b7ee664683830907a1b29a5843",
       "version_major": 2,
       "version_minor": 0
      },
      "text/plain": [
       "  0%|          | 0/258 [00:00<?, ?it/s]"
      ]
     },
     "metadata": {},
     "output_type": "display_data"
    },
    {
     "data": {
      "application/vnd.jupyter.widget-view+json": {
       "model_id": "c3b8069675d148ba9c6c03c50eff1e68",
       "version_major": 2,
       "version_minor": 0
      },
      "text/plain": [
       "  0%|          | 0/258 [00:00<?, ?it/s]"
      ]
     },
     "metadata": {},
     "output_type": "display_data"
    },
    {
     "data": {
      "application/vnd.jupyter.widget-view+json": {
       "model_id": "e8d4e7cd188f45a083996058907eb242",
       "version_major": 2,
       "version_minor": 0
      },
      "text/plain": [
       "  0%|          | 0/258 [00:00<?, ?it/s]"
      ]
     },
     "metadata": {},
     "output_type": "display_data"
    },
    {
     "data": {
      "application/vnd.jupyter.widget-view+json": {
       "model_id": "3679cb8b545541c484359ca4758d7304",
       "version_major": 2,
       "version_minor": 0
      },
      "text/plain": [
       "  0%|          | 0/258 [00:00<?, ?it/s]"
      ]
     },
     "metadata": {},
     "output_type": "display_data"
    },
    {
     "data": {
      "application/vnd.jupyter.widget-view+json": {
       "model_id": "987e7c2379dc4fd1a6de1332ef1af3c6",
       "version_major": 2,
       "version_minor": 0
      },
      "text/plain": [
       "  0%|          | 0/258 [00:00<?, ?it/s]"
      ]
     },
     "metadata": {},
     "output_type": "display_data"
    },
    {
     "data": {
      "application/vnd.jupyter.widget-view+json": {
       "model_id": "31395adf6544469593c8a10c76a93e79",
       "version_major": 2,
       "version_minor": 0
      },
      "text/plain": [
       "  0%|          | 0/258 [00:00<?, ?it/s]"
      ]
     },
     "metadata": {},
     "output_type": "display_data"
    },
    {
     "data": {
      "application/vnd.jupyter.widget-view+json": {
       "model_id": "873c4820bd1941988b40445cd46041fa",
       "version_major": 2,
       "version_minor": 0
      },
      "text/plain": [
       "  0%|          | 0/258 [00:00<?, ?it/s]"
      ]
     },
     "metadata": {},
     "output_type": "display_data"
    },
    {
     "data": {
      "application/vnd.jupyter.widget-view+json": {
       "model_id": "1751868a676844f6aa7327cc94844f59",
       "version_major": 2,
       "version_minor": 0
      },
      "text/plain": [
       "  0%|          | 0/258 [00:00<?, ?it/s]"
      ]
     },
     "metadata": {},
     "output_type": "display_data"
    },
    {
     "data": {
      "application/vnd.jupyter.widget-view+json": {
       "model_id": "cb446680d33f4479bd86eb2d53295bd7",
       "version_major": 2,
       "version_minor": 0
      },
      "text/plain": [
       "  0%|          | 0/258 [00:00<?, ?it/s]"
      ]
     },
     "metadata": {},
     "output_type": "display_data"
    }
   ],
   "source": [
    "for number_fake in [0,4,8,12,16,20,24,28,32]:\n",
    "\n",
    "    MODEL_DIR = CHECKPOINTS_DIR / \"60_epochs_{x}_number_of_fake\".format(x=number_fake) / \"model.pth\"\n",
    "\n",
    "   \n",
    "\n",
    "    unet_model = u_net.UNet(num_classes=1).to(device)\n",
    "    unet_model.load_state_dict(torch.load(MODEL_DIR, map_location=device))\n",
    "    unet_model.eval()\n",
    "\n",
    "    # TODO\n",
    "    # apply for all images and compute Dice score with ground-truth.\n",
    "    # output .mhd images with the predicted segmentations\n",
    "    with torch.no_grad():\n",
    "        DiceScores = []\n",
    "        HausdorffDist = []\n",
    "        for image, target in tqdm(valid_dataloader):\n",
    "            image = image.to(device)\n",
    "            target = target[:,0:1].to(device)\n",
    "\n",
    "            output = torch.sigmoid(unet_model(image))\n",
    "\n",
    "            prediction = torch.round(output)\n",
    "\n",
    "            dice = dice_score(prediction, target)\n",
    "            #if all(v == 0 for v in target):\n",
    "            DiceScores.append(dice.cpu().numpy())\n",
    "            prediction = torch.nn.functional.interpolate(prediction, size=(333, 271), mode=\"nearest\")\n",
    "            target = torch.nn.functional.interpolate(target, size=(333, 271), mode=\"nearest\")\n",
    "            HausdorffDist.append(directed_hausdorff(prediction[0,0].cpu().numpy(), target[0,0].cpu().numpy())[0])\n",
    "    \n",
    "    RESULT_PATH = Path.cwd() / \"results\" \n",
    "    RESULT_PATH.mkdir(parents=True, exist_ok=True)\n",
    "    with open(RESULT_PATH / \"DICE_{x}.txt\".format(x=number_fake), \"w\") as f:\n",
    "        for s in DiceScores:\n",
    "            f.write(str(s) +\"\\n\")\n",
    "\n",
    "    with open(RESULT_PATH / \"HD_{x}.txt\".format(x=number_fake), \"w\") as f:\n",
    "        for s in HausdorffDist:\n",
    "            f.write(str(s) +\"\\n\")"
   ]
  }
 ],
 "metadata": {
  "kernelspec": {
   "display_name": "Python 3 (ipykernel)",
   "language": "python",
   "name": "python3"
  },
  "language_info": {
   "codemirror_mode": {
    "name": "ipython",
    "version": 3
   },
   "file_extension": ".py",
   "mimetype": "text/x-python",
   "name": "python",
   "nbconvert_exporter": "python",
   "pygments_lexer": "ipython3",
   "version": "3.10.6"
  }
 },
 "nbformat": 4,
 "nbformat_minor": 5
}
