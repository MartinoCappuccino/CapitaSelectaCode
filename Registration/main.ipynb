{
 "cells": [
  {
   "cell_type": "code",
   "execution_count": 1,
   "metadata": {},
   "outputs": [],
   "source": [
    "import matplotlib.pyplot as plt \n",
    "import SimpleITK as sitk \n",
    "import os\n",
    "from misc import Config\n",
    "from model import *\n",
    "%matplotlib qt\n",
    "os.pathsep = \"/\""
   ]
  },
  {
   "cell_type": "code",
   "execution_count": 2,
   "metadata": {},
   "outputs": [],
   "source": [
    "ELASTIX_PATH = os.path.join('C:\\\\Users\\\\20192024\\\\OneDrive - TU Eindhoven\\\\Documents\\\\Y4\\\\Q3\\\\Capita Selecta in Medical Image Analysis\\\\myfolder\\\\elastix.exe')\n",
    "TRANSFORMIX_PATH = os.path.join('C:\\\\Users\\\\20192024\\\\OneDrive - TU Eindhoven\\\\Documents\\\\Y4\\\\Q3\\\\Capita Selecta in Medical Image Analysis\\\\myfolder\\\\transformix.exe')\n",
    "FOLDER_RAW = os.path.join('C:\\Users\\20192024\\OneDrive - TU Eindhoven\\Documents\\Y4\\Q3\\Capita Selecta in Medical Image Analysis\\Project\\Nieuw\\TrainingData')\n",
    "FOLDER_PREPROCESSED = os.path.join('C:\\Users\\20192024\\OneDrive - TU Eindhoven\\Documents\\Y4\\Q3\\Capita Selecta in Medical Image Analysis\\Project\\Nieuw\\DataPreprocessed')\n",
    "FOLDER_PARAMETERS = os.path.join('C:\\Users\\20192024\\OneDrive - TU Eindhoven\\Documents\\Y4\\Q3\\Capita Selecta in Medical Image Analysis\\Project\\Nieuw\\parameters\\experiment1')\n",
    "FOLDER_RESULTS = os.path.join('C:\\Users\\20192024\\OneDrive - TU Eindhoven\\Documents\\Y4\\Q3\\Capita Selecta in Medical Image Analysis\\Project\\Nieuw\\results')"
   ]
  },
  {
   "cell_type": "code",
   "execution_count": 3,
   "metadata": {},
   "outputs": [],
   "source": [
    "config = Config(\n",
    "    folder_raw = FOLDER_RAW, \n",
    "    folder_preprocessed = FOLDER_PREPROCESSED,\n",
    "    parameter_folder = FOLDER_PARAMETERS,\n",
    "    parameters = [\"Par0001translation.txt\", \"Par0001affine.txt\", \"Par0001bspline04.txt\"],\n",
    "    folder_results = FOLDER_RESULTS,\n",
    "    seed = 0,\n",
    "    train_size = 12,\n",
    ")"
   ]
  },
  {
   "cell_type": "code",
   "execution_count": 4,
   "metadata": {},
   "outputs": [],
   "source": [
    "model = Model(\n",
    "    config = config,\n",
    "    elastix_path = ELASTIX_PATH,\n",
    "    transformix_path = TRANSFORMIX_PATH,\n",
    ")"
   ]
  },
  {
   "cell_type": "code",
   "execution_count": 5,
   "metadata": {},
   "outputs": [
    {
     "name": "stderr",
     "output_type": "stream",
     "text": [
      "Loading Data: 100%|██████████| 15/15 [00:04<00:00,  3.37it/s]\n"
     ]
    }
   ],
   "source": [
    "model.load()"
   ]
  },
  {
   "cell_type": "code",
   "execution_count": 6,
   "metadata": {},
   "outputs": [
    {
     "name": "stderr",
     "output_type": "stream",
     "text": [
      "Saving Preprocessed Data: 100%|██████████| 15/15 [00:07<00:00,  2.07it/s]\n"
     ]
    }
   ],
   "source": [
    "model.preprocess_and_save(downscale_factor=1, normalize=\"none\")"
   ]
  },
  {
   "cell_type": "code",
   "execution_count": 7,
   "metadata": {},
   "outputs": [
    {
     "name": "stdout",
     "output_type": "stream",
     "text": [
      "Running with parameters ['Par0001translation.txt', 'Par0001affine.txt', 'Par0001bspline04.txt']\n"
     ]
    },
    {
     "name": "stderr",
     "output_type": "stream",
     "text": [
      "  0%|          | 0/3 [00:00<?, ?it/s]"
     ]
    },
    {
     "name": "stdout",
     "output_type": "stream",
     "text": [
      "../../elastix/elastix.exe -f ../../Project/DataPreProcessed\\p107\\mr_bffe.mhd -m ../../Project/DataPreProcessed\\p125\\mr_bffe.mhd -p ../../Project/parameters\\Par0001translation.txt -p ../../Project/parameters\\Par0001affine.txt -p ../../Project/parameters\\Par0001bspline04.txt -out ../../Project/results\\23-03-04_17-22-02\\p107\\p125\n",
      "../../elastix/elastix.exe -f ../../Project/DataPreProcessed\\p107\\mr_bffe.mhd -m ../../Project/DataPreProcessed\\p135\\mr_bffe.mhd -p ../../Project/parameters\\Par0001translation.txt -p ../../Project/parameters\\Par0001affine.txt -p ../../Project/parameters\\Par0001bspline04.txt -out ../../Project/results\\23-03-04_17-22-02\\p107\\p135\n",
      "../../elastix/elastix.exe -f ../../Project/DataPreProcessed\\p107\\mr_bffe.mhd -m ../../Project/DataPreProcessed\\p115\\mr_bffe.mhd -p ../../Project/parameters\\Par0001translation.txt -p ../../Project/parameters\\Par0001affine.txt -p ../../Project/parameters\\Par0001bspline04.txt -out ../../Project/results\\23-03-04_17-22-02\\p107\\p115\n",
      "../../elastix/elastix.exe -f ../../Project/DataPreProcessed\\p107\\mr_bffe.mhd -m ../../Project/DataPreProcessed\\p108\\mr_bffe.mhd -p ../../Project/parameters\\Par0001translation.txt -p ../../Project/parameters\\Par0001affine.txt -p ../../Project/parameters\\Par0001bspline04.txt -out ../../Project/results\\23-03-04_17-22-02\\p107\\p108\n",
      "../../elastix/elastix.exe -f ../../Project/DataPreProcessed\\p107\\mr_bffe.mhd -m ../../Project/DataPreProcessed\\p133\\mr_bffe.mhd -p ../../Project/parameters\\Par0001translation.txt -p ../../Project/parameters\\Par0001affine.txt -p ../../Project/parameters\\Par0001bspline04.txt -out ../../Project/results\\23-03-04_17-22-02\\p107\\p133\n",
      "../../elastix/elastix.exe -f ../../Project/DataPreProcessed\\p107\\mr_bffe.mhd -m ../../Project/DataPreProcessed\\p127\\mr_bffe.mhd -p ../../Project/parameters\\Par0001translation.txt -p ../../Project/parameters\\Par0001affine.txt -p ../../Project/parameters\\Par0001bspline04.txt -out ../../Project/results\\23-03-04_17-22-02\\p107\\p127\n",
      "../../elastix/elastix.exe -f ../../Project/DataPreProcessed\\p107\\mr_bffe.mhd -m ../../Project/DataPreProcessed\\p119\\mr_bffe.mhd -p ../../Project/parameters\\Par0001translation.txt -p ../../Project/parameters\\Par0001affine.txt -p ../../Project/parameters\\Par0001bspline04.txt -out ../../Project/results\\23-03-04_17-22-02\\p107\\p119\n",
      "../../elastix/elastix.exe -f ../../Project/DataPreProcessed\\p107\\mr_bffe.mhd -m ../../Project/DataPreProcessed\\p128\\mr_bffe.mhd -p ../../Project/parameters\\Par0001translation.txt -p ../../Project/parameters\\Par0001affine.txt -p ../../Project/parameters\\Par0001bspline04.txt -out ../../Project/results\\23-03-04_17-22-02\\p107\\p128\n",
      "../../elastix/elastix.exe -f ../../Project/DataPreProcessed\\p107\\mr_bffe.mhd -m ../../Project/DataPreProcessed\\p109\\mr_bffe.mhd -p ../../Project/parameters\\Par0001translation.txt -p ../../Project/parameters\\Par0001affine.txt -p ../../Project/parameters\\Par0001bspline04.txt -out ../../Project/results\\23-03-04_17-22-02\\p107\\p109\n",
      "../../elastix/elastix.exe -f ../../Project/DataPreProcessed\\p107\\mr_bffe.mhd -m ../../Project/DataPreProcessed\\p102\\mr_bffe.mhd -p ../../Project/parameters\\Par0001translation.txt -p ../../Project/parameters\\Par0001affine.txt -p ../../Project/parameters\\Par0001bspline04.txt -out ../../Project/results\\23-03-04_17-22-02\\p107\\p102\n",
      "../../elastix/elastix.exe -f ../../Project/DataPreProcessed\\p107\\mr_bffe.mhd -m ../../Project/DataPreProcessed\\p116\\mr_bffe.mhd -p ../../Project/parameters\\Par0001translation.txt -p ../../Project/parameters\\Par0001affine.txt -p ../../Project/parameters\\Par0001bspline04.txt -out ../../Project/results\\23-03-04_17-22-02\\p107\\p116\n",
      "../../elastix/elastix.exe -f ../../Project/DataPreProcessed\\p107\\mr_bffe.mhd -m ../../Project/DataPreProcessed\\p129\\mr_bffe.mhd -p ../../Project/parameters\\Par0001translation.txt -p ../../Project/parameters\\Par0001affine.txt -p ../../Project/parameters\\Par0001bspline04.txt -out ../../Project/results\\23-03-04_17-22-02\\p107\\p129\n"
     ]
    },
    {
     "name": "stderr",
     "output_type": "stream",
     "text": [
      " 33%|███▎      | 1/3 [36:05<1:12:11, 2165.70s/it]"
     ]
    },
    {
     "name": "stdout",
     "output_type": "stream",
     "text": [
      "../../elastix/elastix.exe -f ../../Project/DataPreProcessed\\p117\\mr_bffe.mhd -m ../../Project/DataPreProcessed\\p125\\mr_bffe.mhd -p ../../Project/parameters\\Par0001translation.txt -p ../../Project/parameters\\Par0001affine.txt -p ../../Project/parameters\\Par0001bspline04.txt -out ../../Project/results\\23-03-04_17-22-02\\p117\\p125\n",
      "../../elastix/elastix.exe -f ../../Project/DataPreProcessed\\p117\\mr_bffe.mhd -m ../../Project/DataPreProcessed\\p135\\mr_bffe.mhd -p ../../Project/parameters\\Par0001translation.txt -p ../../Project/parameters\\Par0001affine.txt -p ../../Project/parameters\\Par0001bspline04.txt -out ../../Project/results\\23-03-04_17-22-02\\p117\\p135\n",
      "../../elastix/elastix.exe -f ../../Project/DataPreProcessed\\p117\\mr_bffe.mhd -m ../../Project/DataPreProcessed\\p115\\mr_bffe.mhd -p ../../Project/parameters\\Par0001translation.txt -p ../../Project/parameters\\Par0001affine.txt -p ../../Project/parameters\\Par0001bspline04.txt -out ../../Project/results\\23-03-04_17-22-02\\p117\\p115\n",
      "../../elastix/elastix.exe -f ../../Project/DataPreProcessed\\p117\\mr_bffe.mhd -m ../../Project/DataPreProcessed\\p108\\mr_bffe.mhd -p ../../Project/parameters\\Par0001translation.txt -p ../../Project/parameters\\Par0001affine.txt -p ../../Project/parameters\\Par0001bspline04.txt -out ../../Project/results\\23-03-04_17-22-02\\p117\\p108\n",
      "../../elastix/elastix.exe -f ../../Project/DataPreProcessed\\p117\\mr_bffe.mhd -m ../../Project/DataPreProcessed\\p133\\mr_bffe.mhd -p ../../Project/parameters\\Par0001translation.txt -p ../../Project/parameters\\Par0001affine.txt -p ../../Project/parameters\\Par0001bspline04.txt -out ../../Project/results\\23-03-04_17-22-02\\p117\\p133\n",
      "../../elastix/elastix.exe -f ../../Project/DataPreProcessed\\p117\\mr_bffe.mhd -m ../../Project/DataPreProcessed\\p127\\mr_bffe.mhd -p ../../Project/parameters\\Par0001translation.txt -p ../../Project/parameters\\Par0001affine.txt -p ../../Project/parameters\\Par0001bspline04.txt -out ../../Project/results\\23-03-04_17-22-02\\p117\\p127\n",
      "../../elastix/elastix.exe -f ../../Project/DataPreProcessed\\p117\\mr_bffe.mhd -m ../../Project/DataPreProcessed\\p119\\mr_bffe.mhd -p ../../Project/parameters\\Par0001translation.txt -p ../../Project/parameters\\Par0001affine.txt -p ../../Project/parameters\\Par0001bspline04.txt -out ../../Project/results\\23-03-04_17-22-02\\p117\\p119\n",
      "../../elastix/elastix.exe -f ../../Project/DataPreProcessed\\p117\\mr_bffe.mhd -m ../../Project/DataPreProcessed\\p128\\mr_bffe.mhd -p ../../Project/parameters\\Par0001translation.txt -p ../../Project/parameters\\Par0001affine.txt -p ../../Project/parameters\\Par0001bspline04.txt -out ../../Project/results\\23-03-04_17-22-02\\p117\\p128\n",
      "../../elastix/elastix.exe -f ../../Project/DataPreProcessed\\p117\\mr_bffe.mhd -m ../../Project/DataPreProcessed\\p109\\mr_bffe.mhd -p ../../Project/parameters\\Par0001translation.txt -p ../../Project/parameters\\Par0001affine.txt -p ../../Project/parameters\\Par0001bspline04.txt -out ../../Project/results\\23-03-04_17-22-02\\p117\\p109\n",
      "../../elastix/elastix.exe -f ../../Project/DataPreProcessed\\p117\\mr_bffe.mhd -m ../../Project/DataPreProcessed\\p102\\mr_bffe.mhd -p ../../Project/parameters\\Par0001translation.txt -p ../../Project/parameters\\Par0001affine.txt -p ../../Project/parameters\\Par0001bspline04.txt -out ../../Project/results\\23-03-04_17-22-02\\p117\\p102\n",
      "../../elastix/elastix.exe -f ../../Project/DataPreProcessed\\p117\\mr_bffe.mhd -m ../../Project/DataPreProcessed\\p116\\mr_bffe.mhd -p ../../Project/parameters\\Par0001translation.txt -p ../../Project/parameters\\Par0001affine.txt -p ../../Project/parameters\\Par0001bspline04.txt -out ../../Project/results\\23-03-04_17-22-02\\p117\\p116\n",
      "../../elastix/elastix.exe -f ../../Project/DataPreProcessed\\p117\\mr_bffe.mhd -m ../../Project/DataPreProcessed\\p129\\mr_bffe.mhd -p ../../Project/parameters\\Par0001translation.txt -p ../../Project/parameters\\Par0001affine.txt -p ../../Project/parameters\\Par0001bspline04.txt -out ../../Project/results\\23-03-04_17-22-02\\p117\\p129\n"
     ]
    },
    {
     "name": "stderr",
     "output_type": "stream",
     "text": [
      " 67%|██████▋   | 2/3 [1:12:25<36:14, 2174.09s/it]"
     ]
    },
    {
     "name": "stdout",
     "output_type": "stream",
     "text": [
      "../../elastix/elastix.exe -f ../../Project/DataPreProcessed\\p120\\mr_bffe.mhd -m ../../Project/DataPreProcessed\\p125\\mr_bffe.mhd -p ../../Project/parameters\\Par0001translation.txt -p ../../Project/parameters\\Par0001affine.txt -p ../../Project/parameters\\Par0001bspline04.txt -out ../../Project/results\\23-03-04_17-22-02\\p120\\p125\n",
      "../../elastix/elastix.exe -f ../../Project/DataPreProcessed\\p120\\mr_bffe.mhd -m ../../Project/DataPreProcessed\\p135\\mr_bffe.mhd -p ../../Project/parameters\\Par0001translation.txt -p ../../Project/parameters\\Par0001affine.txt -p ../../Project/parameters\\Par0001bspline04.txt -out ../../Project/results\\23-03-04_17-22-02\\p120\\p135\n",
      "../../elastix/elastix.exe -f ../../Project/DataPreProcessed\\p120\\mr_bffe.mhd -m ../../Project/DataPreProcessed\\p115\\mr_bffe.mhd -p ../../Project/parameters\\Par0001translation.txt -p ../../Project/parameters\\Par0001affine.txt -p ../../Project/parameters\\Par0001bspline04.txt -out ../../Project/results\\23-03-04_17-22-02\\p120\\p115\n",
      "../../elastix/elastix.exe -f ../../Project/DataPreProcessed\\p120\\mr_bffe.mhd -m ../../Project/DataPreProcessed\\p108\\mr_bffe.mhd -p ../../Project/parameters\\Par0001translation.txt -p ../../Project/parameters\\Par0001affine.txt -p ../../Project/parameters\\Par0001bspline04.txt -out ../../Project/results\\23-03-04_17-22-02\\p120\\p108\n",
      "../../elastix/elastix.exe -f ../../Project/DataPreProcessed\\p120\\mr_bffe.mhd -m ../../Project/DataPreProcessed\\p133\\mr_bffe.mhd -p ../../Project/parameters\\Par0001translation.txt -p ../../Project/parameters\\Par0001affine.txt -p ../../Project/parameters\\Par0001bspline04.txt -out ../../Project/results\\23-03-04_17-22-02\\p120\\p133\n",
      "../../elastix/elastix.exe -f ../../Project/DataPreProcessed\\p120\\mr_bffe.mhd -m ../../Project/DataPreProcessed\\p127\\mr_bffe.mhd -p ../../Project/parameters\\Par0001translation.txt -p ../../Project/parameters\\Par0001affine.txt -p ../../Project/parameters\\Par0001bspline04.txt -out ../../Project/results\\23-03-04_17-22-02\\p120\\p127\n",
      "../../elastix/elastix.exe -f ../../Project/DataPreProcessed\\p120\\mr_bffe.mhd -m ../../Project/DataPreProcessed\\p119\\mr_bffe.mhd -p ../../Project/parameters\\Par0001translation.txt -p ../../Project/parameters\\Par0001affine.txt -p ../../Project/parameters\\Par0001bspline04.txt -out ../../Project/results\\23-03-04_17-22-02\\p120\\p119\n",
      "../../elastix/elastix.exe -f ../../Project/DataPreProcessed\\p120\\mr_bffe.mhd -m ../../Project/DataPreProcessed\\p128\\mr_bffe.mhd -p ../../Project/parameters\\Par0001translation.txt -p ../../Project/parameters\\Par0001affine.txt -p ../../Project/parameters\\Par0001bspline04.txt -out ../../Project/results\\23-03-04_17-22-02\\p120\\p128\n",
      "../../elastix/elastix.exe -f ../../Project/DataPreProcessed\\p120\\mr_bffe.mhd -m ../../Project/DataPreProcessed\\p109\\mr_bffe.mhd -p ../../Project/parameters\\Par0001translation.txt -p ../../Project/parameters\\Par0001affine.txt -p ../../Project/parameters\\Par0001bspline04.txt -out ../../Project/results\\23-03-04_17-22-02\\p120\\p109\n",
      "../../elastix/elastix.exe -f ../../Project/DataPreProcessed\\p120\\mr_bffe.mhd -m ../../Project/DataPreProcessed\\p102\\mr_bffe.mhd -p ../../Project/parameters\\Par0001translation.txt -p ../../Project/parameters\\Par0001affine.txt -p ../../Project/parameters\\Par0001bspline04.txt -out ../../Project/results\\23-03-04_17-22-02\\p120\\p102\n",
      "../../elastix/elastix.exe -f ../../Project/DataPreProcessed\\p120\\mr_bffe.mhd -m ../../Project/DataPreProcessed\\p116\\mr_bffe.mhd -p ../../Project/parameters\\Par0001translation.txt -p ../../Project/parameters\\Par0001affine.txt -p ../../Project/parameters\\Par0001bspline04.txt -out ../../Project/results\\23-03-04_17-22-02\\p120\\p116\n",
      "../../elastix/elastix.exe -f ../../Project/DataPreProcessed\\p120\\mr_bffe.mhd -m ../../Project/DataPreProcessed\\p129\\mr_bffe.mhd -p ../../Project/parameters\\Par0001translation.txt -p ../../Project/parameters\\Par0001affine.txt -p ../../Project/parameters\\Par0001bspline04.txt -out ../../Project/results\\23-03-04_17-22-02\\p120\\p129\n"
     ]
    },
    {
     "name": "stderr",
     "output_type": "stream",
     "text": [
      "100%|██████████| 3/3 [1:45:17<00:00, 2105.91s/it]\n"
     ]
    }
   ],
   "source": [
    "model.run_registration()"
   ]
  },
  {
   "cell_type": "code",
   "execution_count": 8,
   "metadata": {},
   "outputs": [
    {
     "name": "stdout",
     "output_type": "stream",
     "text": [
      "Running for parameters ['Par0001translation.txt', 'Par0001affine.txt', 'Par0001bspline04.txt']\n"
     ]
    },
    {
     "name": "stderr",
     "output_type": "stream",
     "text": [
      "100%|██████████| 3/3 [01:17<00:00, 25.69s/it]\n"
     ]
    }
   ],
   "source": [
    "model.threshold_staple = 0.95\n",
    "model.calculate_scores()"
   ]
  },
  {
   "cell_type": "code",
   "execution_count": 9,
   "metadata": {},
   "outputs": [
    {
     "data": {
      "text/plain": [
       "{('p107', 'p125'): [0.7644906787840685,\n",
       "  140.17575247947383,\n",
       "  102.73605210104878],\n",
       " ('p107', 'p135'): [0.7730004840765395,\n",
       "  137.19435638048037,\n",
       "  103.08248772230986],\n",
       " ('p107', 'p115'): [0.7514769027376604, 142.6647624789625, 105.41162416005895],\n",
       " ('p107', 'p108'): [0.631564335362137, 140.49727486365376, 104.40510815376855],\n",
       " ('p107', 'p133'): [0.7700041029485496, 139.2605263041246, 101.69201297752295],\n",
       " ('p107', 'p127'): [0.6765589910282432, 153.288836142242, 110.24592734927955],\n",
       " ('p107', 'p119'): [0.700317787160783, 141.10561343334314, 103.31771783600452],\n",
       " ('p107', 'p128'): [0.7539153715890491, 141.5422180863597, 105.27294772375855],\n",
       " ('p107', 'p109'): [0.6775974272476092,\n",
       "  145.13612186795015,\n",
       "  105.87197148530764],\n",
       " ('p107', 'p102'): [0.5623944481341301, 133.94636305983104, 99.77468668010788],\n",
       " ('p107', 'p116'): [0.7813913917617036, 141.9568719387782, 103.45934301281905],\n",
       " ('p107', 'p129'): [0.7064149364836411,\n",
       "  142.55838929915325,\n",
       "  103.47905932095848],\n",
       " ('p107', 'STAPLE'): [0.765484082151455,\n",
       "  141.54341156946126,\n",
       "  102.95830347126548],\n",
       " ('p117', 'p125'): [0.4349446027480443, 150.434501126381, 107.01017673623592],\n",
       " ('p117', 'p135'): [0.6248017874320844,\n",
       "  137.33133544911118,\n",
       "  101.81728410502504],\n",
       " ('p117', 'p115'): [0.7955383105456245, 139.6115785018233, 102.10367971721256],\n",
       " ('p117', 'p108'): [0.41947325250445033,\n",
       "  146.96763285535295,\n",
       "  109.34577901783958],\n",
       " ('p117', 'p133'): [0.7178210583988702,\n",
       "  146.18100135221005,\n",
       "  104.87747797454332],\n",
       " ('p117', 'p127'): [0.2896446494194994, 146.86457109163135, 105.3263076890313],\n",
       " ('p117', 'p119'): [0.5442174823669327, 146.1803752711919, 105.24032766836127],\n",
       " ('p117', 'p128'): [0.476495957280033, 143.2335366540498, 107.3105636847937],\n",
       " ('p117', 'p109'): [0.568880722243977, 150.65261485236803, 110.8208577225475],\n",
       " ('p117', 'p102'): [0.7268893697341395, 144.42854969799322, 104.8884542291663],\n",
       " ('p117', 'p116'): [0.46468160746735326, 150.37161593819215, 108.701359914532],\n",
       " ('p117', 'p129'): [0.35142729698849373,\n",
       "  148.18422425974538,\n",
       "  107.76861888054985],\n",
       " ('p117', 'STAPLE'): [0.5181707455172477,\n",
       "  144.9555977285836,\n",
       "  104.07335049881053],\n",
       " ('p120', 'p125'): [0.7485535860353505, 143.6055947865274, 104.40896319579126],\n",
       " ('p120', 'p135'): [0.7471688526444046,\n",
       "  135.94799191396174,\n",
       "  103.29175247918056],\n",
       " ('p120', 'p115'): [0.5201098891236411,\n",
       "  138.67444112712275,\n",
       "  103.70721382712776],\n",
       " ('p120', 'p108'): [0.6368089165617064,\n",
       "  136.27690486088966,\n",
       "  102.22224878798387],\n",
       " ('p120', 'p133'): [0.7859099125972573, 144.8946152972164, 104.8939113028697],\n",
       " ('p120', 'p127'): [0.2956615844670555,\n",
       "  146.36733562027283,\n",
       "  105.84740351498598],\n",
       " ('p120', 'p119'): [0.8212519382068661,\n",
       "  143.06006749308042,\n",
       "  103.53864591254035],\n",
       " ('p120', 'p128'): [0.8608726795891247,\n",
       "  139.67206531966846,\n",
       "  105.69346960988402],\n",
       " ('p120', 'p109'): [0.7595188012473836,\n",
       "  144.87735621394035,\n",
       "  106.06434216886868],\n",
       " ('p120', 'p102'): [0.6624285795720324, 136.306968696176, 100.62619547161789],\n",
       " ('p120', 'p116'): [0.7748566934353297,\n",
       "  143.86373804214946,\n",
       "  103.57546060399872],\n",
       " ('p120', 'p129'): [0.6997509587380104,\n",
       "  145.21789627028696,\n",
       "  104.50449253224153],\n",
       " ('p120', 'STAPLE'): [0.7540635570453579,\n",
       "  144.24243312173735,\n",
       "  105.72428464212997]}"
      ]
     },
     "execution_count": 9,
     "metadata": {},
     "output_type": "execute_result"
    }
   ],
   "source": [
    "model.scores"
   ]
  }
 ],
 "metadata": {
  "kernelspec": {
   "display_name": "Python 3",
   "language": "python",
   "name": "python3"
  },
  "language_info": {
   "codemirror_mode": {
    "name": "ipython",
    "version": 3
   },
   "file_extension": ".py",
   "mimetype": "text/x-python",
   "name": "python",
   "nbconvert_exporter": "python",
   "pygments_lexer": "ipython3",
   "version": "3.6.5"
  },
  "vscode": {
   "interpreter": {
    "hash": "e7ccb2a435b656723dafd2fb88eb02b6891256ab8b77d2cf3044cea9811453d0"
   }
  }
 },
 "nbformat": 4,
 "nbformat_minor": 2
}
