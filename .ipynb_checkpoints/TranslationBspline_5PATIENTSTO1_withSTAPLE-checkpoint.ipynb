{
 "cells": [
  {
   "cell_type": "code",
   "execution_count": 1,
   "metadata": {},
   "outputs": [],
   "source": [
    "%matplotlib qt \n",
    "import SimpleITK as sitk\n",
    "from scrollview import ScrollView\n",
    "import numpy as np\n",
    "import matplotlib.pyplot as plt\n",
    "from IndexTracker import IndexTracker\n",
    "import os\n",
    "\n",
    "import elastix\n",
    "ELASTIX_PATH = 'C:/Users/Paula Arias/elastix-5.0.1-win64/elastix.exe'\n",
    "el = elastix.ElastixInterface(elastix_path=ELASTIX_PATH)\n",
    "\n",
    "TRANSFORMIX_PATH = 'C:/Users/Paula Arias/elastix-5.0.1-win64/transformix.exe'"
   ]
  },
  {
   "cell_type": "markdown",
   "metadata": {},
   "source": [
    "**Select moving and target images**"
   ]
  },
  {
   "cell_type": "code",
   "execution_count": 2,
   "metadata": {},
   "outputs": [],
   "source": [
    "moving_img_1 = 'C:/Users/Paula Arias/Escritorio/CAPITASELECTA_Project/TrainingData/p107/mr_bffe.mhd'\n",
    "moving_img_2 = 'C:/Users/Paula Arias/Escritorio/CAPITASELECTA_Project/TrainingData/p108/mr_bffe.mhd'\n",
    "moving_img_3 = 'C:/Users/Paula Arias/Escritorio/CAPITASELECTA_Project/TrainingData/p109/mr_bffe.mhd'\n",
    "moving_img_4 = 'C:/Users/Paula Arias/Escritorio/CAPITASELECTA_Project/TrainingData/p115/mr_bffe.mhd'\n",
    "moving_img_5 = 'C:/Users/Paula Arias/Escritorio/CAPITASELECTA_Project/TrainingData/p116/mr_bffe.mhd'\n",
    "\n",
    "fixed_img = 'C:/Users/Paula Arias/Escritorio/CAPITASELECTA_Project/TrainingData/p102/mr_bffe.mhd'"
   ]
  },
  {
   "cell_type": "markdown",
   "metadata": {},
   "source": [
    "**Select parameter files**"
   ]
  },
  {
   "cell_type": "code",
   "execution_count": 3,
   "metadata": {},
   "outputs": [],
   "source": [
    "translation_param_file = 'C:/Users/Paula Arias/Escritorio/CAPITASELECTA_Project/ParameterFiles/Par0001translation.txt'\n",
    "bspline_param_file = 'C:/Users/Paula Arias/Escritorio/CAPITASELECTA_Project/ParameterFiles/Par0001bspline64.txt'"
   ]
  },
  {
   "cell_type": "markdown",
   "metadata": {},
   "source": [
    "**Select output directories**"
   ]
  },
  {
   "cell_type": "code",
   "execution_count": 4,
   "metadata": {},
   "outputs": [],
   "source": [
    "output_dir1 = 'C:/Users/Paula Arias/Escritorio/CAPITASELECTA_Project/RESULTS_TranslationBSpline/reg1'\n",
    "output_dir2 = 'C:/Users/Paula Arias/Escritorio/CAPITASELECTA_Project/RESULTS_TranslationBSpline/reg2'\n",
    "output_dir3 = 'C:/Users/Paula Arias/Escritorio/CAPITASELECTA_Project/RESULTS_TranslationBSpline/reg3'\n",
    "output_dir4 = 'C:/Users/Paula Arias/Escritorio/CAPITASELECTA_Project/RESULTS_TranslationBSpline/reg4'\n",
    "output_dir5 = 'C:/Users/Paula Arias/Escritorio/CAPITASELECTA_Project/RESULTS_TranslationBSpline/reg5'"
   ]
  },
  {
   "cell_type": "markdown",
   "metadata": {},
   "source": [
    "## Apply registration to images"
   ]
  },
  {
   "cell_type": "code",
   "execution_count": 5,
   "metadata": {},
   "outputs": [
    {
     "name": "stdout",
     "output_type": "stream",
     "text": [
      "C:/Users/Paula Arias/elastix-5.0.1-win64/elastix.exe -f C:/Users/Paula Arias/Escritorio/CAPITASELECTA_Project/TrainingData/p102/mr_bffe.mhd -m C:/Users/Paula Arias/Escritorio/CAPITASELECTA_Project/TrainingData/p107/mr_bffe.mhd -p C:/Users/Paula Arias/Escritorio/CAPITASELECTA_Project/ParameterFiles/Par0001translation.txt -p C:/Users/Paula Arias/Escritorio/CAPITASELECTA_Project/ParameterFiles/Par0001bspline64.txt -out C:/Users/Paula Arias/Escritorio/CAPITASELECTA_Project/RESULTS_TranslationBSpline/reg1\n",
      "C:/Users/Paula Arias/elastix-5.0.1-win64/elastix.exe -f C:/Users/Paula Arias/Escritorio/CAPITASELECTA_Project/TrainingData/p102/mr_bffe.mhd -m C:/Users/Paula Arias/Escritorio/CAPITASELECTA_Project/TrainingData/p108/mr_bffe.mhd -p C:/Users/Paula Arias/Escritorio/CAPITASELECTA_Project/ParameterFiles/Par0001translation.txt -p C:/Users/Paula Arias/Escritorio/CAPITASELECTA_Project/ParameterFiles/Par0001bspline64.txt -out C:/Users/Paula Arias/Escritorio/CAPITASELECTA_Project/RESULTS_TranslationBSpline/reg2\n",
      "C:/Users/Paula Arias/elastix-5.0.1-win64/elastix.exe -f C:/Users/Paula Arias/Escritorio/CAPITASELECTA_Project/TrainingData/p102/mr_bffe.mhd -m C:/Users/Paula Arias/Escritorio/CAPITASELECTA_Project/TrainingData/p109/mr_bffe.mhd -p C:/Users/Paula Arias/Escritorio/CAPITASELECTA_Project/ParameterFiles/Par0001translation.txt -p C:/Users/Paula Arias/Escritorio/CAPITASELECTA_Project/ParameterFiles/Par0001bspline64.txt -out C:/Users/Paula Arias/Escritorio/CAPITASELECTA_Project/RESULTS_TranslationBSpline/reg3\n",
      "C:/Users/Paula Arias/elastix-5.0.1-win64/elastix.exe -f C:/Users/Paula Arias/Escritorio/CAPITASELECTA_Project/TrainingData/p102/mr_bffe.mhd -m C:/Users/Paula Arias/Escritorio/CAPITASELECTA_Project/TrainingData/p115/mr_bffe.mhd -p C:/Users/Paula Arias/Escritorio/CAPITASELECTA_Project/ParameterFiles/Par0001translation.txt -p C:/Users/Paula Arias/Escritorio/CAPITASELECTA_Project/ParameterFiles/Par0001bspline64.txt -out C:/Users/Paula Arias/Escritorio/CAPITASELECTA_Project/RESULTS_TranslationBSpline/reg4\n",
      "C:/Users/Paula Arias/elastix-5.0.1-win64/elastix.exe -f C:/Users/Paula Arias/Escritorio/CAPITASELECTA_Project/TrainingData/p102/mr_bffe.mhd -m C:/Users/Paula Arias/Escritorio/CAPITASELECTA_Project/TrainingData/p116/mr_bffe.mhd -p C:/Users/Paula Arias/Escritorio/CAPITASELECTA_Project/ParameterFiles/Par0001translation.txt -p C:/Users/Paula Arias/Escritorio/CAPITASELECTA_Project/ParameterFiles/Par0001bspline64.txt -out C:/Users/Paula Arias/Escritorio/CAPITASELECTA_Project/RESULTS_TranslationBSpline/reg5\n"
     ]
    }
   ],
   "source": [
    "el.register(\n",
    "    fixed_image=fixed_img,\n",
    "    moving_image=moving_img_1,\n",
    "    parameters=[translation_param_file, bspline_param_file],\n",
    "    output_dir=output_dir1)\n",
    "\n",
    "el.register(\n",
    "    fixed_image=fixed_img,\n",
    "    moving_image=moving_img_2,\n",
    "    parameters=[translation_param_file, bspline_param_file],\n",
    "    output_dir=output_dir2)\n",
    "\n",
    "el.register(\n",
    "    fixed_image=fixed_img,\n",
    "    moving_image=moving_img_3,\n",
    "    parameters=[translation_param_file, bspline_param_file],\n",
    "    output_dir=output_dir3)\n",
    "\n",
    "el.register(\n",
    "    fixed_image=fixed_img,\n",
    "    moving_image=moving_img_4,\n",
    "    parameters=[translation_param_file, bspline_param_file],\n",
    "    output_dir=output_dir4)\n",
    "\n",
    "el.register(\n",
    "    fixed_image=fixed_img,\n",
    "    moving_image=moving_img_5,\n",
    "    parameters=[translation_param_file, bspline_param_file],\n",
    "    output_dir=output_dir5)"
   ]
  },
  {
   "cell_type": "markdown",
   "metadata": {},
   "source": [
    "### Apply transformation to images"
   ]
  },
  {
   "cell_type": "markdown",
   "metadata": {},
   "source": [
    "**Select masks to transform**"
   ]
  },
  {
   "cell_type": "code",
   "execution_count": 6,
   "metadata": {},
   "outputs": [],
   "source": [
    "seg1 = 'C:/Users/Paula Arias/Escritorio/CAPITASELECTA_Project/TrainingData/p107/prostaat.mhd'\n",
    "seg2 = 'C:/Users/Paula Arias/Escritorio/CAPITASELECTA_Project/TrainingData/p108/prostaat.mhd'\n",
    "seg3 = 'C:/Users/Paula Arias/Escritorio/CAPITASELECTA_Project/TrainingData/p109/prostaat.mhd'\n",
    "seg4 = 'C:/Users/Paula Arias/Escritorio/CAPITASELECTA_Project/TrainingData/p115/prostaat.mhd'\n",
    "seg5 = 'C:/Users/Paula Arias/Escritorio/CAPITASELECTA_Project/TrainingData/p116/prostaat.mhd'"
   ]
  },
  {
   "cell_type": "markdown",
   "metadata": {},
   "source": [
    "**Select transformation parameters**"
   ]
  },
  {
   "cell_type": "code",
   "execution_count": 7,
   "metadata": {},
   "outputs": [],
   "source": [
    "t_params_1 = 'C:/Users/Paula Arias/Escritorio/CAPITASELECTA_Project/RESULTS_TranslationBSpline/reg1/TransformParameters.1.txt'\n",
    "t_params_2 = 'C:/Users/Paula Arias/Escritorio/CAPITASELECTA_Project/RESULTS_TranslationBSpline/reg2/TransformParameters.1.txt'\n",
    "t_params_3 = 'C:/Users/Paula Arias/Escritorio/CAPITASELECTA_Project/RESULTS_TranslationBSpline/reg3/TransformParameters.1.txt'\n",
    "t_params_4 = 'C:/Users/Paula Arias/Escritorio/CAPITASELECTA_Project/RESULTS_TranslationBSpline/reg4/TransformParameters.1.txt'\n",
    "t_params_5 = 'C:/Users/Paula Arias/Escritorio/CAPITASELECTA_Project/RESULTS_TranslationBSpline/reg5/TransformParameters.1.txt'"
   ]
  },
  {
   "cell_type": "markdown",
   "metadata": {},
   "source": [
    "<div class=\"alert alert-block alert-warning\">\n",
    "<b>Important!</b> Change FinalBSplineInterpolationOrder to 0 instead of 3 in each transformation file!\n",
    "</div>"
   ]
  },
  {
   "cell_type": "markdown",
   "metadata": {},
   "source": [
    "**Select output directories**"
   ]
  },
  {
   "cell_type": "code",
   "execution_count": 8,
   "metadata": {},
   "outputs": [],
   "source": [
    "out_seg1 = 'C:/Users/Paula Arias/Escritorio/CAPITASELECTA_Project/RESULTS_TranslationBSpline/seg1'\n",
    "out_seg2 = 'C:/Users/Paula Arias/Escritorio/CAPITASELECTA_Project/RESULTS_TranslationBSpline/seg2'\n",
    "out_seg3 = 'C:/Users/Paula Arias/Escritorio/CAPITASELECTA_Project/RESULTS_TranslationBSpline/seg3'\n",
    "out_seg4 = 'C:/Users/Paula Arias/Escritorio/CAPITASELECTA_Project/RESULTS_TranslationBSpline/seg4'\n",
    "out_seg5 = 'C:/Users/Paula Arias/Escritorio/CAPITASELECTA_Project/RESULTS_TranslationBSpline/seg5'"
   ]
  },
  {
   "cell_type": "markdown",
   "metadata": {},
   "source": [
    "**Apply transformations**"
   ]
  },
  {
   "cell_type": "code",
   "execution_count": 15,
   "metadata": {},
   "outputs": [],
   "source": [
    "tr1 = elastix.TransformixInterface(parameters=t_params_1, transformix_path=TRANSFORMIX_PATH)\n",
    "transformed_image_path1 = tr1.transform_image(seg1, output_dir=out_seg1)\n",
    "\n",
    "tr2 = elastix.TransformixInterface(parameters=t_params_2, transformix_path=TRANSFORMIX_PATH)\n",
    "transformed_image_path2 = tr2.transform_image(seg2, output_dir=out_seg2)\n",
    "\n",
    "tr3 = elastix.TransformixInterface(parameters=t_params_3, transformix_path=TRANSFORMIX_PATH)\n",
    "transformed_image_path3 = tr3.transform_image(seg3, output_dir=out_seg3)\n",
    "\n",
    "tr4 = elastix.TransformixInterface(parameters=t_params_4, transformix_path=TRANSFORMIX_PATH)\n",
    "transformed_image_path4 = tr4.transform_image(seg4, output_dir=out_seg4)\n",
    "\n",
    "tr5 = elastix.TransformixInterface(parameters=t_params_5, transformix_path=TRANSFORMIX_PATH)\n",
    "transformed_image_path5 = tr5.transform_image(seg5, output_dir=out_seg5)"
   ]
  },
  {
   "cell_type": "code",
   "execution_count": 16,
   "metadata": {},
   "outputs": [
    {
     "name": "stdout",
     "output_type": "stream",
     "text": [
      "down -1.0\n",
      "down -1.0\n",
      "down -1.0\n",
      "down -1.0\n",
      "down -1.0\n",
      "down -1.0\n",
      "down -2.0\n",
      "down -2.0\n",
      "down -2.0\n",
      "down -2.0\n",
      "down -2.0\n",
      "down -2.0\n",
      "down -4.0\n",
      "down -4.0\n",
      "down -4.0\n",
      "down -4.0\n",
      "down -4.0\n",
      "down -4.0\n",
      "down -2.0\n",
      "down -2.0\n",
      "down -2.0\n",
      "down -2.0\n",
      "down -2.0\n",
      "down -2.0\n",
      "down -1.0\n",
      "down -1.0\n",
      "down -1.0\n",
      "down -1.0\n",
      "down -1.0\n",
      "down -1.0\n",
      "down -1.0\n",
      "down -1.0\n",
      "down -1.0\n",
      "down -1.0\n",
      "down -1.0\n",
      "down -1.0\n"
     ]
    }
   ],
   "source": [
    "seg1_itk_image = sitk.ReadImage('C:/Users/Paula Arias/Escritorio/CAPITASELECTA_Project/RESULTS_TranslationBSpline/seg1/result.mhd')\n",
    "seg1_image_array = sitk.GetArrayViewFromImage(seg1_itk_image)\n",
    "\n",
    "seg2_itk_image = sitk.ReadImage('C:/Users/Paula Arias/Escritorio/CAPITASELECTA_Project/RESULTS_TranslationBSpline/seg2/result.mhd')\n",
    "seg2_image_array = sitk.GetArrayViewFromImage(seg2_itk_image)\n",
    "\n",
    "seg3_itk_image = sitk.ReadImage('C:/Users/Paula Arias/Escritorio/CAPITASELECTA_Project/RESULTS_TranslationBSpline/seg3/result.mhd')\n",
    "seg3_image_array = sitk.GetArrayViewFromImage(seg3_itk_image)\n",
    "\n",
    "seg4_itk_image = sitk.ReadImage('C:/Users/Paula Arias/Escritorio/CAPITASELECTA_Project/RESULTS_TranslationBSpline/seg4/result.mhd')\n",
    "seg4_image_array = sitk.GetArrayViewFromImage(seg4_itk_image)\n",
    "\n",
    "seg5_itk_image = sitk.ReadImage('C:/Users/Paula Arias/Escritorio/CAPITASELECTA_Project/RESULTS_TranslationBSpline/seg5/result.mhd')\n",
    "seg5_image_array = sitk.GetArrayViewFromImage(seg5_itk_image)\n",
    "\n",
    "fixed_itk_image = sitk.ReadImage('C:/Users/Paula Arias/Escritorio/CAPITASELECTA_Project/TrainingData/p102/prostaat.mhd')\n",
    "fixed_image_array = sitk.GetArrayViewFromImage(fixed_itk_image)\n",
    "\n",
    "# show the image\n",
    "fig, ax = plt.subplots(1, 6)\n",
    "tracker1 = IndexTracker(ax[0], seg1_image_array);\n",
    "tracker2 = IndexTracker(ax[1], seg2_image_array)\n",
    "tracker3 = IndexTracker(ax[2], seg3_image_array)\n",
    "tracker4 = IndexTracker(ax[3], seg4_image_array)\n",
    "tracker5 = IndexTracker(ax[4], seg5_image_array)\n",
    "tracker6 = IndexTracker(ax[5], fixed_image_array)\n",
    "fig.canvas.mpl_connect('scroll_event', tracker1.onscroll);\n",
    "fig.canvas.mpl_connect('scroll_event', tracker2.onscroll);\n",
    "fig.canvas.mpl_connect('scroll_event', tracker3.onscroll);\n",
    "fig.canvas.mpl_connect('scroll_event', tracker4.onscroll);\n",
    "fig.canvas.mpl_connect('scroll_event', tracker5.onscroll);\n",
    "fig.canvas.mpl_connect('scroll_event', tracker6.onscroll);\n",
    "\n",
    "plt.show()"
   ]
  },
  {
   "cell_type": "markdown",
   "metadata": {},
   "source": [
    "# STAPLE"
   ]
  },
  {
   "cell_type": "code",
   "execution_count": 19,
   "metadata": {},
   "outputs": [
    {
     "name": "stdout",
     "output_type": "stream",
     "text": [
      "(86, 333, 271)\n"
     ]
    }
   ],
   "source": [
    "print(fixed_image_array.shape)"
   ]
  },
  {
   "cell_type": "code",
   "execution_count": 20,
   "metadata": {},
   "outputs": [
    {
     "name": "stdout",
     "output_type": "stream",
     "text": [
      "(86, 333, 271)\n",
      "down -1.0\n",
      "down -1.0\n",
      "down -1.0\n",
      "down -1.0\n",
      "down -1.0\n",
      "down -1.0\n",
      "down -1.0\n",
      "down -1.0\n",
      "down -1.0\n",
      "down -1.0\n",
      "down -2.0\n",
      "down -2.0\n",
      "down -1.0\n",
      "down -1.0\n",
      "down -1.0\n",
      "down -1.0\n",
      "down -1.0\n",
      "down -1.0\n",
      "down -2.0\n",
      "down -2.0\n",
      "down -1.0\n",
      "down -1.0\n",
      "down -1.0\n",
      "down -1.0\n",
      "down -3.0\n",
      "down -3.0\n",
      "down -1.0\n",
      "down -1.0\n",
      "down -1.0\n",
      "down -1.0\n",
      "down -1.0\n",
      "down -1.0\n",
      "down -2.0\n",
      "down -2.0\n",
      "down -1.0\n",
      "down -1.0\n",
      "down -1.0\n",
      "down -1.0\n",
      "down -2.0\n",
      "down -2.0\n",
      "down -1.0\n",
      "down -1.0\n",
      "up 1.0\n",
      "up 1.0\n",
      "up 2.0\n",
      "up 2.0\n",
      "up 2.0\n",
      "up 2.0\n",
      "up 1.0\n",
      "up 1.0\n",
      "up 3.0\n",
      "up 3.0\n",
      "up 1.0\n",
      "up 1.0\n",
      "up 1.0\n",
      "up 1.0\n",
      "up 4.0\n",
      "up 4.0\n",
      "up 1.0\n",
      "up 1.0\n",
      "up 1.0\n",
      "up 1.0\n",
      "up 3.0\n",
      "up 3.0\n",
      "up 1.0\n",
      "up 1.0\n",
      "up 1.0\n",
      "up 1.0\n",
      "up 3.0\n",
      "up 3.0\n",
      "down -1.0\n",
      "down -1.0\n",
      "down -1.0\n",
      "down -1.0\n",
      "down -1.0\n",
      "down -1.0\n",
      "up 1.0\n",
      "up 1.0\n",
      "up 3.0\n",
      "up 3.0\n",
      "up 1.0\n",
      "up 1.0\n",
      "up 1.0\n",
      "up 1.0\n",
      "up 4.0\n",
      "up 4.0\n",
      "up 1.0\n",
      "up 1.0\n",
      "up 1.0\n",
      "up 1.0\n",
      "up 4.0\n",
      "up 4.0\n",
      "up 1.0\n",
      "up 1.0\n",
      "up 2.0\n",
      "up 2.0\n",
      "up 1.0\n",
      "up 1.0\n",
      "up 3.0\n",
      "up 3.0\n",
      "up 1.0\n",
      "up 1.0\n",
      "up 1.0\n",
      "up 1.0\n",
      "up 2.0\n",
      "up 2.0\n",
      "up 1.0\n",
      "up 1.0\n",
      "down -1.0\n",
      "down -1.0\n",
      "down -3.0\n",
      "down -3.0\n"
     ]
    }
   ],
   "source": [
    "segmentations = [seg1_itk_image, seg2_itk_image, seg3_itk_image, seg4_itk_image, seg5_itk_image]\n",
    "\n",
    "seg_stack = []\n",
    "STAPLE_3D_seg = np.zeros(fixed_image_array.shape)\n",
    "\n",
    "for i in range(0, 85):\n",
    "    for seg in segmentations:\n",
    "        #image = sitk.ReadImage(str(seg))\n",
    "        image_array = sitk.GetArrayFromImage(seg)\n",
    "        seg_sitk = sitk.GetImageFromArray(image_array[i,:,:].astype(np.int16))\n",
    "        seg_stack.append(seg_sitk)\n",
    "\n",
    "    STAPLE_seg_sitk = sitk.STAPLE(seg_stack, 1.0)\n",
    "    STAPLE_seg = sitk.GetArrayFromImage(STAPLE_seg_sitk)\n",
    "    STAPLE_3D_seg[i, :, :] = STAPLE_seg\n",
    "\n",
    "#STAPLE_3D_seg = np.stack(image_stack, axis=0)\n",
    "print(STAPLE_3D_seg.shape)"
   ]
  },
  {
   "cell_type": "code",
   "execution_count": 22,
   "metadata": {},
   "outputs": [
    {
     "name": "stdout",
     "output_type": "stream",
     "text": [
      "up 1.0\n",
      "up 1.0\n",
      "up 4.0\n",
      "up 4.0\n",
      "up 2.0\n",
      "up 2.0\n",
      "up 3.0\n",
      "up 3.0\n",
      "up 5.0\n",
      "up 5.0\n",
      "up 1.0\n",
      "up 1.0\n",
      "up 4.0\n",
      "up 4.0\n",
      "up 1.0\n",
      "up 1.0\n",
      "up 5.0\n",
      "up 5.0\n",
      "up 2.0\n",
      "up 2.0\n",
      "up 3.0\n",
      "up 3.0\n",
      "up 1.0\n",
      "up 1.0\n",
      "up 4.0\n",
      "up 4.0\n",
      "up 1.0\n",
      "up 1.0\n",
      "up 1.0\n",
      "up 1.0\n",
      "up 2.0\n",
      "up 2.0\n",
      "up 1.0\n",
      "up 1.0\n",
      "up 5.0\n",
      "up 5.0\n",
      "up 1.0\n",
      "up 1.0\n",
      "up 3.0\n",
      "up 3.0\n",
      "up 2.0\n",
      "up 2.0\n",
      "up 1.0\n",
      "up 1.0\n",
      "up 3.0\n",
      "up 3.0\n",
      "up 2.0\n",
      "up 2.0\n",
      "up 1.0\n",
      "up 1.0\n",
      "up 4.0\n",
      "up 4.0\n",
      "up 1.0\n",
      "up 1.0\n",
      "up 6.0\n",
      "up 6.0\n",
      "up 4.0\n",
      "up 4.0\n",
      "up 1.0\n",
      "up 1.0\n",
      "up 7.0\n",
      "up 7.0\n",
      "up 4.0\n",
      "up 4.0\n",
      "up 5.0\n",
      "up 5.0\n",
      "up 4.0\n",
      "up 4.0\n",
      "up 3.0\n",
      "up 3.0\n",
      "up 5.0\n",
      "up 5.0\n",
      "up 5.0\n",
      "up 5.0\n",
      "up 3.0\n",
      "up 3.0\n",
      "up 1.0\n",
      "up 1.0\n",
      "up 4.0\n",
      "up 4.0\n",
      "up 4.0\n",
      "up 4.0\n",
      "up 1.0\n",
      "up 1.0\n",
      "up 5.0\n",
      "up 5.0\n",
      "up 1.0\n",
      "up 1.0\n",
      "up 1.0\n",
      "up 1.0\n",
      "up 2.0\n",
      "up 2.0\n",
      "up 1.0\n",
      "up 1.0\n",
      "down -1.0\n",
      "down -1.0\n",
      "down -3.0\n",
      "down -3.0\n",
      "down -1.0\n",
      "down -1.0\n",
      "down -1.0\n",
      "down -1.0\n",
      "down -3.0\n",
      "down -3.0\n",
      "down -1.0\n",
      "down -1.0\n",
      "down -4.0\n",
      "down -4.0\n",
      "down -1.0\n",
      "down -1.0\n",
      "down -4.0\n",
      "down -4.0\n",
      "down -2.0\n",
      "down -2.0\n",
      "down -3.0\n",
      "down -3.0\n",
      "down -1.0\n",
      "down -1.0\n",
      "down -4.0\n",
      "down -4.0\n",
      "down -1.0\n",
      "down -1.0\n",
      "down -3.0\n",
      "down -3.0\n"
     ]
    }
   ],
   "source": [
    "# show the image\n",
    "fig, ax = plt.subplots(1, 2)\n",
    "tracker1 = IndexTracker(ax[0], STAPLE_3D_seg);\n",
    "tracker6 = IndexTracker(ax[1], fixed_image_array)\n",
    "fig.canvas.mpl_connect('scroll_event', tracker1.onscroll);\n",
    "fig.canvas.mpl_connect('scroll_event', tracker6.onscroll);\n",
    "plt.show()"
   ]
  },
  {
   "cell_type": "markdown",
   "metadata": {},
   "source": [
    "I have to correct the shape "
   ]
  }
 ],
 "metadata": {
  "kernelspec": {
   "display_name": "Python 3 (ipykernel)",
   "language": "python",
   "name": "python3"
  },
  "language_info": {
   "codemirror_mode": {
    "name": "ipython",
    "version": 3
   },
   "file_extension": ".py",
   "mimetype": "text/x-python",
   "name": "python",
   "nbconvert_exporter": "python",
   "pygments_lexer": "ipython3",
   "version": "3.7.16"
  }
 },
 "nbformat": 4,
 "nbformat_minor": 4
}
