{
 "cells": [
  {
   "cell_type": "code",
   "execution_count": 1,
   "metadata": {},
   "outputs": [],
   "source": [
    "import matplotlib.pyplot as plt \n",
    "import SimpleITK as sitk \n",
    "import os\n",
<<<<<<< Updated upstream
    "from tqdm.notebook import tqdm, trange\n",
    "from skimage.transform import downscale_local_mean\n",
    "from typing import List, Tuple, Any, Dict, Set, Optional\n",
    "from sklearn.model_selection import train_test_split\n",
    "#os.environ[\"PATH\"] = \"/Users/ivannovikov/Downloads/elastix-5.0.0-mac/bin\" + os.pathsep + os.environ[\"PATH\"]\n",
    "#os.environ[\"DYLD_LIBRARY_PATH\"] = \"/Users/ivannovikov/Downloads/elastix-5.0.0-mac/lib\"\n",
    "import elastix\n",
    "from scrollview import ScrollView\n",
=======
>>>>>>> Stashed changes
    "from misc import Config\n",
    "from model import *\n",
    "%matplotlib qt\n",
    "os.pathsep = \"/\""
   ]
  },
  {
   "cell_type": "code",
   "execution_count": 19,
   "metadata": {},
   "outputs": [],
   "source": [
<<<<<<< Updated upstream
    "ELASTIX_PATH = os.path.join('C:\\\\Users\\\\20192024\\\\OneDrive - TU Eindhoven\\\\Documents\\\\Y4\\\\Q3\\\\Capita Selecta in Medical Image Analysis\\\\myfolder\\\\elastix.exe')\n",
    "TRANSFORMIX_PATH = os.path.join('C:\\\\Users\\\\20192024\\\\OneDrive - TU Eindhoven\\\\Documents\\\\Y4\\\\Q3\\\\Capita Selecta in Medical Image Analysis\\\\myfolder\\\\transformix.exe')\n",
    "FOLDER_RAW = 'C:\\\\Users\\\\20192024\\\\OneDrive - TU Eindhoven\\\\Documents\\\\Y4\\\\Q3\\\\Capita Selecta in Medical Image Analysis\\\\Project\\\\Nieuw\\\\TrainingData'\n",
    "FOLDER_PREPROCESSED = 'C:\\\\Users\\\\20192024\\\\OneDrive - TU Eindhoven\\\\Documents\\\\Y4\\\\Q3\\\\Capita Selecta in Medical Image Analysis\\\\Project\\\\Nieuw\\\\DataPreprocessed'\n",
    "FOLDER_PARAMETERS = 'C:\\\\Users\\\\20192024\\\\OneDrive - TU Eindhoven\\\\Documents\\\\Y4\\\\Q3\\\\Capita Selecta in Medical Image Analysis\\\\Project\\\\Nieuw\\\\parameters'\n",
    "FOLDER_RESULTS = 'C:\\\\Users\\\\20192024\\\\OneDrive - TU Eindhoven\\\\Documents\\\\Y4\\\\Q3\\\\Capita Selecta in Medical Image Analysis\\\\Project\\\\Nieuw\\\\results'"
=======
    "ELASTIX_PATH = os.path.join('../../../myfolder/elastix.exe')\n",
    "TRANSFORMIX_PATH = os.path.join('../../../myfolder/transformix.exe')\n",
    "FOLDER_RAW = os.path.join('../TrainingData')\n",
    "FOLDER_PREPROCESSED = os.path.join('../DataPreprocessed')\n",
    "FOLDER_PARAMETERS = os.path.join('../parameters/experiment1')\n",
    "FOLDER_RESULTS = os.path.join('../results')"
>>>>>>> Stashed changes
   ]
  },
  {
   "cell_type": "code",
   "execution_count": 3,
   "metadata": {},
   "outputs": [
    {
<<<<<<< Updated upstream
=======
     "name": "stdout",
     "output_type": "stream",
     "text": [
      "../TrainingData\n"
     ]
    }
   ],
   "source": [
    "print(FOLDER_RAW)\n"
   ]
  },
  {
   "cell_type": "code",
   "execution_count": 4,
   "metadata": {},
   "outputs": [
    {
>>>>>>> Stashed changes
     "name": "stderr",
     "output_type": "stream",
     "text": [
      "C:\\Users\\20192024\\Anaconda3\\envs\\my_env\\lib\\site-packages\\sklearn\\model_selection\\_split.py:2026: FutureWarning: From version 0.21, test_size will always complement train_size unless both are specified.\n",
      "  FutureWarning)\n"
     ]
    }
   ],
   "source": [
    "config = Config(\n",
    "    folder_raw = FOLDER_RAW, \n",
    "    folder_preprocessed = FOLDER_PREPROCESSED,\n",
<<<<<<< Updated upstream
    "    folder_parameter_groups = FOLDER_PARAMETERS,\n",
=======
    "    parameter_folder = FOLDER_PARAMETERS,\n",
    "    parameters = [\"Par0001translation.txt\", \"Par0001affine.txt\"],\n",
>>>>>>> Stashed changes
    "    folder_results = FOLDER_RESULTS,\n",
    "    seed = 0,\n",
    "    train_size = 12,\n",
    ")"
   ]
  },
  {
   "cell_type": "code",
   "execution_count": 5,
   "metadata": {},
   "outputs": [],
   "source": [
    "model = Model(\n",
    "    config = config,\n",
    "    elastix_path = ELASTIX_PATH,\n",
    "    transformix_path = TRANSFORMIX_PATH,\n",
    ")"
   ]
  },
  {
   "cell_type": "code",
   "execution_count": 6,
   "metadata": {},
   "outputs": [
    {
<<<<<<< Updated upstream
     "data": {
      "application/vnd.jupyter.widget-view+json": {
       "model_id": "0a8e715cbac34c7ba97cfdab6474968b",
       "version_major": 2,
       "version_minor": 0
      },
      "text/plain": [
       "Loading Data:   0%|          | 0/15 [00:00<?, ?it/s]"
      ]
     },
     "metadata": {},
     "output_type": "display_data"
=======
     "name": "stderr",
     "output_type": "stream",
     "text": [
      "Loading Data: 100%|██████████| 15/15 [00:02<00:00,  7.24it/s]\n"
     ]
>>>>>>> Stashed changes
    }
   ],
   "source": [
    "model.load()"
   ]
  },
  {
   "cell_type": "code",
<<<<<<< Updated upstream
   "execution_count": 6,
   "metadata": {},
   "outputs": [
    {
     "data": {
      "application/vnd.jupyter.widget-view+json": {
       "model_id": "9a498e9de53f418ebead25797bb6daf0",
       "version_major": 2,
       "version_minor": 0
      },
      "text/plain": [
       "Saving Preprocessed Data:   0%|          | 0/15 [00:00<?, ?it/s]"
      ]
     },
     "metadata": {},
     "output_type": "display_data"
    }
   ],
   "source": [
    "model.preprecess_and_save(downscale_factor=1, normalize=\"none\")"
   ]
  },
  {
   "cell_type": "code",
   "execution_count": 14,
=======
   "execution_count": 7,
>>>>>>> Stashed changes
   "metadata": {},
   "outputs": [
    {
     "name": "stderr",
     "output_type": "stream",
     "text": [
<<<<<<< Updated upstream
      "Running with parameters experiment1\n"
     ]
    },
    {
     "data": {
      "application/vnd.jupyter.widget-view+json": {
       "model_id": "e17a2af8fc274aadb0cdc31d6fda9750",
       "version_major": 2,
       "version_minor": 0
      },
      "text/plain": [
       "  0%|          | 0/3 [00:00<?, ?it/s]"
      ]
     },
     "metadata": {},
     "output_type": "display_data"
    },
    {
     "name": "stdout",
     "output_type": "stream",
     "text": [
      "C:\\Users\\20192024\\OneDrive - TU Eindhoven\\Documents\\Y4\\Q3\\Capita Selecta in Medical Image Analysis\\myfolder\\elastix.exe -f C:\\Users\\20192024\\OneDrive - TU Eindhoven\\Documents\\Y4\\Q3\\Capita Selecta in Medical Image Analysis\\Project\\Nieuw\\DataPreprocessed\\p107\\mr_bffe.mhd -m C:\\Users\\20192024\\OneDrive - TU Eindhoven\\Documents\\Y4\\Q3\\Capita Selecta in Medical Image Analysis\\Project\\Nieuw\\DataPreprocessed\\p125\\mr_bffe.mhd -p C:\\Users\\20192024\\OneDrive - TU Eindhoven\\Documents\\Y4\\Q3\\Capita Selecta in Medical Image Analysis\\Project\\Nieuw\\parameters\\experiment1\\0_Par0001affine.txt -p C:\\Users\\20192024\\OneDrive - TU Eindhoven\\Documents\\Y4\\Q3\\Capita Selecta in Medical Image Analysis\\Project\\Nieuw\\parameters\\experiment1\\1_Par0001bspline64.txt -out C:\\Users\\20192024\\OneDrive - TU Eindhoven\\Documents\\Y4\\Q3\\Capita Selecta in Medical Image Analysis\\Project\\Nieuw\\results\\experiment1\\p107_as_fixed\\p125_as_moving\n",
      "C:\\Users\\20192024\\OneDrive - TU Eindhoven\\Documents\\Y4\\Q3\\Capita Selecta in Medical Image Analysis\\myfolder\\elastix.exe -f C:\\Users\\20192024\\OneDrive - TU Eindhoven\\Documents\\Y4\\Q3\\Capita Selecta in Medical Image Analysis\\Project\\Nieuw\\DataPreprocessed\\p107\\mr_bffe.mhd -m C:\\Users\\20192024\\OneDrive - TU Eindhoven\\Documents\\Y4\\Q3\\Capita Selecta in Medical Image Analysis\\Project\\Nieuw\\DataPreprocessed\\p135\\mr_bffe.mhd -p C:\\Users\\20192024\\OneDrive - TU Eindhoven\\Documents\\Y4\\Q3\\Capita Selecta in Medical Image Analysis\\Project\\Nieuw\\parameters\\experiment1\\0_Par0001affine.txt -p C:\\Users\\20192024\\OneDrive - TU Eindhoven\\Documents\\Y4\\Q3\\Capita Selecta in Medical Image Analysis\\Project\\Nieuw\\parameters\\experiment1\\1_Par0001bspline64.txt -out C:\\Users\\20192024\\OneDrive - TU Eindhoven\\Documents\\Y4\\Q3\\Capita Selecta in Medical Image Analysis\\Project\\Nieuw\\results\\experiment1\\p107_as_fixed\\p135_as_moving\n",
      "C:\\Users\\20192024\\OneDrive - TU Eindhoven\\Documents\\Y4\\Q3\\Capita Selecta in Medical Image Analysis\\myfolder\\elastix.exe -f C:\\Users\\20192024\\OneDrive - TU Eindhoven\\Documents\\Y4\\Q3\\Capita Selecta in Medical Image Analysis\\Project\\Nieuw\\DataPreprocessed\\p107\\mr_bffe.mhd -m C:\\Users\\20192024\\OneDrive - TU Eindhoven\\Documents\\Y4\\Q3\\Capita Selecta in Medical Image Analysis\\Project\\Nieuw\\DataPreprocessed\\p115\\mr_bffe.mhd -p C:\\Users\\20192024\\OneDrive - TU Eindhoven\\Documents\\Y4\\Q3\\Capita Selecta in Medical Image Analysis\\Project\\Nieuw\\parameters\\experiment1\\0_Par0001affine.txt -p C:\\Users\\20192024\\OneDrive - TU Eindhoven\\Documents\\Y4\\Q3\\Capita Selecta in Medical Image Analysis\\Project\\Nieuw\\parameters\\experiment1\\1_Par0001bspline64.txt -out C:\\Users\\20192024\\OneDrive - TU Eindhoven\\Documents\\Y4\\Q3\\Capita Selecta in Medical Image Analysis\\Project\\Nieuw\\results\\experiment1\\p107_as_fixed\\p115_as_moving\n",
      "C:\\Users\\20192024\\OneDrive - TU Eindhoven\\Documents\\Y4\\Q3\\Capita Selecta in Medical Image Analysis\\myfolder\\elastix.exe -f C:\\Users\\20192024\\OneDrive - TU Eindhoven\\Documents\\Y4\\Q3\\Capita Selecta in Medical Image Analysis\\Project\\Nieuw\\DataPreprocessed\\p107\\mr_bffe.mhd -m C:\\Users\\20192024\\OneDrive - TU Eindhoven\\Documents\\Y4\\Q3\\Capita Selecta in Medical Image Analysis\\Project\\Nieuw\\DataPreprocessed\\p108\\mr_bffe.mhd -p C:\\Users\\20192024\\OneDrive - TU Eindhoven\\Documents\\Y4\\Q3\\Capita Selecta in Medical Image Analysis\\Project\\Nieuw\\parameters\\experiment1\\0_Par0001affine.txt -p C:\\Users\\20192024\\OneDrive - TU Eindhoven\\Documents\\Y4\\Q3\\Capita Selecta in Medical Image Analysis\\Project\\Nieuw\\parameters\\experiment1\\1_Par0001bspline64.txt -out C:\\Users\\20192024\\OneDrive - TU Eindhoven\\Documents\\Y4\\Q3\\Capita Selecta in Medical Image Analysis\\Project\\Nieuw\\results\\experiment1\\p107_as_fixed\\p108_as_moving\n",
      "C:\\Users\\20192024\\OneDrive - TU Eindhoven\\Documents\\Y4\\Q3\\Capita Selecta in Medical Image Analysis\\myfolder\\elastix.exe -f C:\\Users\\20192024\\OneDrive - TU Eindhoven\\Documents\\Y4\\Q3\\Capita Selecta in Medical Image Analysis\\Project\\Nieuw\\DataPreprocessed\\p107\\mr_bffe.mhd -m C:\\Users\\20192024\\OneDrive - TU Eindhoven\\Documents\\Y4\\Q3\\Capita Selecta in Medical Image Analysis\\Project\\Nieuw\\DataPreprocessed\\p133\\mr_bffe.mhd -p C:\\Users\\20192024\\OneDrive - TU Eindhoven\\Documents\\Y4\\Q3\\Capita Selecta in Medical Image Analysis\\Project\\Nieuw\\parameters\\experiment1\\0_Par0001affine.txt -p C:\\Users\\20192024\\OneDrive - TU Eindhoven\\Documents\\Y4\\Q3\\Capita Selecta in Medical Image Analysis\\Project\\Nieuw\\parameters\\experiment1\\1_Par0001bspline64.txt -out C:\\Users\\20192024\\OneDrive - TU Eindhoven\\Documents\\Y4\\Q3\\Capita Selecta in Medical Image Analysis\\Project\\Nieuw\\results\\experiment1\\p107_as_fixed\\p133_as_moving\n",
      "C:\\Users\\20192024\\OneDrive - TU Eindhoven\\Documents\\Y4\\Q3\\Capita Selecta in Medical Image Analysis\\myfolder\\elastix.exe -f C:\\Users\\20192024\\OneDrive - TU Eindhoven\\Documents\\Y4\\Q3\\Capita Selecta in Medical Image Analysis\\Project\\Nieuw\\DataPreprocessed\\p107\\mr_bffe.mhd -m C:\\Users\\20192024\\OneDrive - TU Eindhoven\\Documents\\Y4\\Q3\\Capita Selecta in Medical Image Analysis\\Project\\Nieuw\\DataPreprocessed\\p127\\mr_bffe.mhd -p C:\\Users\\20192024\\OneDrive - TU Eindhoven\\Documents\\Y4\\Q3\\Capita Selecta in Medical Image Analysis\\Project\\Nieuw\\parameters\\experiment1\\0_Par0001affine.txt -p C:\\Users\\20192024\\OneDrive - TU Eindhoven\\Documents\\Y4\\Q3\\Capita Selecta in Medical Image Analysis\\Project\\Nieuw\\parameters\\experiment1\\1_Par0001bspline64.txt -out C:\\Users\\20192024\\OneDrive - TU Eindhoven\\Documents\\Y4\\Q3\\Capita Selecta in Medical Image Analysis\\Project\\Nieuw\\results\\experiment1\\p107_as_fixed\\p127_as_moving\n",
      "C:\\Users\\20192024\\OneDrive - TU Eindhoven\\Documents\\Y4\\Q3\\Capita Selecta in Medical Image Analysis\\myfolder\\elastix.exe -f C:\\Users\\20192024\\OneDrive - TU Eindhoven\\Documents\\Y4\\Q3\\Capita Selecta in Medical Image Analysis\\Project\\Nieuw\\DataPreprocessed\\p107\\mr_bffe.mhd -m C:\\Users\\20192024\\OneDrive - TU Eindhoven\\Documents\\Y4\\Q3\\Capita Selecta in Medical Image Analysis\\Project\\Nieuw\\DataPreprocessed\\p119\\mr_bffe.mhd -p C:\\Users\\20192024\\OneDrive - TU Eindhoven\\Documents\\Y4\\Q3\\Capita Selecta in Medical Image Analysis\\Project\\Nieuw\\parameters\\experiment1\\0_Par0001affine.txt -p C:\\Users\\20192024\\OneDrive - TU Eindhoven\\Documents\\Y4\\Q3\\Capita Selecta in Medical Image Analysis\\Project\\Nieuw\\parameters\\experiment1\\1_Par0001bspline64.txt -out C:\\Users\\20192024\\OneDrive - TU Eindhoven\\Documents\\Y4\\Q3\\Capita Selecta in Medical Image Analysis\\Project\\Nieuw\\results\\experiment1\\p107_as_fixed\\p119_as_moving\n",
      "C:\\Users\\20192024\\OneDrive - TU Eindhoven\\Documents\\Y4\\Q3\\Capita Selecta in Medical Image Analysis\\myfolder\\elastix.exe -f C:\\Users\\20192024\\OneDrive - TU Eindhoven\\Documents\\Y4\\Q3\\Capita Selecta in Medical Image Analysis\\Project\\Nieuw\\DataPreprocessed\\p107\\mr_bffe.mhd -m C:\\Users\\20192024\\OneDrive - TU Eindhoven\\Documents\\Y4\\Q3\\Capita Selecta in Medical Image Analysis\\Project\\Nieuw\\DataPreprocessed\\p128\\mr_bffe.mhd -p C:\\Users\\20192024\\OneDrive - TU Eindhoven\\Documents\\Y4\\Q3\\Capita Selecta in Medical Image Analysis\\Project\\Nieuw\\parameters\\experiment1\\0_Par0001affine.txt -p C:\\Users\\20192024\\OneDrive - TU Eindhoven\\Documents\\Y4\\Q3\\Capita Selecta in Medical Image Analysis\\Project\\Nieuw\\parameters\\experiment1\\1_Par0001bspline64.txt -out C:\\Users\\20192024\\OneDrive - TU Eindhoven\\Documents\\Y4\\Q3\\Capita Selecta in Medical Image Analysis\\Project\\Nieuw\\results\\experiment1\\p107_as_fixed\\p128_as_moving\n",
      "C:\\Users\\20192024\\OneDrive - TU Eindhoven\\Documents\\Y4\\Q3\\Capita Selecta in Medical Image Analysis\\myfolder\\elastix.exe -f C:\\Users\\20192024\\OneDrive - TU Eindhoven\\Documents\\Y4\\Q3\\Capita Selecta in Medical Image Analysis\\Project\\Nieuw\\DataPreprocessed\\p107\\mr_bffe.mhd -m C:\\Users\\20192024\\OneDrive - TU Eindhoven\\Documents\\Y4\\Q3\\Capita Selecta in Medical Image Analysis\\Project\\Nieuw\\DataPreprocessed\\p109\\mr_bffe.mhd -p C:\\Users\\20192024\\OneDrive - TU Eindhoven\\Documents\\Y4\\Q3\\Capita Selecta in Medical Image Analysis\\Project\\Nieuw\\parameters\\experiment1\\0_Par0001affine.txt -p C:\\Users\\20192024\\OneDrive - TU Eindhoven\\Documents\\Y4\\Q3\\Capita Selecta in Medical Image Analysis\\Project\\Nieuw\\parameters\\experiment1\\1_Par0001bspline64.txt -out C:\\Users\\20192024\\OneDrive - TU Eindhoven\\Documents\\Y4\\Q3\\Capita Selecta in Medical Image Analysis\\Project\\Nieuw\\results\\experiment1\\p107_as_fixed\\p109_as_moving\n",
      "C:\\Users\\20192024\\OneDrive - TU Eindhoven\\Documents\\Y4\\Q3\\Capita Selecta in Medical Image Analysis\\myfolder\\elastix.exe -f C:\\Users\\20192024\\OneDrive - TU Eindhoven\\Documents\\Y4\\Q3\\Capita Selecta in Medical Image Analysis\\Project\\Nieuw\\DataPreprocessed\\p107\\mr_bffe.mhd -m C:\\Users\\20192024\\OneDrive - TU Eindhoven\\Documents\\Y4\\Q3\\Capita Selecta in Medical Image Analysis\\Project\\Nieuw\\DataPreprocessed\\p102\\mr_bffe.mhd -p C:\\Users\\20192024\\OneDrive - TU Eindhoven\\Documents\\Y4\\Q3\\Capita Selecta in Medical Image Analysis\\Project\\Nieuw\\parameters\\experiment1\\0_Par0001affine.txt -p C:\\Users\\20192024\\OneDrive - TU Eindhoven\\Documents\\Y4\\Q3\\Capita Selecta in Medical Image Analysis\\Project\\Nieuw\\parameters\\experiment1\\1_Par0001bspline64.txt -out C:\\Users\\20192024\\OneDrive - TU Eindhoven\\Documents\\Y4\\Q3\\Capita Selecta in Medical Image Analysis\\Project\\Nieuw\\results\\experiment1\\p107_as_fixed\\p102_as_moving\n"
     ]
    },
    {
     "name": "stdout",
     "output_type": "stream",
     "text": [
      "C:\\Users\\20192024\\OneDrive - TU Eindhoven\\Documents\\Y4\\Q3\\Capita Selecta in Medical Image Analysis\\myfolder\\elastix.exe -f C:\\Users\\20192024\\OneDrive - TU Eindhoven\\Documents\\Y4\\Q3\\Capita Selecta in Medical Image Analysis\\Project\\Nieuw\\DataPreprocessed\\p107\\mr_bffe.mhd -m C:\\Users\\20192024\\OneDrive - TU Eindhoven\\Documents\\Y4\\Q3\\Capita Selecta in Medical Image Analysis\\Project\\Nieuw\\DataPreprocessed\\p116\\mr_bffe.mhd -p C:\\Users\\20192024\\OneDrive - TU Eindhoven\\Documents\\Y4\\Q3\\Capita Selecta in Medical Image Analysis\\Project\\Nieuw\\parameters\\experiment1\\0_Par0001affine.txt -p C:\\Users\\20192024\\OneDrive - TU Eindhoven\\Documents\\Y4\\Q3\\Capita Selecta in Medical Image Analysis\\Project\\Nieuw\\parameters\\experiment1\\1_Par0001bspline64.txt -out C:\\Users\\20192024\\OneDrive - TU Eindhoven\\Documents\\Y4\\Q3\\Capita Selecta in Medical Image Analysis\\Project\\Nieuw\\results\\experiment1\\p107_as_fixed\\p116_as_moving\n",
      "C:\\Users\\20192024\\OneDrive - TU Eindhoven\\Documents\\Y4\\Q3\\Capita Selecta in Medical Image Analysis\\myfolder\\elastix.exe -f C:\\Users\\20192024\\OneDrive - TU Eindhoven\\Documents\\Y4\\Q3\\Capita Selecta in Medical Image Analysis\\Project\\Nieuw\\DataPreprocessed\\p107\\mr_bffe.mhd -m C:\\Users\\20192024\\OneDrive - TU Eindhoven\\Documents\\Y4\\Q3\\Capita Selecta in Medical Image Analysis\\Project\\Nieuw\\DataPreprocessed\\p129\\mr_bffe.mhd -p C:\\Users\\20192024\\OneDrive - TU Eindhoven\\Documents\\Y4\\Q3\\Capita Selecta in Medical Image Analysis\\Project\\Nieuw\\parameters\\experiment1\\0_Par0001affine.txt -p C:\\Users\\20192024\\OneDrive - TU Eindhoven\\Documents\\Y4\\Q3\\Capita Selecta in Medical Image Analysis\\Project\\Nieuw\\parameters\\experiment1\\1_Par0001bspline64.txt -out C:\\Users\\20192024\\OneDrive - TU Eindhoven\\Documents\\Y4\\Q3\\Capita Selecta in Medical Image Analysis\\Project\\Nieuw\\results\\experiment1\\p107_as_fixed\\p129_as_moving\n",
      "C:\\Users\\20192024\\OneDrive - TU Eindhoven\\Documents\\Y4\\Q3\\Capita Selecta in Medical Image Analysis\\myfolder\\elastix.exe -f C:\\Users\\20192024\\OneDrive - TU Eindhoven\\Documents\\Y4\\Q3\\Capita Selecta in Medical Image Analysis\\Project\\Nieuw\\DataPreprocessed\\p117\\mr_bffe.mhd -m C:\\Users\\20192024\\OneDrive - TU Eindhoven\\Documents\\Y4\\Q3\\Capita Selecta in Medical Image Analysis\\Project\\Nieuw\\DataPreprocessed\\p125\\mr_bffe.mhd -p C:\\Users\\20192024\\OneDrive - TU Eindhoven\\Documents\\Y4\\Q3\\Capita Selecta in Medical Image Analysis\\Project\\Nieuw\\parameters\\experiment1\\0_Par0001affine.txt -p C:\\Users\\20192024\\OneDrive - TU Eindhoven\\Documents\\Y4\\Q3\\Capita Selecta in Medical Image Analysis\\Project\\Nieuw\\parameters\\experiment1\\1_Par0001bspline64.txt -out C:\\Users\\20192024\\OneDrive - TU Eindhoven\\Documents\\Y4\\Q3\\Capita Selecta in Medical Image Analysis\\Project\\Nieuw\\results\\experiment1\\p117_as_fixed\\p125_as_moving\n",
      "C:\\Users\\20192024\\OneDrive - TU Eindhoven\\Documents\\Y4\\Q3\\Capita Selecta in Medical Image Analysis\\myfolder\\elastix.exe -f C:\\Users\\20192024\\OneDrive - TU Eindhoven\\Documents\\Y4\\Q3\\Capita Selecta in Medical Image Analysis\\Project\\Nieuw\\DataPreprocessed\\p117\\mr_bffe.mhd -m C:\\Users\\20192024\\OneDrive - TU Eindhoven\\Documents\\Y4\\Q3\\Capita Selecta in Medical Image Analysis\\Project\\Nieuw\\DataPreprocessed\\p135\\mr_bffe.mhd -p C:\\Users\\20192024\\OneDrive - TU Eindhoven\\Documents\\Y4\\Q3\\Capita Selecta in Medical Image Analysis\\Project\\Nieuw\\parameters\\experiment1\\0_Par0001affine.txt -p C:\\Users\\20192024\\OneDrive - TU Eindhoven\\Documents\\Y4\\Q3\\Capita Selecta in Medical Image Analysis\\Project\\Nieuw\\parameters\\experiment1\\1_Par0001bspline64.txt -out C:\\Users\\20192024\\OneDrive - TU Eindhoven\\Documents\\Y4\\Q3\\Capita Selecta in Medical Image Analysis\\Project\\Nieuw\\results\\experiment1\\p117_as_fixed\\p135_as_moving\n",
      "C:\\Users\\20192024\\OneDrive - TU Eindhoven\\Documents\\Y4\\Q3\\Capita Selecta in Medical Image Analysis\\myfolder\\elastix.exe -f C:\\Users\\20192024\\OneDrive - TU Eindhoven\\Documents\\Y4\\Q3\\Capita Selecta in Medical Image Analysis\\Project\\Nieuw\\DataPreprocessed\\p117\\mr_bffe.mhd -m C:\\Users\\20192024\\OneDrive - TU Eindhoven\\Documents\\Y4\\Q3\\Capita Selecta in Medical Image Analysis\\Project\\Nieuw\\DataPreprocessed\\p115\\mr_bffe.mhd -p C:\\Users\\20192024\\OneDrive - TU Eindhoven\\Documents\\Y4\\Q3\\Capita Selecta in Medical Image Analysis\\Project\\Nieuw\\parameters\\experiment1\\0_Par0001affine.txt -p C:\\Users\\20192024\\OneDrive - TU Eindhoven\\Documents\\Y4\\Q3\\Capita Selecta in Medical Image Analysis\\Project\\Nieuw\\parameters\\experiment1\\1_Par0001bspline64.txt -out C:\\Users\\20192024\\OneDrive - TU Eindhoven\\Documents\\Y4\\Q3\\Capita Selecta in Medical Image Analysis\\Project\\Nieuw\\results\\experiment1\\p117_as_fixed\\p115_as_moving\n",
      "C:\\Users\\20192024\\OneDrive - TU Eindhoven\\Documents\\Y4\\Q3\\Capita Selecta in Medical Image Analysis\\myfolder\\elastix.exe -f C:\\Users\\20192024\\OneDrive - TU Eindhoven\\Documents\\Y4\\Q3\\Capita Selecta in Medical Image Analysis\\Project\\Nieuw\\DataPreprocessed\\p117\\mr_bffe.mhd -m C:\\Users\\20192024\\OneDrive - TU Eindhoven\\Documents\\Y4\\Q3\\Capita Selecta in Medical Image Analysis\\Project\\Nieuw\\DataPreprocessed\\p108\\mr_bffe.mhd -p C:\\Users\\20192024\\OneDrive - TU Eindhoven\\Documents\\Y4\\Q3\\Capita Selecta in Medical Image Analysis\\Project\\Nieuw\\parameters\\experiment1\\0_Par0001affine.txt -p C:\\Users\\20192024\\OneDrive - TU Eindhoven\\Documents\\Y4\\Q3\\Capita Selecta in Medical Image Analysis\\Project\\Nieuw\\parameters\\experiment1\\1_Par0001bspline64.txt -out C:\\Users\\20192024\\OneDrive - TU Eindhoven\\Documents\\Y4\\Q3\\Capita Selecta in Medical Image Analysis\\Project\\Nieuw\\results\\experiment1\\p117_as_fixed\\p108_as_moving\n",
      "C:\\Users\\20192024\\OneDrive - TU Eindhoven\\Documents\\Y4\\Q3\\Capita Selecta in Medical Image Analysis\\myfolder\\elastix.exe -f C:\\Users\\20192024\\OneDrive - TU Eindhoven\\Documents\\Y4\\Q3\\Capita Selecta in Medical Image Analysis\\Project\\Nieuw\\DataPreprocessed\\p117\\mr_bffe.mhd -m C:\\Users\\20192024\\OneDrive - TU Eindhoven\\Documents\\Y4\\Q3\\Capita Selecta in Medical Image Analysis\\Project\\Nieuw\\DataPreprocessed\\p133\\mr_bffe.mhd -p C:\\Users\\20192024\\OneDrive - TU Eindhoven\\Documents\\Y4\\Q3\\Capita Selecta in Medical Image Analysis\\Project\\Nieuw\\parameters\\experiment1\\0_Par0001affine.txt -p C:\\Users\\20192024\\OneDrive - TU Eindhoven\\Documents\\Y4\\Q3\\Capita Selecta in Medical Image Analysis\\Project\\Nieuw\\parameters\\experiment1\\1_Par0001bspline64.txt -out C:\\Users\\20192024\\OneDrive - TU Eindhoven\\Documents\\Y4\\Q3\\Capita Selecta in Medical Image Analysis\\Project\\Nieuw\\results\\experiment1\\p117_as_fixed\\p133_as_moving\n",
      "C:\\Users\\20192024\\OneDrive - TU Eindhoven\\Documents\\Y4\\Q3\\Capita Selecta in Medical Image Analysis\\myfolder\\elastix.exe -f C:\\Users\\20192024\\OneDrive - TU Eindhoven\\Documents\\Y4\\Q3\\Capita Selecta in Medical Image Analysis\\Project\\Nieuw\\DataPreprocessed\\p117\\mr_bffe.mhd -m C:\\Users\\20192024\\OneDrive - TU Eindhoven\\Documents\\Y4\\Q3\\Capita Selecta in Medical Image Analysis\\Project\\Nieuw\\DataPreprocessed\\p127\\mr_bffe.mhd -p C:\\Users\\20192024\\OneDrive - TU Eindhoven\\Documents\\Y4\\Q3\\Capita Selecta in Medical Image Analysis\\Project\\Nieuw\\parameters\\experiment1\\0_Par0001affine.txt -p C:\\Users\\20192024\\OneDrive - TU Eindhoven\\Documents\\Y4\\Q3\\Capita Selecta in Medical Image Analysis\\Project\\Nieuw\\parameters\\experiment1\\1_Par0001bspline64.txt -out C:\\Users\\20192024\\OneDrive - TU Eindhoven\\Documents\\Y4\\Q3\\Capita Selecta in Medical Image Analysis\\Project\\Nieuw\\results\\experiment1\\p117_as_fixed\\p127_as_moving\n",
      "C:\\Users\\20192024\\OneDrive - TU Eindhoven\\Documents\\Y4\\Q3\\Capita Selecta in Medical Image Analysis\\myfolder\\elastix.exe -f C:\\Users\\20192024\\OneDrive - TU Eindhoven\\Documents\\Y4\\Q3\\Capita Selecta in Medical Image Analysis\\Project\\Nieuw\\DataPreprocessed\\p117\\mr_bffe.mhd -m C:\\Users\\20192024\\OneDrive - TU Eindhoven\\Documents\\Y4\\Q3\\Capita Selecta in Medical Image Analysis\\Project\\Nieuw\\DataPreprocessed\\p119\\mr_bffe.mhd -p C:\\Users\\20192024\\OneDrive - TU Eindhoven\\Documents\\Y4\\Q3\\Capita Selecta in Medical Image Analysis\\Project\\Nieuw\\parameters\\experiment1\\0_Par0001affine.txt -p C:\\Users\\20192024\\OneDrive - TU Eindhoven\\Documents\\Y4\\Q3\\Capita Selecta in Medical Image Analysis\\Project\\Nieuw\\parameters\\experiment1\\1_Par0001bspline64.txt -out C:\\Users\\20192024\\OneDrive - TU Eindhoven\\Documents\\Y4\\Q3\\Capita Selecta in Medical Image Analysis\\Project\\Nieuw\\results\\experiment1\\p117_as_fixed\\p119_as_moving\n",
      "C:\\Users\\20192024\\OneDrive - TU Eindhoven\\Documents\\Y4\\Q3\\Capita Selecta in Medical Image Analysis\\myfolder\\elastix.exe -f C:\\Users\\20192024\\OneDrive - TU Eindhoven\\Documents\\Y4\\Q3\\Capita Selecta in Medical Image Analysis\\Project\\Nieuw\\DataPreprocessed\\p117\\mr_bffe.mhd -m C:\\Users\\20192024\\OneDrive - TU Eindhoven\\Documents\\Y4\\Q3\\Capita Selecta in Medical Image Analysis\\Project\\Nieuw\\DataPreprocessed\\p128\\mr_bffe.mhd -p C:\\Users\\20192024\\OneDrive - TU Eindhoven\\Documents\\Y4\\Q3\\Capita Selecta in Medical Image Analysis\\Project\\Nieuw\\parameters\\experiment1\\0_Par0001affine.txt -p C:\\Users\\20192024\\OneDrive - TU Eindhoven\\Documents\\Y4\\Q3\\Capita Selecta in Medical Image Analysis\\Project\\Nieuw\\parameters\\experiment1\\1_Par0001bspline64.txt -out C:\\Users\\20192024\\OneDrive - TU Eindhoven\\Documents\\Y4\\Q3\\Capita Selecta in Medical Image Analysis\\Project\\Nieuw\\results\\experiment1\\p117_as_fixed\\p128_as_moving\n"
     ]
    },
    {
     "name": "stdout",
     "output_type": "stream",
     "text": [
      "C:\\Users\\20192024\\OneDrive - TU Eindhoven\\Documents\\Y4\\Q3\\Capita Selecta in Medical Image Analysis\\myfolder\\elastix.exe -f C:\\Users\\20192024\\OneDrive - TU Eindhoven\\Documents\\Y4\\Q3\\Capita Selecta in Medical Image Analysis\\Project\\Nieuw\\DataPreprocessed\\p117\\mr_bffe.mhd -m C:\\Users\\20192024\\OneDrive - TU Eindhoven\\Documents\\Y4\\Q3\\Capita Selecta in Medical Image Analysis\\Project\\Nieuw\\DataPreprocessed\\p109\\mr_bffe.mhd -p C:\\Users\\20192024\\OneDrive - TU Eindhoven\\Documents\\Y4\\Q3\\Capita Selecta in Medical Image Analysis\\Project\\Nieuw\\parameters\\experiment1\\0_Par0001affine.txt -p C:\\Users\\20192024\\OneDrive - TU Eindhoven\\Documents\\Y4\\Q3\\Capita Selecta in Medical Image Analysis\\Project\\Nieuw\\parameters\\experiment1\\1_Par0001bspline64.txt -out C:\\Users\\20192024\\OneDrive - TU Eindhoven\\Documents\\Y4\\Q3\\Capita Selecta in Medical Image Analysis\\Project\\Nieuw\\results\\experiment1\\p117_as_fixed\\p109_as_moving\n",
      "C:\\Users\\20192024\\OneDrive - TU Eindhoven\\Documents\\Y4\\Q3\\Capita Selecta in Medical Image Analysis\\myfolder\\elastix.exe -f C:\\Users\\20192024\\OneDrive - TU Eindhoven\\Documents\\Y4\\Q3\\Capita Selecta in Medical Image Analysis\\Project\\Nieuw\\DataPreprocessed\\p117\\mr_bffe.mhd -m C:\\Users\\20192024\\OneDrive - TU Eindhoven\\Documents\\Y4\\Q3\\Capita Selecta in Medical Image Analysis\\Project\\Nieuw\\DataPreprocessed\\p102\\mr_bffe.mhd -p C:\\Users\\20192024\\OneDrive - TU Eindhoven\\Documents\\Y4\\Q3\\Capita Selecta in Medical Image Analysis\\Project\\Nieuw\\parameters\\experiment1\\0_Par0001affine.txt -p C:\\Users\\20192024\\OneDrive - TU Eindhoven\\Documents\\Y4\\Q3\\Capita Selecta in Medical Image Analysis\\Project\\Nieuw\\parameters\\experiment1\\1_Par0001bspline64.txt -out C:\\Users\\20192024\\OneDrive - TU Eindhoven\\Documents\\Y4\\Q3\\Capita Selecta in Medical Image Analysis\\Project\\Nieuw\\results\\experiment1\\p117_as_fixed\\p102_as_moving\n",
      "C:\\Users\\20192024\\OneDrive - TU Eindhoven\\Documents\\Y4\\Q3\\Capita Selecta in Medical Image Analysis\\myfolder\\elastix.exe -f C:\\Users\\20192024\\OneDrive - TU Eindhoven\\Documents\\Y4\\Q3\\Capita Selecta in Medical Image Analysis\\Project\\Nieuw\\DataPreprocessed\\p117\\mr_bffe.mhd -m C:\\Users\\20192024\\OneDrive - TU Eindhoven\\Documents\\Y4\\Q3\\Capita Selecta in Medical Image Analysis\\Project\\Nieuw\\DataPreprocessed\\p116\\mr_bffe.mhd -p C:\\Users\\20192024\\OneDrive - TU Eindhoven\\Documents\\Y4\\Q3\\Capita Selecta in Medical Image Analysis\\Project\\Nieuw\\parameters\\experiment1\\0_Par0001affine.txt -p C:\\Users\\20192024\\OneDrive - TU Eindhoven\\Documents\\Y4\\Q3\\Capita Selecta in Medical Image Analysis\\Project\\Nieuw\\parameters\\experiment1\\1_Par0001bspline64.txt -out C:\\Users\\20192024\\OneDrive - TU Eindhoven\\Documents\\Y4\\Q3\\Capita Selecta in Medical Image Analysis\\Project\\Nieuw\\results\\experiment1\\p117_as_fixed\\p116_as_moving\n",
      "C:\\Users\\20192024\\OneDrive - TU Eindhoven\\Documents\\Y4\\Q3\\Capita Selecta in Medical Image Analysis\\myfolder\\elastix.exe -f C:\\Users\\20192024\\OneDrive - TU Eindhoven\\Documents\\Y4\\Q3\\Capita Selecta in Medical Image Analysis\\Project\\Nieuw\\DataPreprocessed\\p117\\mr_bffe.mhd -m C:\\Users\\20192024\\OneDrive - TU Eindhoven\\Documents\\Y4\\Q3\\Capita Selecta in Medical Image Analysis\\Project\\Nieuw\\DataPreprocessed\\p129\\mr_bffe.mhd -p C:\\Users\\20192024\\OneDrive - TU Eindhoven\\Documents\\Y4\\Q3\\Capita Selecta in Medical Image Analysis\\Project\\Nieuw\\parameters\\experiment1\\0_Par0001affine.txt -p C:\\Users\\20192024\\OneDrive - TU Eindhoven\\Documents\\Y4\\Q3\\Capita Selecta in Medical Image Analysis\\Project\\Nieuw\\parameters\\experiment1\\1_Par0001bspline64.txt -out C:\\Users\\20192024\\OneDrive - TU Eindhoven\\Documents\\Y4\\Q3\\Capita Selecta in Medical Image Analysis\\Project\\Nieuw\\results\\experiment1\\p117_as_fixed\\p129_as_moving\n",
      "C:\\Users\\20192024\\OneDrive - TU Eindhoven\\Documents\\Y4\\Q3\\Capita Selecta in Medical Image Analysis\\myfolder\\elastix.exe -f C:\\Users\\20192024\\OneDrive - TU Eindhoven\\Documents\\Y4\\Q3\\Capita Selecta in Medical Image Analysis\\Project\\Nieuw\\DataPreprocessed\\p120\\mr_bffe.mhd -m C:\\Users\\20192024\\OneDrive - TU Eindhoven\\Documents\\Y4\\Q3\\Capita Selecta in Medical Image Analysis\\Project\\Nieuw\\DataPreprocessed\\p125\\mr_bffe.mhd -p C:\\Users\\20192024\\OneDrive - TU Eindhoven\\Documents\\Y4\\Q3\\Capita Selecta in Medical Image Analysis\\Project\\Nieuw\\parameters\\experiment1\\0_Par0001affine.txt -p C:\\Users\\20192024\\OneDrive - TU Eindhoven\\Documents\\Y4\\Q3\\Capita Selecta in Medical Image Analysis\\Project\\Nieuw\\parameters\\experiment1\\1_Par0001bspline64.txt -out C:\\Users\\20192024\\OneDrive - TU Eindhoven\\Documents\\Y4\\Q3\\Capita Selecta in Medical Image Analysis\\Project\\Nieuw\\results\\experiment1\\p120_as_fixed\\p125_as_moving\n",
      "C:\\Users\\20192024\\OneDrive - TU Eindhoven\\Documents\\Y4\\Q3\\Capita Selecta in Medical Image Analysis\\myfolder\\elastix.exe -f C:\\Users\\20192024\\OneDrive - TU Eindhoven\\Documents\\Y4\\Q3\\Capita Selecta in Medical Image Analysis\\Project\\Nieuw\\DataPreprocessed\\p120\\mr_bffe.mhd -m C:\\Users\\20192024\\OneDrive - TU Eindhoven\\Documents\\Y4\\Q3\\Capita Selecta in Medical Image Analysis\\Project\\Nieuw\\DataPreprocessed\\p135\\mr_bffe.mhd -p C:\\Users\\20192024\\OneDrive - TU Eindhoven\\Documents\\Y4\\Q3\\Capita Selecta in Medical Image Analysis\\Project\\Nieuw\\parameters\\experiment1\\0_Par0001affine.txt -p C:\\Users\\20192024\\OneDrive - TU Eindhoven\\Documents\\Y4\\Q3\\Capita Selecta in Medical Image Analysis\\Project\\Nieuw\\parameters\\experiment1\\1_Par0001bspline64.txt -out C:\\Users\\20192024\\OneDrive - TU Eindhoven\\Documents\\Y4\\Q3\\Capita Selecta in Medical Image Analysis\\Project\\Nieuw\\results\\experiment1\\p120_as_fixed\\p135_as_moving\n",
      "C:\\Users\\20192024\\OneDrive - TU Eindhoven\\Documents\\Y4\\Q3\\Capita Selecta in Medical Image Analysis\\myfolder\\elastix.exe -f C:\\Users\\20192024\\OneDrive - TU Eindhoven\\Documents\\Y4\\Q3\\Capita Selecta in Medical Image Analysis\\Project\\Nieuw\\DataPreprocessed\\p120\\mr_bffe.mhd -m C:\\Users\\20192024\\OneDrive - TU Eindhoven\\Documents\\Y4\\Q3\\Capita Selecta in Medical Image Analysis\\Project\\Nieuw\\DataPreprocessed\\p115\\mr_bffe.mhd -p C:\\Users\\20192024\\OneDrive - TU Eindhoven\\Documents\\Y4\\Q3\\Capita Selecta in Medical Image Analysis\\Project\\Nieuw\\parameters\\experiment1\\0_Par0001affine.txt -p C:\\Users\\20192024\\OneDrive - TU Eindhoven\\Documents\\Y4\\Q3\\Capita Selecta in Medical Image Analysis\\Project\\Nieuw\\parameters\\experiment1\\1_Par0001bspline64.txt -out C:\\Users\\20192024\\OneDrive - TU Eindhoven\\Documents\\Y4\\Q3\\Capita Selecta in Medical Image Analysis\\Project\\Nieuw\\results\\experiment1\\p120_as_fixed\\p115_as_moving\n",
      "C:\\Users\\20192024\\OneDrive - TU Eindhoven\\Documents\\Y4\\Q3\\Capita Selecta in Medical Image Analysis\\myfolder\\elastix.exe -f C:\\Users\\20192024\\OneDrive - TU Eindhoven\\Documents\\Y4\\Q3\\Capita Selecta in Medical Image Analysis\\Project\\Nieuw\\DataPreprocessed\\p120\\mr_bffe.mhd -m C:\\Users\\20192024\\OneDrive - TU Eindhoven\\Documents\\Y4\\Q3\\Capita Selecta in Medical Image Analysis\\Project\\Nieuw\\DataPreprocessed\\p108\\mr_bffe.mhd -p C:\\Users\\20192024\\OneDrive - TU Eindhoven\\Documents\\Y4\\Q3\\Capita Selecta in Medical Image Analysis\\Project\\Nieuw\\parameters\\experiment1\\0_Par0001affine.txt -p C:\\Users\\20192024\\OneDrive - TU Eindhoven\\Documents\\Y4\\Q3\\Capita Selecta in Medical Image Analysis\\Project\\Nieuw\\parameters\\experiment1\\1_Par0001bspline64.txt -out C:\\Users\\20192024\\OneDrive - TU Eindhoven\\Documents\\Y4\\Q3\\Capita Selecta in Medical Image Analysis\\Project\\Nieuw\\results\\experiment1\\p120_as_fixed\\p108_as_moving\n",
      "C:\\Users\\20192024\\OneDrive - TU Eindhoven\\Documents\\Y4\\Q3\\Capita Selecta in Medical Image Analysis\\myfolder\\elastix.exe -f C:\\Users\\20192024\\OneDrive - TU Eindhoven\\Documents\\Y4\\Q3\\Capita Selecta in Medical Image Analysis\\Project\\Nieuw\\DataPreprocessed\\p120\\mr_bffe.mhd -m C:\\Users\\20192024\\OneDrive - TU Eindhoven\\Documents\\Y4\\Q3\\Capita Selecta in Medical Image Analysis\\Project\\Nieuw\\DataPreprocessed\\p133\\mr_bffe.mhd -p C:\\Users\\20192024\\OneDrive - TU Eindhoven\\Documents\\Y4\\Q3\\Capita Selecta in Medical Image Analysis\\Project\\Nieuw\\parameters\\experiment1\\0_Par0001affine.txt -p C:\\Users\\20192024\\OneDrive - TU Eindhoven\\Documents\\Y4\\Q3\\Capita Selecta in Medical Image Analysis\\Project\\Nieuw\\parameters\\experiment1\\1_Par0001bspline64.txt -out C:\\Users\\20192024\\OneDrive - TU Eindhoven\\Documents\\Y4\\Q3\\Capita Selecta in Medical Image Analysis\\Project\\Nieuw\\results\\experiment1\\p120_as_fixed\\p133_as_moving\n",
      "C:\\Users\\20192024\\OneDrive - TU Eindhoven\\Documents\\Y4\\Q3\\Capita Selecta in Medical Image Analysis\\myfolder\\elastix.exe -f C:\\Users\\20192024\\OneDrive - TU Eindhoven\\Documents\\Y4\\Q3\\Capita Selecta in Medical Image Analysis\\Project\\Nieuw\\DataPreprocessed\\p120\\mr_bffe.mhd -m C:\\Users\\20192024\\OneDrive - TU Eindhoven\\Documents\\Y4\\Q3\\Capita Selecta in Medical Image Analysis\\Project\\Nieuw\\DataPreprocessed\\p127\\mr_bffe.mhd -p C:\\Users\\20192024\\OneDrive - TU Eindhoven\\Documents\\Y4\\Q3\\Capita Selecta in Medical Image Analysis\\Project\\Nieuw\\parameters\\experiment1\\0_Par0001affine.txt -p C:\\Users\\20192024\\OneDrive - TU Eindhoven\\Documents\\Y4\\Q3\\Capita Selecta in Medical Image Analysis\\Project\\Nieuw\\parameters\\experiment1\\1_Par0001bspline64.txt -out C:\\Users\\20192024\\OneDrive - TU Eindhoven\\Documents\\Y4\\Q3\\Capita Selecta in Medical Image Analysis\\Project\\Nieuw\\results\\experiment1\\p120_as_fixed\\p127_as_moving\n"
     ]
    },
    {
     "name": "stdout",
     "output_type": "stream",
     "text": [
      "C:\\Users\\20192024\\OneDrive - TU Eindhoven\\Documents\\Y4\\Q3\\Capita Selecta in Medical Image Analysis\\myfolder\\elastix.exe -f C:\\Users\\20192024\\OneDrive - TU Eindhoven\\Documents\\Y4\\Q3\\Capita Selecta in Medical Image Analysis\\Project\\Nieuw\\DataPreprocessed\\p120\\mr_bffe.mhd -m C:\\Users\\20192024\\OneDrive - TU Eindhoven\\Documents\\Y4\\Q3\\Capita Selecta in Medical Image Analysis\\Project\\Nieuw\\DataPreprocessed\\p119\\mr_bffe.mhd -p C:\\Users\\20192024\\OneDrive - TU Eindhoven\\Documents\\Y4\\Q3\\Capita Selecta in Medical Image Analysis\\Project\\Nieuw\\parameters\\experiment1\\0_Par0001affine.txt -p C:\\Users\\20192024\\OneDrive - TU Eindhoven\\Documents\\Y4\\Q3\\Capita Selecta in Medical Image Analysis\\Project\\Nieuw\\parameters\\experiment1\\1_Par0001bspline64.txt -out C:\\Users\\20192024\\OneDrive - TU Eindhoven\\Documents\\Y4\\Q3\\Capita Selecta in Medical Image Analysis\\Project\\Nieuw\\results\\experiment1\\p120_as_fixed\\p119_as_moving\n",
      "C:\\Users\\20192024\\OneDrive - TU Eindhoven\\Documents\\Y4\\Q3\\Capita Selecta in Medical Image Analysis\\myfolder\\elastix.exe -f C:\\Users\\20192024\\OneDrive - TU Eindhoven\\Documents\\Y4\\Q3\\Capita Selecta in Medical Image Analysis\\Project\\Nieuw\\DataPreprocessed\\p120\\mr_bffe.mhd -m C:\\Users\\20192024\\OneDrive - TU Eindhoven\\Documents\\Y4\\Q3\\Capita Selecta in Medical Image Analysis\\Project\\Nieuw\\DataPreprocessed\\p128\\mr_bffe.mhd -p C:\\Users\\20192024\\OneDrive - TU Eindhoven\\Documents\\Y4\\Q3\\Capita Selecta in Medical Image Analysis\\Project\\Nieuw\\parameters\\experiment1\\0_Par0001affine.txt -p C:\\Users\\20192024\\OneDrive - TU Eindhoven\\Documents\\Y4\\Q3\\Capita Selecta in Medical Image Analysis\\Project\\Nieuw\\parameters\\experiment1\\1_Par0001bspline64.txt -out C:\\Users\\20192024\\OneDrive - TU Eindhoven\\Documents\\Y4\\Q3\\Capita Selecta in Medical Image Analysis\\Project\\Nieuw\\results\\experiment1\\p120_as_fixed\\p128_as_moving\n",
      "C:\\Users\\20192024\\OneDrive - TU Eindhoven\\Documents\\Y4\\Q3\\Capita Selecta in Medical Image Analysis\\myfolder\\elastix.exe -f C:\\Users\\20192024\\OneDrive - TU Eindhoven\\Documents\\Y4\\Q3\\Capita Selecta in Medical Image Analysis\\Project\\Nieuw\\DataPreprocessed\\p120\\mr_bffe.mhd -m C:\\Users\\20192024\\OneDrive - TU Eindhoven\\Documents\\Y4\\Q3\\Capita Selecta in Medical Image Analysis\\Project\\Nieuw\\DataPreprocessed\\p109\\mr_bffe.mhd -p C:\\Users\\20192024\\OneDrive - TU Eindhoven\\Documents\\Y4\\Q3\\Capita Selecta in Medical Image Analysis\\Project\\Nieuw\\parameters\\experiment1\\0_Par0001affine.txt -p C:\\Users\\20192024\\OneDrive - TU Eindhoven\\Documents\\Y4\\Q3\\Capita Selecta in Medical Image Analysis\\Project\\Nieuw\\parameters\\experiment1\\1_Par0001bspline64.txt -out C:\\Users\\20192024\\OneDrive - TU Eindhoven\\Documents\\Y4\\Q3\\Capita Selecta in Medical Image Analysis\\Project\\Nieuw\\results\\experiment1\\p120_as_fixed\\p109_as_moving\n",
      "C:\\Users\\20192024\\OneDrive - TU Eindhoven\\Documents\\Y4\\Q3\\Capita Selecta in Medical Image Analysis\\myfolder\\elastix.exe -f C:\\Users\\20192024\\OneDrive - TU Eindhoven\\Documents\\Y4\\Q3\\Capita Selecta in Medical Image Analysis\\Project\\Nieuw\\DataPreprocessed\\p120\\mr_bffe.mhd -m C:\\Users\\20192024\\OneDrive - TU Eindhoven\\Documents\\Y4\\Q3\\Capita Selecta in Medical Image Analysis\\Project\\Nieuw\\DataPreprocessed\\p102\\mr_bffe.mhd -p C:\\Users\\20192024\\OneDrive - TU Eindhoven\\Documents\\Y4\\Q3\\Capita Selecta in Medical Image Analysis\\Project\\Nieuw\\parameters\\experiment1\\0_Par0001affine.txt -p C:\\Users\\20192024\\OneDrive - TU Eindhoven\\Documents\\Y4\\Q3\\Capita Selecta in Medical Image Analysis\\Project\\Nieuw\\parameters\\experiment1\\1_Par0001bspline64.txt -out C:\\Users\\20192024\\OneDrive - TU Eindhoven\\Documents\\Y4\\Q3\\Capita Selecta in Medical Image Analysis\\Project\\Nieuw\\results\\experiment1\\p120_as_fixed\\p102_as_moving\n",
      "C:\\Users\\20192024\\OneDrive - TU Eindhoven\\Documents\\Y4\\Q3\\Capita Selecta in Medical Image Analysis\\myfolder\\elastix.exe -f C:\\Users\\20192024\\OneDrive - TU Eindhoven\\Documents\\Y4\\Q3\\Capita Selecta in Medical Image Analysis\\Project\\Nieuw\\DataPreprocessed\\p120\\mr_bffe.mhd -m C:\\Users\\20192024\\OneDrive - TU Eindhoven\\Documents\\Y4\\Q3\\Capita Selecta in Medical Image Analysis\\Project\\Nieuw\\DataPreprocessed\\p116\\mr_bffe.mhd -p C:\\Users\\20192024\\OneDrive - TU Eindhoven\\Documents\\Y4\\Q3\\Capita Selecta in Medical Image Analysis\\Project\\Nieuw\\parameters\\experiment1\\0_Par0001affine.txt -p C:\\Users\\20192024\\OneDrive - TU Eindhoven\\Documents\\Y4\\Q3\\Capita Selecta in Medical Image Analysis\\Project\\Nieuw\\parameters\\experiment1\\1_Par0001bspline64.txt -out C:\\Users\\20192024\\OneDrive - TU Eindhoven\\Documents\\Y4\\Q3\\Capita Selecta in Medical Image Analysis\\Project\\Nieuw\\results\\experiment1\\p120_as_fixed\\p116_as_moving\n",
      "C:\\Users\\20192024\\OneDrive - TU Eindhoven\\Documents\\Y4\\Q3\\Capita Selecta in Medical Image Analysis\\myfolder\\elastix.exe -f C:\\Users\\20192024\\OneDrive - TU Eindhoven\\Documents\\Y4\\Q3\\Capita Selecta in Medical Image Analysis\\Project\\Nieuw\\DataPreprocessed\\p120\\mr_bffe.mhd -m C:\\Users\\20192024\\OneDrive - TU Eindhoven\\Documents\\Y4\\Q3\\Capita Selecta in Medical Image Analysis\\Project\\Nieuw\\DataPreprocessed\\p129\\mr_bffe.mhd -p C:\\Users\\20192024\\OneDrive - TU Eindhoven\\Documents\\Y4\\Q3\\Capita Selecta in Medical Image Analysis\\Project\\Nieuw\\parameters\\experiment1\\0_Par0001affine.txt -p C:\\Users\\20192024\\OneDrive - TU Eindhoven\\Documents\\Y4\\Q3\\Capita Selecta in Medical Image Analysis\\Project\\Nieuw\\parameters\\experiment1\\1_Par0001bspline64.txt -out C:\\Users\\20192024\\OneDrive - TU Eindhoven\\Documents\\Y4\\Q3\\Capita Selecta in Medical Image Analysis\\Project\\Nieuw\\results\\experiment1\\p120_as_fixed\\p129_as_moving\n"
=======
      "Saving Preprocessed Data: 100%|██████████| 15/15 [00:02<00:00,  7.20it/s]\n"
>>>>>>> Stashed changes
     ]
    }
   ],
   "source": [
    "model.preprocess_and_save(downscale_factor=1, normalize=\"none\")"
   ]
  },
  {
   "cell_type": "markdown",
   "metadata": {},
   "source": [
    "## Computing metrics"
   ]
  },
  {
   "cell_type": "markdown",
   "metadata": {},
   "source": [
    "## Jacobian"
   ]
  },
  {
   "cell_type": "code",
   "execution_count": 9,
   "metadata": {},
   "outputs": [
    {
     "ename": "TransformixError",
     "evalue": "Transformix crashed with code 4294967294 for command 'C:\\Users\\20192024\\OneDrive - TU Eindhoven\\Documents\\Y4\\Q3\\Capita Selecta in Medical Image Analysis\\myfolder\\transformix.exe -tp C:\\Users\\20192024\\OneDrive - TU Eindhoven\\Documents\\Y4\\Q3\\Capita Selecta in Medical Image Analysis\\Project\\Nieuw\\results\\experiment1\\p107_as_fixed\\p102_as_moving\\TransformParameters.1.txt -out C:\\Users\\20192024\\OneDrive - TU Eindhoven\\Documents\\Y4\\Q3\\Capita Selecta in Medical Image Analysis\\Project\\Nieuw\\results\\experiment1\\p107_as_fixed\\p102_as_moving\\TransformParameters.1.txt -jacmat all'.",
     "output_type": "error",
     "traceback": [
      "\u001b[1;31m---------------------------------------------------------------------------\u001b[0m",
      "\u001b[1;31mTransformixError\u001b[0m                          Traceback (most recent call last)",
      "\u001b[1;32m<ipython-input-9-aa9425816fca>\u001b[0m in \u001b[0;36m<module>\u001b[1;34m\u001b[0m\n\u001b[0;32m      2\u001b[0m \u001b[1;33m\u001b[0m\u001b[0m\n\u001b[0;32m      3\u001b[0m \u001b[0mtr\u001b[0m \u001b[1;33m=\u001b[0m \u001b[0melastix\u001b[0m\u001b[1;33m.\u001b[0m\u001b[0mTransformixInterface\u001b[0m\u001b[1;33m(\u001b[0m\u001b[0mparameters\u001b[0m\u001b[1;33m=\u001b[0m\u001b[0mtransform_parameters_path\u001b[0m\u001b[1;33m,\u001b[0m \u001b[0mtransformix_path\u001b[0m\u001b[1;33m=\u001b[0m\u001b[0mTRANSFORMIX_PATH\u001b[0m\u001b[1;33m)\u001b[0m\u001b[1;33m\u001b[0m\u001b[0m\n\u001b[1;32m----> 4\u001b[1;33m \u001b[0mjacobian_matrix_path\u001b[0m \u001b[1;33m=\u001b[0m \u001b[0mtr\u001b[0m\u001b[1;33m.\u001b[0m\u001b[0mjacobian_matrix\u001b[0m\u001b[1;33m(\u001b[0m\u001b[0moutput_dir\u001b[0m\u001b[1;33m=\u001b[0m\u001b[0mtransform_parameters_path\u001b[0m\u001b[1;33m)\u001b[0m\u001b[1;33m\u001b[0m\u001b[0m\n\u001b[0m\u001b[0;32m      5\u001b[0m \u001b[0mjacobian_determinant_path\u001b[0m \u001b[1;33m=\u001b[0m \u001b[0mtr\u001b[0m\u001b[1;33m.\u001b[0m\u001b[0mjacobian_determinant\u001b[0m\u001b[1;33m(\u001b[0m\u001b[0moutput_dir\u001b[0m\u001b[1;33m=\u001b[0m\u001b[0mtransform_parameters_path\u001b[0m\u001b[1;33m)\u001b[0m\u001b[1;33m\u001b[0m\u001b[0m\n\u001b[0;32m      6\u001b[0m \u001b[1;33m\u001b[0m\u001b[0m\n",
      "\u001b[1;32m~\\Anaconda3\\envs\\my_env\\lib\\site-packages\\elastix\\transformix_interface.py\u001b[0m in \u001b[0;36mjacobian_matrix\u001b[1;34m(self, output_dir, verbose)\u001b[0m\n\u001b[0;32m    137\u001b[0m         \u001b[1;32massert\u001b[0m \u001b[1;33m(\u001b[0m\u001b[0mos\u001b[0m\u001b[1;33m.\u001b[0m\u001b[0mpath\u001b[0m\u001b[1;33m.\u001b[0m\u001b[0mexists\u001b[0m\u001b[1;33m(\u001b[0m\u001b[0moutput_dir\u001b[0m\u001b[1;33m)\u001b[0m\u001b[1;33m)\u001b[0m\u001b[1;33m\u001b[0m\u001b[0m\n\u001b[0;32m    138\u001b[0m \u001b[1;33m\u001b[0m\u001b[0m\n\u001b[1;32m--> 139\u001b[1;33m         \u001b[0mself\u001b[0m\u001b[1;33m.\u001b[0m\u001b[0m_execute\u001b[0m\u001b[1;33m(\u001b[0m\u001b[0mcommand\u001b[0m\u001b[1;33m,\u001b[0m \u001b[0mverbose\u001b[0m\u001b[1;33m)\u001b[0m\u001b[1;33m\u001b[0m\u001b[0m\n\u001b[0m\u001b[0;32m    140\u001b[0m         \u001b[0mafter\u001b[0m \u001b[1;33m=\u001b[0m \u001b[0mos\u001b[0m\u001b[1;33m.\u001b[0m\u001b[0mlistdir\u001b[0m\u001b[1;33m(\u001b[0m\u001b[0moutput_dir\u001b[0m\u001b[1;33m)\u001b[0m\u001b[1;33m\u001b[0m\u001b[0m\n\u001b[0;32m    141\u001b[0m \u001b[1;33m\u001b[0m\u001b[0m\n",
      "\u001b[1;32m~\\Anaconda3\\envs\\my_env\\lib\\site-packages\\elastix\\transformix_interface.py\u001b[0m in \u001b[0;36m_execute\u001b[1;34m(self, command, verbose)\u001b[0m\n\u001b[0;32m     66\u001b[0m         \u001b[1;31m# Check if succesful\u001b[0m\u001b[1;33m\u001b[0m\u001b[1;33m\u001b[0m\u001b[0m\n\u001b[0;32m     67\u001b[0m         \u001b[1;32mif\u001b[0m \u001b[0mproc\u001b[0m\u001b[1;33m.\u001b[0m\u001b[0mreturncode\u001b[0m \u001b[1;33m!=\u001b[0m \u001b[1;36m0\u001b[0m\u001b[1;33m:\u001b[0m\u001b[1;33m\u001b[0m\u001b[0m\n\u001b[1;32m---> 68\u001b[1;33m             \u001b[1;32mraise\u001b[0m \u001b[0mTransformixError\u001b[0m\u001b[1;33m(\u001b[0m\u001b[0mproc\u001b[0m\u001b[1;33m.\u001b[0m\u001b[0mreturncode\u001b[0m\u001b[1;33m,\u001b[0m \u001b[1;34m' '\u001b[0m\u001b[1;33m.\u001b[0m\u001b[0mjoin\u001b[0m\u001b[1;33m(\u001b[0m\u001b[0mcommand\u001b[0m\u001b[1;33m)\u001b[0m\u001b[1;33m)\u001b[0m\u001b[1;33m\u001b[0m\u001b[0m\n\u001b[0m\u001b[0;32m     69\u001b[0m         \u001b[1;32mif\u001b[0m \u001b[0mverbose\u001b[0m\u001b[1;33m:\u001b[0m\u001b[1;33m\u001b[0m\u001b[0m\n\u001b[0;32m     70\u001b[0m             \u001b[0mlogger\u001b[0m\u001b[1;33m.\u001b[0m\u001b[0minfo\u001b[0m\u001b[1;33m(\u001b[0m\u001b[1;34m'Finished command '\u001b[0m \u001b[1;33m+\u001b[0m \u001b[1;34m' '\u001b[0m\u001b[1;33m.\u001b[0m\u001b[0mjoin\u001b[0m\u001b[1;33m(\u001b[0m\u001b[0mcommand\u001b[0m\u001b[1;33m)\u001b[0m\u001b[1;33m)\u001b[0m\u001b[1;33m\u001b[0m\u001b[0m\n",
      "\u001b[1;31mTransformixError\u001b[0m: Transformix crashed with code 4294967294 for command 'C:\\Users\\20192024\\OneDrive - TU Eindhoven\\Documents\\Y4\\Q3\\Capita Selecta in Medical Image Analysis\\myfolder\\transformix.exe -tp C:\\Users\\20192024\\OneDrive - TU Eindhoven\\Documents\\Y4\\Q3\\Capita Selecta in Medical Image Analysis\\Project\\Nieuw\\results\\experiment1\\p107_as_fixed\\p102_as_moving\\TransformParameters.1.txt -out C:\\Users\\20192024\\OneDrive - TU Eindhoven\\Documents\\Y4\\Q3\\Capita Selecta in Medical Image Analysis\\Project\\Nieuw\\results\\experiment1\\p107_as_fixed\\p102_as_moving\\TransformParameters.1.txt -jacmat all'."
     ]
    }
   ],
   "source": [
    "transform_parameters_path = os.path.join(FOLDER_RESULTS, \"experiment1\\\\p107_as_fixed\\\\p102_as_moving\\\\TransformParameters.1.txt\")\n",
    "\n",
    "tr = elastix.TransformixInterface(parameters=transform_parameters_path, transformix_path=TRANSFORMIX_PATH) \n",
    "jacobian_matrix_path = tr.jacobian_matrix(output_dir=transform_parameters_path)\n",
    "jacobian_determinant_path = tr.jacobian_determinant(output_dir=transform_parameters_path)\n",
    "\n",
    "jacobian_path = transform_parameters_path + \"spatialJacobian.mhd\"\n",
    "\n",
    "itk_image = sitk.ReadImage(jacobian_path)\n",
    "image_array =sitk.GetArrayFromImage(itk_image)\n",
    "out = image_array>0\n",
    "\n",
    "fig, ax = plt.subplots(1, 1)\n",
    "tracker1 = IndexTracker(ax, out);\n",
    "fig.canvas.mpl_connect('scroll_event', tracker1.onscroll);\n",
    "\n",
    "plt.imshow(colormap='gray')\n",
    "ax.set_title(\"Jacobian, no penalty term\")\n",
    "\n",
    "\n"
   ]
  },
  {
   "cell_type": "code",
   "execution_count": 10,
   "metadata": {},
   "outputs": [
    {
     "data": {
      "text/plain": [
       "'C:\\\\Users\\\\20192024\\\\OneDrive - TU Eindhoven\\\\Documents\\\\Y4\\\\Q3\\\\Capita Selecta in Medical Image Analysis\\\\Project\\\\Nieuw\\\\results\\\\experiment1\\\\p107_as_fixed\\\\p102_as_moving\\\\TransformParameters.1.txt'"
      ]
     },
     "execution_count": 10,
     "metadata": {},
     "output_type": "execute_result"
    }
   ],
   "source": [
    "transform_parameters_path"
   ]
  },
  {
   "cell_type": "markdown",
   "metadata": {},
   "source": [
    "## Dice score"
   ]
  },
  {
   "cell_type": "code",
   "execution_count": 27,
   "metadata": {},
   "outputs": [
    {
     "name": "stdout",
     "output_type": "stream",
     "text": [
<<<<<<< Updated upstream
      "1.14.3\n"
     ]
    }
   ],
   "source": [
    "print(np.__version__)"
   ]
  },
  {
   "cell_type": "code",
   "execution_count": 7,
   "metadata": {},
   "outputs": [
    {
     "name": "stdout",
     "output_type": "stream",
     "text": [
      "Running for parameters experiment1\n"
     ]
    },
    {
     "data": {
      "application/vnd.jupyter.widget-view+json": {
       "model_id": "6f576668b2e743b7b4fcd0b3df23dacd",
       "version_major": 2,
       "version_minor": 0
      },
      "text/plain": [
       "  0%|          | 0/3 [00:00<?, ?it/s]"
      ]
     },
     "metadata": {},
     "output_type": "display_data"
=======
      "Running with parameters ['Par0001translation.txt', 'Par0001affine.txt']\n"
     ]
    },
    {
     "name": "stderr",
     "output_type": "stream",
     "text": [
      "\r",
      "  0%|          | 0/3 [00:00<?, ?it/s]"
     ]
    },
    {
     "name": "stdout",
     "output_type": "stream",
     "text": [
      "../../../myfolder/elastix.exe -f ../DataPreprocessed\\p107\\mr_bffe.mhd -m ../DataPreprocessed\\p125\\mr_bffe.mhd -p ../parameters/experiment1\\Par0001translation.txt -p ../parameters/experiment1\\Par0001affine.txt -out ../results\\23-03-04_14-16-15\\p107\\p125\n",
      "../../../myfolder/elastix.exe -f ../DataPreprocessed\\p107\\mr_bffe.mhd -m ../DataPreprocessed\\p135\\mr_bffe.mhd -p ../parameters/experiment1\\Par0001translation.txt -p ../parameters/experiment1\\Par0001affine.txt -out ../results\\23-03-04_14-16-15\\p107\\p135\n",
      "../../../myfolder/elastix.exe -f ../DataPreprocessed\\p107\\mr_bffe.mhd -m ../DataPreprocessed\\p115\\mr_bffe.mhd -p ../parameters/experiment1\\Par0001translation.txt -p ../parameters/experiment1\\Par0001affine.txt -out ../results\\23-03-04_14-16-15\\p107\\p115\n",
      "../../../myfolder/elastix.exe -f ../DataPreprocessed\\p107\\mr_bffe.mhd -m ../DataPreprocessed\\p108\\mr_bffe.mhd -p ../parameters/experiment1\\Par0001translation.txt -p ../parameters/experiment1\\Par0001affine.txt -out ../results\\23-03-04_14-16-15\\p107\\p108\n",
      "../../../myfolder/elastix.exe -f ../DataPreprocessed\\p107\\mr_bffe.mhd -m ../DataPreprocessed\\p133\\mr_bffe.mhd -p ../parameters/experiment1\\Par0001translation.txt -p ../parameters/experiment1\\Par0001affine.txt -out ../results\\23-03-04_14-16-15\\p107\\p133\n",
      "../../../myfolder/elastix.exe -f ../DataPreprocessed\\p107\\mr_bffe.mhd -m ../DataPreprocessed\\p127\\mr_bffe.mhd -p ../parameters/experiment1\\Par0001translation.txt -p ../parameters/experiment1\\Par0001affine.txt -out ../results\\23-03-04_14-16-15\\p107\\p127\n",
      "../../../myfolder/elastix.exe -f ../DataPreprocessed\\p107\\mr_bffe.mhd -m ../DataPreprocessed\\p119\\mr_bffe.mhd -p ../parameters/experiment1\\Par0001translation.txt -p ../parameters/experiment1\\Par0001affine.txt -out ../results\\23-03-04_14-16-15\\p107\\p119\n",
      "../../../myfolder/elastix.exe -f ../DataPreprocessed\\p107\\mr_bffe.mhd -m ../DataPreprocessed\\p128\\mr_bffe.mhd -p ../parameters/experiment1\\Par0001translation.txt -p ../parameters/experiment1\\Par0001affine.txt -out ../results\\23-03-04_14-16-15\\p107\\p128\n",
      "../../../myfolder/elastix.exe -f ../DataPreprocessed\\p107\\mr_bffe.mhd -m ../DataPreprocessed\\p109\\mr_bffe.mhd -p ../parameters/experiment1\\Par0001translation.txt -p ../parameters/experiment1\\Par0001affine.txt -out ../results\\23-03-04_14-16-15\\p107\\p109\n",
      "../../../myfolder/elastix.exe -f ../DataPreprocessed\\p107\\mr_bffe.mhd -m ../DataPreprocessed\\p102\\mr_bffe.mhd -p ../parameters/experiment1\\Par0001translation.txt -p ../parameters/experiment1\\Par0001affine.txt -out ../results\\23-03-04_14-16-15\\p107\\p102\n",
      "../../../myfolder/elastix.exe -f ../DataPreprocessed\\p107\\mr_bffe.mhd -m ../DataPreprocessed\\p116\\mr_bffe.mhd -p ../parameters/experiment1\\Par0001translation.txt -p ../parameters/experiment1\\Par0001affine.txt -out ../results\\23-03-04_14-16-15\\p107\\p116\n",
      "../../../myfolder/elastix.exe -f ../DataPreprocessed\\p107\\mr_bffe.mhd -m ../DataPreprocessed\\p129\\mr_bffe.mhd -p ../parameters/experiment1\\Par0001translation.txt -p ../parameters/experiment1\\Par0001affine.txt -out ../results\\23-03-04_14-16-15\\p107\\p129\n"
     ]
    },
    {
     "name": "stderr",
     "output_type": "stream",
     "text": [
      "\r",
      " 33%|███▎      | 1/3 [05:57<11:54, 357.31s/it]"
     ]
    },
    {
     "name": "stdout",
     "output_type": "stream",
     "text": [
      "../../../myfolder/elastix.exe -f ../DataPreprocessed\\p117\\mr_bffe.mhd -m ../DataPreprocessed\\p125\\mr_bffe.mhd -p ../parameters/experiment1\\Par0001translation.txt -p ../parameters/experiment1\\Par0001affine.txt -out ../results\\23-03-04_14-16-15\\p117\\p125\n",
      "../../../myfolder/elastix.exe -f ../DataPreprocessed\\p117\\mr_bffe.mhd -m ../DataPreprocessed\\p135\\mr_bffe.mhd -p ../parameters/experiment1\\Par0001translation.txt -p ../parameters/experiment1\\Par0001affine.txt -out ../results\\23-03-04_14-16-15\\p117\\p135\n",
      "../../../myfolder/elastix.exe -f ../DataPreprocessed\\p117\\mr_bffe.mhd -m ../DataPreprocessed\\p115\\mr_bffe.mhd -p ../parameters/experiment1\\Par0001translation.txt -p ../parameters/experiment1\\Par0001affine.txt -out ../results\\23-03-04_14-16-15\\p117\\p115\n",
      "../../../myfolder/elastix.exe -f ../DataPreprocessed\\p117\\mr_bffe.mhd -m ../DataPreprocessed\\p108\\mr_bffe.mhd -p ../parameters/experiment1\\Par0001translation.txt -p ../parameters/experiment1\\Par0001affine.txt -out ../results\\23-03-04_14-16-15\\p117\\p108\n",
      "../../../myfolder/elastix.exe -f ../DataPreprocessed\\p117\\mr_bffe.mhd -m ../DataPreprocessed\\p133\\mr_bffe.mhd -p ../parameters/experiment1\\Par0001translation.txt -p ../parameters/experiment1\\Par0001affine.txt -out ../results\\23-03-04_14-16-15\\p117\\p133\n",
      "../../../myfolder/elastix.exe -f ../DataPreprocessed\\p117\\mr_bffe.mhd -m ../DataPreprocessed\\p127\\mr_bffe.mhd -p ../parameters/experiment1\\Par0001translation.txt -p ../parameters/experiment1\\Par0001affine.txt -out ../results\\23-03-04_14-16-15\\p117\\p127\n",
      "../../../myfolder/elastix.exe -f ../DataPreprocessed\\p117\\mr_bffe.mhd -m ../DataPreprocessed\\p119\\mr_bffe.mhd -p ../parameters/experiment1\\Par0001translation.txt -p ../parameters/experiment1\\Par0001affine.txt -out ../results\\23-03-04_14-16-15\\p117\\p119\n",
      "../../../myfolder/elastix.exe -f ../DataPreprocessed\\p117\\mr_bffe.mhd -m ../DataPreprocessed\\p128\\mr_bffe.mhd -p ../parameters/experiment1\\Par0001translation.txt -p ../parameters/experiment1\\Par0001affine.txt -out ../results\\23-03-04_14-16-15\\p117\\p128\n",
      "../../../myfolder/elastix.exe -f ../DataPreprocessed\\p117\\mr_bffe.mhd -m ../DataPreprocessed\\p109\\mr_bffe.mhd -p ../parameters/experiment1\\Par0001translation.txt -p ../parameters/experiment1\\Par0001affine.txt -out ../results\\23-03-04_14-16-15\\p117\\p109\n",
      "../../../myfolder/elastix.exe -f ../DataPreprocessed\\p117\\mr_bffe.mhd -m ../DataPreprocessed\\p102\\mr_bffe.mhd -p ../parameters/experiment1\\Par0001translation.txt -p ../parameters/experiment1\\Par0001affine.txt -out ../results\\23-03-04_14-16-15\\p117\\p102\n",
      "../../../myfolder/elastix.exe -f ../DataPreprocessed\\p117\\mr_bffe.mhd -m ../DataPreprocessed\\p116\\mr_bffe.mhd -p ../parameters/experiment1\\Par0001translation.txt -p ../parameters/experiment1\\Par0001affine.txt -out ../results\\23-03-04_14-16-15\\p117\\p116\n",
      "../../../myfolder/elastix.exe -f ../DataPreprocessed\\p117\\mr_bffe.mhd -m ../DataPreprocessed\\p129\\mr_bffe.mhd -p ../parameters/experiment1\\Par0001translation.txt -p ../parameters/experiment1\\Par0001affine.txt -out ../results\\23-03-04_14-16-15\\p117\\p129\n"
     ]
    },
    {
     "name": "stderr",
     "output_type": "stream",
     "text": [
      "\r",
      " 67%|██████▋   | 2/3 [12:07<06:04, 364.95s/it]"
     ]
    },
    {
     "name": "stdout",
     "output_type": "stream",
     "text": [
      "../../../myfolder/elastix.exe -f ../DataPreprocessed\\p120\\mr_bffe.mhd -m ../DataPreprocessed\\p125\\mr_bffe.mhd -p ../parameters/experiment1\\Par0001translation.txt -p ../parameters/experiment1\\Par0001affine.txt -out ../results\\23-03-04_14-16-15\\p120\\p125\n",
      "../../../myfolder/elastix.exe -f ../DataPreprocessed\\p120\\mr_bffe.mhd -m ../DataPreprocessed\\p135\\mr_bffe.mhd -p ../parameters/experiment1\\Par0001translation.txt -p ../parameters/experiment1\\Par0001affine.txt -out ../results\\23-03-04_14-16-15\\p120\\p135\n",
      "../../../myfolder/elastix.exe -f ../DataPreprocessed\\p120\\mr_bffe.mhd -m ../DataPreprocessed\\p115\\mr_bffe.mhd -p ../parameters/experiment1\\Par0001translation.txt -p ../parameters/experiment1\\Par0001affine.txt -out ../results\\23-03-04_14-16-15\\p120\\p115\n",
      "../../../myfolder/elastix.exe -f ../DataPreprocessed\\p120\\mr_bffe.mhd -m ../DataPreprocessed\\p108\\mr_bffe.mhd -p ../parameters/experiment1\\Par0001translation.txt -p ../parameters/experiment1\\Par0001affine.txt -out ../results\\23-03-04_14-16-15\\p120\\p108\n",
      "../../../myfolder/elastix.exe -f ../DataPreprocessed\\p120\\mr_bffe.mhd -m ../DataPreprocessed\\p133\\mr_bffe.mhd -p ../parameters/experiment1\\Par0001translation.txt -p ../parameters/experiment1\\Par0001affine.txt -out ../results\\23-03-04_14-16-15\\p120\\p133\n",
      "../../../myfolder/elastix.exe -f ../DataPreprocessed\\p120\\mr_bffe.mhd -m ../DataPreprocessed\\p127\\mr_bffe.mhd -p ../parameters/experiment1\\Par0001translation.txt -p ../parameters/experiment1\\Par0001affine.txt -out ../results\\23-03-04_14-16-15\\p120\\p127\n",
      "../../../myfolder/elastix.exe -f ../DataPreprocessed\\p120\\mr_bffe.mhd -m ../DataPreprocessed\\p119\\mr_bffe.mhd -p ../parameters/experiment1\\Par0001translation.txt -p ../parameters/experiment1\\Par0001affine.txt -out ../results\\23-03-04_14-16-15\\p120\\p119\n",
      "../../../myfolder/elastix.exe -f ../DataPreprocessed\\p120\\mr_bffe.mhd -m ../DataPreprocessed\\p128\\mr_bffe.mhd -p ../parameters/experiment1\\Par0001translation.txt -p ../parameters/experiment1\\Par0001affine.txt -out ../results\\23-03-04_14-16-15\\p120\\p128\n",
      "../../../myfolder/elastix.exe -f ../DataPreprocessed\\p120\\mr_bffe.mhd -m ../DataPreprocessed\\p109\\mr_bffe.mhd -p ../parameters/experiment1\\Par0001translation.txt -p ../parameters/experiment1\\Par0001affine.txt -out ../results\\23-03-04_14-16-15\\p120\\p109\n",
      "../../../myfolder/elastix.exe -f ../DataPreprocessed\\p120\\mr_bffe.mhd -m ../DataPreprocessed\\p102\\mr_bffe.mhd -p ../parameters/experiment1\\Par0001translation.txt -p ../parameters/experiment1\\Par0001affine.txt -out ../results\\23-03-04_14-16-15\\p120\\p102\n",
      "../../../myfolder/elastix.exe -f ../DataPreprocessed\\p120\\mr_bffe.mhd -m ../DataPreprocessed\\p116\\mr_bffe.mhd -p ../parameters/experiment1\\Par0001translation.txt -p ../parameters/experiment1\\Par0001affine.txt -out ../results\\23-03-04_14-16-15\\p120\\p116\n",
      "../../../myfolder/elastix.exe -f ../DataPreprocessed\\p120\\mr_bffe.mhd -m ../DataPreprocessed\\p129\\mr_bffe.mhd -p ../parameters/experiment1\\Par0001translation.txt -p ../parameters/experiment1\\Par0001affine.txt -out ../results\\23-03-04_14-16-15\\p120\\p129\n"
     ]
    },
    {
     "name": "stderr",
     "output_type": "stream",
     "text": [
      "100%|██████████| 3/3 [18:24<00:00, 368.20s/it]\n"
     ]
>>>>>>> Stashed changes
    }
   ],
   "source": [
    "model.run_registration()"
   ]
  },
  {
   "cell_type": "code",
<<<<<<< Updated upstream
   "execution_count": 8,
   "metadata": {},
   "outputs": [
    {
     "data": {
      "text/plain": [
       "[[0.7235024674637075, 0.4976912250930546, 0.7678150791405729]]"
      ]
     },
     "execution_count": 8,
     "metadata": {},
     "output_type": "execute_result"
=======
   "execution_count": 10,
   "metadata": {},
   "outputs": [
    {
     "name": "stdout",
     "output_type": "stream",
     "text": [
      "Running for parameters ['Par0001translation.txt', 'Par0001affine.txt']\n"
     ]
    },
    {
     "name": "stderr",
     "output_type": "stream",
     "text": [
      "  0%|          | 0/3 [01:58<?, ?it/s]\n"
     ]
    },
    {
     "ename": "ValueError",
     "evalue": "cannot use columns parameter with orient='columns'",
     "output_type": "error",
     "traceback": [
      "\u001b[1;31m---------------------------------------------------------------------------\u001b[0m",
      "\u001b[1;31mValueError\u001b[0m                                Traceback (most recent call last)",
      "\u001b[1;32m<ipython-input-10-88da678ae5be>\u001b[0m in \u001b[0;36m<module>\u001b[1;34m\u001b[0m\n\u001b[0;32m      1\u001b[0m \u001b[0mmodel\u001b[0m\u001b[1;33m.\u001b[0m\u001b[0mthreshold_staple\u001b[0m \u001b[1;33m=\u001b[0m \u001b[1;36m0.95\u001b[0m\u001b[1;33m\u001b[0m\u001b[0m\n\u001b[1;32m----> 2\u001b[1;33m \u001b[0mmodel\u001b[0m\u001b[1;33m.\u001b[0m\u001b[0mcalculate_scores\u001b[0m\u001b[1;33m(\u001b[0m\u001b[1;33m)\u001b[0m\u001b[1;33m\u001b[0m\u001b[0m\n\u001b[0m",
      "\u001b[1;32m~\\OneDrive - TU Eindhoven\\Documents\\Y4\\Q3\\Capita Selecta in Medical Image Analysis\\Project\\Nieuw\\CapitaSelectaCode\\model.py\u001b[0m in \u001b[0;36mcalculate_scores\u001b[1;34m(self)\u001b[0m\n\u001b[0;32m    165\u001b[0m             \u001b[0mself\u001b[0m\u001b[1;33m.\u001b[0m\u001b[0mscores\u001b[0m\u001b[1;33m[\u001b[0m\u001b[0mself\u001b[0m\u001b[1;33m.\u001b[0m\u001b[0mconfig\u001b[0m\u001b[1;33m.\u001b[0m\u001b[0mpatients\u001b[0m\u001b[1;33m[\u001b[0m\u001b[0mvalid_i\u001b[0m\u001b[1;33m]\u001b[0m\u001b[1;33m,\u001b[0m \u001b[1;34m\"STAPLE\"\u001b[0m\u001b[1;33m,\u001b[0m \u001b[1;34m\"hausdorf\"\u001b[0m\u001b[1;33m]\u001b[0m \u001b[1;33m=\u001b[0m \u001b[1;33m[\u001b[0m\u001b[0mdice\u001b[0m\u001b[1;33m,\u001b[0m \u001b[0mmean_hausdorf\u001b[0m\u001b[1;33m,\u001b[0m \u001b[0mstd_hausdorf\u001b[0m\u001b[1;33m]\u001b[0m\u001b[1;33m\u001b[0m\u001b[0m\n\u001b[0;32m    166\u001b[0m \u001b[1;33m\u001b[0m\u001b[0m\n\u001b[1;32m--> 167\u001b[1;33m             \u001b[0mcsv\u001b[0m \u001b[1;33m=\u001b[0m \u001b[0mpd\u001b[0m\u001b[1;33m.\u001b[0m\u001b[0mDataFrame\u001b[0m\u001b[1;33m.\u001b[0m\u001b[0mfrom_dict\u001b[0m\u001b[1;33m(\u001b[0m\u001b[0mself\u001b[0m\u001b[1;33m.\u001b[0m\u001b[0mscores\u001b[0m\u001b[1;33m)\u001b[0m\u001b[1;33m\u001b[0m\u001b[0m\n\u001b[0m\u001b[0;32m    168\u001b[0m             \u001b[0mcsv\u001b[0m\u001b[1;33m.\u001b[0m\u001b[0mcolumns\u001b[0m \u001b[1;33m=\u001b[0m \u001b[1;33m[\u001b[0m\u001b[1;34m\"Dice\"\u001b[0m\u001b[1;33m,\u001b[0m \u001b[1;34m\"Mean Hausdorf\"\u001b[0m\u001b[1;33m,\u001b[0m \u001b[1;34m\"STD Hausdorf\"\u001b[0m\u001b[1;33m]\u001b[0m\u001b[1;33m\u001b[0m\u001b[0m\n\u001b[0;32m    169\u001b[0m             \u001b[0mcsv\u001b[0m\u001b[1;33m.\u001b[0m\u001b[0mto_csv\u001b[0m\u001b[1;33m(\u001b[0m\u001b[0mos\u001b[0m\u001b[1;33m.\u001b[0m\u001b[0mpath\u001b[0m\u001b[1;33m.\u001b[0m\u001b[0mjoin\u001b[0m\u001b[1;33m(\u001b[0m\u001b[0mself\u001b[0m\u001b[1;33m.\u001b[0m\u001b[0mconfig\u001b[0m\u001b[1;33m.\u001b[0m\u001b[0mfolder_results\u001b[0m\u001b[1;33m,\u001b[0m \u001b[0mself\u001b[0m\u001b[1;33m.\u001b[0m\u001b[0mconfig\u001b[0m\u001b[1;33m.\u001b[0m\u001b[0mnow\u001b[0m\u001b[1;33m,\u001b[0m \u001b[0mself\u001b[0m\u001b[1;33m.\u001b[0m\u001b[0mconfig\u001b[0m\u001b[1;33m.\u001b[0m\u001b[0mpatients\u001b[0m\u001b[1;33m[\u001b[0m\u001b[0mvalid_i\u001b[0m\u001b[1;33m]\u001b[0m\u001b[1;33m,\u001b[0m \u001b[1;34m\"scores.csv\"\u001b[0m\u001b[1;33m)\u001b[0m\u001b[1;33m)\u001b[0m\u001b[1;33m\u001b[0m\u001b[0m\n",
      "\u001b[1;32m~\\Anaconda3\\envs\\my_env\\lib\\site-packages\\pandas\\core\\frame.py\u001b[0m in \u001b[0;36mfrom_dict\u001b[1;34m(cls, data, orient, dtype, columns)\u001b[0m\n\u001b[0;32m    978\u001b[0m         \u001b[1;32melif\u001b[0m \u001b[0morient\u001b[0m \u001b[1;33m==\u001b[0m \u001b[1;34m'columns'\u001b[0m\u001b[1;33m:\u001b[0m\u001b[1;33m\u001b[0m\u001b[0m\n\u001b[0;32m    979\u001b[0m             \u001b[1;32mif\u001b[0m \u001b[0mcolumns\u001b[0m \u001b[1;32mis\u001b[0m \u001b[1;32mnot\u001b[0m \u001b[1;32mNone\u001b[0m\u001b[1;33m:\u001b[0m\u001b[1;33m\u001b[0m\u001b[0m\n\u001b[1;32m--> 980\u001b[1;33m                 raise ValueError(\"cannot use columns parameter with \"\n\u001b[0m\u001b[0;32m    981\u001b[0m                                  \"orient='columns'\")\n\u001b[0;32m    982\u001b[0m         \u001b[1;32melse\u001b[0m\u001b[1;33m:\u001b[0m  \u001b[1;31m# pragma: no cover\u001b[0m\u001b[1;33m\u001b[0m\u001b[0m\n",
      "\u001b[1;31mValueError\u001b[0m: cannot use columns parameter with orient='columns'"
     ]
>>>>>>> Stashed changes
    }
   ],
   "source": [
    "model.threshold_staple = 0.95\n",
    "model.calculate_scores()"
   ]
  },
  {
   "cell_type": "code",
   "execution_count": null,
   "metadata": {},
   "outputs": [],
   "source": [
    "model.scores"
   ]
  },
  {
   "cell_type": "code",
<<<<<<< Updated upstream
   "execution_count": 9,
   "metadata": {},
   "outputs": [
    {
     "data": {
      "text/plain": [
       "0.8237485397879306"
      ]
     },
     "execution_count": 9,
     "metadata": {},
     "output_type": "execute_result"
    }
   ],
=======
   "execution_count": null,
   "metadata": {},
   "outputs": [],
>>>>>>> Stashed changes
   "source": [
    "dice_score(model.segmentations[0][0]>0.99999999999, model.ground_truths[0], eps=1e-5)"
   ]
  },
  {
<<<<<<< Updated upstream
   "cell_type": "markdown",
=======
   "cell_type": "code",
   "execution_count": null,
>>>>>>> Stashed changes
   "metadata": {},
   "source": [
    "## Hausdorff"
   ]
  },
  {
   "cell_type": "markdown",
   "metadata": {},
   "source": [
    "Change the following to own patients? Because this is not similar to what I had as fixed and moving images"
   ]
  },
  {
   "cell_type": "code",
   "execution_count": 25,
   "metadata": {},
   "outputs": [
    {
     "data": {
      "text/plain": [
       "'C:\\\\Users\\\\20192024\\\\OneDrive - TU Eindhoven\\\\Documents\\\\Y4\\\\Q3\\\\Capita Selecta in Medical Image Analysis\\\\Project\\\\Nieuw\\\\results\\\\experiment1\\\\p107_as_fixed\\\\p102_as_moving\\\\result.0.mhd'"
      ]
     },
     "execution_count": 25,
     "metadata": {},
     "output_type": "execute_result"
    }
   ],
   "source": [
    "os.path.join(FOLDER_RESULTS, \"experiment1\\\\p107_as_fixed\\\\p102_as_moving\\\\result.0.mhd\")"
   ]
  },
  {
   "cell_type": "code",
   "execution_count": 24,
   "metadata": {},
   "outputs": [
    {
     "ename": "RuntimeError",
     "evalue": "Exception thrown in SimpleITK ImageFileReader_Execute: D:\\a\\1\\sitk\\Code\\IO\\src\\sitkImageReaderBase.cxx:97:\nsitk::ERROR: The file \"C:\\Users\\20192024\\OneDrive - TU Eindhoven\\Documents\\Y4\\Q3\\Capita Selecta in Medical Image Analysis\\Project\\Nieuw\\results\\experiment1\\p107_as_fixed\\p102_as_moving\\result.0.mhd\" does not exist.",
     "output_type": "error",
     "traceback": [
      "\u001b[1;31m---------------------------------------------------------------------------\u001b[0m",
      "\u001b[1;31mRuntimeError\u001b[0m                              Traceback (most recent call last)",
      "\u001b[1;32m<ipython-input-24-ebf61146c492>\u001b[0m in \u001b[0;36m<module>\u001b[1;34m\u001b[0m\n\u001b[0;32m      2\u001b[0m \u001b[0mmask\u001b[0m \u001b[1;33m=\u001b[0m \u001b[0msitk\u001b[0m\u001b[1;33m.\u001b[0m\u001b[0mGetArrayFromImage\u001b[0m\u001b[1;33m(\u001b[0m\u001b[0msitk\u001b[0m\u001b[1;33m.\u001b[0m\u001b[0mReadImage\u001b[0m\u001b[1;33m(\u001b[0m\u001b[0mos\u001b[0m\u001b[1;33m.\u001b[0m\u001b[0mpath\u001b[0m\u001b[1;33m.\u001b[0m\u001b[0mjoin\u001b[0m\u001b[1;33m(\u001b[0m\u001b[0mFOLDER_PREPROCESSED\u001b[0m\u001b[1;33m,\u001b[0m\u001b[1;34m\"p107\\\\prostaat.mhd\"\u001b[0m\u001b[1;33m)\u001b[0m\u001b[1;33m)\u001b[0m\u001b[1;33m)\u001b[0m\u001b[1;33m\u001b[0m\u001b[0m\n\u001b[0;32m      3\u001b[0m \u001b[1;33m\u001b[0m\u001b[0m\n\u001b[1;32m----> 4\u001b[1;33m \u001b[0mregistered\u001b[0m \u001b[1;33m=\u001b[0m \u001b[0msitk\u001b[0m\u001b[1;33m.\u001b[0m\u001b[0mGetArrayFromImage\u001b[0m\u001b[1;33m(\u001b[0m\u001b[0msitk\u001b[0m\u001b[1;33m.\u001b[0m\u001b[0mReadImage\u001b[0m\u001b[1;33m(\u001b[0m\u001b[0mos\u001b[0m\u001b[1;33m.\u001b[0m\u001b[0mpath\u001b[0m\u001b[1;33m.\u001b[0m\u001b[0mjoin\u001b[0m\u001b[1;33m(\u001b[0m\u001b[0mFOLDER_RESULTS\u001b[0m\u001b[1;33m,\u001b[0m \u001b[1;34m\"experiment1\\\\p107_as_fixed\\\\p102_as_moving\\\\result.0.mhd\"\u001b[0m\u001b[1;33m)\u001b[0m\u001b[1;33m)\u001b[0m\u001b[1;33m)\u001b[0m\u001b[1;33m\u001b[0m\u001b[0m\n\u001b[0m\u001b[0;32m      5\u001b[0m \u001b[0mtransformed\u001b[0m \u001b[1;33m=\u001b[0m \u001b[0msitk\u001b[0m\u001b[1;33m.\u001b[0m\u001b[0mGetArrayFromImage\u001b[0m\u001b[1;33m(\u001b[0m\u001b[0msitk\u001b[0m\u001b[1;33m.\u001b[0m\u001b[0mReadImage\u001b[0m\u001b[1;33m(\u001b[0m\u001b[0mos\u001b[0m\u001b[1;33m.\u001b[0m\u001b[0mpath\u001b[0m\u001b[1;33m.\u001b[0m\u001b[0mjoin\u001b[0m\u001b[1;33m(\u001b[0m\u001b[0mFOLDER_RESULTS\u001b[0m\u001b[1;33m,\u001b[0m \u001b[1;34m\"experiment1\\\\p107_as_fixed\\\\p102_as_moving\\\\result.mhd\"\u001b[0m\u001b[1;33m)\u001b[0m\u001b[1;33m)\u001b[0m\u001b[1;33m)\u001b[0m\u001b[1;33m\u001b[0m\u001b[0m\n",
      "\u001b[1;32m~\\Anaconda3\\envs\\my_env\\lib\\site-packages\\SimpleITK\\extra.py\u001b[0m in \u001b[0;36mReadImage\u001b[1;34m(fileName, outputPixelType, imageIO)\u001b[0m\n\u001b[0;32m    344\u001b[0m     \u001b[0mreader\u001b[0m\u001b[1;33m.\u001b[0m\u001b[0mSetImageIO\u001b[0m\u001b[1;33m(\u001b[0m\u001b[0mimageIO\u001b[0m\u001b[1;33m)\u001b[0m\u001b[1;33m\u001b[0m\u001b[0m\n\u001b[0;32m    345\u001b[0m     \u001b[0mreader\u001b[0m\u001b[1;33m.\u001b[0m\u001b[0mSetOutputPixelType\u001b[0m\u001b[1;33m(\u001b[0m\u001b[0moutputPixelType\u001b[0m\u001b[1;33m)\u001b[0m\u001b[1;33m\u001b[0m\u001b[0m\n\u001b[1;32m--> 346\u001b[1;33m     \u001b[1;32mreturn\u001b[0m \u001b[0mreader\u001b[0m\u001b[1;33m.\u001b[0m\u001b[0mExecute\u001b[0m\u001b[1;33m(\u001b[0m\u001b[1;33m)\u001b[0m\u001b[1;33m\u001b[0m\u001b[0m\n\u001b[0m\u001b[0;32m    347\u001b[0m \u001b[1;33m\u001b[0m\u001b[0m\n\u001b[0;32m    348\u001b[0m \u001b[1;33m\u001b[0m\u001b[0m\n",
      "\u001b[1;32m~\\Anaconda3\\envs\\my_env\\lib\\site-packages\\SimpleITK\\SimpleITK.py\u001b[0m in \u001b[0;36mExecute\u001b[1;34m(self)\u001b[0m\n\u001b[0;32m   8013\u001b[0m \u001b[1;33m\u001b[0m\u001b[0m\n\u001b[0;32m   8014\u001b[0m         \"\"\"\n\u001b[1;32m-> 8015\u001b[1;33m         \u001b[1;32mreturn\u001b[0m \u001b[0m_SimpleITK\u001b[0m\u001b[1;33m.\u001b[0m\u001b[0mImageFileReader_Execute\u001b[0m\u001b[1;33m(\u001b[0m\u001b[0mself\u001b[0m\u001b[1;33m)\u001b[0m\u001b[1;33m\u001b[0m\u001b[0m\n\u001b[0m\u001b[0;32m   8016\u001b[0m \u001b[1;33m\u001b[0m\u001b[0m\n\u001b[0;32m   8017\u001b[0m     \u001b[1;32mdef\u001b[0m \u001b[0mReadImageInformation\u001b[0m\u001b[1;33m(\u001b[0m\u001b[0mself\u001b[0m\u001b[1;33m)\u001b[0m\u001b[1;33m:\u001b[0m\u001b[1;33m\u001b[0m\u001b[0m\n",
      "\u001b[1;31mRuntimeError\u001b[0m: Exception thrown in SimpleITK ImageFileReader_Execute: D:\\a\\1\\sitk\\Code\\IO\\src\\sitkImageReaderBase.cxx:97:\nsitk::ERROR: The file \"C:\\Users\\20192024\\OneDrive - TU Eindhoven\\Documents\\Y4\\Q3\\Capita Selecta in Medical Image Analysis\\Project\\Nieuw\\results\\experiment1\\p107_as_fixed\\p102_as_moving\\result.0.mhd\" does not exist."
     ]
    }
   ],
   "source": [
    "im = sitk.GetArrayFromImage(sitk.ReadImage(os.path.join(FOLDER_PREPROCESSED, \"p107\\\\mr_bffe.mhd\")))\n",
    "mask = sitk.GetArrayFromImage(sitk.ReadImage(os.path.join(FOLDER_PREPROCESSED,\"p107\\\\prostaat.mhd\")))\n",
    "\n",
    "original = sitk.GetArrayFromImage(sitk.ReadImage(os.path.join(FOLDER_RESULTS, \"experiment1\\\\p107_as_fixed\\\\p102_as_moving\\\\result.mhd\")))\n",
    "transformed = sitk.GetArrayFromImage(sitk.ReadImage(os.path.join(FOLDER_RESULTS, \"experiment1\\\\p107_as_fixed\\\\p102_as_moving\\\\result.mhd\")))"
   ]
  },
  {
   "cell_type": "code",
   "execution_count": null,
   "metadata": {},
   "outputs": [],
   "source": [
    "view = lambda x, ax : ScrollView(x).plot(ax, vmin=x.min(), vmax=x.max())"
   ]
  },
  {
   "cell_type": "code",
   "execution_count": null,
   "metadata": {},
   "outputs": [],
   "source": [
    "a = sitk.GetArrayFromImage(res[0]) > 0.95\n",
    "fig, ax = plt.subplots(1,1)\n",
    "view(a, ax)"
   ]
  }
 ],
 "metadata": {
  "kernelspec": {
   "display_name": "Python 3",
   "language": "python",
   "name": "python3"
  },
  "language_info": {
   "codemirror_mode": {
    "name": "ipython",
    "version": 3
   },
   "file_extension": ".py",
   "mimetype": "text/x-python",
   "name": "python",
   "nbconvert_exporter": "python",
   "pygments_lexer": "ipython3",
   "version": "3.6.5"
  },
  "vscode": {
   "interpreter": {
    "hash": "e7ccb2a435b656723dafd2fb88eb02b6891256ab8b77d2cf3044cea9811453d0"
   }
  }
 },
 "nbformat": 4,
 "nbformat_minor": 2
}
