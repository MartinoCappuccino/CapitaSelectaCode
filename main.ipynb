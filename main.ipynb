{
 "cells": [
  {
   "cell_type": "code",
   "execution_count": 1,
   "metadata": {},
   "outputs": [],
   "source": [
    "import matplotlib.pyplot as plt \n",
    "import SimpleITK as sitk \n",
    "import os\n",
    "from misc import Config\n",
    "from model import *\n",
    "%matplotlib qt\n",
    "os.pathsep = \"/\""
   ]
  },
  {
   "cell_type": "code",
   "execution_count": 2,
   "metadata": {},
   "outputs": [],
   "source": [
    "ELASTIX_PATH = os.path.join('../../elastix/elastix.exe')\n",
    "TRANSFORMIX_PATH = os.path.join('../../elastix/transformix.exe')\n",
    "FOLDER_RAW = os.path.join('../../Project/Data')\n",
    "FOLDER_PREPROCESSED = os.path.join('../../Project/DataPreProcessed')\n",
    "FOLDER_PARAMETERS = os.path.join('../../Project/parameters')\n",
    "FOLDER_RESULTS = os.path.join('../../Project/results')"
   ]
  },
  {
   "cell_type": "code",
   "execution_count": 3,
   "metadata": {},
   "outputs": [],
   "source": [
    "config = Config(\n",
    "    folder_raw = FOLDER_RAW, \n",
    "    folder_preprocessed = FOLDER_PREPROCESSED,\n",
    "    parameter_folder = FOLDER_PARAMETERS,\n",
    "    parameters = [\"Par0001translation.txt\", \"Par0001rigid.txt\", \"Par0001affine.txt\", \"Par0001bspline04.txt\"],\n",
    "    folder_results = FOLDER_RESULTS,\n",
    "    seed = 0,\n",
    "    train_size = 12,\n",
    ")"
   ]
  },
  {
   "cell_type": "code",
   "execution_count": 4,
   "metadata": {},
   "outputs": [],
   "source": [
    "model = Model(\n",
    "    config = config,\n",
    "    elastix_path = ELASTIX_PATH,\n",
    "    transformix_path = TRANSFORMIX_PATH,\n",
    ")"
   ]
  },
  {
   "cell_type": "code",
   "execution_count": 5,
   "metadata": {},
   "outputs": [
    {
     "name": "stderr",
     "output_type": "stream",
     "text": [
      "Loading Data: 100%|██████████| 15/15 [00:02<00:00,  6.73it/s]\n"
     ]
    }
   ],
   "source": [
    "model.load()"
   ]
  },
  {
   "cell_type": "code",
   "execution_count": 6,
   "metadata": {},
   "outputs": [
    {
     "name": "stderr",
     "output_type": "stream",
     "text": [
      "Saving Preprocessed Data: 100%|██████████| 15/15 [00:03<00:00,  4.75it/s]\n"
     ]
    }
   ],
   "source": [
    "model.preprocess_and_save(downscale_factor=2, normalize=\"none\")"
   ]
  },
  {
   "cell_type": "code",
   "execution_count": 7,
   "metadata": {},
   "outputs": [
    {
     "name": "stdout",
     "output_type": "stream",
     "text": [
      "Running with parameters ['Par0001translation.txt', 'Par0001rigid.txt', 'Par0001affine.txt', 'Par0001bspline04.txt']\n"
     ]
    },
    {
     "name": "stderr",
     "output_type": "stream",
     "text": [
      "  0%|          | 0/3 [00:00<?, ?it/s]"
     ]
    },
    {
     "name": "stdout",
     "output_type": "stream",
     "text": [
      "../../elastix/elastix.exe -f ../../Project/DataPreProcessed\\p107\\mr_bffe.mhd -m ../../Project/DataPreProcessed\\p125\\mr_bffe.mhd -p ../../Project/parameters\\Par0001translation.txt -p ../../Project/parameters\\Par0001rigid.txt -p ../../Project/parameters\\Par0001affine.txt -p ../../Project/parameters\\Par0001bspline04.txt -out ../../Project/results\\23-03-04_11-44-08\\p107\\p125\n",
      "../../elastix/elastix.exe -f ../../Project/DataPreProcessed\\p107\\mr_bffe.mhd -m ../../Project/DataPreProcessed\\p135\\mr_bffe.mhd -p ../../Project/parameters\\Par0001translation.txt -p ../../Project/parameters\\Par0001rigid.txt -p ../../Project/parameters\\Par0001affine.txt -p ../../Project/parameters\\Par0001bspline04.txt -out ../../Project/results\\23-03-04_11-44-08\\p107\\p135\n"
     ]
    }
   ],
   "source": [
    "model.run_registration()"
   ]
  },
  {
   "cell_type": "code",
   "execution_count": null,
   "metadata": {},
   "outputs": [
    {
     "name": "stdout",
     "output_type": "stream",
     "text": [
      "Running for parameters ['Par0001rigid.txt', 'Par0001affine.txt', 'Par0001bspline04.txt']\n"
     ]
    },
    {
     "name": "stderr",
     "output_type": "stream",
     "text": [
      "  0%|          | 0/3 [00:28<?, ?it/s]\n"
     ]
    },
    {
     "ename": "ValueError",
     "evalue": "cannot use columns parameter with orient='columns'",
     "output_type": "error",
     "traceback": [
      "\u001b[1;31m---------------------------------------------------------------------------\u001b[0m",
      "\u001b[1;31mValueError\u001b[0m                                Traceback (most recent call last)",
      "\u001b[1;32mc:\\Users\\marti\\OneDrive - TU Eindhoven\\Documenten\\Master\\Q3\\Capita Selecta\\Project\\CapitaSelectaCode\\main.ipynb Cell 8\u001b[0m in \u001b[0;36m2\n\u001b[0;32m      <a href='vscode-notebook-cell:/c%3A/Users/marti/OneDrive%20-%20TU%20Eindhoven/Documenten/Master/Q3/Capita%20Selecta/Project/CapitaSelectaCode/main.ipynb#X10sZmlsZQ%3D%3D?line=0'>1</a>\u001b[0m model\u001b[39m.\u001b[39mthreshold_staple \u001b[39m=\u001b[39m \u001b[39m0.95\u001b[39m\n\u001b[1;32m----> <a href='vscode-notebook-cell:/c%3A/Users/marti/OneDrive%20-%20TU%20Eindhoven/Documenten/Master/Q3/Capita%20Selecta/Project/CapitaSelectaCode/main.ipynb#X10sZmlsZQ%3D%3D?line=1'>2</a>\u001b[0m model\u001b[39m.\u001b[39;49mcalculate_scores()\n",
      "File \u001b[1;32mc:\\Users\\marti\\OneDrive - TU Eindhoven\\Documenten\\Master\\Q3\\Capita Selecta\\Project\\CapitaSelectaCode\\model.py:170\u001b[0m, in \u001b[0;36mModel.calculate_scores\u001b[1;34m(self)\u001b[0m\n\u001b[0;32m    167\u001b[0m std_hausdorf \u001b[39m=\u001b[39m hausdorf\u001b[39m.\u001b[39mstd()\n\u001b[0;32m    168\u001b[0m \u001b[39mself\u001b[39m\u001b[39m.\u001b[39mscores[\u001b[39mself\u001b[39m\u001b[39m.\u001b[39mconfig\u001b[39m.\u001b[39mpatients[valid_i], \u001b[39m\"\u001b[39m\u001b[39mSTAPLE\u001b[39m\u001b[39m\"\u001b[39m, \u001b[39m\"\u001b[39m\u001b[39mhausdorf\u001b[39m\u001b[39m\"\u001b[39m] \u001b[39m=\u001b[39m [dice, mean_hausdorf, std_hausdorf]\n\u001b[1;32m--> 170\u001b[0m csv \u001b[39m=\u001b[39m pd\u001b[39m.\u001b[39;49mDataFrame\u001b[39m.\u001b[39;49mfrom_dict(\u001b[39mself\u001b[39;49m\u001b[39m.\u001b[39;49mscores, columns\u001b[39m=\u001b[39;49m[\u001b[39m\"\u001b[39;49m\u001b[39mDice\u001b[39;49m\u001b[39m\"\u001b[39;49m, \u001b[39m\"\u001b[39;49m\u001b[39mMean Hausdorf\u001b[39;49m\u001b[39m\"\u001b[39;49m, \u001b[39m\"\u001b[39;49m\u001b[39mSTD Hausdorf\u001b[39;49m\u001b[39m\"\u001b[39;49m])\n\u001b[0;32m    171\u001b[0m csv\u001b[39m.\u001b[39mto_csv(os\u001b[39m.\u001b[39mpath\u001b[39m.\u001b[39mjoin(\u001b[39mself\u001b[39m\u001b[39m.\u001b[39mconfig\u001b[39m.\u001b[39mfolder_results, \u001b[39mself\u001b[39m\u001b[39m.\u001b[39mconfig\u001b[39m.\u001b[39mnow, \u001b[39mself\u001b[39m\u001b[39m.\u001b[39mconfig\u001b[39m.\u001b[39mpatients[valid_i], \u001b[39m\"\u001b[39m\u001b[39mscores.csv\u001b[39m\u001b[39m\"\u001b[39m))\n\u001b[0;32m    173\u001b[0m \u001b[39mself\u001b[39m\u001b[39m.\u001b[39msegmentations[\u001b[39mself\u001b[39m\u001b[39m.\u001b[39mconfig\u001b[39m.\u001b[39mpatients[valid_i], \u001b[39m\"\u001b[39m\u001b[39mSTAPLE\u001b[39m\u001b[39m\"\u001b[39m] \u001b[39m=\u001b[39m staple\n",
      "File \u001b[1;32mc:\\Users\\marti\\AppData\\Local\\Programs\\Python\\Python310\\lib\\site-packages\\pandas\\core\\frame.py:1756\u001b[0m, in \u001b[0;36mDataFrame.from_dict\u001b[1;34m(cls, data, orient, dtype, columns)\u001b[0m\n\u001b[0;32m   1754\u001b[0m \u001b[39melif\u001b[39;00m orient \u001b[39m==\u001b[39m \u001b[39m\"\u001b[39m\u001b[39mcolumns\u001b[39m\u001b[39m\"\u001b[39m \u001b[39mor\u001b[39;00m orient \u001b[39m==\u001b[39m \u001b[39m\"\u001b[39m\u001b[39mtight\u001b[39m\u001b[39m\"\u001b[39m:\n\u001b[0;32m   1755\u001b[0m     \u001b[39mif\u001b[39;00m columns \u001b[39mis\u001b[39;00m \u001b[39mnot\u001b[39;00m \u001b[39mNone\u001b[39;00m:\n\u001b[1;32m-> 1756\u001b[0m         \u001b[39mraise\u001b[39;00m \u001b[39mValueError\u001b[39;00m(\u001b[39mf\u001b[39m\u001b[39m\"\u001b[39m\u001b[39mcannot use columns parameter with orient=\u001b[39m\u001b[39m'\u001b[39m\u001b[39m{\u001b[39;00morient\u001b[39m}\u001b[39;00m\u001b[39m'\u001b[39m\u001b[39m\"\u001b[39m)\n\u001b[0;32m   1757\u001b[0m \u001b[39melse\u001b[39;00m:  \u001b[39m# pragma: no cover\u001b[39;00m\n\u001b[0;32m   1758\u001b[0m     \u001b[39mraise\u001b[39;00m \u001b[39mValueError\u001b[39;00m(\n\u001b[0;32m   1759\u001b[0m         \u001b[39mf\u001b[39m\u001b[39m\"\u001b[39m\u001b[39mExpected \u001b[39m\u001b[39m'\u001b[39m\u001b[39mindex\u001b[39m\u001b[39m'\u001b[39m\u001b[39m, \u001b[39m\u001b[39m'\u001b[39m\u001b[39mcolumns\u001b[39m\u001b[39m'\u001b[39m\u001b[39m or \u001b[39m\u001b[39m'\u001b[39m\u001b[39mtight\u001b[39m\u001b[39m'\u001b[39m\u001b[39m for orient parameter. \u001b[39m\u001b[39m\"\u001b[39m\n\u001b[0;32m   1760\u001b[0m         \u001b[39mf\u001b[39m\u001b[39m\"\u001b[39m\u001b[39mGot \u001b[39m\u001b[39m'\u001b[39m\u001b[39m{\u001b[39;00morient\u001b[39m}\u001b[39;00m\u001b[39m'\u001b[39m\u001b[39m instead\u001b[39m\u001b[39m\"\u001b[39m\n\u001b[0;32m   1761\u001b[0m     )\n",
      "\u001b[1;31mValueError\u001b[0m: cannot use columns parameter with orient='columns'"
     ]
    }
   ],
   "source": [
    "model.threshold_staple = 0.95\n",
    "model.calculate_scores()"
   ]
  },
  {
   "cell_type": "code",
   "execution_count": null,
   "metadata": {},
   "outputs": [],
   "source": [
    "model.scores"
   ]
  }
 ],
 "metadata": {
  "kernelspec": {
   "display_name": "Python 3",
   "language": "python",
   "name": "python3"
  },
  "language_info": {
   "codemirror_mode": {
    "name": "ipython",
    "version": 3
   },
   "file_extension": ".py",
   "mimetype": "text/x-python",
   "name": "python",
   "nbconvert_exporter": "python",
   "pygments_lexer": "ipython3",
   "version": "3.10.8"
  },
  "orig_nbformat": 4,
  "vscode": {
   "interpreter": {
    "hash": "e7ccb2a435b656723dafd2fb88eb02b6891256ab8b77d2cf3044cea9811453d0"
   }
  }
 },
 "nbformat": 4,
 "nbformat_minor": 2
}
