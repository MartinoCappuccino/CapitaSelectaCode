{
 "cells": [
  {
   "cell_type": "code",
   "execution_count": 1,
   "metadata": {},
   "outputs": [],
   "source": [
    "import numpy as np \n",
    "import matplotlib.pyplot as plt \n",
    "import SimpleITK as sitk \n",
    "import os\n",
    "from tqdm.notebook import tqdm, trange\n",
    "from skimage.transform import downscale_local_mean\n",
    "from typing import List, Tuple, Any, Dict, Set, Optional\n",
    "from sklearn.model_selection import train_test_split\n",
    "os.environ[\"PATH\"] = \"/Users/ivannovikov/Downloads/elastix-5.0.0-mac/bin\" + os.pathsep + os.environ[\"PATH\"]\n",
    "os.environ[\"DYLD_LIBRARY_PATH\"] = \"/Users/ivannovikov/Downloads/elastix-5.0.0-mac/lib\"\n",
    "import elastix\n",
    "from scrollview import ScrollView\n",
    "from misc import Config\n",
    "from model import *\n",
    "from operator import itemgetter\n",
    "%matplotlib qt"
   ]
  },
  {
   "cell_type": "code",
   "execution_count": 2,
   "metadata": {},
   "outputs": [],
   "source": [
    "ELASTIX_PATH = os.path.join(r'/Users/ivannovikov/Downloads/elastix-5.0.0-mac/bin/elastix')\n",
    "TRANSFORMIX_PATH = os.path.join(r'/Users/ivannovikov/Downloads/elastix-5.0.0-mac/bin/transformix')\n",
    "FOLDER_RAW = r'/Users/ivannovikov/Documents/CSMIA/TrainingData/'\n",
    "FOLDER_PREPROCESSED = r'/Users/ivannovikov/Documents/CSMIA/DataPreprocessed'\n",
    "FOLDER_PARAMETERS = r'/Users/ivannovikov/Documents/CSMIA/parameters'\n",
    "FOLDER_RESULTS = r'/Users/ivannovikov/Documents/CSMIA/results'"
   ]
  },
  {
   "cell_type": "code",
   "execution_count": 3,
   "metadata": {},
   "outputs": [],
   "source": [
    "config = Config(\n",
    "    folder_raw = FOLDER_RAW, \n",
    "    folder_preprocessed = FOLDER_PREPROCESSED,\n",
    "    folder_parameters = FOLDER_PARAMETERS,\n",
    "    folder_results = FOLDER_RESULTS,\n",
    "    seed = 0,\n",
    "    train_size = 12,\n",
    ")"
   ]
  },
  {
   "cell_type": "code",
   "execution_count": 4,
   "metadata": {},
   "outputs": [],
   "source": [
    "model = Model(\n",
    "    config = config,\n",
    "    elastix_path = ELASTIX_PATH,\n",
    "    transformix_path = TRANSFORMIX_PATH,\n",
    ")"
   ]
  },
  {
   "cell_type": "code",
   "execution_count": 5,
   "metadata": {},
   "outputs": [
    {
     "data": {
      "application/vnd.jupyter.widget-view+json": {
       "model_id": "3453c5d5cb0a475eb2c12681df924ff2",
       "version_major": 2,
       "version_minor": 0
      },
      "text/plain": [
       "Loading Data:   0%|          | 0/15 [00:00<?, ?it/s]"
      ]
     },
     "metadata": {},
     "output_type": "display_data"
    }
   ],
   "source": [
    "model.load()"
   ]
  },
  {
   "cell_type": "code",
   "execution_count": 6,
   "metadata": {},
   "outputs": [
    {
     "data": {
      "application/vnd.jupyter.widget-view+json": {
       "model_id": "1e9db5ae549947fab95a8ec69de995d1",
       "version_major": 2,
       "version_minor": 0
      },
      "text/plain": [
       "Saving Preprocessed Data:   0%|          | 0/15 [00:00<?, ?it/s]"
      ]
     },
     "metadata": {},
     "output_type": "display_data"
    }
   ],
   "source": [
    "model.preprecess_and_save(downscale_factor=4, normalize=\"none\")"
   ]
  },
  {
   "cell_type": "code",
   "execution_count": 7,
   "metadata": {},
   "outputs": [
    {
     "name": "stdout",
     "output_type": "stream",
     "text": [
      "Running with parameters BSpline.txt\n"
     ]
    },
    {
     "data": {
      "application/vnd.jupyter.widget-view+json": {
       "model_id": "39742ee6fdd34955b6c9c311c5d21597",
       "version_major": 2,
       "version_minor": 0
      },
      "text/plain": [
       "  0%|          | 0/3 [00:00<?, ?it/s]"
      ]
     },
     "metadata": {},
     "output_type": "display_data"
    },
    {
     "name": "stdout",
     "output_type": "stream",
     "text": [
      "/Users/ivannovikov/Downloads/elastix-5.0.0-mac/bin/elastix -f /Users/ivannovikov/Documents/CSMIA/DataPreprocessed/p107/mr_bffe.mhd -m /Users/ivannovikov/Documents/CSMIA/DataPreprocessed/p125/mr_bffe.mhd -p /Users/ivannovikov/Documents/CSMIA/parameters/BSpline.txt -out /Users/ivannovikov/Documents/CSMIA/results/BSpline/p107_as_fixed/p125_as_moving\n",
      "/Users/ivannovikov/Downloads/elastix-5.0.0-mac/bin/elastix -f /Users/ivannovikov/Documents/CSMIA/DataPreprocessed/p107/mr_bffe.mhd -m /Users/ivannovikov/Documents/CSMIA/DataPreprocessed/p135/mr_bffe.mhd -p /Users/ivannovikov/Documents/CSMIA/parameters/BSpline.txt -out /Users/ivannovikov/Documents/CSMIA/results/BSpline/p107_as_fixed/p135_as_moving\n",
      "/Users/ivannovikov/Downloads/elastix-5.0.0-mac/bin/elastix -f /Users/ivannovikov/Documents/CSMIA/DataPreprocessed/p107/mr_bffe.mhd -m /Users/ivannovikov/Documents/CSMIA/DataPreprocessed/p115/mr_bffe.mhd -p /Users/ivannovikov/Documents/CSMIA/parameters/BSpline.txt -out /Users/ivannovikov/Documents/CSMIA/results/BSpline/p107_as_fixed/p115_as_moving\n",
      "/Users/ivannovikov/Downloads/elastix-5.0.0-mac/bin/elastix -f /Users/ivannovikov/Documents/CSMIA/DataPreprocessed/p107/mr_bffe.mhd -m /Users/ivannovikov/Documents/CSMIA/DataPreprocessed/p108/mr_bffe.mhd -p /Users/ivannovikov/Documents/CSMIA/parameters/BSpline.txt -out /Users/ivannovikov/Documents/CSMIA/results/BSpline/p107_as_fixed/p108_as_moving\n",
      "/Users/ivannovikov/Downloads/elastix-5.0.0-mac/bin/elastix -f /Users/ivannovikov/Documents/CSMIA/DataPreprocessed/p107/mr_bffe.mhd -m /Users/ivannovikov/Documents/CSMIA/DataPreprocessed/p133/mr_bffe.mhd -p /Users/ivannovikov/Documents/CSMIA/parameters/BSpline.txt -out /Users/ivannovikov/Documents/CSMIA/results/BSpline/p107_as_fixed/p133_as_moving\n",
      "/Users/ivannovikov/Downloads/elastix-5.0.0-mac/bin/elastix -f /Users/ivannovikov/Documents/CSMIA/DataPreprocessed/p107/mr_bffe.mhd -m /Users/ivannovikov/Documents/CSMIA/DataPreprocessed/p127/mr_bffe.mhd -p /Users/ivannovikov/Documents/CSMIA/parameters/BSpline.txt -out /Users/ivannovikov/Documents/CSMIA/results/BSpline/p107_as_fixed/p127_as_moving\n",
      "/Users/ivannovikov/Downloads/elastix-5.0.0-mac/bin/elastix -f /Users/ivannovikov/Documents/CSMIA/DataPreprocessed/p107/mr_bffe.mhd -m /Users/ivannovikov/Documents/CSMIA/DataPreprocessed/p119/mr_bffe.mhd -p /Users/ivannovikov/Documents/CSMIA/parameters/BSpline.txt -out /Users/ivannovikov/Documents/CSMIA/results/BSpline/p107_as_fixed/p119_as_moving\n",
      "/Users/ivannovikov/Downloads/elastix-5.0.0-mac/bin/elastix -f /Users/ivannovikov/Documents/CSMIA/DataPreprocessed/p107/mr_bffe.mhd -m /Users/ivannovikov/Documents/CSMIA/DataPreprocessed/p128/mr_bffe.mhd -p /Users/ivannovikov/Documents/CSMIA/parameters/BSpline.txt -out /Users/ivannovikov/Documents/CSMIA/results/BSpline/p107_as_fixed/p128_as_moving\n",
      "/Users/ivannovikov/Downloads/elastix-5.0.0-mac/bin/elastix -f /Users/ivannovikov/Documents/CSMIA/DataPreprocessed/p107/mr_bffe.mhd -m /Users/ivannovikov/Documents/CSMIA/DataPreprocessed/p109/mr_bffe.mhd -p /Users/ivannovikov/Documents/CSMIA/parameters/BSpline.txt -out /Users/ivannovikov/Documents/CSMIA/results/BSpline/p107_as_fixed/p109_as_moving\n",
      "/Users/ivannovikov/Downloads/elastix-5.0.0-mac/bin/elastix -f /Users/ivannovikov/Documents/CSMIA/DataPreprocessed/p107/mr_bffe.mhd -m /Users/ivannovikov/Documents/CSMIA/DataPreprocessed/p102/mr_bffe.mhd -p /Users/ivannovikov/Documents/CSMIA/parameters/BSpline.txt -out /Users/ivannovikov/Documents/CSMIA/results/BSpline/p107_as_fixed/p102_as_moving\n",
      "/Users/ivannovikov/Downloads/elastix-5.0.0-mac/bin/elastix -f /Users/ivannovikov/Documents/CSMIA/DataPreprocessed/p107/mr_bffe.mhd -m /Users/ivannovikov/Documents/CSMIA/DataPreprocessed/p116/mr_bffe.mhd -p /Users/ivannovikov/Documents/CSMIA/parameters/BSpline.txt -out /Users/ivannovikov/Documents/CSMIA/results/BSpline/p107_as_fixed/p116_as_moving\n",
      "/Users/ivannovikov/Downloads/elastix-5.0.0-mac/bin/elastix -f /Users/ivannovikov/Documents/CSMIA/DataPreprocessed/p107/mr_bffe.mhd -m /Users/ivannovikov/Documents/CSMIA/DataPreprocessed/p129/mr_bffe.mhd -p /Users/ivannovikov/Documents/CSMIA/parameters/BSpline.txt -out /Users/ivannovikov/Documents/CSMIA/results/BSpline/p107_as_fixed/p129_as_moving\n",
      "/Users/ivannovikov/Downloads/elastix-5.0.0-mac/bin/elastix -f /Users/ivannovikov/Documents/CSMIA/DataPreprocessed/p117/mr_bffe.mhd -m /Users/ivannovikov/Documents/CSMIA/DataPreprocessed/p125/mr_bffe.mhd -p /Users/ivannovikov/Documents/CSMIA/parameters/BSpline.txt -out /Users/ivannovikov/Documents/CSMIA/results/BSpline/p117_as_fixed/p125_as_moving\n",
      "/Users/ivannovikov/Downloads/elastix-5.0.0-mac/bin/elastix -f /Users/ivannovikov/Documents/CSMIA/DataPreprocessed/p117/mr_bffe.mhd -m /Users/ivannovikov/Documents/CSMIA/DataPreprocessed/p135/mr_bffe.mhd -p /Users/ivannovikov/Documents/CSMIA/parameters/BSpline.txt -out /Users/ivannovikov/Documents/CSMIA/results/BSpline/p117_as_fixed/p135_as_moving\n",
      "/Users/ivannovikov/Downloads/elastix-5.0.0-mac/bin/elastix -f /Users/ivannovikov/Documents/CSMIA/DataPreprocessed/p117/mr_bffe.mhd -m /Users/ivannovikov/Documents/CSMIA/DataPreprocessed/p115/mr_bffe.mhd -p /Users/ivannovikov/Documents/CSMIA/parameters/BSpline.txt -out /Users/ivannovikov/Documents/CSMIA/results/BSpline/p117_as_fixed/p115_as_moving\n",
      "/Users/ivannovikov/Downloads/elastix-5.0.0-mac/bin/elastix -f /Users/ivannovikov/Documents/CSMIA/DataPreprocessed/p117/mr_bffe.mhd -m /Users/ivannovikov/Documents/CSMIA/DataPreprocessed/p108/mr_bffe.mhd -p /Users/ivannovikov/Documents/CSMIA/parameters/BSpline.txt -out /Users/ivannovikov/Documents/CSMIA/results/BSpline/p117_as_fixed/p108_as_moving\n",
      "/Users/ivannovikov/Downloads/elastix-5.0.0-mac/bin/elastix -f /Users/ivannovikov/Documents/CSMIA/DataPreprocessed/p117/mr_bffe.mhd -m /Users/ivannovikov/Documents/CSMIA/DataPreprocessed/p133/mr_bffe.mhd -p /Users/ivannovikov/Documents/CSMIA/parameters/BSpline.txt -out /Users/ivannovikov/Documents/CSMIA/results/BSpline/p117_as_fixed/p133_as_moving\n",
      "/Users/ivannovikov/Downloads/elastix-5.0.0-mac/bin/elastix -f /Users/ivannovikov/Documents/CSMIA/DataPreprocessed/p117/mr_bffe.mhd -m /Users/ivannovikov/Documents/CSMIA/DataPreprocessed/p127/mr_bffe.mhd -p /Users/ivannovikov/Documents/CSMIA/parameters/BSpline.txt -out /Users/ivannovikov/Documents/CSMIA/results/BSpline/p117_as_fixed/p127_as_moving\n",
      "/Users/ivannovikov/Downloads/elastix-5.0.0-mac/bin/elastix -f /Users/ivannovikov/Documents/CSMIA/DataPreprocessed/p117/mr_bffe.mhd -m /Users/ivannovikov/Documents/CSMIA/DataPreprocessed/p119/mr_bffe.mhd -p /Users/ivannovikov/Documents/CSMIA/parameters/BSpline.txt -out /Users/ivannovikov/Documents/CSMIA/results/BSpline/p117_as_fixed/p119_as_moving\n",
      "/Users/ivannovikov/Downloads/elastix-5.0.0-mac/bin/elastix -f /Users/ivannovikov/Documents/CSMIA/DataPreprocessed/p117/mr_bffe.mhd -m /Users/ivannovikov/Documents/CSMIA/DataPreprocessed/p128/mr_bffe.mhd -p /Users/ivannovikov/Documents/CSMIA/parameters/BSpline.txt -out /Users/ivannovikov/Documents/CSMIA/results/BSpline/p117_as_fixed/p128_as_moving\n",
      "/Users/ivannovikov/Downloads/elastix-5.0.0-mac/bin/elastix -f /Users/ivannovikov/Documents/CSMIA/DataPreprocessed/p117/mr_bffe.mhd -m /Users/ivannovikov/Documents/CSMIA/DataPreprocessed/p109/mr_bffe.mhd -p /Users/ivannovikov/Documents/CSMIA/parameters/BSpline.txt -out /Users/ivannovikov/Documents/CSMIA/results/BSpline/p117_as_fixed/p109_as_moving\n",
      "/Users/ivannovikov/Downloads/elastix-5.0.0-mac/bin/elastix -f /Users/ivannovikov/Documents/CSMIA/DataPreprocessed/p117/mr_bffe.mhd -m /Users/ivannovikov/Documents/CSMIA/DataPreprocessed/p102/mr_bffe.mhd -p /Users/ivannovikov/Documents/CSMIA/parameters/BSpline.txt -out /Users/ivannovikov/Documents/CSMIA/results/BSpline/p117_as_fixed/p102_as_moving\n",
      "/Users/ivannovikov/Downloads/elastix-5.0.0-mac/bin/elastix -f /Users/ivannovikov/Documents/CSMIA/DataPreprocessed/p117/mr_bffe.mhd -m /Users/ivannovikov/Documents/CSMIA/DataPreprocessed/p116/mr_bffe.mhd -p /Users/ivannovikov/Documents/CSMIA/parameters/BSpline.txt -out /Users/ivannovikov/Documents/CSMIA/results/BSpline/p117_as_fixed/p116_as_moving\n",
      "/Users/ivannovikov/Downloads/elastix-5.0.0-mac/bin/elastix -f /Users/ivannovikov/Documents/CSMIA/DataPreprocessed/p117/mr_bffe.mhd -m /Users/ivannovikov/Documents/CSMIA/DataPreprocessed/p129/mr_bffe.mhd -p /Users/ivannovikov/Documents/CSMIA/parameters/BSpline.txt -out /Users/ivannovikov/Documents/CSMIA/results/BSpline/p117_as_fixed/p129_as_moving\n",
      "/Users/ivannovikov/Downloads/elastix-5.0.0-mac/bin/elastix -f /Users/ivannovikov/Documents/CSMIA/DataPreprocessed/p120/mr_bffe.mhd -m /Users/ivannovikov/Documents/CSMIA/DataPreprocessed/p125/mr_bffe.mhd -p /Users/ivannovikov/Documents/CSMIA/parameters/BSpline.txt -out /Users/ivannovikov/Documents/CSMIA/results/BSpline/p120_as_fixed/p125_as_moving\n",
      "/Users/ivannovikov/Downloads/elastix-5.0.0-mac/bin/elastix -f /Users/ivannovikov/Documents/CSMIA/DataPreprocessed/p120/mr_bffe.mhd -m /Users/ivannovikov/Documents/CSMIA/DataPreprocessed/p135/mr_bffe.mhd -p /Users/ivannovikov/Documents/CSMIA/parameters/BSpline.txt -out /Users/ivannovikov/Documents/CSMIA/results/BSpline/p120_as_fixed/p135_as_moving\n",
      "/Users/ivannovikov/Downloads/elastix-5.0.0-mac/bin/elastix -f /Users/ivannovikov/Documents/CSMIA/DataPreprocessed/p120/mr_bffe.mhd -m /Users/ivannovikov/Documents/CSMIA/DataPreprocessed/p115/mr_bffe.mhd -p /Users/ivannovikov/Documents/CSMIA/parameters/BSpline.txt -out /Users/ivannovikov/Documents/CSMIA/results/BSpline/p120_as_fixed/p115_as_moving\n",
      "/Users/ivannovikov/Downloads/elastix-5.0.0-mac/bin/elastix -f /Users/ivannovikov/Documents/CSMIA/DataPreprocessed/p120/mr_bffe.mhd -m /Users/ivannovikov/Documents/CSMIA/DataPreprocessed/p108/mr_bffe.mhd -p /Users/ivannovikov/Documents/CSMIA/parameters/BSpline.txt -out /Users/ivannovikov/Documents/CSMIA/results/BSpline/p120_as_fixed/p108_as_moving\n",
      "/Users/ivannovikov/Downloads/elastix-5.0.0-mac/bin/elastix -f /Users/ivannovikov/Documents/CSMIA/DataPreprocessed/p120/mr_bffe.mhd -m /Users/ivannovikov/Documents/CSMIA/DataPreprocessed/p133/mr_bffe.mhd -p /Users/ivannovikov/Documents/CSMIA/parameters/BSpline.txt -out /Users/ivannovikov/Documents/CSMIA/results/BSpline/p120_as_fixed/p133_as_moving\n",
      "/Users/ivannovikov/Downloads/elastix-5.0.0-mac/bin/elastix -f /Users/ivannovikov/Documents/CSMIA/DataPreprocessed/p120/mr_bffe.mhd -m /Users/ivannovikov/Documents/CSMIA/DataPreprocessed/p127/mr_bffe.mhd -p /Users/ivannovikov/Documents/CSMIA/parameters/BSpline.txt -out /Users/ivannovikov/Documents/CSMIA/results/BSpline/p120_as_fixed/p127_as_moving\n",
      "/Users/ivannovikov/Downloads/elastix-5.0.0-mac/bin/elastix -f /Users/ivannovikov/Documents/CSMIA/DataPreprocessed/p120/mr_bffe.mhd -m /Users/ivannovikov/Documents/CSMIA/DataPreprocessed/p119/mr_bffe.mhd -p /Users/ivannovikov/Documents/CSMIA/parameters/BSpline.txt -out /Users/ivannovikov/Documents/CSMIA/results/BSpline/p120_as_fixed/p119_as_moving\n",
      "/Users/ivannovikov/Downloads/elastix-5.0.0-mac/bin/elastix -f /Users/ivannovikov/Documents/CSMIA/DataPreprocessed/p120/mr_bffe.mhd -m /Users/ivannovikov/Documents/CSMIA/DataPreprocessed/p128/mr_bffe.mhd -p /Users/ivannovikov/Documents/CSMIA/parameters/BSpline.txt -out /Users/ivannovikov/Documents/CSMIA/results/BSpline/p120_as_fixed/p128_as_moving\n",
      "/Users/ivannovikov/Downloads/elastix-5.0.0-mac/bin/elastix -f /Users/ivannovikov/Documents/CSMIA/DataPreprocessed/p120/mr_bffe.mhd -m /Users/ivannovikov/Documents/CSMIA/DataPreprocessed/p109/mr_bffe.mhd -p /Users/ivannovikov/Documents/CSMIA/parameters/BSpline.txt -out /Users/ivannovikov/Documents/CSMIA/results/BSpline/p120_as_fixed/p109_as_moving\n",
      "/Users/ivannovikov/Downloads/elastix-5.0.0-mac/bin/elastix -f /Users/ivannovikov/Documents/CSMIA/DataPreprocessed/p120/mr_bffe.mhd -m /Users/ivannovikov/Documents/CSMIA/DataPreprocessed/p102/mr_bffe.mhd -p /Users/ivannovikov/Documents/CSMIA/parameters/BSpline.txt -out /Users/ivannovikov/Documents/CSMIA/results/BSpline/p120_as_fixed/p102_as_moving\n",
      "/Users/ivannovikov/Downloads/elastix-5.0.0-mac/bin/elastix -f /Users/ivannovikov/Documents/CSMIA/DataPreprocessed/p120/mr_bffe.mhd -m /Users/ivannovikov/Documents/CSMIA/DataPreprocessed/p116/mr_bffe.mhd -p /Users/ivannovikov/Documents/CSMIA/parameters/BSpline.txt -out /Users/ivannovikov/Documents/CSMIA/results/BSpline/p120_as_fixed/p116_as_moving\n",
      "/Users/ivannovikov/Downloads/elastix-5.0.0-mac/bin/elastix -f /Users/ivannovikov/Documents/CSMIA/DataPreprocessed/p120/mr_bffe.mhd -m /Users/ivannovikov/Documents/CSMIA/DataPreprocessed/p129/mr_bffe.mhd -p /Users/ivannovikov/Documents/CSMIA/parameters/BSpline.txt -out /Users/ivannovikov/Documents/CSMIA/results/BSpline/p120_as_fixed/p129_as_moving\n"
     ]
    }
   ],
   "source": [
    "model.run_registration()"
   ]
  },
  {
   "cell_type": "code",
   "execution_count": 8,
   "metadata": {},
   "outputs": [
    {
     "name": "stdout",
     "output_type": "stream",
     "text": [
      "Running for parameters BSpline.txt\n"
     ]
    },
    {
     "data": {
      "application/vnd.jupyter.widget-view+json": {
       "model_id": "ae4a21231dd8480e8070d6a3399a4c0f",
       "version_major": 2,
       "version_minor": 0
      },
      "text/plain": [
       "  0%|          | 0/3 [00:00<?, ?it/s]"
      ]
     },
     "metadata": {},
     "output_type": "display_data"
    }
   ],
   "source": [
    "model.threshold_staple = 0.95\n",
    "model.run_staple()"
   ]
  },
  {
   "cell_type": "code",
   "execution_count": 9,
   "metadata": {},
   "outputs": [
    {
     "data": {
      "text/plain": [
       "[[0.6653657401941012, 0.5464058137942353, 0.7694382923219628]]"
      ]
     },
     "execution_count": 9,
     "metadata": {},
     "output_type": "execute_result"
    }
   ],
   "source": [
    "model.scores"
   ]
  },
  {
   "cell_type": "code",
   "execution_count": 67,
   "metadata": {},
   "outputs": [
    {
     "data": {
      "text/plain": [
       "0.7432233910951942"
      ]
     },
     "execution_count": 67,
     "metadata": {},
     "output_type": "execute_result"
    }
   ],
   "source": [
    "dice_score(model.segmentations[0][0]>0.99999999999, model.ground_truths[0], eps=1e-5)"
   ]
  },
  {
   "cell_type": "code",
   "execution_count": 9,
   "metadata": {},
   "outputs": [],
   "source": [
    "im = sitk.GetArrayFromImage(sitk.ReadImage(FOLDER_PREPROCESSED + \"/p108/mr_bffe.mhd\"))\n",
    "mask = sitk.GetArrayFromImage(sitk.ReadImage(FOLDER_PREPROCESSED + \"/p108/prostaat.mhd\"))\n",
    "\n",
    "registered = sitk.GetArrayFromImage(sitk.ReadImage(FOLDER_RESULTS + \"/BSpline/p108_as_fixed/p102_as_moving/result.0.mhd\"))\n",
    "transformed = sitk.GetArrayFromImage(sitk.ReadImage(FOLDER_RESULTS + \"/BSpline/p108_as_fixed/p102_as_moving/result.mhd\"))"
   ]
  },
  {
   "cell_type": "code",
   "execution_count": 42,
   "metadata": {},
   "outputs": [],
   "source": [
    "view = lambda x, ax : ScrollView(x).plot(ax, vmin=x.min(), vmax=x.max())"
   ]
  },
  {
   "cell_type": "code",
   "execution_count": 12,
   "metadata": {},
   "outputs": [],
   "source": [
    "a = sitk.GetArrayFromImage(res[0]) > 0.95\n",
    "fig, ax = plt.subplots(1,1)\n",
    "view(a, ax)"
   ]
  }
 ],
 "metadata": {
  "kernelspec": {
   "display_name": "Python 3",
   "language": "python",
   "name": "python3"
  },
  "language_info": {
   "codemirror_mode": {
    "name": "ipython",
    "version": 3
   },
   "file_extension": ".py",
   "mimetype": "text/x-python",
   "name": "python",
   "nbconvert_exporter": "python",
   "pygments_lexer": "ipython3",
   "version": "3.6.8"
  },
  "orig_nbformat": 4,
  "vscode": {
   "interpreter": {
    "hash": "aee8b7b246df8f9039afb4144a1f6fd8d2ca17a180786b69acc140d282b71a49"
   }
  }
 },
 "nbformat": 4,
 "nbformat_minor": 2
}
