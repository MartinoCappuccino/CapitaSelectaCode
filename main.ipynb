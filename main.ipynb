{
 "cells": [
  {
   "cell_type": "code",
   "execution_count": 9,
   "metadata": {},
   "outputs": [],
   "source": [
    "import matplotlib.pyplot as plt \n",
    "import SimpleITK as sitk \n",
    "import os\n",
    "from misc import Config\n",
    "from model import *\n",
    "%matplotlib qt\n",
    "os.pathsep = \"/\""
   ]
  },
  {
   "cell_type": "code",
   "execution_count": 10,
   "metadata": {},
   "outputs": [],
   "source": [
    "ELASTIX_PATH = os.path.join('../../elastix/elastix.exe')\n",
    "TRANSFORMIX_PATH = os.path.join('../../elastix/transformix.exe')\n",
    "FOLDER_RAW = os.path.join('../../Project/Data')\n",
    "FOLDER_PREPROCESSED = os.path.join('../../Project/DataPreProcessed')\n",
    "FOLDER_PARAMETERS = os.path.join('../../Project/parameters')\n",
    "FOLDER_RESULTS = os.path.join('../../Project/results')"
   ]
  },
  {
   "cell_type": "code",
   "execution_count": 11,
   "metadata": {},
   "outputs": [
    {
     "name": "stdout",
     "output_type": "stream",
     "text": [
      "../../Project/Data\n"
     ]
    }
   ],
   "source": [
    "print(FOLDER_RAW)\n"
   ]
  },
  {
   "cell_type": "code",
   "execution_count": 12,
   "metadata": {},
   "outputs": [],
   "source": [
    "config = Config(\n",
    "    folder_raw = FOLDER_RAW, \n",
    "    folder_preprocessed = FOLDER_PREPROCESSED,\n",
    "    parameter_folder = FOLDER_PARAMETERS,\n",
    "    parameters = [\"Par0001translation.txt\", \"Par0001affine.txt\", \"Par0001bspline16.txt\"],\n",
    "    folder_results = FOLDER_RESULTS,\n",
    "    seed = 0,\n",
    "    train_size = 12,\n",
    ")"
   ]
  },
  {
   "cell_type": "code",
   "execution_count": 13,
   "metadata": {},
   "outputs": [],
   "source": [
    "model = Model(\n",
    "    config = config,\n",
    "    elastix_path = ELASTIX_PATH,\n",
    "    transformix_path = TRANSFORMIX_PATH,\n",
    ")"
   ]
  },
  {
   "cell_type": "code",
   "execution_count": 14,
   "metadata": {},
   "outputs": [
    {
     "name": "stderr",
     "output_type": "stream",
     "text": [
      "Loading Data: 100%|██████████| 15/15 [00:06<00:00,  2.17it/s]\n"
     ]
    }
   ],
   "source": [
    "model.load()"
   ]
  },
  {
   "cell_type": "code",
   "execution_count": 15,
   "metadata": {},
   "outputs": [
    {
     "name": "stderr",
     "output_type": "stream",
     "text": [
      "Saving Preprocessed Data: 100%|██████████| 15/15 [00:11<00:00,  1.33it/s]\n"
     ]
    }
   ],
   "source": [
    "model.preprocess_and_save(downscale_factor=1, normalize=\"none\")"
   ]
  },
  {
   "cell_type": "code",
   "execution_count": 16,
   "metadata": {},
   "outputs": [
    {
     "name": "stdout",
     "output_type": "stream",
     "text": [
      "Running with parameters ['Par0001translation.txt', 'Par0001affine.txt', 'Par0001bspline16.txt']\n"
     ]
    },
    {
     "name": "stderr",
     "output_type": "stream",
     "text": [
      "  0%|          | 0/3 [00:00<?, ?it/s]"
     ]
    },
    {
     "name": "stdout",
     "output_type": "stream",
     "text": [
      "['../../Project/parameters\\\\Par0001translation.txt', '../../Project/parameters\\\\Par0001affine.txt', '../../Project/parameters\\\\Par0001bspline16.txt']\n",
      "../../elastix/elastix.exe -f ../../Project/DataPreProcessed\\p107\\mr_bffe.mhd -m ../../Project/DataPreProcessed\\p125\\mr_bffe.mhd -p ../../Project/parameters\\Par0001translation.txt -p ../../Project/parameters\\Par0001affine.txt -p ../../Project/parameters\\Par0001bspline16.txt -out ../../Project/results\\23-03-03_16-19-28\\p107\\p125\n",
      "../../elastix/elastix.exe -f ../../Project/DataPreProcessed\\p107\\mr_bffe.mhd -m ../../Project/DataPreProcessed\\p135\\mr_bffe.mhd -p ../../Project/parameters\\Par0001translation.txt -p ../../Project/parameters\\Par0001affine.txt -p ../../Project/parameters\\Par0001bspline16.txt -out ../../Project/results\\23-03-03_16-19-28\\p107\\p135\n"
     ]
    }
   ],
   "source": [
    "model.run_registration()"
   ]
  },
  {
   "cell_type": "code",
   "execution_count": null,
   "metadata": {},
   "outputs": [
    {
     "name": "stdout",
     "output_type": "stream",
     "text": [
      "Running for parameters BSpline.txt\n"
     ]
    },
    {
     "data": {
      "application/vnd.jupyter.widget-view+json": {
       "model_id": "ae4a21231dd8480e8070d6a3399a4c0f",
       "version_major": 2,
       "version_minor": 0
      },
      "text/plain": [
       "  0%|          | 0/3 [00:00<?, ?it/s]"
      ]
     },
     "metadata": {},
     "output_type": "display_data"
    }
   ],
   "source": [
    "model.threshold_staple = 0.95\n",
    "model.calculate_scores()"
   ]
  },
  {
   "cell_type": "code",
   "execution_count": null,
   "metadata": {},
   "outputs": [
    {
     "data": {
      "text/plain": [
       "[[0.6653657401941012, 0.5464058137942353, 0.7694382923219628]]"
      ]
     },
     "execution_count": 9,
     "metadata": {},
     "output_type": "execute_result"
    }
   ],
   "source": [
    "model.scores"
   ]
  },
  {
   "cell_type": "code",
   "execution_count": null,
   "metadata": {},
   "outputs": [
    {
     "data": {
      "text/plain": [
       "0.7432233910951942"
      ]
     },
     "execution_count": 67,
     "metadata": {},
     "output_type": "execute_result"
    }
   ],
   "source": [
    "dice_score(model.segmentations[0][0]>0.99999999999, model.ground_truths[0], eps=1e-5)"
   ]
  },
  {
   "cell_type": "code",
   "execution_count": null,
   "metadata": {},
   "outputs": [],
   "source": [
    "im = sitk.GetArrayFromImage(sitk.ReadImage(FOLDER_PREPROCESSED + \"/p108/mr_bffe.mhd\"))\n",
    "mask = sitk.GetArrayFromImage(sitk.ReadImage(FOLDER_PREPROCESSED + \"/p108/prostaat.mhd\"))\n",
    "\n",
    "registered = sitk.GetArrayFromImage(sitk.ReadImage(FOLDER_RESULTS + \"/BSpline/p108_as_fixed/p102_as_moving/result.0.mhd\"))\n",
    "transformed = sitk.GetArrayFromImage(sitk.ReadImage(FOLDER_RESULTS + \"/BSpline/p108_as_fixed/p102_as_moving/result.mhd\"))"
   ]
  },
  {
   "cell_type": "code",
   "execution_count": null,
   "metadata": {},
   "outputs": [],
   "source": [
    "view = lambda x, ax : ScrollView(x).plot(ax, vmin=x.min(), vmax=x.max())"
   ]
  },
  {
   "cell_type": "code",
   "execution_count": null,
   "metadata": {},
   "outputs": [],
   "source": [
    "a = sitk.GetArrayFromImage(res[0]) > 0.95\n",
    "fig, ax = plt.subplots(1,1)\n",
    "view(a, ax)"
   ]
  }
 ],
 "metadata": {
  "kernelspec": {
   "display_name": "Python 3",
   "language": "python",
   "name": "python3"
  },
  "language_info": {
   "codemirror_mode": {
    "name": "ipython",
    "version": 3
   },
   "file_extension": ".py",
   "mimetype": "text/x-python",
   "name": "python",
   "nbconvert_exporter": "python",
   "pygments_lexer": "ipython3",
   "version": "3.10.8"
  },
  "orig_nbformat": 4,
  "vscode": {
   "interpreter": {
    "hash": "e7ccb2a435b656723dafd2fb88eb02b6891256ab8b77d2cf3044cea9811453d0"
   }
  }
 },
 "nbformat": 4,
 "nbformat_minor": 2
}
