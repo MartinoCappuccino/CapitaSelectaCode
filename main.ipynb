{
 "cells": [
  {
   "cell_type": "code",
   "execution_count": 1,
   "metadata": {},
   "outputs": [],
   "source": [
    "import matplotlib.pyplot as plt \n",
    "import SimpleITK as sitk \n",
    "import os\n",
    "from misc import Config\n",
    "from model import *\n",
    "%matplotlib qt\n",
    "os.pathsep = \"/\""
   ]
  },
  {
   "cell_type": "code",
   "execution_count": 2,
   "metadata": {},
   "outputs": [],
   "source": [
    "ELASTIX_PATH = os.path.join('../../elastix/elastix.exe')\n",
    "TRANSFORMIX_PATH = os.path.join('../../elastix/transformix.exe')\n",
    "FOLDER_RAW = os.path.join('../../Project/Data')\n",
    "FOLDER_PREPROCESSED = os.path.join('../../Project/DataPreProcessed')\n",
    "FOLDER_PARAMETERS = os.path.join('../../Project/parameters')\n",
    "FOLDER_RESULTS = os.path.join('../../Project/results')"
   ]
  },
  {
   "cell_type": "code",
   "execution_count": 3,
   "metadata": {},
   "outputs": [
    {
     "name": "stdout",
     "output_type": "stream",
     "text": [
      "../../Project/Data\n"
     ]
    }
   ],
   "source": [
    "print(FOLDER_RAW)\n"
   ]
  },
  {
   "cell_type": "code",
   "execution_count": 4,
   "metadata": {},
   "outputs": [],
   "source": [
    "config = Config(\n",
    "    folder_raw = FOLDER_RAW, \n",
    "    folder_preprocessed = FOLDER_PREPROCESSED,\n",
    "    parameter_folder = FOLDER_PARAMETERS,\n",
    "    parameters = [\"Par0001translation.txt\", \"Par0001affine.txt\", \"Par0001bspline16.txt\"],\n",
    "    folder_results = FOLDER_RESULTS,\n",
    "    seed = 0,\n",
    "    train_size = 12,\n",
    ")"
   ]
  },
  {
   "cell_type": "code",
   "execution_count": 5,
   "metadata": {},
   "outputs": [],
   "source": [
    "model = Model(\n",
    "    config = config,\n",
    "    elastix_path = ELASTIX_PATH,\n",
    "    transformix_path = TRANSFORMIX_PATH,\n",
    ")"
   ]
  },
  {
   "cell_type": "code",
   "execution_count": 6,
   "metadata": {},
   "outputs": [
    {
     "name": "stderr",
     "output_type": "stream",
     "text": [
      "Loading Data: 100%|██████████| 15/15 [00:07<00:00,  1.96it/s]\n"
     ]
    }
   ],
   "source": [
    "model.load()"
   ]
  },
  {
   "cell_type": "code",
   "execution_count": 7,
   "metadata": {},
   "outputs": [
    {
     "name": "stderr",
     "output_type": "stream",
     "text": [
      "Saving Preprocessed Data: 100%|██████████| 15/15 [00:01<00:00, 12.24it/s]\n"
     ]
    }
   ],
   "source": [
    "model.preprocess_and_save(downscale_factor=4, normalize=\"none\")"
   ]
  },
  {
   "cell_type": "code",
   "execution_count": 8,
   "metadata": {},
   "outputs": [
    {
     "name": "stdout",
     "output_type": "stream",
     "text": [
      "Running with parameters ['Par0001translation.txt', 'Par0001affine.txt', 'Par0001bspline16.txt']\n"
     ]
    },
    {
     "name": "stderr",
     "output_type": "stream",
     "text": [
      "  0%|          | 0/3 [00:00<?, ?it/s]"
     ]
    },
    {
     "name": "stdout",
     "output_type": "stream",
     "text": [
      "['../../Project/parameters\\\\Par0001translation.txt', '../../Project/parameters\\\\Par0001affine.txt', '../../Project/parameters\\\\Par0001bspline16.txt']\n",
      "../../elastix/elastix.exe -f ../../Project/DataPreProcessed\\p107\\mr_bffe.mhd -m ../../Project/DataPreProcessed\\p125\\mr_bffe.mhd -p ../../Project/parameters\\Par0001translation.txt -p ../../Project/parameters\\Par0001affine.txt -p ../../Project/parameters\\Par0001bspline16.txt -out ../../Project/results\\23-03-03_16-00-03\\p107\\p125\n"
     ]
    },
    {
     "name": "stderr",
     "output_type": "stream",
     "text": [
      "  0%|          | 0/3 [00:00<?, ?it/s]\n"
     ]
    },
    {
     "ename": "ElastixError",
     "evalue": "Elastix crashed with code 1 for command '../../elastix/elastix.exe -f ../../Project/DataPreProcessed\\p107\\mr_bffe.mhd -m ../../Project/DataPreProcessed\\p125\\mr_bffe.mhd -p ../../Project/parameters\\Par0001translation.txt -p ../../Project/parameters\\Par0001affine.txt -p ../../Project/parameters\\Par0001bspline16.txt -out ../../Project/results\\23-03-03_16-00-03\\p107\\p125'.",
     "output_type": "error",
     "traceback": [
      "\u001b[1;31m---------------------------------------------------------------------------\u001b[0m",
      "\u001b[1;31mElastixError\u001b[0m                              Traceback (most recent call last)",
      "\u001b[1;32mc:\\Users\\marti\\OneDrive - TU Eindhoven\\Documenten\\Master\\Q3\\Capita Selecta\\Project\\CapitaSelectaCode\\main.ipynb Cell 8\u001b[0m in \u001b[0;36m1\n\u001b[1;32m----> <a href='vscode-notebook-cell:/c%3A/Users/marti/OneDrive%20-%20TU%20Eindhoven/Documenten/Master/Q3/Capita%20Selecta/Project/CapitaSelectaCode/main.ipynb#W6sZmlsZQ%3D%3D?line=0'>1</a>\u001b[0m model\u001b[39m.\u001b[39;49mrun_registration()\n",
      "File \u001b[1;32mc:\\Users\\marti\\OneDrive - TU Eindhoven\\Documenten\\Master\\Q3\\Capita Selecta\\Project\\CapitaSelectaCode\\model.py:124\u001b[0m, in \u001b[0;36mModel.run_registration\u001b[1;34m(self)\u001b[0m\n\u001b[0;32m    122\u001b[0m \u001b[39mprint\u001b[39m(\u001b[39m\"\u001b[39m\u001b[39mRunning with parameters\u001b[39m\u001b[39m\"\u001b[39m, \u001b[39mself\u001b[39m\u001b[39m.\u001b[39mconfig\u001b[39m.\u001b[39mparameters)\n\u001b[0;32m    123\u001b[0m \u001b[39mfor\u001b[39;00m valid_i \u001b[39min\u001b[39;00m tqdm(\u001b[39mself\u001b[39m\u001b[39m.\u001b[39mconfig\u001b[39m.\u001b[39mvalid_indx):\n\u001b[1;32m--> 124\u001b[0m     \u001b[39mself\u001b[39;49m\u001b[39m.\u001b[39;49mregister_and_segment(valid_i)\n",
      "File \u001b[1;32mc:\\Users\\marti\\OneDrive - TU Eindhoven\\Documenten\\Master\\Q3\\Capita Selecta\\Project\\CapitaSelectaCode\\model.py:99\u001b[0m, in \u001b[0;36mModel.register_and_segment\u001b[1;34m(self, valid_i)\u001b[0m\n\u001b[0;32m     95\u001b[0m path_moving_mask \u001b[39m=\u001b[39m os\u001b[39m.\u001b[39mpath\u001b[39m.\u001b[39mjoin(\u001b[39mself\u001b[39m\u001b[39m.\u001b[39mconfig\u001b[39m.\u001b[39mfullpaths_preprocessed[train_i], \u001b[39m\"\u001b[39m\u001b[39mprostaat.mhd\u001b[39m\u001b[39m\"\u001b[39m)\n\u001b[0;32m     97\u001b[0m output_dir \u001b[39m=\u001b[39m os\u001b[39m.\u001b[39mpath\u001b[39m.\u001b[39mjoin(\u001b[39mself\u001b[39m\u001b[39m.\u001b[39mconfig\u001b[39m.\u001b[39mfolder_results, \u001b[39mself\u001b[39m\u001b[39m.\u001b[39mconfig\u001b[39m.\u001b[39mnow, \u001b[39mself\u001b[39m\u001b[39m.\u001b[39mconfig\u001b[39m.\u001b[39mpatients[valid_i], \u001b[39mself\u001b[39m\u001b[39m.\u001b[39mconfig\u001b[39m.\u001b[39mpatients[train_i])\n\u001b[1;32m---> 99\u001b[0m \u001b[39mself\u001b[39;49m\u001b[39m.\u001b[39;49mel\u001b[39m.\u001b[39;49mregister(\n\u001b[0;32m    100\u001b[0m     fixed_image\u001b[39m=\u001b[39;49mpath_fixed,\n\u001b[0;32m    101\u001b[0m     moving_image\u001b[39m=\u001b[39;49mpath_moving,\n\u001b[0;32m    102\u001b[0m     parameters\u001b[39m=\u001b[39;49mparameters,\n\u001b[0;32m    103\u001b[0m     output_dir\u001b[39m=\u001b[39;49moutput_dir,\n\u001b[0;32m    104\u001b[0m )\n\u001b[0;32m    106\u001b[0m \u001b[39m# depending on if we do 2 or 3 transformations subsequently, the name of the transformation files\u001b[39;00m\n\u001b[0;32m    107\u001b[0m \u001b[39m# should be TransformParameters.1.txt and TransformParameters.2.txt respectively\u001b[39;00m\n\u001b[0;32m    108\u001b[0m path_transform \u001b[39m=\u001b[39m \u001b[39mstr\u001b[39m\n",
      "File \u001b[1;32mc:\\Users\\marti\\AppData\\Local\\Programs\\Python\\Python310\\lib\\site-packages\\elastix\\elastix_interface.py:131\u001b[0m, in \u001b[0;36mElastixInterface.register\u001b[1;34m(self, parameters, fixed_image, moving_image, fixed_mask, moving_mask, fixed_points, moving_points, initial_transform, output_dir, verbose)\u001b[0m\n\u001b[0;32m    123\u001b[0m \u001b[39mself\u001b[39m\u001b[39m.\u001b[39moutput_dir \u001b[39m=\u001b[39m output_dir\n\u001b[0;32m    125\u001b[0m cmd \u001b[39m=\u001b[39m \u001b[39mself\u001b[39m\u001b[39m.\u001b[39m_command(output_dir,\n\u001b[0;32m    126\u001b[0m                     parameters,\n\u001b[0;32m    127\u001b[0m                     fixed_image, moving_image,\n\u001b[0;32m    128\u001b[0m                     fixed_points, moving_points,\n\u001b[0;32m    129\u001b[0m                     fixed_mask, moving_mask,\n\u001b[0;32m    130\u001b[0m                     initial_transform)\n\u001b[1;32m--> 131\u001b[0m \u001b[39mself\u001b[39;49m\u001b[39m.\u001b[39;49m_execute(cmd, verbose)\n",
      "File \u001b[1;32mc:\\Users\\marti\\AppData\\Local\\Programs\\Python\\Python310\\lib\\site-packages\\elastix\\elastix_interface.py:102\u001b[0m, in \u001b[0;36mElastixInterface._execute\u001b[1;34m(self, command, verbose)\u001b[0m\n\u001b[0;32m    100\u001b[0m \u001b[39m# Check if succesful\u001b[39;00m\n\u001b[0;32m    101\u001b[0m \u001b[39mif\u001b[39;00m proc\u001b[39m.\u001b[39mreturncode \u001b[39m!=\u001b[39m \u001b[39m0\u001b[39m:\n\u001b[1;32m--> 102\u001b[0m     \u001b[39mraise\u001b[39;00m ElastixError(proc\u001b[39m.\u001b[39mreturncode, \u001b[39m'\u001b[39m\u001b[39m \u001b[39m\u001b[39m'\u001b[39m\u001b[39m.\u001b[39mjoin(command))\n\u001b[0;32m    103\u001b[0m logger\u001b[39m.\u001b[39minfo(\u001b[39m'\u001b[39m\u001b[39mFinished command \u001b[39m\u001b[39m'\u001b[39m \u001b[39m+\u001b[39m \u001b[39m'\u001b[39m\u001b[39m \u001b[39m\u001b[39m'\u001b[39m\u001b[39m.\u001b[39mjoin(command))\n",
      "\u001b[1;31mElastixError\u001b[0m: Elastix crashed with code 1 for command '../../elastix/elastix.exe -f ../../Project/DataPreProcessed\\p107\\mr_bffe.mhd -m ../../Project/DataPreProcessed\\p125\\mr_bffe.mhd -p ../../Project/parameters\\Par0001translation.txt -p ../../Project/parameters\\Par0001affine.txt -p ../../Project/parameters\\Par0001bspline16.txt -out ../../Project/results\\23-03-03_16-00-03\\p107\\p125'."
     ]
    }
   ],
   "source": [
    "model.run_registration()"
   ]
  },
  {
   "cell_type": "code",
   "execution_count": null,
   "metadata": {},
   "outputs": [
    {
     "name": "stdout",
     "output_type": "stream",
     "text": [
      "Running for parameters BSpline.txt\n"
     ]
    },
    {
     "data": {
      "application/vnd.jupyter.widget-view+json": {
       "model_id": "ae4a21231dd8480e8070d6a3399a4c0f",
       "version_major": 2,
       "version_minor": 0
      },
      "text/plain": [
       "  0%|          | 0/3 [00:00<?, ?it/s]"
      ]
     },
     "metadata": {},
     "output_type": "display_data"
    }
   ],
   "source": [
    "model.threshold_staple = 0.95\n",
    "model.run_staple()"
   ]
  },
  {
   "cell_type": "code",
   "execution_count": null,
   "metadata": {},
   "outputs": [
    {
     "data": {
      "text/plain": [
       "[[0.6653657401941012, 0.5464058137942353, 0.7694382923219628]]"
      ]
     },
     "execution_count": 9,
     "metadata": {},
     "output_type": "execute_result"
    }
   ],
   "source": [
    "model.scores"
   ]
  },
  {
   "cell_type": "code",
   "execution_count": null,
   "metadata": {},
   "outputs": [
    {
     "data": {
      "text/plain": [
       "0.7432233910951942"
      ]
     },
     "execution_count": 67,
     "metadata": {},
     "output_type": "execute_result"
    }
   ],
   "source": [
    "dice_score(model.segmentations[0][0]>0.99999999999, model.ground_truths[0], eps=1e-5)"
   ]
  },
  {
   "cell_type": "code",
   "execution_count": null,
   "metadata": {},
   "outputs": [],
   "source": [
    "im = sitk.GetArrayFromImage(sitk.ReadImage(FOLDER_PREPROCESSED + \"/p108/mr_bffe.mhd\"))\n",
    "mask = sitk.GetArrayFromImage(sitk.ReadImage(FOLDER_PREPROCESSED + \"/p108/prostaat.mhd\"))\n",
    "\n",
    "registered = sitk.GetArrayFromImage(sitk.ReadImage(FOLDER_RESULTS + \"/BSpline/p108_as_fixed/p102_as_moving/result.0.mhd\"))\n",
    "transformed = sitk.GetArrayFromImage(sitk.ReadImage(FOLDER_RESULTS + \"/BSpline/p108_as_fixed/p102_as_moving/result.mhd\"))"
   ]
  },
  {
   "cell_type": "code",
   "execution_count": null,
   "metadata": {},
   "outputs": [],
   "source": [
    "view = lambda x, ax : ScrollView(x).plot(ax, vmin=x.min(), vmax=x.max())"
   ]
  },
  {
   "cell_type": "code",
   "execution_count": null,
   "metadata": {},
   "outputs": [],
   "source": [
    "a = sitk.GetArrayFromImage(res[0]) > 0.95\n",
    "fig, ax = plt.subplots(1,1)\n",
    "view(a, ax)"
   ]
  }
 ],
 "metadata": {
  "kernelspec": {
   "display_name": "Python 3",
   "language": "python",
   "name": "python3"
  },
  "language_info": {
   "codemirror_mode": {
    "name": "ipython",
    "version": 3
   },
   "file_extension": ".py",
   "mimetype": "text/x-python",
   "name": "python",
   "nbconvert_exporter": "python",
   "pygments_lexer": "ipython3",
   "version": "3.10.8"
  },
  "orig_nbformat": 4,
  "vscode": {
   "interpreter": {
    "hash": "e7ccb2a435b656723dafd2fb88eb02b6891256ab8b77d2cf3044cea9811453d0"
   }
  }
 },
 "nbformat": 4,
 "nbformat_minor": 2
}
