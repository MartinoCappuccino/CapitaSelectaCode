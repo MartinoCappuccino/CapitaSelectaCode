{
 "cells": [
  {
   "cell_type": "code",
   "execution_count": 5,
   "id": "7b65b148",
   "metadata": {},
   "outputs": [],
   "source": [
    "# -*- coding: utf-8 -*-\n",
    "\"\"\"\n",
    "Created on Wed Mar 29 11:04:41 2023\n",
    "@author: 20192757\n",
    "\"\"\"\n",
    "import random\n",
    "from pathlib import Path\n",
    "\n",
    "import numpy as np\n",
    "import torch\n",
    "import matplotlib.pyplot as plt\n",
    "from torch.utils.data import DataLoader\n",
    "from scipy.spatial.distance import directed_hausdorff\n",
    "from tqdm.auto import tqdm\n",
    "import SimpleITK as sitk\n",
    "\n",
    "import u_net\n",
    "import utils\n",
    "\n",
    "def dice_score(x, y, eps=1e-5):\n",
    "    return (2*(x*y).sum()+eps) / ((x+y).sum()+eps)"
   ]
  },
  {
   "cell_type": "markdown",
   "id": "1f61f588",
   "metadata": {},
   "source": [
    "Make changes in DATA_DIR for path to test data, numbers for patient numbers in test data, and CHECKPOINTS_DIR for path to model. Also number_fake has to be the model with the best result previously."
   ]
  },
  {
   "cell_type": "code",
   "execution_count": 6,
   "id": "665c8462",
   "metadata": {},
   "outputs": [],
   "source": [
    "device = \"cuda\" if torch.cuda.is_available() else \"cpu\"\n",
    "# to ensure reproducible training/validation split\n",
    "random.seed(42)\n",
    "\n",
    "# directorys with data and to stored training checkpoints\n",
    "DATA_DIR = Path.cwd() / \"TrainingData\" / \"TrainingData\" \n",
    "\n",
    "# number of fake images with best performance\n",
    "number_fake = 12\n",
    "\n",
    "# path to model with best performance \n",
    "CHECKPOINTS_DIR = Path.cwd()/\"final_results\"/\"final_results_old_unet\"/\"60_epochs_{x}_number_of_fake\".format(x=number_fake)/\"model.pth\"\n",
    "\n",
    "# patient numbers of test data\n",
    "numbers = ['p107','p117','p120','p133','p116'] \n"
   ]
  },
  {
   "cell_type": "code",
   "execution_count": 7,
   "id": "6e787501",
   "metadata": {},
   "outputs": [
    {
     "name": "stderr",
     "output_type": "stream",
     "text": [
      "100%|██████████| 86/86 [00:01<00:00, 48.90it/s]\n",
      "100%|██████████| 86/86 [00:01<00:00, 48.94it/s]\n",
      "100%|██████████| 86/86 [00:01<00:00, 48.29it/s]\n",
      "100%|██████████| 86/86 [00:01<00:00, 48.52it/s]\n",
      "100%|██████████| 86/86 [00:01<00:00, 45.59it/s]\n"
     ]
    }
   ],
   "source": [
    "# hyperparameters\n",
    "NO_VALIDATION_PATIENTS = 5\n",
    "IMAGE_SIZE = [64, 64]\n",
    "\n",
    "# find patient folders in training directory\n",
    "# excluding hidden folders (start with .)\n",
    "patients = [\n",
    "    path\n",
    "    for path in DATA_DIR.glob(\"*\")\n",
    "    if not any(part.startswith(\".\") for part in path.parts)\n",
    "]\n",
    "\n",
    "pat = []\n",
    "\n",
    "for i in numbers: \n",
    "    #i is the patient number as string, so 'p107'\n",
    "    locals()[ i ] = [] \n",
    "    #makes lists of patient numbers individually, so p107 = []\n",
    "\n",
    "    for j in patients: \n",
    "        #loop over the paths \n",
    "        if i in str(j): \n",
    "            #when the patient number as a string is in the path, it is added to the list of that patient number\n",
    "            locals()[i].append(j)\n",
    "            pat.append(locals()[i])\n",
    "\n",
    "\n",
    "# load validation data\n",
    "for i in range(len(pat)): \n",
    "    valid_dataset = utils.ProstateMRDataset(pat[i], IMAGE_SIZE)\n",
    "    valid_dataloader = DataLoader(valid_dataset, batch_size=1)\n",
    "\n",
    "    unet_model = u_net.UNet(num_classes=1).to(device)\n",
    "    unet_model.load_state_dict(torch.load(CHECKPOINTS_DIR, map_location=device))\n",
    "    unet_model.eval()\n",
    "\n",
    "    slices = [] \n",
    "    with torch.no_grad():\n",
    "        for image, target in tqdm(valid_dataloader):\n",
    "            image = image.to(device)\n",
    "            target = target[:,0:1].to(device)\n",
    "\n",
    "            output = torch.sigmoid(unet_model(image))\n",
    "\n",
    "            prediction = torch.round(output)\n",
    "            \n",
    "            slices.append(prediction.numpy())\n",
    "    threedim = sitk.GetImageFromArray(slices)\n",
    "    writer = sitk.ImageFileWriter()\n",
    "    writer.SetFileName(\"MachineLearning_{x}.mhd\".format(x=numbers[i]))\n",
    "    writer.Execute(threedim)\n",
    "\n"
   ]
  },
  {
   "cell_type": "code",
   "execution_count": 8,
   "id": "d89bb83e",
   "metadata": {},
   "outputs": [
    {
     "name": "stdout",
     "output_type": "stream",
     "text": [
      "(86, 1, 1, 64, 64)\n"
     ]
    }
   ],
   "source": [
    "# Load image and segmentation of atlas patient / patients\n",
    "#atlas_im_path = os.path.join(atlas_path, 'mr_bffe.mhd')\n",
    "itk_image102 = sitk.ReadImage(\"MachineLearning_p107.mhd\")\n",
    "image_array102 = sitk.GetArrayViewFromImage(itk_image102)\n",
    "# Print the image dimensions\n",
    "print(image_array102.shape)"
   ]
  },
  {
   "cell_type": "code",
   "execution_count": 9,
   "id": "71dd93ad",
   "metadata": {},
   "outputs": [],
   "source": [
    "matplotlib qt "
   ]
  },
  {
   "cell_type": "code",
   "execution_count": 10,
   "id": "cbaf810b",
   "metadata": {},
   "outputs": [
    {
     "name": "stdout",
     "output_type": "stream",
     "text": [
      "up 1.0\n",
      "up 1.0\n",
      "up 1.0\n",
      "up 1.0\n",
      "up 1.0\n",
      "up 1.0\n",
      "up 2.0\n",
      "up 2.0\n",
      "up 1.0\n",
      "up 1.0\n",
      "up 4.0\n",
      "up 1.0\n",
      "up 1.0\n",
      "up 3.0\n",
      "up 1.0\n",
      "up 1.0\n",
      "up 1.0\n",
      "up 2.0\n",
      "up 2.0\n",
      "up 1.0\n",
      "up 1.0\n",
      "up 2.0\n",
      "up 1.0\n",
      "up 1.0\n",
      "up 1.0\n",
      "up 1.0\n",
      "up 2.0\n",
      "up 2.0\n",
      "up 1.0\n",
      "up 2.0\n",
      "up 2.0\n",
      "up 1.0\n",
      "up 1.0\n",
      "up 2.0\n",
      "up 1.0\n",
      "up 1.0\n",
      "up 1.0\n",
      "up 3.0\n",
      "up 1.0\n",
      "up 1.0\n",
      "up 1.0\n",
      "up 2.0\n",
      "up 1.0\n",
      "up 1.0\n",
      "up 1.0\n",
      "up 1.0\n",
      "up 1.0\n",
      "up 1.0\n",
      "up 1.0\n",
      "up 1.0\n",
      "up 1.0\n",
      "up 1.0\n",
      "up 1.0\n",
      "up 1.0\n",
      "up 1.0\n",
      "up 1.0\n",
      "up 1.0\n",
      "up 1.0\n",
      "up 1.0\n",
      "up 1.0\n",
      "up 1.0\n",
      "up 1.0\n",
      "up 1.0\n",
      "up 1.0\n",
      "up 1.0\n",
      "up 1.0\n",
      "up 1.0\n",
      "up 1.0\n",
      "up 1.0\n",
      "up 1.0\n",
      "up 1.0\n",
      "up 1.0\n",
      "up 1.0\n",
      "up 1.0\n",
      "up 1.0\n",
      "up 1.0\n",
      "up 1.0\n",
      "up 1.0\n",
      "up 1.0\n",
      "up 1.0\n",
      "up 1.0\n",
      "up 1.0\n",
      "up 1.0\n",
      "up 1.0\n",
      "down -1.0\n",
      "up 1.0\n",
      "up 1.0\n",
      "up 1.0\n",
      "up 1.0\n",
      "up 1.0\n",
      "up 3.0\n",
      "up 2.0\n",
      "up 1.0\n",
      "up 1.0\n",
      "up 3.0\n",
      "up 2.0\n"
     ]
    }
   ],
   "source": [
    "from IndexTracker import IndexTracker\n",
    "fig, ax = plt.subplots(1, 2)\n",
    "tracker1 = IndexTracker(ax[0], image_array102[:,0,0,:,:]);\n",
    "fig.canvas.mpl_connect('scroll_event', tracker1.onscroll);\n",
    "\n",
    "plt.show()"
   ]
  },
  {
   "cell_type": "code",
   "execution_count": 10,
   "id": "13faca3e",
   "metadata": {},
   "outputs": [
    {
     "data": {
      "text/plain": [
       "[WindowsPath('C:/Users/20192757/Documents/Year 4 (Master)/Q3/Capita selecta MIA/TrainingData/TrainingData/p102'),\n",
       " WindowsPath('C:/Users/20192757/Documents/Year 4 (Master)/Q3/Capita selecta MIA/TrainingData/TrainingData/p107'),\n",
       " WindowsPath('C:/Users/20192757/Documents/Year 4 (Master)/Q3/Capita selecta MIA/TrainingData/TrainingData/p108'),\n",
       " WindowsPath('C:/Users/20192757/Documents/Year 4 (Master)/Q3/Capita selecta MIA/TrainingData/TrainingData/p109'),\n",
       " WindowsPath('C:/Users/20192757/Documents/Year 4 (Master)/Q3/Capita selecta MIA/TrainingData/TrainingData/p115'),\n",
       " WindowsPath('C:/Users/20192757/Documents/Year 4 (Master)/Q3/Capita selecta MIA/TrainingData/TrainingData/p116'),\n",
       " WindowsPath('C:/Users/20192757/Documents/Year 4 (Master)/Q3/Capita selecta MIA/TrainingData/TrainingData/p117'),\n",
       " WindowsPath('C:/Users/20192757/Documents/Year 4 (Master)/Q3/Capita selecta MIA/TrainingData/TrainingData/p119'),\n",
       " WindowsPath('C:/Users/20192757/Documents/Year 4 (Master)/Q3/Capita selecta MIA/TrainingData/TrainingData/p120'),\n",
       " WindowsPath('C:/Users/20192757/Documents/Year 4 (Master)/Q3/Capita selecta MIA/TrainingData/TrainingData/p125'),\n",
       " WindowsPath('C:/Users/20192757/Documents/Year 4 (Master)/Q3/Capita selecta MIA/TrainingData/TrainingData/p127'),\n",
       " WindowsPath('C:/Users/20192757/Documents/Year 4 (Master)/Q3/Capita selecta MIA/TrainingData/TrainingData/p128'),\n",
       " WindowsPath('C:/Users/20192757/Documents/Year 4 (Master)/Q3/Capita selecta MIA/TrainingData/TrainingData/p129'),\n",
       " WindowsPath('C:/Users/20192757/Documents/Year 4 (Master)/Q3/Capita selecta MIA/TrainingData/TrainingData/p133'),\n",
       " WindowsPath('C:/Users/20192757/Documents/Year 4 (Master)/Q3/Capita selecta MIA/TrainingData/TrainingData/p135')]"
      ]
     },
     "execution_count": 10,
     "metadata": {},
     "output_type": "execute_result"
    }
   ],
   "source": [
    "patients"
   ]
  },
  {
   "cell_type": "markdown",
   "id": "9d729de6",
   "metadata": {},
   "source": [
    "Just for a test"
   ]
  },
  {
   "cell_type": "code",
   "execution_count": null,
   "id": "136ee3dd",
   "metadata": {},
   "outputs": [],
   "source": []
  },
  {
   "cell_type": "code",
   "execution_count": null,
   "id": "882546d5",
   "metadata": {},
   "outputs": [],
   "source": []
  },
  {
   "cell_type": "code",
   "execution_count": null,
   "id": "2eeddf2e",
   "metadata": {},
   "outputs": [],
   "source": [
    "# for i in patientsNumbers: \n",
    "#     locals()[ i ] = []\n",
    "\n",
    "# for i in patients:\n",
    "#     if 'p107' in str(i):\n",
    "#         p107.append(i)\n",
    "#         pat.append(p107)\n",
    "#     elif 'p117' in str(i): \n",
    "#         p117.append(i)\n",
    "#         pat.append(p117)\n",
    "#     elif 'p120' in str(i):\n",
    "#         p120.append(i)\n",
    "#         pat.append(p120)\n",
    "#     elif 'p133' in str(i):\n",
    "#         p133.append(i)\n",
    "#         pat.append(p133)\n",
    "#     elif 'p116' in str(i): \n",
    "#         p116.append(i)\n",
    "#         pat.append(p116)"
   ]
  }
 ],
 "metadata": {
  "kernelspec": {
   "display_name": "Python 3 (ipykernel)",
   "language": "python",
   "name": "python3"
  },
  "language_info": {
   "codemirror_mode": {
    "name": "ipython",
    "version": 3
   },
   "file_extension": ".py",
   "mimetype": "text/x-python",
   "name": "python",
   "nbconvert_exporter": "python",
   "pygments_lexer": "ipython3",
   "version": "3.10.9"
  }
 },
 "nbformat": 4,
 "nbformat_minor": 5
}
