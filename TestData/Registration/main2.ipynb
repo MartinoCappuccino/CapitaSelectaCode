{
 "cells": [
  {
   "cell_type": "code",
   "execution_count": 1,
   "metadata": {},
   "outputs": [],
   "source": [
    "import matplotlib.pyplot as plt \n",
    "import SimpleITK as sitk \n",
    "import os\n",
    "from misc import Config\n",
    "from model import *\n",
    "%matplotlib qt\n",
    "os.pathsep = \"/\""
   ]
  },
  {
   "cell_type": "code",
   "execution_count": 2,
   "metadata": {},
   "outputs": [],
   "source": [
    "ELASTIX_PATH = os.path.join('C:\\\\Users\\\\20192757\\\\Documents\\\\Year 4 (Master)\\\\Q3\\\\Capita selecta MIA\\\\elastix-5.0.0-win64\\\\elastix.exe')\n",
    "TRANSFORMIX_PATH = os.path.join('C:\\\\Users\\\\20192757\\\\Documents\\\\Year 4 (Master)\\\\Q3\\\\Capita selecta MIA\\\\elastix-5.0.0-win64\\\\transformix.exe')\n",
    "FOLDER_RAW = os.path.join('C:\\\\Users\\\\20192757\\\\Documents\\\\Year 4 (Master)\\\\Q3\\\\Capita selecta MIA\\\\TrainingData\\\\TrainingData')\n",
    "FOLDER_PREPROCESSED = os.path.join('C:\\\\Users\\\\20192757\\\\Documents\\\\Year 4 (Master)\\\\Q3\\\\Capita selecta MIA\\\\LatestCodeRegistration\\\\CapitaSelectaCode-main\\\\Registration\\\\DataPreProcessed')\n",
    "FOLDER_PARAMETERS = os.path.join('C:\\\\Users\\\\20192757\\\\Documents\\\\Year 4 (Master)\\\\Q3\\\\Capita selecta MIA\\\\LatestCodeRegistration\\\\CapitaSelectaCode-main\\\\Registration\\\\parameters')\n",
    "FOLDER_RESULTS = os.path.join('C:\\\\Users\\\\20192757\\\\Documents\\\\Year 4 (Master)\\\\Q3\\\\Capita selecta MIA\\\\LatestCodeRegistration\\\\CapitaSelectaCode-main\\\\Registration\\\\results')"
   ]
  },
  {
   "cell_type": "code",
   "execution_count": 3,
   "metadata": {},
   "outputs": [
    {
     "ename": "TypeError",
     "evalue": "list indices must be integers or slices, not str",
     "output_type": "error",
     "traceback": [
      "\u001b[1;31m---------------------------------------------------------------------------\u001b[0m",
      "\u001b[1;31mTypeError\u001b[0m                                 Traceback (most recent call last)",
      "\u001b[1;32m~\\AppData\\Local\\Temp\\ipykernel_15408\\3218345569.py\u001b[0m in \u001b[0;36m<module>\u001b[1;34m\u001b[0m\n\u001b[1;32m----> 1\u001b[1;33m config = Config(\n\u001b[0m\u001b[0;32m      2\u001b[0m     \u001b[0mfolder_raw\u001b[0m \u001b[1;33m=\u001b[0m \u001b[0mFOLDER_RAW\u001b[0m\u001b[1;33m,\u001b[0m\u001b[1;33m\u001b[0m\u001b[1;33m\u001b[0m\u001b[0m\n\u001b[0;32m      3\u001b[0m     \u001b[0mfolder_preprocessed\u001b[0m \u001b[1;33m=\u001b[0m \u001b[0mFOLDER_PREPROCESSED\u001b[0m\u001b[1;33m,\u001b[0m\u001b[1;33m\u001b[0m\u001b[1;33m\u001b[0m\u001b[0m\n\u001b[0;32m      4\u001b[0m     \u001b[0mparameter_folder\u001b[0m \u001b[1;33m=\u001b[0m \u001b[0mFOLDER_PARAMETERS\u001b[0m\u001b[1;33m,\u001b[0m\u001b[1;33m\u001b[0m\u001b[1;33m\u001b[0m\u001b[0m\n\u001b[0;32m      5\u001b[0m     \u001b[0mparameters\u001b[0m \u001b[1;33m=\u001b[0m \u001b[1;33m[\u001b[0m\u001b[1;34m\"Par0001translation.txt\"\u001b[0m\u001b[1;33m,\u001b[0m \u001b[1;34m\"Par0001affine.txt\"\u001b[0m\u001b[1;33m,\u001b[0m \u001b[1;34m\"Par0001bspline04.txt\"\u001b[0m\u001b[1;33m]\u001b[0m\u001b[1;33m,\u001b[0m\u001b[1;33m\u001b[0m\u001b[1;33m\u001b[0m\u001b[0m\n",
      "\u001b[1;32m~\\Documents\\Year 4 (Master)\\Q3\\Capita selecta MIA\\LatestCodeRegistration\\CapitaSelectaCode-main\\Registration\\misc.py\u001b[0m in \u001b[0;36m__init__\u001b[1;34m(self, folder_raw, folder_preprocessed, parameter_folder, parameters, folder_results, seed, train_size, train_indx, valid_indx)\u001b[0m\n\u001b[0;32m     59\u001b[0m                 \u001b[0mos\u001b[0m\u001b[1;33m.\u001b[0m\u001b[0mmkdir\u001b[0m\u001b[1;33m(\u001b[0m\u001b[0mos\u001b[0m\u001b[1;33m.\u001b[0m\u001b[0mpath\u001b[0m\u001b[1;33m.\u001b[0m\u001b[0mjoin\u001b[0m\u001b[1;33m(\u001b[0m\u001b[0mself\u001b[0m\u001b[1;33m.\u001b[0m\u001b[0mfolder_results\u001b[0m\u001b[1;33m,\u001b[0m \u001b[0mself\u001b[0m\u001b[1;33m.\u001b[0m\u001b[0mnow\u001b[0m\u001b[1;33m)\u001b[0m\u001b[1;33m)\u001b[0m\u001b[1;33m\u001b[0m\u001b[1;33m\u001b[0m\u001b[0m\n\u001b[0;32m     60\u001b[0m             \u001b[1;32mfor\u001b[0m \u001b[0mvalid_i\u001b[0m \u001b[1;32min\u001b[0m \u001b[0mself\u001b[0m\u001b[1;33m.\u001b[0m\u001b[0mvalid_indx\u001b[0m\u001b[1;33m:\u001b[0m\u001b[1;33m\u001b[0m\u001b[1;33m\u001b[0m\u001b[0m\n\u001b[1;32m---> 61\u001b[1;33m                 \u001b[1;32mif\u001b[0m \u001b[1;32mnot\u001b[0m \u001b[0mos\u001b[0m\u001b[1;33m.\u001b[0m\u001b[0mpath\u001b[0m\u001b[1;33m.\u001b[0m\u001b[0mexists\u001b[0m\u001b[1;33m(\u001b[0m\u001b[0mos\u001b[0m\u001b[1;33m.\u001b[0m\u001b[0mpath\u001b[0m\u001b[1;33m.\u001b[0m\u001b[0mjoin\u001b[0m\u001b[1;33m(\u001b[0m\u001b[0mfolder_results\u001b[0m\u001b[1;33m,\u001b[0m \u001b[0mself\u001b[0m\u001b[1;33m.\u001b[0m\u001b[0mnow\u001b[0m\u001b[1;33m,\u001b[0m \u001b[0mself\u001b[0m\u001b[1;33m.\u001b[0m\u001b[0mpatients\u001b[0m\u001b[1;33m[\u001b[0m\u001b[0mvalid_i\u001b[0m\u001b[1;33m]\u001b[0m\u001b[1;33m)\u001b[0m\u001b[1;33m)\u001b[0m\u001b[1;33m:\u001b[0m\u001b[1;33m\u001b[0m\u001b[1;33m\u001b[0m\u001b[0m\n\u001b[0m\u001b[0;32m     62\u001b[0m                     \u001b[0mos\u001b[0m\u001b[1;33m.\u001b[0m\u001b[0mmkdir\u001b[0m\u001b[1;33m(\u001b[0m\u001b[0mos\u001b[0m\u001b[1;33m.\u001b[0m\u001b[0mpath\u001b[0m\u001b[1;33m.\u001b[0m\u001b[0mjoin\u001b[0m\u001b[1;33m(\u001b[0m\u001b[0mself\u001b[0m\u001b[1;33m.\u001b[0m\u001b[0mfolder_results\u001b[0m\u001b[1;33m,\u001b[0m \u001b[0mself\u001b[0m\u001b[1;33m.\u001b[0m\u001b[0mnow\u001b[0m\u001b[1;33m,\u001b[0m \u001b[0mself\u001b[0m\u001b[1;33m.\u001b[0m\u001b[0mpatients\u001b[0m\u001b[1;33m[\u001b[0m\u001b[0mvalid_i\u001b[0m\u001b[1;33m]\u001b[0m\u001b[1;33m)\u001b[0m\u001b[1;33m)\u001b[0m\u001b[1;33m\u001b[0m\u001b[1;33m\u001b[0m\u001b[0m\n\u001b[0;32m     63\u001b[0m                 \u001b[1;32mfor\u001b[0m \u001b[0mtrain_i\u001b[0m \u001b[1;32min\u001b[0m \u001b[0mself\u001b[0m\u001b[1;33m.\u001b[0m\u001b[0mtrain_indx\u001b[0m\u001b[1;33m:\u001b[0m\u001b[1;33m\u001b[0m\u001b[1;33m\u001b[0m\u001b[0m\n",
      "\u001b[1;31mTypeError\u001b[0m: list indices must be integers or slices, not str"
     ]
    }
   ],
   "source": [
    "config = Config(\n",
    "    folder_raw = FOLDER_RAW, \n",
    "    folder_preprocessed = FOLDER_PREPROCESSED,\n",
    "    parameter_folder = FOLDER_PARAMETERS,\n",
    "    parameters = [\"Par0001translation.txt\", \"Par0001affine.txt\", \"Par0001bspline04.txt\"],\n",
    "    folder_results = FOLDER_RESULTS,\n",
    "    seed = 0,\n",
    "    train_size = 12,\n",
    "    valid_indx = ['p135','p128','p116'],\n",
    "    train_indx = ['p102','p108','p109','p115','p107','p117','p120','p119','p125','p127','p129','p133']\n",
    ")"
   ]
  },
  {
   "cell_type": "code",
   "execution_count": 22,
   "metadata": {},
   "outputs": [],
   "source": [
    "model = Model(\n",
    "    config = config,\n",
    "    elastix_path = ELASTIX_PATH,\n",
    "    transformix_path = TRANSFORMIX_PATH,\n",
    ")"
   ]
  },
  {
   "cell_type": "code",
   "execution_count": 23,
   "metadata": {},
   "outputs": [
    {
     "name": "stderr",
     "output_type": "stream",
     "text": [
      "Loading Data: 100%|██████████| 15/15 [00:02<00:00,  7.43it/s]\n"
     ]
    }
   ],
   "source": [
    "model.load()"
   ]
  },
  {
   "cell_type": "code",
   "execution_count": 24,
   "metadata": {},
   "outputs": [
    {
     "name": "stderr",
     "output_type": "stream",
     "text": [
      "Saving Preprocessed Data: 100%|██████████| 15/15 [00:01<00:00,  9.69it/s]\n"
     ]
    }
   ],
   "source": [
    "model.preprocess_and_save(downscale_factor=1, normalize=\"none\")"
   ]
  },
  {
   "cell_type": "code",
   "execution_count": null,
   "metadata": {},
   "outputs": [
    {
     "name": "stdout",
     "output_type": "stream",
     "text": [
      "Running with parameters ['Par0001translation.txt', 'Par0001affine.txt', 'Par0001bspline04.txt']\n"
     ]
    },
    {
     "name": "stderr",
     "output_type": "stream",
     "text": [
      "\r",
      "  0%|          | 0/3 [00:00<?, ?it/s]"
     ]
    },
    {
     "name": "stdout",
     "output_type": "stream",
     "text": [
      "C:\\Users\\20192757\\Documents\\Year 4 (Master)\\Q3\\Capita selecta MIA\\elastix-5.0.0-win64\\elastix.exe -f C:\\Users\\20192757\\Documents\\Year 4 (Master)\\Q3\\Capita selecta MIA\\LatestCodeRegistration\\CapitaSelectaCode-main\\Registration\\DataPreProcessed\\p107\\mr_bffe.mhd -m C:\\Users\\20192757\\Documents\\Year 4 (Master)\\Q3\\Capita selecta MIA\\LatestCodeRegistration\\CapitaSelectaCode-main\\Registration\\DataPreProcessed\\p125\\mr_bffe.mhd -p C:\\Users\\20192757\\Documents\\Year 4 (Master)\\Q3\\Capita selecta MIA\\LatestCodeRegistration\\CapitaSelectaCode-main\\Registration\\parameters\\Par0001translation.txt -p C:\\Users\\20192757\\Documents\\Year 4 (Master)\\Q3\\Capita selecta MIA\\LatestCodeRegistration\\CapitaSelectaCode-main\\Registration\\parameters\\Par0001affine.txt -p C:\\Users\\20192757\\Documents\\Year 4 (Master)\\Q3\\Capita selecta MIA\\LatestCodeRegistration\\CapitaSelectaCode-main\\Registration\\parameters\\Par0001bspline04.txt -out C:\\Users\\20192757\\Documents\\Year 4 (Master)\\Q3\\Capita selecta MIA\\LatestCodeRegistration\\CapitaSelectaCode-main\\Registration\\results\\23-04-02_11-53-42\\p107\\p125\n",
      "C:\\Users\\20192757\\Documents\\Year 4 (Master)\\Q3\\Capita selecta MIA\\elastix-5.0.0-win64\\elastix.exe -f C:\\Users\\20192757\\Documents\\Year 4 (Master)\\Q3\\Capita selecta MIA\\LatestCodeRegistration\\CapitaSelectaCode-main\\Registration\\DataPreProcessed\\p107\\mr_bffe.mhd -m C:\\Users\\20192757\\Documents\\Year 4 (Master)\\Q3\\Capita selecta MIA\\LatestCodeRegistration\\CapitaSelectaCode-main\\Registration\\DataPreProcessed\\p135\\mr_bffe.mhd -p C:\\Users\\20192757\\Documents\\Year 4 (Master)\\Q3\\Capita selecta MIA\\LatestCodeRegistration\\CapitaSelectaCode-main\\Registration\\parameters\\Par0001translation.txt -p C:\\Users\\20192757\\Documents\\Year 4 (Master)\\Q3\\Capita selecta MIA\\LatestCodeRegistration\\CapitaSelectaCode-main\\Registration\\parameters\\Par0001affine.txt -p C:\\Users\\20192757\\Documents\\Year 4 (Master)\\Q3\\Capita selecta MIA\\LatestCodeRegistration\\CapitaSelectaCode-main\\Registration\\parameters\\Par0001bspline04.txt -out C:\\Users\\20192757\\Documents\\Year 4 (Master)\\Q3\\Capita selecta MIA\\LatestCodeRegistration\\CapitaSelectaCode-main\\Registration\\results\\23-04-02_11-53-42\\p107\\p135\n",
      "C:\\Users\\20192757\\Documents\\Year 4 (Master)\\Q3\\Capita selecta MIA\\elastix-5.0.0-win64\\elastix.exe -f C:\\Users\\20192757\\Documents\\Year 4 (Master)\\Q3\\Capita selecta MIA\\LatestCodeRegistration\\CapitaSelectaCode-main\\Registration\\DataPreProcessed\\p107\\mr_bffe.mhd -m C:\\Users\\20192757\\Documents\\Year 4 (Master)\\Q3\\Capita selecta MIA\\LatestCodeRegistration\\CapitaSelectaCode-main\\Registration\\DataPreProcessed\\p115\\mr_bffe.mhd -p C:\\Users\\20192757\\Documents\\Year 4 (Master)\\Q3\\Capita selecta MIA\\LatestCodeRegistration\\CapitaSelectaCode-main\\Registration\\parameters\\Par0001translation.txt -p C:\\Users\\20192757\\Documents\\Year 4 (Master)\\Q3\\Capita selecta MIA\\LatestCodeRegistration\\CapitaSelectaCode-main\\Registration\\parameters\\Par0001affine.txt -p C:\\Users\\20192757\\Documents\\Year 4 (Master)\\Q3\\Capita selecta MIA\\LatestCodeRegistration\\CapitaSelectaCode-main\\Registration\\parameters\\Par0001bspline04.txt -out C:\\Users\\20192757\\Documents\\Year 4 (Master)\\Q3\\Capita selecta MIA\\LatestCodeRegistration\\CapitaSelectaCode-main\\Registration\\results\\23-04-02_11-53-42\\p107\\p115\n",
      "C:\\Users\\20192757\\Documents\\Year 4 (Master)\\Q3\\Capita selecta MIA\\elastix-5.0.0-win64\\elastix.exe -f C:\\Users\\20192757\\Documents\\Year 4 (Master)\\Q3\\Capita selecta MIA\\LatestCodeRegistration\\CapitaSelectaCode-main\\Registration\\DataPreProcessed\\p107\\mr_bffe.mhd -m C:\\Users\\20192757\\Documents\\Year 4 (Master)\\Q3\\Capita selecta MIA\\LatestCodeRegistration\\CapitaSelectaCode-main\\Registration\\DataPreProcessed\\p108\\mr_bffe.mhd -p C:\\Users\\20192757\\Documents\\Year 4 (Master)\\Q3\\Capita selecta MIA\\LatestCodeRegistration\\CapitaSelectaCode-main\\Registration\\parameters\\Par0001translation.txt -p C:\\Users\\20192757\\Documents\\Year 4 (Master)\\Q3\\Capita selecta MIA\\LatestCodeRegistration\\CapitaSelectaCode-main\\Registration\\parameters\\Par0001affine.txt -p C:\\Users\\20192757\\Documents\\Year 4 (Master)\\Q3\\Capita selecta MIA\\LatestCodeRegistration\\CapitaSelectaCode-main\\Registration\\parameters\\Par0001bspline04.txt -out C:\\Users\\20192757\\Documents\\Year 4 (Master)\\Q3\\Capita selecta MIA\\LatestCodeRegistration\\CapitaSelectaCode-main\\Registration\\results\\23-04-02_11-53-42\\p107\\p108\n",
      "C:\\Users\\20192757\\Documents\\Year 4 (Master)\\Q3\\Capita selecta MIA\\elastix-5.0.0-win64\\elastix.exe -f C:\\Users\\20192757\\Documents\\Year 4 (Master)\\Q3\\Capita selecta MIA\\LatestCodeRegistration\\CapitaSelectaCode-main\\Registration\\DataPreProcessed\\p107\\mr_bffe.mhd -m C:\\Users\\20192757\\Documents\\Year 4 (Master)\\Q3\\Capita selecta MIA\\LatestCodeRegistration\\CapitaSelectaCode-main\\Registration\\DataPreProcessed\\p133\\mr_bffe.mhd -p C:\\Users\\20192757\\Documents\\Year 4 (Master)\\Q3\\Capita selecta MIA\\LatestCodeRegistration\\CapitaSelectaCode-main\\Registration\\parameters\\Par0001translation.txt -p C:\\Users\\20192757\\Documents\\Year 4 (Master)\\Q3\\Capita selecta MIA\\LatestCodeRegistration\\CapitaSelectaCode-main\\Registration\\parameters\\Par0001affine.txt -p C:\\Users\\20192757\\Documents\\Year 4 (Master)\\Q3\\Capita selecta MIA\\LatestCodeRegistration\\CapitaSelectaCode-main\\Registration\\parameters\\Par0001bspline04.txt -out C:\\Users\\20192757\\Documents\\Year 4 (Master)\\Q3\\Capita selecta MIA\\LatestCodeRegistration\\CapitaSelectaCode-main\\Registration\\results\\23-04-02_11-53-42\\p107\\p133\n",
      "C:\\Users\\20192757\\Documents\\Year 4 (Master)\\Q3\\Capita selecta MIA\\elastix-5.0.0-win64\\elastix.exe -f C:\\Users\\20192757\\Documents\\Year 4 (Master)\\Q3\\Capita selecta MIA\\LatestCodeRegistration\\CapitaSelectaCode-main\\Registration\\DataPreProcessed\\p107\\mr_bffe.mhd -m C:\\Users\\20192757\\Documents\\Year 4 (Master)\\Q3\\Capita selecta MIA\\LatestCodeRegistration\\CapitaSelectaCode-main\\Registration\\DataPreProcessed\\p127\\mr_bffe.mhd -p C:\\Users\\20192757\\Documents\\Year 4 (Master)\\Q3\\Capita selecta MIA\\LatestCodeRegistration\\CapitaSelectaCode-main\\Registration\\parameters\\Par0001translation.txt -p C:\\Users\\20192757\\Documents\\Year 4 (Master)\\Q3\\Capita selecta MIA\\LatestCodeRegistration\\CapitaSelectaCode-main\\Registration\\parameters\\Par0001affine.txt -p C:\\Users\\20192757\\Documents\\Year 4 (Master)\\Q3\\Capita selecta MIA\\LatestCodeRegistration\\CapitaSelectaCode-main\\Registration\\parameters\\Par0001bspline04.txt -out C:\\Users\\20192757\\Documents\\Year 4 (Master)\\Q3\\Capita selecta MIA\\LatestCodeRegistration\\CapitaSelectaCode-main\\Registration\\results\\23-04-02_11-53-42\\p107\\p127\n",
      "C:\\Users\\20192757\\Documents\\Year 4 (Master)\\Q3\\Capita selecta MIA\\elastix-5.0.0-win64\\elastix.exe -f C:\\Users\\20192757\\Documents\\Year 4 (Master)\\Q3\\Capita selecta MIA\\LatestCodeRegistration\\CapitaSelectaCode-main\\Registration\\DataPreProcessed\\p107\\mr_bffe.mhd -m C:\\Users\\20192757\\Documents\\Year 4 (Master)\\Q3\\Capita selecta MIA\\LatestCodeRegistration\\CapitaSelectaCode-main\\Registration\\DataPreProcessed\\p119\\mr_bffe.mhd -p C:\\Users\\20192757\\Documents\\Year 4 (Master)\\Q3\\Capita selecta MIA\\LatestCodeRegistration\\CapitaSelectaCode-main\\Registration\\parameters\\Par0001translation.txt -p C:\\Users\\20192757\\Documents\\Year 4 (Master)\\Q3\\Capita selecta MIA\\LatestCodeRegistration\\CapitaSelectaCode-main\\Registration\\parameters\\Par0001affine.txt -p C:\\Users\\20192757\\Documents\\Year 4 (Master)\\Q3\\Capita selecta MIA\\LatestCodeRegistration\\CapitaSelectaCode-main\\Registration\\parameters\\Par0001bspline04.txt -out C:\\Users\\20192757\\Documents\\Year 4 (Master)\\Q3\\Capita selecta MIA\\LatestCodeRegistration\\CapitaSelectaCode-main\\Registration\\results\\23-04-02_11-53-42\\p107\\p119\n",
      "C:\\Users\\20192757\\Documents\\Year 4 (Master)\\Q3\\Capita selecta MIA\\elastix-5.0.0-win64\\elastix.exe -f C:\\Users\\20192757\\Documents\\Year 4 (Master)\\Q3\\Capita selecta MIA\\LatestCodeRegistration\\CapitaSelectaCode-main\\Registration\\DataPreProcessed\\p107\\mr_bffe.mhd -m C:\\Users\\20192757\\Documents\\Year 4 (Master)\\Q3\\Capita selecta MIA\\LatestCodeRegistration\\CapitaSelectaCode-main\\Registration\\DataPreProcessed\\p128\\mr_bffe.mhd -p C:\\Users\\20192757\\Documents\\Year 4 (Master)\\Q3\\Capita selecta MIA\\LatestCodeRegistration\\CapitaSelectaCode-main\\Registration\\parameters\\Par0001translation.txt -p C:\\Users\\20192757\\Documents\\Year 4 (Master)\\Q3\\Capita selecta MIA\\LatestCodeRegistration\\CapitaSelectaCode-main\\Registration\\parameters\\Par0001affine.txt -p C:\\Users\\20192757\\Documents\\Year 4 (Master)\\Q3\\Capita selecta MIA\\LatestCodeRegistration\\CapitaSelectaCode-main\\Registration\\parameters\\Par0001bspline04.txt -out C:\\Users\\20192757\\Documents\\Year 4 (Master)\\Q3\\Capita selecta MIA\\LatestCodeRegistration\\CapitaSelectaCode-main\\Registration\\results\\23-04-02_11-53-42\\p107\\p128\n"
     ]
    },
    {
     "name": "stdout",
     "output_type": "stream",
     "text": [
      "C:\\Users\\20192757\\Documents\\Year 4 (Master)\\Q3\\Capita selecta MIA\\elastix-5.0.0-win64\\elastix.exe -f C:\\Users\\20192757\\Documents\\Year 4 (Master)\\Q3\\Capita selecta MIA\\LatestCodeRegistration\\CapitaSelectaCode-main\\Registration\\DataPreProcessed\\p107\\mr_bffe.mhd -m C:\\Users\\20192757\\Documents\\Year 4 (Master)\\Q3\\Capita selecta MIA\\LatestCodeRegistration\\CapitaSelectaCode-main\\Registration\\DataPreProcessed\\p109\\mr_bffe.mhd -p C:\\Users\\20192757\\Documents\\Year 4 (Master)\\Q3\\Capita selecta MIA\\LatestCodeRegistration\\CapitaSelectaCode-main\\Registration\\parameters\\Par0001translation.txt -p C:\\Users\\20192757\\Documents\\Year 4 (Master)\\Q3\\Capita selecta MIA\\LatestCodeRegistration\\CapitaSelectaCode-main\\Registration\\parameters\\Par0001affine.txt -p C:\\Users\\20192757\\Documents\\Year 4 (Master)\\Q3\\Capita selecta MIA\\LatestCodeRegistration\\CapitaSelectaCode-main\\Registration\\parameters\\Par0001bspline04.txt -out C:\\Users\\20192757\\Documents\\Year 4 (Master)\\Q3\\Capita selecta MIA\\LatestCodeRegistration\\CapitaSelectaCode-main\\Registration\\results\\23-04-02_11-53-42\\p107\\p109\n",
      "C:\\Users\\20192757\\Documents\\Year 4 (Master)\\Q3\\Capita selecta MIA\\elastix-5.0.0-win64\\elastix.exe -f C:\\Users\\20192757\\Documents\\Year 4 (Master)\\Q3\\Capita selecta MIA\\LatestCodeRegistration\\CapitaSelectaCode-main\\Registration\\DataPreProcessed\\p107\\mr_bffe.mhd -m C:\\Users\\20192757\\Documents\\Year 4 (Master)\\Q3\\Capita selecta MIA\\LatestCodeRegistration\\CapitaSelectaCode-main\\Registration\\DataPreProcessed\\p102\\mr_bffe.mhd -p C:\\Users\\20192757\\Documents\\Year 4 (Master)\\Q3\\Capita selecta MIA\\LatestCodeRegistration\\CapitaSelectaCode-main\\Registration\\parameters\\Par0001translation.txt -p C:\\Users\\20192757\\Documents\\Year 4 (Master)\\Q3\\Capita selecta MIA\\LatestCodeRegistration\\CapitaSelectaCode-main\\Registration\\parameters\\Par0001affine.txt -p C:\\Users\\20192757\\Documents\\Year 4 (Master)\\Q3\\Capita selecta MIA\\LatestCodeRegistration\\CapitaSelectaCode-main\\Registration\\parameters\\Par0001bspline04.txt -out C:\\Users\\20192757\\Documents\\Year 4 (Master)\\Q3\\Capita selecta MIA\\LatestCodeRegistration\\CapitaSelectaCode-main\\Registration\\results\\23-04-02_11-53-42\\p107\\p102\n",
      "C:\\Users\\20192757\\Documents\\Year 4 (Master)\\Q3\\Capita selecta MIA\\elastix-5.0.0-win64\\elastix.exe -f C:\\Users\\20192757\\Documents\\Year 4 (Master)\\Q3\\Capita selecta MIA\\LatestCodeRegistration\\CapitaSelectaCode-main\\Registration\\DataPreProcessed\\p107\\mr_bffe.mhd -m C:\\Users\\20192757\\Documents\\Year 4 (Master)\\Q3\\Capita selecta MIA\\LatestCodeRegistration\\CapitaSelectaCode-main\\Registration\\DataPreProcessed\\p116\\mr_bffe.mhd -p C:\\Users\\20192757\\Documents\\Year 4 (Master)\\Q3\\Capita selecta MIA\\LatestCodeRegistration\\CapitaSelectaCode-main\\Registration\\parameters\\Par0001translation.txt -p C:\\Users\\20192757\\Documents\\Year 4 (Master)\\Q3\\Capita selecta MIA\\LatestCodeRegistration\\CapitaSelectaCode-main\\Registration\\parameters\\Par0001affine.txt -p C:\\Users\\20192757\\Documents\\Year 4 (Master)\\Q3\\Capita selecta MIA\\LatestCodeRegistration\\CapitaSelectaCode-main\\Registration\\parameters\\Par0001bspline04.txt -out C:\\Users\\20192757\\Documents\\Year 4 (Master)\\Q3\\Capita selecta MIA\\LatestCodeRegistration\\CapitaSelectaCode-main\\Registration\\results\\23-04-02_11-53-42\\p107\\p116\n",
      "C:\\Users\\20192757\\Documents\\Year 4 (Master)\\Q3\\Capita selecta MIA\\elastix-5.0.0-win64\\elastix.exe -f C:\\Users\\20192757\\Documents\\Year 4 (Master)\\Q3\\Capita selecta MIA\\LatestCodeRegistration\\CapitaSelectaCode-main\\Registration\\DataPreProcessed\\p107\\mr_bffe.mhd -m C:\\Users\\20192757\\Documents\\Year 4 (Master)\\Q3\\Capita selecta MIA\\LatestCodeRegistration\\CapitaSelectaCode-main\\Registration\\DataPreProcessed\\p129\\mr_bffe.mhd -p C:\\Users\\20192757\\Documents\\Year 4 (Master)\\Q3\\Capita selecta MIA\\LatestCodeRegistration\\CapitaSelectaCode-main\\Registration\\parameters\\Par0001translation.txt -p C:\\Users\\20192757\\Documents\\Year 4 (Master)\\Q3\\Capita selecta MIA\\LatestCodeRegistration\\CapitaSelectaCode-main\\Registration\\parameters\\Par0001affine.txt -p C:\\Users\\20192757\\Documents\\Year 4 (Master)\\Q3\\Capita selecta MIA\\LatestCodeRegistration\\CapitaSelectaCode-main\\Registration\\parameters\\Par0001bspline04.txt -out C:\\Users\\20192757\\Documents\\Year 4 (Master)\\Q3\\Capita selecta MIA\\LatestCodeRegistration\\CapitaSelectaCode-main\\Registration\\results\\23-04-02_11-53-42\\p107\\p129\n"
     ]
    },
    {
     "name": "stderr",
     "output_type": "stream",
     "text": [
      "\r",
      " 33%|███▎      | 1/3 [24:29<48:58, 1469.42s/it]"
     ]
    },
    {
     "name": "stdout",
     "output_type": "stream",
     "text": [
      "C:\\Users\\20192757\\Documents\\Year 4 (Master)\\Q3\\Capita selecta MIA\\elastix-5.0.0-win64\\elastix.exe -f C:\\Users\\20192757\\Documents\\Year 4 (Master)\\Q3\\Capita selecta MIA\\LatestCodeRegistration\\CapitaSelectaCode-main\\Registration\\DataPreProcessed\\p117\\mr_bffe.mhd -m C:\\Users\\20192757\\Documents\\Year 4 (Master)\\Q3\\Capita selecta MIA\\LatestCodeRegistration\\CapitaSelectaCode-main\\Registration\\DataPreProcessed\\p125\\mr_bffe.mhd -p C:\\Users\\20192757\\Documents\\Year 4 (Master)\\Q3\\Capita selecta MIA\\LatestCodeRegistration\\CapitaSelectaCode-main\\Registration\\parameters\\Par0001translation.txt -p C:\\Users\\20192757\\Documents\\Year 4 (Master)\\Q3\\Capita selecta MIA\\LatestCodeRegistration\\CapitaSelectaCode-main\\Registration\\parameters\\Par0001affine.txt -p C:\\Users\\20192757\\Documents\\Year 4 (Master)\\Q3\\Capita selecta MIA\\LatestCodeRegistration\\CapitaSelectaCode-main\\Registration\\parameters\\Par0001bspline04.txt -out C:\\Users\\20192757\\Documents\\Year 4 (Master)\\Q3\\Capita selecta MIA\\LatestCodeRegistration\\CapitaSelectaCode-main\\Registration\\results\\23-04-02_11-53-42\\p117\\p125\n"
     ]
    }
   ],
   "source": [
    "model.run_registration()"
   ]
  },
  {
   "cell_type": "code",
   "execution_count": 8,
   "metadata": {},
   "outputs": [
    {
     "name": "stdout",
     "output_type": "stream",
     "text": [
      "Running for parameters ['Par0001translation.txt', 'Par0001affine.txt', 'Par0001bspline04.txt']\n"
     ]
    },
    {
     "name": "stderr",
     "output_type": "stream",
     "text": [
      "100%|██████████| 3/3 [00:24<00:00,  8.03s/it]\n"
     ]
    }
   ],
   "source": [
    "model.threshold_staple = 0.95\n",
    "model.calculate_scores()"
   ]
  },
  {
   "cell_type": "code",
   "execution_count": null,
   "metadata": {},
   "outputs": [],
   "source": [
    "# Load image and segmentation of atlas patient / patients\n",
    "#atlas_im_path = os.path.join(atlas_path, 'mr_bffe.mhd')\n",
    "itk_image102 = sitk.ReadImage(\"results\\\\23-04-02_11-53-42\\\\p107\\\\Registration1.mhd\")\n",
    "image_array102 = sitk.GetArrayViewFromImage(itk_image102)\n",
    "# Print the image dimensions\n",
    "print(image_array102.shape)"
   ]
  },
  {
   "cell_type": "code",
   "execution_count": 18,
   "metadata": {},
   "outputs": [],
   "source": [
    "matplotlib qt "
   ]
  },
  {
   "cell_type": "code",
   "execution_count": 19,
   "metadata": {},
   "outputs": [
    {
     "ename": "NameError",
     "evalue": "name 'image_array102' is not defined",
     "output_type": "error",
     "traceback": [
      "\u001b[1;31m---------------------------------------------------------------------------\u001b[0m",
      "\u001b[1;31mNameError\u001b[0m                                 Traceback (most recent call last)",
      "\u001b[1;32m~\\AppData\\Local\\Temp\\ipykernel_21120\\375419379.py\u001b[0m in \u001b[0;36m<module>\u001b[1;34m\u001b[0m\n\u001b[0;32m      1\u001b[0m \u001b[1;32mfrom\u001b[0m \u001b[0mIndexTracker\u001b[0m \u001b[1;32mimport\u001b[0m \u001b[0mIndexTracker\u001b[0m\u001b[1;33m\u001b[0m\u001b[1;33m\u001b[0m\u001b[0m\n\u001b[0;32m      2\u001b[0m \u001b[0mfig\u001b[0m\u001b[1;33m,\u001b[0m \u001b[0max\u001b[0m \u001b[1;33m=\u001b[0m \u001b[0mplt\u001b[0m\u001b[1;33m.\u001b[0m\u001b[0msubplots\u001b[0m\u001b[1;33m(\u001b[0m\u001b[1;36m1\u001b[0m\u001b[1;33m,\u001b[0m \u001b[1;36m2\u001b[0m\u001b[1;33m)\u001b[0m\u001b[1;33m\u001b[0m\u001b[1;33m\u001b[0m\u001b[0m\n\u001b[1;32m----> 3\u001b[1;33m \u001b[0mtracker1\u001b[0m \u001b[1;33m=\u001b[0m \u001b[0mIndexTracker\u001b[0m\u001b[1;33m(\u001b[0m\u001b[0max\u001b[0m\u001b[1;33m[\u001b[0m\u001b[1;36m0\u001b[0m\u001b[1;33m]\u001b[0m\u001b[1;33m,\u001b[0m \u001b[0mimage_array102\u001b[0m\u001b[1;33m)\u001b[0m\u001b[1;33m;\u001b[0m\u001b[1;33m\u001b[0m\u001b[1;33m\u001b[0m\u001b[0m\n\u001b[0m\u001b[0;32m      4\u001b[0m \u001b[0mfig\u001b[0m\u001b[1;33m.\u001b[0m\u001b[0mcanvas\u001b[0m\u001b[1;33m.\u001b[0m\u001b[0mmpl_connect\u001b[0m\u001b[1;33m(\u001b[0m\u001b[1;34m'scroll_event'\u001b[0m\u001b[1;33m,\u001b[0m \u001b[0mtracker1\u001b[0m\u001b[1;33m.\u001b[0m\u001b[0monscroll\u001b[0m\u001b[1;33m)\u001b[0m\u001b[1;33m;\u001b[0m\u001b[1;33m\u001b[0m\u001b[1;33m\u001b[0m\u001b[0m\n\u001b[0;32m      5\u001b[0m \u001b[1;33m\u001b[0m\u001b[0m\n",
      "\u001b[1;31mNameError\u001b[0m: name 'image_array102' is not defined"
     ]
    }
   ],
   "source": [
    "from IndexTracker import IndexTracker\n",
    "fig, ax = plt.subplots(1, 2)\n",
    "tracker1 = IndexTracker(ax[0], image_array102);\n",
    "fig.canvas.mpl_connect('scroll_event', tracker1.onscroll);\n",
    "\n",
    "plt.show()"
   ]
  },
  {
   "cell_type": "code",
   "execution_count": null,
   "metadata": {},
   "outputs": [],
   "source": []
  }
 ],
 "metadata": {
  "kernelspec": {
   "display_name": "Python 3 (ipykernel)",
   "language": "python",
   "name": "python3"
  },
  "language_info": {
   "codemirror_mode": {
    "name": "ipython",
    "version": 3
   },
   "file_extension": ".py",
   "mimetype": "text/x-python",
   "name": "python",
   "nbconvert_exporter": "python",
   "pygments_lexer": "ipython3",
   "version": "3.10.9"
  },
  "vscode": {
   "interpreter": {
    "hash": "e7ccb2a435b656723dafd2fb88eb02b6891256ab8b77d2cf3044cea9811453d0"
   }
  }
 },
 "nbformat": 4,
 "nbformat_minor": 2
}
