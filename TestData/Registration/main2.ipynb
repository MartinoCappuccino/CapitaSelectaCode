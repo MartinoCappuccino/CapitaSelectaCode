{
 "cells": [
  {
   "cell_type": "code",
   "execution_count": 1,
   "metadata": {},
   "outputs": [],
   "source": [
    "import matplotlib.pyplot as plt \n",
    "import SimpleITK as sitk \n",
    "import os\n",
    "from misc import Config\n",
    "from model import *\n",
    "%matplotlib qt\n",
    "os.pathsep = \"/\""
   ]
  },
  {
   "cell_type": "code",
   "execution_count": 2,
   "metadata": {},
   "outputs": [],
   "source": [
    "ELASTIX_PATH = os.path.join('C:\\\\Users\\\\20192757\\\\Documents\\\\Year 4 (Master)\\\\Q3\\\\Capita selecta MIA\\\\elastix-5.0.0-win64\\\\elastix.exe')\n",
    "TRANSFORMIX_PATH = os.path.join('C:\\\\Users\\\\20192757\\\\Documents\\\\Year 4 (Master)\\\\Q3\\\\Capita selecta MIA\\\\elastix-5.0.0-win64\\\\transformix.exe')\n",
    "FOLDER_RAW = os.path.join('C:\\\\Users\\\\20192757\\\\Documents\\\\Year 4 (Master)\\\\Q3\\\\Capita selecta MIA\\\\TrainingData\\\\TrainingData')\n",
    "FOLDER_PREPROCESSED = os.path.join('C:\\\\Users\\\\20192757\\\\Documents\\\\Year 4 (Master)\\\\Q3\\\\Capita selecta MIA\\\\LatestCodeRegistration\\\\CapitaSelectaCode-main\\\\Registration\\\\DataPreProcessed')\n",
    "FOLDER_PARAMETERS = os.path.join('C:\\\\Users\\\\20192757\\\\Documents\\\\Year 4 (Master)\\\\Q3\\\\Capita selecta MIA\\\\LatestCodeRegistration\\\\CapitaSelectaCode-main\\\\Registration\\\\parameters')\n",
    "FOLDER_RESULTS = os.path.join('C:\\\\Users\\\\20192757\\\\Documents\\\\Year 4 (Master)\\\\Q3\\\\Capita selecta MIA\\\\LatestCodeRegistration\\\\CapitaSelectaCode-main\\\\Registration\\\\results')"
   ]
  },
  {
   "cell_type": "code",
   "execution_count": 3,
   "metadata": {},
   "outputs": [],
   "source": [
    "#Define indexes of the patients in training and validation set, add test images in same folder as training images!\n",
    "#training patients: 102,108,109,115,116,119,125,127,128,129,133,135\n",
    "#original validation patients: 107,117,120\n",
    "\n",
    "valid_patient_index = [15,16,17,18,19]\n",
    "train_patient_index = [0,2,3,4,5,7,9,10,11,12,13,14]"
   ]
  },
  {
   "cell_type": "code",
   "execution_count": 4,
   "metadata": {},
   "outputs": [],
   "source": [
    "config = Config(\n",
    "    folder_raw = FOLDER_RAW, \n",
    "    folder_preprocessed = FOLDER_PREPROCESSED,\n",
    "    parameter_folder = FOLDER_PARAMETERS,\n",
    "    parameters = [\"Par0001translation.txt\", \"Par0001affine.txt\", \"Par0001bspline04.txt\"],\n",
    "    folder_results = FOLDER_RESULTS,\n",
    "    seed = 0,\n",
    "    train_size = 12,\n",
    "    valid_indx = valid_patient_index,   #to go back to previous version, just remove these valid_indx and train_indx lines\n",
    "    train_indx = train_patient_index\n",
    ")"
   ]
  },
  {
   "cell_type": "code",
   "execution_count": 5,
   "metadata": {},
   "outputs": [],
   "source": [
    "model = Model(\n",
    "    config = config,\n",
    "    elastix_path = ELASTIX_PATH,\n",
    "    transformix_path = TRANSFORMIX_PATH,\n",
    ")"
   ]
  },
  {
   "cell_type": "code",
   "execution_count": 6,
   "metadata": {},
   "outputs": [
    {
     "name": "stderr",
     "output_type": "stream",
     "text": [
      "Loading Data: 100%|██████████| 20/20 [00:04<00:00,  4.97it/s]\n"
     ]
    }
   ],
   "source": [
    "model.load()"
   ]
  },
  {
   "cell_type": "code",
   "execution_count": 7,
   "metadata": {},
   "outputs": [
    {
     "name": "stderr",
     "output_type": "stream",
     "text": [
      "Saving Preprocessed Data: 100%|██████████| 20/20 [00:01<00:00, 16.01it/s]\n"
     ]
    }
   ],
   "source": [
    "model.preprocess_and_save(downscale_factor=1, normalize=\"none\")"
   ]
  },
  {
   "cell_type": "code",
   "execution_count": null,
   "metadata": {},
   "outputs": [
    {
     "name": "stdout",
     "output_type": "stream",
     "text": [
      "Running with parameters ['Par0001translation.txt', 'Par0001affine.txt', 'Par0001bspline04.txt']\n"
     ]
    },
    {
     "name": "stderr",
     "output_type": "stream",
     "text": [
      "\r",
      "  0%|          | 0/5 [00:00<?, ?it/s]"
     ]
    },
    {
     "name": "stdout",
     "output_type": "stream",
     "text": [
      "C:\\Users\\20192757\\Documents\\Year 4 (Master)\\Q3\\Capita selecta MIA\\elastix-5.0.0-win64\\elastix.exe -f C:\\Users\\20192757\\Documents\\Year 4 (Master)\\Q3\\Capita selecta MIA\\LatestCodeRegistration\\CapitaSelectaCode-main\\Registration\\DataPreProcessed\\p137\\mr_bffe.mhd -m C:\\Users\\20192757\\Documents\\Year 4 (Master)\\Q3\\Capita selecta MIA\\LatestCodeRegistration\\CapitaSelectaCode-main\\Registration\\DataPreProcessed\\p102\\mr_bffe.mhd -p C:\\Users\\20192757\\Documents\\Year 4 (Master)\\Q3\\Capita selecta MIA\\LatestCodeRegistration\\CapitaSelectaCode-main\\Registration\\parameters\\Par0001translation.txt -p C:\\Users\\20192757\\Documents\\Year 4 (Master)\\Q3\\Capita selecta MIA\\LatestCodeRegistration\\CapitaSelectaCode-main\\Registration\\parameters\\Par0001affine.txt -p C:\\Users\\20192757\\Documents\\Year 4 (Master)\\Q3\\Capita selecta MIA\\LatestCodeRegistration\\CapitaSelectaCode-main\\Registration\\parameters\\Par0001bspline04.txt -out C:\\Users\\20192757\\Documents\\Year 4 (Master)\\Q3\\Capita selecta MIA\\LatestCodeRegistration\\CapitaSelectaCode-main\\Registration\\results\\23-04-03_09-21-52\\p137\\p102\n",
      "C:\\Users\\20192757\\Documents\\Year 4 (Master)\\Q3\\Capita selecta MIA\\elastix-5.0.0-win64\\elastix.exe -f C:\\Users\\20192757\\Documents\\Year 4 (Master)\\Q3\\Capita selecta MIA\\LatestCodeRegistration\\CapitaSelectaCode-main\\Registration\\DataPreProcessed\\p137\\mr_bffe.mhd -m C:\\Users\\20192757\\Documents\\Year 4 (Master)\\Q3\\Capita selecta MIA\\LatestCodeRegistration\\CapitaSelectaCode-main\\Registration\\DataPreProcessed\\p108\\mr_bffe.mhd -p C:\\Users\\20192757\\Documents\\Year 4 (Master)\\Q3\\Capita selecta MIA\\LatestCodeRegistration\\CapitaSelectaCode-main\\Registration\\parameters\\Par0001translation.txt -p C:\\Users\\20192757\\Documents\\Year 4 (Master)\\Q3\\Capita selecta MIA\\LatestCodeRegistration\\CapitaSelectaCode-main\\Registration\\parameters\\Par0001affine.txt -p C:\\Users\\20192757\\Documents\\Year 4 (Master)\\Q3\\Capita selecta MIA\\LatestCodeRegistration\\CapitaSelectaCode-main\\Registration\\parameters\\Par0001bspline04.txt -out C:\\Users\\20192757\\Documents\\Year 4 (Master)\\Q3\\Capita selecta MIA\\LatestCodeRegistration\\CapitaSelectaCode-main\\Registration\\results\\23-04-03_09-21-52\\p137\\p108\n",
      "C:\\Users\\20192757\\Documents\\Year 4 (Master)\\Q3\\Capita selecta MIA\\elastix-5.0.0-win64\\elastix.exe -f C:\\Users\\20192757\\Documents\\Year 4 (Master)\\Q3\\Capita selecta MIA\\LatestCodeRegistration\\CapitaSelectaCode-main\\Registration\\DataPreProcessed\\p137\\mr_bffe.mhd -m C:\\Users\\20192757\\Documents\\Year 4 (Master)\\Q3\\Capita selecta MIA\\LatestCodeRegistration\\CapitaSelectaCode-main\\Registration\\DataPreProcessed\\p109\\mr_bffe.mhd -p C:\\Users\\20192757\\Documents\\Year 4 (Master)\\Q3\\Capita selecta MIA\\LatestCodeRegistration\\CapitaSelectaCode-main\\Registration\\parameters\\Par0001translation.txt -p C:\\Users\\20192757\\Documents\\Year 4 (Master)\\Q3\\Capita selecta MIA\\LatestCodeRegistration\\CapitaSelectaCode-main\\Registration\\parameters\\Par0001affine.txt -p C:\\Users\\20192757\\Documents\\Year 4 (Master)\\Q3\\Capita selecta MIA\\LatestCodeRegistration\\CapitaSelectaCode-main\\Registration\\parameters\\Par0001bspline04.txt -out C:\\Users\\20192757\\Documents\\Year 4 (Master)\\Q3\\Capita selecta MIA\\LatestCodeRegistration\\CapitaSelectaCode-main\\Registration\\results\\23-04-03_09-21-52\\p137\\p109\n",
      "C:\\Users\\20192757\\Documents\\Year 4 (Master)\\Q3\\Capita selecta MIA\\elastix-5.0.0-win64\\elastix.exe -f C:\\Users\\20192757\\Documents\\Year 4 (Master)\\Q3\\Capita selecta MIA\\LatestCodeRegistration\\CapitaSelectaCode-main\\Registration\\DataPreProcessed\\p137\\mr_bffe.mhd -m C:\\Users\\20192757\\Documents\\Year 4 (Master)\\Q3\\Capita selecta MIA\\LatestCodeRegistration\\CapitaSelectaCode-main\\Registration\\DataPreProcessed\\p115\\mr_bffe.mhd -p C:\\Users\\20192757\\Documents\\Year 4 (Master)\\Q3\\Capita selecta MIA\\LatestCodeRegistration\\CapitaSelectaCode-main\\Registration\\parameters\\Par0001translation.txt -p C:\\Users\\20192757\\Documents\\Year 4 (Master)\\Q3\\Capita selecta MIA\\LatestCodeRegistration\\CapitaSelectaCode-main\\Registration\\parameters\\Par0001affine.txt -p C:\\Users\\20192757\\Documents\\Year 4 (Master)\\Q3\\Capita selecta MIA\\LatestCodeRegistration\\CapitaSelectaCode-main\\Registration\\parameters\\Par0001bspline04.txt -out C:\\Users\\20192757\\Documents\\Year 4 (Master)\\Q3\\Capita selecta MIA\\LatestCodeRegistration\\CapitaSelectaCode-main\\Registration\\results\\23-04-03_09-21-52\\p137\\p115\n",
      "C:\\Users\\20192757\\Documents\\Year 4 (Master)\\Q3\\Capita selecta MIA\\elastix-5.0.0-win64\\elastix.exe -f C:\\Users\\20192757\\Documents\\Year 4 (Master)\\Q3\\Capita selecta MIA\\LatestCodeRegistration\\CapitaSelectaCode-main\\Registration\\DataPreProcessed\\p137\\mr_bffe.mhd -m C:\\Users\\20192757\\Documents\\Year 4 (Master)\\Q3\\Capita selecta MIA\\LatestCodeRegistration\\CapitaSelectaCode-main\\Registration\\DataPreProcessed\\p116\\mr_bffe.mhd -p C:\\Users\\20192757\\Documents\\Year 4 (Master)\\Q3\\Capita selecta MIA\\LatestCodeRegistration\\CapitaSelectaCode-main\\Registration\\parameters\\Par0001translation.txt -p C:\\Users\\20192757\\Documents\\Year 4 (Master)\\Q3\\Capita selecta MIA\\LatestCodeRegistration\\CapitaSelectaCode-main\\Registration\\parameters\\Par0001affine.txt -p C:\\Users\\20192757\\Documents\\Year 4 (Master)\\Q3\\Capita selecta MIA\\LatestCodeRegistration\\CapitaSelectaCode-main\\Registration\\parameters\\Par0001bspline04.txt -out C:\\Users\\20192757\\Documents\\Year 4 (Master)\\Q3\\Capita selecta MIA\\LatestCodeRegistration\\CapitaSelectaCode-main\\Registration\\results\\23-04-03_09-21-52\\p137\\p116\n",
      "C:\\Users\\20192757\\Documents\\Year 4 (Master)\\Q3\\Capita selecta MIA\\elastix-5.0.0-win64\\elastix.exe -f C:\\Users\\20192757\\Documents\\Year 4 (Master)\\Q3\\Capita selecta MIA\\LatestCodeRegistration\\CapitaSelectaCode-main\\Registration\\DataPreProcessed\\p137\\mr_bffe.mhd -m C:\\Users\\20192757\\Documents\\Year 4 (Master)\\Q3\\Capita selecta MIA\\LatestCodeRegistration\\CapitaSelectaCode-main\\Registration\\DataPreProcessed\\p119\\mr_bffe.mhd -p C:\\Users\\20192757\\Documents\\Year 4 (Master)\\Q3\\Capita selecta MIA\\LatestCodeRegistration\\CapitaSelectaCode-main\\Registration\\parameters\\Par0001translation.txt -p C:\\Users\\20192757\\Documents\\Year 4 (Master)\\Q3\\Capita selecta MIA\\LatestCodeRegistration\\CapitaSelectaCode-main\\Registration\\parameters\\Par0001affine.txt -p C:\\Users\\20192757\\Documents\\Year 4 (Master)\\Q3\\Capita selecta MIA\\LatestCodeRegistration\\CapitaSelectaCode-main\\Registration\\parameters\\Par0001bspline04.txt -out C:\\Users\\20192757\\Documents\\Year 4 (Master)\\Q3\\Capita selecta MIA\\LatestCodeRegistration\\CapitaSelectaCode-main\\Registration\\results\\23-04-03_09-21-52\\p137\\p119\n",
      "C:\\Users\\20192757\\Documents\\Year 4 (Master)\\Q3\\Capita selecta MIA\\elastix-5.0.0-win64\\elastix.exe -f C:\\Users\\20192757\\Documents\\Year 4 (Master)\\Q3\\Capita selecta MIA\\LatestCodeRegistration\\CapitaSelectaCode-main\\Registration\\DataPreProcessed\\p137\\mr_bffe.mhd -m C:\\Users\\20192757\\Documents\\Year 4 (Master)\\Q3\\Capita selecta MIA\\LatestCodeRegistration\\CapitaSelectaCode-main\\Registration\\DataPreProcessed\\p125\\mr_bffe.mhd -p C:\\Users\\20192757\\Documents\\Year 4 (Master)\\Q3\\Capita selecta MIA\\LatestCodeRegistration\\CapitaSelectaCode-main\\Registration\\parameters\\Par0001translation.txt -p C:\\Users\\20192757\\Documents\\Year 4 (Master)\\Q3\\Capita selecta MIA\\LatestCodeRegistration\\CapitaSelectaCode-main\\Registration\\parameters\\Par0001affine.txt -p C:\\Users\\20192757\\Documents\\Year 4 (Master)\\Q3\\Capita selecta MIA\\LatestCodeRegistration\\CapitaSelectaCode-main\\Registration\\parameters\\Par0001bspline04.txt -out C:\\Users\\20192757\\Documents\\Year 4 (Master)\\Q3\\Capita selecta MIA\\LatestCodeRegistration\\CapitaSelectaCode-main\\Registration\\results\\23-04-03_09-21-52\\p137\\p125\n",
      "C:\\Users\\20192757\\Documents\\Year 4 (Master)\\Q3\\Capita selecta MIA\\elastix-5.0.0-win64\\elastix.exe -f C:\\Users\\20192757\\Documents\\Year 4 (Master)\\Q3\\Capita selecta MIA\\LatestCodeRegistration\\CapitaSelectaCode-main\\Registration\\DataPreProcessed\\p137\\mr_bffe.mhd -m C:\\Users\\20192757\\Documents\\Year 4 (Master)\\Q3\\Capita selecta MIA\\LatestCodeRegistration\\CapitaSelectaCode-main\\Registration\\DataPreProcessed\\p127\\mr_bffe.mhd -p C:\\Users\\20192757\\Documents\\Year 4 (Master)\\Q3\\Capita selecta MIA\\LatestCodeRegistration\\CapitaSelectaCode-main\\Registration\\parameters\\Par0001translation.txt -p C:\\Users\\20192757\\Documents\\Year 4 (Master)\\Q3\\Capita selecta MIA\\LatestCodeRegistration\\CapitaSelectaCode-main\\Registration\\parameters\\Par0001affine.txt -p C:\\Users\\20192757\\Documents\\Year 4 (Master)\\Q3\\Capita selecta MIA\\LatestCodeRegistration\\CapitaSelectaCode-main\\Registration\\parameters\\Par0001bspline04.txt -out C:\\Users\\20192757\\Documents\\Year 4 (Master)\\Q3\\Capita selecta MIA\\LatestCodeRegistration\\CapitaSelectaCode-main\\Registration\\results\\23-04-03_09-21-52\\p137\\p127\n"
     ]
    },
    {
     "name": "stdout",
     "output_type": "stream",
     "text": [
      "C:\\Users\\20192757\\Documents\\Year 4 (Master)\\Q3\\Capita selecta MIA\\elastix-5.0.0-win64\\elastix.exe -f C:\\Users\\20192757\\Documents\\Year 4 (Master)\\Q3\\Capita selecta MIA\\LatestCodeRegistration\\CapitaSelectaCode-main\\Registration\\DataPreProcessed\\p137\\mr_bffe.mhd -m C:\\Users\\20192757\\Documents\\Year 4 (Master)\\Q3\\Capita selecta MIA\\LatestCodeRegistration\\CapitaSelectaCode-main\\Registration\\DataPreProcessed\\p128\\mr_bffe.mhd -p C:\\Users\\20192757\\Documents\\Year 4 (Master)\\Q3\\Capita selecta MIA\\LatestCodeRegistration\\CapitaSelectaCode-main\\Registration\\parameters\\Par0001translation.txt -p C:\\Users\\20192757\\Documents\\Year 4 (Master)\\Q3\\Capita selecta MIA\\LatestCodeRegistration\\CapitaSelectaCode-main\\Registration\\parameters\\Par0001affine.txt -p C:\\Users\\20192757\\Documents\\Year 4 (Master)\\Q3\\Capita selecta MIA\\LatestCodeRegistration\\CapitaSelectaCode-main\\Registration\\parameters\\Par0001bspline04.txt -out C:\\Users\\20192757\\Documents\\Year 4 (Master)\\Q3\\Capita selecta MIA\\LatestCodeRegistration\\CapitaSelectaCode-main\\Registration\\results\\23-04-03_09-21-52\\p137\\p128\n",
      "C:\\Users\\20192757\\Documents\\Year 4 (Master)\\Q3\\Capita selecta MIA\\elastix-5.0.0-win64\\elastix.exe -f C:\\Users\\20192757\\Documents\\Year 4 (Master)\\Q3\\Capita selecta MIA\\LatestCodeRegistration\\CapitaSelectaCode-main\\Registration\\DataPreProcessed\\p137\\mr_bffe.mhd -m C:\\Users\\20192757\\Documents\\Year 4 (Master)\\Q3\\Capita selecta MIA\\LatestCodeRegistration\\CapitaSelectaCode-main\\Registration\\DataPreProcessed\\p129\\mr_bffe.mhd -p C:\\Users\\20192757\\Documents\\Year 4 (Master)\\Q3\\Capita selecta MIA\\LatestCodeRegistration\\CapitaSelectaCode-main\\Registration\\parameters\\Par0001translation.txt -p C:\\Users\\20192757\\Documents\\Year 4 (Master)\\Q3\\Capita selecta MIA\\LatestCodeRegistration\\CapitaSelectaCode-main\\Registration\\parameters\\Par0001affine.txt -p C:\\Users\\20192757\\Documents\\Year 4 (Master)\\Q3\\Capita selecta MIA\\LatestCodeRegistration\\CapitaSelectaCode-main\\Registration\\parameters\\Par0001bspline04.txt -out C:\\Users\\20192757\\Documents\\Year 4 (Master)\\Q3\\Capita selecta MIA\\LatestCodeRegistration\\CapitaSelectaCode-main\\Registration\\results\\23-04-03_09-21-52\\p137\\p129\n",
      "C:\\Users\\20192757\\Documents\\Year 4 (Master)\\Q3\\Capita selecta MIA\\elastix-5.0.0-win64\\elastix.exe -f C:\\Users\\20192757\\Documents\\Year 4 (Master)\\Q3\\Capita selecta MIA\\LatestCodeRegistration\\CapitaSelectaCode-main\\Registration\\DataPreProcessed\\p137\\mr_bffe.mhd -m C:\\Users\\20192757\\Documents\\Year 4 (Master)\\Q3\\Capita selecta MIA\\LatestCodeRegistration\\CapitaSelectaCode-main\\Registration\\DataPreProcessed\\p133\\mr_bffe.mhd -p C:\\Users\\20192757\\Documents\\Year 4 (Master)\\Q3\\Capita selecta MIA\\LatestCodeRegistration\\CapitaSelectaCode-main\\Registration\\parameters\\Par0001translation.txt -p C:\\Users\\20192757\\Documents\\Year 4 (Master)\\Q3\\Capita selecta MIA\\LatestCodeRegistration\\CapitaSelectaCode-main\\Registration\\parameters\\Par0001affine.txt -p C:\\Users\\20192757\\Documents\\Year 4 (Master)\\Q3\\Capita selecta MIA\\LatestCodeRegistration\\CapitaSelectaCode-main\\Registration\\parameters\\Par0001bspline04.txt -out C:\\Users\\20192757\\Documents\\Year 4 (Master)\\Q3\\Capita selecta MIA\\LatestCodeRegistration\\CapitaSelectaCode-main\\Registration\\results\\23-04-03_09-21-52\\p137\\p133\n",
      "C:\\Users\\20192757\\Documents\\Year 4 (Master)\\Q3\\Capita selecta MIA\\elastix-5.0.0-win64\\elastix.exe -f C:\\Users\\20192757\\Documents\\Year 4 (Master)\\Q3\\Capita selecta MIA\\LatestCodeRegistration\\CapitaSelectaCode-main\\Registration\\DataPreProcessed\\p137\\mr_bffe.mhd -m C:\\Users\\20192757\\Documents\\Year 4 (Master)\\Q3\\Capita selecta MIA\\LatestCodeRegistration\\CapitaSelectaCode-main\\Registration\\DataPreProcessed\\p135\\mr_bffe.mhd -p C:\\Users\\20192757\\Documents\\Year 4 (Master)\\Q3\\Capita selecta MIA\\LatestCodeRegistration\\CapitaSelectaCode-main\\Registration\\parameters\\Par0001translation.txt -p C:\\Users\\20192757\\Documents\\Year 4 (Master)\\Q3\\Capita selecta MIA\\LatestCodeRegistration\\CapitaSelectaCode-main\\Registration\\parameters\\Par0001affine.txt -p C:\\Users\\20192757\\Documents\\Year 4 (Master)\\Q3\\Capita selecta MIA\\LatestCodeRegistration\\CapitaSelectaCode-main\\Registration\\parameters\\Par0001bspline04.txt -out C:\\Users\\20192757\\Documents\\Year 4 (Master)\\Q3\\Capita selecta MIA\\LatestCodeRegistration\\CapitaSelectaCode-main\\Registration\\results\\23-04-03_09-21-52\\p137\\p135\n"
     ]
    },
    {
     "name": "stderr",
     "output_type": "stream",
     "text": [
      "\r",
      " 20%|██        | 1/5 [42:00<2:48:01, 2520.35s/it]"
     ]
    },
    {
     "name": "stdout",
     "output_type": "stream",
     "text": [
      "C:\\Users\\20192757\\Documents\\Year 4 (Master)\\Q3\\Capita selecta MIA\\elastix-5.0.0-win64\\elastix.exe -f C:\\Users\\20192757\\Documents\\Year 4 (Master)\\Q3\\Capita selecta MIA\\LatestCodeRegistration\\CapitaSelectaCode-main\\Registration\\DataPreProcessed\\p141\\mr_bffe.mhd -m C:\\Users\\20192757\\Documents\\Year 4 (Master)\\Q3\\Capita selecta MIA\\LatestCodeRegistration\\CapitaSelectaCode-main\\Registration\\DataPreProcessed\\p102\\mr_bffe.mhd -p C:\\Users\\20192757\\Documents\\Year 4 (Master)\\Q3\\Capita selecta MIA\\LatestCodeRegistration\\CapitaSelectaCode-main\\Registration\\parameters\\Par0001translation.txt -p C:\\Users\\20192757\\Documents\\Year 4 (Master)\\Q3\\Capita selecta MIA\\LatestCodeRegistration\\CapitaSelectaCode-main\\Registration\\parameters\\Par0001affine.txt -p C:\\Users\\20192757\\Documents\\Year 4 (Master)\\Q3\\Capita selecta MIA\\LatestCodeRegistration\\CapitaSelectaCode-main\\Registration\\parameters\\Par0001bspline04.txt -out C:\\Users\\20192757\\Documents\\Year 4 (Master)\\Q3\\Capita selecta MIA\\LatestCodeRegistration\\CapitaSelectaCode-main\\Registration\\results\\23-04-03_09-21-52\\p141\\p102\n",
      "C:\\Users\\20192757\\Documents\\Year 4 (Master)\\Q3\\Capita selecta MIA\\elastix-5.0.0-win64\\elastix.exe -f C:\\Users\\20192757\\Documents\\Year 4 (Master)\\Q3\\Capita selecta MIA\\LatestCodeRegistration\\CapitaSelectaCode-main\\Registration\\DataPreProcessed\\p141\\mr_bffe.mhd -m C:\\Users\\20192757\\Documents\\Year 4 (Master)\\Q3\\Capita selecta MIA\\LatestCodeRegistration\\CapitaSelectaCode-main\\Registration\\DataPreProcessed\\p108\\mr_bffe.mhd -p C:\\Users\\20192757\\Documents\\Year 4 (Master)\\Q3\\Capita selecta MIA\\LatestCodeRegistration\\CapitaSelectaCode-main\\Registration\\parameters\\Par0001translation.txt -p C:\\Users\\20192757\\Documents\\Year 4 (Master)\\Q3\\Capita selecta MIA\\LatestCodeRegistration\\CapitaSelectaCode-main\\Registration\\parameters\\Par0001affine.txt -p C:\\Users\\20192757\\Documents\\Year 4 (Master)\\Q3\\Capita selecta MIA\\LatestCodeRegistration\\CapitaSelectaCode-main\\Registration\\parameters\\Par0001bspline04.txt -out C:\\Users\\20192757\\Documents\\Year 4 (Master)\\Q3\\Capita selecta MIA\\LatestCodeRegistration\\CapitaSelectaCode-main\\Registration\\results\\23-04-03_09-21-52\\p141\\p108\n",
      "C:\\Users\\20192757\\Documents\\Year 4 (Master)\\Q3\\Capita selecta MIA\\elastix-5.0.0-win64\\elastix.exe -f C:\\Users\\20192757\\Documents\\Year 4 (Master)\\Q3\\Capita selecta MIA\\LatestCodeRegistration\\CapitaSelectaCode-main\\Registration\\DataPreProcessed\\p141\\mr_bffe.mhd -m C:\\Users\\20192757\\Documents\\Year 4 (Master)\\Q3\\Capita selecta MIA\\LatestCodeRegistration\\CapitaSelectaCode-main\\Registration\\DataPreProcessed\\p109\\mr_bffe.mhd -p C:\\Users\\20192757\\Documents\\Year 4 (Master)\\Q3\\Capita selecta MIA\\LatestCodeRegistration\\CapitaSelectaCode-main\\Registration\\parameters\\Par0001translation.txt -p C:\\Users\\20192757\\Documents\\Year 4 (Master)\\Q3\\Capita selecta MIA\\LatestCodeRegistration\\CapitaSelectaCode-main\\Registration\\parameters\\Par0001affine.txt -p C:\\Users\\20192757\\Documents\\Year 4 (Master)\\Q3\\Capita selecta MIA\\LatestCodeRegistration\\CapitaSelectaCode-main\\Registration\\parameters\\Par0001bspline04.txt -out C:\\Users\\20192757\\Documents\\Year 4 (Master)\\Q3\\Capita selecta MIA\\LatestCodeRegistration\\CapitaSelectaCode-main\\Registration\\results\\23-04-03_09-21-52\\p141\\p109\n",
      "C:\\Users\\20192757\\Documents\\Year 4 (Master)\\Q3\\Capita selecta MIA\\elastix-5.0.0-win64\\elastix.exe -f C:\\Users\\20192757\\Documents\\Year 4 (Master)\\Q3\\Capita selecta MIA\\LatestCodeRegistration\\CapitaSelectaCode-main\\Registration\\DataPreProcessed\\p141\\mr_bffe.mhd -m C:\\Users\\20192757\\Documents\\Year 4 (Master)\\Q3\\Capita selecta MIA\\LatestCodeRegistration\\CapitaSelectaCode-main\\Registration\\DataPreProcessed\\p115\\mr_bffe.mhd -p C:\\Users\\20192757\\Documents\\Year 4 (Master)\\Q3\\Capita selecta MIA\\LatestCodeRegistration\\CapitaSelectaCode-main\\Registration\\parameters\\Par0001translation.txt -p C:\\Users\\20192757\\Documents\\Year 4 (Master)\\Q3\\Capita selecta MIA\\LatestCodeRegistration\\CapitaSelectaCode-main\\Registration\\parameters\\Par0001affine.txt -p C:\\Users\\20192757\\Documents\\Year 4 (Master)\\Q3\\Capita selecta MIA\\LatestCodeRegistration\\CapitaSelectaCode-main\\Registration\\parameters\\Par0001bspline04.txt -out C:\\Users\\20192757\\Documents\\Year 4 (Master)\\Q3\\Capita selecta MIA\\LatestCodeRegistration\\CapitaSelectaCode-main\\Registration\\results\\23-04-03_09-21-52\\p141\\p115\n",
      "C:\\Users\\20192757\\Documents\\Year 4 (Master)\\Q3\\Capita selecta MIA\\elastix-5.0.0-win64\\elastix.exe -f C:\\Users\\20192757\\Documents\\Year 4 (Master)\\Q3\\Capita selecta MIA\\LatestCodeRegistration\\CapitaSelectaCode-main\\Registration\\DataPreProcessed\\p141\\mr_bffe.mhd -m C:\\Users\\20192757\\Documents\\Year 4 (Master)\\Q3\\Capita selecta MIA\\LatestCodeRegistration\\CapitaSelectaCode-main\\Registration\\DataPreProcessed\\p116\\mr_bffe.mhd -p C:\\Users\\20192757\\Documents\\Year 4 (Master)\\Q3\\Capita selecta MIA\\LatestCodeRegistration\\CapitaSelectaCode-main\\Registration\\parameters\\Par0001translation.txt -p C:\\Users\\20192757\\Documents\\Year 4 (Master)\\Q3\\Capita selecta MIA\\LatestCodeRegistration\\CapitaSelectaCode-main\\Registration\\parameters\\Par0001affine.txt -p C:\\Users\\20192757\\Documents\\Year 4 (Master)\\Q3\\Capita selecta MIA\\LatestCodeRegistration\\CapitaSelectaCode-main\\Registration\\parameters\\Par0001bspline04.txt -out C:\\Users\\20192757\\Documents\\Year 4 (Master)\\Q3\\Capita selecta MIA\\LatestCodeRegistration\\CapitaSelectaCode-main\\Registration\\results\\23-04-03_09-21-52\\p141\\p116\n",
      "C:\\Users\\20192757\\Documents\\Year 4 (Master)\\Q3\\Capita selecta MIA\\elastix-5.0.0-win64\\elastix.exe -f C:\\Users\\20192757\\Documents\\Year 4 (Master)\\Q3\\Capita selecta MIA\\LatestCodeRegistration\\CapitaSelectaCode-main\\Registration\\DataPreProcessed\\p141\\mr_bffe.mhd -m C:\\Users\\20192757\\Documents\\Year 4 (Master)\\Q3\\Capita selecta MIA\\LatestCodeRegistration\\CapitaSelectaCode-main\\Registration\\DataPreProcessed\\p119\\mr_bffe.mhd -p C:\\Users\\20192757\\Documents\\Year 4 (Master)\\Q3\\Capita selecta MIA\\LatestCodeRegistration\\CapitaSelectaCode-main\\Registration\\parameters\\Par0001translation.txt -p C:\\Users\\20192757\\Documents\\Year 4 (Master)\\Q3\\Capita selecta MIA\\LatestCodeRegistration\\CapitaSelectaCode-main\\Registration\\parameters\\Par0001affine.txt -p C:\\Users\\20192757\\Documents\\Year 4 (Master)\\Q3\\Capita selecta MIA\\LatestCodeRegistration\\CapitaSelectaCode-main\\Registration\\parameters\\Par0001bspline04.txt -out C:\\Users\\20192757\\Documents\\Year 4 (Master)\\Q3\\Capita selecta MIA\\LatestCodeRegistration\\CapitaSelectaCode-main\\Registration\\results\\23-04-03_09-21-52\\p141\\p119\n",
      "C:\\Users\\20192757\\Documents\\Year 4 (Master)\\Q3\\Capita selecta MIA\\elastix-5.0.0-win64\\elastix.exe -f C:\\Users\\20192757\\Documents\\Year 4 (Master)\\Q3\\Capita selecta MIA\\LatestCodeRegistration\\CapitaSelectaCode-main\\Registration\\DataPreProcessed\\p141\\mr_bffe.mhd -m C:\\Users\\20192757\\Documents\\Year 4 (Master)\\Q3\\Capita selecta MIA\\LatestCodeRegistration\\CapitaSelectaCode-main\\Registration\\DataPreProcessed\\p125\\mr_bffe.mhd -p C:\\Users\\20192757\\Documents\\Year 4 (Master)\\Q3\\Capita selecta MIA\\LatestCodeRegistration\\CapitaSelectaCode-main\\Registration\\parameters\\Par0001translation.txt -p C:\\Users\\20192757\\Documents\\Year 4 (Master)\\Q3\\Capita selecta MIA\\LatestCodeRegistration\\CapitaSelectaCode-main\\Registration\\parameters\\Par0001affine.txt -p C:\\Users\\20192757\\Documents\\Year 4 (Master)\\Q3\\Capita selecta MIA\\LatestCodeRegistration\\CapitaSelectaCode-main\\Registration\\parameters\\Par0001bspline04.txt -out C:\\Users\\20192757\\Documents\\Year 4 (Master)\\Q3\\Capita selecta MIA\\LatestCodeRegistration\\CapitaSelectaCode-main\\Registration\\results\\23-04-03_09-21-52\\p141\\p125\n",
      "C:\\Users\\20192757\\Documents\\Year 4 (Master)\\Q3\\Capita selecta MIA\\elastix-5.0.0-win64\\elastix.exe -f C:\\Users\\20192757\\Documents\\Year 4 (Master)\\Q3\\Capita selecta MIA\\LatestCodeRegistration\\CapitaSelectaCode-main\\Registration\\DataPreProcessed\\p141\\mr_bffe.mhd -m C:\\Users\\20192757\\Documents\\Year 4 (Master)\\Q3\\Capita selecta MIA\\LatestCodeRegistration\\CapitaSelectaCode-main\\Registration\\DataPreProcessed\\p127\\mr_bffe.mhd -p C:\\Users\\20192757\\Documents\\Year 4 (Master)\\Q3\\Capita selecta MIA\\LatestCodeRegistration\\CapitaSelectaCode-main\\Registration\\parameters\\Par0001translation.txt -p C:\\Users\\20192757\\Documents\\Year 4 (Master)\\Q3\\Capita selecta MIA\\LatestCodeRegistration\\CapitaSelectaCode-main\\Registration\\parameters\\Par0001affine.txt -p C:\\Users\\20192757\\Documents\\Year 4 (Master)\\Q3\\Capita selecta MIA\\LatestCodeRegistration\\CapitaSelectaCode-main\\Registration\\parameters\\Par0001bspline04.txt -out C:\\Users\\20192757\\Documents\\Year 4 (Master)\\Q3\\Capita selecta MIA\\LatestCodeRegistration\\CapitaSelectaCode-main\\Registration\\results\\23-04-03_09-21-52\\p141\\p127\n"
     ]
    },
    {
     "name": "stdout",
     "output_type": "stream",
     "text": [
      "C:\\Users\\20192757\\Documents\\Year 4 (Master)\\Q3\\Capita selecta MIA\\elastix-5.0.0-win64\\elastix.exe -f C:\\Users\\20192757\\Documents\\Year 4 (Master)\\Q3\\Capita selecta MIA\\LatestCodeRegistration\\CapitaSelectaCode-main\\Registration\\DataPreProcessed\\p141\\mr_bffe.mhd -m C:\\Users\\20192757\\Documents\\Year 4 (Master)\\Q3\\Capita selecta MIA\\LatestCodeRegistration\\CapitaSelectaCode-main\\Registration\\DataPreProcessed\\p128\\mr_bffe.mhd -p C:\\Users\\20192757\\Documents\\Year 4 (Master)\\Q3\\Capita selecta MIA\\LatestCodeRegistration\\CapitaSelectaCode-main\\Registration\\parameters\\Par0001translation.txt -p C:\\Users\\20192757\\Documents\\Year 4 (Master)\\Q3\\Capita selecta MIA\\LatestCodeRegistration\\CapitaSelectaCode-main\\Registration\\parameters\\Par0001affine.txt -p C:\\Users\\20192757\\Documents\\Year 4 (Master)\\Q3\\Capita selecta MIA\\LatestCodeRegistration\\CapitaSelectaCode-main\\Registration\\parameters\\Par0001bspline04.txt -out C:\\Users\\20192757\\Documents\\Year 4 (Master)\\Q3\\Capita selecta MIA\\LatestCodeRegistration\\CapitaSelectaCode-main\\Registration\\results\\23-04-03_09-21-52\\p141\\p128\n",
      "C:\\Users\\20192757\\Documents\\Year 4 (Master)\\Q3\\Capita selecta MIA\\elastix-5.0.0-win64\\elastix.exe -f C:\\Users\\20192757\\Documents\\Year 4 (Master)\\Q3\\Capita selecta MIA\\LatestCodeRegistration\\CapitaSelectaCode-main\\Registration\\DataPreProcessed\\p141\\mr_bffe.mhd -m C:\\Users\\20192757\\Documents\\Year 4 (Master)\\Q3\\Capita selecta MIA\\LatestCodeRegistration\\CapitaSelectaCode-main\\Registration\\DataPreProcessed\\p129\\mr_bffe.mhd -p C:\\Users\\20192757\\Documents\\Year 4 (Master)\\Q3\\Capita selecta MIA\\LatestCodeRegistration\\CapitaSelectaCode-main\\Registration\\parameters\\Par0001translation.txt -p C:\\Users\\20192757\\Documents\\Year 4 (Master)\\Q3\\Capita selecta MIA\\LatestCodeRegistration\\CapitaSelectaCode-main\\Registration\\parameters\\Par0001affine.txt -p C:\\Users\\20192757\\Documents\\Year 4 (Master)\\Q3\\Capita selecta MIA\\LatestCodeRegistration\\CapitaSelectaCode-main\\Registration\\parameters\\Par0001bspline04.txt -out C:\\Users\\20192757\\Documents\\Year 4 (Master)\\Q3\\Capita selecta MIA\\LatestCodeRegistration\\CapitaSelectaCode-main\\Registration\\results\\23-04-03_09-21-52\\p141\\p129\n",
      "C:\\Users\\20192757\\Documents\\Year 4 (Master)\\Q3\\Capita selecta MIA\\elastix-5.0.0-win64\\elastix.exe -f C:\\Users\\20192757\\Documents\\Year 4 (Master)\\Q3\\Capita selecta MIA\\LatestCodeRegistration\\CapitaSelectaCode-main\\Registration\\DataPreProcessed\\p141\\mr_bffe.mhd -m C:\\Users\\20192757\\Documents\\Year 4 (Master)\\Q3\\Capita selecta MIA\\LatestCodeRegistration\\CapitaSelectaCode-main\\Registration\\DataPreProcessed\\p133\\mr_bffe.mhd -p C:\\Users\\20192757\\Documents\\Year 4 (Master)\\Q3\\Capita selecta MIA\\LatestCodeRegistration\\CapitaSelectaCode-main\\Registration\\parameters\\Par0001translation.txt -p C:\\Users\\20192757\\Documents\\Year 4 (Master)\\Q3\\Capita selecta MIA\\LatestCodeRegistration\\CapitaSelectaCode-main\\Registration\\parameters\\Par0001affine.txt -p C:\\Users\\20192757\\Documents\\Year 4 (Master)\\Q3\\Capita selecta MIA\\LatestCodeRegistration\\CapitaSelectaCode-main\\Registration\\parameters\\Par0001bspline04.txt -out C:\\Users\\20192757\\Documents\\Year 4 (Master)\\Q3\\Capita selecta MIA\\LatestCodeRegistration\\CapitaSelectaCode-main\\Registration\\results\\23-04-03_09-21-52\\p141\\p133\n",
      "C:\\Users\\20192757\\Documents\\Year 4 (Master)\\Q3\\Capita selecta MIA\\elastix-5.0.0-win64\\elastix.exe -f C:\\Users\\20192757\\Documents\\Year 4 (Master)\\Q3\\Capita selecta MIA\\LatestCodeRegistration\\CapitaSelectaCode-main\\Registration\\DataPreProcessed\\p141\\mr_bffe.mhd -m C:\\Users\\20192757\\Documents\\Year 4 (Master)\\Q3\\Capita selecta MIA\\LatestCodeRegistration\\CapitaSelectaCode-main\\Registration\\DataPreProcessed\\p135\\mr_bffe.mhd -p C:\\Users\\20192757\\Documents\\Year 4 (Master)\\Q3\\Capita selecta MIA\\LatestCodeRegistration\\CapitaSelectaCode-main\\Registration\\parameters\\Par0001translation.txt -p C:\\Users\\20192757\\Documents\\Year 4 (Master)\\Q3\\Capita selecta MIA\\LatestCodeRegistration\\CapitaSelectaCode-main\\Registration\\parameters\\Par0001affine.txt -p C:\\Users\\20192757\\Documents\\Year 4 (Master)\\Q3\\Capita selecta MIA\\LatestCodeRegistration\\CapitaSelectaCode-main\\Registration\\parameters\\Par0001bspline04.txt -out C:\\Users\\20192757\\Documents\\Year 4 (Master)\\Q3\\Capita selecta MIA\\LatestCodeRegistration\\CapitaSelectaCode-main\\Registration\\results\\23-04-03_09-21-52\\p141\\p135\n"
     ]
    },
    {
     "name": "stderr",
     "output_type": "stream",
     "text": [
      "\r",
      " 40%|████      | 2/5 [1:22:02<2:02:31, 2450.57s/it]"
     ]
    },
    {
     "name": "stdout",
     "output_type": "stream",
     "text": [
      "C:\\Users\\20192757\\Documents\\Year 4 (Master)\\Q3\\Capita selecta MIA\\elastix-5.0.0-win64\\elastix.exe -f C:\\Users\\20192757\\Documents\\Year 4 (Master)\\Q3\\Capita selecta MIA\\LatestCodeRegistration\\CapitaSelectaCode-main\\Registration\\DataPreProcessed\\p143\\mr_bffe.mhd -m C:\\Users\\20192757\\Documents\\Year 4 (Master)\\Q3\\Capita selecta MIA\\LatestCodeRegistration\\CapitaSelectaCode-main\\Registration\\DataPreProcessed\\p102\\mr_bffe.mhd -p C:\\Users\\20192757\\Documents\\Year 4 (Master)\\Q3\\Capita selecta MIA\\LatestCodeRegistration\\CapitaSelectaCode-main\\Registration\\parameters\\Par0001translation.txt -p C:\\Users\\20192757\\Documents\\Year 4 (Master)\\Q3\\Capita selecta MIA\\LatestCodeRegistration\\CapitaSelectaCode-main\\Registration\\parameters\\Par0001affine.txt -p C:\\Users\\20192757\\Documents\\Year 4 (Master)\\Q3\\Capita selecta MIA\\LatestCodeRegistration\\CapitaSelectaCode-main\\Registration\\parameters\\Par0001bspline04.txt -out C:\\Users\\20192757\\Documents\\Year 4 (Master)\\Q3\\Capita selecta MIA\\LatestCodeRegistration\\CapitaSelectaCode-main\\Registration\\results\\23-04-03_09-21-52\\p143\\p102\n",
      "C:\\Users\\20192757\\Documents\\Year 4 (Master)\\Q3\\Capita selecta MIA\\elastix-5.0.0-win64\\elastix.exe -f C:\\Users\\20192757\\Documents\\Year 4 (Master)\\Q3\\Capita selecta MIA\\LatestCodeRegistration\\CapitaSelectaCode-main\\Registration\\DataPreProcessed\\p143\\mr_bffe.mhd -m C:\\Users\\20192757\\Documents\\Year 4 (Master)\\Q3\\Capita selecta MIA\\LatestCodeRegistration\\CapitaSelectaCode-main\\Registration\\DataPreProcessed\\p108\\mr_bffe.mhd -p C:\\Users\\20192757\\Documents\\Year 4 (Master)\\Q3\\Capita selecta MIA\\LatestCodeRegistration\\CapitaSelectaCode-main\\Registration\\parameters\\Par0001translation.txt -p C:\\Users\\20192757\\Documents\\Year 4 (Master)\\Q3\\Capita selecta MIA\\LatestCodeRegistration\\CapitaSelectaCode-main\\Registration\\parameters\\Par0001affine.txt -p C:\\Users\\20192757\\Documents\\Year 4 (Master)\\Q3\\Capita selecta MIA\\LatestCodeRegistration\\CapitaSelectaCode-main\\Registration\\parameters\\Par0001bspline04.txt -out C:\\Users\\20192757\\Documents\\Year 4 (Master)\\Q3\\Capita selecta MIA\\LatestCodeRegistration\\CapitaSelectaCode-main\\Registration\\results\\23-04-03_09-21-52\\p143\\p108\n",
      "C:\\Users\\20192757\\Documents\\Year 4 (Master)\\Q3\\Capita selecta MIA\\elastix-5.0.0-win64\\elastix.exe -f C:\\Users\\20192757\\Documents\\Year 4 (Master)\\Q3\\Capita selecta MIA\\LatestCodeRegistration\\CapitaSelectaCode-main\\Registration\\DataPreProcessed\\p143\\mr_bffe.mhd -m C:\\Users\\20192757\\Documents\\Year 4 (Master)\\Q3\\Capita selecta MIA\\LatestCodeRegistration\\CapitaSelectaCode-main\\Registration\\DataPreProcessed\\p109\\mr_bffe.mhd -p C:\\Users\\20192757\\Documents\\Year 4 (Master)\\Q3\\Capita selecta MIA\\LatestCodeRegistration\\CapitaSelectaCode-main\\Registration\\parameters\\Par0001translation.txt -p C:\\Users\\20192757\\Documents\\Year 4 (Master)\\Q3\\Capita selecta MIA\\LatestCodeRegistration\\CapitaSelectaCode-main\\Registration\\parameters\\Par0001affine.txt -p C:\\Users\\20192757\\Documents\\Year 4 (Master)\\Q3\\Capita selecta MIA\\LatestCodeRegistration\\CapitaSelectaCode-main\\Registration\\parameters\\Par0001bspline04.txt -out C:\\Users\\20192757\\Documents\\Year 4 (Master)\\Q3\\Capita selecta MIA\\LatestCodeRegistration\\CapitaSelectaCode-main\\Registration\\results\\23-04-03_09-21-52\\p143\\p109\n",
      "C:\\Users\\20192757\\Documents\\Year 4 (Master)\\Q3\\Capita selecta MIA\\elastix-5.0.0-win64\\elastix.exe -f C:\\Users\\20192757\\Documents\\Year 4 (Master)\\Q3\\Capita selecta MIA\\LatestCodeRegistration\\CapitaSelectaCode-main\\Registration\\DataPreProcessed\\p143\\mr_bffe.mhd -m C:\\Users\\20192757\\Documents\\Year 4 (Master)\\Q3\\Capita selecta MIA\\LatestCodeRegistration\\CapitaSelectaCode-main\\Registration\\DataPreProcessed\\p115\\mr_bffe.mhd -p C:\\Users\\20192757\\Documents\\Year 4 (Master)\\Q3\\Capita selecta MIA\\LatestCodeRegistration\\CapitaSelectaCode-main\\Registration\\parameters\\Par0001translation.txt -p C:\\Users\\20192757\\Documents\\Year 4 (Master)\\Q3\\Capita selecta MIA\\LatestCodeRegistration\\CapitaSelectaCode-main\\Registration\\parameters\\Par0001affine.txt -p C:\\Users\\20192757\\Documents\\Year 4 (Master)\\Q3\\Capita selecta MIA\\LatestCodeRegistration\\CapitaSelectaCode-main\\Registration\\parameters\\Par0001bspline04.txt -out C:\\Users\\20192757\\Documents\\Year 4 (Master)\\Q3\\Capita selecta MIA\\LatestCodeRegistration\\CapitaSelectaCode-main\\Registration\\results\\23-04-03_09-21-52\\p143\\p115\n",
      "C:\\Users\\20192757\\Documents\\Year 4 (Master)\\Q3\\Capita selecta MIA\\elastix-5.0.0-win64\\elastix.exe -f C:\\Users\\20192757\\Documents\\Year 4 (Master)\\Q3\\Capita selecta MIA\\LatestCodeRegistration\\CapitaSelectaCode-main\\Registration\\DataPreProcessed\\p143\\mr_bffe.mhd -m C:\\Users\\20192757\\Documents\\Year 4 (Master)\\Q3\\Capita selecta MIA\\LatestCodeRegistration\\CapitaSelectaCode-main\\Registration\\DataPreProcessed\\p116\\mr_bffe.mhd -p C:\\Users\\20192757\\Documents\\Year 4 (Master)\\Q3\\Capita selecta MIA\\LatestCodeRegistration\\CapitaSelectaCode-main\\Registration\\parameters\\Par0001translation.txt -p C:\\Users\\20192757\\Documents\\Year 4 (Master)\\Q3\\Capita selecta MIA\\LatestCodeRegistration\\CapitaSelectaCode-main\\Registration\\parameters\\Par0001affine.txt -p C:\\Users\\20192757\\Documents\\Year 4 (Master)\\Q3\\Capita selecta MIA\\LatestCodeRegistration\\CapitaSelectaCode-main\\Registration\\parameters\\Par0001bspline04.txt -out C:\\Users\\20192757\\Documents\\Year 4 (Master)\\Q3\\Capita selecta MIA\\LatestCodeRegistration\\CapitaSelectaCode-main\\Registration\\results\\23-04-03_09-21-52\\p143\\p116\n",
      "C:\\Users\\20192757\\Documents\\Year 4 (Master)\\Q3\\Capita selecta MIA\\elastix-5.0.0-win64\\elastix.exe -f C:\\Users\\20192757\\Documents\\Year 4 (Master)\\Q3\\Capita selecta MIA\\LatestCodeRegistration\\CapitaSelectaCode-main\\Registration\\DataPreProcessed\\p143\\mr_bffe.mhd -m C:\\Users\\20192757\\Documents\\Year 4 (Master)\\Q3\\Capita selecta MIA\\LatestCodeRegistration\\CapitaSelectaCode-main\\Registration\\DataPreProcessed\\p119\\mr_bffe.mhd -p C:\\Users\\20192757\\Documents\\Year 4 (Master)\\Q3\\Capita selecta MIA\\LatestCodeRegistration\\CapitaSelectaCode-main\\Registration\\parameters\\Par0001translation.txt -p C:\\Users\\20192757\\Documents\\Year 4 (Master)\\Q3\\Capita selecta MIA\\LatestCodeRegistration\\CapitaSelectaCode-main\\Registration\\parameters\\Par0001affine.txt -p C:\\Users\\20192757\\Documents\\Year 4 (Master)\\Q3\\Capita selecta MIA\\LatestCodeRegistration\\CapitaSelectaCode-main\\Registration\\parameters\\Par0001bspline04.txt -out C:\\Users\\20192757\\Documents\\Year 4 (Master)\\Q3\\Capita selecta MIA\\LatestCodeRegistration\\CapitaSelectaCode-main\\Registration\\results\\23-04-03_09-21-52\\p143\\p119\n",
      "C:\\Users\\20192757\\Documents\\Year 4 (Master)\\Q3\\Capita selecta MIA\\elastix-5.0.0-win64\\elastix.exe -f C:\\Users\\20192757\\Documents\\Year 4 (Master)\\Q3\\Capita selecta MIA\\LatestCodeRegistration\\CapitaSelectaCode-main\\Registration\\DataPreProcessed\\p143\\mr_bffe.mhd -m C:\\Users\\20192757\\Documents\\Year 4 (Master)\\Q3\\Capita selecta MIA\\LatestCodeRegistration\\CapitaSelectaCode-main\\Registration\\DataPreProcessed\\p125\\mr_bffe.mhd -p C:\\Users\\20192757\\Documents\\Year 4 (Master)\\Q3\\Capita selecta MIA\\LatestCodeRegistration\\CapitaSelectaCode-main\\Registration\\parameters\\Par0001translation.txt -p C:\\Users\\20192757\\Documents\\Year 4 (Master)\\Q3\\Capita selecta MIA\\LatestCodeRegistration\\CapitaSelectaCode-main\\Registration\\parameters\\Par0001affine.txt -p C:\\Users\\20192757\\Documents\\Year 4 (Master)\\Q3\\Capita selecta MIA\\LatestCodeRegistration\\CapitaSelectaCode-main\\Registration\\parameters\\Par0001bspline04.txt -out C:\\Users\\20192757\\Documents\\Year 4 (Master)\\Q3\\Capita selecta MIA\\LatestCodeRegistration\\CapitaSelectaCode-main\\Registration\\results\\23-04-03_09-21-52\\p143\\p125\n",
      "C:\\Users\\20192757\\Documents\\Year 4 (Master)\\Q3\\Capita selecta MIA\\elastix-5.0.0-win64\\elastix.exe -f C:\\Users\\20192757\\Documents\\Year 4 (Master)\\Q3\\Capita selecta MIA\\LatestCodeRegistration\\CapitaSelectaCode-main\\Registration\\DataPreProcessed\\p143\\mr_bffe.mhd -m C:\\Users\\20192757\\Documents\\Year 4 (Master)\\Q3\\Capita selecta MIA\\LatestCodeRegistration\\CapitaSelectaCode-main\\Registration\\DataPreProcessed\\p127\\mr_bffe.mhd -p C:\\Users\\20192757\\Documents\\Year 4 (Master)\\Q3\\Capita selecta MIA\\LatestCodeRegistration\\CapitaSelectaCode-main\\Registration\\parameters\\Par0001translation.txt -p C:\\Users\\20192757\\Documents\\Year 4 (Master)\\Q3\\Capita selecta MIA\\LatestCodeRegistration\\CapitaSelectaCode-main\\Registration\\parameters\\Par0001affine.txt -p C:\\Users\\20192757\\Documents\\Year 4 (Master)\\Q3\\Capita selecta MIA\\LatestCodeRegistration\\CapitaSelectaCode-main\\Registration\\parameters\\Par0001bspline04.txt -out C:\\Users\\20192757\\Documents\\Year 4 (Master)\\Q3\\Capita selecta MIA\\LatestCodeRegistration\\CapitaSelectaCode-main\\Registration\\results\\23-04-03_09-21-52\\p143\\p127\n"
     ]
    },
    {
     "name": "stdout",
     "output_type": "stream",
     "text": [
      "C:\\Users\\20192757\\Documents\\Year 4 (Master)\\Q3\\Capita selecta MIA\\elastix-5.0.0-win64\\elastix.exe -f C:\\Users\\20192757\\Documents\\Year 4 (Master)\\Q3\\Capita selecta MIA\\LatestCodeRegistration\\CapitaSelectaCode-main\\Registration\\DataPreProcessed\\p143\\mr_bffe.mhd -m C:\\Users\\20192757\\Documents\\Year 4 (Master)\\Q3\\Capita selecta MIA\\LatestCodeRegistration\\CapitaSelectaCode-main\\Registration\\DataPreProcessed\\p128\\mr_bffe.mhd -p C:\\Users\\20192757\\Documents\\Year 4 (Master)\\Q3\\Capita selecta MIA\\LatestCodeRegistration\\CapitaSelectaCode-main\\Registration\\parameters\\Par0001translation.txt -p C:\\Users\\20192757\\Documents\\Year 4 (Master)\\Q3\\Capita selecta MIA\\LatestCodeRegistration\\CapitaSelectaCode-main\\Registration\\parameters\\Par0001affine.txt -p C:\\Users\\20192757\\Documents\\Year 4 (Master)\\Q3\\Capita selecta MIA\\LatestCodeRegistration\\CapitaSelectaCode-main\\Registration\\parameters\\Par0001bspline04.txt -out C:\\Users\\20192757\\Documents\\Year 4 (Master)\\Q3\\Capita selecta MIA\\LatestCodeRegistration\\CapitaSelectaCode-main\\Registration\\results\\23-04-03_09-21-52\\p143\\p128\n",
      "C:\\Users\\20192757\\Documents\\Year 4 (Master)\\Q3\\Capita selecta MIA\\elastix-5.0.0-win64\\elastix.exe -f C:\\Users\\20192757\\Documents\\Year 4 (Master)\\Q3\\Capita selecta MIA\\LatestCodeRegistration\\CapitaSelectaCode-main\\Registration\\DataPreProcessed\\p143\\mr_bffe.mhd -m C:\\Users\\20192757\\Documents\\Year 4 (Master)\\Q3\\Capita selecta MIA\\LatestCodeRegistration\\CapitaSelectaCode-main\\Registration\\DataPreProcessed\\p129\\mr_bffe.mhd -p C:\\Users\\20192757\\Documents\\Year 4 (Master)\\Q3\\Capita selecta MIA\\LatestCodeRegistration\\CapitaSelectaCode-main\\Registration\\parameters\\Par0001translation.txt -p C:\\Users\\20192757\\Documents\\Year 4 (Master)\\Q3\\Capita selecta MIA\\LatestCodeRegistration\\CapitaSelectaCode-main\\Registration\\parameters\\Par0001affine.txt -p C:\\Users\\20192757\\Documents\\Year 4 (Master)\\Q3\\Capita selecta MIA\\LatestCodeRegistration\\CapitaSelectaCode-main\\Registration\\parameters\\Par0001bspline04.txt -out C:\\Users\\20192757\\Documents\\Year 4 (Master)\\Q3\\Capita selecta MIA\\LatestCodeRegistration\\CapitaSelectaCode-main\\Registration\\results\\23-04-03_09-21-52\\p143\\p129\n",
      "C:\\Users\\20192757\\Documents\\Year 4 (Master)\\Q3\\Capita selecta MIA\\elastix-5.0.0-win64\\elastix.exe -f C:\\Users\\20192757\\Documents\\Year 4 (Master)\\Q3\\Capita selecta MIA\\LatestCodeRegistration\\CapitaSelectaCode-main\\Registration\\DataPreProcessed\\p143\\mr_bffe.mhd -m C:\\Users\\20192757\\Documents\\Year 4 (Master)\\Q3\\Capita selecta MIA\\LatestCodeRegistration\\CapitaSelectaCode-main\\Registration\\DataPreProcessed\\p133\\mr_bffe.mhd -p C:\\Users\\20192757\\Documents\\Year 4 (Master)\\Q3\\Capita selecta MIA\\LatestCodeRegistration\\CapitaSelectaCode-main\\Registration\\parameters\\Par0001translation.txt -p C:\\Users\\20192757\\Documents\\Year 4 (Master)\\Q3\\Capita selecta MIA\\LatestCodeRegistration\\CapitaSelectaCode-main\\Registration\\parameters\\Par0001affine.txt -p C:\\Users\\20192757\\Documents\\Year 4 (Master)\\Q3\\Capita selecta MIA\\LatestCodeRegistration\\CapitaSelectaCode-main\\Registration\\parameters\\Par0001bspline04.txt -out C:\\Users\\20192757\\Documents\\Year 4 (Master)\\Q3\\Capita selecta MIA\\LatestCodeRegistration\\CapitaSelectaCode-main\\Registration\\results\\23-04-03_09-21-52\\p143\\p133\n",
      "C:\\Users\\20192757\\Documents\\Year 4 (Master)\\Q3\\Capita selecta MIA\\elastix-5.0.0-win64\\elastix.exe -f C:\\Users\\20192757\\Documents\\Year 4 (Master)\\Q3\\Capita selecta MIA\\LatestCodeRegistration\\CapitaSelectaCode-main\\Registration\\DataPreProcessed\\p143\\mr_bffe.mhd -m C:\\Users\\20192757\\Documents\\Year 4 (Master)\\Q3\\Capita selecta MIA\\LatestCodeRegistration\\CapitaSelectaCode-main\\Registration\\DataPreProcessed\\p135\\mr_bffe.mhd -p C:\\Users\\20192757\\Documents\\Year 4 (Master)\\Q3\\Capita selecta MIA\\LatestCodeRegistration\\CapitaSelectaCode-main\\Registration\\parameters\\Par0001translation.txt -p C:\\Users\\20192757\\Documents\\Year 4 (Master)\\Q3\\Capita selecta MIA\\LatestCodeRegistration\\CapitaSelectaCode-main\\Registration\\parameters\\Par0001affine.txt -p C:\\Users\\20192757\\Documents\\Year 4 (Master)\\Q3\\Capita selecta MIA\\LatestCodeRegistration\\CapitaSelectaCode-main\\Registration\\parameters\\Par0001bspline04.txt -out C:\\Users\\20192757\\Documents\\Year 4 (Master)\\Q3\\Capita selecta MIA\\LatestCodeRegistration\\CapitaSelectaCode-main\\Registration\\results\\23-04-03_09-21-52\\p143\\p135\n"
     ]
    },
    {
     "name": "stderr",
     "output_type": "stream",
     "text": [
      "\r",
      " 60%|██████    | 3/5 [1:46:44<1:06:56, 2008.39s/it]"
     ]
    },
    {
     "name": "stdout",
     "output_type": "stream",
     "text": [
      "C:\\Users\\20192757\\Documents\\Year 4 (Master)\\Q3\\Capita selecta MIA\\elastix-5.0.0-win64\\elastix.exe -f C:\\Users\\20192757\\Documents\\Year 4 (Master)\\Q3\\Capita selecta MIA\\LatestCodeRegistration\\CapitaSelectaCode-main\\Registration\\DataPreProcessed\\p144\\mr_bffe.mhd -m C:\\Users\\20192757\\Documents\\Year 4 (Master)\\Q3\\Capita selecta MIA\\LatestCodeRegistration\\CapitaSelectaCode-main\\Registration\\DataPreProcessed\\p102\\mr_bffe.mhd -p C:\\Users\\20192757\\Documents\\Year 4 (Master)\\Q3\\Capita selecta MIA\\LatestCodeRegistration\\CapitaSelectaCode-main\\Registration\\parameters\\Par0001translation.txt -p C:\\Users\\20192757\\Documents\\Year 4 (Master)\\Q3\\Capita selecta MIA\\LatestCodeRegistration\\CapitaSelectaCode-main\\Registration\\parameters\\Par0001affine.txt -p C:\\Users\\20192757\\Documents\\Year 4 (Master)\\Q3\\Capita selecta MIA\\LatestCodeRegistration\\CapitaSelectaCode-main\\Registration\\parameters\\Par0001bspline04.txt -out C:\\Users\\20192757\\Documents\\Year 4 (Master)\\Q3\\Capita selecta MIA\\LatestCodeRegistration\\CapitaSelectaCode-main\\Registration\\results\\23-04-03_09-21-52\\p144\\p102\n",
      "C:\\Users\\20192757\\Documents\\Year 4 (Master)\\Q3\\Capita selecta MIA\\elastix-5.0.0-win64\\elastix.exe -f C:\\Users\\20192757\\Documents\\Year 4 (Master)\\Q3\\Capita selecta MIA\\LatestCodeRegistration\\CapitaSelectaCode-main\\Registration\\DataPreProcessed\\p144\\mr_bffe.mhd -m C:\\Users\\20192757\\Documents\\Year 4 (Master)\\Q3\\Capita selecta MIA\\LatestCodeRegistration\\CapitaSelectaCode-main\\Registration\\DataPreProcessed\\p108\\mr_bffe.mhd -p C:\\Users\\20192757\\Documents\\Year 4 (Master)\\Q3\\Capita selecta MIA\\LatestCodeRegistration\\CapitaSelectaCode-main\\Registration\\parameters\\Par0001translation.txt -p C:\\Users\\20192757\\Documents\\Year 4 (Master)\\Q3\\Capita selecta MIA\\LatestCodeRegistration\\CapitaSelectaCode-main\\Registration\\parameters\\Par0001affine.txt -p C:\\Users\\20192757\\Documents\\Year 4 (Master)\\Q3\\Capita selecta MIA\\LatestCodeRegistration\\CapitaSelectaCode-main\\Registration\\parameters\\Par0001bspline04.txt -out C:\\Users\\20192757\\Documents\\Year 4 (Master)\\Q3\\Capita selecta MIA\\LatestCodeRegistration\\CapitaSelectaCode-main\\Registration\\results\\23-04-03_09-21-52\\p144\\p108\n",
      "C:\\Users\\20192757\\Documents\\Year 4 (Master)\\Q3\\Capita selecta MIA\\elastix-5.0.0-win64\\elastix.exe -f C:\\Users\\20192757\\Documents\\Year 4 (Master)\\Q3\\Capita selecta MIA\\LatestCodeRegistration\\CapitaSelectaCode-main\\Registration\\DataPreProcessed\\p144\\mr_bffe.mhd -m C:\\Users\\20192757\\Documents\\Year 4 (Master)\\Q3\\Capita selecta MIA\\LatestCodeRegistration\\CapitaSelectaCode-main\\Registration\\DataPreProcessed\\p109\\mr_bffe.mhd -p C:\\Users\\20192757\\Documents\\Year 4 (Master)\\Q3\\Capita selecta MIA\\LatestCodeRegistration\\CapitaSelectaCode-main\\Registration\\parameters\\Par0001translation.txt -p C:\\Users\\20192757\\Documents\\Year 4 (Master)\\Q3\\Capita selecta MIA\\LatestCodeRegistration\\CapitaSelectaCode-main\\Registration\\parameters\\Par0001affine.txt -p C:\\Users\\20192757\\Documents\\Year 4 (Master)\\Q3\\Capita selecta MIA\\LatestCodeRegistration\\CapitaSelectaCode-main\\Registration\\parameters\\Par0001bspline04.txt -out C:\\Users\\20192757\\Documents\\Year 4 (Master)\\Q3\\Capita selecta MIA\\LatestCodeRegistration\\CapitaSelectaCode-main\\Registration\\results\\23-04-03_09-21-52\\p144\\p109\n",
      "C:\\Users\\20192757\\Documents\\Year 4 (Master)\\Q3\\Capita selecta MIA\\elastix-5.0.0-win64\\elastix.exe -f C:\\Users\\20192757\\Documents\\Year 4 (Master)\\Q3\\Capita selecta MIA\\LatestCodeRegistration\\CapitaSelectaCode-main\\Registration\\DataPreProcessed\\p144\\mr_bffe.mhd -m C:\\Users\\20192757\\Documents\\Year 4 (Master)\\Q3\\Capita selecta MIA\\LatestCodeRegistration\\CapitaSelectaCode-main\\Registration\\DataPreProcessed\\p115\\mr_bffe.mhd -p C:\\Users\\20192757\\Documents\\Year 4 (Master)\\Q3\\Capita selecta MIA\\LatestCodeRegistration\\CapitaSelectaCode-main\\Registration\\parameters\\Par0001translation.txt -p C:\\Users\\20192757\\Documents\\Year 4 (Master)\\Q3\\Capita selecta MIA\\LatestCodeRegistration\\CapitaSelectaCode-main\\Registration\\parameters\\Par0001affine.txt -p C:\\Users\\20192757\\Documents\\Year 4 (Master)\\Q3\\Capita selecta MIA\\LatestCodeRegistration\\CapitaSelectaCode-main\\Registration\\parameters\\Par0001bspline04.txt -out C:\\Users\\20192757\\Documents\\Year 4 (Master)\\Q3\\Capita selecta MIA\\LatestCodeRegistration\\CapitaSelectaCode-main\\Registration\\results\\23-04-03_09-21-52\\p144\\p115\n",
      "C:\\Users\\20192757\\Documents\\Year 4 (Master)\\Q3\\Capita selecta MIA\\elastix-5.0.0-win64\\elastix.exe -f C:\\Users\\20192757\\Documents\\Year 4 (Master)\\Q3\\Capita selecta MIA\\LatestCodeRegistration\\CapitaSelectaCode-main\\Registration\\DataPreProcessed\\p144\\mr_bffe.mhd -m C:\\Users\\20192757\\Documents\\Year 4 (Master)\\Q3\\Capita selecta MIA\\LatestCodeRegistration\\CapitaSelectaCode-main\\Registration\\DataPreProcessed\\p116\\mr_bffe.mhd -p C:\\Users\\20192757\\Documents\\Year 4 (Master)\\Q3\\Capita selecta MIA\\LatestCodeRegistration\\CapitaSelectaCode-main\\Registration\\parameters\\Par0001translation.txt -p C:\\Users\\20192757\\Documents\\Year 4 (Master)\\Q3\\Capita selecta MIA\\LatestCodeRegistration\\CapitaSelectaCode-main\\Registration\\parameters\\Par0001affine.txt -p C:\\Users\\20192757\\Documents\\Year 4 (Master)\\Q3\\Capita selecta MIA\\LatestCodeRegistration\\CapitaSelectaCode-main\\Registration\\parameters\\Par0001bspline04.txt -out C:\\Users\\20192757\\Documents\\Year 4 (Master)\\Q3\\Capita selecta MIA\\LatestCodeRegistration\\CapitaSelectaCode-main\\Registration\\results\\23-04-03_09-21-52\\p144\\p116\n",
      "C:\\Users\\20192757\\Documents\\Year 4 (Master)\\Q3\\Capita selecta MIA\\elastix-5.0.0-win64\\elastix.exe -f C:\\Users\\20192757\\Documents\\Year 4 (Master)\\Q3\\Capita selecta MIA\\LatestCodeRegistration\\CapitaSelectaCode-main\\Registration\\DataPreProcessed\\p144\\mr_bffe.mhd -m C:\\Users\\20192757\\Documents\\Year 4 (Master)\\Q3\\Capita selecta MIA\\LatestCodeRegistration\\CapitaSelectaCode-main\\Registration\\DataPreProcessed\\p119\\mr_bffe.mhd -p C:\\Users\\20192757\\Documents\\Year 4 (Master)\\Q3\\Capita selecta MIA\\LatestCodeRegistration\\CapitaSelectaCode-main\\Registration\\parameters\\Par0001translation.txt -p C:\\Users\\20192757\\Documents\\Year 4 (Master)\\Q3\\Capita selecta MIA\\LatestCodeRegistration\\CapitaSelectaCode-main\\Registration\\parameters\\Par0001affine.txt -p C:\\Users\\20192757\\Documents\\Year 4 (Master)\\Q3\\Capita selecta MIA\\LatestCodeRegistration\\CapitaSelectaCode-main\\Registration\\parameters\\Par0001bspline04.txt -out C:\\Users\\20192757\\Documents\\Year 4 (Master)\\Q3\\Capita selecta MIA\\LatestCodeRegistration\\CapitaSelectaCode-main\\Registration\\results\\23-04-03_09-21-52\\p144\\p119\n",
      "C:\\Users\\20192757\\Documents\\Year 4 (Master)\\Q3\\Capita selecta MIA\\elastix-5.0.0-win64\\elastix.exe -f C:\\Users\\20192757\\Documents\\Year 4 (Master)\\Q3\\Capita selecta MIA\\LatestCodeRegistration\\CapitaSelectaCode-main\\Registration\\DataPreProcessed\\p144\\mr_bffe.mhd -m C:\\Users\\20192757\\Documents\\Year 4 (Master)\\Q3\\Capita selecta MIA\\LatestCodeRegistration\\CapitaSelectaCode-main\\Registration\\DataPreProcessed\\p125\\mr_bffe.mhd -p C:\\Users\\20192757\\Documents\\Year 4 (Master)\\Q3\\Capita selecta MIA\\LatestCodeRegistration\\CapitaSelectaCode-main\\Registration\\parameters\\Par0001translation.txt -p C:\\Users\\20192757\\Documents\\Year 4 (Master)\\Q3\\Capita selecta MIA\\LatestCodeRegistration\\CapitaSelectaCode-main\\Registration\\parameters\\Par0001affine.txt -p C:\\Users\\20192757\\Documents\\Year 4 (Master)\\Q3\\Capita selecta MIA\\LatestCodeRegistration\\CapitaSelectaCode-main\\Registration\\parameters\\Par0001bspline04.txt -out C:\\Users\\20192757\\Documents\\Year 4 (Master)\\Q3\\Capita selecta MIA\\LatestCodeRegistration\\CapitaSelectaCode-main\\Registration\\results\\23-04-03_09-21-52\\p144\\p125\n",
      "C:\\Users\\20192757\\Documents\\Year 4 (Master)\\Q3\\Capita selecta MIA\\elastix-5.0.0-win64\\elastix.exe -f C:\\Users\\20192757\\Documents\\Year 4 (Master)\\Q3\\Capita selecta MIA\\LatestCodeRegistration\\CapitaSelectaCode-main\\Registration\\DataPreProcessed\\p144\\mr_bffe.mhd -m C:\\Users\\20192757\\Documents\\Year 4 (Master)\\Q3\\Capita selecta MIA\\LatestCodeRegistration\\CapitaSelectaCode-main\\Registration\\DataPreProcessed\\p127\\mr_bffe.mhd -p C:\\Users\\20192757\\Documents\\Year 4 (Master)\\Q3\\Capita selecta MIA\\LatestCodeRegistration\\CapitaSelectaCode-main\\Registration\\parameters\\Par0001translation.txt -p C:\\Users\\20192757\\Documents\\Year 4 (Master)\\Q3\\Capita selecta MIA\\LatestCodeRegistration\\CapitaSelectaCode-main\\Registration\\parameters\\Par0001affine.txt -p C:\\Users\\20192757\\Documents\\Year 4 (Master)\\Q3\\Capita selecta MIA\\LatestCodeRegistration\\CapitaSelectaCode-main\\Registration\\parameters\\Par0001bspline04.txt -out C:\\Users\\20192757\\Documents\\Year 4 (Master)\\Q3\\Capita selecta MIA\\LatestCodeRegistration\\CapitaSelectaCode-main\\Registration\\results\\23-04-03_09-21-52\\p144\\p127\n"
     ]
    },
    {
     "name": "stdout",
     "output_type": "stream",
     "text": [
      "C:\\Users\\20192757\\Documents\\Year 4 (Master)\\Q3\\Capita selecta MIA\\elastix-5.0.0-win64\\elastix.exe -f C:\\Users\\20192757\\Documents\\Year 4 (Master)\\Q3\\Capita selecta MIA\\LatestCodeRegistration\\CapitaSelectaCode-main\\Registration\\DataPreProcessed\\p144\\mr_bffe.mhd -m C:\\Users\\20192757\\Documents\\Year 4 (Master)\\Q3\\Capita selecta MIA\\LatestCodeRegistration\\CapitaSelectaCode-main\\Registration\\DataPreProcessed\\p128\\mr_bffe.mhd -p C:\\Users\\20192757\\Documents\\Year 4 (Master)\\Q3\\Capita selecta MIA\\LatestCodeRegistration\\CapitaSelectaCode-main\\Registration\\parameters\\Par0001translation.txt -p C:\\Users\\20192757\\Documents\\Year 4 (Master)\\Q3\\Capita selecta MIA\\LatestCodeRegistration\\CapitaSelectaCode-main\\Registration\\parameters\\Par0001affine.txt -p C:\\Users\\20192757\\Documents\\Year 4 (Master)\\Q3\\Capita selecta MIA\\LatestCodeRegistration\\CapitaSelectaCode-main\\Registration\\parameters\\Par0001bspline04.txt -out C:\\Users\\20192757\\Documents\\Year 4 (Master)\\Q3\\Capita selecta MIA\\LatestCodeRegistration\\CapitaSelectaCode-main\\Registration\\results\\23-04-03_09-21-52\\p144\\p128\n",
      "C:\\Users\\20192757\\Documents\\Year 4 (Master)\\Q3\\Capita selecta MIA\\elastix-5.0.0-win64\\elastix.exe -f C:\\Users\\20192757\\Documents\\Year 4 (Master)\\Q3\\Capita selecta MIA\\LatestCodeRegistration\\CapitaSelectaCode-main\\Registration\\DataPreProcessed\\p144\\mr_bffe.mhd -m C:\\Users\\20192757\\Documents\\Year 4 (Master)\\Q3\\Capita selecta MIA\\LatestCodeRegistration\\CapitaSelectaCode-main\\Registration\\DataPreProcessed\\p129\\mr_bffe.mhd -p C:\\Users\\20192757\\Documents\\Year 4 (Master)\\Q3\\Capita selecta MIA\\LatestCodeRegistration\\CapitaSelectaCode-main\\Registration\\parameters\\Par0001translation.txt -p C:\\Users\\20192757\\Documents\\Year 4 (Master)\\Q3\\Capita selecta MIA\\LatestCodeRegistration\\CapitaSelectaCode-main\\Registration\\parameters\\Par0001affine.txt -p C:\\Users\\20192757\\Documents\\Year 4 (Master)\\Q3\\Capita selecta MIA\\LatestCodeRegistration\\CapitaSelectaCode-main\\Registration\\parameters\\Par0001bspline04.txt -out C:\\Users\\20192757\\Documents\\Year 4 (Master)\\Q3\\Capita selecta MIA\\LatestCodeRegistration\\CapitaSelectaCode-main\\Registration\\results\\23-04-03_09-21-52\\p144\\p129\n",
      "C:\\Users\\20192757\\Documents\\Year 4 (Master)\\Q3\\Capita selecta MIA\\elastix-5.0.0-win64\\elastix.exe -f C:\\Users\\20192757\\Documents\\Year 4 (Master)\\Q3\\Capita selecta MIA\\LatestCodeRegistration\\CapitaSelectaCode-main\\Registration\\DataPreProcessed\\p144\\mr_bffe.mhd -m C:\\Users\\20192757\\Documents\\Year 4 (Master)\\Q3\\Capita selecta MIA\\LatestCodeRegistration\\CapitaSelectaCode-main\\Registration\\DataPreProcessed\\p133\\mr_bffe.mhd -p C:\\Users\\20192757\\Documents\\Year 4 (Master)\\Q3\\Capita selecta MIA\\LatestCodeRegistration\\CapitaSelectaCode-main\\Registration\\parameters\\Par0001translation.txt -p C:\\Users\\20192757\\Documents\\Year 4 (Master)\\Q3\\Capita selecta MIA\\LatestCodeRegistration\\CapitaSelectaCode-main\\Registration\\parameters\\Par0001affine.txt -p C:\\Users\\20192757\\Documents\\Year 4 (Master)\\Q3\\Capita selecta MIA\\LatestCodeRegistration\\CapitaSelectaCode-main\\Registration\\parameters\\Par0001bspline04.txt -out C:\\Users\\20192757\\Documents\\Year 4 (Master)\\Q3\\Capita selecta MIA\\LatestCodeRegistration\\CapitaSelectaCode-main\\Registration\\results\\23-04-03_09-21-52\\p144\\p133\n",
      "C:\\Users\\20192757\\Documents\\Year 4 (Master)\\Q3\\Capita selecta MIA\\elastix-5.0.0-win64\\elastix.exe -f C:\\Users\\20192757\\Documents\\Year 4 (Master)\\Q3\\Capita selecta MIA\\LatestCodeRegistration\\CapitaSelectaCode-main\\Registration\\DataPreProcessed\\p144\\mr_bffe.mhd -m C:\\Users\\20192757\\Documents\\Year 4 (Master)\\Q3\\Capita selecta MIA\\LatestCodeRegistration\\CapitaSelectaCode-main\\Registration\\DataPreProcessed\\p135\\mr_bffe.mhd -p C:\\Users\\20192757\\Documents\\Year 4 (Master)\\Q3\\Capita selecta MIA\\LatestCodeRegistration\\CapitaSelectaCode-main\\Registration\\parameters\\Par0001translation.txt -p C:\\Users\\20192757\\Documents\\Year 4 (Master)\\Q3\\Capita selecta MIA\\LatestCodeRegistration\\CapitaSelectaCode-main\\Registration\\parameters\\Par0001affine.txt -p C:\\Users\\20192757\\Documents\\Year 4 (Master)\\Q3\\Capita selecta MIA\\LatestCodeRegistration\\CapitaSelectaCode-main\\Registration\\parameters\\Par0001bspline04.txt -out C:\\Users\\20192757\\Documents\\Year 4 (Master)\\Q3\\Capita selecta MIA\\LatestCodeRegistration\\CapitaSelectaCode-main\\Registration\\results\\23-04-03_09-21-52\\p144\\p135\n"
     ]
    },
    {
     "name": "stderr",
     "output_type": "stream",
     "text": [
      "\r",
      " 80%|████████  | 4/5 [2:11:08<29:53, 1793.53s/it]  "
     ]
    },
    {
     "name": "stdout",
     "output_type": "stream",
     "text": [
      "C:\\Users\\20192757\\Documents\\Year 4 (Master)\\Q3\\Capita selecta MIA\\elastix-5.0.0-win64\\elastix.exe -f C:\\Users\\20192757\\Documents\\Year 4 (Master)\\Q3\\Capita selecta MIA\\LatestCodeRegistration\\CapitaSelectaCode-main\\Registration\\DataPreProcessed\\p147\\mr_bffe.mhd -m C:\\Users\\20192757\\Documents\\Year 4 (Master)\\Q3\\Capita selecta MIA\\LatestCodeRegistration\\CapitaSelectaCode-main\\Registration\\DataPreProcessed\\p102\\mr_bffe.mhd -p C:\\Users\\20192757\\Documents\\Year 4 (Master)\\Q3\\Capita selecta MIA\\LatestCodeRegistration\\CapitaSelectaCode-main\\Registration\\parameters\\Par0001translation.txt -p C:\\Users\\20192757\\Documents\\Year 4 (Master)\\Q3\\Capita selecta MIA\\LatestCodeRegistration\\CapitaSelectaCode-main\\Registration\\parameters\\Par0001affine.txt -p C:\\Users\\20192757\\Documents\\Year 4 (Master)\\Q3\\Capita selecta MIA\\LatestCodeRegistration\\CapitaSelectaCode-main\\Registration\\parameters\\Par0001bspline04.txt -out C:\\Users\\20192757\\Documents\\Year 4 (Master)\\Q3\\Capita selecta MIA\\LatestCodeRegistration\\CapitaSelectaCode-main\\Registration\\results\\23-04-03_09-21-52\\p147\\p102\n"
     ]
    }
   ],
   "source": [
    "model.run_registration()"
   ]
  },
  {
   "cell_type": "code",
   "execution_count": null,
   "metadata": {},
   "outputs": [],
   "source": [
    "model.threshold_staple = 0.95\n",
    "model.calculate_scores()"
   ]
  },
  {
   "cell_type": "code",
   "execution_count": 10,
   "metadata": {},
   "outputs": [
    {
     "name": "stdout",
     "output_type": "stream",
     "text": [
      "(86, 333, 271)\n"
     ]
    }
   ],
   "source": [
    "# Load image and segmentation of atlas patient / patients\n",
    "#atlas_im_path = os.path.join(atlas_path, 'mr_bffe.mhd')\n",
    "itk_image102 = sitk.ReadImage(\"results\\\\23-04-02_11-53-42\\\\p107\\\\Registration1.mhd\") #change to path were results are\n",
    "image_array102 = sitk.GetArrayViewFromImage(itk_image102)\n",
    "# Print the image dimensions\n",
    "print(image_array102.shape)"
   ]
  },
  {
   "cell_type": "code",
   "execution_count": null,
   "metadata": {},
   "outputs": [],
   "source": [
    "# matplotlib qt "
   ]
  },
  {
   "cell_type": "code",
   "execution_count": 19,
   "metadata": {},
   "outputs": [
    {
     "ename": "NameError",
     "evalue": "name 'image_array102' is not defined",
     "output_type": "error",
     "traceback": [
      "\u001b[1;31m---------------------------------------------------------------------------\u001b[0m",
      "\u001b[1;31mNameError\u001b[0m                                 Traceback (most recent call last)",
      "\u001b[1;32m~\\AppData\\Local\\Temp\\ipykernel_21120\\375419379.py\u001b[0m in \u001b[0;36m<module>\u001b[1;34m\u001b[0m\n\u001b[0;32m      1\u001b[0m \u001b[1;32mfrom\u001b[0m \u001b[0mIndexTracker\u001b[0m \u001b[1;32mimport\u001b[0m \u001b[0mIndexTracker\u001b[0m\u001b[1;33m\u001b[0m\u001b[1;33m\u001b[0m\u001b[0m\n\u001b[0;32m      2\u001b[0m \u001b[0mfig\u001b[0m\u001b[1;33m,\u001b[0m \u001b[0max\u001b[0m \u001b[1;33m=\u001b[0m \u001b[0mplt\u001b[0m\u001b[1;33m.\u001b[0m\u001b[0msubplots\u001b[0m\u001b[1;33m(\u001b[0m\u001b[1;36m1\u001b[0m\u001b[1;33m,\u001b[0m \u001b[1;36m2\u001b[0m\u001b[1;33m)\u001b[0m\u001b[1;33m\u001b[0m\u001b[1;33m\u001b[0m\u001b[0m\n\u001b[1;32m----> 3\u001b[1;33m \u001b[0mtracker1\u001b[0m \u001b[1;33m=\u001b[0m \u001b[0mIndexTracker\u001b[0m\u001b[1;33m(\u001b[0m\u001b[0max\u001b[0m\u001b[1;33m[\u001b[0m\u001b[1;36m0\u001b[0m\u001b[1;33m]\u001b[0m\u001b[1;33m,\u001b[0m \u001b[0mimage_array102\u001b[0m\u001b[1;33m)\u001b[0m\u001b[1;33m;\u001b[0m\u001b[1;33m\u001b[0m\u001b[1;33m\u001b[0m\u001b[0m\n\u001b[0m\u001b[0;32m      4\u001b[0m \u001b[0mfig\u001b[0m\u001b[1;33m.\u001b[0m\u001b[0mcanvas\u001b[0m\u001b[1;33m.\u001b[0m\u001b[0mmpl_connect\u001b[0m\u001b[1;33m(\u001b[0m\u001b[1;34m'scroll_event'\u001b[0m\u001b[1;33m,\u001b[0m \u001b[0mtracker1\u001b[0m\u001b[1;33m.\u001b[0m\u001b[0monscroll\u001b[0m\u001b[1;33m)\u001b[0m\u001b[1;33m;\u001b[0m\u001b[1;33m\u001b[0m\u001b[1;33m\u001b[0m\u001b[0m\n\u001b[0;32m      5\u001b[0m \u001b[1;33m\u001b[0m\u001b[0m\n",
      "\u001b[1;31mNameError\u001b[0m: name 'image_array102' is not defined"
     ]
    }
   ],
   "source": [
    "from IndexTracker import IndexTracker\n",
    "fig, ax = plt.subplots(1, 2)\n",
    "tracker1 = IndexTracker(ax[0], image_array102);\n",
    "fig.canvas.mpl_connect('scroll_event', tracker1.onscroll);\n",
    "\n",
    "plt.show()"
   ]
  },
  {
   "cell_type": "code",
   "execution_count": null,
   "metadata": {},
   "outputs": [],
   "source": []
  }
 ],
 "metadata": {
  "kernelspec": {
   "display_name": "Python 3 (ipykernel)",
   "language": "python",
   "name": "python3"
  },
  "language_info": {
   "codemirror_mode": {
    "name": "ipython",
    "version": 3
   },
   "file_extension": ".py",
   "mimetype": "text/x-python",
   "name": "python",
   "nbconvert_exporter": "python",
   "pygments_lexer": "ipython3",
   "version": "3.10.9"
  },
  "vscode": {
   "interpreter": {
    "hash": "e7ccb2a435b656723dafd2fb88eb02b6891256ab8b77d2cf3044cea9811453d0"
   }
  }
 },
 "nbformat": 4,
 "nbformat_minor": 2
}
